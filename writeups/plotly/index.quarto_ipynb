{
  "cells": [
    {
      "cell_type": "raw",
      "metadata": {},
      "source": [
        "---\n",
        "title: \"Interactive Plots in Quarto with Plotly\"\n",
        "date: last-modified\n",
        "categories:\n",
        "  - \"Extra Writeups\"\n",
        "format:\n",
        "  html:\n",
        "    df-print: kable\n",
        "    cache: false\n",
        "metadata-files: \n",
        "  - ../../_doc-meta.yml\n",
        "---"
      ],
      "id": "d8ed07e1"
    },
    {
      "cell_type": "markdown",
      "metadata": {},
      "source": [
        "::: {.callout-note title=\"The Ultra-Quick Summary\"}\n",
        "\n",
        "If your Plotly visualizations fail to display when you render your `.qmd` files, update your Plotly-importing code to also contain these two additional lines after the `import` statement:\n",
        "\n",
        "```python\n",
        "import plotly.express as px\n",
        "import plotly.io as pio\n",
        "pio.renderers.default = \"notebook\"\n",
        "```\n",
        "\n",
        ":::\n",
        "\n",
        "In the <a href='../clustering/DSAN5000_Clustering_Lab.html' targetr='_blank'>writeup on clustering</a> we used Plotly to create visualizations of which observations had been placed into which clusters, and in the <a href='../decision-trees/DSAN5000_Decision_Trees.html' target='_blank'>writeup on decision Trees</a> we again used Plotly to visualize how decision trees work to \"chop\" the feature space into optimal subregions (\"optimal\" in the sense of reducing uncertainty!).\n",
        "\n",
        "But, to my horror, I realized that Plotly does not work nicely with Quarto by default, so that when you actually **render** Quarto documents and try to publish them online, the blocks containing Plotly visualization just show an error message 😰\n",
        "\n",
        "There are a lot of difficult ways to fix this, it turns out, but I've just found a simple approach which prompted me to make this writeup! The approach works as follows:\n",
        "\n",
        "**Originally**, in the code I was using to generate these visualizations, I was just importing Plotly as follows:\n",
        "\n",
        "```python\n",
        "import plotly.express as px\n",
        "```\n",
        "\n",
        "But, if you just **add the following two lines** after the import statement, it tells Plotly to set up the plots specifically to enable **interactive visualizations within notebooks**:\n",
        "\n",
        "```python\n",
        "import plotly.io as pio\n",
        "pio.renderers.default = \"notebook\"\n",
        "```\n",
        "\n",
        "In my case this successfully fixed the issue, so that in the two writeups linked above you should be able to see and interact with the Plotly-generated plots. But, let me know if you have any issues trying to get your interactive plots working! It seems that Quarto is regularly updating their code to make it more compatible with Plotly, so that in the future this fix may not be necessary.\n",
        "\n",
        "Here is a quick interactive plot of random data, to make sure that this fix still works :)\n",
        "\n",
        "*(Here I generate $N = 100$ random points, where each one also has a randomly-assigned **cluster** $c \\in \\{a, b, c\\}$, which is used for the color of each point, plus a randomly assigned **label** $\\ell \\in \\{\\text{low}, \\text{medium}, \\text{high}\\}$ which you should see in the tooltips which appear when you hover your mouse over the points)*\n"
      ],
      "id": "4431f1dd"
    },
    {
      "cell_type": "code",
      "metadata": {},
      "source": [
        "#| label: plotly-render-test\n",
        "import pandas as pd\n",
        "import numpy as np\n",
        "rng = np.random.default_rng(seed = 5000)\n",
        "import plotly.express as px\n",
        "import plotly.io as pio\n",
        "pio.renderers.default = \"notebook\"\n",
        "N = 100\n",
        "x_vals = rng.uniform(low=0, high=1, size=N)\n",
        "y_vals = rng.uniform(low=0, high=1, size=N)\n",
        "cluster_vals = rng.choice(['a','b','c'], size=N)\n",
        "label_vals = rng.choice(['low','medium','high'], size=N)\n",
        "data_df = pd.DataFrame({'x': x_vals, 'y': y_vals, 'cluster': cluster_vals, 'label': label_vals})\n",
        "px.scatter(\n",
        "    data_df, x='x', y='y', color='cluster',\n",
        "    hover_data=['label'],\n",
        "    template='simple_white'\n",
        ")"
      ],
      "id": "plotly-render-test",
      "execution_count": null,
      "outputs": []
    }
  ],
  "metadata": {
    "kernelspec": {
      "display_name": "Python 3",
      "language": "python",
      "name": "python3"
    }
  },
  "nbformat": 4,
  "nbformat_minor": 5
}