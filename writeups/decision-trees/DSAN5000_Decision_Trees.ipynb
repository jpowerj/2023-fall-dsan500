{
  "cells": [
    {
      "cell_type": "raw",
      "metadata": {
        "id": "-NKpuUqziXxq"
      },
      "source": [
        "---\n",
        "title: \"Decision Trees for Musical Genre Classification\"\n",
        "subtitle: \"*DSAN5000: Data Science and Analytics*\"\n",
        "author: \"Jeff Jacobs\"\n",
        "institute: \"<a href='mailto:jj1088@georgetown.edu' target='_blank'>jj1088@georgetown.edu</a>\"\n",
        "format: html\n",
        "date: last-modified\n",
        "categories:\n",
        "  - \"Extra Writeups\"\n",
        "---"
      ]
    },
    {
      "cell_type": "markdown",
      "metadata": {},
      "source": [
        "::: {.callout-note title=\"Colab Link\"}\n",
        "\n",
        "<center>\n",
        "\n",
        "[![](images/colab-badge.svg)<br>Click here to **open in Colab**](https://colab.research.google.com/drive/1D53LJxDkRYedqqM-twlww6Lwaspv4gf0){target=\"_blank\"}\n",
        "\n",
        "</center>\n",
        "\n",
        ":::"
      ]
    },
    {
      "cell_type": "markdown",
      "metadata": {
        "id": "eUpKngtKdxc9"
      },
      "source": [
        "# Decision Trees for Musical Genre Classification"
      ]
    },
    {
      "cell_type": "markdown",
      "metadata": {
        "id": "vToZME3hePGP"
      },
      "source": [
        "What musical characteristics distinguish Hip Hop songs from Jazz songs? EDM songs from Ambient songs?\n",
        "\n",
        "Arguments over these types of questions can occupy fans of music (especially chronically-overthinking ones like myself) for hours at a time, but in this lab we'll take a different approach: as a step towards **adjudicating** these arguments, we'll ask a **computer** to discover the relationship between individual songs and their genres, from two different perspectives represented by two different questions we can ask:\n",
        "\n",
        "* **Question 1**: Which features of a song are **most predictive** of the song's genre?\n",
        "* **Question 2**: What line(s) could we draw to **segment** the space of all songs into subspaces representing Jazz, Hip Hop, etc.? For example, are there particular ranges of **tempo**, **song duration**, or **loudness** which most Jazz songs adopt?\n",
        "\n",
        "While **Question 1** represents a task you could already approach using methods we've learned in class to this point (specifically, the *Feature Selction* methods we've discussed), **Question 2** is a new kind of task: a task for which **Decision Trees** (**DTs**) are particularly helpful!\n",
        "\n",
        "The reason DTs are so helpful for answering **Question 2** is that, while other methods like **Naïve Bayes** or **Neural Networks** can usually achieve greater accuracy on classification tasks than DTs (and can be more helpful for answering **Question 1** specifically), DTs answer **both** of our questions simultaneously: given a feature matrix $\\mathbf{X}$ and a label vector $\\mathbf{y}$, they tell us\n",
        "\n",
        "1. **Which features** in $\\mathbf{X}$ are most important for predicting the labels in $\\mathbf{y}$, but also\n",
        "2. Precisely where we should **\"cut\" the feature values in $\\mathbf{X}$** if we want to split the feature space into regions which distinguish (say) points with **positive** labels from points with **negative** labels"
      ]
    },
    {
      "cell_type": "markdown",
      "metadata": {
        "id": "gF3iYUJgjDzG"
      },
      "source": [
        "In last week's slides, for example, I introduced a scenario where we found ourselves dropped somewhere on the planet at some time of year, and we wanted to know whether or this place and time had **good skiing**, on the basis of the following dataset:\n",
        "\n",
        "![](https://jjacobs.me/dsan5000/463a01339cf0f456ba54a1849df50d1a22c247e3/w12/index_files/figure-revealjs/ski-plot-binary-1.png)"
      ]
    },
    {
      "cell_type": "markdown",
      "metadata": {
        "id": "pApXRXNqk5FM"
      },
      "source": [
        "For this data, while methods we already know like Naïve Bayes or Support Vector Machines may be able to **classify the points with high accuracy**, these methods do **not** give us an interpretable set of **decision boundaries**, telling us how we could \"chop\" this Month-Latitude space up into sub-regions to separate good-skiing regions from bad-skiing regions[^svm].\n",
        "\n",
        "[^svm]: The Support Vector Machine algorithm comes close, but this method learns a **separating hyperplane** between the two classes, i.e., a \"line\" in some high-dimensional space, which is therefore less easily-interpretable than the 1-dimensional cutpoints that DTs learn.]"
      ]
    },
    {
      "cell_type": "markdown",
      "metadata": {
        "id": "QZ4dd4cOmoVG"
      },
      "source": [
        "In other words, what we lose in terms of the **efficiency** or **accuracy** of DTs relative to other algorithms, we gain in terms of **interpretability**: while a Support Vector Machine approach may find that computing the value\n",
        "\n",
        "$$\n",
        "f_i^* = \\frac{\\text{Tempo}_i^7 + \\pi \\cdot \\sqrt{\\text{SongDuration}_i}}{\\lceil e^{\\text{Danceability}_i} + \\sqrt{2}\\rceil !}\n",
        "$$\n",
        "\n",
        "is extremely predictive of the genre of a song, this does not help us much as humans in terms of **understanding** what it is in a song that distinguishes its genre.\n",
        "\n",
        "DTs help us here, therefore, in that they are **restricted** to learning **trees** which are determined solely by a collection of pairs $(f,s)$, where $f$ is a feature and $s$ is a cutpoint, at each level of the tree. Thus, continuing the song-classification example, a one-level DT would only be allowed to learn a single rule $(f,s)$, which would be interpretable as:\n",
        "\n",
        "> If you can only make a single \"cut\" in the feature space, you should cut it into a subregion $R_1$ containing all points $X_i$ for which feature $f$ is less than $s$ ($X_{i,f} < s$), and a subregion $R_2$ containing all points where feature $f$ is greater than $s$ ($X_{i,f} \\geq s$)\n",
        "\n",
        "So that, using the particular features we have for songs, this could translate to:\n",
        "\n",
        "> The single feature which is most predictive of a song's genre is $\\text{Tempo}$: if a song's tempo is greater than 120bpm, you should classify it as EDM, while if the song's tempo is less than 120bpm you should classify it as Jazz."
      ]
    },
    {
      "cell_type": "markdown",
      "metadata": {
        "id": "d-ZwORSqkEQA"
      },
      "source": [
        "## (1) Data Scraping"
      ]
    },
    {
      "cell_type": "markdown",
      "metadata": {
        "id": "dieJqQ4oqH7O"
      },
      "source": [
        "For the actual dataset, we're going to use Spotify's Web API, which is very cool in general but specifically cool because it allows us to access a bunch of <a href='https://developer.spotify.com/documentation/web-api/reference/get-audio-features' target='_blank'>Spotify-generated **\"audio features\"**</a> for each track, consisting of the following information about the track:\n",
        "\n",
        "| Feature | Description |\n",
        "| - | - |\n",
        "| `acousticness` | A confidence measure from 0.0 to 1.0 of whether the track is acoustic. 1.0 represents high confidence the track is acoustic. |\n",
        "| `danceability` | Danceability describes how suitable a track is for dancing based on a combination of musical elements including tempo, rhythm stability, beat strength, and overall regularity. A value of 0.0 is least danceable and 1.0 is most danceable. |\n",
        "| `duration_ms` | The duration of the track in milliseconds. |\n",
        "| `energy` | Energy is a measure from 0.0 to 1.0 and represents a perceptual measure of intensity and activity. Typically, energetic tracks feel fast, loud, and noisy. For example, death metal has high energy, while a Bach prelude scores low on the scale. Perceptual features contributing to this attribute include dynamic range, perceived loudness, timbre, onset rate, and general entropy. |\n",
        "| `instrumentalness` | Predicts whether a track contains no vocals. \"Ooh\" and \"aah\" sounds are treated as instrumental in this context. Rap or spoken word tracks are clearly \"vocal\". The closer the instrumentalness value is to 1.0, the greater likelihood the track contains no vocal content. Values above 0.5 are intended to represent instrumental tracks, but confidence is higher as the value approaches 1.0. |\n",
        "| `key` | The key the track is in. Integers map to pitches using standard Pitch Class notation. E.g. 0 = C, 1 = C♯/D♭, 2 = D, and so on. If no key was detected, the value is -1. |\n",
        "| `liveness` | Detects the presence of an audience in the recording. Higher liveness values represent an increased probability that the track was performed live. A value above 0.8 provides strong likelihood that the track is live. |\n",
        "| `loudness` | The overall loudness of a track in decibels (dB). Loudness values are averaged across the entire track and are useful for comparing relative loudness of tracks. Loudness is the quality of a sound that is the primary psychological correlate of physical strength (amplitude). Values typically range between -60 and 0 db. |\n",
        "| `mode` | Mode indicates the modality (major or minor) of a track, the type of scale from which its melodic content is derived. Major is represented by 1 and minor is 0. |\n",
        "| `speechiness` | Speechiness detects the presence of spoken words in a track. The more exclusively speech-like the recording (e.g. talk show, audio book, poetry), the closer to 1.0 the attribute value. Values above 0.66 describe tracks that are probably made entirely of spoken words. Values between 0.33 and 0.66 describe tracks that may contain both music and speech, either in sections or layered, including such cases as rap music. Values below 0.33 most likely represent music and other non-speech-like tracks. |\n",
        "| `tempo` | The overall estimated tempo of a track in beats per minute (BPM). In musical terminology, tempo is the speed or pace of a given piece and derives directly from the average beat duration. |\n",
        "| `time_signature` | An estimated time signature. The time signature (meter) is a notational convention to specify how many beats are in each bar (or measure). The time signature ranges from 3 to 7 indicating time signatures of \"3/4\", to \"7/4\". |\n",
        "| `valence` | A measure from 0.0 to 1.0 describing the musical positiveness conveyed by a track. Tracks with high valence sound more positive (e.g. happy, cheerful, euphoric), while tracks with low valence sound more negative (e.g. sad, depressed, angry). |"
      ]
    },
    {
      "cell_type": "markdown",
      "metadata": {
        "id": "wNzoArwvd155"
      },
      "source": [
        "Here we need Spotify API keys, which we load:\n",
        "\n",
        "* (In Colab) using Colab's new Secrets functionality (accessible in the sidebar on the left, by clicking the key icon, above the folder icon)\n",
        "* (Otherwise) using a `.env` file in the base directory of our project (which we make sure to **not** commit to GitHub!)"
      ]
    },
    {
      "cell_type": "code",
      "execution_count": 1,
      "metadata": {
        "id": "3lziNNWbdIfa"
      },
      "outputs": [],
      "source": [
        "try:\n",
        "  import google.colab\n",
        "  IN_COLAB = True\n",
        "except:\n",
        "  IN_COLAB = False\n",
        "if IN_COLAB:\n",
        "  from google.colab import userdata\n",
        "  client_id = userdata.get('SPOTIFY_CLIENT_ID')\n",
        "  secret_id = userdata.get('SPOTIFY_SECRET_ID')\n",
        "  redirect_url = userdata.get('SPOTIFY_REDIRECT_URL')\n",
        "else:\n",
        "  import dotenv\n",
        "  import os\n",
        "  dotenv.load_dotenv(override=True)\n",
        "  client_id = os.getenv('SPOTIFY_CLIENT_ID')\n",
        "  secret_id = os.getenv('SPOTIFY_CLIENT_SECRET')\n",
        "  redirect_uri = os.getenv('SPOTIFY_REDIRECT_URI')"
      ]
    },
    {
      "cell_type": "code",
      "execution_count": 2,
      "metadata": {
        "id": "bwnpVNYqdXfD"
      },
      "outputs": [],
      "source": [
        "import requests\n",
        "import pandas as pd\n",
        "import numpy as np"
      ]
    },
    {
      "cell_type": "markdown",
      "metadata": {
        "id": "egX3HUaGeMOx"
      },
      "source": [
        "Here we create a **session**, since we're going to want to send an authorization header with every request we make to the Spotify API. Using a session object allows us to set the headers just once, rather than having to provide a `headers` argument to every `requests` call."
      ]
    },
    {
      "cell_type": "code",
      "execution_count": 3,
      "metadata": {
        "id": "dxRUzp7_eIBG"
      },
      "outputs": [],
      "source": [
        "my_session = requests.session()"
      ]
    },
    {
      "cell_type": "markdown",
      "metadata": {
        "id": "AKia_D4ceeNF"
      },
      "source": [
        "Here we request an **access token**, which we will be able to use to make calls to the Spotify API for one hour (at which point we'll have to request another access token, by re-running this code)"
      ]
    },
    {
      "cell_type": "code",
      "execution_count": 4,
      "metadata": {
        "id": "cqQmcZMVeKMy"
      },
      "outputs": [],
      "source": [
        "token_request_url = \"https://accounts.spotify.com/api/token\"\n",
        "tr_headers = {\n",
        "    'Content-Type': 'application/x-www-form-urlencoded'\n",
        "}\n",
        "tr_data = {\n",
        "    'grant_type': 'client_credentials',\n",
        "    'client_id': client_id,\n",
        "    'client_secret': secret_id\n",
        "}\n",
        "response = my_session.post(token_request_url, headers=tr_headers, data=tr_data)"
      ]
    },
    {
      "cell_type": "code",
      "execution_count": 5,
      "metadata": {
        "colab": {
          "base_uri": "https://localhost:8080/",
          "height": 36
        },
        "id": "RVeyOCUVedW1",
        "outputId": "655f3b91-7e6a-4402-d23f-0024e92b817c"
      },
      "outputs": [
        {
          "data": {
            "text/plain": [
              "'BQCdGe1KQxEr1O81AQecb2b1feic_oyxVAqgZBemtInfYqTIuTJT_S96ks40VFxYcBWx6_83pLTA232N0Q0Xi322c92-r5FYUhGDR1gLRAN3PwTeBXk'"
            ]
          },
          "execution_count": 5,
          "metadata": {},
          "output_type": "execute_result"
        }
      ],
      "source": [
        "response_json = response.json()\n",
        "my_token = response_json['access_token']\n",
        "my_token"
      ]
    },
    {
      "cell_type": "markdown",
      "metadata": {
        "id": "o6ExCxkfeoqp"
      },
      "source": [
        "Now we can include this access token in our session's header settings, so that from now on all calls to the Spotify API will include this token as our authorization:"
      ]
    },
    {
      "cell_type": "code",
      "execution_count": 6,
      "metadata": {
        "id": "r-WDu65fempF"
      },
      "outputs": [],
      "source": [
        "session_header = {\n",
        "    'Authorization': f'Bearer {my_token}'\n",
        "}\n",
        "my_session.headers.update(session_header)"
      ]
    },
    {
      "cell_type": "code",
      "execution_count": 7,
      "metadata": {
        "id": "d9P2LRfLevyh"
      },
      "outputs": [],
      "source": [
        "genre_map = {\n",
        "    # https://musicalyst.com/genre/jazz\n",
        "    'Jazz': [\n",
        "        'Chet Baker', 'Ella Fitzgerald', 'Stan Getz', 'Billie Holiday',\n",
        "        'Miles Davis', 'John Coltrane', 'Bill Evans', 'Duke Ellington',\n",
        "        'Herbie Hancock', 'Bill Evans Trio', 'Charles Mingus', 'Wes Montgomery'\n",
        "    ],\n",
        "    'Hip Hop': [\n",
        "        'Drake', 'Kanye West', 'Kendrick Lamar', 'Tyler, The Creator',\n",
        "        'Metro Boomin', 'Travis Scott', 'Mac Miller', 'J. Cole',\n",
        "        'Eminem', 'Lil Uzi Vert', '21 Savage', 'Future'\n",
        "    ],\n",
        "    'Rock': [\n",
        "        'Arctic Monkeys', 'Radiohead', 'Deftones', 'Tame Impala',\n",
        "        'The Smiths', 'Nirvana', 'Queen', 'The Beatles',\n",
        "        'Paramore', 'The 1975', 'Gorillaz', 'My Chemical Romance'\n",
        "    ],\n",
        "    'EDM': [\n",
        "        'Calvin Harris', 'David Guetta', 'Avicii', 'Fred again..',\n",
        "        'Tiësto', 'Marshmello', 'Skrillex', 'Kygo',\n",
        "        'ILLENIUM', 'Martin Garrix', 'Flume', 'Zedd'\n",
        "    ],\n",
        "    'R&B': [\n",
        "        'SZA', 'Beyoncé', 'Brent Faiyaz', 'Michael Jackson',\n",
        "        'Summer Walker', 'Tory Lanez', 'Bryson Tiller', 'PARTYNEXTDOOR',\n",
        "        'Chris Brown', 'Miguel', 'Giveon', 'Jhené Aiko'\n",
        "    ],\n",
        "    'Country': [\n",
        "        'Luke Combs', 'Luke Bryan', 'Zac Brown Band', 'Jason Aldean',\n",
        "        'Jon Pardi', 'Thomas Rhett', 'Florida Georgia Line', 'Kenny Chesney',\n",
        "        'Carrie Underwood', 'George Strait', 'Kelsea Ballerini', 'Sam Hunt'\n",
        "    ],\n",
        "    'Ambient': [\n",
        "        'Aphex Twin', 'Grouper', 'Brian Eno', 'Tim Hecker',\n",
        "        'Oneohtrix Point Never', 'Harold Budd', 'William Basinski', 'Chihei Hatakeyama',\n",
        "        'Hiroshi Yoshimura', 'Marconi Union', 'Susumu Yokota', 'Stars Of The Lid'\n",
        "    ]\n",
        "}"
      ]
    },
    {
      "cell_type": "code",
      "execution_count": 8,
      "metadata": {
        "colab": {
          "base_uri": "https://localhost:8080/",
          "height": 425
        },
        "id": "RC65TCmxexxe",
        "outputId": "9d85805d-9531-4c0a-c5de-aaa38ba99bd1"
      },
      "outputs": [
        {
          "data": {
            "text/html": [
              "<div>\n",
              "<style scoped>\n",
              "    .dataframe tbody tr th:only-of-type {\n",
              "        vertical-align: middle;\n",
              "    }\n",
              "\n",
              "    .dataframe tbody tr th {\n",
              "        vertical-align: top;\n",
              "    }\n",
              "\n",
              "    .dataframe thead th {\n",
              "        text-align: right;\n",
              "    }\n",
              "</style>\n",
              "<table border=\"1\" class=\"dataframe\">\n",
              "  <thead>\n",
              "    <tr style=\"text-align: right;\">\n",
              "      <th></th>\n",
              "      <th>artist</th>\n",
              "      <th>genre</th>\n",
              "    </tr>\n",
              "  </thead>\n",
              "  <tbody>\n",
              "    <tr>\n",
              "      <th>0</th>\n",
              "      <td>Chet Baker</td>\n",
              "      <td>Jazz</td>\n",
              "    </tr>\n",
              "    <tr>\n",
              "      <th>1</th>\n",
              "      <td>Ella Fitzgerald</td>\n",
              "      <td>Jazz</td>\n",
              "    </tr>\n",
              "    <tr>\n",
              "      <th>2</th>\n",
              "      <td>Stan Getz</td>\n",
              "      <td>Jazz</td>\n",
              "    </tr>\n",
              "    <tr>\n",
              "      <th>3</th>\n",
              "      <td>Billie Holiday</td>\n",
              "      <td>Jazz</td>\n",
              "    </tr>\n",
              "    <tr>\n",
              "      <th>4</th>\n",
              "      <td>Miles Davis</td>\n",
              "      <td>Jazz</td>\n",
              "    </tr>\n",
              "    <tr>\n",
              "      <th>...</th>\n",
              "      <td>...</td>\n",
              "      <td>...</td>\n",
              "    </tr>\n",
              "    <tr>\n",
              "      <th>79</th>\n",
              "      <td>Chihei Hatakeyama</td>\n",
              "      <td>Ambient</td>\n",
              "    </tr>\n",
              "    <tr>\n",
              "      <th>80</th>\n",
              "      <td>Hiroshi Yoshimura</td>\n",
              "      <td>Ambient</td>\n",
              "    </tr>\n",
              "    <tr>\n",
              "      <th>81</th>\n",
              "      <td>Marconi Union</td>\n",
              "      <td>Ambient</td>\n",
              "    </tr>\n",
              "    <tr>\n",
              "      <th>82</th>\n",
              "      <td>Susumu Yokota</td>\n",
              "      <td>Ambient</td>\n",
              "    </tr>\n",
              "    <tr>\n",
              "      <th>83</th>\n",
              "      <td>Stars Of The Lid</td>\n",
              "      <td>Ambient</td>\n",
              "    </tr>\n",
              "  </tbody>\n",
              "</table>\n",
              "<p>84 rows × 2 columns</p>\n",
              "</div>"
            ],
            "text/plain": [
              "               artist    genre\n",
              "0          Chet Baker     Jazz\n",
              "1     Ella Fitzgerald     Jazz\n",
              "2           Stan Getz     Jazz\n",
              "3      Billie Holiday     Jazz\n",
              "4         Miles Davis     Jazz\n",
              "..                ...      ...\n",
              "79  Chihei Hatakeyama  Ambient\n",
              "80  Hiroshi Yoshimura  Ambient\n",
              "81      Marconi Union  Ambient\n",
              "82      Susumu Yokota  Ambient\n",
              "83   Stars Of The Lid  Ambient\n",
              "\n",
              "[84 rows x 2 columns]"
            ]
          },
          "execution_count": 8,
          "metadata": {},
          "output_type": "execute_result"
        }
      ],
      "source": [
        "data_rows = []\n",
        "for cur_genre, artist_list in genre_map.items():\n",
        "    for cur_artist in artist_list:\n",
        "        cur_data = {\n",
        "            'artist': cur_artist,\n",
        "            'genre': cur_genre\n",
        "        }\n",
        "        data_rows.append(cur_data)\n",
        "artist_df = pd.DataFrame(data_rows)\n",
        "artist_df"
      ]
    },
    {
      "cell_type": "code",
      "execution_count": 9,
      "metadata": {
        "id": "W_3SPpvnezJY"
      },
      "outputs": [],
      "source": [
        "# Get spotify id for each artist\n",
        "artist_search_template = \"https://api.spotify.com/v1/search?q={query}&type=artist\"\n",
        "def get_artist_id(artist_name):\n",
        "    artist_search_url = artist_search_template.format(query=artist_name)\n",
        "    artist_search_response = my_session.get(artist_search_url)\n",
        "    artist_response_json = artist_search_response.json()\n",
        "    response_artists = artist_response_json['artists']\n",
        "    #response_artists.keys()\n",
        "    artist_id = response_artists['items'][0]['id']\n",
        "    return artist_id\n",
        "artist_df['artist_id'] = artist_df['artist'].apply(get_artist_id)"
      ]
    },
    {
      "cell_type": "markdown",
      "metadata": {
        "id": "kmA_gqjee8Cl"
      },
      "source": [
        "And save this information to a `.csv` file, so we don't have to make redundant API calls:"
      ]
    },
    {
      "cell_type": "code",
      "execution_count": 10,
      "metadata": {
        "id": "JsQDCqOce5r_"
      },
      "outputs": [],
      "source": [
        "artist_df.to_csv(\"artist_ids.csv\", index=False)"
      ]
    },
    {
      "cell_type": "code",
      "execution_count": 11,
      "metadata": {
        "colab": {
          "base_uri": "https://localhost:8080/",
          "height": 207
        },
        "id": "Yn4HZPQRfF9a",
        "outputId": "86f0f37d-b248-4871-94d2-0f2959e7e0c5"
      },
      "outputs": [
        {
          "data": {
            "text/html": [
              "<div>\n",
              "<style scoped>\n",
              "    .dataframe tbody tr th:only-of-type {\n",
              "        vertical-align: middle;\n",
              "    }\n",
              "\n",
              "    .dataframe tbody tr th {\n",
              "        vertical-align: top;\n",
              "    }\n",
              "\n",
              "    .dataframe thead th {\n",
              "        text-align: right;\n",
              "    }\n",
              "</style>\n",
              "<table border=\"1\" class=\"dataframe\">\n",
              "  <thead>\n",
              "    <tr style=\"text-align: right;\">\n",
              "      <th></th>\n",
              "      <th>artist</th>\n",
              "      <th>genre</th>\n",
              "      <th>artist_id</th>\n",
              "    </tr>\n",
              "  </thead>\n",
              "  <tbody>\n",
              "    <tr>\n",
              "      <th>0</th>\n",
              "      <td>Chet Baker</td>\n",
              "      <td>Jazz</td>\n",
              "      <td>3rxeQlsv0Sc2nyYaZ5W71T</td>\n",
              "    </tr>\n",
              "    <tr>\n",
              "      <th>1</th>\n",
              "      <td>Ella Fitzgerald</td>\n",
              "      <td>Jazz</td>\n",
              "      <td>5V0MlUE1Bft0mbLlND7FJz</td>\n",
              "    </tr>\n",
              "    <tr>\n",
              "      <th>2</th>\n",
              "      <td>Stan Getz</td>\n",
              "      <td>Jazz</td>\n",
              "      <td>0FMucZsEnCxs5pqBjHjIc8</td>\n",
              "    </tr>\n",
              "    <tr>\n",
              "      <th>3</th>\n",
              "      <td>Billie Holiday</td>\n",
              "      <td>Jazz</td>\n",
              "      <td>1YzCsTRb22dQkh9lghPIrp</td>\n",
              "    </tr>\n",
              "    <tr>\n",
              "      <th>4</th>\n",
              "      <td>Miles Davis</td>\n",
              "      <td>Jazz</td>\n",
              "      <td>0kbYTNQb4Pb1rPbbaF0pT4</td>\n",
              "    </tr>\n",
              "  </tbody>\n",
              "</table>\n",
              "</div>"
            ],
            "text/plain": [
              "            artist genre               artist_id\n",
              "0       Chet Baker  Jazz  3rxeQlsv0Sc2nyYaZ5W71T\n",
              "1  Ella Fitzgerald  Jazz  5V0MlUE1Bft0mbLlND7FJz\n",
              "2        Stan Getz  Jazz  0FMucZsEnCxs5pqBjHjIc8\n",
              "3   Billie Holiday  Jazz  1YzCsTRb22dQkh9lghPIrp\n",
              "4      Miles Davis  Jazz  0kbYTNQb4Pb1rPbbaF0pT4"
            ]
          },
          "execution_count": 11,
          "metadata": {},
          "output_type": "execute_result"
        }
      ],
      "source": [
        "artist_df.head()"
      ]
    },
    {
      "cell_type": "markdown",
      "metadata": {
        "id": "wPENB1IKfTOg"
      },
      "source": [
        "Now we can request the most popular songs for each artist. To see how this works, first we request the most popular songs for the first artist in our DataFrame, Chet Baker:"
      ]
    },
    {
      "cell_type": "code",
      "execution_count": 12,
      "metadata": {
        "id": "_c0umbVSfCek"
      },
      "outputs": [],
      "source": [
        "first_artist_id = artist_df.iloc[0]['artist_id']\n",
        "artist_api_template = 'https://api.spotify.com/v1/artists/{artist_id}/top-tracks?market=US'\n",
        "artist_api_url = artist_api_template.format(artist_id = first_artist_id)\n",
        "response = my_session.get(artist_api_url)\n",
        "response_json = response.json()"
      ]
    },
    {
      "cell_type": "code",
      "execution_count": 13,
      "metadata": {
        "colab": {
          "base_uri": "https://localhost:8080/"
        },
        "id": "7wICEi5Rfels",
        "outputId": "a25700af-96d2-4a16-b16f-fa4b4ad2f76c"
      },
      "outputs": [
        {
          "data": {
            "text/plain": [
              "10"
            ]
          },
          "execution_count": 13,
          "metadata": {},
          "output_type": "execute_result"
        }
      ],
      "source": [
        "response_tracks = response_json['tracks']\n",
        "len(response_tracks)"
      ]
    },
    {
      "cell_type": "code",
      "execution_count": 14,
      "metadata": {
        "colab": {
          "base_uri": "https://localhost:8080/"
        },
        "id": "mjjBBEr8p-CJ",
        "outputId": "9d0309ab-3df5-4694-f13e-f90ed3bbb793"
      },
      "outputs": [
        {
          "data": {
            "text/plain": [
              "[{'album': {'album_type': 'album',\n",
              "   'artists': [{'external_urls': {'spotify': 'https://open.spotify.com/artist/3rxeQlsv0Sc2nyYaZ5W71T'},\n",
              "     'href': 'https://api.spotify.com/v1/artists/3rxeQlsv0Sc2nyYaZ5W71T',\n",
              "     'id': '3rxeQlsv0Sc2nyYaZ5W71T',\n",
              "     'name': 'Chet Baker',\n",
              "     'type': 'artist',\n",
              "     'uri': 'spotify:artist:3rxeQlsv0Sc2nyYaZ5W71T'}],\n",
              "   'external_urls': {'spotify': 'https://open.spotify.com/album/5JJ779nrbHx0KB2lBrMMa4'},\n",
              "   'href': 'https://api.spotify.com/v1/albums/5JJ779nrbHx0KB2lBrMMa4',\n",
              "   'id': '5JJ779nrbHx0KB2lBrMMa4',\n",
              "   'images': [{'height': 640,\n",
              "     'url': 'https://i.scdn.co/image/ab67616d0000b273bcaf6f097b310e20504f2de0',\n",
              "     'width': 640},\n",
              "    {'height': 300,\n",
              "     'url': 'https://i.scdn.co/image/ab67616d00001e02bcaf6f097b310e20504f2de0',\n",
              "     'width': 300},\n",
              "    {'height': 64,\n",
              "     'url': 'https://i.scdn.co/image/ab67616d00004851bcaf6f097b310e20504f2de0',\n",
              "     'width': 64}],\n",
              "   'is_playable': True,\n",
              "   'name': 'Chet Baker Sings',\n",
              "   'release_date': '1956',\n",
              "   'release_date_precision': 'year',\n",
              "   'total_tracks': 14,\n",
              "   'type': 'album',\n",
              "   'uri': 'spotify:album:5JJ779nrbHx0KB2lBrMMa4'},\n",
              "  'artists': [{'external_urls': {'spotify': 'https://open.spotify.com/artist/3rxeQlsv0Sc2nyYaZ5W71T'},\n",
              "    'href': 'https://api.spotify.com/v1/artists/3rxeQlsv0Sc2nyYaZ5W71T',\n",
              "    'id': '3rxeQlsv0Sc2nyYaZ5W71T',\n",
              "    'name': 'Chet Baker',\n",
              "    'type': 'artist',\n",
              "    'uri': 'spotify:artist:3rxeQlsv0Sc2nyYaZ5W71T'}],\n",
              "  'disc_number': 1,\n",
              "  'duration_ms': 201440,\n",
              "  'explicit': False,\n",
              "  'external_ids': {'isrc': 'USBN28900070'},\n",
              "  'external_urls': {'spotify': 'https://open.spotify.com/track/0F845nujLVqCb0XMZCh5Pc'},\n",
              "  'href': 'https://api.spotify.com/v1/tracks/0F845nujLVqCb0XMZCh5Pc',\n",
              "  'id': '0F845nujLVqCb0XMZCh5Pc',\n",
              "  'is_local': False,\n",
              "  'is_playable': True,\n",
              "  'name': 'I Fall In Love Too Easily',\n",
              "  'popularity': 69,\n",
              "  'preview_url': None,\n",
              "  'track_number': 13,\n",
              "  'type': 'track',\n",
              "  'uri': 'spotify:track:0F845nujLVqCb0XMZCh5Pc'},\n",
              " {'album': {'album_type': 'album',\n",
              "   'artists': [{'external_urls': {'spotify': 'https://open.spotify.com/artist/3rxeQlsv0Sc2nyYaZ5W71T'},\n",
              "     'href': 'https://api.spotify.com/v1/artists/3rxeQlsv0Sc2nyYaZ5W71T',\n",
              "     'id': '3rxeQlsv0Sc2nyYaZ5W71T',\n",
              "     'name': 'Chet Baker',\n",
              "     'type': 'artist',\n",
              "     'uri': 'spotify:artist:3rxeQlsv0Sc2nyYaZ5W71T'}],\n",
              "   'external_urls': {'spotify': 'https://open.spotify.com/album/5JJ779nrbHx0KB2lBrMMa4'},\n",
              "   'href': 'https://api.spotify.com/v1/albums/5JJ779nrbHx0KB2lBrMMa4',\n",
              "   'id': '5JJ779nrbHx0KB2lBrMMa4',\n",
              "   'images': [{'height': 640,\n",
              "     'url': 'https://i.scdn.co/image/ab67616d0000b273bcaf6f097b310e20504f2de0',\n",
              "     'width': 640},\n",
              "    {'height': 300,\n",
              "     'url': 'https://i.scdn.co/image/ab67616d00001e02bcaf6f097b310e20504f2de0',\n",
              "     'width': 300},\n",
              "    {'height': 64,\n",
              "     'url': 'https://i.scdn.co/image/ab67616d00004851bcaf6f097b310e20504f2de0',\n",
              "     'width': 64}],\n",
              "   'is_playable': True,\n",
              "   'name': 'Chet Baker Sings',\n",
              "   'release_date': '1956',\n",
              "   'release_date_precision': 'year',\n",
              "   'total_tracks': 14,\n",
              "   'type': 'album',\n",
              "   'uri': 'spotify:album:5JJ779nrbHx0KB2lBrMMa4'},\n",
              "  'artists': [{'external_urls': {'spotify': 'https://open.spotify.com/artist/3rxeQlsv0Sc2nyYaZ5W71T'},\n",
              "    'href': 'https://api.spotify.com/v1/artists/3rxeQlsv0Sc2nyYaZ5W71T',\n",
              "    'id': '3rxeQlsv0Sc2nyYaZ5W71T',\n",
              "    'name': 'Chet Baker',\n",
              "    'type': 'artist',\n",
              "    'uri': 'spotify:artist:3rxeQlsv0Sc2nyYaZ5W71T'}],\n",
              "  'disc_number': 1,\n",
              "  'duration_ms': 141133,\n",
              "  'explicit': False,\n",
              "  'external_ids': {'isrc': 'USBN28900073'},\n",
              "  'external_urls': {'spotify': 'https://open.spotify.com/track/4l9hml2UCnxoNI3yCdL1BW'},\n",
              "  'href': 'https://api.spotify.com/v1/tracks/4l9hml2UCnxoNI3yCdL1BW',\n",
              "  'id': '4l9hml2UCnxoNI3yCdL1BW',\n",
              "  'is_local': False,\n",
              "  'is_playable': True,\n",
              "  'name': 'My Funny Valentine',\n",
              "  'popularity': 67,\n",
              "  'preview_url': None,\n",
              "  'track_number': 10,\n",
              "  'type': 'track',\n",
              "  'uri': 'spotify:track:4l9hml2UCnxoNI3yCdL1BW'},\n",
              " {'album': {'album_type': 'album',\n",
              "   'artists': [{'external_urls': {'spotify': 'https://open.spotify.com/artist/3rxeQlsv0Sc2nyYaZ5W71T'},\n",
              "     'href': 'https://api.spotify.com/v1/artists/3rxeQlsv0Sc2nyYaZ5W71T',\n",
              "     'id': '3rxeQlsv0Sc2nyYaZ5W71T',\n",
              "     'name': 'Chet Baker',\n",
              "     'type': 'artist',\n",
              "     'uri': 'spotify:artist:3rxeQlsv0Sc2nyYaZ5W71T'}],\n",
              "   'external_urls': {'spotify': 'https://open.spotify.com/album/5JJ779nrbHx0KB2lBrMMa4'},\n",
              "   'href': 'https://api.spotify.com/v1/albums/5JJ779nrbHx0KB2lBrMMa4',\n",
              "   'id': '5JJ779nrbHx0KB2lBrMMa4',\n",
              "   'images': [{'height': 640,\n",
              "     'url': 'https://i.scdn.co/image/ab67616d0000b273bcaf6f097b310e20504f2de0',\n",
              "     'width': 640},\n",
              "    {'height': 300,\n",
              "     'url': 'https://i.scdn.co/image/ab67616d00001e02bcaf6f097b310e20504f2de0',\n",
              "     'width': 300},\n",
              "    {'height': 64,\n",
              "     'url': 'https://i.scdn.co/image/ab67616d00004851bcaf6f097b310e20504f2de0',\n",
              "     'width': 64}],\n",
              "   'is_playable': True,\n",
              "   'name': 'Chet Baker Sings',\n",
              "   'release_date': '1956',\n",
              "   'release_date_precision': 'year',\n",
              "   'total_tracks': 14,\n",
              "   'type': 'album',\n",
              "   'uri': 'spotify:album:5JJ779nrbHx0KB2lBrMMa4'},\n",
              "  'artists': [{'external_urls': {'spotify': 'https://open.spotify.com/artist/3rxeQlsv0Sc2nyYaZ5W71T'},\n",
              "    'href': 'https://api.spotify.com/v1/artists/3rxeQlsv0Sc2nyYaZ5W71T',\n",
              "    'id': '3rxeQlsv0Sc2nyYaZ5W71T',\n",
              "    'name': 'Chet Baker',\n",
              "    'type': 'artist',\n",
              "    'uri': 'spotify:artist:3rxeQlsv0Sc2nyYaZ5W71T'}],\n",
              "  'disc_number': 1,\n",
              "  'duration_ms': 166760,\n",
              "  'explicit': False,\n",
              "  'external_ids': {'isrc': 'USBN28900129'},\n",
              "  'external_urls': {'spotify': 'https://open.spotify.com/track/4m6OC8u2rC6LMFtFWsME7d'},\n",
              "  'href': 'https://api.spotify.com/v1/tracks/4m6OC8u2rC6LMFtFWsME7d',\n",
              "  'id': '4m6OC8u2rC6LMFtFWsME7d',\n",
              "  'is_local': False,\n",
              "  'is_playable': True,\n",
              "  'name': 'Time After Time - Vocal Version',\n",
              "  'popularity': 63,\n",
              "  'preview_url': None,\n",
              "  'track_number': 8,\n",
              "  'type': 'track',\n",
              "  'uri': 'spotify:track:4m6OC8u2rC6LMFtFWsME7d'},\n",
              " {'album': {'album_type': 'album',\n",
              "   'artists': [{'external_urls': {'spotify': 'https://open.spotify.com/artist/3rxeQlsv0Sc2nyYaZ5W71T'},\n",
              "     'href': 'https://api.spotify.com/v1/artists/3rxeQlsv0Sc2nyYaZ5W71T',\n",
              "     'id': '3rxeQlsv0Sc2nyYaZ5W71T',\n",
              "     'name': 'Chet Baker',\n",
              "     'type': 'artist',\n",
              "     'uri': 'spotify:artist:3rxeQlsv0Sc2nyYaZ5W71T'}],\n",
              "   'external_urls': {'spotify': 'https://open.spotify.com/album/3Cnj43AyRQy21WQWsngNDs'},\n",
              "   'href': 'https://api.spotify.com/v1/albums/3Cnj43AyRQy21WQWsngNDs',\n",
              "   'id': '3Cnj43AyRQy21WQWsngNDs',\n",
              "   'images': [{'height': 640,\n",
              "     'url': 'https://i.scdn.co/image/ab67616d0000b2733e4457449e2f1b31de4d45e7',\n",
              "     'width': 640},\n",
              "    {'height': 300,\n",
              "     'url': 'https://i.scdn.co/image/ab67616d00001e023e4457449e2f1b31de4d45e7',\n",
              "     'width': 300},\n",
              "    {'height': 64,\n",
              "     'url': 'https://i.scdn.co/image/ab67616d000048513e4457449e2f1b31de4d45e7',\n",
              "     'width': 64}],\n",
              "   'is_playable': True,\n",
              "   'name': 'Jazz Moods - Cool',\n",
              "   'release_date': '1974',\n",
              "   'release_date_precision': 'year',\n",
              "   'total_tracks': 7,\n",
              "   'type': 'album',\n",
              "   'uri': 'spotify:album:3Cnj43AyRQy21WQWsngNDs'},\n",
              "  'artists': [{'external_urls': {'spotify': 'https://open.spotify.com/artist/3rxeQlsv0Sc2nyYaZ5W71T'},\n",
              "    'href': 'https://api.spotify.com/v1/artists/3rxeQlsv0Sc2nyYaZ5W71T',\n",
              "    'id': '3rxeQlsv0Sc2nyYaZ5W71T',\n",
              "    'name': 'Chet Baker',\n",
              "    'type': 'artist',\n",
              "    'uri': 'spotify:artist:3rxeQlsv0Sc2nyYaZ5W71T'}],\n",
              "  'disc_number': 1,\n",
              "  'duration_ms': 422640,\n",
              "  'explicit': False,\n",
              "  'external_ids': {'isrc': 'USSM10021825'},\n",
              "  'external_urls': {'spotify': 'https://open.spotify.com/track/1QlTNF43OyKK9BorIRsJ8o'},\n",
              "  'href': 'https://api.spotify.com/v1/tracks/1QlTNF43OyKK9BorIRsJ8o',\n",
              "  'id': '1QlTNF43OyKK9BorIRsJ8o',\n",
              "  'is_local': False,\n",
              "  'is_playable': True,\n",
              "  'name': 'Autumn Leaves',\n",
              "  'popularity': 56,\n",
              "  'preview_url': 'https://p.scdn.co/mp3-preview/ec82c66610e033e81e0c615edb2ddf5f2575d54c?cid=5f6ccd4e666f48f9856ea6e6f078666a',\n",
              "  'track_number': 3,\n",
              "  'type': 'track',\n",
              "  'uri': 'spotify:track:1QlTNF43OyKK9BorIRsJ8o'},\n",
              " {'album': {'album_type': 'album',\n",
              "   'artists': [{'external_urls': {'spotify': 'https://open.spotify.com/artist/3rxeQlsv0Sc2nyYaZ5W71T'},\n",
              "     'href': 'https://api.spotify.com/v1/artists/3rxeQlsv0Sc2nyYaZ5W71T',\n",
              "     'id': '3rxeQlsv0Sc2nyYaZ5W71T',\n",
              "     'name': 'Chet Baker',\n",
              "     'type': 'artist',\n",
              "     'uri': 'spotify:artist:3rxeQlsv0Sc2nyYaZ5W71T'}],\n",
              "   'external_urls': {'spotify': 'https://open.spotify.com/album/5JJ779nrbHx0KB2lBrMMa4'},\n",
              "   'href': 'https://api.spotify.com/v1/albums/5JJ779nrbHx0KB2lBrMMa4',\n",
              "   'id': '5JJ779nrbHx0KB2lBrMMa4',\n",
              "   'images': [{'height': 640,\n",
              "     'url': 'https://i.scdn.co/image/ab67616d0000b273bcaf6f097b310e20504f2de0',\n",
              "     'width': 640},\n",
              "    {'height': 300,\n",
              "     'url': 'https://i.scdn.co/image/ab67616d00001e02bcaf6f097b310e20504f2de0',\n",
              "     'width': 300},\n",
              "    {'height': 64,\n",
              "     'url': 'https://i.scdn.co/image/ab67616d00004851bcaf6f097b310e20504f2de0',\n",
              "     'width': 64}],\n",
              "   'is_playable': True,\n",
              "   'name': 'Chet Baker Sings',\n",
              "   'release_date': '1956',\n",
              "   'release_date_precision': 'year',\n",
              "   'total_tracks': 14,\n",
              "   'type': 'album',\n",
              "   'uri': 'spotify:album:5JJ779nrbHx0KB2lBrMMa4'},\n",
              "  'artists': [{'external_urls': {'spotify': 'https://open.spotify.com/artist/3rxeQlsv0Sc2nyYaZ5W71T'},\n",
              "    'href': 'https://api.spotify.com/v1/artists/3rxeQlsv0Sc2nyYaZ5W71T',\n",
              "    'id': '3rxeQlsv0Sc2nyYaZ5W71T',\n",
              "    'name': 'Chet Baker',\n",
              "    'type': 'artist',\n",
              "    'uri': 'spotify:artist:3rxeQlsv0Sc2nyYaZ5W71T'}],\n",
              "  'disc_number': 1,\n",
              "  'duration_ms': 179640,\n",
              "  'explicit': False,\n",
              "  'external_ids': {'isrc': 'USBN28900074'},\n",
              "  'external_urls': {'spotify': 'https://open.spotify.com/track/4gFlHAye7To29Fs4UszQUH'},\n",
              "  'href': 'https://api.spotify.com/v1/tracks/4gFlHAye7To29Fs4UszQUH',\n",
              "  'id': '4gFlHAye7To29Fs4UszQUH',\n",
              "  'is_local': False,\n",
              "  'is_playable': True,\n",
              "  'name': 'I Get Along Without You Very Well (Except Sometimes) - Vocal Version',\n",
              "  'popularity': 62,\n",
              "  'preview_url': None,\n",
              "  'track_number': 9,\n",
              "  'type': 'track',\n",
              "  'uri': 'spotify:track:4gFlHAye7To29Fs4UszQUH'},\n",
              " {'album': {'album_type': 'album',\n",
              "   'artists': [{'external_urls': {'spotify': 'https://open.spotify.com/artist/3rxeQlsv0Sc2nyYaZ5W71T'},\n",
              "     'href': 'https://api.spotify.com/v1/artists/3rxeQlsv0Sc2nyYaZ5W71T',\n",
              "     'id': '3rxeQlsv0Sc2nyYaZ5W71T',\n",
              "     'name': 'Chet Baker',\n",
              "     'type': 'artist',\n",
              "     'uri': 'spotify:artist:3rxeQlsv0Sc2nyYaZ5W71T'}],\n",
              "   'external_urls': {'spotify': 'https://open.spotify.com/album/5JJ779nrbHx0KB2lBrMMa4'},\n",
              "   'href': 'https://api.spotify.com/v1/albums/5JJ779nrbHx0KB2lBrMMa4',\n",
              "   'id': '5JJ779nrbHx0KB2lBrMMa4',\n",
              "   'images': [{'height': 640,\n",
              "     'url': 'https://i.scdn.co/image/ab67616d0000b273bcaf6f097b310e20504f2de0',\n",
              "     'width': 640},\n",
              "    {'height': 300,\n",
              "     'url': 'https://i.scdn.co/image/ab67616d00001e02bcaf6f097b310e20504f2de0',\n",
              "     'width': 300},\n",
              "    {'height': 64,\n",
              "     'url': 'https://i.scdn.co/image/ab67616d00004851bcaf6f097b310e20504f2de0',\n",
              "     'width': 64}],\n",
              "   'is_playable': True,\n",
              "   'name': 'Chet Baker Sings',\n",
              "   'release_date': '1956',\n",
              "   'release_date_precision': 'year',\n",
              "   'total_tracks': 14,\n",
              "   'type': 'album',\n",
              "   'uri': 'spotify:album:5JJ779nrbHx0KB2lBrMMa4'},\n",
              "  'artists': [{'external_urls': {'spotify': 'https://open.spotify.com/artist/3rxeQlsv0Sc2nyYaZ5W71T'},\n",
              "    'href': 'https://api.spotify.com/v1/artists/3rxeQlsv0Sc2nyYaZ5W71T',\n",
              "    'id': '3rxeQlsv0Sc2nyYaZ5W71T',\n",
              "    'name': 'Chet Baker',\n",
              "    'type': 'artist',\n",
              "    'uri': 'spotify:artist:3rxeQlsv0Sc2nyYaZ5W71T'}],\n",
              "  'disc_number': 1,\n",
              "  'duration_ms': 215466,\n",
              "  'explicit': False,\n",
              "  'external_ids': {'isrc': 'USBN28900078'},\n",
              "  'external_urls': {'spotify': 'https://open.spotify.com/track/06UkYE0SZ3Y8zGRFOuWGAe'},\n",
              "  'href': 'https://api.spotify.com/v1/tracks/06UkYE0SZ3Y8zGRFOuWGAe',\n",
              "  'id': '06UkYE0SZ3Y8zGRFOuWGAe',\n",
              "  'is_local': False,\n",
              "  'is_playable': True,\n",
              "  'name': \"It's Always You - Vocal Version\",\n",
              "  'popularity': 62,\n",
              "  'preview_url': None,\n",
              "  'track_number': 2,\n",
              "  'type': 'track',\n",
              "  'uri': 'spotify:track:06UkYE0SZ3Y8zGRFOuWGAe'},\n",
              " {'album': {'album_type': 'album',\n",
              "   'artists': [{'external_urls': {'spotify': 'https://open.spotify.com/artist/3rxeQlsv0Sc2nyYaZ5W71T'},\n",
              "     'href': 'https://api.spotify.com/v1/artists/3rxeQlsv0Sc2nyYaZ5W71T',\n",
              "     'id': '3rxeQlsv0Sc2nyYaZ5W71T',\n",
              "     'name': 'Chet Baker',\n",
              "     'type': 'artist',\n",
              "     'uri': 'spotify:artist:3rxeQlsv0Sc2nyYaZ5W71T'}],\n",
              "   'external_urls': {'spotify': 'https://open.spotify.com/album/5JJ779nrbHx0KB2lBrMMa4'},\n",
              "   'href': 'https://api.spotify.com/v1/albums/5JJ779nrbHx0KB2lBrMMa4',\n",
              "   'id': '5JJ779nrbHx0KB2lBrMMa4',\n",
              "   'images': [{'height': 640,\n",
              "     'url': 'https://i.scdn.co/image/ab67616d0000b273bcaf6f097b310e20504f2de0',\n",
              "     'width': 640},\n",
              "    {'height': 300,\n",
              "     'url': 'https://i.scdn.co/image/ab67616d00001e02bcaf6f097b310e20504f2de0',\n",
              "     'width': 300},\n",
              "    {'height': 64,\n",
              "     'url': 'https://i.scdn.co/image/ab67616d00004851bcaf6f097b310e20504f2de0',\n",
              "     'width': 64}],\n",
              "   'is_playable': True,\n",
              "   'name': 'Chet Baker Sings',\n",
              "   'release_date': '1956',\n",
              "   'release_date_precision': 'year',\n",
              "   'total_tracks': 14,\n",
              "   'type': 'album',\n",
              "   'uri': 'spotify:album:5JJ779nrbHx0KB2lBrMMa4'},\n",
              "  'artists': [{'external_urls': {'spotify': 'https://open.spotify.com/artist/3rxeQlsv0Sc2nyYaZ5W71T'},\n",
              "    'href': 'https://api.spotify.com/v1/artists/3rxeQlsv0Sc2nyYaZ5W71T',\n",
              "    'id': '3rxeQlsv0Sc2nyYaZ5W71T',\n",
              "    'name': 'Chet Baker',\n",
              "    'type': 'artist',\n",
              "    'uri': 'spotify:artist:3rxeQlsv0Sc2nyYaZ5W71T'}],\n",
              "  'disc_number': 1,\n",
              "  'duration_ms': 184466,\n",
              "  'explicit': False,\n",
              "  'external_ids': {'isrc': 'USBN28900093'},\n",
              "  'external_urls': {'spotify': 'https://open.spotify.com/track/3pfbQmD5xGH9Tcc7GqGfSL'},\n",
              "  'href': 'https://api.spotify.com/v1/tracks/3pfbQmD5xGH9Tcc7GqGfSL',\n",
              "  'id': '3pfbQmD5xGH9Tcc7GqGfSL',\n",
              "  'is_local': False,\n",
              "  'is_playable': True,\n",
              "  'name': 'But Not For Me - Vocal Version',\n",
              "  'popularity': 60,\n",
              "  'preview_url': None,\n",
              "  'track_number': 7,\n",
              "  'type': 'track',\n",
              "  'uri': 'spotify:track:3pfbQmD5xGH9Tcc7GqGfSL'},\n",
              " {'album': {'album_type': 'album',\n",
              "   'artists': [{'external_urls': {'spotify': 'https://open.spotify.com/artist/3rxeQlsv0Sc2nyYaZ5W71T'},\n",
              "     'href': 'https://api.spotify.com/v1/artists/3rxeQlsv0Sc2nyYaZ5W71T',\n",
              "     'id': '3rxeQlsv0Sc2nyYaZ5W71T',\n",
              "     'name': 'Chet Baker',\n",
              "     'type': 'artist',\n",
              "     'uri': 'spotify:artist:3rxeQlsv0Sc2nyYaZ5W71T'}],\n",
              "   'external_urls': {'spotify': 'https://open.spotify.com/album/5JJ779nrbHx0KB2lBrMMa4'},\n",
              "   'href': 'https://api.spotify.com/v1/albums/5JJ779nrbHx0KB2lBrMMa4',\n",
              "   'id': '5JJ779nrbHx0KB2lBrMMa4',\n",
              "   'images': [{'height': 640,\n",
              "     'url': 'https://i.scdn.co/image/ab67616d0000b273bcaf6f097b310e20504f2de0',\n",
              "     'width': 640},\n",
              "    {'height': 300,\n",
              "     'url': 'https://i.scdn.co/image/ab67616d00001e02bcaf6f097b310e20504f2de0',\n",
              "     'width': 300},\n",
              "    {'height': 64,\n",
              "     'url': 'https://i.scdn.co/image/ab67616d00004851bcaf6f097b310e20504f2de0',\n",
              "     'width': 64}],\n",
              "   'is_playable': True,\n",
              "   'name': 'Chet Baker Sings',\n",
              "   'release_date': '1956',\n",
              "   'release_date_precision': 'year',\n",
              "   'total_tracks': 14,\n",
              "   'type': 'album',\n",
              "   'uri': 'spotify:album:5JJ779nrbHx0KB2lBrMMa4'},\n",
              "  'artists': [{'external_urls': {'spotify': 'https://open.spotify.com/artist/3rxeQlsv0Sc2nyYaZ5W71T'},\n",
              "    'href': 'https://api.spotify.com/v1/artists/3rxeQlsv0Sc2nyYaZ5W71T',\n",
              "    'id': '3rxeQlsv0Sc2nyYaZ5W71T',\n",
              "    'name': 'Chet Baker',\n",
              "    'type': 'artist',\n",
              "    'uri': 'spotify:artist:3rxeQlsv0Sc2nyYaZ5W71T'}],\n",
              "  'disc_number': 1,\n",
              "  'duration_ms': 183893,\n",
              "  'explicit': False,\n",
              "  'external_ids': {'isrc': 'USBN28900117'},\n",
              "  'external_urls': {'spotify': 'https://open.spotify.com/track/2d64G7VaZdHQuAquz5HQNu'},\n",
              "  'href': 'https://api.spotify.com/v1/tracks/2d64G7VaZdHQuAquz5HQNu',\n",
              "  'id': '2d64G7VaZdHQuAquz5HQNu',\n",
              "  'is_local': False,\n",
              "  'is_playable': True,\n",
              "  'name': 'That Old Feeling',\n",
              "  'popularity': 58,\n",
              "  'preview_url': None,\n",
              "  'track_number': 1,\n",
              "  'type': 'track',\n",
              "  'uri': 'spotify:track:2d64G7VaZdHQuAquz5HQNu'},\n",
              " {'album': {'album_type': 'album',\n",
              "   'artists': [{'external_urls': {'spotify': 'https://open.spotify.com/artist/3rxeQlsv0Sc2nyYaZ5W71T'},\n",
              "     'href': 'https://api.spotify.com/v1/artists/3rxeQlsv0Sc2nyYaZ5W71T',\n",
              "     'id': '3rxeQlsv0Sc2nyYaZ5W71T',\n",
              "     'name': 'Chet Baker',\n",
              "     'type': 'artist',\n",
              "     'uri': 'spotify:artist:3rxeQlsv0Sc2nyYaZ5W71T'}],\n",
              "   'external_urls': {'spotify': 'https://open.spotify.com/album/6UEhnkt6B9hfACniByRiEm'},\n",
              "   'href': 'https://api.spotify.com/v1/albums/6UEhnkt6B9hfACniByRiEm',\n",
              "   'id': '6UEhnkt6B9hfACniByRiEm',\n",
              "   'images': [{'height': 640,\n",
              "     'url': 'https://i.scdn.co/image/ab67616d0000b2731cb6a101d306a562d210f334',\n",
              "     'width': 640},\n",
              "    {'height': 300,\n",
              "     'url': 'https://i.scdn.co/image/ab67616d00001e021cb6a101d306a562d210f334',\n",
              "     'width': 300},\n",
              "    {'height': 64,\n",
              "     'url': 'https://i.scdn.co/image/ab67616d000048511cb6a101d306a562d210f334',\n",
              "     'width': 64}],\n",
              "   'is_playable': True,\n",
              "   'name': 'Essential Standards (eBooklet)',\n",
              "   'release_date': '2009-01-01',\n",
              "   'release_date_precision': 'day',\n",
              "   'total_tracks': 12,\n",
              "   'type': 'album',\n",
              "   'uri': 'spotify:album:6UEhnkt6B9hfACniByRiEm'},\n",
              "  'artists': [{'external_urls': {'spotify': 'https://open.spotify.com/artist/3rxeQlsv0Sc2nyYaZ5W71T'},\n",
              "    'href': 'https://api.spotify.com/v1/artists/3rxeQlsv0Sc2nyYaZ5W71T',\n",
              "    'id': '3rxeQlsv0Sc2nyYaZ5W71T',\n",
              "    'name': 'Chet Baker',\n",
              "    'type': 'artist',\n",
              "    'uri': 'spotify:artist:3rxeQlsv0Sc2nyYaZ5W71T'}],\n",
              "  'disc_number': 1,\n",
              "  'duration_ms': 304906,\n",
              "  'explicit': False,\n",
              "  'external_ids': {'isrc': 'USFI85800035'},\n",
              "  'external_urls': {'spotify': 'https://open.spotify.com/track/00jqmEUSISjkugkuFxGiTo'},\n",
              "  'href': 'https://api.spotify.com/v1/tracks/00jqmEUSISjkugkuFxGiTo',\n",
              "  'id': '00jqmEUSISjkugkuFxGiTo',\n",
              "  'is_local': False,\n",
              "  'is_playable': True,\n",
              "  'name': 'Everything Happens To Me',\n",
              "  'popularity': 54,\n",
              "  'preview_url': None,\n",
              "  'track_number': 11,\n",
              "  'type': 'track',\n",
              "  'uri': 'spotify:track:00jqmEUSISjkugkuFxGiTo'},\n",
              " {'album': {'album_type': 'album',\n",
              "   'artists': [{'external_urls': {'spotify': 'https://open.spotify.com/artist/3rxeQlsv0Sc2nyYaZ5W71T'},\n",
              "     'href': 'https://api.spotify.com/v1/artists/3rxeQlsv0Sc2nyYaZ5W71T',\n",
              "     'id': '3rxeQlsv0Sc2nyYaZ5W71T',\n",
              "     'name': 'Chet Baker',\n",
              "     'type': 'artist',\n",
              "     'uri': 'spotify:artist:3rxeQlsv0Sc2nyYaZ5W71T'}],\n",
              "   'external_urls': {'spotify': 'https://open.spotify.com/album/6NVtIIsVMTuphtcAN9FxCc'},\n",
              "   'href': 'https://api.spotify.com/v1/albums/6NVtIIsVMTuphtcAN9FxCc',\n",
              "   'id': '6NVtIIsVMTuphtcAN9FxCc',\n",
              "   'images': [{'height': 640,\n",
              "     'url': 'https://i.scdn.co/image/ab67616d0000b273139959676bd3da09a14b40c3',\n",
              "     'width': 640},\n",
              "    {'height': 300,\n",
              "     'url': 'https://i.scdn.co/image/ab67616d00001e02139959676bd3da09a14b40c3',\n",
              "     'width': 300},\n",
              "    {'height': 64,\n",
              "     'url': 'https://i.scdn.co/image/ab67616d00004851139959676bd3da09a14b40c3',\n",
              "     'width': 64}],\n",
              "   'is_playable': True,\n",
              "   'name': 'Chet Baker Sings And Plays (Remastered 2004)',\n",
              "   'release_date': '1955-01-01',\n",
              "   'release_date_precision': 'day',\n",
              "   'total_tracks': 11,\n",
              "   'type': 'album',\n",
              "   'uri': 'spotify:album:6NVtIIsVMTuphtcAN9FxCc'},\n",
              "  'artists': [{'external_urls': {'spotify': 'https://open.spotify.com/artist/3rxeQlsv0Sc2nyYaZ5W71T'},\n",
              "    'href': 'https://api.spotify.com/v1/artists/3rxeQlsv0Sc2nyYaZ5W71T',\n",
              "    'id': '3rxeQlsv0Sc2nyYaZ5W71T',\n",
              "    'name': 'Chet Baker',\n",
              "    'type': 'artist',\n",
              "    'uri': 'spotify:artist:3rxeQlsv0Sc2nyYaZ5W71T'}],\n",
              "  'disc_number': 1,\n",
              "  'duration_ms': 223706,\n",
              "  'explicit': False,\n",
              "  'external_ids': {'isrc': 'USBN28900080'},\n",
              "  'external_urls': {'spotify': 'https://open.spotify.com/track/0UZFhlhUMrYyzzyOHkylM3'},\n",
              "  'href': 'https://api.spotify.com/v1/tracks/0UZFhlhUMrYyzzyOHkylM3',\n",
              "  'id': '0UZFhlhUMrYyzzyOHkylM3',\n",
              "  'is_local': False,\n",
              "  'is_playable': True,\n",
              "  'name': \"Let's Get Lost\",\n",
              "  'popularity': 56,\n",
              "  'preview_url': None,\n",
              "  'track_number': 1,\n",
              "  'type': 'track',\n",
              "  'uri': 'spotify:track:0UZFhlhUMrYyzzyOHkylM3'}]"
            ]
          },
          "execution_count": 14,
          "metadata": {},
          "output_type": "execute_result"
        }
      ],
      "source": [
        "response_tracks"
      ]
    },
    {
      "cell_type": "code",
      "execution_count": 15,
      "metadata": {
        "colab": {
          "base_uri": "https://localhost:8080/",
          "height": 55
        },
        "id": "D46IjC4Ff5x3",
        "outputId": "65d2a3f6-9354-48d1-e59f-74783298608c"
      },
      "outputs": [
        {
          "data": {
            "text/plain": [
              "'0F845nujLVqCb0XMZCh5Pc,4l9hml2UCnxoNI3yCdL1BW,4m6OC8u2rC6LMFtFWsME7d,1QlTNF43OyKK9BorIRsJ8o,4gFlHAye7To29Fs4UszQUH,06UkYE0SZ3Y8zGRFOuWGAe,3pfbQmD5xGH9Tcc7GqGfSL,2d64G7VaZdHQuAquz5HQNu,00jqmEUSISjkugkuFxGiTo,0UZFhlhUMrYyzzyOHkylM3'"
            ]
          },
          "execution_count": 15,
          "metadata": {},
          "output_type": "execute_result"
        }
      ],
      "source": [
        "track_ids = [track_data['id'] for track_data in response_tracks]\n",
        "track_ids_str = ','.join(track_ids)\n",
        "track_ids_str"
      ]
    },
    {
      "cell_type": "markdown",
      "metadata": {
        "id": "V9jrCjmEgbnx"
      },
      "source": [
        "And now we can get the **features** for these tracks:"
      ]
    },
    {
      "cell_type": "code",
      "execution_count": 16,
      "metadata": {
        "id": "BQE7gW4Rga-Z"
      },
      "outputs": [],
      "source": [
        "aud_feature_template = 'https://api.spotify.com/v1/audio-features?ids={track_ids}'\n",
        "aud_feature_url = aud_feature_template.format(track_ids = track_ids_str)\n",
        "aud_feature_response = my_session.get(aud_feature_url)\n",
        "aud_feat_list = aud_feature_response.json()['audio_features']"
      ]
    },
    {
      "cell_type": "markdown",
      "metadata": {
        "id": "Rq8aNNVWhZe_"
      },
      "source": [
        "For each track, we now have feature info, so we add each track's info to a list, which we then convert to a DataFrame"
      ]
    },
    {
      "cell_type": "code",
      "execution_count": 17,
      "metadata": {
        "colab": {
          "base_uri": "https://localhost:8080/"
        },
        "id": "DBgWBeWNgqDd",
        "outputId": "44338da7-0451-4b27-f2c6-f98c260b9e41"
      },
      "outputs": [
        {
          "data": {
            "text/plain": [
              "{'danceability': 0.438,\n",
              " 'energy': 0.00756,\n",
              " 'key': 0,\n",
              " 'loudness': -26.44,\n",
              " 'mode': 0,\n",
              " 'speechiness': 0.0382,\n",
              " 'acousticness': 0.941,\n",
              " 'instrumentalness': 0.00643,\n",
              " 'liveness': 0.109,\n",
              " 'valence': 0.277,\n",
              " 'tempo': 133.32,\n",
              " 'type': 'audio_features',\n",
              " 'id': '4l9hml2UCnxoNI3yCdL1BW',\n",
              " 'uri': 'spotify:track:4l9hml2UCnxoNI3yCdL1BW',\n",
              " 'track_href': 'https://api.spotify.com/v1/tracks/4l9hml2UCnxoNI3yCdL1BW',\n",
              " 'analysis_url': 'https://api.spotify.com/v1/audio-analysis/4l9hml2UCnxoNI3yCdL1BW',\n",
              " 'duration_ms': 141133,\n",
              " 'time_signature': 4}"
            ]
          },
          "execution_count": 17,
          "metadata": {},
          "output_type": "execute_result"
        }
      ],
      "source": [
        "aud_feat_list[1]"
      ]
    },
    {
      "cell_type": "code",
      "execution_count": 18,
      "metadata": {
        "colab": {
          "base_uri": "https://localhost:8080/",
          "height": 82
        },
        "id": "hV55e09QxoV5",
        "outputId": "1fdc7b8c-a91a-4bdb-e109-bbd3ad5deb78"
      },
      "outputs": [
        {
          "data": {
            "text/html": [
              "<div>\n",
              "<style scoped>\n",
              "    .dataframe tbody tr th:only-of-type {\n",
              "        vertical-align: middle;\n",
              "    }\n",
              "\n",
              "    .dataframe tbody tr th {\n",
              "        vertical-align: top;\n",
              "    }\n",
              "\n",
              "    .dataframe thead th {\n",
              "        text-align: right;\n",
              "    }\n",
              "</style>\n",
              "<table border=\"1\" class=\"dataframe\">\n",
              "  <thead>\n",
              "    <tr style=\"text-align: right;\">\n",
              "      <th></th>\n",
              "      <th>artist</th>\n",
              "      <th>genre</th>\n",
              "      <th>artist_id</th>\n",
              "    </tr>\n",
              "  </thead>\n",
              "  <tbody>\n",
              "    <tr>\n",
              "      <th>53</th>\n",
              "      <td>Tory Lanez</td>\n",
              "      <td>R&amp;B</td>\n",
              "      <td>2jku7tDXc6XoB6MO2hFuqg</td>\n",
              "    </tr>\n",
              "  </tbody>\n",
              "</table>\n",
              "</div>"
            ],
            "text/plain": [
              "        artist genre               artist_id\n",
              "53  Tory Lanez   R&B  2jku7tDXc6XoB6MO2hFuqg"
            ]
          },
          "execution_count": 18,
          "metadata": {},
          "output_type": "execute_result"
        }
      ],
      "source": [
        "artist_df[artist_df['artist'] == \"Tory Lanez\"]"
      ]
    },
    {
      "cell_type": "markdown",
      "metadata": {
        "id": "-QnNh6Q5h_aX"
      },
      "source": [
        "Now we can do this in a loop, for **all** of the artists!"
      ]
    },
    {
      "cell_type": "code",
      "execution_count": 19,
      "metadata": {
        "colab": {
          "base_uri": "https://localhost:8080/"
        },
        "id": "C_SVrXJxgrSr",
        "outputId": "f228bcb6-586f-48de-8268-3288a12d0d3a"
      },
      "outputs": [
        {
          "name": "stdout",
          "output_type": "stream",
          "text": [
            "Chet Baker\n",
            "dict_keys(['tracks'])\n",
            "Ella Fitzgerald\n",
            "dict_keys(['tracks'])\n",
            "Stan Getz\n",
            "dict_keys(['tracks'])\n",
            "Billie Holiday\n",
            "dict_keys(['tracks'])\n",
            "Miles Davis\n",
            "dict_keys(['tracks'])\n",
            "John Coltrane\n",
            "dict_keys(['tracks'])\n",
            "Bill Evans\n",
            "dict_keys(['tracks'])\n",
            "Duke Ellington\n",
            "dict_keys(['tracks'])\n",
            "Herbie Hancock\n",
            "dict_keys(['tracks'])\n",
            "Bill Evans Trio\n",
            "dict_keys(['tracks'])\n",
            "Charles Mingus\n",
            "dict_keys(['tracks'])\n",
            "Wes Montgomery\n",
            "dict_keys(['tracks'])\n",
            "Drake\n",
            "dict_keys(['tracks'])\n",
            "Kanye West\n",
            "dict_keys(['tracks'])\n",
            "Kendrick Lamar\n",
            "dict_keys(['tracks'])\n",
            "Tyler, The Creator\n",
            "dict_keys(['tracks'])\n",
            "Metro Boomin\n",
            "dict_keys(['tracks'])\n",
            "Travis Scott\n",
            "dict_keys(['tracks'])\n",
            "Mac Miller\n",
            "dict_keys(['tracks'])\n",
            "J. Cole\n",
            "dict_keys(['tracks'])\n",
            "Eminem\n",
            "dict_keys(['tracks'])\n",
            "Lil Uzi Vert\n",
            "dict_keys(['tracks'])\n",
            "21 Savage\n",
            "dict_keys(['tracks'])\n",
            "Future\n",
            "dict_keys(['tracks'])\n",
            "Arctic Monkeys\n",
            "dict_keys(['tracks'])\n",
            "Radiohead\n",
            "dict_keys(['tracks'])\n",
            "Deftones\n",
            "dict_keys(['tracks'])\n",
            "Tame Impala\n",
            "dict_keys(['tracks'])\n",
            "The Smiths\n",
            "dict_keys(['tracks'])\n",
            "Nirvana\n",
            "dict_keys(['tracks'])\n",
            "Queen\n",
            "dict_keys(['tracks'])\n",
            "The Beatles\n",
            "dict_keys(['tracks'])\n",
            "Paramore\n",
            "dict_keys(['tracks'])\n",
            "The 1975\n",
            "dict_keys(['tracks'])\n",
            "Gorillaz\n",
            "dict_keys(['tracks'])\n",
            "My Chemical Romance\n",
            "dict_keys(['tracks'])\n",
            "Calvin Harris\n",
            "dict_keys(['tracks'])\n",
            "David Guetta\n",
            "dict_keys(['tracks'])\n",
            "Avicii\n",
            "dict_keys(['tracks'])\n",
            "Fred again..\n",
            "dict_keys(['tracks'])\n",
            "Tiësto\n",
            "dict_keys(['tracks'])\n",
            "Marshmello\n",
            "dict_keys(['tracks'])\n",
            "Skrillex\n",
            "dict_keys(['tracks'])\n",
            "Kygo\n",
            "dict_keys(['tracks'])\n",
            "ILLENIUM\n",
            "dict_keys(['tracks'])\n",
            "Martin Garrix\n",
            "dict_keys(['tracks'])\n",
            "Flume\n",
            "dict_keys(['tracks'])\n",
            "Zedd\n",
            "dict_keys(['tracks'])\n",
            "SZA\n",
            "dict_keys(['tracks'])\n",
            "Beyoncé\n",
            "dict_keys(['tracks'])\n",
            "Brent Faiyaz\n",
            "dict_keys(['tracks'])\n",
            "Michael Jackson\n",
            "dict_keys(['tracks'])\n",
            "Summer Walker\n",
            "dict_keys(['tracks'])\n",
            "Tory Lanez\n",
            "dict_keys(['tracks'])\n",
            "Bryson Tiller\n",
            "dict_keys(['tracks'])\n",
            "PARTYNEXTDOOR\n",
            "dict_keys(['tracks'])\n",
            "Chris Brown\n",
            "dict_keys(['tracks'])\n",
            "Miguel\n",
            "dict_keys(['tracks'])\n",
            "Giveon\n",
            "dict_keys(['tracks'])\n",
            "Jhené Aiko\n",
            "dict_keys(['tracks'])\n",
            "Luke Combs\n",
            "dict_keys(['tracks'])\n",
            "Luke Bryan\n",
            "dict_keys(['tracks'])\n",
            "Zac Brown Band\n",
            "dict_keys(['tracks'])\n",
            "Jason Aldean\n",
            "dict_keys(['tracks'])\n",
            "Jon Pardi\n",
            "dict_keys(['tracks'])\n",
            "Thomas Rhett\n",
            "dict_keys(['tracks'])\n",
            "Florida Georgia Line\n",
            "dict_keys(['tracks'])\n",
            "Kenny Chesney\n",
            "dict_keys(['tracks'])\n",
            "Carrie Underwood\n",
            "dict_keys(['tracks'])\n",
            "George Strait\n",
            "dict_keys(['tracks'])\n",
            "Kelsea Ballerini\n",
            "dict_keys(['tracks'])\n",
            "Sam Hunt\n",
            "dict_keys(['tracks'])\n",
            "Aphex Twin\n",
            "dict_keys(['tracks'])\n",
            "Grouper\n",
            "dict_keys(['tracks'])\n",
            "Brian Eno\n",
            "dict_keys(['tracks'])\n",
            "Tim Hecker\n",
            "dict_keys(['tracks'])\n",
            "Oneohtrix Point Never\n",
            "dict_keys(['tracks'])\n",
            "Harold Budd\n",
            "dict_keys(['tracks'])\n",
            "William Basinski\n",
            "dict_keys(['tracks'])\n",
            "Chihei Hatakeyama\n",
            "dict_keys(['tracks'])\n",
            "Hiroshi Yoshimura\n",
            "dict_keys(['tracks'])\n",
            "Marconi Union\n",
            "dict_keys(['tracks'])\n",
            "Susumu Yokota\n",
            "dict_keys(['tracks'])\n",
            "Stars Of The Lid\n",
            "dict_keys(['tracks'])\n"
          ]
        }
      ],
      "source": [
        "all_track_data = []\n",
        "for row_index, row in artist_df.iterrows():\n",
        "  cur_artist = row['artist']\n",
        "  print(cur_artist)\n",
        "  cur_genre = row['genre']\n",
        "  cur_artist_id = row['artist_id']\n",
        "  # Get the artist's top songs\n",
        "  artist_api_url = artist_api_template.format(artist_id = cur_artist_id)\n",
        "  artist_response = my_session.get(artist_api_url)\n",
        "  artist_response_json = artist_response.json()\n",
        "  print(artist_response_json.keys())\n",
        "  artist_response_tracks = artist_response_json['tracks']\n",
        "  track_names = [track_data['name'] for track_data in artist_response_tracks]\n",
        "  track_ids = [track_data['id'] for track_data in artist_response_tracks]\n",
        "  track_ids_str = ','.join(track_ids)\n",
        "  # Now we query the audio features API with this list of tracks\n",
        "  aud_feature_url = aud_feature_template.format(track_ids = track_ids_str)\n",
        "  aud_feature_response = my_session.get(aud_feature_url)\n",
        "  if 'audio_features' not in aud_feature_response.json():\n",
        "    continue\n",
        "  aud_feat_list = aud_feature_response.json()['audio_features']\n",
        "  # Each entry in aud_feat_list contains info for the track, so we create a dict\n",
        "  # object for each entry, and add each one to all_track_data\n",
        "  for track_index, cur_aud_feats in enumerate(aud_feat_list):\n",
        "    if cur_aud_feats is None:\n",
        "      continue\n",
        "    cur_track_data = {\n",
        "        'artist': cur_artist,\n",
        "        'genre': cur_genre,\n",
        "        'artist_id': cur_artist_id,\n",
        "        'name': track_names[track_index]\n",
        "    }\n",
        "    cur_track_data.update(cur_aud_feats)\n",
        "    all_track_data.append(cur_track_data)"
      ]
    },
    {
      "cell_type": "code",
      "execution_count": 20,
      "metadata": {
        "colab": {
          "base_uri": "https://localhost:8080/",
          "height": 534
        },
        "id": "hN55L_q3jmnl",
        "outputId": "fb37f017-e33d-475f-8b83-3b1ed89f4b6f"
      },
      "outputs": [
        {
          "data": {
            "text/html": [
              "<div>\n",
              "<style scoped>\n",
              "    .dataframe tbody tr th:only-of-type {\n",
              "        vertical-align: middle;\n",
              "    }\n",
              "\n",
              "    .dataframe tbody tr th {\n",
              "        vertical-align: top;\n",
              "    }\n",
              "\n",
              "    .dataframe thead th {\n",
              "        text-align: right;\n",
              "    }\n",
              "</style>\n",
              "<table border=\"1\" class=\"dataframe\">\n",
              "  <thead>\n",
              "    <tr style=\"text-align: right;\">\n",
              "      <th></th>\n",
              "      <th>artist</th>\n",
              "      <th>genre</th>\n",
              "      <th>artist_id</th>\n",
              "      <th>name</th>\n",
              "      <th>danceability</th>\n",
              "      <th>energy</th>\n",
              "      <th>key</th>\n",
              "      <th>loudness</th>\n",
              "      <th>mode</th>\n",
              "      <th>speechiness</th>\n",
              "      <th>...</th>\n",
              "      <th>liveness</th>\n",
              "      <th>valence</th>\n",
              "      <th>tempo</th>\n",
              "      <th>type</th>\n",
              "      <th>id</th>\n",
              "      <th>uri</th>\n",
              "      <th>track_href</th>\n",
              "      <th>analysis_url</th>\n",
              "      <th>duration_ms</th>\n",
              "      <th>time_signature</th>\n",
              "    </tr>\n",
              "  </thead>\n",
              "  <tbody>\n",
              "    <tr>\n",
              "      <th>0</th>\n",
              "      <td>Chet Baker</td>\n",
              "      <td>Jazz</td>\n",
              "      <td>3rxeQlsv0Sc2nyYaZ5W71T</td>\n",
              "      <td>I Fall In Love Too Easily</td>\n",
              "      <td>0.532</td>\n",
              "      <td>0.06570</td>\n",
              "      <td>0</td>\n",
              "      <td>-19.136</td>\n",
              "      <td>0</td>\n",
              "      <td>0.0406</td>\n",
              "      <td>...</td>\n",
              "      <td>0.0946</td>\n",
              "      <td>0.292</td>\n",
              "      <td>128.607</td>\n",
              "      <td>audio_features</td>\n",
              "      <td>0F845nujLVqCb0XMZCh5Pc</td>\n",
              "      <td>spotify:track:0F845nujLVqCb0XMZCh5Pc</td>\n",
              "      <td>https://api.spotify.com/v1/tracks/0F845nujLVqC...</td>\n",
              "      <td>https://api.spotify.com/v1/audio-analysis/0F84...</td>\n",
              "      <td>201440</td>\n",
              "      <td>4</td>\n",
              "    </tr>\n",
              "    <tr>\n",
              "      <th>1</th>\n",
              "      <td>Chet Baker</td>\n",
              "      <td>Jazz</td>\n",
              "      <td>3rxeQlsv0Sc2nyYaZ5W71T</td>\n",
              "      <td>My Funny Valentine</td>\n",
              "      <td>0.438</td>\n",
              "      <td>0.00756</td>\n",
              "      <td>0</td>\n",
              "      <td>-26.440</td>\n",
              "      <td>0</td>\n",
              "      <td>0.0382</td>\n",
              "      <td>...</td>\n",
              "      <td>0.1090</td>\n",
              "      <td>0.277</td>\n",
              "      <td>133.320</td>\n",
              "      <td>audio_features</td>\n",
              "      <td>4l9hml2UCnxoNI3yCdL1BW</td>\n",
              "      <td>spotify:track:4l9hml2UCnxoNI3yCdL1BW</td>\n",
              "      <td>https://api.spotify.com/v1/tracks/4l9hml2UCnxo...</td>\n",
              "      <td>https://api.spotify.com/v1/audio-analysis/4l9h...</td>\n",
              "      <td>141133</td>\n",
              "      <td>4</td>\n",
              "    </tr>\n",
              "    <tr>\n",
              "      <th>2</th>\n",
              "      <td>Chet Baker</td>\n",
              "      <td>Jazz</td>\n",
              "      <td>3rxeQlsv0Sc2nyYaZ5W71T</td>\n",
              "      <td>Time After Time - Vocal Version</td>\n",
              "      <td>0.501</td>\n",
              "      <td>0.04540</td>\n",
              "      <td>0</td>\n",
              "      <td>-18.783</td>\n",
              "      <td>1</td>\n",
              "      <td>0.0388</td>\n",
              "      <td>...</td>\n",
              "      <td>0.2000</td>\n",
              "      <td>0.255</td>\n",
              "      <td>99.783</td>\n",
              "      <td>audio_features</td>\n",
              "      <td>4m6OC8u2rC6LMFtFWsME7d</td>\n",
              "      <td>spotify:track:4m6OC8u2rC6LMFtFWsME7d</td>\n",
              "      <td>https://api.spotify.com/v1/tracks/4m6OC8u2rC6L...</td>\n",
              "      <td>https://api.spotify.com/v1/audio-analysis/4m6O...</td>\n",
              "      <td>166760</td>\n",
              "      <td>4</td>\n",
              "    </tr>\n",
              "    <tr>\n",
              "      <th>3</th>\n",
              "      <td>Chet Baker</td>\n",
              "      <td>Jazz</td>\n",
              "      <td>3rxeQlsv0Sc2nyYaZ5W71T</td>\n",
              "      <td>Autumn Leaves</td>\n",
              "      <td>0.350</td>\n",
              "      <td>0.60700</td>\n",
              "      <td>5</td>\n",
              "      <td>-11.141</td>\n",
              "      <td>0</td>\n",
              "      <td>0.0498</td>\n",
              "      <td>...</td>\n",
              "      <td>0.1160</td>\n",
              "      <td>0.597</td>\n",
              "      <td>187.101</td>\n",
              "      <td>audio_features</td>\n",
              "      <td>1QlTNF43OyKK9BorIRsJ8o</td>\n",
              "      <td>spotify:track:1QlTNF43OyKK9BorIRsJ8o</td>\n",
              "      <td>https://api.spotify.com/v1/tracks/1QlTNF43OyKK...</td>\n",
              "      <td>https://api.spotify.com/v1/audio-analysis/1QlT...</td>\n",
              "      <td>422640</td>\n",
              "      <td>4</td>\n",
              "    </tr>\n",
              "    <tr>\n",
              "      <th>4</th>\n",
              "      <td>Chet Baker</td>\n",
              "      <td>Jazz</td>\n",
              "      <td>3rxeQlsv0Sc2nyYaZ5W71T</td>\n",
              "      <td>I Get Along Without You Very Well (Except Some...</td>\n",
              "      <td>0.442</td>\n",
              "      <td>0.03300</td>\n",
              "      <td>10</td>\n",
              "      <td>-23.063</td>\n",
              "      <td>1</td>\n",
              "      <td>0.0410</td>\n",
              "      <td>...</td>\n",
              "      <td>0.1510</td>\n",
              "      <td>0.210</td>\n",
              "      <td>103.340</td>\n",
              "      <td>audio_features</td>\n",
              "      <td>4gFlHAye7To29Fs4UszQUH</td>\n",
              "      <td>spotify:track:4gFlHAye7To29Fs4UszQUH</td>\n",
              "      <td>https://api.spotify.com/v1/tracks/4gFlHAye7To2...</td>\n",
              "      <td>https://api.spotify.com/v1/audio-analysis/4gFl...</td>\n",
              "      <td>179640</td>\n",
              "      <td>3</td>\n",
              "    </tr>\n",
              "  </tbody>\n",
              "</table>\n",
              "<p>5 rows × 22 columns</p>\n",
              "</div>"
            ],
            "text/plain": [
              "       artist genre               artist_id  \\\n",
              "0  Chet Baker  Jazz  3rxeQlsv0Sc2nyYaZ5W71T   \n",
              "1  Chet Baker  Jazz  3rxeQlsv0Sc2nyYaZ5W71T   \n",
              "2  Chet Baker  Jazz  3rxeQlsv0Sc2nyYaZ5W71T   \n",
              "3  Chet Baker  Jazz  3rxeQlsv0Sc2nyYaZ5W71T   \n",
              "4  Chet Baker  Jazz  3rxeQlsv0Sc2nyYaZ5W71T   \n",
              "\n",
              "                                                name  danceability   energy  \\\n",
              "0                          I Fall In Love Too Easily         0.532  0.06570   \n",
              "1                                 My Funny Valentine         0.438  0.00756   \n",
              "2                    Time After Time - Vocal Version         0.501  0.04540   \n",
              "3                                      Autumn Leaves         0.350  0.60700   \n",
              "4  I Get Along Without You Very Well (Except Some...         0.442  0.03300   \n",
              "\n",
              "   key  loudness  mode  speechiness  ...  liveness  valence    tempo  \\\n",
              "0    0   -19.136     0       0.0406  ...    0.0946    0.292  128.607   \n",
              "1    0   -26.440     0       0.0382  ...    0.1090    0.277  133.320   \n",
              "2    0   -18.783     1       0.0388  ...    0.2000    0.255   99.783   \n",
              "3    5   -11.141     0       0.0498  ...    0.1160    0.597  187.101   \n",
              "4   10   -23.063     1       0.0410  ...    0.1510    0.210  103.340   \n",
              "\n",
              "             type                      id  \\\n",
              "0  audio_features  0F845nujLVqCb0XMZCh5Pc   \n",
              "1  audio_features  4l9hml2UCnxoNI3yCdL1BW   \n",
              "2  audio_features  4m6OC8u2rC6LMFtFWsME7d   \n",
              "3  audio_features  1QlTNF43OyKK9BorIRsJ8o   \n",
              "4  audio_features  4gFlHAye7To29Fs4UszQUH   \n",
              "\n",
              "                                    uri  \\\n",
              "0  spotify:track:0F845nujLVqCb0XMZCh5Pc   \n",
              "1  spotify:track:4l9hml2UCnxoNI3yCdL1BW   \n",
              "2  spotify:track:4m6OC8u2rC6LMFtFWsME7d   \n",
              "3  spotify:track:1QlTNF43OyKK9BorIRsJ8o   \n",
              "4  spotify:track:4gFlHAye7To29Fs4UszQUH   \n",
              "\n",
              "                                          track_href  \\\n",
              "0  https://api.spotify.com/v1/tracks/0F845nujLVqC...   \n",
              "1  https://api.spotify.com/v1/tracks/4l9hml2UCnxo...   \n",
              "2  https://api.spotify.com/v1/tracks/4m6OC8u2rC6L...   \n",
              "3  https://api.spotify.com/v1/tracks/1QlTNF43OyKK...   \n",
              "4  https://api.spotify.com/v1/tracks/4gFlHAye7To2...   \n",
              "\n",
              "                                        analysis_url duration_ms  \\\n",
              "0  https://api.spotify.com/v1/audio-analysis/0F84...      201440   \n",
              "1  https://api.spotify.com/v1/audio-analysis/4l9h...      141133   \n",
              "2  https://api.spotify.com/v1/audio-analysis/4m6O...      166760   \n",
              "3  https://api.spotify.com/v1/audio-analysis/1QlT...      422640   \n",
              "4  https://api.spotify.com/v1/audio-analysis/4gFl...      179640   \n",
              "\n",
              "  time_signature  \n",
              "0              4  \n",
              "1              4  \n",
              "2              4  \n",
              "3              4  \n",
              "4              3  \n",
              "\n",
              "[5 rows x 22 columns]"
            ]
          },
          "execution_count": 20,
          "metadata": {},
          "output_type": "execute_result"
        }
      ],
      "source": [
        "track_df = pd.DataFrame(all_track_data)\n",
        "track_df.head()"
      ]
    },
    {
      "cell_type": "code",
      "execution_count": 21,
      "metadata": {
        "id": "N8XtwWUWjtK7"
      },
      "outputs": [],
      "source": [
        "track_df.to_csv(\"track_features.csv\", index=False)"
      ]
    },
    {
      "cell_type": "markdown",
      "metadata": {
        "id": "OC1-bDI5kCT8"
      },
      "source": [
        "## (2) Decision Tree"
      ]
    },
    {
      "cell_type": "code",
      "execution_count": 22,
      "metadata": {
        "id": "milu4IkfsE5N"
      },
      "outputs": [],
      "source": [
        "# Comment out the following lines if you modified the above code, to use your own\n",
        "# artists/genres/features. Otherwise, this loads a pre-scraped dataset\n",
        "track_features_url = \"https://jpj.georgetown.domains/dsan5000-scratch/dt/track_features.csv\"\n",
        "track_df = pd.read_csv(track_features_url)"
      ]
    },
    {
      "cell_type": "code",
      "execution_count": 23,
      "metadata": {
        "colab": {
          "base_uri": "https://localhost:8080/",
          "height": 533
        },
        "id": "ib5gnpbHsAFP",
        "outputId": "12bed7c4-f178-422a-c681-b1cf509696c1"
      },
      "outputs": [
        {
          "data": {
            "text/html": [
              "<div>\n",
              "<style scoped>\n",
              "    .dataframe tbody tr th:only-of-type {\n",
              "        vertical-align: middle;\n",
              "    }\n",
              "\n",
              "    .dataframe tbody tr th {\n",
              "        vertical-align: top;\n",
              "    }\n",
              "\n",
              "    .dataframe thead th {\n",
              "        text-align: right;\n",
              "    }\n",
              "</style>\n",
              "<table border=\"1\" class=\"dataframe\">\n",
              "  <thead>\n",
              "    <tr style=\"text-align: right;\">\n",
              "      <th></th>\n",
              "      <th>artist</th>\n",
              "      <th>genre</th>\n",
              "      <th>artist_id</th>\n",
              "      <th>name</th>\n",
              "      <th>danceability</th>\n",
              "      <th>energy</th>\n",
              "      <th>key</th>\n",
              "      <th>loudness</th>\n",
              "      <th>mode</th>\n",
              "      <th>speechiness</th>\n",
              "      <th>...</th>\n",
              "      <th>liveness</th>\n",
              "      <th>valence</th>\n",
              "      <th>tempo</th>\n",
              "      <th>type</th>\n",
              "      <th>id</th>\n",
              "      <th>uri</th>\n",
              "      <th>track_href</th>\n",
              "      <th>analysis_url</th>\n",
              "      <th>duration_ms</th>\n",
              "      <th>time_signature</th>\n",
              "    </tr>\n",
              "  </thead>\n",
              "  <tbody>\n",
              "    <tr>\n",
              "      <th>0</th>\n",
              "      <td>Chet Baker</td>\n",
              "      <td>Jazz</td>\n",
              "      <td>3rxeQlsv0Sc2nyYaZ5W71T</td>\n",
              "      <td>I Fall In Love Too Easily</td>\n",
              "      <td>0.532</td>\n",
              "      <td>0.06570</td>\n",
              "      <td>0</td>\n",
              "      <td>-19.136</td>\n",
              "      <td>0</td>\n",
              "      <td>0.0406</td>\n",
              "      <td>...</td>\n",
              "      <td>0.0946</td>\n",
              "      <td>0.292</td>\n",
              "      <td>128.607</td>\n",
              "      <td>audio_features</td>\n",
              "      <td>0F845nujLVqCb0XMZCh5Pc</td>\n",
              "      <td>spotify:track:0F845nujLVqCb0XMZCh5Pc</td>\n",
              "      <td>https://api.spotify.com/v1/tracks/0F845nujLVqC...</td>\n",
              "      <td>https://api.spotify.com/v1/audio-analysis/0F84...</td>\n",
              "      <td>201440</td>\n",
              "      <td>4</td>\n",
              "    </tr>\n",
              "    <tr>\n",
              "      <th>1</th>\n",
              "      <td>Chet Baker</td>\n",
              "      <td>Jazz</td>\n",
              "      <td>3rxeQlsv0Sc2nyYaZ5W71T</td>\n",
              "      <td>My Funny Valentine</td>\n",
              "      <td>0.438</td>\n",
              "      <td>0.00756</td>\n",
              "      <td>0</td>\n",
              "      <td>-26.440</td>\n",
              "      <td>0</td>\n",
              "      <td>0.0382</td>\n",
              "      <td>...</td>\n",
              "      <td>0.1090</td>\n",
              "      <td>0.277</td>\n",
              "      <td>133.320</td>\n",
              "      <td>audio_features</td>\n",
              "      <td>4l9hml2UCnxoNI3yCdL1BW</td>\n",
              "      <td>spotify:track:4l9hml2UCnxoNI3yCdL1BW</td>\n",
              "      <td>https://api.spotify.com/v1/tracks/4l9hml2UCnxo...</td>\n",
              "      <td>https://api.spotify.com/v1/audio-analysis/4l9h...</td>\n",
              "      <td>141133</td>\n",
              "      <td>4</td>\n",
              "    </tr>\n",
              "    <tr>\n",
              "      <th>2</th>\n",
              "      <td>Chet Baker</td>\n",
              "      <td>Jazz</td>\n",
              "      <td>3rxeQlsv0Sc2nyYaZ5W71T</td>\n",
              "      <td>Time After Time - Vocal Version</td>\n",
              "      <td>0.501</td>\n",
              "      <td>0.04540</td>\n",
              "      <td>0</td>\n",
              "      <td>-18.783</td>\n",
              "      <td>1</td>\n",
              "      <td>0.0388</td>\n",
              "      <td>...</td>\n",
              "      <td>0.2000</td>\n",
              "      <td>0.255</td>\n",
              "      <td>99.783</td>\n",
              "      <td>audio_features</td>\n",
              "      <td>4m6OC8u2rC6LMFtFWsME7d</td>\n",
              "      <td>spotify:track:4m6OC8u2rC6LMFtFWsME7d</td>\n",
              "      <td>https://api.spotify.com/v1/tracks/4m6OC8u2rC6L...</td>\n",
              "      <td>https://api.spotify.com/v1/audio-analysis/4m6O...</td>\n",
              "      <td>166760</td>\n",
              "      <td>4</td>\n",
              "    </tr>\n",
              "    <tr>\n",
              "      <th>3</th>\n",
              "      <td>Chet Baker</td>\n",
              "      <td>Jazz</td>\n",
              "      <td>3rxeQlsv0Sc2nyYaZ5W71T</td>\n",
              "      <td>Autumn Leaves</td>\n",
              "      <td>0.350</td>\n",
              "      <td>0.60700</td>\n",
              "      <td>5</td>\n",
              "      <td>-11.141</td>\n",
              "      <td>0</td>\n",
              "      <td>0.0498</td>\n",
              "      <td>...</td>\n",
              "      <td>0.1160</td>\n",
              "      <td>0.597</td>\n",
              "      <td>187.101</td>\n",
              "      <td>audio_features</td>\n",
              "      <td>1QlTNF43OyKK9BorIRsJ8o</td>\n",
              "      <td>spotify:track:1QlTNF43OyKK9BorIRsJ8o</td>\n",
              "      <td>https://api.spotify.com/v1/tracks/1QlTNF43OyKK...</td>\n",
              "      <td>https://api.spotify.com/v1/audio-analysis/1QlT...</td>\n",
              "      <td>422640</td>\n",
              "      <td>4</td>\n",
              "    </tr>\n",
              "    <tr>\n",
              "      <th>4</th>\n",
              "      <td>Chet Baker</td>\n",
              "      <td>Jazz</td>\n",
              "      <td>3rxeQlsv0Sc2nyYaZ5W71T</td>\n",
              "      <td>I Get Along Without You Very Well (Except Some...</td>\n",
              "      <td>0.442</td>\n",
              "      <td>0.03300</td>\n",
              "      <td>10</td>\n",
              "      <td>-23.063</td>\n",
              "      <td>1</td>\n",
              "      <td>0.0410</td>\n",
              "      <td>...</td>\n",
              "      <td>0.1510</td>\n",
              "      <td>0.210</td>\n",
              "      <td>103.340</td>\n",
              "      <td>audio_features</td>\n",
              "      <td>4gFlHAye7To29Fs4UszQUH</td>\n",
              "      <td>spotify:track:4gFlHAye7To29Fs4UszQUH</td>\n",
              "      <td>https://api.spotify.com/v1/tracks/4gFlHAye7To2...</td>\n",
              "      <td>https://api.spotify.com/v1/audio-analysis/4gFl...</td>\n",
              "      <td>179640</td>\n",
              "      <td>3</td>\n",
              "    </tr>\n",
              "  </tbody>\n",
              "</table>\n",
              "<p>5 rows × 22 columns</p>\n",
              "</div>"
            ],
            "text/plain": [
              "       artist genre               artist_id  \\\n",
              "0  Chet Baker  Jazz  3rxeQlsv0Sc2nyYaZ5W71T   \n",
              "1  Chet Baker  Jazz  3rxeQlsv0Sc2nyYaZ5W71T   \n",
              "2  Chet Baker  Jazz  3rxeQlsv0Sc2nyYaZ5W71T   \n",
              "3  Chet Baker  Jazz  3rxeQlsv0Sc2nyYaZ5W71T   \n",
              "4  Chet Baker  Jazz  3rxeQlsv0Sc2nyYaZ5W71T   \n",
              "\n",
              "                                                name  danceability   energy  \\\n",
              "0                          I Fall In Love Too Easily         0.532  0.06570   \n",
              "1                                 My Funny Valentine         0.438  0.00756   \n",
              "2                    Time After Time - Vocal Version         0.501  0.04540   \n",
              "3                                      Autumn Leaves         0.350  0.60700   \n",
              "4  I Get Along Without You Very Well (Except Some...         0.442  0.03300   \n",
              "\n",
              "   key  loudness  mode  speechiness  ...  liveness  valence    tempo  \\\n",
              "0    0   -19.136     0       0.0406  ...    0.0946    0.292  128.607   \n",
              "1    0   -26.440     0       0.0382  ...    0.1090    0.277  133.320   \n",
              "2    0   -18.783     1       0.0388  ...    0.2000    0.255   99.783   \n",
              "3    5   -11.141     0       0.0498  ...    0.1160    0.597  187.101   \n",
              "4   10   -23.063     1       0.0410  ...    0.1510    0.210  103.340   \n",
              "\n",
              "             type                      id  \\\n",
              "0  audio_features  0F845nujLVqCb0XMZCh5Pc   \n",
              "1  audio_features  4l9hml2UCnxoNI3yCdL1BW   \n",
              "2  audio_features  4m6OC8u2rC6LMFtFWsME7d   \n",
              "3  audio_features  1QlTNF43OyKK9BorIRsJ8o   \n",
              "4  audio_features  4gFlHAye7To29Fs4UszQUH   \n",
              "\n",
              "                                    uri  \\\n",
              "0  spotify:track:0F845nujLVqCb0XMZCh5Pc   \n",
              "1  spotify:track:4l9hml2UCnxoNI3yCdL1BW   \n",
              "2  spotify:track:4m6OC8u2rC6LMFtFWsME7d   \n",
              "3  spotify:track:1QlTNF43OyKK9BorIRsJ8o   \n",
              "4  spotify:track:4gFlHAye7To29Fs4UszQUH   \n",
              "\n",
              "                                          track_href  \\\n",
              "0  https://api.spotify.com/v1/tracks/0F845nujLVqC...   \n",
              "1  https://api.spotify.com/v1/tracks/4l9hml2UCnxo...   \n",
              "2  https://api.spotify.com/v1/tracks/4m6OC8u2rC6L...   \n",
              "3  https://api.spotify.com/v1/tracks/1QlTNF43OyKK...   \n",
              "4  https://api.spotify.com/v1/tracks/4gFlHAye7To2...   \n",
              "\n",
              "                                        analysis_url duration_ms  \\\n",
              "0  https://api.spotify.com/v1/audio-analysis/0F84...      201440   \n",
              "1  https://api.spotify.com/v1/audio-analysis/4l9h...      141133   \n",
              "2  https://api.spotify.com/v1/audio-analysis/4m6O...      166760   \n",
              "3  https://api.spotify.com/v1/audio-analysis/1QlT...      422640   \n",
              "4  https://api.spotify.com/v1/audio-analysis/4gFl...      179640   \n",
              "\n",
              "  time_signature  \n",
              "0              4  \n",
              "1              4  \n",
              "2              4  \n",
              "3              4  \n",
              "4              3  \n",
              "\n",
              "[5 rows x 22 columns]"
            ]
          },
          "execution_count": 23,
          "metadata": {},
          "output_type": "execute_result"
        }
      ],
      "source": [
        "track_df.head()"
      ]
    },
    {
      "cell_type": "code",
      "execution_count": 24,
      "metadata": {
        "id": "dX047xIFj_dg"
      },
      "outputs": [],
      "source": [
        "import sklearn.tree\n",
        "import sklearn.model_selection"
      ]
    },
    {
      "cell_type": "markdown",
      "metadata": {
        "id": "P5CxWoW8uXO0"
      },
      "source": [
        "Exclude specific genres, if desired"
      ]
    },
    {
      "cell_type": "code",
      "execution_count": 25,
      "metadata": {
        "id": "sicEzO4OuW91"
      },
      "outputs": [],
      "source": [
        "exclude_genres = ['Rock', 'Country', 'R&B']\n",
        "#exclude_genres = []\n",
        "track_df_sub = track_df[~track_df['genre'].isin(exclude_genres)].copy()"
      ]
    },
    {
      "cell_type": "markdown",
      "metadata": {
        "id": "sFi31OfwkyHJ"
      },
      "source": [
        "Let's create **numeric** codes for our label variable (`genre`), by just assigning each genre a number representing its place in alphabetical order:"
      ]
    },
    {
      "cell_type": "code",
      "execution_count": 26,
      "metadata": {
        "colab": {
          "base_uri": "https://localhost:8080/"
        },
        "id": "JwYANWVXk5Hl",
        "outputId": "e535c61e-f4d0-4888-d9de-f6e256c0bf33"
      },
      "outputs": [
        {
          "data": {
            "text/plain": [
              "{'Ambient': 0, 'EDM': 1, 'Hip Hop': 2, 'Jazz': 3}"
            ]
          },
          "execution_count": 26,
          "metadata": {},
          "output_type": "execute_result"
        }
      ],
      "source": [
        "sorted_genres = sorted(list(track_df_sub['genre'].value_counts().index))\n",
        "genre_map = {genre_name: sorted_genres.index(genre_name) for genre_name in sorted_genres}\n",
        "genre_map"
      ]
    },
    {
      "cell_type": "markdown",
      "metadata": {
        "id": "zDgtF4fqlLmq"
      },
      "source": [
        "And now we can create `genre_code` as our numeric label variable"
      ]
    },
    {
      "cell_type": "code",
      "execution_count": 27,
      "metadata": {
        "id": "Qtnvt71dlOXt"
      },
      "outputs": [],
      "source": [
        "track_df_sub['genre_code'] = track_df_sub['genre'].apply(lambda x: genre_map[x])"
      ]
    },
    {
      "cell_type": "markdown",
      "metadata": {
        "id": "Xp4Ek7PllU-k"
      },
      "source": [
        "Next let's specify the columns we want to include in our derived **feature matrix**"
      ]
    },
    {
      "cell_type": "code",
      "execution_count": 28,
      "metadata": {
        "colab": {
          "base_uri": "https://localhost:8080/"
        },
        "id": "H8QbSDo5kk3w",
        "outputId": "92570ba8-7f13-4986-b637-7c53c7dd6ee3"
      },
      "outputs": [
        {
          "data": {
            "text/plain": [
              "Index(['artist', 'genre', 'artist_id', 'name', 'danceability', 'energy', 'key',\n",
              "       'loudness', 'mode', 'speechiness', 'acousticness', 'instrumentalness',\n",
              "       'liveness', 'valence', 'tempo', 'type', 'id', 'uri', 'track_href',\n",
              "       'analysis_url', 'duration_ms', 'time_signature', 'genre_code'],\n",
              "      dtype='object')"
            ]
          },
          "execution_count": 28,
          "metadata": {},
          "output_type": "execute_result"
        }
      ],
      "source": [
        "track_df_sub.columns"
      ]
    },
    {
      "cell_type": "markdown",
      "metadata": {
        "id": "PUD6z4J20tR9"
      },
      "source": [
        "Quick thing: so that we can take its log, we make a new feature \"quietness\" which is just the negative of loudness (since loudness is measured in dB)"
      ]
    },
    {
      "cell_type": "code",
      "execution_count": 29,
      "metadata": {
        "id": "13KkWrcv0zCj"
      },
      "outputs": [],
      "source": [
        "if 'log_loudness' not in track_df_sub.columns:\n",
        "  track_df_sub['quietness'] = track_df_sub['loudness'].apply(lambda x: -x)\n",
        "  # And now we drop loudness\n",
        "  track_df_sub.drop(columns=['loudness'], inplace=True)\n",
        "  track_df_sub['log_quiet'] = track_df_sub['quietness'].apply(np.log)\n",
        "  # And now we drop quietness\n",
        "  track_df_sub.drop(columns=['quietness'], inplace=True)\n",
        "  # Finally, we can now \"reconstruct\" log_loud\n",
        "  max_quiet = track_df_sub['log_quiet'].max()\n",
        "  track_df_sub['log_loudness'] = track_df_sub['log_quiet'].apply(lambda x: max_quiet - x)\n",
        "  # And drop log_quiet\n",
        "  track_df_sub.drop(columns=['log_quiet'], inplace=True)"
      ]
    },
    {
      "cell_type": "code",
      "execution_count": 30,
      "metadata": {
        "id": "70g1V7jOkJsH"
      },
      "outputs": [],
      "source": [
        "feature_cols = [\n",
        "    'danceability', 'energy', 'key',\n",
        "    #'loudness',\n",
        "    'log_loudness',\n",
        "    #'log_quiet',\n",
        "    #'mode',\n",
        "    #'speechiness',\n",
        "    'acousticness',\n",
        "    #'instrumentalness',\n",
        "    'liveness', 'valence', 'tempo',\n",
        "    'duration_ms', 'time_signature'\n",
        "]\n",
        "label_col = 'genre_code'\n",
        "non_label_cols = [c for c in track_df_sub.columns if c != label_col]\n",
        "# Here, just so that the train-test split is clean, we include *everything*,\n",
        "# then split, then subset to only the numeric columns\n",
        "X_df = track_df_sub[non_label_cols].copy()\n",
        "y = track_df_sub[label_col]\n",
        "# And perform train-test split\n",
        "X_train, X_test, y_train, y_test = sklearn.model_selection.train_test_split(\n",
        "    X_df, y, test_size=0.2, random_state=5000\n",
        ")\n",
        "# And now we subset X_train and X_test to contain just the numeric features\n",
        "X_train_num = X_train[feature_cols].copy()\n",
        "X_test_num = X_test[feature_cols].copy()"
      ]
    },
    {
      "cell_type": "code",
      "execution_count": 31,
      "metadata": {
        "colab": {
          "base_uri": "https://localhost:8080/",
          "height": 424
        },
        "id": "sh2JkQXCmuSe",
        "outputId": "f1b3b234-51b1-4165-f5ab-c8990854dbae"
      },
      "outputs": [
        {
          "data": {
            "text/html": [
              "<div>\n",
              "<style scoped>\n",
              "    .dataframe tbody tr th:only-of-type {\n",
              "        vertical-align: middle;\n",
              "    }\n",
              "\n",
              "    .dataframe tbody tr th {\n",
              "        vertical-align: top;\n",
              "    }\n",
              "\n",
              "    .dataframe thead th {\n",
              "        text-align: right;\n",
              "    }\n",
              "</style>\n",
              "<table border=\"1\" class=\"dataframe\">\n",
              "  <thead>\n",
              "    <tr style=\"text-align: right;\">\n",
              "      <th></th>\n",
              "      <th>danceability</th>\n",
              "      <th>energy</th>\n",
              "      <th>key</th>\n",
              "      <th>log_loudness</th>\n",
              "      <th>acousticness</th>\n",
              "      <th>liveness</th>\n",
              "      <th>valence</th>\n",
              "      <th>tempo</th>\n",
              "      <th>duration_ms</th>\n",
              "      <th>time_signature</th>\n",
              "    </tr>\n",
              "  </thead>\n",
              "  <tbody>\n",
              "    <tr>\n",
              "      <th>87</th>\n",
              "      <td>0.7390</td>\n",
              "      <td>0.8820</td>\n",
              "      <td>11</td>\n",
              "      <td>1.227378</td>\n",
              "      <td>0.1090</td>\n",
              "      <td>0.0185</td>\n",
              "      <td>0.9410</td>\n",
              "      <td>98.424</td>\n",
              "      <td>482720</td>\n",
              "      <td>4</td>\n",
              "    </tr>\n",
              "    <tr>\n",
              "      <th>52</th>\n",
              "      <td>0.3720</td>\n",
              "      <td>0.1870</td>\n",
              "      <td>0</td>\n",
              "      <td>1.105307</td>\n",
              "      <td>0.9420</td>\n",
              "      <td>0.1610</td>\n",
              "      <td>0.2170</td>\n",
              "      <td>70.334</td>\n",
              "      <td>319733</td>\n",
              "      <td>4</td>\n",
              "    </tr>\n",
              "    <tr>\n",
              "      <th>103</th>\n",
              "      <td>0.4880</td>\n",
              "      <td>0.4760</td>\n",
              "      <td>5</td>\n",
              "      <td>1.374079</td>\n",
              "      <td>0.4380</td>\n",
              "      <td>0.1100</td>\n",
              "      <td>0.5830</td>\n",
              "      <td>110.951</td>\n",
              "      <td>482960</td>\n",
              "      <td>4</td>\n",
              "    </tr>\n",
              "    <tr>\n",
              "      <th>377</th>\n",
              "      <td>0.6260</td>\n",
              "      <td>0.8640</td>\n",
              "      <td>8</td>\n",
              "      <td>2.569942</td>\n",
              "      <td>0.0682</td>\n",
              "      <td>0.0870</td>\n",
              "      <td>0.5550</td>\n",
              "      <td>123.833</td>\n",
              "      <td>161387</td>\n",
              "      <td>4</td>\n",
              "    </tr>\n",
              "    <tr>\n",
              "      <th>463</th>\n",
              "      <td>0.5440</td>\n",
              "      <td>0.5790</td>\n",
              "      <td>8</td>\n",
              "      <td>1.565358</td>\n",
              "      <td>0.1930</td>\n",
              "      <td>0.1170</td>\n",
              "      <td>0.2940</td>\n",
              "      <td>109.769</td>\n",
              "      <td>303661</td>\n",
              "      <td>4</td>\n",
              "    </tr>\n",
              "    <tr>\n",
              "      <th>...</th>\n",
              "      <td>...</td>\n",
              "      <td>...</td>\n",
              "      <td>...</td>\n",
              "      <td>...</td>\n",
              "      <td>...</td>\n",
              "      <td>...</td>\n",
              "      <td>...</td>\n",
              "      <td>...</td>\n",
              "      <td>...</td>\n",
              "      <td>...</td>\n",
              "    </tr>\n",
              "    <tr>\n",
              "      <th>773</th>\n",
              "      <td>0.2440</td>\n",
              "      <td>0.0621</td>\n",
              "      <td>9</td>\n",
              "      <td>0.774876</td>\n",
              "      <td>0.9930</td>\n",
              "      <td>0.1190</td>\n",
              "      <td>0.0358</td>\n",
              "      <td>65.540</td>\n",
              "      <td>62947</td>\n",
              "      <td>5</td>\n",
              "    </tr>\n",
              "    <tr>\n",
              "      <th>129</th>\n",
              "      <td>0.5610</td>\n",
              "      <td>0.5200</td>\n",
              "      <td>11</td>\n",
              "      <td>1.473254</td>\n",
              "      <td>0.0503</td>\n",
              "      <td>0.3550</td>\n",
              "      <td>0.4240</td>\n",
              "      <td>153.150</td>\n",
              "      <td>239360</td>\n",
              "      <td>3</td>\n",
              "    </tr>\n",
              "    <tr>\n",
              "      <th>97</th>\n",
              "      <td>0.6080</td>\n",
              "      <td>0.1580</td>\n",
              "      <td>5</td>\n",
              "      <td>0.747203</td>\n",
              "      <td>0.9000</td>\n",
              "      <td>0.0996</td>\n",
              "      <td>0.1460</td>\n",
              "      <td>120.055</td>\n",
              "      <td>211467</td>\n",
              "      <td>4</td>\n",
              "    </tr>\n",
              "    <tr>\n",
              "      <th>810</th>\n",
              "      <td>0.0746</td>\n",
              "      <td>0.1560</td>\n",
              "      <td>9</td>\n",
              "      <td>0.529429</td>\n",
              "      <td>0.8630</td>\n",
              "      <td>0.1050</td>\n",
              "      <td>0.0463</td>\n",
              "      <td>80.494</td>\n",
              "      <td>458907</td>\n",
              "      <td>5</td>\n",
              "    </tr>\n",
              "    <tr>\n",
              "      <th>771</th>\n",
              "      <td>0.1920</td>\n",
              "      <td>0.4250</td>\n",
              "      <td>0</td>\n",
              "      <td>1.028536</td>\n",
              "      <td>0.2700</td>\n",
              "      <td>0.2140</td>\n",
              "      <td>0.1360</td>\n",
              "      <td>159.614</td>\n",
              "      <td>257867</td>\n",
              "      <td>3</td>\n",
              "    </tr>\n",
              "  </tbody>\n",
              "</table>\n",
              "<p>383 rows × 10 columns</p>\n",
              "</div>"
            ],
            "text/plain": [
              "     danceability  energy  key  log_loudness  acousticness  liveness  valence  \\\n",
              "87         0.7390  0.8820   11      1.227378        0.1090    0.0185   0.9410   \n",
              "52         0.3720  0.1870    0      1.105307        0.9420    0.1610   0.2170   \n",
              "103        0.4880  0.4760    5      1.374079        0.4380    0.1100   0.5830   \n",
              "377        0.6260  0.8640    8      2.569942        0.0682    0.0870   0.5550   \n",
              "463        0.5440  0.5790    8      1.565358        0.1930    0.1170   0.2940   \n",
              "..            ...     ...  ...           ...           ...       ...      ...   \n",
              "773        0.2440  0.0621    9      0.774876        0.9930    0.1190   0.0358   \n",
              "129        0.5610  0.5200   11      1.473254        0.0503    0.3550   0.4240   \n",
              "97         0.6080  0.1580    5      0.747203        0.9000    0.0996   0.1460   \n",
              "810        0.0746  0.1560    9      0.529429        0.8630    0.1050   0.0463   \n",
              "771        0.1920  0.4250    0      1.028536        0.2700    0.2140   0.1360   \n",
              "\n",
              "       tempo  duration_ms  time_signature  \n",
              "87    98.424       482720               4  \n",
              "52    70.334       319733               4  \n",
              "103  110.951       482960               4  \n",
              "377  123.833       161387               4  \n",
              "463  109.769       303661               4  \n",
              "..       ...          ...             ...  \n",
              "773   65.540        62947               5  \n",
              "129  153.150       239360               3  \n",
              "97   120.055       211467               4  \n",
              "810   80.494       458907               5  \n",
              "771  159.614       257867               3  \n",
              "\n",
              "[383 rows x 10 columns]"
            ]
          },
          "execution_count": 31,
          "metadata": {},
          "output_type": "execute_result"
        }
      ],
      "source": [
        "X_train_num"
      ]
    },
    {
      "cell_type": "code",
      "execution_count": 32,
      "metadata": {
        "colab": {
          "base_uri": "https://localhost:8080/"
        },
        "id": "PJPF-hFGnMTd",
        "outputId": "3042ed60-9247-45fb-a12e-7a4a99d8f5fd"
      },
      "outputs": [
        {
          "data": {
            "text/plain": [
              "(383, 10)"
            ]
          },
          "execution_count": 32,
          "metadata": {},
          "output_type": "execute_result"
        }
      ],
      "source": [
        "X_train_num.shape"
      ]
    },
    {
      "cell_type": "code",
      "execution_count": 33,
      "metadata": {
        "colab": {
          "base_uri": "https://localhost:8080/"
        },
        "id": "lRgLv1Ipmw93",
        "outputId": "f6b9adb7-b664-4891-9655-b057dda5b93b"
      },
      "outputs": [
        {
          "data": {
            "text/plain": [
              "87     3\n",
              "52     3\n",
              "103    3\n",
              "377    1\n",
              "463    1\n",
              "Name: genre_code, dtype: int64"
            ]
          },
          "execution_count": 33,
          "metadata": {},
          "output_type": "execute_result"
        }
      ],
      "source": [
        "y_train.head()"
      ]
    },
    {
      "cell_type": "code",
      "execution_count": 34,
      "metadata": {
        "colab": {
          "base_uri": "https://localhost:8080/"
        },
        "id": "6V_mXOgtnNdT",
        "outputId": "102ae18d-4419-4869-ba41-c3f9cbe08fa0"
      },
      "outputs": [
        {
          "data": {
            "text/plain": [
              "(383,)"
            ]
          },
          "execution_count": 34,
          "metadata": {},
          "output_type": "execute_result"
        }
      ],
      "source": [
        "y_train.shape"
      ]
    },
    {
      "cell_type": "code",
      "execution_count": 35,
      "metadata": {
        "colab": {
          "base_uri": "https://localhost:8080/",
          "height": 92
        },
        "id": "VBX-MT-pkdMZ",
        "outputId": "81547664-375a-40b6-f90a-06cdb16282b4"
      },
      "outputs": [
        {
          "data": {
            "text/html": [
              "<style>#sk-container-id-1 {color: black;}#sk-container-id-1 pre{padding: 0;}#sk-container-id-1 div.sk-toggleable {background-color: white;}#sk-container-id-1 label.sk-toggleable__label {cursor: pointer;display: block;width: 100%;margin-bottom: 0;padding: 0.3em;box-sizing: border-box;text-align: center;}#sk-container-id-1 label.sk-toggleable__label-arrow:before {content: \"▸\";float: left;margin-right: 0.25em;color: #696969;}#sk-container-id-1 label.sk-toggleable__label-arrow:hover:before {color: black;}#sk-container-id-1 div.sk-estimator:hover label.sk-toggleable__label-arrow:before {color: black;}#sk-container-id-1 div.sk-toggleable__content {max-height: 0;max-width: 0;overflow: hidden;text-align: left;background-color: #f0f8ff;}#sk-container-id-1 div.sk-toggleable__content pre {margin: 0.2em;color: black;border-radius: 0.25em;background-color: #f0f8ff;}#sk-container-id-1 input.sk-toggleable__control:checked~div.sk-toggleable__content {max-height: 200px;max-width: 100%;overflow: auto;}#sk-container-id-1 input.sk-toggleable__control:checked~label.sk-toggleable__label-arrow:before {content: \"▾\";}#sk-container-id-1 div.sk-estimator input.sk-toggleable__control:checked~label.sk-toggleable__label {background-color: #d4ebff;}#sk-container-id-1 div.sk-label input.sk-toggleable__control:checked~label.sk-toggleable__label {background-color: #d4ebff;}#sk-container-id-1 input.sk-hidden--visually {border: 0;clip: rect(1px 1px 1px 1px);clip: rect(1px, 1px, 1px, 1px);height: 1px;margin: -1px;overflow: hidden;padding: 0;position: absolute;width: 1px;}#sk-container-id-1 div.sk-estimator {font-family: monospace;background-color: #f0f8ff;border: 1px dotted black;border-radius: 0.25em;box-sizing: border-box;margin-bottom: 0.5em;}#sk-container-id-1 div.sk-estimator:hover {background-color: #d4ebff;}#sk-container-id-1 div.sk-parallel-item::after {content: \"\";width: 100%;border-bottom: 1px solid gray;flex-grow: 1;}#sk-container-id-1 div.sk-label:hover label.sk-toggleable__label {background-color: #d4ebff;}#sk-container-id-1 div.sk-serial::before {content: \"\";position: absolute;border-left: 1px solid gray;box-sizing: border-box;top: 0;bottom: 0;left: 50%;z-index: 0;}#sk-container-id-1 div.sk-serial {display: flex;flex-direction: column;align-items: center;background-color: white;padding-right: 0.2em;padding-left: 0.2em;position: relative;}#sk-container-id-1 div.sk-item {position: relative;z-index: 1;}#sk-container-id-1 div.sk-parallel {display: flex;align-items: stretch;justify-content: center;background-color: white;position: relative;}#sk-container-id-1 div.sk-item::before, #sk-container-id-1 div.sk-parallel-item::before {content: \"\";position: absolute;border-left: 1px solid gray;box-sizing: border-box;top: 0;bottom: 0;left: 50%;z-index: -1;}#sk-container-id-1 div.sk-parallel-item {display: flex;flex-direction: column;z-index: 1;position: relative;background-color: white;}#sk-container-id-1 div.sk-parallel-item:first-child::after {align-self: flex-end;width: 50%;}#sk-container-id-1 div.sk-parallel-item:last-child::after {align-self: flex-start;width: 50%;}#sk-container-id-1 div.sk-parallel-item:only-child::after {width: 0;}#sk-container-id-1 div.sk-dashed-wrapped {border: 1px dashed gray;margin: 0 0.4em 0.5em 0.4em;box-sizing: border-box;padding-bottom: 0.4em;background-color: white;}#sk-container-id-1 div.sk-label label {font-family: monospace;font-weight: bold;display: inline-block;line-height: 1.2em;}#sk-container-id-1 div.sk-label-container {text-align: center;}#sk-container-id-1 div.sk-container {/* jupyter's `normalize.less` sets `[hidden] { display: none; }` but bootstrap.min.css set `[hidden] { display: none !important; }` so we also need the `!important` here to be able to override the default hidden behavior on the sphinx rendered scikit-learn.org. See: https://github.com/scikit-learn/scikit-learn/issues/21755 */display: inline-block !important;position: relative;}#sk-container-id-1 div.sk-text-repr-fallback {display: none;}</style><div id=\"sk-container-id-1\" class=\"sk-top-container\"><div class=\"sk-text-repr-fallback\"><pre>DecisionTreeClassifier(max_depth=2, min_impurity_decrease=0.02,\n",
              "                       random_state=5000)</pre><b>In a Jupyter environment, please rerun this cell to show the HTML representation or trust the notebook. <br />On GitHub, the HTML representation is unable to render, please try loading this page with nbviewer.org.</b></div><div class=\"sk-container\" hidden><div class=\"sk-item\"><div class=\"sk-estimator sk-toggleable\"><input class=\"sk-toggleable__control sk-hidden--visually\" id=\"sk-estimator-id-1\" type=\"checkbox\" checked><label for=\"sk-estimator-id-1\" class=\"sk-toggleable__label sk-toggleable__label-arrow\">DecisionTreeClassifier</label><div class=\"sk-toggleable__content\"><pre>DecisionTreeClassifier(max_depth=2, min_impurity_decrease=0.02,\n",
              "                       random_state=5000)</pre></div></div></div></div></div>"
            ],
            "text/plain": [
              "DecisionTreeClassifier(max_depth=2, min_impurity_decrease=0.02,\n",
              "                       random_state=5000)"
            ]
          },
          "execution_count": 35,
          "metadata": {},
          "output_type": "execute_result"
        }
      ],
      "source": [
        "dtc = sklearn.tree.DecisionTreeClassifier(\n",
        "    max_depth = 2,\n",
        "    random_state=5000,\n",
        "    #min_samples_leaf=8,\n",
        "    min_impurity_decrease=0.02\n",
        ")\n",
        "dtc.fit(X_train_num, y_train)"
      ]
    },
    {
      "cell_type": "code",
      "execution_count": 36,
      "metadata": {
        "id": "HH9hs6-Jljsp"
      },
      "outputs": [],
      "source": [
        "y_train_pred = dtc.predict(X_train_num)\n",
        "y_test_pred = dtc.predict(X_test_num)"
      ]
    },
    {
      "cell_type": "code",
      "execution_count": 37,
      "metadata": {
        "id": "iDk_XR5UJKYd"
      },
      "outputs": [],
      "source": [
        "Xy_train = pd.concat([X_train, y_train], axis=1)\n",
        "Xy_train['prediction'] = y_train_pred\n",
        "Xy_test = pd.concat([X_test, y_test], axis=1)\n",
        "Xy_test['prediction'] = y_test_pred"
      ]
    },
    {
      "cell_type": "code",
      "execution_count": 38,
      "metadata": {
        "colab": {
          "base_uri": "https://localhost:8080/"
        },
        "id": "kdSWjwVQoznV",
        "outputId": "31b6e58f-b8b3-4d94-99ec-d600708ffef0"
      },
      "outputs": [
        {
          "data": {
            "text/plain": [
              "dict_keys(['Ambient', 'EDM', 'Hip Hop', 'Jazz'])"
            ]
          },
          "execution_count": 38,
          "metadata": {},
          "output_type": "execute_result"
        }
      ],
      "source": [
        "genre_map.keys()"
      ]
    },
    {
      "cell_type": "code",
      "execution_count": 42,
      "metadata": {
        "colab": {
          "base_uri": "https://localhost:8080/",
          "height": 441
        },
        "id": "6qbM4PPpngzU",
        "outputId": "c78afa1b-2d8f-471a-82b2-42e56f42b0cd"
      },
      "outputs": [
        {
          "data": {
            "image/svg+xml": [
              "<?xml version=\"1.0\" encoding=\"UTF-8\" standalone=\"no\"?>\n",
              "<!DOCTYPE svg PUBLIC \"-//W3C//DTD SVG 1.1//EN\"\n",
              " \"http://www.w3.org/Graphics/SVG/1.1/DTD/svg11.dtd\">\n",
              "<!-- Generated by graphviz version 9.0.0 (20230911.1827)\n",
              " -->\n",
              "<!-- Title: Tree Pages: 1 -->\n",
              "<svg width=\"611pt\" height=\"314pt\"\n",
              " viewBox=\"0.00 0.00 610.50 314.00\" xmlns=\"http://www.w3.org/2000/svg\" xmlns:xlink=\"http://www.w3.org/1999/xlink\">\n",
              "<g id=\"graph0\" class=\"graph\" transform=\"scale(1 1) rotate(0) translate(4 310)\">\n",
              "<title>Tree</title>\n",
              "<polygon fill=\"white\" stroke=\"none\" points=\"-4,4 -4,-310 606.5,-310 606.5,4 -4,4\"/>\n",
              "<!-- 0 -->\n",
              "<g id=\"node1\" class=\"node\">\n",
              "<title>0</title>\n",
              "<path fill=\"#fefffe\" stroke=\"black\" d=\"M363.75,-306C363.75,-306 233.75,-306 233.75,-306 227.75,-306 221.75,-300 221.75,-294 221.75,-294 221.75,-235 221.75,-235 221.75,-229 227.75,-223 233.75,-223 233.75,-223 363.75,-223 363.75,-223 369.75,-223 375.75,-229 375.75,-235 375.75,-235 375.75,-294 375.75,-294 375.75,-300 369.75,-306 363.75,-306\"/>\n",
              "<text text-anchor=\"start\" x=\"234.62\" y=\"-288.7\" font-family=\"Helvetica,sans-Serif\" font-size=\"14.00\">log_loudness ≤ 1.345</text>\n",
              "<text text-anchor=\"start\" x=\"267.25\" y=\"-273.7\" font-family=\"Helvetica,sans-Serif\" font-size=\"14.00\">gini = 0.75</text>\n",
              "<text text-anchor=\"start\" x=\"254.12\" y=\"-258.7\" font-family=\"Helvetica,sans-Serif\" font-size=\"14.00\">samples = 383</text>\n",
              "<text text-anchor=\"start\" x=\"229.75\" y=\"-243.7\" font-family=\"Helvetica,sans-Serif\" font-size=\"14.00\">value = [94, 98, 94, 97]</text>\n",
              "<text text-anchor=\"start\" x=\"260.12\" y=\"-228.7\" font-family=\"Helvetica,sans-Serif\" font-size=\"14.00\">class = EDM</text>\n",
              "</g>\n",
              "<!-- 1 -->\n",
              "<g id=\"node2\" class=\"node\">\n",
              "<title>1</title>\n",
              "<path fill=\"#fefbf9\" stroke=\"black\" d=\"M276.25,-187C276.25,-187 161.25,-187 161.25,-187 155.25,-187 149.25,-181 149.25,-175 149.25,-175 149.25,-116 149.25,-116 149.25,-110 155.25,-104 161.25,-104 161.25,-104 276.25,-104 276.25,-104 282.25,-104 288.25,-110 288.25,-116 288.25,-116 288.25,-175 288.25,-175 288.25,-181 282.25,-187 276.25,-187\"/>\n",
              "<text text-anchor=\"start\" x=\"158.75\" y=\"-169.7\" font-family=\"Helvetica,sans-Serif\" font-size=\"14.00\">danceability ≤ 0.312</text>\n",
              "<text text-anchor=\"start\" x=\"183.5\" y=\"-154.7\" font-family=\"Helvetica,sans-Serif\" font-size=\"14.00\">gini = 0.516</text>\n",
              "<text text-anchor=\"start\" x=\"174.12\" y=\"-139.7\" font-family=\"Helvetica,sans-Serif\" font-size=\"14.00\">samples = 178</text>\n",
              "<text text-anchor=\"start\" x=\"157.25\" y=\"-124.7\" font-family=\"Helvetica,sans-Serif\" font-size=\"14.00\">value = [89, 0, 3, 86]</text>\n",
              "<text text-anchor=\"start\" x=\"170.38\" y=\"-109.7\" font-family=\"Helvetica,sans-Serif\" font-size=\"14.00\">class = Ambient</text>\n",
              "</g>\n",
              "<!-- 0&#45;&gt;1 -->\n",
              "<g id=\"edge1\" class=\"edge\">\n",
              "<title>0&#45;&gt;1</title>\n",
              "<path fill=\"none\" stroke=\"black\" d=\"M270.77,-222.58C265.01,-214.16 258.89,-205.2 252.94,-196.5\"/>\n",
              "<polygon fill=\"black\" stroke=\"black\" points=\"255.97,-194.73 247.43,-188.45 250.19,-198.68 255.97,-194.73\"/>\n",
              "<text text-anchor=\"middle\" x=\"241.96\" y=\"-205.97\" font-family=\"Helvetica,sans-Serif\" font-size=\"14.00\">True</text>\n",
              "</g>\n",
              "<!-- 4 -->\n",
              "<g id=\"node5\" class=\"node\">\n",
              "<title>4</title>\n",
              "<path fill=\"#f4fdf3\" stroke=\"black\" d=\"M441,-187C441,-187 318.5,-187 318.5,-187 312.5,-187 306.5,-181 306.5,-175 306.5,-175 306.5,-116 306.5,-116 306.5,-110 312.5,-104 318.5,-104 318.5,-104 441,-104 441,-104 447,-104 453,-110 453,-116 453,-116 453,-175 453,-175 453,-181 447,-187 441,-187\"/>\n",
              "<text text-anchor=\"start\" x=\"334.75\" y=\"-169.7\" font-family=\"Helvetica,sans-Serif\" font-size=\"14.00\">energy ≤ 0.777</text>\n",
              "<text text-anchor=\"start\" x=\"344.5\" y=\"-154.7\" font-family=\"Helvetica,sans-Serif\" font-size=\"14.00\">gini = 0.571</text>\n",
              "<text text-anchor=\"start\" x=\"335.12\" y=\"-139.7\" font-family=\"Helvetica,sans-Serif\" font-size=\"14.00\">samples = 205</text>\n",
              "<text text-anchor=\"start\" x=\"314.5\" y=\"-124.7\" font-family=\"Helvetica,sans-Serif\" font-size=\"14.00\">value = [5, 98, 91, 11]</text>\n",
              "<text text-anchor=\"start\" x=\"341.12\" y=\"-109.7\" font-family=\"Helvetica,sans-Serif\" font-size=\"14.00\">class = EDM</text>\n",
              "</g>\n",
              "<!-- 0&#45;&gt;4 -->\n",
              "<g id=\"edge4\" class=\"edge\">\n",
              "<title>0&#45;&gt;4</title>\n",
              "<path fill=\"none\" stroke=\"black\" d=\"M327.08,-222.58C332.91,-214.16 339.11,-205.2 345.13,-196.5\"/>\n",
              "<polygon fill=\"black\" stroke=\"black\" points=\"347.9,-198.66 350.71,-188.44 342.14,-194.67 347.9,-198.66\"/>\n",
              "<text text-anchor=\"middle\" x=\"356.05\" y=\"-206\" font-family=\"Helvetica,sans-Serif\" font-size=\"14.00\">False</text>\n",
              "</g>\n",
              "<!-- 2 -->\n",
              "<g id=\"node3\" class=\"node\">\n",
              "<title>2</title>\n",
              "<path fill=\"#e78b49\" stroke=\"black\" d=\"M119.5,-68C119.5,-68 12,-68 12,-68 6,-68 0,-62 0,-56 0,-56 0,-12 0,-12 0,-6 6,0 12,0 12,0 119.5,0 119.5,0 125.5,0 131.5,-6 131.5,-12 131.5,-12 131.5,-56 131.5,-56 131.5,-62 125.5,-68 119.5,-68\"/>\n",
              "<text text-anchor=\"start\" x=\"30.5\" y=\"-50.7\" font-family=\"Helvetica,sans-Serif\" font-size=\"14.00\">gini = 0.136</text>\n",
              "<text text-anchor=\"start\" x=\"24.88\" y=\"-35.7\" font-family=\"Helvetica,sans-Serif\" font-size=\"14.00\">samples = 68</text>\n",
              "<text text-anchor=\"start\" x=\"8\" y=\"-20.7\" font-family=\"Helvetica,sans-Serif\" font-size=\"14.00\">value = [63, 0, 0, 5]</text>\n",
              "<text text-anchor=\"start\" x=\"17.38\" y=\"-5.7\" font-family=\"Helvetica,sans-Serif\" font-size=\"14.00\">class = Ambient</text>\n",
              "</g>\n",
              "<!-- 1&#45;&gt;2 -->\n",
              "<g id=\"edge2\" class=\"edge\">\n",
              "<title>1&#45;&gt;2</title>\n",
              "<path fill=\"none\" stroke=\"black\" d=\"M161.78,-103.73C148.65,-94.33 134.7,-84.35 121.62,-74.99\"/>\n",
              "<polygon fill=\"black\" stroke=\"black\" points=\"123.68,-72.15 113.51,-69.18 119.6,-77.85 123.68,-72.15\"/>\n",
              "</g>\n",
              "<!-- 3 -->\n",
              "<g id=\"node4\" class=\"node\">\n",
              "<title>3</title>\n",
              "<path fill=\"#e57dee\" stroke=\"black\" d=\"M276.25,-68C276.25,-68 161.25,-68 161.25,-68 155.25,-68 149.25,-62 149.25,-56 149.25,-56 149.25,-12 149.25,-12 149.25,-6 155.25,0 161.25,0 161.25,0 276.25,0 276.25,0 282.25,0 288.25,-6 288.25,-12 288.25,-12 288.25,-56 288.25,-56 288.25,-62 282.25,-68 276.25,-68\"/>\n",
              "<text text-anchor=\"start\" x=\"183.5\" y=\"-50.7\" font-family=\"Helvetica,sans-Serif\" font-size=\"14.00\">gini = 0.401</text>\n",
              "<text text-anchor=\"start\" x=\"174.12\" y=\"-35.7\" font-family=\"Helvetica,sans-Serif\" font-size=\"14.00\">samples = 110</text>\n",
              "<text text-anchor=\"start\" x=\"157.25\" y=\"-20.7\" font-family=\"Helvetica,sans-Serif\" font-size=\"14.00\">value = [26, 0, 3, 81]</text>\n",
              "<text text-anchor=\"start\" x=\"181.62\" y=\"-5.7\" font-family=\"Helvetica,sans-Serif\" font-size=\"14.00\">class = Jazz</text>\n",
              "</g>\n",
              "<!-- 1&#45;&gt;3 -->\n",
              "<g id=\"edge3\" class=\"edge\">\n",
              "<title>1&#45;&gt;3</title>\n",
              "<path fill=\"none\" stroke=\"black\" d=\"M218.75,-103.73C218.75,-95.88 218.75,-87.63 218.75,-79.67\"/>\n",
              "<polygon fill=\"black\" stroke=\"black\" points=\"222.25,-79.81 218.75,-69.81 215.25,-79.81 222.25,-79.81\"/>\n",
              "</g>\n",
              "<!-- 5 -->\n",
              "<g id=\"node6\" class=\"node\">\n",
              "<title>5</title>\n",
              "<path fill=\"#b8dcf6\" stroke=\"black\" d=\"M441,-68C441,-68 318.5,-68 318.5,-68 312.5,-68 306.5,-62 306.5,-56 306.5,-56 306.5,-12 306.5,-12 306.5,-6 312.5,0 318.5,0 318.5,0 441,0 441,0 447,0 453,-6 453,-12 453,-12 453,-56 453,-56 453,-62 447,-68 441,-68\"/>\n",
              "<text text-anchor=\"start\" x=\"344.5\" y=\"-50.7\" font-family=\"Helvetica,sans-Serif\" font-size=\"14.00\">gini = 0.557</text>\n",
              "<text text-anchor=\"start\" x=\"335.12\" y=\"-35.7\" font-family=\"Helvetica,sans-Serif\" font-size=\"14.00\">samples = 147</text>\n",
              "<text text-anchor=\"start\" x=\"314.5\" y=\"-20.7\" font-family=\"Helvetica,sans-Serif\" font-size=\"14.00\">value = [4, 49, 84, 10]</text>\n",
              "<text text-anchor=\"start\" x=\"332.12\" y=\"-5.7\" font-family=\"Helvetica,sans-Serif\" font-size=\"14.00\">class = Hip Hop</text>\n",
              "</g>\n",
              "<!-- 4&#45;&gt;5 -->\n",
              "<g id=\"edge5\" class=\"edge\">\n",
              "<title>4&#45;&gt;5</title>\n",
              "<path fill=\"none\" stroke=\"black\" d=\"M379.75,-103.73C379.75,-95.88 379.75,-87.63 379.75,-79.67\"/>\n",
              "<polygon fill=\"black\" stroke=\"black\" points=\"383.25,-79.81 379.75,-69.81 376.25,-79.81 383.25,-79.81\"/>\n",
              "</g>\n",
              "<!-- 6 -->\n",
              "<g id=\"node7\" class=\"node\">\n",
              "<title>6</title>\n",
              "<path fill=\"#67ea5c\" stroke=\"black\" d=\"M590.5,-68C590.5,-68 483,-68 483,-68 477,-68 471,-62 471,-56 471,-56 471,-12 471,-12 471,-6 477,0 483,0 483,0 590.5,0 590.5,0 596.5,0 602.5,-6 602.5,-12 602.5,-12 602.5,-56 602.5,-56 602.5,-62 596.5,-68 590.5,-68\"/>\n",
              "<text text-anchor=\"start\" x=\"501.5\" y=\"-50.7\" font-family=\"Helvetica,sans-Serif\" font-size=\"14.00\">gini = 0.271</text>\n",
              "<text text-anchor=\"start\" x=\"495.88\" y=\"-35.7\" font-family=\"Helvetica,sans-Serif\" font-size=\"14.00\">samples = 58</text>\n",
              "<text text-anchor=\"start\" x=\"479\" y=\"-20.7\" font-family=\"Helvetica,sans-Serif\" font-size=\"14.00\">value = [1, 49, 7, 1]</text>\n",
              "<text text-anchor=\"start\" x=\"498.12\" y=\"-5.7\" font-family=\"Helvetica,sans-Serif\" font-size=\"14.00\">class = EDM</text>\n",
              "</g>\n",
              "<!-- 4&#45;&gt;6 -->\n",
              "<g id=\"edge6\" class=\"edge\">\n",
              "<title>4&#45;&gt;6</title>\n",
              "<path fill=\"none\" stroke=\"black\" d=\"M438.21,-103.73C451.74,-94.29 466.12,-84.26 479.59,-74.86\"/>\n",
              "<polygon fill=\"black\" stroke=\"black\" points=\"481.31,-77.93 487.51,-69.34 477.31,-72.19 481.31,-77.93\"/>\n",
              "</g>\n",
              "</g>\n",
              "</svg>\n"
            ],
            "text/plain": [
              "<graphviz.sources.Source at 0x144b37250>"
            ]
          },
          "execution_count": 42,
          "metadata": {},
          "output_type": "execute_result"
        }
      ],
      "source": [
        "import graphviz\n",
        "def visualize_tree(dtc_object):\n",
        "  dot_data = sklearn.tree.export_graphviz(dtc_object, out_file=None,\n",
        "                      feature_names=X_train_num.columns,\n",
        "                      class_names=list(genre_map.keys()),\n",
        "                      filled=True, rounded=True,\n",
        "                      special_characters=True)\n",
        "  graph = graphviz.Source(dot_data)\n",
        "  graph.render(outfile=\"test.svg\")\n",
        "  return graph\n",
        "visualize_tree(dtc)"
      ]
    },
    {
      "cell_type": "markdown",
      "metadata": {
        "id": "9F-5SgCJpiI7"
      },
      "source": [
        "Let's make an interactive plot visualizing these cutpoints, so that we can hover over the points to see what songs they represent!"
      ]
    },
    {
      "cell_type": "code",
      "execution_count": 45,
      "metadata": {
        "id": "3DETkEYrpe37"
      },
      "outputs": [],
      "source": [
        "import plotly.express as px\n",
        "import plotly.graph_objs as go"
      ]
    },
    {
      "cell_type": "code",
      "execution_count": 46,
      "metadata": {
        "colab": {
          "base_uri": "https://localhost:8080/",
          "height": 542
        },
        "id": "5kShD0FjpkQj",
        "outputId": "8a2dc74f-d6d4-4332-f618-8ddce91354f1"
      },
      "outputs": [
        {
          "data": {
            "application/vnd.plotly.v1+json": {
              "config": {
                "plotlyServerURL": "https://plot.ly"
              },
              "data": [
                {
                  "customdata": [
                    [
                      "Doin' It",
                      "Herbie Hancock"
                    ],
                    [
                      "My Little Brown Book",
                      "John Coltrane"
                    ],
                    [
                      "Moanin'",
                      "Charles Mingus"
                    ],
                    [
                      "'Round Midnight (feat. John Coltrane, Red Garland, Paul Chambers & Philly Joe Jones)",
                      "Miles Davis"
                    ],
                    [
                      "I Fall In Love Too Easily",
                      "Bill Evans Trio"
                    ],
                    [
                      "Dream A Little Dream Of Me",
                      "Ella Fitzgerald"
                    ],
                    [
                      "Peace Piece",
                      "Bill Evans Trio"
                    ],
                    [
                      "I Fall In Love Too Easily",
                      "Chet Baker"
                    ],
                    [
                      "Nardis",
                      "Bill Evans Trio"
                    ],
                    [
                      "You Are Too Beautiful",
                      "John Coltrane"
                    ],
                    [
                      "Don't Get Around Much Anymore",
                      "Duke Ellington"
                    ],
                    [
                      "Cheek To Cheek",
                      "Ella Fitzgerald"
                    ],
                    [
                      "Corcovado (Quiet Nights Of Quiet Stars)",
                      "Stan Getz"
                    ],
                    [
                      "Days Of Wine And Roses",
                      "Wes Montgomery"
                    ],
                    [
                      "It Don't Mean a Thing (If It Ain't Got That Swing)",
                      "Duke Ellington"
                    ],
                    [
                      "Waltz For Debby",
                      "Bill Evans"
                    ],
                    [
                      "Maiden Voyage - Remastered",
                      "Herbie Hancock"
                    ],
                    [
                      "My One And Only Love",
                      "John Coltrane"
                    ],
                    [
                      "Time After Time - Vocal Version",
                      "Chet Baker"
                    ],
                    [
                      "Night And Day",
                      "Ella Fitzgerald"
                    ],
                    [
                      "Desafinado",
                      "Stan Getz"
                    ],
                    [
                      "Corcovado (Quiet Nights Of Quiet Stars) - Single Version",
                      "Stan Getz"
                    ],
                    [
                      "Fables of Faubus",
                      "Charles Mingus"
                    ],
                    [
                      "Young And Foolish",
                      "Bill Evans"
                    ],
                    [
                      "I Get Along Without You Very Well (Except Sometimes) - Vocal Version",
                      "Chet Baker"
                    ],
                    [
                      "Blue in Green (feat. John Coltrane & Bill Evans)",
                      "Miles Davis"
                    ],
                    [
                      "Polka Dots And Moonbeams",
                      "Wes Montgomery"
                    ],
                    [
                      "How Insensitive",
                      "Wes Montgomery"
                    ],
                    [
                      "Bring Down the Birds - Outtake",
                      "Herbie Hancock"
                    ],
                    [
                      "My Funny Valentine",
                      "Chet Baker"
                    ],
                    [
                      "Générique - Bande originale du film \"Ascenseur pour l'échafaud\"",
                      "Miles Davis"
                    ],
                    [
                      "Sleigh Ride",
                      "Ella Fitzgerald"
                    ],
                    [
                      "Naima - Mono",
                      "John Coltrane"
                    ],
                    [
                      "Giant Steps - Mono",
                      "John Coltrane"
                    ],
                    [
                      "Watermelon Man - Remastered",
                      "Herbie Hancock"
                    ],
                    [
                      "Strange Fruit",
                      "Billie Holiday"
                    ],
                    [
                      "Só Danço Samba",
                      "Stan Getz"
                    ],
                    [
                      "Take The Coltrane",
                      "Duke Ellington"
                    ],
                    [
                      "Rockit",
                      "Herbie Hancock"
                    ],
                    [
                      "Waltz For Debby - Live At The Village Vanguard, New York / 1961 / Take 2",
                      "Bill Evans Trio"
                    ],
                    [
                      "All of Me",
                      "Billie Holiday"
                    ],
                    [
                      "My Foolish Heart",
                      "Bill Evans Trio"
                    ],
                    [
                      "April In Paris",
                      "Billie Holiday"
                    ],
                    [
                      "Track B- Duete Solo Dancers",
                      "Charles Mingus"
                    ],
                    [
                      "Porgy (I Loves You Porgy) - Outtake",
                      "Bill Evans Trio"
                    ],
                    [
                      "The Girl From Ipanema",
                      "Stan Getz"
                    ],
                    [
                      "But Beautiful",
                      "Stan Getz"
                    ],
                    [
                      "Better Git It in Your Soul",
                      "Charles Mingus"
                    ],
                    [
                      "That Old Feeling",
                      "Chet Baker"
                    ],
                    [
                      "It Never Entered My Mind",
                      "Miles Davis"
                    ],
                    [
                      "Autumn In New York",
                      "Billie Holiday"
                    ],
                    [
                      "Gary's Theme - Remastered",
                      "Bill Evans"
                    ],
                    [
                      "Skating In Central Park",
                      "Bill Evans"
                    ],
                    [
                      "Easy living",
                      "Billie Holiday"
                    ],
                    [
                      "It's Only A Paper Moon",
                      "Ella Fitzgerald"
                    ],
                    [
                      "Autumn In New York",
                      "Ella Fitzgerald"
                    ],
                    [
                      "Isfahan",
                      "Duke Ellington"
                    ],
                    [
                      "They Can't Take That Away From Me",
                      "Ella Fitzgerald"
                    ],
                    [
                      "Goodbye Pork Pie Hat",
                      "Charles Mingus"
                    ],
                    [
                      "Peace Piece",
                      "Bill Evans"
                    ],
                    [
                      "II B.S. - Edit",
                      "Charles Mingus"
                    ],
                    [
                      "Chameleon",
                      "Herbie Hancock"
                    ],
                    [
                      "Track A- Solo Dancer",
                      "Charles Mingus"
                    ],
                    [
                      "In Your Own Sweet Way",
                      "Wes Montgomery"
                    ],
                    [
                      "A Love Supreme, Pt. I – Acknowledgement",
                      "John Coltrane"
                    ],
                    [
                      "Blue Train - Remastered 2003/Rudy Van Gelder Edition",
                      "John Coltrane"
                    ],
                    [
                      "You Go To My Head",
                      "Billie Holiday"
                    ],
                    [
                      "Autumn Leaves",
                      "Miles Davis"
                    ],
                    [
                      "Milestones (feat. John Coltrane, Cannonball Adderley, Red Garland, Paul Chambers & Philly Joe Jones)",
                      "Miles Davis"
                    ],
                    [
                      "Caravan",
                      "Wes Montgomery"
                    ],
                    [
                      "Cantaloupe Island - Remastered 1999/Rudy Van Gelder Edition",
                      "Herbie Hancock"
                    ],
                    [
                      "Mood Indigo",
                      "Charles Mingus"
                    ],
                    [
                      "As Time Goes By",
                      "Billie Holiday"
                    ],
                    [
                      "Autumn Leaves - Album Version - (Take 1)",
                      "Bill Evans Trio"
                    ],
                    [
                      "It's Always You - Vocal Version",
                      "Chet Baker"
                    ],
                    [
                      "Watermelon Man",
                      "Herbie Hancock"
                    ],
                    [
                      "Four On Six",
                      "Wes Montgomery"
                    ],
                    [
                      "My Favorite Things",
                      "John Coltrane"
                    ],
                    [
                      "Blue In Green - Album Version - (take 3)",
                      "Bill Evans Trio"
                    ],
                    [
                      "My Little Brown Book",
                      "Duke Ellington"
                    ],
                    [
                      "My Foolish Heart - Live At The Village Vanguard / 1961",
                      "Bill Evans"
                    ],
                    [
                      "In A Sentimental Mood",
                      "Duke Ellington"
                    ],
                    [
                      "A Day In The Life",
                      "Wes Montgomery"
                    ],
                    [
                      "In A Sentimental Mood",
                      "John Coltrane"
                    ],
                    [
                      "Self-Portrait in Three Colors",
                      "Charles Mingus"
                    ],
                    [
                      "Take the \"A\" Train",
                      "Duke Ellington"
                    ],
                    [
                      "Tell Me a Bedtime Story",
                      "Herbie Hancock"
                    ],
                    [
                      "But Beautiful",
                      "Bill Evans"
                    ],
                    [
                      "Blue Moon",
                      "Billie Holiday"
                    ],
                    [
                      "All Blues (feat. John Coltrane, Cannonball Adderley & Bill Evans)",
                      "Miles Davis"
                    ],
                    [
                      "My Funny Valentine",
                      "Miles Davis"
                    ],
                    [
                      "Vivo Sohando - Stereo Version",
                      "Stan Getz"
                    ],
                    [
                      "They Say It's Wonderful",
                      "John Coltrane"
                    ],
                    [
                      "B Minor Waltz - Remastered 2003",
                      "Bill Evans"
                    ],
                    [
                      "Bumpin' On Sunset",
                      "Wes Montgomery"
                    ],
                    [
                      "Summertime",
                      "Ella Fitzgerald"
                    ],
                    [
                      "How Deep Is The Ocean?",
                      "Bill Evans Trio"
                    ]
                  ],
                  "hovertemplate": "genre=Jazz<br>log_loudness=%{x}<br>danceability=%{y}<br>name=%{customdata[0]}<br>artist=%{customdata[1]}<extra></extra>",
                  "legendgroup": "Jazz",
                  "marker": {
                    "color": "#1F77B4",
                    "symbol": "circle"
                  },
                  "mode": "markers",
                  "name": "Jazz",
                  "orientation": "v",
                  "showlegend": true,
                  "type": "scatter",
                  "x": [
                    1.2273783129061142,
                    1.105307368689083,
                    1.3740787191971298,
                    1.299389295335971,
                    0.7546369312946579,
                    1.0899411140525963,
                    0.7833774312668593,
                    0.7562034294480071,
                    0.5105312824751413,
                    0.6413976940929054,
                    1.3364101988273567,
                    1.1125201002593625,
                    0.8253792190012406,
                    0.4725926560737177,
                    1.1240036955141037,
                    0.7196715608267286,
                    1.4350305562332037,
                    0.9288934253534267,
                    0.7748226017849449,
                    1.0251107925044338,
                    0.8443175729720562,
                    0.9470689068882203,
                    0.8956649361892399,
                    0.5439889486659877,
                    0.5695452054336925,
                    0.4746805451104721,
                    0.8135770444865345,
                    0.5982228974627768,
                    0.9872033255603463,
                    0.43289679223274247,
                    1.2649061687751266,
                    1.1842886754607527,
                    0.6333237789508463,
                    1.2691739103047395,
                    1.560908289221603,
                    0.5886309237470377,
                    0.9889825095821161,
                    1.4690884400724142,
                    2.0830542712509708,
                    0.6139634635026021,
                    1.0162605747541176,
                    0.5538856038675806,
                    1.053758494606504,
                    1.5391783542254993,
                    0.5738034894384714,
                    0.8248753419365809,
                    0.6221104261616301,
                    1.1831667905766756,
                    0.8856224105194372,
                    1.07963398934232,
                    0.9867425718908489,
                    0.626094221525872,
                    0.476219705190954,
                    0.9201743273560092,
                    0.8766813556038842,
                    0.783968273233826,
                    1.1018311623853938,
                    0.9790726663831575,
                    0.8959653718231655,
                    0.6952837498472824,
                    1.3437183921340816,
                    1.5940526190595592,
                    1.560090675440145,
                    0.8323474967058861,
                    1.1074583059174001,
                    1.6589213473044158,
                    0.9188207308901828,
                    0.8538365392801239,
                    1.6983534502432023,
                    1.3230568846836603,
                    1.6058381877090215,
                    0.5813213359392275,
                    0.9855587506411188,
                    1.0939620281953877,
                    0.6027397987717871,
                    1.2927542848923945,
                    1.1938758586615514,
                    0.7931441350992787,
                    0.8239242663103292,
                    1.105307368689083,
                    0.35794089784263106,
                    1.1872597299608603,
                    1.330082241735377,
                    1.1872597299608603,
                    0.9342490241551067,
                    1.0805009161413057,
                    0.89891442755501,
                    0.6221104261616301,
                    1.2710959797414838,
                    0.8006005606440287,
                    0.8399327249681545,
                    0.9719149054747511,
                    1.0088326251447453,
                    0.9087267412920284,
                    0.7207301620598026,
                    0.6493025038410511,
                    0.7472034987558267
                  ],
                  "xaxis": "x",
                  "y": [
                    0.739,
                    0.372,
                    0.488,
                    0.494,
                    0.476,
                    0.491,
                    0.439,
                    0.532,
                    0.517,
                    0.42,
                    0.6,
                    0.655,
                    0.52,
                    0.47,
                    0.714,
                    0.547,
                    0.467,
                    0.474,
                    0.501,
                    0.442,
                    0.501,
                    0.531,
                    0.518,
                    0.438,
                    0.442,
                    0.421,
                    0.53,
                    0.676,
                    0.704,
                    0.438,
                    0.391,
                    0.508,
                    0.292,
                    0.434,
                    0.612,
                    0.313,
                    0.578,
                    0.433,
                    0.878,
                    0.579,
                    0.504,
                    0.395,
                    0.496,
                    0.23,
                    0.389,
                    0.653,
                    0.499,
                    0.457,
                    0.643,
                    0.475,
                    0.587,
                    0.421,
                    0.478,
                    0.656,
                    0.761,
                    0.425,
                    0.247,
                    0.555,
                    0.356,
                    0.464,
                    0.426,
                    0.581,
                    0.177,
                    0.62,
                    0.37,
                    0.506,
                    0.559,
                    0.523,
                    0.553,
                    0.478,
                    0.515,
                    0.348,
                    0.591,
                    0.626,
                    0.499,
                    0.724,
                    0.379,
                    0.277,
                    0.358,
                    0.372,
                    0.39,
                    0.464,
                    0.483,
                    0.464,
                    0.258,
                    0.479,
                    0.398,
                    0.499,
                    0.639,
                    0.499,
                    0.543,
                    0.464,
                    0.355,
                    0.381,
                    0.759,
                    0.172,
                    0.608
                  ],
                  "yaxis": "y"
                },
                {
                  "customdata": [
                    [
                      "Remember (with David Guetta)",
                      "David Guetta"
                    ],
                    [
                      "Test & Recognise - Flume Re-work",
                      "Flume"
                    ],
                    [
                      "Titanium (feat. Sia)",
                      "David Guetta"
                    ],
                    [
                      "Wolves",
                      "Marshmello"
                    ],
                    [
                      "We Found Love",
                      "Calvin Harris"
                    ],
                    [
                      "Beautiful Now",
                      "Zedd"
                    ],
                    [
                      "On Top (feat. T-Shirt)",
                      "Flume"
                    ],
                    [
                      "In the Name of Love",
                      "Martin Garrix"
                    ],
                    [
                      "Turn On The Lights again.. (feat. Future)",
                      "Fred again.."
                    ],
                    [
                      "Levels - Radio Edit",
                      "Avicii"
                    ],
                    [
                      "Feel Something (With I Prevail)",
                      "ILLENIUM"
                    ],
                    [
                      "Hot In It (feat. Charli XCX)",
                      "Tiësto"
                    ],
                    [
                      "Silence",
                      "Marshmello"
                    ],
                    [
                      "Rumble",
                      "Fred again.."
                    ],
                    [
                      "I Could Be The One (Avicii Vs. Nicky Romero) - Radio Edit",
                      "Avicii"
                    ],
                    [
                      "Stay",
                      "Zedd"
                    ],
                    [
                      "Drop The Game",
                      "Flume"
                    ],
                    [
                      "Kyle (i found you)",
                      "Fred again.."
                    ],
                    [
                      "The Business",
                      "Tiësto"
                    ],
                    [
                      "Real Love",
                      "Martin Garrix"
                    ],
                    [
                      "Takeaway",
                      "ILLENIUM"
                    ],
                    [
                      "Dancing Feet (feat. DNCE)",
                      "Kygo"
                    ],
                    [
                      "Feel Good (feat. Daya)",
                      "ILLENIUM"
                    ],
                    [
                      "My Own Advice",
                      "ILLENIUM"
                    ],
                    [
                      "In Da Getto",
                      "Skrillex"
                    ],
                    [
                      "Danielle (smile on my face)",
                      "Fred again.."
                    ],
                    [
                      "365",
                      "Zedd"
                    ],
                    [
                      "adore u",
                      "Fred again.."
                    ],
                    [
                      "Another Love - Tiësto Remix",
                      "Tiësto"
                    ],
                    [
                      "Scared to Be Lonely",
                      "Martin Garrix"
                    ],
                    [
                      "All Nighter",
                      "Tiësto"
                    ],
                    [
                      "High On Life (feat. Bonn)",
                      "Martin Garrix"
                    ],
                    [
                      "Leave Before You Love Me (with Jonas Brothers)",
                      "Marshmello"
                    ],
                    [
                      "Hey Brother",
                      "Avicii"
                    ],
                    [
                      "There for You",
                      "Martin Garrix"
                    ],
                    [
                      "Happier",
                      "Marshmello"
                    ],
                    [
                      "Love Tonight (David Guetta Remix Edit)",
                      "David Guetta"
                    ],
                    [
                      "Addicted To You",
                      "Avicii"
                    ],
                    [
                      "Lonely Together (feat. Rita Ora)",
                      "Avicii"
                    ],
                    [
                      "Baby Don't Hurt Me",
                      "David Guetta"
                    ],
                    [
                      "Remind Me to Forget",
                      "Kygo"
                    ],
                    [
                      "Waiting For Love",
                      "Avicii"
                    ],
                    [
                      "My Way",
                      "Calvin Harris"
                    ],
                    [
                      "Crazy What Love Can Do",
                      "David Guetta"
                    ],
                    [
                      "HARLEY QUINN",
                      "Marshmello"
                    ],
                    [
                      "Holdin On",
                      "Flume"
                    ],
                    [
                      "Firestone",
                      "Kygo"
                    ],
                    [
                      "The Motto",
                      "Tiësto"
                    ],
                    [
                      "This Is What You Came For",
                      "Calvin Harris"
                    ],
                    [
                      "The Middle",
                      "Zedd"
                    ],
                    [
                      "It Ain’t Me (with Selena Gomez)",
                      "Kygo"
                    ],
                    [
                      "Feel So Close - Radio Edit",
                      "Calvin Harris"
                    ],
                    [
                      "Don’t Let Me Let Go (with ILLENIUM & EVAN GIIA)",
                      "ILLENIUM"
                    ],
                    [
                      "Good Thing (with Kehlani)",
                      "Zedd"
                    ],
                    [
                      "Don't Be Shy",
                      "Tiësto"
                    ],
                    [
                      "Lose Somebody",
                      "Kygo"
                    ],
                    [
                      "Rushing Back",
                      "Flume"
                    ],
                    [
                      "Summer",
                      "Calvin Harris"
                    ],
                    [
                      "Jungle",
                      "Fred again.."
                    ],
                    [
                      "Fine Day Anthem",
                      "Skrillex"
                    ],
                    [
                      "Come & Go (with Marshmello)",
                      "Marshmello"
                    ],
                    [
                      "On My Love",
                      "David Guetta"
                    ],
                    [
                      "One Kiss (with Dua Lipa)",
                      "Calvin Harris"
                    ],
                    [
                      "I Want You To Know",
                      "Zedd"
                    ],
                    [
                      "Sexy Bitch (feat. Akon)",
                      "David Guetta"
                    ],
                    [
                      "RATATA",
                      "Skrillex"
                    ],
                    [
                      "One in a Million",
                      "David Guetta"
                    ],
                    [
                      "Stole the Show",
                      "Kygo"
                    ],
                    [
                      "Lost In Japan - Remix",
                      "Zedd"
                    ],
                    [
                      "BOTH",
                      "Tiësto"
                    ],
                    [
                      "The Nights",
                      "Avicii"
                    ],
                    [
                      "Delilah (pull me out of this)",
                      "Fred again.."
                    ],
                    [
                      "Animals - Radio Edit",
                      "Martin Garrix"
                    ],
                    [
                      "Hero",
                      "Martin Garrix"
                    ],
                    [
                      "VOLVER",
                      "Skrillex"
                    ],
                    [
                      "I'm Good (Blue)",
                      "David Guetta"
                    ],
                    [
                      "Memories (feat. Kid Cudi)",
                      "David Guetta"
                    ],
                    [
                      "Drifting",
                      "Tiësto"
                    ],
                    [
                      "The Difference",
                      "Flume"
                    ],
                    [
                      "Fell In Love",
                      "Marshmello"
                    ],
                    [
                      "El Merengue",
                      "Marshmello"
                    ],
                    [
                      "Animals",
                      "Martin Garrix"
                    ],
                    [
                      "Marea (we’ve lost dancing)",
                      "Fred again.."
                    ],
                    [
                      "Say Nothing (feat. MAY-A)",
                      "Flume"
                    ],
                    [
                      "Baby again..",
                      "Skrillex"
                    ],
                    [
                      "FRIENDS",
                      "Marshmello"
                    ],
                    [
                      "Higher Love",
                      "Kygo"
                    ],
                    [
                      "Never Be Like You (feat. Kai)",
                      "Flume"
                    ],
                    [
                      "Pepper",
                      "Skrillex"
                    ],
                    [
                      "Ocean (feat. Khalid)",
                      "Martin Garrix"
                    ],
                    [
                      "Where Are Ü Now (with Justin Bieber)",
                      "Skrillex"
                    ],
                    [
                      "All That Really Matters",
                      "ILLENIUM"
                    ],
                    [
                      "How Deep Is Your Love",
                      "Calvin Harris"
                    ],
                    [
                      "Summer Days (feat. Macklemore & Patrick Stump of Fall Out Boy)",
                      "Martin Garrix"
                    ],
                    [
                      "Desire (with Sam Smith)",
                      "Calvin Harris"
                    ],
                    [
                      "Outside (feat. Ellie Goulding)",
                      "Calvin Harris"
                    ],
                    [
                      "Woke Up in Love",
                      "Kygo"
                    ],
                    [
                      "Clarity",
                      "Zedd"
                    ]
                  ],
                  "hovertemplate": "genre=EDM<br>log_loudness=%{x}<br>danceability=%{y}<br>name=%{customdata[0]}<br>artist=%{customdata[1]}<extra></extra>",
                  "legendgroup": "EDM",
                  "marker": {
                    "color": "#FF7F0E",
                    "symbol": "circle"
                  },
                  "mode": "markers",
                  "name": "EDM",
                  "orientation": "v",
                  "showlegend": true,
                  "type": "scatter",
                  "x": [
                    2.569941805394837,
                    1.5653584663750038,
                    2.406766040378698,
                    2.1786796474646666,
                    2.207036311705469,
                    2.290466392567168,
                    2.0171256393573045,
                    1.9362180453056927,
                    2.109600087060839,
                    1.9258973378426238,
                    2.155542368552907,
                    2.0824635456258376,
                    2.5786333135132957,
                    1.6638309178895496,
                    2.3775218369799624,
                    2.0933493532710887,
                    2.101542025731076,
                    1.498951094036657,
                    1.750642152424176,
                    1.9959608281652614,
                    1.6104933474080614,
                    2.1201735893913023,
                    2.1473170770038466,
                    2.3852192870633444,
                    2.562915267382799,
                    1.5436475073697498,
                    2.0068522046599497,
                    1.7183947439050493,
                    2.163408891525843,
                    1.6554475580279644,
                    1.882902986537971,
                    1.846644760063502,
                    2.1454285023159785,
                    2.125297076364911,
                    1.6787059312010641,
                    2.696537598033119,
                    2.266755546407091,
                    2.307331022991918,
                    2.038371313614694,
                    2.4828235965051,
                    1.853197045596022,
                    2.356330723532084,
                    2.589359891251939,
                    2.3838879062249547,
                    1.9093707952695047,
                    2.1358310992097085,
                    1.7098145074042754,
                    2.1758660972913657,
                    2.6828090587164173,
                    2.5890331472529526,
                    1.8213114025188757,
                    2.6632667775413195,
                    2.157874607498324,
                    2.357885127990137,
                    2.3865524428400526,
                    1.778720203800001,
                    2.151526723296247,
                    2.43913848956457,
                    1.61924964680335,
                    2.3460293190177506,
                    2.062776719383577,
                    2.100539318337328,
                    2.53220147741199,
                    2.6513743673574277,
                    2.0947433592719977,
                    1.3466378272725672,
                    2.3009427948787895,
                    1.6842424599759087,
                    2.0256442093886875,
                    2.576695328410617,
                    2.0404454163663504,
                    1.6607273333473964,
                    2.0304913478870605,
                    2.0570030312891507,
                    2.6961738955377483,
                    2.406766040378698,
                    1.8989943536538703,
                    2.1255025628548974,
                    3.5697535093188537,
                    1.4333834485929646,
                    2.5831699382738647,
                    1.8577464298641975,
                    1.7940927340313686,
                    3.038408155321686,
                    1.67071898203283,
                    2.8389950580131247,
                    1.7394045008021803,
                    2.007399899790026,
                    2.2594450551768848,
                    1.724706510193982,
                    2.312025287325582,
                    2.1167045521403125,
                    2.2323255347854447,
                    1.7652991206095496,
                    2.0152833396468424,
                    2.2911937534914655,
                    1.9163487268894108,
                    2.460742513429845
                  ],
                  "xaxis": "x",
                  "y": [
                    0.626,
                    0.544,
                    0.604,
                    0.724,
                    0.734,
                    0.628,
                    0.528,
                    0.501,
                    0.683,
                    0.584,
                    0.428,
                    0.748,
                    0.52,
                    0.81,
                    0.509,
                    0.69,
                    0.558,
                    0.76,
                    0.798,
                    0.648,
                    0.528,
                    0.746,
                    0.625,
                    0.532,
                    0.924,
                    0.646,
                    0.745,
                    0.747,
                    0.79,
                    0.584,
                    0.753,
                    0.414,
                    0.721,
                    0.545,
                    0.611,
                    0.687,
                    0.621,
                    0.569,
                    0.655,
                    0.602,
                    0.689,
                    0.579,
                    0.818,
                    0.601,
                    0.815,
                    0.43,
                    0.704,
                    0.754,
                    0.631,
                    0.753,
                    0.64,
                    0.707,
                    0.469,
                    0.693,
                    0.77,
                    0.58,
                    0.574,
                    0.596,
                    0.665,
                    0.745,
                    0.625,
                    0.492,
                    0.791,
                    0.58,
                    0.813,
                    0.889,
                    0.454,
                    0.64,
                    0.706,
                    0.69,
                    0.527,
                    0.685,
                    0.595,
                    0.534,
                    0.745,
                    0.561,
                    0.561,
                    0.625,
                    0.56,
                    0.732,
                    0.777,
                    0.675,
                    0.761,
                    0.477,
                    0.847,
                    0.626,
                    0.693,
                    0.444,
                    0.766,
                    0.506,
                    0.432,
                    0.352,
                    0.738,
                    0.661,
                    0.587,
                    0.646,
                    0.649,
                    0.509
                  ],
                  "yaxis": "y"
                },
                {
                  "customdata": [
                    [
                      "Dawn FM - OPN Remix",
                      "Oneohtrix Point Never"
                    ],
                    [
                      "Sleet",
                      "Chihei Hatakeyama"
                    ],
                    [
                      "Dance PM",
                      "Hiroshi Yoshimura"
                    ],
                    [
                      "Melancholia V",
                      "William Basinski"
                    ],
                    [
                      "Avril 14th",
                      "Aphex Twin"
                    ],
                    [
                      "I",
                      "Aphex Twin"
                    ],
                    [
                      "Weightless Part 1",
                      "Marconi Union"
                    ],
                    [
                      "A Meaningful Moment Through a Meaning(less) Process",
                      "Stars Of The Lid"
                    ],
                    [
                      "Enough",
                      "Brian Eno"
                    ],
                    [
                      "Breaking Dawn",
                      "Chihei Hatakeyama"
                    ],
                    [
                      "Headache",
                      "Grouper"
                    ],
                    [
                      "Chrome Country",
                      "Oneohtrix Point Never"
                    ],
                    [
                      "By This River - 2004 Digital Remaster",
                      "Brian Eno"
                    ],
                    [
                      "GREEN",
                      "Hiroshi Yoshimura"
                    ],
                    [
                      "Poison Tree",
                      "Grouper"
                    ],
                    [
                      "Dungtitled (In a Major)",
                      "Stars Of The Lid"
                    ],
                    [
                      "View from My Window",
                      "Hiroshi Yoshimura"
                    ],
                    [
                      "Long Long Silk Bridge",
                      "Susumu Yokota"
                    ],
                    [
                      "Harmony in Blue I",
                      "Tim Hecker"
                    ],
                    [
                      "Trade Winds, White Heat",
                      "Tim Hecker"
                    ],
                    [
                      "Hiberner Toujours",
                      "Stars Of The Lid"
                    ],
                    [
                      "Something blue",
                      "Hiroshi Yoshimura"
                    ],
                    [
                      "Steal Away - Remastered 2004",
                      "Harold Budd"
                    ],
                    [
                      "92982.3",
                      "William Basinski"
                    ],
                    [
                      "Heavy Water/I'd Rather Be Sleeping",
                      "Grouper"
                    ],
                    [
                      "Flim",
                      "Aphex Twin"
                    ],
                    [
                      "The Piano Drop",
                      "Tim Hecker"
                    ],
                    [
                      "Ageispolis",
                      "Aphex Twin"
                    ],
                    [
                      "Water Copy",
                      "Hiroshi Yoshimura"
                    ],
                    [
                      "Mono No Aware 1.2",
                      "William Basinski"
                    ],
                    [
                      "An Arc Of Doves - Remastered 2004",
                      "Harold Budd"
                    ],
                    [
                      "Disintegration Loops (1.1 Excerpt I)",
                      "William Basinski"
                    ],
                    [
                      "Clouds",
                      "Hiroshi Yoshimura"
                    ],
                    [
                      "Alberto Balsalm",
                      "Aphex Twin"
                    ],
                    [
                      "Secret",
                      "Brian Eno"
                    ],
                    [
                      "Azukiiro No Kaori",
                      "Susumu Yokota"
                    ],
                    [
                      "Alien Observer",
                      "Grouper"
                    ],
                    [
                      "Sea, Swallow Me",
                      "Harold Budd"
                    ],
                    [
                      "Again",
                      "Oneohtrix Point Never"
                    ],
                    [
                      "Surround",
                      "Hiroshi Yoshimura"
                    ],
                    [
                      "180db_ [130]",
                      "Aphex Twin"
                    ],
                    [
                      "Rainbow Blood",
                      "Tim Hecker"
                    ],
                    [
                      "An Ending (Ascent) - Remastered 2005",
                      "Brian Eno"
                    ],
                    [
                      "Hagoromo",
                      "Susumu Yokota"
                    ],
                    [
                      "Elseware",
                      "Oneohtrix Point Never"
                    ],
                    [
                      "Melancholia II",
                      "William Basinski"
                    ],
                    [
                      "Les Paul Sanitarium",
                      "Chihei Hatakeyama"
                    ],
                    [
                      "Blue Sky And Yellow Sunflower",
                      "Susumu Yokota"
                    ],
                    [
                      "QKThr",
                      "Aphex Twin"
                    ],
                    [
                      "Glace Bay (part two)",
                      "Marconi Union"
                    ],
                    [
                      "Little Gray Cat",
                      "Grouper"
                    ],
                    [
                      "Blink",
                      "Hiroshi Yoshimura"
                    ],
                    [
                      "When We Fall",
                      "Grouper"
                    ],
                    [
                      "The Mouthchew, Pt. 2",
                      "Stars Of The Lid"
                    ],
                    [
                      "Melancholia VI",
                      "William Basinski"
                    ],
                    [
                      "dlp 1.3",
                      "William Basinski"
                    ],
                    [
                      "Weightless Part 4",
                      "Marconi Union"
                    ],
                    [
                      "Articulate Silences, Pt. 2",
                      "Stars Of The Lid"
                    ],
                    [
                      "White Light",
                      "Chihei Hatakeyama"
                    ],
                    [
                      "Boreal Kiss Pt. 3",
                      "Tim Hecker"
                    ],
                    [
                      "Living Room",
                      "Grouper"
                    ],
                    [
                      "Amanogawa",
                      "Susumu Yokota"
                    ],
                    [
                      "World Outside",
                      "Oneohtrix Point Never"
                    ],
                    [
                      "The way her hair falls",
                      "Grouper"
                    ],
                    [
                      "Sleepless",
                      "Marconi Union"
                    ],
                    [
                      "CREEK",
                      "Hiroshi Yoshimura"
                    ],
                    [
                      "Sleeping And Listening On The Beach",
                      "Chihei Hatakeyama"
                    ],
                    [
                      "I'm Clean Now",
                      "Grouper"
                    ],
                    [
                      "Water And Birds",
                      "Chihei Hatakeyama"
                    ],
                    [
                      "Sea Blue",
                      "Susumu Yokota"
                    ],
                    [
                      "Xtal",
                      "Aphex Twin"
                    ],
                    [
                      "dlp 1.1",
                      "William Basinski"
                    ],
                    [
                      "Even If You're Never Awake",
                      "Stars Of The Lid"
                    ],
                    [
                      "A Stream With Bright Fish - 2005 Digital Remaster",
                      "Harold Budd"
                    ],
                    [
                      "door to the cosmos",
                      "Chihei Hatakeyama"
                    ],
                    [
                      "Tobiume",
                      "Susumu Yokota"
                    ],
                    [
                      "Warm Rain in June I",
                      "Chihei Hatakeyama"
                    ],
                    [
                      "Weightless Part 5",
                      "Marconi Union"
                    ],
                    [
                      "aisatsana [102]",
                      "Aphex Twin"
                    ],
                    [
                      "Weightless - 253 Edit",
                      "Marconi Union"
                    ],
                    [
                      "Time after time",
                      "Hiroshi Yoshimura"
                    ],
                    [
                      "I Saw You",
                      "Brian Eno"
                    ],
                    [
                      "Faraon - 2013 Remaster",
                      "Harold Budd"
                    ],
                    [
                      "Morning Arrive On The Island",
                      "Chihei Hatakeyama"
                    ],
                    [
                      "Pulse",
                      "Chihei Hatakeyama"
                    ],
                    [
                      "Weightless Part 2",
                      "Marconi Union"
                    ],
                    [
                      "Submersible",
                      "Oneohtrix Point Never"
                    ],
                    [
                      "Melancholia III",
                      "William Basinski"
                    ],
                    [
                      "Radio",
                      "Brian Eno"
                    ],
                    [
                      "#3",
                      "Aphex Twin"
                    ],
                    [
                      "Strange Overtones",
                      "Brian Eno"
                    ],
                    [
                      "It's Steeper Near the Roses (For David Sylvian) - 2013 Remaster",
                      "Harold Budd"
                    ],
                    [
                      "Weightless Part 3",
                      "Marconi Union"
                    ],
                    [
                      "She Will Destroy You",
                      "Harold Budd"
                    ]
                  ],
                  "hovertemplate": "genre=Ambient<br>log_loudness=%{x}<br>danceability=%{y}<br>name=%{customdata[0]}<br>artist=%{customdata[1]}<extra></extra>",
                  "legendgroup": "Ambient",
                  "marker": {
                    "color": "#2CA02C",
                    "symbol": "circle"
                  },
                  "mode": "markers",
                  "name": "Ambient",
                  "orientation": "v",
                  "showlegend": true,
                  "type": "scatter",
                  "x": [
                    2.3046233290299147,
                    0.42438546152296164,
                    0.5149144695513095,
                    0,
                    0.3060442343924139,
                    0.3921353139157193,
                    0.6819498933550681,
                    0.49737480082907126,
                    0.8804020154401373,
                    0.6125592551772869,
                    0.6137821644947175,
                    1.5583408937163572,
                    0.48216172869536233,
                    0.535990589881878,
                    0.5904002876801333,
                    0.589028757767093,
                    0.5409083225088591,
                    1.1668817263882008,
                    0.4104945389738459,
                    0.3872091955796635,
                    0.5811897252434752,
                    0.3827387865196368,
                    0.0815689476303505,
                    0.672869898587765,
                    1.0555192444363333,
                    1.0042682461638908,
                    1.2291377704418234,
                    0.8431197972691806,
                    0.4019876103587312,
                    0.09664070172714467,
                    0.15219820041671195,
                    0.5193994277964111,
                    0.4385861684744383,
                    1.094181816466905,
                    0.5873500897049189,
                    0.7789839394161189,
                    0.5896479254486313,
                    1.1106561668213,
                    1.1133413329009856,
                    0.3608576324671433,
                    1.7192157620135655,
                    1.0638010118211518,
                    0.47377394460295896,
                    0.6036815239921722,
                    0.8891974605048327,
                    0.2784435863103014,
                    0.44821779774102266,
                    1.3047110956559633,
                    0.44518836392189387,
                    0.2368648131427724,
                    0.5606957811677131,
                    0.7566215770602045,
                    0.7538546014766774,
                    0.4721992031256139,
                    0.06326530083823245,
                    0.4116416888026815,
                    0.500728678101606,
                    0.5782111860287165,
                    0.40099800117356477,
                    0.4333507530485887,
                    0.6301400180426029,
                    0.43961370267327027,
                    1.6353578804733568,
                    0.380511053932195,
                    0.9531591369666974,
                    0.89584518673799,
                    0.22641164853080253,
                    0.4636991813262852,
                    0.5230350442777096,
                    0.7769011060107336,
                    1.1387568148095752,
                    0.28064980354415736,
                    0.5265177792545366,
                    0.1993386748844741,
                    0.3442792927380842,
                    0.8727983125416312,
                    0.3943163398620797,
                    0.7371039642576083,
                    0.21448453689715086,
                    0.7480843050095025,
                    0.4100138675035345,
                    0.5629761857443434,
                    0.39169967897090796,
                    0.36434779130428563,
                    0.6822895755128893,
                    0.8256032458854032,
                    1.0882644233007603,
                    0.2609032220628982,
                    0.36699998445326054,
                    0.4079090311436411,
                    1.7745157757144738,
                    0.7748758428338065,
                    0.5294293527280693,
                    1.0285356879681378
                  ],
                  "xaxis": "x",
                  "y": [
                    0.337,
                    0.209,
                    0.382,
                    0.265,
                    0.558,
                    0.183,
                    0.0783,
                    0.0629,
                    0.15,
                    0.304,
                    0.282,
                    0.264,
                    0.466,
                    0.409,
                    0.224,
                    0.112,
                    0.297,
                    0.452,
                    0.182,
                    0.147,
                    0.223,
                    0.643,
                    0.494,
                    0.168,
                    0.458,
                    0.71,
                    0.58,
                    0.645,
                    0.227,
                    0.106,
                    0.0887,
                    0.156,
                    0.339,
                    0.791,
                    0.381,
                    0.18,
                    0.219,
                    0.454,
                    0.201,
                    0.142,
                    0.828,
                    0.147,
                    0.257,
                    0.414,
                    0.209,
                    0.18,
                    0.243,
                    0.482,
                    0.451,
                    0.176,
                    0.104,
                    0.361,
                    0.251,
                    0.0814,
                    0.186,
                    0.177,
                    0.248,
                    0.0675,
                    0.206,
                    0.25,
                    0.425,
                    0.657,
                    0.438,
                    0.445,
                    0.221,
                    0.679,
                    0.142,
                    0.235,
                    0.188,
                    0.27,
                    0.51,
                    0.201,
                    0.0823,
                    0.0762,
                    0.153,
                    0.241,
                    0.0879,
                    0.311,
                    0.26,
                    0.172,
                    0.197,
                    0.182,
                    0,
                    0.159,
                    0.0884,
                    0.385,
                    0.181,
                    0.248,
                    0.447,
                    0.159,
                    0.696,
                    0.244,
                    0.0746,
                    0.192
                  ],
                  "yaxis": "y"
                },
                {
                  "customdata": [
                    [
                      "MIDDLE CHILD",
                      "J. Cole"
                    ],
                    [
                      "The Real Slim Shady",
                      "Eminem"
                    ],
                    [
                      "ARE WE STILL FRIENDS?",
                      "Tyler, The Creator"
                    ],
                    [
                      "on the street (with J. Cole)",
                      "J. Cole"
                    ],
                    [
                      "Money Trees",
                      "Kendrick Lamar"
                    ],
                    [
                      "Love Lost",
                      "Mac Miller"
                    ],
                    [
                      "Trance (with Travis Scott & Young Thug)",
                      "Metro Boomin"
                    ],
                    [
                      "Too Many Nights (feat. Don Toliver & with Future)",
                      "Metro Boomin"
                    ],
                    [
                      "I Wonder",
                      "Kanye West"
                    ],
                    [
                      "Glock In My Lap",
                      "Metro Boomin"
                    ],
                    [
                      "Superman",
                      "Eminem"
                    ],
                    [
                      "The Way Life Goes (feat. Oh Wonder)",
                      "Lil Uzi Vert"
                    ],
                    [
                      "Without Me",
                      "Eminem"
                    ],
                    [
                      "Slime You Out (feat. SZA)",
                      "Drake"
                    ],
                    [
                      "XO Tour Llif3",
                      "Lil Uzi Vert"
                    ],
                    [
                      "Bound 2",
                      "Kanye West"
                    ],
                    [
                      "Dang! (feat. Anderson .Paak)",
                      "Mac Miller"
                    ],
                    [
                      "Nikes on My Feet",
                      "Mac Miller"
                    ],
                    [
                      "MY EYES",
                      "Travis Scott"
                    ],
                    [
                      "Rich Baby Daddy (feat. Sexyy Red & SZA)",
                      "Drake"
                    ],
                    [
                      "Good News",
                      "Mac Miller"
                    ],
                    [
                      "Too Many Nights (feat. Don Toliver & with Future)",
                      "Future"
                    ],
                    [
                      "PUFFIN ON ZOOTIEZ",
                      "Future"
                    ],
                    [
                      "Superhero (Heroes & Villains) [with Future & Chris Brown]",
                      "Metro Boomin"
                    ],
                    [
                      "All My Life (feat. J. Cole)",
                      "J. Cole"
                    ],
                    [
                      "MELTDOWN (feat. Drake)",
                      "Travis Scott"
                    ],
                    [
                      "Private Landing (feat. Justin Bieber & Future)",
                      "Future"
                    ],
                    [
                      "TELEKINESIS (feat. SZA & Future)",
                      "Travis Scott"
                    ],
                    [
                      "MELTDOWN (feat. Drake)",
                      "Drake"
                    ],
                    [
                      "Till I Collapse",
                      "Eminem"
                    ],
                    [
                      "GONE, GONE / THANK YOU",
                      "Tyler, The Creator"
                    ],
                    [
                      "Stronger",
                      "Kanye West"
                    ],
                    [
                      "Flashing Lights",
                      "Kanye West"
                    ],
                    [
                      "Aye (feat. Travis Scott)",
                      "Lil Uzi Vert"
                    ],
                    [
                      "20 Min",
                      "Lil Uzi Vert"
                    ],
                    [
                      "Love The Way You Lie",
                      "Eminem"
                    ],
                    [
                      "First Person Shooter (feat. J. Cole)",
                      "Drake"
                    ],
                    [
                      "Calling For You (feat. 21 Savage)",
                      "21 Savage"
                    ],
                    [
                      "Am I Dreaming (Metro Boomin & A$AP Rocky, Roisee)",
                      "Metro Boomin"
                    ],
                    [
                      "EARFQUAKE",
                      "Tyler, The Creator"
                    ],
                    [
                      "Virginia Beach",
                      "Drake"
                    ],
                    [
                      "ball w/o you",
                      "21 Savage"
                    ],
                    [
                      "Stan",
                      "Eminem"
                    ],
                    [
                      "Mask Off",
                      "Future"
                    ],
                    [
                      "Self Care",
                      "Mac Miller"
                    ],
                    [
                      "Spin Bout U",
                      "21 Savage"
                    ],
                    [
                      "Bad Blood (feat. Kendrick Lamar) (Taylor's Version)",
                      "Kendrick Lamar"
                    ],
                    [
                      "m y . l i f e (with 21 Savage & Morray)",
                      "J. Cole"
                    ],
                    [
                      "Power Trip (feat. Miguel)",
                      "J. Cole"
                    ],
                    [
                      "Jimmy Cooks (feat. 21 Savage)",
                      "21 Savage"
                    ],
                    [
                      "Congratulations (feat. Bilal)",
                      "Mac Miller"
                    ],
                    [
                      "Lose Yourself",
                      "Eminem"
                    ],
                    [
                      "Father Stretch My Hands Pt. 1",
                      "Kanye West"
                    ],
                    [
                      "I KNOW ?",
                      "Travis Scott"
                    ],
                    [
                      "See You Again (feat. Kali Uchis)",
                      "Tyler, The Creator"
                    ],
                    [
                      "PRIDE.",
                      "Kendrick Lamar"
                    ],
                    [
                      "Money Longer",
                      "Lil Uzi Vert"
                    ],
                    [
                      "a lot",
                      "21 Savage"
                    ],
                    [
                      "Creepin' (with The Weeknd & 21 Savage)",
                      "Metro Boomin"
                    ],
                    [
                      "Love Yourz",
                      "J. Cole"
                    ],
                    [
                      "Lucid Dreams (feat. Lil Uzi Vert) - Remix",
                      "Lil Uzi Vert"
                    ],
                    [
                      "SICKO MODE",
                      "Travis Scott"
                    ],
                    [
                      "Glock In My Lap",
                      "21 Savage"
                    ],
                    [
                      "K-POP",
                      "Travis Scott"
                    ],
                    [
                      "Gold Digger",
                      "Kanye West"
                    ],
                    [
                      "Swimming Pools (Drank)",
                      "Kendrick Lamar"
                    ],
                    [
                      "One Dance",
                      "Drake"
                    ],
                    [
                      "Low Life (feat. The Weeknd)",
                      "Future"
                    ],
                    [
                      "Pray For Me",
                      "Kendrick Lamar"
                    ],
                    [
                      "HUMBLE.",
                      "Kendrick Lamar"
                    ],
                    [
                      "Superhero (Heroes & Villains) [with Future & Chris Brown]",
                      "Future"
                    ],
                    [
                      "First Person Shooter (feat. J. Cole)",
                      "J. Cole"
                    ],
                    [
                      "NEW MAGIC WAND",
                      "Tyler, The Creator"
                    ],
                    [
                      "Ni**as In Paris",
                      "Kanye West"
                    ],
                    [
                      "Rich Nigga Shit (feat. Young Thug)",
                      "21 Savage"
                    ],
                    [
                      "Godzilla (feat. Juice WRLD)",
                      "Eminem"
                    ],
                    [
                      "Ric Flair Drip (with Metro Boomin)",
                      "Metro Boomin"
                    ],
                    [
                      "Not Afraid",
                      "Eminem"
                    ],
                    [
                      "Flooded The Face",
                      "Lil Uzi Vert"
                    ],
                    [
                      "Mockingbird",
                      "Eminem"
                    ],
                    [
                      "Weekend (feat. Miguel)",
                      "Mac Miller"
                    ],
                    [
                      "RUNNING OUT OF TIME",
                      "Tyler, The Creator"
                    ],
                    [
                      "No Role Modelz",
                      "J. Cole"
                    ],
                    [
                      "TELEKINESIS (feat. SZA & Future)",
                      "Future"
                    ],
                    [
                      "Space Cadet (feat. Gunna)",
                      "Metro Boomin"
                    ],
                    [
                      "The Spins",
                      "Mac Miller"
                    ],
                    [
                      "Work Out",
                      "J. Cole"
                    ],
                    [
                      "Creepin' (with The Weeknd & 21 Savage)",
                      "21 Savage"
                    ],
                    [
                      "Watch This - ARIZONATEARS Pluggnb Remix",
                      "Lil Uzi Vert"
                    ],
                    [
                      "Wet Dreamz",
                      "J. Cole"
                    ],
                    [
                      "Trance (with Travis Scott & Young Thug)",
                      "Travis Scott"
                    ],
                    [
                      "BEST INTEREST",
                      "Tyler, The Creator"
                    ],
                    [
                      "Heartless",
                      "Kanye West"
                    ],
                    [
                      "Rich Flex",
                      "Drake"
                    ]
                  ],
                  "hovertemplate": "genre=Hip Hop<br>log_loudness=%{x}<br>danceability=%{y}<br>name=%{customdata[0]}<br>artist=%{customdata[1]}<extra></extra>",
                  "legendgroup": "Hip Hop",
                  "marker": {
                    "color": "#D62728",
                    "symbol": "circle"
                  },
                  "mode": "markers",
                  "name": "Hip Hop",
                  "orientation": "v",
                  "showlegend": true,
                  "type": "scatter",
                  "x": [
                    1.2470754711284906,
                    2.262268586464492,
                    1.6252131382001487,
                    2.074620368164812,
                    1.7123944531628272,
                    2.222314074601839,
                    1.709001168603847,
                    2.227990103008999,
                    1.548482884048659,
                    1.8454015586601817,
                    2.5641891529053873,
                    2.4235131716614893,
                    2.6685587285047747,
                    1.4839082989335877,
                    1.8568034783563272,
                    2.670683375196369,
                    1.7752394171093924,
                    2.0779462051343938,
                    1.667334002886125,
                    2.1904521836899336,
                    1.1489983088617723,
                    2.227990103008999,
                    1.9589228389994497,
                    2.040067986658152,
                    1.9360479917384092,
                    2.044796127854098,
                    2.2955690643118363,
                    2.127971699911819,
                    2.044796127854098,
                    2.533127832272121,
                    1.5752665445997,
                    1.6462426860799604,
                    1.682525494619819,
                    2.2144213738029297,
                    2.319232973555858,
                    2.091559910503104,
                    1.656347011991591,
                    1.8257177000073925,
                    1.6521137942017958,
                    1.5255510708933664,
                    1.7168912925181838,
                    1.696745948222564,
                    2.2433626668323856,
                    1.5335914290267065,
                    1.6148002512538078,
                    1.853666712923638,
                    1.7755290203549727,
                    1.7581572533725929,
                    1.754179975402368,
                    2.157874607498324,
                    1.1711457884396843,
                    2.189356293169296,
                    2.2936221179679412,
                    2.216895230906263,
                    1.4861828734317144,
                    1.753896488511738,
                    1.6514739579780349,
                    1.6739846109554812,
                    1.9151823516842814,
                    1.5524144339787078,
                    1.8333606598659848,
                    2.395665344285714,
                    1.8454015586601817,
                    1.9825113292765375,
                    1.990020751298669,
                    1.9341793086158443,
                    1.9834023566900283,
                    1.6550623252784167,
                    2.102947507339811,
                    1.8149640939184453,
                    2.040067986658152,
                    1.656347011991591,
                    2.018786616024119,
                    1.9954193607754416,
                    1.9805538591257443,
                    2.0476437804666094,
                    1.59393183881906,
                    3.5338215000927904,
                    1.6647379474301922,
                    2.3733001948261343,
                    1.5745555598559213,
                    1.3469208060982067,
                    1.5686502633752184,
                    2.127971699911819,
                    1.4265155009369348,
                    2.34833790026622,
                    1.7758187074948897,
                    1.9151823516842814,
                    1.7364754241560953,
                    1.6149235786264744,
                    1.709001168603847,
                    1.5885117713497205,
                    1.9188526928083336,
                    1.4732544451363117
                  ],
                  "xaxis": "x",
                  "y": [
                    0.837,
                    0.949,
                    0.216,
                    0.681,
                    0.716,
                    0.735,
                    0.571,
                    0.684,
                    0.542,
                    0.847,
                    0.802,
                    0.703,
                    0.908,
                    0.483,
                    0.732,
                    0.367,
                    0.836,
                    0.801,
                    0.455,
                    0.645,
                    0.794,
                    0.684,
                    0.883,
                    0.526,
                    0.787,
                    0.557,
                    0.843,
                    0.458,
                    0.557,
                    0.548,
                    0.518,
                    0.617,
                    0.639,
                    0.777,
                    0.773,
                    0.749,
                    0.47,
                    0.571,
                    0.599,
                    0.554,
                    0.402,
                    0.892,
                    0.78,
                    0.833,
                    0.52,
                    0.773,
                    0.602,
                    0.597,
                    0.667,
                    0.529,
                    0.465,
                    0.692,
                    0.724,
                    0.927,
                    0.558,
                    0.665,
                    0.795,
                    0.837,
                    0.715,
                    0.677,
                    0.443,
                    0.834,
                    0.847,
                    0.814,
                    0.629,
                    0.577,
                    0.792,
                    0.722,
                    0.732,
                    0.908,
                    0.526,
                    0.47,
                    0.621,
                    0.789,
                    0.825,
                    0.808,
                    0.88,
                    0.855,
                    0.64,
                    0.637,
                    0.843,
                    0.36,
                    0.69,
                    0.458,
                    0.901,
                    0.794,
                    0.831,
                    0.715,
                    0.686,
                    0.495,
                    0.571,
                    0.596,
                    0.79,
                    0.561
                  ],
                  "yaxis": "y"
                },
                {
                  "name": "Decision Boundary",
                  "type": "scatter",
                  "x": [
                    1.345,
                    1.345
                  ],
                  "y": [
                    0,
                    1
                  ]
                }
              ],
              "layout": {
                "annotations": [
                  {
                    "showarrow": false,
                    "text": "← Quiet Songs",
                    "x": 1.045,
                    "y": 0,
                    "yshift": 10
                  },
                  {
                    "showarrow": false,
                    "text": "Loud Songs →",
                    "x": 1.645,
                    "y": 0,
                    "yshift": 10
                  }
                ],
                "legend": {
                  "title": {
                    "text": "genre"
                  },
                  "tracegroupgap": 0
                },
                "margin": {
                  "t": 60
                },
                "template": {
                  "data": {
                    "bar": [
                      {
                        "error_x": {
                          "color": "rgb(36,36,36)"
                        },
                        "error_y": {
                          "color": "rgb(36,36,36)"
                        },
                        "marker": {
                          "line": {
                            "color": "white",
                            "width": 0.5
                          },
                          "pattern": {
                            "fillmode": "overlay",
                            "size": 10,
                            "solidity": 0.2
                          }
                        },
                        "type": "bar"
                      }
                    ],
                    "barpolar": [
                      {
                        "marker": {
                          "line": {
                            "color": "white",
                            "width": 0.5
                          },
                          "pattern": {
                            "fillmode": "overlay",
                            "size": 10,
                            "solidity": 0.2
                          }
                        },
                        "type": "barpolar"
                      }
                    ],
                    "carpet": [
                      {
                        "aaxis": {
                          "endlinecolor": "rgb(36,36,36)",
                          "gridcolor": "white",
                          "linecolor": "white",
                          "minorgridcolor": "white",
                          "startlinecolor": "rgb(36,36,36)"
                        },
                        "baxis": {
                          "endlinecolor": "rgb(36,36,36)",
                          "gridcolor": "white",
                          "linecolor": "white",
                          "minorgridcolor": "white",
                          "startlinecolor": "rgb(36,36,36)"
                        },
                        "type": "carpet"
                      }
                    ],
                    "choropleth": [
                      {
                        "colorbar": {
                          "outlinewidth": 1,
                          "tickcolor": "rgb(36,36,36)",
                          "ticks": "outside"
                        },
                        "type": "choropleth"
                      }
                    ],
                    "contour": [
                      {
                        "colorbar": {
                          "outlinewidth": 1,
                          "tickcolor": "rgb(36,36,36)",
                          "ticks": "outside"
                        },
                        "colorscale": [
                          [
                            0,
                            "#440154"
                          ],
                          [
                            0.1111111111111111,
                            "#482878"
                          ],
                          [
                            0.2222222222222222,
                            "#3e4989"
                          ],
                          [
                            0.3333333333333333,
                            "#31688e"
                          ],
                          [
                            0.4444444444444444,
                            "#26828e"
                          ],
                          [
                            0.5555555555555556,
                            "#1f9e89"
                          ],
                          [
                            0.6666666666666666,
                            "#35b779"
                          ],
                          [
                            0.7777777777777778,
                            "#6ece58"
                          ],
                          [
                            0.8888888888888888,
                            "#b5de2b"
                          ],
                          [
                            1,
                            "#fde725"
                          ]
                        ],
                        "type": "contour"
                      }
                    ],
                    "contourcarpet": [
                      {
                        "colorbar": {
                          "outlinewidth": 1,
                          "tickcolor": "rgb(36,36,36)",
                          "ticks": "outside"
                        },
                        "type": "contourcarpet"
                      }
                    ],
                    "heatmap": [
                      {
                        "colorbar": {
                          "outlinewidth": 1,
                          "tickcolor": "rgb(36,36,36)",
                          "ticks": "outside"
                        },
                        "colorscale": [
                          [
                            0,
                            "#440154"
                          ],
                          [
                            0.1111111111111111,
                            "#482878"
                          ],
                          [
                            0.2222222222222222,
                            "#3e4989"
                          ],
                          [
                            0.3333333333333333,
                            "#31688e"
                          ],
                          [
                            0.4444444444444444,
                            "#26828e"
                          ],
                          [
                            0.5555555555555556,
                            "#1f9e89"
                          ],
                          [
                            0.6666666666666666,
                            "#35b779"
                          ],
                          [
                            0.7777777777777778,
                            "#6ece58"
                          ],
                          [
                            0.8888888888888888,
                            "#b5de2b"
                          ],
                          [
                            1,
                            "#fde725"
                          ]
                        ],
                        "type": "heatmap"
                      }
                    ],
                    "heatmapgl": [
                      {
                        "colorbar": {
                          "outlinewidth": 1,
                          "tickcolor": "rgb(36,36,36)",
                          "ticks": "outside"
                        },
                        "colorscale": [
                          [
                            0,
                            "#440154"
                          ],
                          [
                            0.1111111111111111,
                            "#482878"
                          ],
                          [
                            0.2222222222222222,
                            "#3e4989"
                          ],
                          [
                            0.3333333333333333,
                            "#31688e"
                          ],
                          [
                            0.4444444444444444,
                            "#26828e"
                          ],
                          [
                            0.5555555555555556,
                            "#1f9e89"
                          ],
                          [
                            0.6666666666666666,
                            "#35b779"
                          ],
                          [
                            0.7777777777777778,
                            "#6ece58"
                          ],
                          [
                            0.8888888888888888,
                            "#b5de2b"
                          ],
                          [
                            1,
                            "#fde725"
                          ]
                        ],
                        "type": "heatmapgl"
                      }
                    ],
                    "histogram": [
                      {
                        "marker": {
                          "line": {
                            "color": "white",
                            "width": 0.6
                          }
                        },
                        "type": "histogram"
                      }
                    ],
                    "histogram2d": [
                      {
                        "colorbar": {
                          "outlinewidth": 1,
                          "tickcolor": "rgb(36,36,36)",
                          "ticks": "outside"
                        },
                        "colorscale": [
                          [
                            0,
                            "#440154"
                          ],
                          [
                            0.1111111111111111,
                            "#482878"
                          ],
                          [
                            0.2222222222222222,
                            "#3e4989"
                          ],
                          [
                            0.3333333333333333,
                            "#31688e"
                          ],
                          [
                            0.4444444444444444,
                            "#26828e"
                          ],
                          [
                            0.5555555555555556,
                            "#1f9e89"
                          ],
                          [
                            0.6666666666666666,
                            "#35b779"
                          ],
                          [
                            0.7777777777777778,
                            "#6ece58"
                          ],
                          [
                            0.8888888888888888,
                            "#b5de2b"
                          ],
                          [
                            1,
                            "#fde725"
                          ]
                        ],
                        "type": "histogram2d"
                      }
                    ],
                    "histogram2dcontour": [
                      {
                        "colorbar": {
                          "outlinewidth": 1,
                          "tickcolor": "rgb(36,36,36)",
                          "ticks": "outside"
                        },
                        "colorscale": [
                          [
                            0,
                            "#440154"
                          ],
                          [
                            0.1111111111111111,
                            "#482878"
                          ],
                          [
                            0.2222222222222222,
                            "#3e4989"
                          ],
                          [
                            0.3333333333333333,
                            "#31688e"
                          ],
                          [
                            0.4444444444444444,
                            "#26828e"
                          ],
                          [
                            0.5555555555555556,
                            "#1f9e89"
                          ],
                          [
                            0.6666666666666666,
                            "#35b779"
                          ],
                          [
                            0.7777777777777778,
                            "#6ece58"
                          ],
                          [
                            0.8888888888888888,
                            "#b5de2b"
                          ],
                          [
                            1,
                            "#fde725"
                          ]
                        ],
                        "type": "histogram2dcontour"
                      }
                    ],
                    "mesh3d": [
                      {
                        "colorbar": {
                          "outlinewidth": 1,
                          "tickcolor": "rgb(36,36,36)",
                          "ticks": "outside"
                        },
                        "type": "mesh3d"
                      }
                    ],
                    "parcoords": [
                      {
                        "line": {
                          "colorbar": {
                            "outlinewidth": 1,
                            "tickcolor": "rgb(36,36,36)",
                            "ticks": "outside"
                          }
                        },
                        "type": "parcoords"
                      }
                    ],
                    "pie": [
                      {
                        "automargin": true,
                        "type": "pie"
                      }
                    ],
                    "scatter": [
                      {
                        "fillpattern": {
                          "fillmode": "overlay",
                          "size": 10,
                          "solidity": 0.2
                        },
                        "type": "scatter"
                      }
                    ],
                    "scatter3d": [
                      {
                        "line": {
                          "colorbar": {
                            "outlinewidth": 1,
                            "tickcolor": "rgb(36,36,36)",
                            "ticks": "outside"
                          }
                        },
                        "marker": {
                          "colorbar": {
                            "outlinewidth": 1,
                            "tickcolor": "rgb(36,36,36)",
                            "ticks": "outside"
                          }
                        },
                        "type": "scatter3d"
                      }
                    ],
                    "scattercarpet": [
                      {
                        "marker": {
                          "colorbar": {
                            "outlinewidth": 1,
                            "tickcolor": "rgb(36,36,36)",
                            "ticks": "outside"
                          }
                        },
                        "type": "scattercarpet"
                      }
                    ],
                    "scattergeo": [
                      {
                        "marker": {
                          "colorbar": {
                            "outlinewidth": 1,
                            "tickcolor": "rgb(36,36,36)",
                            "ticks": "outside"
                          }
                        },
                        "type": "scattergeo"
                      }
                    ],
                    "scattergl": [
                      {
                        "marker": {
                          "colorbar": {
                            "outlinewidth": 1,
                            "tickcolor": "rgb(36,36,36)",
                            "ticks": "outside"
                          }
                        },
                        "type": "scattergl"
                      }
                    ],
                    "scattermapbox": [
                      {
                        "marker": {
                          "colorbar": {
                            "outlinewidth": 1,
                            "tickcolor": "rgb(36,36,36)",
                            "ticks": "outside"
                          }
                        },
                        "type": "scattermapbox"
                      }
                    ],
                    "scatterpolar": [
                      {
                        "marker": {
                          "colorbar": {
                            "outlinewidth": 1,
                            "tickcolor": "rgb(36,36,36)",
                            "ticks": "outside"
                          }
                        },
                        "type": "scatterpolar"
                      }
                    ],
                    "scatterpolargl": [
                      {
                        "marker": {
                          "colorbar": {
                            "outlinewidth": 1,
                            "tickcolor": "rgb(36,36,36)",
                            "ticks": "outside"
                          }
                        },
                        "type": "scatterpolargl"
                      }
                    ],
                    "scatterternary": [
                      {
                        "marker": {
                          "colorbar": {
                            "outlinewidth": 1,
                            "tickcolor": "rgb(36,36,36)",
                            "ticks": "outside"
                          }
                        },
                        "type": "scatterternary"
                      }
                    ],
                    "surface": [
                      {
                        "colorbar": {
                          "outlinewidth": 1,
                          "tickcolor": "rgb(36,36,36)",
                          "ticks": "outside"
                        },
                        "colorscale": [
                          [
                            0,
                            "#440154"
                          ],
                          [
                            0.1111111111111111,
                            "#482878"
                          ],
                          [
                            0.2222222222222222,
                            "#3e4989"
                          ],
                          [
                            0.3333333333333333,
                            "#31688e"
                          ],
                          [
                            0.4444444444444444,
                            "#26828e"
                          ],
                          [
                            0.5555555555555556,
                            "#1f9e89"
                          ],
                          [
                            0.6666666666666666,
                            "#35b779"
                          ],
                          [
                            0.7777777777777778,
                            "#6ece58"
                          ],
                          [
                            0.8888888888888888,
                            "#b5de2b"
                          ],
                          [
                            1,
                            "#fde725"
                          ]
                        ],
                        "type": "surface"
                      }
                    ],
                    "table": [
                      {
                        "cells": {
                          "fill": {
                            "color": "rgb(237,237,237)"
                          },
                          "line": {
                            "color": "white"
                          }
                        },
                        "header": {
                          "fill": {
                            "color": "rgb(217,217,217)"
                          },
                          "line": {
                            "color": "white"
                          }
                        },
                        "type": "table"
                      }
                    ]
                  },
                  "layout": {
                    "annotationdefaults": {
                      "arrowhead": 0,
                      "arrowwidth": 1
                    },
                    "autotypenumbers": "strict",
                    "coloraxis": {
                      "colorbar": {
                        "outlinewidth": 1,
                        "tickcolor": "rgb(36,36,36)",
                        "ticks": "outside"
                      }
                    },
                    "colorscale": {
                      "diverging": [
                        [
                          0,
                          "rgb(103,0,31)"
                        ],
                        [
                          0.1,
                          "rgb(178,24,43)"
                        ],
                        [
                          0.2,
                          "rgb(214,96,77)"
                        ],
                        [
                          0.3,
                          "rgb(244,165,130)"
                        ],
                        [
                          0.4,
                          "rgb(253,219,199)"
                        ],
                        [
                          0.5,
                          "rgb(247,247,247)"
                        ],
                        [
                          0.6,
                          "rgb(209,229,240)"
                        ],
                        [
                          0.7,
                          "rgb(146,197,222)"
                        ],
                        [
                          0.8,
                          "rgb(67,147,195)"
                        ],
                        [
                          0.9,
                          "rgb(33,102,172)"
                        ],
                        [
                          1,
                          "rgb(5,48,97)"
                        ]
                      ],
                      "sequential": [
                        [
                          0,
                          "#440154"
                        ],
                        [
                          0.1111111111111111,
                          "#482878"
                        ],
                        [
                          0.2222222222222222,
                          "#3e4989"
                        ],
                        [
                          0.3333333333333333,
                          "#31688e"
                        ],
                        [
                          0.4444444444444444,
                          "#26828e"
                        ],
                        [
                          0.5555555555555556,
                          "#1f9e89"
                        ],
                        [
                          0.6666666666666666,
                          "#35b779"
                        ],
                        [
                          0.7777777777777778,
                          "#6ece58"
                        ],
                        [
                          0.8888888888888888,
                          "#b5de2b"
                        ],
                        [
                          1,
                          "#fde725"
                        ]
                      ],
                      "sequentialminus": [
                        [
                          0,
                          "#440154"
                        ],
                        [
                          0.1111111111111111,
                          "#482878"
                        ],
                        [
                          0.2222222222222222,
                          "#3e4989"
                        ],
                        [
                          0.3333333333333333,
                          "#31688e"
                        ],
                        [
                          0.4444444444444444,
                          "#26828e"
                        ],
                        [
                          0.5555555555555556,
                          "#1f9e89"
                        ],
                        [
                          0.6666666666666666,
                          "#35b779"
                        ],
                        [
                          0.7777777777777778,
                          "#6ece58"
                        ],
                        [
                          0.8888888888888888,
                          "#b5de2b"
                        ],
                        [
                          1,
                          "#fde725"
                        ]
                      ]
                    },
                    "colorway": [
                      "#1F77B4",
                      "#FF7F0E",
                      "#2CA02C",
                      "#D62728",
                      "#9467BD",
                      "#8C564B",
                      "#E377C2",
                      "#7F7F7F",
                      "#BCBD22",
                      "#17BECF"
                    ],
                    "font": {
                      "color": "rgb(36,36,36)"
                    },
                    "geo": {
                      "bgcolor": "white",
                      "lakecolor": "white",
                      "landcolor": "white",
                      "showlakes": true,
                      "showland": true,
                      "subunitcolor": "white"
                    },
                    "hoverlabel": {
                      "align": "left"
                    },
                    "hovermode": "closest",
                    "mapbox": {
                      "style": "light"
                    },
                    "paper_bgcolor": "white",
                    "plot_bgcolor": "white",
                    "polar": {
                      "angularaxis": {
                        "gridcolor": "rgb(232,232,232)",
                        "linecolor": "rgb(36,36,36)",
                        "showgrid": false,
                        "showline": true,
                        "ticks": "outside"
                      },
                      "bgcolor": "white",
                      "radialaxis": {
                        "gridcolor": "rgb(232,232,232)",
                        "linecolor": "rgb(36,36,36)",
                        "showgrid": false,
                        "showline": true,
                        "ticks": "outside"
                      }
                    },
                    "scene": {
                      "xaxis": {
                        "backgroundcolor": "white",
                        "gridcolor": "rgb(232,232,232)",
                        "gridwidth": 2,
                        "linecolor": "rgb(36,36,36)",
                        "showbackground": true,
                        "showgrid": false,
                        "showline": true,
                        "ticks": "outside",
                        "zeroline": false,
                        "zerolinecolor": "rgb(36,36,36)"
                      },
                      "yaxis": {
                        "backgroundcolor": "white",
                        "gridcolor": "rgb(232,232,232)",
                        "gridwidth": 2,
                        "linecolor": "rgb(36,36,36)",
                        "showbackground": true,
                        "showgrid": false,
                        "showline": true,
                        "ticks": "outside",
                        "zeroline": false,
                        "zerolinecolor": "rgb(36,36,36)"
                      },
                      "zaxis": {
                        "backgroundcolor": "white",
                        "gridcolor": "rgb(232,232,232)",
                        "gridwidth": 2,
                        "linecolor": "rgb(36,36,36)",
                        "showbackground": true,
                        "showgrid": false,
                        "showline": true,
                        "ticks": "outside",
                        "zeroline": false,
                        "zerolinecolor": "rgb(36,36,36)"
                      }
                    },
                    "shapedefaults": {
                      "fillcolor": "black",
                      "line": {
                        "width": 0
                      },
                      "opacity": 0.3
                    },
                    "ternary": {
                      "aaxis": {
                        "gridcolor": "rgb(232,232,232)",
                        "linecolor": "rgb(36,36,36)",
                        "showgrid": false,
                        "showline": true,
                        "ticks": "outside"
                      },
                      "baxis": {
                        "gridcolor": "rgb(232,232,232)",
                        "linecolor": "rgb(36,36,36)",
                        "showgrid": false,
                        "showline": true,
                        "ticks": "outside"
                      },
                      "bgcolor": "white",
                      "caxis": {
                        "gridcolor": "rgb(232,232,232)",
                        "linecolor": "rgb(36,36,36)",
                        "showgrid": false,
                        "showline": true,
                        "ticks": "outside"
                      }
                    },
                    "title": {
                      "x": 0.05
                    },
                    "xaxis": {
                      "automargin": true,
                      "gridcolor": "rgb(232,232,232)",
                      "linecolor": "rgb(36,36,36)",
                      "showgrid": false,
                      "showline": true,
                      "ticks": "outside",
                      "title": {
                        "standoff": 15
                      },
                      "zeroline": false,
                      "zerolinecolor": "rgb(36,36,36)"
                    },
                    "yaxis": {
                      "automargin": true,
                      "gridcolor": "rgb(232,232,232)",
                      "linecolor": "rgb(36,36,36)",
                      "showgrid": false,
                      "showline": true,
                      "ticks": "outside",
                      "title": {
                        "standoff": 15
                      },
                      "zeroline": false,
                      "zerolinecolor": "rgb(36,36,36)"
                    }
                  }
                },
                "title": {
                  "text": "All Songs",
                  "x": 0.5
                },
                "xaxis": {
                  "anchor": "y",
                  "domain": [
                    0,
                    1
                  ],
                  "title": {
                    "text": "log_loudness"
                  }
                },
                "yaxis": {
                  "anchor": "x",
                  "domain": [
                    0,
                    1
                  ],
                  "title": {
                    "text": "danceability"
                  }
                }
              }
            }
          },
          "metadata": {},
          "output_type": "display_data"
        }
      ],
      "source": [
        "track_fig = px.scatter(X_train, x='log_loudness', y='danceability', color='genre',\n",
        "                       hover_data=['name','artist'], template='simple_white')\n",
        "track_fig.update_layout(title_text='All Songs', title_x=0.5)\n",
        "loudness_cutoff = 1.345\n",
        "dance_cutoff = 0.312\n",
        "energy_cutoff = 0.777\n",
        "x0 = [loudness_cutoff, loudness_cutoff]\n",
        "y0 = [0.0, 1.0]\n",
        "track_fig.add_trace(go.Scatter(name='Decision Boundary',x=x0, y=y0))\n",
        "track_fig.add_annotation(x=loudness_cutoff - 0.3, y=0,\n",
        "            text=\"← Quiet Songs\",\n",
        "            showarrow=False,\n",
        "            yshift=10)\n",
        "track_fig.add_annotation(x=loudness_cutoff + 0.3, y=0,\n",
        "            text=\"Loud Songs →\",\n",
        "            showarrow=False,\n",
        "            yshift=10)\n",
        "track_fig.show()"
      ]
    },
    {
      "cell_type": "code",
      "execution_count": 47,
      "metadata": {
        "id": "D3V5d93wppYR"
      },
      "outputs": [],
      "source": [
        "track_df_quiet = track_df_sub[track_df_sub['log_loudness'] <= loudness_cutoff].copy()\n",
        "track_df_loud = track_df_sub[track_df_sub['log_loudness'] > loudness_cutoff].copy()"
      ]
    },
    {
      "cell_type": "code",
      "execution_count": 48,
      "metadata": {
        "colab": {
          "base_uri": "https://localhost:8080/",
          "height": 542
        },
        "id": "y2piFArsrumQ",
        "outputId": "3765a61b-87cf-470f-9f30-90a285876a1c"
      },
      "outputs": [
        {
          "data": {
            "application/vnd.plotly.v1+json": {
              "config": {
                "plotlyServerURL": "https://plot.ly"
              },
              "data": [
                {
                  "customdata": [
                    [
                      "I Fall In Love Too Easily",
                      "Chet Baker"
                    ],
                    [
                      "My Funny Valentine",
                      "Chet Baker"
                    ],
                    [
                      "Time After Time - Vocal Version",
                      "Chet Baker"
                    ],
                    [
                      "Autumn Leaves",
                      "Chet Baker"
                    ],
                    [
                      "I Get Along Without You Very Well (Except Sometimes) - Vocal Version",
                      "Chet Baker"
                    ],
                    [
                      "It's Always You - Vocal Version",
                      "Chet Baker"
                    ],
                    [
                      "But Not For Me - Vocal Version",
                      "Chet Baker"
                    ],
                    [
                      "That Old Feeling",
                      "Chet Baker"
                    ],
                    [
                      "Everything Happens To Me",
                      "Chet Baker"
                    ],
                    [
                      "Dream A Little Dream Of Me",
                      "Ella Fitzgerald"
                    ],
                    [
                      "Cheek To Cheek",
                      "Ella Fitzgerald"
                    ],
                    [
                      "Summertime",
                      "Ella Fitzgerald"
                    ],
                    [
                      "Sleigh Ride",
                      "Ella Fitzgerald"
                    ],
                    [
                      "Autumn In New York",
                      "Ella Fitzgerald"
                    ],
                    [
                      "They Can't Take That Away From Me",
                      "Ella Fitzgerald"
                    ],
                    [
                      "It's Only A Paper Moon",
                      "Ella Fitzgerald"
                    ],
                    [
                      "Night And Day",
                      "Ella Fitzgerald"
                    ],
                    [
                      "The Girl From Ipanema",
                      "Stan Getz"
                    ],
                    [
                      "Corcovado (Quiet Nights Of Quiet Stars)",
                      "Stan Getz"
                    ],
                    [
                      "Só Danço Samba",
                      "Stan Getz"
                    ],
                    [
                      "The Girl From Ipanema - Single Version",
                      "Stan Getz"
                    ],
                    [
                      "Para Machuchar Meu Coracao",
                      "Stan Getz"
                    ],
                    [
                      "Corcovado (Quiet Nights Of Quiet Stars) - Single Version",
                      "Stan Getz"
                    ],
                    [
                      "But Beautiful",
                      "Stan Getz"
                    ],
                    [
                      "A Nightingale Sang In Berkeley Square",
                      "Stan Getz"
                    ],
                    [
                      "Desafinado",
                      "Stan Getz"
                    ],
                    [
                      "Vivo Sohando - Stereo Version",
                      "Stan Getz"
                    ],
                    [
                      "Solitude",
                      "Billie Holiday"
                    ],
                    [
                      "I'll Be Seeing You",
                      "Billie Holiday"
                    ],
                    [
                      "Blue Moon",
                      "Billie Holiday"
                    ],
                    [
                      "All of Me",
                      "Billie Holiday"
                    ],
                    [
                      "April In Paris",
                      "Billie Holiday"
                    ],
                    [
                      "As Time Goes By",
                      "Billie Holiday"
                    ],
                    [
                      "You Go To My Head",
                      "Billie Holiday"
                    ],
                    [
                      "Easy living",
                      "Billie Holiday"
                    ],
                    [
                      "Strange Fruit",
                      "Billie Holiday"
                    ],
                    [
                      "Autumn In New York",
                      "Billie Holiday"
                    ],
                    [
                      "Blue in Green (feat. John Coltrane & Bill Evans)",
                      "Miles Davis"
                    ],
                    [
                      "So What (feat. John Coltrane, Cannonball Adderley & Bill Evans)",
                      "Miles Davis"
                    ],
                    [
                      "Freddie Freeloader (feat. John Coltrane, Cannonball Adderley, Wynton Kelly & Paul Chambers)",
                      "Miles Davis"
                    ],
                    [
                      "It Never Entered My Mind",
                      "Miles Davis"
                    ],
                    [
                      "My Funny Valentine",
                      "Miles Davis"
                    ],
                    [
                      "Autumn Leaves",
                      "Miles Davis"
                    ],
                    [
                      "Générique - Bande originale du film \"Ascenseur pour l'échafaud\"",
                      "Miles Davis"
                    ],
                    [
                      "'Round Midnight (feat. John Coltrane, Red Garland, Paul Chambers & Philly Joe Jones)",
                      "Miles Davis"
                    ],
                    [
                      "All Blues (feat. John Coltrane, Cannonball Adderley & Bill Evans)",
                      "Miles Davis"
                    ],
                    [
                      "In A Sentimental Mood",
                      "John Coltrane"
                    ],
                    [
                      "My One And Only Love",
                      "John Coltrane"
                    ],
                    [
                      "My Little Brown Book",
                      "John Coltrane"
                    ],
                    [
                      "Giant Steps - Mono",
                      "John Coltrane"
                    ],
                    [
                      "Naima - Mono",
                      "John Coltrane"
                    ],
                    [
                      "My Favorite Things",
                      "John Coltrane"
                    ],
                    [
                      "You Are Too Beautiful",
                      "John Coltrane"
                    ],
                    [
                      "A Love Supreme, Pt. I – Acknowledgement",
                      "John Coltrane"
                    ],
                    [
                      "They Say It's Wonderful",
                      "John Coltrane"
                    ],
                    [
                      "Gary's Theme - Remastered",
                      "Bill Evans"
                    ],
                    [
                      "Skating In Central Park",
                      "Bill Evans"
                    ],
                    [
                      "But Beautiful",
                      "Bill Evans"
                    ],
                    [
                      "My Foolish Heart - Live At The Village Vanguard / 1961",
                      "Bill Evans"
                    ],
                    [
                      "Waltz For Debby",
                      "Bill Evans"
                    ],
                    [
                      "Waltz For Debby - Live At The Village Vanguard / 1961",
                      "Bill Evans"
                    ],
                    [
                      "Peace Piece",
                      "Bill Evans"
                    ],
                    [
                      "B Minor Waltz - Remastered 2003",
                      "Bill Evans"
                    ],
                    [
                      "Blue In Green (Take 3)",
                      "Bill Evans"
                    ],
                    [
                      "Young And Foolish",
                      "Bill Evans"
                    ],
                    [
                      "In A Sentimental Mood",
                      "Duke Ellington"
                    ],
                    [
                      "My Little Brown Book",
                      "Duke Ellington"
                    ],
                    [
                      "Take the \"A\" Train",
                      "Duke Ellington"
                    ],
                    [
                      "Haupe",
                      "Duke Ellington"
                    ],
                    [
                      "It Don't Mean a Thing (If It Ain't Got That Swing)",
                      "Duke Ellington"
                    ],
                    [
                      "The Feeling Of Jazz",
                      "Duke Ellington"
                    ],
                    [
                      "Take the \"A\" Train",
                      "Duke Ellington"
                    ],
                    [
                      "Isfahan",
                      "Duke Ellington"
                    ],
                    [
                      "Don't Get Around Much Anymore",
                      "Duke Ellington"
                    ],
                    [
                      "Watermelon Man",
                      "Herbie Hancock"
                    ],
                    [
                      "Tell Me a Bedtime Story",
                      "Herbie Hancock"
                    ],
                    [
                      "Doin' It",
                      "Herbie Hancock"
                    ],
                    [
                      "Bring Down the Birds - Outtake",
                      "Herbie Hancock"
                    ],
                    [
                      "MOON (feat. Herbie Hancock)",
                      "Herbie Hancock"
                    ],
                    [
                      "My Foolish Heart",
                      "Bill Evans Trio"
                    ],
                    [
                      "I Fall In Love Too Easily",
                      "Bill Evans Trio"
                    ],
                    [
                      "Waltz For Debby - Live At The Village Vanguard, New York / 1961 / Take 2",
                      "Bill Evans Trio"
                    ],
                    [
                      "Peace Piece",
                      "Bill Evans Trio"
                    ],
                    [
                      "Blue In Green - Album Version - (take 3)",
                      "Bill Evans Trio"
                    ],
                    [
                      "Young And Foolish",
                      "Bill Evans Trio"
                    ],
                    [
                      "Autumn Leaves - Album Version - (Take 1)",
                      "Bill Evans Trio"
                    ],
                    [
                      "How Deep Is The Ocean?",
                      "Bill Evans Trio"
                    ],
                    [
                      "Nardis",
                      "Bill Evans Trio"
                    ],
                    [
                      "Porgy (I Loves You Porgy) - Outtake",
                      "Bill Evans Trio"
                    ],
                    [
                      "Goodbye Pork Pie Hat",
                      "Charles Mingus"
                    ],
                    [
                      "Better Git It in Your Soul",
                      "Charles Mingus"
                    ],
                    [
                      "Mood Indigo",
                      "Charles Mingus"
                    ],
                    [
                      "Boogie Stop Shuffle",
                      "Charles Mingus"
                    ],
                    [
                      "II B.S. - Edit",
                      "Charles Mingus"
                    ],
                    [
                      "Self-Portrait in Three Colors",
                      "Charles Mingus"
                    ],
                    [
                      "Fables of Faubus",
                      "Charles Mingus"
                    ],
                    [
                      "A Day In The Life",
                      "Wes Montgomery"
                    ],
                    [
                      "While We're Young",
                      "Wes Montgomery"
                    ],
                    [
                      "In Your Own Sweet Way",
                      "Wes Montgomery"
                    ],
                    [
                      "Days Of Wine And Roses",
                      "Wes Montgomery"
                    ],
                    [
                      "Polka Dots And Moonbeams",
                      "Wes Montgomery"
                    ],
                    [
                      "Bumpin' On Sunset",
                      "Wes Montgomery"
                    ],
                    [
                      "How Insensitive",
                      "Wes Montgomery"
                    ],
                    [
                      "Tequila",
                      "Wes Montgomery"
                    ],
                    [
                      "Four On Six",
                      "Wes Montgomery"
                    ],
                    [
                      "Caravan",
                      "Wes Montgomery"
                    ]
                  ],
                  "hovertemplate": "genre=Jazz<br>log_loudness=%{x}<br>danceability=%{y}<br>name=%{customdata[0]}<br>artist=%{customdata[1]}<extra></extra>",
                  "legendgroup": "Jazz",
                  "marker": {
                    "color": "#1F77B4",
                    "symbol": "circle"
                  },
                  "mode": "markers",
                  "name": "Jazz",
                  "orientation": "v",
                  "showlegend": true,
                  "type": "scatter",
                  "x": [
                    0.7562034294480071,
                    0.43289679223274247,
                    0.7748226017849449,
                    1.2971428101390488,
                    0.5695452054336925,
                    0.6027397987717871,
                    1.0558012523344233,
                    0.8856224105194372,
                    1.0961620877510234,
                    1.0899411140525963,
                    1.1125201002593625,
                    0.6493025038410511,
                    1.1842886754607527,
                    0.783968273233826,
                    0.9790726663831575,
                    0.8766813556038842,
                    1.0251107925044338,
                    0.8248753419365809,
                    0.8253792190012406,
                    0.9889825095821161,
                    0.8981914052905786,
                    0.8097656221908522,
                    0.9470689068882203,
                    0.6221104261616301,
                    0.4945147211336631,
                    0.8443175729720562,
                    0.9719149054747511,
                    1.102791457934721,
                    0.688374836362053,
                    1.2710959797414838,
                    1.0162605747541176,
                    1.053758494606504,
                    0.9855587506411188,
                    0.9188207308901828,
                    0.9201743273560092,
                    0.5886309237470377,
                    0.9867425718908489,
                    0.4746805451104721,
                    0.8590355574028976,
                    0.9458047641245879,
                    1.07963398934232,
                    0.8399327249681545,
                    0.8538365392801239,
                    1.2649061687751266,
                    1.299389295335971,
                    0.8006005606440287,
                    1.1872597299608603,
                    0.9288934253534267,
                    1.105307368689083,
                    1.2691739103047395,
                    0.6333237789508463,
                    0.7931441350992787,
                    0.6413976940929054,
                    1.1074583059174001,
                    1.0088326251447453,
                    0.626094221525872,
                    0.476219705190954,
                    0.6221104261616301,
                    0.35794089784263106,
                    0.7196715608267286,
                    0.6414908777112927,
                    0.6952837498472824,
                    0.9087267412920284,
                    0.7137940667010434,
                    0.5439889486659877,
                    1.1872597299608603,
                    1.105307368689083,
                    1.0805009161413057,
                    0.7016467574801171,
                    1.1240036955141037,
                    1.3438124345472793,
                    1.315897606743421,
                    1.1018311623853938,
                    1.3364101988273567,
                    1.2927542848923945,
                    0.89891442755501,
                    1.2273783129061142,
                    0.9872033255603463,
                    1.3284138754201331,
                    0.5538856038675806,
                    0.7546369312946579,
                    0.6139634635026021,
                    0.7833774312668593,
                    0.8239242663103292,
                    0.6963660542772296,
                    1.0939620281953877,
                    0.7472034987558267,
                    0.5105312824751413,
                    0.5738034894384714,
                    0.8959653718231655,
                    1.1831667905766756,
                    0.5813213359392275,
                    1.1925814648233555,
                    1.3437183921340816,
                    0.9342490241551067,
                    0.8956649361892399,
                    1.330082241735377,
                    0.10739875169369517,
                    0.8323474967058861,
                    0.4725926560737177,
                    0.8135770444865345,
                    0.7207301620598026,
                    0.5982228974627768,
                    0.7950437801656434,
                    1.1938758586615514,
                    1.3230568846836603
                  ],
                  "xaxis": "x",
                  "y": [
                    0.532,
                    0.438,
                    0.501,
                    0.35,
                    0.442,
                    0.499,
                    0.626,
                    0.643,
                    0.432,
                    0.491,
                    0.655,
                    0.172,
                    0.508,
                    0.425,
                    0.555,
                    0.761,
                    0.442,
                    0.653,
                    0.52,
                    0.578,
                    0.696,
                    0.5,
                    0.531,
                    0.499,
                    0.425,
                    0.501,
                    0.464,
                    0.462,
                    0.355,
                    0.639,
                    0.504,
                    0.496,
                    0.591,
                    0.559,
                    0.656,
                    0.313,
                    0.587,
                    0.421,
                    0.532,
                    0.639,
                    0.475,
                    0.543,
                    0.523,
                    0.391,
                    0.494,
                    0.499,
                    0.464,
                    0.474,
                    0.372,
                    0.434,
                    0.292,
                    0.277,
                    0.42,
                    0.37,
                    0.355,
                    0.421,
                    0.478,
                    0.499,
                    0.39,
                    0.547,
                    0.572,
                    0.464,
                    0.381,
                    0.452,
                    0.438,
                    0.464,
                    0.372,
                    0.479,
                    0.415,
                    0.714,
                    0.467,
                    0.571,
                    0.247,
                    0.6,
                    0.724,
                    0.398,
                    0.739,
                    0.704,
                    0.678,
                    0.395,
                    0.476,
                    0.579,
                    0.439,
                    0.358,
                    0.409,
                    0.626,
                    0.608,
                    0.517,
                    0.389,
                    0.356,
                    0.457,
                    0.348,
                    0.574,
                    0.426,
                    0.258,
                    0.518,
                    0.483,
                    0.394,
                    0.62,
                    0.47,
                    0.53,
                    0.759,
                    0.676,
                    0.704,
                    0.379,
                    0.478
                  ],
                  "yaxis": "y"
                },
                {
                  "customdata": [
                    [
                      "Congratulations (feat. Bilal)",
                      "Mac Miller"
                    ],
                    [
                      "Good News",
                      "Mac Miller"
                    ],
                    [
                      "MIDDLE CHILD",
                      "J. Cole"
                    ]
                  ],
                  "hovertemplate": "genre=Hip Hop<br>log_loudness=%{x}<br>danceability=%{y}<br>name=%{customdata[0]}<br>artist=%{customdata[1]}<extra></extra>",
                  "legendgroup": "Hip Hop",
                  "marker": {
                    "color": "#FF7F0E",
                    "symbol": "circle"
                  },
                  "mode": "markers",
                  "name": "Hip Hop",
                  "orientation": "v",
                  "showlegend": true,
                  "type": "scatter",
                  "x": [
                    1.1711457884396843,
                    1.1489983088617723,
                    1.2470754711284906
                  ],
                  "xaxis": "x",
                  "y": [
                    0.465,
                    0.794,
                    0.837
                  ],
                  "yaxis": "y"
                },
                {
                  "customdata": [
                    [
                      "QKThr",
                      "Aphex Twin"
                    ],
                    [
                      "Avril 14th",
                      "Aphex Twin"
                    ],
                    [
                      "#3",
                      "Aphex Twin"
                    ],
                    [
                      "Xtal",
                      "Aphex Twin"
                    ],
                    [
                      "aisatsana [102]",
                      "Aphex Twin"
                    ],
                    [
                      "Alberto Balsalm",
                      "Aphex Twin"
                    ],
                    [
                      "Flim",
                      "Aphex Twin"
                    ],
                    [
                      "I",
                      "Aphex Twin"
                    ],
                    [
                      "Ageispolis",
                      "Aphex Twin"
                    ],
                    [
                      "Poison Tree",
                      "Grouper"
                    ],
                    [
                      "Alien Observer",
                      "Grouper"
                    ],
                    [
                      "Heavy Water/I'd Rather Be Sleeping",
                      "Grouper"
                    ],
                    [
                      "Living Room",
                      "Grouper"
                    ],
                    [
                      "Blouse",
                      "Grouper"
                    ],
                    [
                      "Headache",
                      "Grouper"
                    ],
                    [
                      "Little Gray Cat",
                      "Grouper"
                    ],
                    [
                      "The way her hair falls",
                      "Grouper"
                    ],
                    [
                      "I'm Clean Now",
                      "Grouper"
                    ],
                    [
                      "When We Fall",
                      "Grouper"
                    ],
                    [
                      "An Ending (Ascent) - Remastered 2005",
                      "Brian Eno"
                    ],
                    [
                      "Cmon",
                      "Brian Eno"
                    ],
                    [
                      "Enough",
                      "Brian Eno"
                    ],
                    [
                      "Secret",
                      "Brian Eno"
                    ],
                    [
                      "Emerald and Stone",
                      "Brian Eno"
                    ],
                    [
                      "I Saw You",
                      "Brian Eno"
                    ],
                    [
                      "Radio",
                      "Brian Eno"
                    ],
                    [
                      "By This River - 2004 Digital Remaster",
                      "Brian Eno"
                    ],
                    [
                      "Sketch 3",
                      "Tim Hecker"
                    ],
                    [
                      "Night Flight to Your Heart Pt. 2",
                      "Tim Hecker"
                    ],
                    [
                      "Boreal Kiss Pt. 1",
                      "Tim Hecker"
                    ],
                    [
                      "Music for Tundra Pt. 2",
                      "Tim Hecker"
                    ],
                    [
                      "Harmony in Blue I",
                      "Tim Hecker"
                    ],
                    [
                      "Trade Winds, White Heat",
                      "Tim Hecker"
                    ],
                    [
                      "The Piano Drop",
                      "Tim Hecker"
                    ],
                    [
                      "Rainbow Blood",
                      "Tim Hecker"
                    ],
                    [
                      "Boreal Kiss Pt. 3",
                      "Tim Hecker"
                    ],
                    [
                      "Elseware",
                      "Oneohtrix Point Never"
                    ],
                    [
                      "Again",
                      "Oneohtrix Point Never"
                    ],
                    [
                      "Submersible",
                      "Oneohtrix Point Never"
                    ],
                    [
                      "Sea, Swallow Me",
                      "Harold Budd"
                    ],
                    [
                      "Faraon - 2013 Remaster",
                      "Harold Budd"
                    ],
                    [
                      "She Will Destroy You",
                      "Harold Budd"
                    ],
                    [
                      "Steal Away - Remastered 2004",
                      "Harold Budd"
                    ],
                    [
                      "It's Steeper Near the Roses (For David Sylvian) - 2013 Remaster",
                      "Harold Budd"
                    ],
                    [
                      "Why Do You Love Me?",
                      "Harold Budd"
                    ],
                    [
                      "Against The Sky - 2005 Digital Remaster",
                      "Harold Budd"
                    ],
                    [
                      "Bloody And Blunt",
                      "Harold Budd"
                    ],
                    [
                      "An Arc Of Doves - Remastered 2004",
                      "Harold Budd"
                    ],
                    [
                      "A Stream With Bright Fish - 2005 Digital Remaster",
                      "Harold Budd"
                    ],
                    [
                      "Melancholia II",
                      "William Basinski"
                    ],
                    [
                      "Mono No Aware 1.2",
                      "William Basinski"
                    ],
                    [
                      "Melancholia III",
                      "William Basinski"
                    ],
                    [
                      "Melancholia VI",
                      "William Basinski"
                    ],
                    [
                      "dlp 1.3",
                      "William Basinski"
                    ],
                    [
                      "Disintegration Loops (1.1 Excerpt I)",
                      "William Basinski"
                    ],
                    [
                      "Melancholia V",
                      "William Basinski"
                    ],
                    [
                      "92982.3",
                      "William Basinski"
                    ],
                    [
                      "dlp 1.1",
                      "William Basinski"
                    ],
                    [
                      "Melancholia XIII",
                      "William Basinski"
                    ],
                    [
                      "Les Paul Sanitarium",
                      "Chihei Hatakeyama"
                    ],
                    [
                      "Morning Arrive On The Island",
                      "Chihei Hatakeyama"
                    ],
                    [
                      "White Light",
                      "Chihei Hatakeyama"
                    ],
                    [
                      "Sleet",
                      "Chihei Hatakeyama"
                    ],
                    [
                      "door to the cosmos",
                      "Chihei Hatakeyama"
                    ],
                    [
                      "Warm Rain in June I",
                      "Chihei Hatakeyama"
                    ],
                    [
                      "Breaking Dawn",
                      "Chihei Hatakeyama"
                    ],
                    [
                      "Sleeping And Listening On The Beach",
                      "Chihei Hatakeyama"
                    ],
                    [
                      "Pulse",
                      "Chihei Hatakeyama"
                    ],
                    [
                      "Water And Birds",
                      "Chihei Hatakeyama"
                    ],
                    [
                      "GREEN",
                      "Hiroshi Yoshimura"
                    ],
                    [
                      "Clouds",
                      "Hiroshi Yoshimura"
                    ],
                    [
                      "Time after time",
                      "Hiroshi Yoshimura"
                    ],
                    [
                      "Blink",
                      "Hiroshi Yoshimura"
                    ],
                    [
                      "Something blue",
                      "Hiroshi Yoshimura"
                    ],
                    [
                      "View from My Window",
                      "Hiroshi Yoshimura"
                    ],
                    [
                      "CREEK",
                      "Hiroshi Yoshimura"
                    ],
                    [
                      "Dance PM",
                      "Hiroshi Yoshimura"
                    ],
                    [
                      "Surround",
                      "Hiroshi Yoshimura"
                    ],
                    [
                      "Water Copy",
                      "Hiroshi Yoshimura"
                    ],
                    [
                      "Weightless Part 1",
                      "Marconi Union"
                    ],
                    [
                      "Weightless Part 3",
                      "Marconi Union"
                    ],
                    [
                      "Weightless Part 4",
                      "Marconi Union"
                    ],
                    [
                      "Weightless Part 2",
                      "Marconi Union"
                    ],
                    [
                      "Weightless Part 5",
                      "Marconi Union"
                    ],
                    [
                      "Weightless Part 6",
                      "Marconi Union"
                    ],
                    [
                      "Weightless - 253 Edit",
                      "Marconi Union"
                    ],
                    [
                      "Glace Bay (part two)",
                      "Marconi Union"
                    ],
                    [
                      "Permafrost",
                      "Marconi Union"
                    ],
                    [
                      "Sleepless",
                      "Marconi Union"
                    ],
                    [
                      "Sea Blue",
                      "Susumu Yokota"
                    ],
                    [
                      "Kirakiraboshi",
                      "Susumu Yokota"
                    ],
                    [
                      "Tobiume",
                      "Susumu Yokota"
                    ],
                    [
                      "Azukiiro No Kaori",
                      "Susumu Yokota"
                    ],
                    [
                      "Blue Sky And Yellow Sunflower",
                      "Susumu Yokota"
                    ],
                    [
                      "Saku",
                      "Susumu Yokota"
                    ],
                    [
                      "Long Long Silk Bridge",
                      "Susumu Yokota"
                    ],
                    [
                      "Hagoromo",
                      "Susumu Yokota"
                    ],
                    [
                      "Amanogawa",
                      "Susumu Yokota"
                    ],
                    [
                      "A Meaningful Moment Through a Meaning(less) Process",
                      "Stars Of The Lid"
                    ],
                    [
                      "Dungtitled (In a Major)",
                      "Stars Of The Lid"
                    ],
                    [
                      "Don't Bother They're Here",
                      "Stars Of The Lid"
                    ],
                    [
                      "The Mouthchew, Pt. 2",
                      "Stars Of The Lid"
                    ],
                    [
                      "Articulate Silences, Pt. 1",
                      "Stars Of The Lid"
                    ],
                    [
                      "Articulate Silences, Pt. 2",
                      "Stars Of The Lid"
                    ],
                    [
                      "The Evil That Never Arrived",
                      "Stars Of The Lid"
                    ],
                    [
                      "Piano Aquieu",
                      "Stars Of The Lid"
                    ],
                    [
                      "Hiberner Toujours",
                      "Stars Of The Lid"
                    ],
                    [
                      "Even If You're Never Awake",
                      "Stars Of The Lid"
                    ]
                  ],
                  "hovertemplate": "genre=Ambient<br>log_loudness=%{x}<br>danceability=%{y}<br>name=%{customdata[0]}<br>artist=%{customdata[1]}<extra></extra>",
                  "legendgroup": "Ambient",
                  "marker": {
                    "color": "#2CA02C",
                    "symbol": "circle"
                  },
                  "mode": "markers",
                  "name": "Ambient",
                  "orientation": "v",
                  "showlegend": true,
                  "type": "scatter",
                  "x": [
                    0.44518836392189387,
                    0.3060442343924139,
                    0.4079090311436411,
                    1.1387568148095752,
                    0.21448453689715086,
                    1.094181816466905,
                    1.0042682461638908,
                    0.3921353139157193,
                    0.8431197972691806,
                    0.5904002876801333,
                    0.5896479254486313,
                    1.0555192444363333,
                    0.6301400180426029,
                    0.7475142829704899,
                    0.6137821644947175,
                    0.5606957811677131,
                    0.380511053932195,
                    0.4636991813262852,
                    0.7538546014766774,
                    0.47377394460295896,
                    0.6565605242032331,
                    0.8804020154401373,
                    0.5873500897049189,
                    0.4867013988045401,
                    0.5629761857443434,
                    0.36699998445326054,
                    0.48216172869536233,
                    0.520389649439398,
                    0.3956636808885077,
                    0.4693709025404824,
                    0.5478425179819775,
                    0.4104945389738459,
                    0.3872091955796635,
                    1.2291377704418234,
                    1.0638010118211518,
                    0.4333507530485887,
                    0.8891974605048327,
                    1.1133413329009856,
                    1.0882644233007603,
                    1.1106561668213,
                    0.39169967897090796,
                    1.0285356879681378,
                    0.0815689476303505,
                    0.7748758428338065,
                    0.6327231644579823,
                    0.09699203883871421,
                    0.783592242502313,
                    0.15219820041671195,
                    0.1993386748844741,
                    0.2784435863103014,
                    0.09664070172714467,
                    0.2609032220628982,
                    0.06326530083823245,
                    0.4116416888026815,
                    0.5193994277964111,
                    0,
                    0.672869898587765,
                    0.28064980354415736,
                    0.2477112115760316,
                    0.44821779774102266,
                    0.36434779130428563,
                    0.40099800117356477,
                    0.42438546152296164,
                    0.3442792927380842,
                    0.3943163398620797,
                    0.6125592551772869,
                    0.22641164853080253,
                    0.6822895755128893,
                    0.5230350442777096,
                    0.535990589881878,
                    0.4385861684744383,
                    0.4100138675035345,
                    0.7566215770602045,
                    0.3827387865196368,
                    0.5409083225088591,
                    0.89584518673799,
                    0.5149144695513095,
                    0.3608576324671433,
                    0.4019876103587312,
                    0.6819498933550681,
                    0.5294293527280693,
                    0.500728678101606,
                    0.8256032458854032,
                    0.7371039642576083,
                    0.7366938971033665,
                    0.7480843050095025,
                    0.2368648131427724,
                    0.02195001383152073,
                    0.9531591369666974,
                    0.7769011060107336,
                    0.7902743819318108,
                    0.8727983125416312,
                    0.7789839394161189,
                    1.3047110956559633,
                    0.8173474953076605,
                    1.1668817263882008,
                    0.6036815239921722,
                    0.43961370267327027,
                    0.49737480082907126,
                    0.589028757767093,
                    0.3605057675796286,
                    0.4721992031256139,
                    0.4851061841093314,
                    0.5782111860287165,
                    0.6747467489185404,
                    0.08266083977467886,
                    0.5811897252434752,
                    0.5265177792545366
                  ],
                  "xaxis": "x",
                  "y": [
                    0.451,
                    0.558,
                    0.159,
                    0.51,
                    0.26,
                    0.791,
                    0.71,
                    0.183,
                    0.645,
                    0.224,
                    0.219,
                    0.458,
                    0.425,
                    0,
                    0.282,
                    0.104,
                    0.445,
                    0.235,
                    0.251,
                    0.257,
                    0.392,
                    0.15,
                    0.381,
                    0.222,
                    0.182,
                    0.447,
                    0.466,
                    0.332,
                    0.223,
                    0.196,
                    0.197,
                    0.182,
                    0.147,
                    0.58,
                    0.147,
                    0.25,
                    0.209,
                    0.201,
                    0.181,
                    0.454,
                    0,
                    0.192,
                    0.494,
                    0.244,
                    0.0844,
                    0.115,
                    0.455,
                    0.0887,
                    0.0762,
                    0.18,
                    0.106,
                    0.248,
                    0.186,
                    0.177,
                    0.156,
                    0.265,
                    0.168,
                    0.201,
                    0.215,
                    0.243,
                    0.159,
                    0.206,
                    0.209,
                    0.153,
                    0.0879,
                    0.304,
                    0.142,
                    0.0884,
                    0.188,
                    0.409,
                    0.339,
                    0.197,
                    0.361,
                    0.643,
                    0.297,
                    0.679,
                    0.382,
                    0.142,
                    0.227,
                    0.0783,
                    0.0746,
                    0.248,
                    0.385,
                    0.311,
                    0.273,
                    0.172,
                    0.176,
                    0.162,
                    0.221,
                    0.27,
                    0.406,
                    0.241,
                    0.18,
                    0.482,
                    0.39,
                    0.452,
                    0.414,
                    0.657,
                    0.0629,
                    0.112,
                    0.109,
                    0.0814,
                    0.147,
                    0.0675,
                    0.136,
                    0.115,
                    0.223,
                    0.0823
                  ],
                  "yaxis": "y"
                },
                {
                  "name": "Decision Boundary",
                  "type": "scatter",
                  "x": [
                    0,
                    1.345
                  ],
                  "y": [
                    0.312,
                    0.312
                  ]
                }
              ],
              "layout": {
                "annotations": [
                  {
                    "showarrow": false,
                    "text": "↑ Predict Jazz",
                    "x": 0.3,
                    "y": 0.317,
                    "yshift": 10
                  },
                  {
                    "showarrow": false,
                    "text": "↓ Predict Ambient",
                    "x": 0.3,
                    "y": 0.262,
                    "yshift": 10
                  }
                ],
                "legend": {
                  "title": {
                    "text": "genre"
                  },
                  "tracegroupgap": 0
                },
                "margin": {
                  "t": 60
                },
                "template": {
                  "data": {
                    "bar": [
                      {
                        "error_x": {
                          "color": "rgb(36,36,36)"
                        },
                        "error_y": {
                          "color": "rgb(36,36,36)"
                        },
                        "marker": {
                          "line": {
                            "color": "white",
                            "width": 0.5
                          },
                          "pattern": {
                            "fillmode": "overlay",
                            "size": 10,
                            "solidity": 0.2
                          }
                        },
                        "type": "bar"
                      }
                    ],
                    "barpolar": [
                      {
                        "marker": {
                          "line": {
                            "color": "white",
                            "width": 0.5
                          },
                          "pattern": {
                            "fillmode": "overlay",
                            "size": 10,
                            "solidity": 0.2
                          }
                        },
                        "type": "barpolar"
                      }
                    ],
                    "carpet": [
                      {
                        "aaxis": {
                          "endlinecolor": "rgb(36,36,36)",
                          "gridcolor": "white",
                          "linecolor": "white",
                          "minorgridcolor": "white",
                          "startlinecolor": "rgb(36,36,36)"
                        },
                        "baxis": {
                          "endlinecolor": "rgb(36,36,36)",
                          "gridcolor": "white",
                          "linecolor": "white",
                          "minorgridcolor": "white",
                          "startlinecolor": "rgb(36,36,36)"
                        },
                        "type": "carpet"
                      }
                    ],
                    "choropleth": [
                      {
                        "colorbar": {
                          "outlinewidth": 1,
                          "tickcolor": "rgb(36,36,36)",
                          "ticks": "outside"
                        },
                        "type": "choropleth"
                      }
                    ],
                    "contour": [
                      {
                        "colorbar": {
                          "outlinewidth": 1,
                          "tickcolor": "rgb(36,36,36)",
                          "ticks": "outside"
                        },
                        "colorscale": [
                          [
                            0,
                            "#440154"
                          ],
                          [
                            0.1111111111111111,
                            "#482878"
                          ],
                          [
                            0.2222222222222222,
                            "#3e4989"
                          ],
                          [
                            0.3333333333333333,
                            "#31688e"
                          ],
                          [
                            0.4444444444444444,
                            "#26828e"
                          ],
                          [
                            0.5555555555555556,
                            "#1f9e89"
                          ],
                          [
                            0.6666666666666666,
                            "#35b779"
                          ],
                          [
                            0.7777777777777778,
                            "#6ece58"
                          ],
                          [
                            0.8888888888888888,
                            "#b5de2b"
                          ],
                          [
                            1,
                            "#fde725"
                          ]
                        ],
                        "type": "contour"
                      }
                    ],
                    "contourcarpet": [
                      {
                        "colorbar": {
                          "outlinewidth": 1,
                          "tickcolor": "rgb(36,36,36)",
                          "ticks": "outside"
                        },
                        "type": "contourcarpet"
                      }
                    ],
                    "heatmap": [
                      {
                        "colorbar": {
                          "outlinewidth": 1,
                          "tickcolor": "rgb(36,36,36)",
                          "ticks": "outside"
                        },
                        "colorscale": [
                          [
                            0,
                            "#440154"
                          ],
                          [
                            0.1111111111111111,
                            "#482878"
                          ],
                          [
                            0.2222222222222222,
                            "#3e4989"
                          ],
                          [
                            0.3333333333333333,
                            "#31688e"
                          ],
                          [
                            0.4444444444444444,
                            "#26828e"
                          ],
                          [
                            0.5555555555555556,
                            "#1f9e89"
                          ],
                          [
                            0.6666666666666666,
                            "#35b779"
                          ],
                          [
                            0.7777777777777778,
                            "#6ece58"
                          ],
                          [
                            0.8888888888888888,
                            "#b5de2b"
                          ],
                          [
                            1,
                            "#fde725"
                          ]
                        ],
                        "type": "heatmap"
                      }
                    ],
                    "heatmapgl": [
                      {
                        "colorbar": {
                          "outlinewidth": 1,
                          "tickcolor": "rgb(36,36,36)",
                          "ticks": "outside"
                        },
                        "colorscale": [
                          [
                            0,
                            "#440154"
                          ],
                          [
                            0.1111111111111111,
                            "#482878"
                          ],
                          [
                            0.2222222222222222,
                            "#3e4989"
                          ],
                          [
                            0.3333333333333333,
                            "#31688e"
                          ],
                          [
                            0.4444444444444444,
                            "#26828e"
                          ],
                          [
                            0.5555555555555556,
                            "#1f9e89"
                          ],
                          [
                            0.6666666666666666,
                            "#35b779"
                          ],
                          [
                            0.7777777777777778,
                            "#6ece58"
                          ],
                          [
                            0.8888888888888888,
                            "#b5de2b"
                          ],
                          [
                            1,
                            "#fde725"
                          ]
                        ],
                        "type": "heatmapgl"
                      }
                    ],
                    "histogram": [
                      {
                        "marker": {
                          "line": {
                            "color": "white",
                            "width": 0.6
                          }
                        },
                        "type": "histogram"
                      }
                    ],
                    "histogram2d": [
                      {
                        "colorbar": {
                          "outlinewidth": 1,
                          "tickcolor": "rgb(36,36,36)",
                          "ticks": "outside"
                        },
                        "colorscale": [
                          [
                            0,
                            "#440154"
                          ],
                          [
                            0.1111111111111111,
                            "#482878"
                          ],
                          [
                            0.2222222222222222,
                            "#3e4989"
                          ],
                          [
                            0.3333333333333333,
                            "#31688e"
                          ],
                          [
                            0.4444444444444444,
                            "#26828e"
                          ],
                          [
                            0.5555555555555556,
                            "#1f9e89"
                          ],
                          [
                            0.6666666666666666,
                            "#35b779"
                          ],
                          [
                            0.7777777777777778,
                            "#6ece58"
                          ],
                          [
                            0.8888888888888888,
                            "#b5de2b"
                          ],
                          [
                            1,
                            "#fde725"
                          ]
                        ],
                        "type": "histogram2d"
                      }
                    ],
                    "histogram2dcontour": [
                      {
                        "colorbar": {
                          "outlinewidth": 1,
                          "tickcolor": "rgb(36,36,36)",
                          "ticks": "outside"
                        },
                        "colorscale": [
                          [
                            0,
                            "#440154"
                          ],
                          [
                            0.1111111111111111,
                            "#482878"
                          ],
                          [
                            0.2222222222222222,
                            "#3e4989"
                          ],
                          [
                            0.3333333333333333,
                            "#31688e"
                          ],
                          [
                            0.4444444444444444,
                            "#26828e"
                          ],
                          [
                            0.5555555555555556,
                            "#1f9e89"
                          ],
                          [
                            0.6666666666666666,
                            "#35b779"
                          ],
                          [
                            0.7777777777777778,
                            "#6ece58"
                          ],
                          [
                            0.8888888888888888,
                            "#b5de2b"
                          ],
                          [
                            1,
                            "#fde725"
                          ]
                        ],
                        "type": "histogram2dcontour"
                      }
                    ],
                    "mesh3d": [
                      {
                        "colorbar": {
                          "outlinewidth": 1,
                          "tickcolor": "rgb(36,36,36)",
                          "ticks": "outside"
                        },
                        "type": "mesh3d"
                      }
                    ],
                    "parcoords": [
                      {
                        "line": {
                          "colorbar": {
                            "outlinewidth": 1,
                            "tickcolor": "rgb(36,36,36)",
                            "ticks": "outside"
                          }
                        },
                        "type": "parcoords"
                      }
                    ],
                    "pie": [
                      {
                        "automargin": true,
                        "type": "pie"
                      }
                    ],
                    "scatter": [
                      {
                        "fillpattern": {
                          "fillmode": "overlay",
                          "size": 10,
                          "solidity": 0.2
                        },
                        "type": "scatter"
                      }
                    ],
                    "scatter3d": [
                      {
                        "line": {
                          "colorbar": {
                            "outlinewidth": 1,
                            "tickcolor": "rgb(36,36,36)",
                            "ticks": "outside"
                          }
                        },
                        "marker": {
                          "colorbar": {
                            "outlinewidth": 1,
                            "tickcolor": "rgb(36,36,36)",
                            "ticks": "outside"
                          }
                        },
                        "type": "scatter3d"
                      }
                    ],
                    "scattercarpet": [
                      {
                        "marker": {
                          "colorbar": {
                            "outlinewidth": 1,
                            "tickcolor": "rgb(36,36,36)",
                            "ticks": "outside"
                          }
                        },
                        "type": "scattercarpet"
                      }
                    ],
                    "scattergeo": [
                      {
                        "marker": {
                          "colorbar": {
                            "outlinewidth": 1,
                            "tickcolor": "rgb(36,36,36)",
                            "ticks": "outside"
                          }
                        },
                        "type": "scattergeo"
                      }
                    ],
                    "scattergl": [
                      {
                        "marker": {
                          "colorbar": {
                            "outlinewidth": 1,
                            "tickcolor": "rgb(36,36,36)",
                            "ticks": "outside"
                          }
                        },
                        "type": "scattergl"
                      }
                    ],
                    "scattermapbox": [
                      {
                        "marker": {
                          "colorbar": {
                            "outlinewidth": 1,
                            "tickcolor": "rgb(36,36,36)",
                            "ticks": "outside"
                          }
                        },
                        "type": "scattermapbox"
                      }
                    ],
                    "scatterpolar": [
                      {
                        "marker": {
                          "colorbar": {
                            "outlinewidth": 1,
                            "tickcolor": "rgb(36,36,36)",
                            "ticks": "outside"
                          }
                        },
                        "type": "scatterpolar"
                      }
                    ],
                    "scatterpolargl": [
                      {
                        "marker": {
                          "colorbar": {
                            "outlinewidth": 1,
                            "tickcolor": "rgb(36,36,36)",
                            "ticks": "outside"
                          }
                        },
                        "type": "scatterpolargl"
                      }
                    ],
                    "scatterternary": [
                      {
                        "marker": {
                          "colorbar": {
                            "outlinewidth": 1,
                            "tickcolor": "rgb(36,36,36)",
                            "ticks": "outside"
                          }
                        },
                        "type": "scatterternary"
                      }
                    ],
                    "surface": [
                      {
                        "colorbar": {
                          "outlinewidth": 1,
                          "tickcolor": "rgb(36,36,36)",
                          "ticks": "outside"
                        },
                        "colorscale": [
                          [
                            0,
                            "#440154"
                          ],
                          [
                            0.1111111111111111,
                            "#482878"
                          ],
                          [
                            0.2222222222222222,
                            "#3e4989"
                          ],
                          [
                            0.3333333333333333,
                            "#31688e"
                          ],
                          [
                            0.4444444444444444,
                            "#26828e"
                          ],
                          [
                            0.5555555555555556,
                            "#1f9e89"
                          ],
                          [
                            0.6666666666666666,
                            "#35b779"
                          ],
                          [
                            0.7777777777777778,
                            "#6ece58"
                          ],
                          [
                            0.8888888888888888,
                            "#b5de2b"
                          ],
                          [
                            1,
                            "#fde725"
                          ]
                        ],
                        "type": "surface"
                      }
                    ],
                    "table": [
                      {
                        "cells": {
                          "fill": {
                            "color": "rgb(237,237,237)"
                          },
                          "line": {
                            "color": "white"
                          }
                        },
                        "header": {
                          "fill": {
                            "color": "rgb(217,217,217)"
                          },
                          "line": {
                            "color": "white"
                          }
                        },
                        "type": "table"
                      }
                    ]
                  },
                  "layout": {
                    "annotationdefaults": {
                      "arrowhead": 0,
                      "arrowwidth": 1
                    },
                    "autotypenumbers": "strict",
                    "coloraxis": {
                      "colorbar": {
                        "outlinewidth": 1,
                        "tickcolor": "rgb(36,36,36)",
                        "ticks": "outside"
                      }
                    },
                    "colorscale": {
                      "diverging": [
                        [
                          0,
                          "rgb(103,0,31)"
                        ],
                        [
                          0.1,
                          "rgb(178,24,43)"
                        ],
                        [
                          0.2,
                          "rgb(214,96,77)"
                        ],
                        [
                          0.3,
                          "rgb(244,165,130)"
                        ],
                        [
                          0.4,
                          "rgb(253,219,199)"
                        ],
                        [
                          0.5,
                          "rgb(247,247,247)"
                        ],
                        [
                          0.6,
                          "rgb(209,229,240)"
                        ],
                        [
                          0.7,
                          "rgb(146,197,222)"
                        ],
                        [
                          0.8,
                          "rgb(67,147,195)"
                        ],
                        [
                          0.9,
                          "rgb(33,102,172)"
                        ],
                        [
                          1,
                          "rgb(5,48,97)"
                        ]
                      ],
                      "sequential": [
                        [
                          0,
                          "#440154"
                        ],
                        [
                          0.1111111111111111,
                          "#482878"
                        ],
                        [
                          0.2222222222222222,
                          "#3e4989"
                        ],
                        [
                          0.3333333333333333,
                          "#31688e"
                        ],
                        [
                          0.4444444444444444,
                          "#26828e"
                        ],
                        [
                          0.5555555555555556,
                          "#1f9e89"
                        ],
                        [
                          0.6666666666666666,
                          "#35b779"
                        ],
                        [
                          0.7777777777777778,
                          "#6ece58"
                        ],
                        [
                          0.8888888888888888,
                          "#b5de2b"
                        ],
                        [
                          1,
                          "#fde725"
                        ]
                      ],
                      "sequentialminus": [
                        [
                          0,
                          "#440154"
                        ],
                        [
                          0.1111111111111111,
                          "#482878"
                        ],
                        [
                          0.2222222222222222,
                          "#3e4989"
                        ],
                        [
                          0.3333333333333333,
                          "#31688e"
                        ],
                        [
                          0.4444444444444444,
                          "#26828e"
                        ],
                        [
                          0.5555555555555556,
                          "#1f9e89"
                        ],
                        [
                          0.6666666666666666,
                          "#35b779"
                        ],
                        [
                          0.7777777777777778,
                          "#6ece58"
                        ],
                        [
                          0.8888888888888888,
                          "#b5de2b"
                        ],
                        [
                          1,
                          "#fde725"
                        ]
                      ]
                    },
                    "colorway": [
                      "#1F77B4",
                      "#FF7F0E",
                      "#2CA02C",
                      "#D62728",
                      "#9467BD",
                      "#8C564B",
                      "#E377C2",
                      "#7F7F7F",
                      "#BCBD22",
                      "#17BECF"
                    ],
                    "font": {
                      "color": "rgb(36,36,36)"
                    },
                    "geo": {
                      "bgcolor": "white",
                      "lakecolor": "white",
                      "landcolor": "white",
                      "showlakes": true,
                      "showland": true,
                      "subunitcolor": "white"
                    },
                    "hoverlabel": {
                      "align": "left"
                    },
                    "hovermode": "closest",
                    "mapbox": {
                      "style": "light"
                    },
                    "paper_bgcolor": "white",
                    "plot_bgcolor": "white",
                    "polar": {
                      "angularaxis": {
                        "gridcolor": "rgb(232,232,232)",
                        "linecolor": "rgb(36,36,36)",
                        "showgrid": false,
                        "showline": true,
                        "ticks": "outside"
                      },
                      "bgcolor": "white",
                      "radialaxis": {
                        "gridcolor": "rgb(232,232,232)",
                        "linecolor": "rgb(36,36,36)",
                        "showgrid": false,
                        "showline": true,
                        "ticks": "outside"
                      }
                    },
                    "scene": {
                      "xaxis": {
                        "backgroundcolor": "white",
                        "gridcolor": "rgb(232,232,232)",
                        "gridwidth": 2,
                        "linecolor": "rgb(36,36,36)",
                        "showbackground": true,
                        "showgrid": false,
                        "showline": true,
                        "ticks": "outside",
                        "zeroline": false,
                        "zerolinecolor": "rgb(36,36,36)"
                      },
                      "yaxis": {
                        "backgroundcolor": "white",
                        "gridcolor": "rgb(232,232,232)",
                        "gridwidth": 2,
                        "linecolor": "rgb(36,36,36)",
                        "showbackground": true,
                        "showgrid": false,
                        "showline": true,
                        "ticks": "outside",
                        "zeroline": false,
                        "zerolinecolor": "rgb(36,36,36)"
                      },
                      "zaxis": {
                        "backgroundcolor": "white",
                        "gridcolor": "rgb(232,232,232)",
                        "gridwidth": 2,
                        "linecolor": "rgb(36,36,36)",
                        "showbackground": true,
                        "showgrid": false,
                        "showline": true,
                        "ticks": "outside",
                        "zeroline": false,
                        "zerolinecolor": "rgb(36,36,36)"
                      }
                    },
                    "shapedefaults": {
                      "fillcolor": "black",
                      "line": {
                        "width": 0
                      },
                      "opacity": 0.3
                    },
                    "ternary": {
                      "aaxis": {
                        "gridcolor": "rgb(232,232,232)",
                        "linecolor": "rgb(36,36,36)",
                        "showgrid": false,
                        "showline": true,
                        "ticks": "outside"
                      },
                      "baxis": {
                        "gridcolor": "rgb(232,232,232)",
                        "linecolor": "rgb(36,36,36)",
                        "showgrid": false,
                        "showline": true,
                        "ticks": "outside"
                      },
                      "bgcolor": "white",
                      "caxis": {
                        "gridcolor": "rgb(232,232,232)",
                        "linecolor": "rgb(36,36,36)",
                        "showgrid": false,
                        "showline": true,
                        "ticks": "outside"
                      }
                    },
                    "title": {
                      "x": 0.05
                    },
                    "xaxis": {
                      "automargin": true,
                      "gridcolor": "rgb(232,232,232)",
                      "linecolor": "rgb(36,36,36)",
                      "showgrid": false,
                      "showline": true,
                      "ticks": "outside",
                      "title": {
                        "standoff": 15
                      },
                      "zeroline": false,
                      "zerolinecolor": "rgb(36,36,36)"
                    },
                    "yaxis": {
                      "automargin": true,
                      "gridcolor": "rgb(232,232,232)",
                      "linecolor": "rgb(36,36,36)",
                      "showgrid": false,
                      "showline": true,
                      "ticks": "outside",
                      "title": {
                        "standoff": 15
                      },
                      "zeroline": false,
                      "zerolinecolor": "rgb(36,36,36)"
                    }
                  }
                },
                "title": {
                  "text": "Quiet Songs",
                  "x": 0.5
                },
                "xaxis": {
                  "anchor": "y",
                  "domain": [
                    0,
                    1
                  ],
                  "title": {
                    "text": "log_loudness"
                  }
                },
                "yaxis": {
                  "anchor": "x",
                  "domain": [
                    0,
                    1
                  ],
                  "title": {
                    "text": "danceability"
                  }
                }
              }
            }
          },
          "metadata": {},
          "output_type": "display_data"
        }
      ],
      "source": [
        "quiet_fig = px.scatter(track_df_quiet, x='log_loudness', y='danceability', color='genre',\n",
        "                       hover_data=['name','artist'], template='simple_white')\n",
        "quiet_fig.update_layout(title_text='Quiet Songs', title_x=0.5)\n",
        "#fig.add_vrect(x0=0.9, x1=2)\n",
        "x1 = [0, loudness_cutoff]\n",
        "y1 = [dance_cutoff, dance_cutoff]\n",
        "quiet_fig.add_trace(go.Scatter(name='Decision Boundary', x=x1, y=y1))\n",
        "quiet_fig.add_annotation(x=0.3, y=dance_cutoff + 0.005,\n",
        "            text=\"↑ Predict Jazz\",\n",
        "            showarrow=False,\n",
        "            yshift=10)\n",
        "quiet_fig.add_annotation(x=0.3, y=dance_cutoff - 0.05,\n",
        "            text=\"↓ Predict Ambient\",\n",
        "            showarrow=False,\n",
        "            yshift=10)\n",
        "quiet_fig.show()"
      ]
    },
    {
      "cell_type": "code",
      "execution_count": 49,
      "metadata": {
        "colab": {
          "base_uri": "https://localhost:8080/",
          "height": 542
        },
        "id": "p0tExiEk3CqA",
        "outputId": "a27c11c3-0a9a-4db1-bc07-178a5da71fad"
      },
      "outputs": [
        {
          "data": {
            "application/vnd.plotly.v1+json": {
              "config": {
                "plotlyServerURL": "https://plot.ly"
              },
              "data": [
                {
                  "customdata": [
                    [
                      "Let's Get Lost",
                      "Chet Baker"
                    ],
                    [
                      "Christmas Island",
                      "Ella Fitzgerald"
                    ],
                    [
                      "Frosty The Snowman",
                      "Ella Fitzgerald"
                    ],
                    [
                      "Milestones (feat. John Coltrane, Cannonball Adderley, Red Garland, Paul Chambers & Philly Joe Jones)",
                      "Miles Davis"
                    ],
                    [
                      "Blue Train - Remastered 2003/Rudy Van Gelder Edition",
                      "John Coltrane"
                    ],
                    [
                      "Take The Coltrane",
                      "Duke Ellington"
                    ],
                    [
                      "Cantaloupe Island - Remastered 1999/Rudy Van Gelder Edition",
                      "Herbie Hancock"
                    ],
                    [
                      "Watermelon Man - Remastered",
                      "Herbie Hancock"
                    ],
                    [
                      "Chameleon",
                      "Herbie Hancock"
                    ],
                    [
                      "Rockit",
                      "Herbie Hancock"
                    ],
                    [
                      "Maiden Voyage - Remastered",
                      "Herbie Hancock"
                    ],
                    [
                      "Moanin'",
                      "Charles Mingus"
                    ],
                    [
                      "Track A- Solo Dancer",
                      "Charles Mingus"
                    ],
                    [
                      "Track B- Duete Solo Dancers",
                      "Charles Mingus"
                    ]
                  ],
                  "hovertemplate": "genre=Jazz<br>log_loudness=%{x}<br>energy=%{y}<br>name=%{customdata[0]}<br>artist=%{customdata[1]}<extra></extra>",
                  "legendgroup": "Jazz",
                  "marker": {
                    "color": "#1F77B4",
                    "symbol": "circle"
                  },
                  "mode": "markers",
                  "name": "Jazz",
                  "orientation": "v",
                  "showlegend": true,
                  "type": "scatter",
                  "x": [
                    1.4729333663087019,
                    1.4681295139960566,
                    1.6835817397668706,
                    1.6983534502432023,
                    1.6589213473044158,
                    1.4690884400724142,
                    1.6058381877090215,
                    1.560908289221603,
                    1.5940526190595592,
                    2.0830542712509708,
                    1.4350305562332037,
                    1.3740787191971298,
                    1.560090675440145,
                    1.5391783542254993
                  ],
                  "xaxis": "x",
                  "y": [
                    0.37,
                    0.343,
                    0.502,
                    0.546,
                    0.493,
                    0.631,
                    0.583,
                    0.526,
                    0.672,
                    0.951,
                    0.459,
                    0.476,
                    0.622,
                    0.572
                  ],
                  "yaxis": "y"
                },
                {
                  "customdata": [
                    [
                      "IDGAF (feat. Yeat)",
                      "Drake"
                    ],
                    [
                      "First Person Shooter (feat. J. Cole)",
                      "Drake"
                    ],
                    [
                      "Slime You Out (feat. SZA)",
                      "Drake"
                    ],
                    [
                      "Jimmy Cooks (feat. 21 Savage)",
                      "Drake"
                    ],
                    [
                      "One Dance",
                      "Drake"
                    ],
                    [
                      "MELTDOWN (feat. Drake)",
                      "Drake"
                    ],
                    [
                      "Rich Baby Daddy (feat. Sexyy Red & SZA)",
                      "Drake"
                    ],
                    [
                      "Virginia Beach",
                      "Drake"
                    ],
                    [
                      "Gently (feat. Bad Bunny)",
                      "Drake"
                    ],
                    [
                      "Rich Flex",
                      "Drake"
                    ],
                    [
                      "Flashing Lights",
                      "Kanye West"
                    ],
                    [
                      "Heartless",
                      "Kanye West"
                    ],
                    [
                      "I Wonder",
                      "Kanye West"
                    ],
                    [
                      "Father Stretch My Hands Pt. 1",
                      "Kanye West"
                    ],
                    [
                      "Bound 2",
                      "Kanye West"
                    ],
                    [
                      "Ni**as In Paris",
                      "Kanye West"
                    ],
                    [
                      "Homecoming",
                      "Kanye West"
                    ],
                    [
                      "Stronger",
                      "Kanye West"
                    ],
                    [
                      "Violent Crimes",
                      "Kanye West"
                    ],
                    [
                      "Gold Digger",
                      "Kanye West"
                    ],
                    [
                      "Money Trees",
                      "Kendrick Lamar"
                    ],
                    [
                      "HUMBLE.",
                      "Kendrick Lamar"
                    ],
                    [
                      "All The Stars (with SZA)",
                      "Kendrick Lamar"
                    ],
                    [
                      "family ties (with Kendrick Lamar)",
                      "Kendrick Lamar"
                    ],
                    [
                      "LOVE. FEAT. ZACARI.",
                      "Kendrick Lamar"
                    ],
                    [
                      "PRIDE.",
                      "Kendrick Lamar"
                    ],
                    [
                      "Bad Blood (feat. Kendrick Lamar) (Taylor's Version)",
                      "Kendrick Lamar"
                    ],
                    [
                      "Pray For Me",
                      "Kendrick Lamar"
                    ],
                    [
                      "Alright",
                      "Kendrick Lamar"
                    ],
                    [
                      "Swimming Pools (Drank)",
                      "Kendrick Lamar"
                    ],
                    [
                      "See You Again (feat. Kali Uchis)",
                      "Tyler, The Creator"
                    ],
                    [
                      "NEW MAGIC WAND",
                      "Tyler, The Creator"
                    ],
                    [
                      "ARE WE STILL FRIENDS?",
                      "Tyler, The Creator"
                    ],
                    [
                      "EARFQUAKE",
                      "Tyler, The Creator"
                    ],
                    [
                      "BEST INTEREST",
                      "Tyler, The Creator"
                    ],
                    [
                      "She",
                      "Tyler, The Creator"
                    ],
                    [
                      "GONE, GONE / THANK YOU",
                      "Tyler, The Creator"
                    ],
                    [
                      "SWEET / I THOUGHT YOU WANTED TO DANCE (feat. Brent Faiyaz & Fana Hues)",
                      "Tyler, The Creator"
                    ],
                    [
                      "WUSYANAME (feat. Youngboy Never Broke Again & Ty Dolla $ign)",
                      "Tyler, The Creator"
                    ],
                    [
                      "RUNNING OUT OF TIME",
                      "Tyler, The Creator"
                    ],
                    [
                      "Creepin' (with The Weeknd & 21 Savage)",
                      "Metro Boomin"
                    ],
                    [
                      "Too Many Nights (feat. Don Toliver & with Future)",
                      "Metro Boomin"
                    ],
                    [
                      "Trance (with Travis Scott & Young Thug)",
                      "Metro Boomin"
                    ],
                    [
                      "Superhero (Heroes & Villains) [with Future & Chris Brown]",
                      "Metro Boomin"
                    ],
                    [
                      "Glock In My Lap",
                      "Metro Boomin"
                    ],
                    [
                      "Ric Flair Drip (with Metro Boomin)",
                      "Metro Boomin"
                    ],
                    [
                      "Runnin",
                      "Metro Boomin"
                    ],
                    [
                      "Space Cadet (feat. Gunna)",
                      "Metro Boomin"
                    ],
                    [
                      "Rich Nigga Shit (feat. Young Thug)",
                      "Metro Boomin"
                    ],
                    [
                      "Am I Dreaming (Metro Boomin & A$AP Rocky, Roisee)",
                      "Metro Boomin"
                    ],
                    [
                      "I KNOW ?",
                      "Travis Scott"
                    ],
                    [
                      "FE!N (feat. Playboi Carti)",
                      "Travis Scott"
                    ],
                    [
                      "MELTDOWN (feat. Drake)",
                      "Travis Scott"
                    ],
                    [
                      "TELEKINESIS (feat. SZA & Future)",
                      "Travis Scott"
                    ],
                    [
                      "Trance (with Travis Scott & Young Thug)",
                      "Travis Scott"
                    ],
                    [
                      "MY EYES",
                      "Travis Scott"
                    ],
                    [
                      "goosebumps",
                      "Travis Scott"
                    ],
                    [
                      "K-POP",
                      "Travis Scott"
                    ],
                    [
                      "Fair Trade (with Travis Scott)",
                      "Travis Scott"
                    ],
                    [
                      "SICKO MODE",
                      "Travis Scott"
                    ],
                    [
                      "The Spins",
                      "Mac Miller"
                    ],
                    [
                      "Small Worlds",
                      "Mac Miller"
                    ],
                    [
                      "Self Care",
                      "Mac Miller"
                    ],
                    [
                      "Love Lost",
                      "Mac Miller"
                    ],
                    [
                      "Weekend (feat. Miguel)",
                      "Mac Miller"
                    ],
                    [
                      "Nikes on My Feet",
                      "Mac Miller"
                    ],
                    [
                      "Blue World",
                      "Mac Miller"
                    ],
                    [
                      "Dang! (feat. Anderson .Paak)",
                      "Mac Miller"
                    ],
                    [
                      "First Person Shooter (feat. J. Cole)",
                      "J. Cole"
                    ],
                    [
                      "No Role Modelz",
                      "J. Cole"
                    ],
                    [
                      "Wet Dreamz",
                      "J. Cole"
                    ],
                    [
                      "All My Life (feat. J. Cole)",
                      "J. Cole"
                    ],
                    [
                      "Work Out",
                      "J. Cole"
                    ],
                    [
                      "m y . l i f e (with 21 Savage & Morray)",
                      "J. Cole"
                    ],
                    [
                      "Power Trip (feat. Miguel)",
                      "J. Cole"
                    ],
                    [
                      "Love Yourz",
                      "J. Cole"
                    ],
                    [
                      "on the street (with J. Cole)",
                      "J. Cole"
                    ],
                    [
                      "Without Me",
                      "Eminem"
                    ],
                    [
                      "Mockingbird",
                      "Eminem"
                    ],
                    [
                      "Lose Yourself",
                      "Eminem"
                    ],
                    [
                      "The Real Slim Shady",
                      "Eminem"
                    ],
                    [
                      "Superman",
                      "Eminem"
                    ],
                    [
                      "Till I Collapse",
                      "Eminem"
                    ],
                    [
                      "Love The Way You Lie",
                      "Eminem"
                    ],
                    [
                      "Stan",
                      "Eminem"
                    ],
                    [
                      "Godzilla (feat. Juice WRLD)",
                      "Eminem"
                    ],
                    [
                      "Not Afraid",
                      "Eminem"
                    ],
                    [
                      "Lucid Dreams (feat. Lil Uzi Vert) - Remix",
                      "Lil Uzi Vert"
                    ],
                    [
                      "Just Wanna Rock",
                      "Lil Uzi Vert"
                    ],
                    [
                      "Watch This - ARIZONATEARS Pluggnb Remix",
                      "Lil Uzi Vert"
                    ],
                    [
                      "20 Min",
                      "Lil Uzi Vert"
                    ],
                    [
                      "XO Tour Llif3",
                      "Lil Uzi Vert"
                    ],
                    [
                      "The Way Life Goes (feat. Oh Wonder)",
                      "Lil Uzi Vert"
                    ],
                    [
                      "Flooded The Face",
                      "Lil Uzi Vert"
                    ],
                    [
                      "Money Longer",
                      "Lil Uzi Vert"
                    ],
                    [
                      "Aye (feat. Travis Scott)",
                      "Lil Uzi Vert"
                    ],
                    [
                      "Endless Fashion (feat. Nicki Minaj)",
                      "Lil Uzi Vert"
                    ],
                    [
                      "Creepin' (with The Weeknd & 21 Savage)",
                      "21 Savage"
                    ],
                    [
                      "Jimmy Cooks (feat. 21 Savage)",
                      "21 Savage"
                    ],
                    [
                      "Rich Flex",
                      "21 Savage"
                    ],
                    [
                      "Glock In My Lap",
                      "21 Savage"
                    ],
                    [
                      "Calling For You (feat. 21 Savage)",
                      "21 Savage"
                    ],
                    [
                      "Runnin",
                      "21 Savage"
                    ],
                    [
                      "ball w/o you",
                      "21 Savage"
                    ],
                    [
                      "Spin Bout U",
                      "21 Savage"
                    ],
                    [
                      "Rich Nigga Shit (feat. Young Thug)",
                      "21 Savage"
                    ],
                    [
                      "a lot",
                      "21 Savage"
                    ],
                    [
                      "Too Many Nights (feat. Don Toliver & with Future)",
                      "Future"
                    ],
                    [
                      "TELEKINESIS (feat. SZA & Future)",
                      "Future"
                    ],
                    [
                      "Superhero (Heroes & Villains) [with Future & Chris Brown]",
                      "Future"
                    ],
                    [
                      "WAIT FOR U (feat. Drake & Tems)",
                      "Future"
                    ],
                    [
                      "Low Life (feat. The Weeknd)",
                      "Future"
                    ],
                    [
                      "Solo",
                      "Future"
                    ],
                    [
                      "Mask Off",
                      "Future"
                    ],
                    [
                      "PUFFIN ON ZOOTIEZ",
                      "Future"
                    ],
                    [
                      "Life Is Good (feat. Drake)",
                      "Future"
                    ],
                    [
                      "Private Landing (feat. Justin Bieber & Future)",
                      "Future"
                    ]
                  ],
                  "hovertemplate": "genre=Hip Hop<br>log_loudness=%{x}<br>energy=%{y}<br>name=%{customdata[0]}<br>artist=%{customdata[1]}<extra></extra>",
                  "legendgroup": "Hip Hop",
                  "marker": {
                    "color": "#FF7F0E",
                    "symbol": "circle"
                  },
                  "mode": "markers",
                  "name": "Hip Hop",
                  "orientation": "v",
                  "showlegend": true,
                  "type": "scatter",
                  "x": [
                    1.5796621560727382,
                    1.656347011991591,
                    1.4839082989335877,
                    2.157874607498324,
                    1.9834023566900283,
                    2.044796127854098,
                    2.1904521836899336,
                    1.7168912925181838,
                    1.6620193231911986,
                    1.4732544451363117,
                    1.682525494619819,
                    1.9188526928083336,
                    1.548482884048659,
                    2.2936221179679412,
                    2.670683375196369,
                    1.9954193607754416,
                    1.753471408802893,
                    1.6462426860799604,
                    1.802091591669859,
                    1.990020751298669,
                    1.7123944531628272,
                    1.8149640939184453,
                    2.109195638117004,
                    2.011608891272304,
                    1.7140273287467547,
                    1.753896488511738,
                    1.7755290203549727,
                    2.102947507339811,
                    1.92035808742231,
                    1.9341793086158443,
                    1.4861828734317144,
                    2.018786616024119,
                    1.6252131382001487,
                    1.5255510708933664,
                    1.5885117713497205,
                    1.8367421570936653,
                    1.5752665445997,
                    2.116093616371387,
                    1.9732914058079034,
                    1.3469208060982067,
                    1.9151823516842814,
                    2.227990103008999,
                    1.709001168603847,
                    2.040067986658152,
                    1.8454015586601817,
                    1.59393183881906,
                    2.187386711615639,
                    1.4265155009369348,
                    1.9805538591257443,
                    1.6521137942017958,
                    2.216895230906263,
                    2.686403598891566,
                    2.044796127854098,
                    2.127971699911819,
                    1.709001168603847,
                    1.667334002886125,
                    2.492862062851958,
                    1.9825113292765375,
                    1.5624284906486738,
                    2.395665344285714,
                    2.34833790026622,
                    1.498951094036657,
                    1.6148002512538078,
                    2.222314074601839,
                    1.5745555598559213,
                    2.0779462051343938,
                    1.51277492490212,
                    1.7752394171093924,
                    1.656347011991591,
                    1.5686502633752184,
                    1.6149235786264744,
                    1.9360479917384092,
                    1.7758187074948897,
                    1.7581572533725929,
                    1.754179975402368,
                    1.5524144339787078,
                    2.074620368164812,
                    2.6685587285047747,
                    2.3733001948261343,
                    2.189356293169296,
                    2.262268586464492,
                    2.5641891529053873,
                    2.533127832272121,
                    2.091559910503104,
                    2.2433626668323856,
                    2.0476437804666094,
                    3.5338215000927904,
                    1.8333606598659848,
                    1.6378786783799235,
                    1.7364754241560953,
                    2.319232973555858,
                    1.8568034783563272,
                    2.4235131716614893,
                    1.6647379474301922,
                    1.6514739579780349,
                    2.2144213738029297,
                    2.096338892119455,
                    1.9151823516842814,
                    2.157874607498324,
                    1.4732544451363117,
                    1.8454015586601817,
                    1.8257177000073925,
                    2.187386711615639,
                    1.696745948222564,
                    1.853666712923638,
                    1.9805538591257443,
                    1.6739846109554812,
                    2.227990103008999,
                    2.127971699911819,
                    2.040067986658152,
                    2.20949194414829,
                    1.6550623252784167,
                    1.8364342753178342,
                    1.5335914290267065,
                    1.9589228389994497,
                    1.7758187074948897,
                    2.2955690643118363
                  ],
                  "xaxis": "x",
                  "y": [
                    0.67,
                    0.64,
                    0.408,
                    0.673,
                    0.625,
                    0.774,
                    0.729,
                    0.514,
                    0.407,
                    0.52,
                    0.628,
                    0.647,
                    0.466,
                    0.573,
                    0.665,
                    0.858,
                    0.747,
                    0.717,
                    0.419,
                    0.696,
                    0.531,
                    0.621,
                    0.633,
                    0.611,
                    0.585,
                    0.535,
                    0.648,
                    0.678,
                    0.766,
                    0.447,
                    0.559,
                    0.73,
                    0.497,
                    0.498,
                    0.575,
                    0.621,
                    0.492,
                    0.652,
                    0.653,
                    0.391,
                    0.62,
                    0.671,
                    0.549,
                    0.606,
                    0.733,
                    0.428,
                    0.626,
                    0.464,
                    0.733,
                    0.526,
                    0.619,
                    0.882,
                    0.774,
                    0.535,
                    0.549,
                    0.621,
                    0.728,
                    0.618,
                    0.465,
                    0.73,
                    0.766,
                    0.546,
                    0.538,
                    0.812,
                    0.435,
                    0.57,
                    0.553,
                    0.67,
                    0.64,
                    0.521,
                    0.722,
                    0.57,
                    0.427,
                    0.587,
                    0.608,
                    0.638,
                    0.821,
                    0.669,
                    0.678,
                    0.744,
                    0.661,
                    0.755,
                    0.847,
                    0.925,
                    0.768,
                    0.745,
                    0.954,
                    0.579,
                    0.545,
                    0.897,
                    0.75,
                    0.75,
                    0.757,
                    0.609,
                    0.568,
                    0.604,
                    0.605,
                    0.62,
                    0.673,
                    0.52,
                    0.733,
                    0.55,
                    0.626,
                    0.633,
                    0.701,
                    0.733,
                    0.636,
                    0.671,
                    0.535,
                    0.606,
                    0.642,
                    0.331,
                    0.486,
                    0.434,
                    0.657,
                    0.574,
                    0.669
                  ],
                  "yaxis": "y"
                },
                {
                  "customdata": [
                    [
                      "We Found Love",
                      "Calvin Harris"
                    ],
                    [
                      "Desire (with Sam Smith)",
                      "Calvin Harris"
                    ],
                    [
                      "One Kiss (with Dua Lipa)",
                      "Calvin Harris"
                    ],
                    [
                      "Miracle (with Ellie Goulding)",
                      "Calvin Harris"
                    ],
                    [
                      "This Is What You Came For",
                      "Calvin Harris"
                    ],
                    [
                      "Outside (feat. Ellie Goulding)",
                      "Calvin Harris"
                    ],
                    [
                      "Summer",
                      "Calvin Harris"
                    ],
                    [
                      "Feel So Close - Radio Edit",
                      "Calvin Harris"
                    ],
                    [
                      "My Way",
                      "Calvin Harris"
                    ],
                    [
                      "How Deep Is Your Love",
                      "Calvin Harris"
                    ],
                    [
                      "I'm Good (Blue)",
                      "David Guetta"
                    ],
                    [
                      "Baby Don't Hurt Me",
                      "David Guetta"
                    ],
                    [
                      "Titanium (feat. Sia)",
                      "David Guetta"
                    ],
                    [
                      "Memories (feat. Kid Cudi)",
                      "David Guetta"
                    ],
                    [
                      "One in a Million",
                      "David Guetta"
                    ],
                    [
                      "On My Love",
                      "David Guetta"
                    ],
                    [
                      "Sexy Bitch (feat. Akon)",
                      "David Guetta"
                    ],
                    [
                      "Remember (with David Guetta)",
                      "David Guetta"
                    ],
                    [
                      "Love Tonight (David Guetta Remix Edit)",
                      "David Guetta"
                    ],
                    [
                      "Crazy What Love Can Do",
                      "David Guetta"
                    ],
                    [
                      "Wake Me Up",
                      "Avicii"
                    ],
                    [
                      "The Nights",
                      "Avicii"
                    ],
                    [
                      "Waiting For Love",
                      "Avicii"
                    ],
                    [
                      "Levels - Radio Edit",
                      "Avicii"
                    ],
                    [
                      "Hey Brother",
                      "Avicii"
                    ],
                    [
                      "Without You (feat. Sandro Cavazza)",
                      "Avicii"
                    ],
                    [
                      "Addicted To You",
                      "Avicii"
                    ],
                    [
                      "SOS (feat. Aloe Blacc)",
                      "Avicii"
                    ],
                    [
                      "I Could Be The One (Avicii Vs. Nicky Romero) - Radio Edit",
                      "Avicii"
                    ],
                    [
                      "Lonely Together (feat. Rita Ora)",
                      "Avicii"
                    ],
                    [
                      "adore u",
                      "Fred again.."
                    ],
                    [
                      "ten",
                      "Fred again.."
                    ],
                    [
                      "Marea (we’ve lost dancing)",
                      "Fred again.."
                    ],
                    [
                      "Delilah (pull me out of this)",
                      "Fred again.."
                    ],
                    [
                      "Turn On The Lights again.. (feat. Future)",
                      "Fred again.."
                    ],
                    [
                      "Rumble",
                      "Fred again.."
                    ],
                    [
                      "Jungle",
                      "Fred again.."
                    ],
                    [
                      "Danielle (smile on my face)",
                      "Fred again.."
                    ],
                    [
                      "Baby again..",
                      "Fred again.."
                    ],
                    [
                      "Kyle (i found you)",
                      "Fred again.."
                    ],
                    [
                      "Lay Low",
                      "Tiësto"
                    ],
                    [
                      "10:35",
                      "Tiësto"
                    ],
                    [
                      "The Motto",
                      "Tiësto"
                    ],
                    [
                      "Don't Be Shy",
                      "Tiësto"
                    ],
                    [
                      "The Business",
                      "Tiësto"
                    ],
                    [
                      "Drifting",
                      "Tiësto"
                    ],
                    [
                      "BOTH",
                      "Tiësto"
                    ],
                    [
                      "Another Love - Tiësto Remix",
                      "Tiësto"
                    ],
                    [
                      "Hot In It (feat. Charli XCX)",
                      "Tiësto"
                    ],
                    [
                      "All Nighter",
                      "Tiësto"
                    ],
                    [
                      "HARLEY QUINN",
                      "Marshmello"
                    ],
                    [
                      "El Merengue",
                      "Marshmello"
                    ],
                    [
                      "Happier",
                      "Marshmello"
                    ],
                    [
                      "Leave Before You Love Me (with Jonas Brothers)",
                      "Marshmello"
                    ],
                    [
                      "Silence",
                      "Marshmello"
                    ],
                    [
                      "Numb",
                      "Marshmello"
                    ],
                    [
                      "FRIENDS",
                      "Marshmello"
                    ],
                    [
                      "Wolves",
                      "Marshmello"
                    ],
                    [
                      "Come & Go (with Marshmello)",
                      "Marshmello"
                    ],
                    [
                      "Fell In Love",
                      "Marshmello"
                    ],
                    [
                      "Rumble",
                      "Skrillex"
                    ],
                    [
                      "Where Are Ü Now (with Justin Bieber)",
                      "Skrillex"
                    ],
                    [
                      "In Da Getto",
                      "Skrillex"
                    ],
                    [
                      "Fine Day Anthem",
                      "Skrillex"
                    ],
                    [
                      "VOLVER",
                      "Skrillex"
                    ],
                    [
                      "Pepper",
                      "Skrillex"
                    ],
                    [
                      "Baby again..",
                      "Skrillex"
                    ],
                    [
                      "Bangarang (feat. Sirah)",
                      "Skrillex"
                    ],
                    [
                      "RATATA",
                      "Skrillex"
                    ],
                    [
                      "HUMBLE. - SKRILLEX REMIX",
                      "Skrillex"
                    ],
                    [
                      "It Ain’t Me (with Selena Gomez)",
                      "Kygo"
                    ],
                    [
                      "Higher Love",
                      "Kygo"
                    ],
                    [
                      "Firestone",
                      "Kygo"
                    ],
                    [
                      "Stole the Show",
                      "Kygo"
                    ],
                    [
                      "Born To Be Yours",
                      "Kygo"
                    ],
                    [
                      "Woke Up in Love",
                      "Kygo"
                    ],
                    [
                      "Lose Somebody",
                      "Kygo"
                    ],
                    [
                      "Dancing Feet (feat. DNCE)",
                      "Kygo"
                    ],
                    [
                      "Remind Me to Forget",
                      "Kygo"
                    ],
                    [
                      "What's Love Got to Do with It",
                      "Kygo"
                    ],
                    [
                      "Takeaway",
                      "ILLENIUM"
                    ],
                    [
                      "All That Really Matters",
                      "ILLENIUM"
                    ],
                    [
                      "Eyes Wide Shut",
                      "ILLENIUM"
                    ],
                    [
                      "Good Things Fall Apart (with Jon Bellion)",
                      "ILLENIUM"
                    ],
                    [
                      "Zombie (feat. Valerie Broussard)",
                      "ILLENIUM"
                    ],
                    [
                      "See You Again",
                      "ILLENIUM"
                    ],
                    [
                      "Feel Good (feat. Daya)",
                      "ILLENIUM"
                    ],
                    [
                      "Feel Something (With I Prevail)",
                      "ILLENIUM"
                    ],
                    [
                      "Don’t Let Me Let Go (with ILLENIUM & EVAN GIIA)",
                      "ILLENIUM"
                    ],
                    [
                      "My Own Advice",
                      "ILLENIUM"
                    ],
                    [
                      "In the Name of Love",
                      "Martin Garrix"
                    ],
                    [
                      "Scared to Be Lonely",
                      "Martin Garrix"
                    ],
                    [
                      "Summer Days (feat. Macklemore & Patrick Stump of Fall Out Boy)",
                      "Martin Garrix"
                    ],
                    [
                      "Real Love",
                      "Martin Garrix"
                    ],
                    [
                      "High On Life (feat. Bonn)",
                      "Martin Garrix"
                    ],
                    [
                      "Animals",
                      "Martin Garrix"
                    ],
                    [
                      "Ocean (feat. Khalid)",
                      "Martin Garrix"
                    ],
                    [
                      "Hero",
                      "Martin Garrix"
                    ],
                    [
                      "Animals - Radio Edit",
                      "Martin Garrix"
                    ],
                    [
                      "There for You",
                      "Martin Garrix"
                    ],
                    [
                      "You & Me - Flume Remix",
                      "Flume"
                    ],
                    [
                      "Never Be Like You (feat. Kai)",
                      "Flume"
                    ],
                    [
                      "The Difference",
                      "Flume"
                    ],
                    [
                      "Test & Recognise - Flume Re-work",
                      "Flume"
                    ],
                    [
                      "Drop The Game",
                      "Flume"
                    ],
                    [
                      "Say It (feat. Tove Lo)",
                      "Flume"
                    ],
                    [
                      "Say Nothing (feat. MAY-A)",
                      "Flume"
                    ],
                    [
                      "Holdin On",
                      "Flume"
                    ],
                    [
                      "Rushing Back",
                      "Flume"
                    ],
                    [
                      "On Top (feat. T-Shirt)",
                      "Flume"
                    ],
                    [
                      "The Middle",
                      "Zedd"
                    ],
                    [
                      "Stay",
                      "Zedd"
                    ],
                    [
                      "Clarity",
                      "Zedd"
                    ],
                    [
                      "Lost In Japan - Remix",
                      "Zedd"
                    ],
                    [
                      "Beautiful Now",
                      "Zedd"
                    ],
                    [
                      "Stay The Night - Featuring Hayley Williams Of Paramore",
                      "Zedd"
                    ],
                    [
                      "Happy Now",
                      "Zedd"
                    ],
                    [
                      "I Want You To Know",
                      "Zedd"
                    ],
                    [
                      "Good Thing (with Kehlani)",
                      "Zedd"
                    ],
                    [
                      "365",
                      "Zedd"
                    ]
                  ],
                  "hovertemplate": "genre=EDM<br>log_loudness=%{x}<br>energy=%{y}<br>name=%{customdata[0]}<br>artist=%{customdata[1]}<extra></extra>",
                  "legendgroup": "EDM",
                  "marker": {
                    "color": "#2CA02C",
                    "symbol": "circle"
                  },
                  "mode": "markers",
                  "name": "EDM",
                  "orientation": "v",
                  "showlegend": true,
                  "type": "scatter",
                  "x": [
                    2.207036311705469,
                    2.0152833396468424,
                    2.53220147741199,
                    2.0421456151323856,
                    2.6828090587164173,
                    2.2911937534914655,
                    2.43913848956457,
                    2.6632667775413195,
                    2.589359891251939,
                    2.2323255347854447,
                    2.406766040378698,
                    2.4828235965051,
                    2.406766040378698,
                    1.8989943536538703,
                    2.3009427948787895,
                    2.100539318337328,
                    2.0947433592719977,
                    2.569941805394837,
                    2.266755546407091,
                    2.3838879062249547,
                    1.9678350867179697,
                    2.0404454163663504,
                    2.356330723532084,
                    1.9258973378426238,
                    2.125297076364911,
                    2.1300339815253824,
                    2.307331022991918,
                    1.8862947365390919,
                    2.3775218369799624,
                    2.038371313614694,
                    1.7183947439050493,
                    1.3714648448205615,
                    1.7940927340313686,
                    1.6607273333473964,
                    2.109600087060839,
                    1.6638309178895496,
                    1.61924964680335,
                    1.5436475073697498,
                    1.67071898203283,
                    1.498951094036657,
                    2.0421456151323856,
                    1.9615358532899827,
                    2.1758660972913657,
                    2.3865524428400526,
                    1.750642152424176,
                    2.1255025628548974,
                    2.576695328410617,
                    2.163408891525843,
                    2.0824635456258376,
                    1.882902986537971,
                    1.9093707952695047,
                    2.5831699382738647,
                    2.696537598033119,
                    2.1454285023159785,
                    2.5786333135132957,
                    2.1659735434979392,
                    2.8389950580131247,
                    2.1786796474646666,
                    2.062776719383577,
                    1.4333834485929646,
                    1.6638309178895496,
                    2.312025287325582,
                    2.562915267382799,
                    2.3460293190177506,
                    2.6961738955377483,
                    2.2594450551768848,
                    1.67071898203283,
                    2.8739964969165372,
                    1.3466378272725672,
                    2.8554894053179853,
                    1.8213114025188757,
                    1.7394045008021803,
                    1.7098145074042754,
                    1.6842424599759087,
                    1.9430440103760926,
                    1.9163487268894108,
                    1.778720203800001,
                    2.1201735893913023,
                    1.853197045596022,
                    1.9314674425470948,
                    1.6104933474080614,
                    2.1167045521403125,
                    2.4801831372916583,
                    2.0184172716062543,
                    2.4570138413915332,
                    2.0999381761491014,
                    2.1473170770038466,
                    2.155542368552907,
                    2.157874607498324,
                    2.3852192870633444,
                    1.9362180453056927,
                    1.6554475580279644,
                    1.7652991206095496,
                    1.9959608281652614,
                    1.846644760063502,
                    1.8577464298641975,
                    1.724706510193982,
                    2.0570030312891507,
                    2.0304913478870605,
                    1.6787059312010641,
                    1.780319622534274,
                    2.007399899790026,
                    3.5697535093188537,
                    1.5653584663750038,
                    2.101542025731076,
                    1.786010991417587,
                    3.038408155321686,
                    2.1358310992097085,
                    2.151526723296247,
                    2.0171256393573045,
                    2.5890331472529526,
                    2.0933493532710887,
                    2.460742513429845,
                    2.0256442093886875,
                    2.290466392567168,
                    2.5734736761396118,
                    2.0730590875978594,
                    2.6513743673574277,
                    2.357885127990137,
                    2.0068522046599497
                  ],
                  "xaxis": "x",
                  "y": [
                    0.766,
                    0.924,
                    0.862,
                    0.869,
                    0.927,
                    0.823,
                    0.856,
                    0.924,
                    0.913,
                    0.868,
                    0.965,
                    0.91,
                    0.788,
                    0.87,
                    0.931,
                    0.688,
                    0.627,
                    0.864,
                    0.989,
                    0.713,
                    0.783,
                    0.835,
                    0.736,
                    0.889,
                    0.78,
                    0.858,
                    0.785,
                    0.645,
                    0.79,
                    0.666,
                    0.867,
                    0.468,
                    0.781,
                    0.827,
                    0.887,
                    0.836,
                    0.727,
                    0.865,
                    0.724,
                    0.669,
                    0.663,
                    0.793,
                    0.763,
                    0.787,
                    0.62,
                    0.951,
                    0.933,
                    0.764,
                    0.841,
                    0.919,
                    0.741,
                    0.774,
                    0.792,
                    0.738,
                    0.761,
                    0.774,
                    0.88,
                    0.804,
                    0.814,
                    0.464,
                    0.836,
                    0.781,
                    0.723,
                    0.85,
                    0.887,
                    0.876,
                    0.724,
                    0.972,
                    0.6,
                    0.934,
                    0.533,
                    0.678,
                    0.634,
                    0.635,
                    0.688,
                    0.586,
                    0.586,
                    0.78,
                    0.505,
                    0.664,
                    0.511,
                    0.666,
                    0.848,
                    0.603,
                    0.817,
                    0.497,
                    0.707,
                    0.877,
                    0.724,
                    0.579,
                    0.519,
                    0.54,
                    0.723,
                    0.753,
                    0.486,
                    0.868,
                    0.693,
                    0.696,
                    0.914,
                    0.644,
                    0.392,
                    0.557,
                    0.865,
                    0.579,
                    0.671,
                    0.532,
                    0.824,
                    0.436,
                    0.612,
                    0.757,
                    0.657,
                    0.622,
                    0.781,
                    0.855,
                    0.833,
                    0.738,
                    0.741,
                    0.846,
                    0.564,
                    0.693
                  ],
                  "yaxis": "y"
                },
                {
                  "customdata": [
                    [
                      "180db_ [130]",
                      "Aphex Twin"
                    ],
                    [
                      "Strange Overtones",
                      "Brian Eno"
                    ],
                    [
                      "Dungeoneering",
                      "Tim Hecker"
                    ],
                    [
                      "A Barely Lit Path",
                      "Oneohtrix Point Never"
                    ],
                    [
                      "Dawn FM - OPN Remix",
                      "Oneohtrix Point Never"
                    ],
                    [
                      "Memories Of Music",
                      "Oneohtrix Point Never"
                    ],
                    [
                      "Krumville",
                      "Oneohtrix Point Never"
                    ],
                    [
                      "Chrome Country",
                      "Oneohtrix Point Never"
                    ],
                    [
                      "World Outside",
                      "Oneohtrix Point Never"
                    ],
                    [
                      "Lovergirls Precinct",
                      "Oneohtrix Point Never"
                    ],
                    [
                      "Kodomotachi",
                      "Susumu Yokota"
                    ]
                  ],
                  "hovertemplate": "genre=Ambient<br>log_loudness=%{x}<br>energy=%{y}<br>name=%{customdata[0]}<br>artist=%{customdata[1]}<extra></extra>",
                  "legendgroup": "Ambient",
                  "marker": {
                    "color": "#D62728",
                    "symbol": "circle"
                  },
                  "mode": "markers",
                  "name": "Ambient",
                  "orientation": "v",
                  "showlegend": true,
                  "type": "scatter",
                  "x": [
                    1.7192157620135655,
                    1.7745157757144738,
                    1.6278333904947413,
                    1.434206663292675,
                    2.3046233290299147,
                    1.3979162302556842,
                    1.4042901189793464,
                    1.5583408937163572,
                    1.6353578804733568,
                    1.3811802617618305,
                    1.44050605934975
                  ],
                  "xaxis": "x",
                  "y": [
                    0.61,
                    0.836,
                    0.656,
                    0.523,
                    0.719,
                    0.507,
                    0.592,
                    0.318,
                    0.638,
                    0.872,
                    0.589
                  ],
                  "yaxis": "y"
                },
                {
                  "name": "Decision Boundary",
                  "type": "scatter",
                  "x": [
                    1.345,
                    3.5697535093188537
                  ],
                  "y": [
                    0.777,
                    0.777
                  ]
                }
              ],
              "layout": {
                "annotations": [
                  {
                    "showarrow": false,
                    "text": "↑ Predict EDM",
                    "x": 3.3,
                    "y": 0.787,
                    "yshift": 10
                  },
                  {
                    "showarrow": false,
                    "text": "↓ Predict Hip Hop",
                    "x": 3.3,
                    "y": 0.732,
                    "yshift": 10
                  }
                ],
                "legend": {
                  "title": {
                    "text": "genre"
                  },
                  "tracegroupgap": 0
                },
                "margin": {
                  "t": 60
                },
                "template": {
                  "data": {
                    "bar": [
                      {
                        "error_x": {
                          "color": "rgb(36,36,36)"
                        },
                        "error_y": {
                          "color": "rgb(36,36,36)"
                        },
                        "marker": {
                          "line": {
                            "color": "white",
                            "width": 0.5
                          },
                          "pattern": {
                            "fillmode": "overlay",
                            "size": 10,
                            "solidity": 0.2
                          }
                        },
                        "type": "bar"
                      }
                    ],
                    "barpolar": [
                      {
                        "marker": {
                          "line": {
                            "color": "white",
                            "width": 0.5
                          },
                          "pattern": {
                            "fillmode": "overlay",
                            "size": 10,
                            "solidity": 0.2
                          }
                        },
                        "type": "barpolar"
                      }
                    ],
                    "carpet": [
                      {
                        "aaxis": {
                          "endlinecolor": "rgb(36,36,36)",
                          "gridcolor": "white",
                          "linecolor": "white",
                          "minorgridcolor": "white",
                          "startlinecolor": "rgb(36,36,36)"
                        },
                        "baxis": {
                          "endlinecolor": "rgb(36,36,36)",
                          "gridcolor": "white",
                          "linecolor": "white",
                          "minorgridcolor": "white",
                          "startlinecolor": "rgb(36,36,36)"
                        },
                        "type": "carpet"
                      }
                    ],
                    "choropleth": [
                      {
                        "colorbar": {
                          "outlinewidth": 1,
                          "tickcolor": "rgb(36,36,36)",
                          "ticks": "outside"
                        },
                        "type": "choropleth"
                      }
                    ],
                    "contour": [
                      {
                        "colorbar": {
                          "outlinewidth": 1,
                          "tickcolor": "rgb(36,36,36)",
                          "ticks": "outside"
                        },
                        "colorscale": [
                          [
                            0,
                            "#440154"
                          ],
                          [
                            0.1111111111111111,
                            "#482878"
                          ],
                          [
                            0.2222222222222222,
                            "#3e4989"
                          ],
                          [
                            0.3333333333333333,
                            "#31688e"
                          ],
                          [
                            0.4444444444444444,
                            "#26828e"
                          ],
                          [
                            0.5555555555555556,
                            "#1f9e89"
                          ],
                          [
                            0.6666666666666666,
                            "#35b779"
                          ],
                          [
                            0.7777777777777778,
                            "#6ece58"
                          ],
                          [
                            0.8888888888888888,
                            "#b5de2b"
                          ],
                          [
                            1,
                            "#fde725"
                          ]
                        ],
                        "type": "contour"
                      }
                    ],
                    "contourcarpet": [
                      {
                        "colorbar": {
                          "outlinewidth": 1,
                          "tickcolor": "rgb(36,36,36)",
                          "ticks": "outside"
                        },
                        "type": "contourcarpet"
                      }
                    ],
                    "heatmap": [
                      {
                        "colorbar": {
                          "outlinewidth": 1,
                          "tickcolor": "rgb(36,36,36)",
                          "ticks": "outside"
                        },
                        "colorscale": [
                          [
                            0,
                            "#440154"
                          ],
                          [
                            0.1111111111111111,
                            "#482878"
                          ],
                          [
                            0.2222222222222222,
                            "#3e4989"
                          ],
                          [
                            0.3333333333333333,
                            "#31688e"
                          ],
                          [
                            0.4444444444444444,
                            "#26828e"
                          ],
                          [
                            0.5555555555555556,
                            "#1f9e89"
                          ],
                          [
                            0.6666666666666666,
                            "#35b779"
                          ],
                          [
                            0.7777777777777778,
                            "#6ece58"
                          ],
                          [
                            0.8888888888888888,
                            "#b5de2b"
                          ],
                          [
                            1,
                            "#fde725"
                          ]
                        ],
                        "type": "heatmap"
                      }
                    ],
                    "heatmapgl": [
                      {
                        "colorbar": {
                          "outlinewidth": 1,
                          "tickcolor": "rgb(36,36,36)",
                          "ticks": "outside"
                        },
                        "colorscale": [
                          [
                            0,
                            "#440154"
                          ],
                          [
                            0.1111111111111111,
                            "#482878"
                          ],
                          [
                            0.2222222222222222,
                            "#3e4989"
                          ],
                          [
                            0.3333333333333333,
                            "#31688e"
                          ],
                          [
                            0.4444444444444444,
                            "#26828e"
                          ],
                          [
                            0.5555555555555556,
                            "#1f9e89"
                          ],
                          [
                            0.6666666666666666,
                            "#35b779"
                          ],
                          [
                            0.7777777777777778,
                            "#6ece58"
                          ],
                          [
                            0.8888888888888888,
                            "#b5de2b"
                          ],
                          [
                            1,
                            "#fde725"
                          ]
                        ],
                        "type": "heatmapgl"
                      }
                    ],
                    "histogram": [
                      {
                        "marker": {
                          "line": {
                            "color": "white",
                            "width": 0.6
                          }
                        },
                        "type": "histogram"
                      }
                    ],
                    "histogram2d": [
                      {
                        "colorbar": {
                          "outlinewidth": 1,
                          "tickcolor": "rgb(36,36,36)",
                          "ticks": "outside"
                        },
                        "colorscale": [
                          [
                            0,
                            "#440154"
                          ],
                          [
                            0.1111111111111111,
                            "#482878"
                          ],
                          [
                            0.2222222222222222,
                            "#3e4989"
                          ],
                          [
                            0.3333333333333333,
                            "#31688e"
                          ],
                          [
                            0.4444444444444444,
                            "#26828e"
                          ],
                          [
                            0.5555555555555556,
                            "#1f9e89"
                          ],
                          [
                            0.6666666666666666,
                            "#35b779"
                          ],
                          [
                            0.7777777777777778,
                            "#6ece58"
                          ],
                          [
                            0.8888888888888888,
                            "#b5de2b"
                          ],
                          [
                            1,
                            "#fde725"
                          ]
                        ],
                        "type": "histogram2d"
                      }
                    ],
                    "histogram2dcontour": [
                      {
                        "colorbar": {
                          "outlinewidth": 1,
                          "tickcolor": "rgb(36,36,36)",
                          "ticks": "outside"
                        },
                        "colorscale": [
                          [
                            0,
                            "#440154"
                          ],
                          [
                            0.1111111111111111,
                            "#482878"
                          ],
                          [
                            0.2222222222222222,
                            "#3e4989"
                          ],
                          [
                            0.3333333333333333,
                            "#31688e"
                          ],
                          [
                            0.4444444444444444,
                            "#26828e"
                          ],
                          [
                            0.5555555555555556,
                            "#1f9e89"
                          ],
                          [
                            0.6666666666666666,
                            "#35b779"
                          ],
                          [
                            0.7777777777777778,
                            "#6ece58"
                          ],
                          [
                            0.8888888888888888,
                            "#b5de2b"
                          ],
                          [
                            1,
                            "#fde725"
                          ]
                        ],
                        "type": "histogram2dcontour"
                      }
                    ],
                    "mesh3d": [
                      {
                        "colorbar": {
                          "outlinewidth": 1,
                          "tickcolor": "rgb(36,36,36)",
                          "ticks": "outside"
                        },
                        "type": "mesh3d"
                      }
                    ],
                    "parcoords": [
                      {
                        "line": {
                          "colorbar": {
                            "outlinewidth": 1,
                            "tickcolor": "rgb(36,36,36)",
                            "ticks": "outside"
                          }
                        },
                        "type": "parcoords"
                      }
                    ],
                    "pie": [
                      {
                        "automargin": true,
                        "type": "pie"
                      }
                    ],
                    "scatter": [
                      {
                        "fillpattern": {
                          "fillmode": "overlay",
                          "size": 10,
                          "solidity": 0.2
                        },
                        "type": "scatter"
                      }
                    ],
                    "scatter3d": [
                      {
                        "line": {
                          "colorbar": {
                            "outlinewidth": 1,
                            "tickcolor": "rgb(36,36,36)",
                            "ticks": "outside"
                          }
                        },
                        "marker": {
                          "colorbar": {
                            "outlinewidth": 1,
                            "tickcolor": "rgb(36,36,36)",
                            "ticks": "outside"
                          }
                        },
                        "type": "scatter3d"
                      }
                    ],
                    "scattercarpet": [
                      {
                        "marker": {
                          "colorbar": {
                            "outlinewidth": 1,
                            "tickcolor": "rgb(36,36,36)",
                            "ticks": "outside"
                          }
                        },
                        "type": "scattercarpet"
                      }
                    ],
                    "scattergeo": [
                      {
                        "marker": {
                          "colorbar": {
                            "outlinewidth": 1,
                            "tickcolor": "rgb(36,36,36)",
                            "ticks": "outside"
                          }
                        },
                        "type": "scattergeo"
                      }
                    ],
                    "scattergl": [
                      {
                        "marker": {
                          "colorbar": {
                            "outlinewidth": 1,
                            "tickcolor": "rgb(36,36,36)",
                            "ticks": "outside"
                          }
                        },
                        "type": "scattergl"
                      }
                    ],
                    "scattermapbox": [
                      {
                        "marker": {
                          "colorbar": {
                            "outlinewidth": 1,
                            "tickcolor": "rgb(36,36,36)",
                            "ticks": "outside"
                          }
                        },
                        "type": "scattermapbox"
                      }
                    ],
                    "scatterpolar": [
                      {
                        "marker": {
                          "colorbar": {
                            "outlinewidth": 1,
                            "tickcolor": "rgb(36,36,36)",
                            "ticks": "outside"
                          }
                        },
                        "type": "scatterpolar"
                      }
                    ],
                    "scatterpolargl": [
                      {
                        "marker": {
                          "colorbar": {
                            "outlinewidth": 1,
                            "tickcolor": "rgb(36,36,36)",
                            "ticks": "outside"
                          }
                        },
                        "type": "scatterpolargl"
                      }
                    ],
                    "scatterternary": [
                      {
                        "marker": {
                          "colorbar": {
                            "outlinewidth": 1,
                            "tickcolor": "rgb(36,36,36)",
                            "ticks": "outside"
                          }
                        },
                        "type": "scatterternary"
                      }
                    ],
                    "surface": [
                      {
                        "colorbar": {
                          "outlinewidth": 1,
                          "tickcolor": "rgb(36,36,36)",
                          "ticks": "outside"
                        },
                        "colorscale": [
                          [
                            0,
                            "#440154"
                          ],
                          [
                            0.1111111111111111,
                            "#482878"
                          ],
                          [
                            0.2222222222222222,
                            "#3e4989"
                          ],
                          [
                            0.3333333333333333,
                            "#31688e"
                          ],
                          [
                            0.4444444444444444,
                            "#26828e"
                          ],
                          [
                            0.5555555555555556,
                            "#1f9e89"
                          ],
                          [
                            0.6666666666666666,
                            "#35b779"
                          ],
                          [
                            0.7777777777777778,
                            "#6ece58"
                          ],
                          [
                            0.8888888888888888,
                            "#b5de2b"
                          ],
                          [
                            1,
                            "#fde725"
                          ]
                        ],
                        "type": "surface"
                      }
                    ],
                    "table": [
                      {
                        "cells": {
                          "fill": {
                            "color": "rgb(237,237,237)"
                          },
                          "line": {
                            "color": "white"
                          }
                        },
                        "header": {
                          "fill": {
                            "color": "rgb(217,217,217)"
                          },
                          "line": {
                            "color": "white"
                          }
                        },
                        "type": "table"
                      }
                    ]
                  },
                  "layout": {
                    "annotationdefaults": {
                      "arrowhead": 0,
                      "arrowwidth": 1
                    },
                    "autotypenumbers": "strict",
                    "coloraxis": {
                      "colorbar": {
                        "outlinewidth": 1,
                        "tickcolor": "rgb(36,36,36)",
                        "ticks": "outside"
                      }
                    },
                    "colorscale": {
                      "diverging": [
                        [
                          0,
                          "rgb(103,0,31)"
                        ],
                        [
                          0.1,
                          "rgb(178,24,43)"
                        ],
                        [
                          0.2,
                          "rgb(214,96,77)"
                        ],
                        [
                          0.3,
                          "rgb(244,165,130)"
                        ],
                        [
                          0.4,
                          "rgb(253,219,199)"
                        ],
                        [
                          0.5,
                          "rgb(247,247,247)"
                        ],
                        [
                          0.6,
                          "rgb(209,229,240)"
                        ],
                        [
                          0.7,
                          "rgb(146,197,222)"
                        ],
                        [
                          0.8,
                          "rgb(67,147,195)"
                        ],
                        [
                          0.9,
                          "rgb(33,102,172)"
                        ],
                        [
                          1,
                          "rgb(5,48,97)"
                        ]
                      ],
                      "sequential": [
                        [
                          0,
                          "#440154"
                        ],
                        [
                          0.1111111111111111,
                          "#482878"
                        ],
                        [
                          0.2222222222222222,
                          "#3e4989"
                        ],
                        [
                          0.3333333333333333,
                          "#31688e"
                        ],
                        [
                          0.4444444444444444,
                          "#26828e"
                        ],
                        [
                          0.5555555555555556,
                          "#1f9e89"
                        ],
                        [
                          0.6666666666666666,
                          "#35b779"
                        ],
                        [
                          0.7777777777777778,
                          "#6ece58"
                        ],
                        [
                          0.8888888888888888,
                          "#b5de2b"
                        ],
                        [
                          1,
                          "#fde725"
                        ]
                      ],
                      "sequentialminus": [
                        [
                          0,
                          "#440154"
                        ],
                        [
                          0.1111111111111111,
                          "#482878"
                        ],
                        [
                          0.2222222222222222,
                          "#3e4989"
                        ],
                        [
                          0.3333333333333333,
                          "#31688e"
                        ],
                        [
                          0.4444444444444444,
                          "#26828e"
                        ],
                        [
                          0.5555555555555556,
                          "#1f9e89"
                        ],
                        [
                          0.6666666666666666,
                          "#35b779"
                        ],
                        [
                          0.7777777777777778,
                          "#6ece58"
                        ],
                        [
                          0.8888888888888888,
                          "#b5de2b"
                        ],
                        [
                          1,
                          "#fde725"
                        ]
                      ]
                    },
                    "colorway": [
                      "#1F77B4",
                      "#FF7F0E",
                      "#2CA02C",
                      "#D62728",
                      "#9467BD",
                      "#8C564B",
                      "#E377C2",
                      "#7F7F7F",
                      "#BCBD22",
                      "#17BECF"
                    ],
                    "font": {
                      "color": "rgb(36,36,36)"
                    },
                    "geo": {
                      "bgcolor": "white",
                      "lakecolor": "white",
                      "landcolor": "white",
                      "showlakes": true,
                      "showland": true,
                      "subunitcolor": "white"
                    },
                    "hoverlabel": {
                      "align": "left"
                    },
                    "hovermode": "closest",
                    "mapbox": {
                      "style": "light"
                    },
                    "paper_bgcolor": "white",
                    "plot_bgcolor": "white",
                    "polar": {
                      "angularaxis": {
                        "gridcolor": "rgb(232,232,232)",
                        "linecolor": "rgb(36,36,36)",
                        "showgrid": false,
                        "showline": true,
                        "ticks": "outside"
                      },
                      "bgcolor": "white",
                      "radialaxis": {
                        "gridcolor": "rgb(232,232,232)",
                        "linecolor": "rgb(36,36,36)",
                        "showgrid": false,
                        "showline": true,
                        "ticks": "outside"
                      }
                    },
                    "scene": {
                      "xaxis": {
                        "backgroundcolor": "white",
                        "gridcolor": "rgb(232,232,232)",
                        "gridwidth": 2,
                        "linecolor": "rgb(36,36,36)",
                        "showbackground": true,
                        "showgrid": false,
                        "showline": true,
                        "ticks": "outside",
                        "zeroline": false,
                        "zerolinecolor": "rgb(36,36,36)"
                      },
                      "yaxis": {
                        "backgroundcolor": "white",
                        "gridcolor": "rgb(232,232,232)",
                        "gridwidth": 2,
                        "linecolor": "rgb(36,36,36)",
                        "showbackground": true,
                        "showgrid": false,
                        "showline": true,
                        "ticks": "outside",
                        "zeroline": false,
                        "zerolinecolor": "rgb(36,36,36)"
                      },
                      "zaxis": {
                        "backgroundcolor": "white",
                        "gridcolor": "rgb(232,232,232)",
                        "gridwidth": 2,
                        "linecolor": "rgb(36,36,36)",
                        "showbackground": true,
                        "showgrid": false,
                        "showline": true,
                        "ticks": "outside",
                        "zeroline": false,
                        "zerolinecolor": "rgb(36,36,36)"
                      }
                    },
                    "shapedefaults": {
                      "fillcolor": "black",
                      "line": {
                        "width": 0
                      },
                      "opacity": 0.3
                    },
                    "ternary": {
                      "aaxis": {
                        "gridcolor": "rgb(232,232,232)",
                        "linecolor": "rgb(36,36,36)",
                        "showgrid": false,
                        "showline": true,
                        "ticks": "outside"
                      },
                      "baxis": {
                        "gridcolor": "rgb(232,232,232)",
                        "linecolor": "rgb(36,36,36)",
                        "showgrid": false,
                        "showline": true,
                        "ticks": "outside"
                      },
                      "bgcolor": "white",
                      "caxis": {
                        "gridcolor": "rgb(232,232,232)",
                        "linecolor": "rgb(36,36,36)",
                        "showgrid": false,
                        "showline": true,
                        "ticks": "outside"
                      }
                    },
                    "title": {
                      "x": 0.05
                    },
                    "xaxis": {
                      "automargin": true,
                      "gridcolor": "rgb(232,232,232)",
                      "linecolor": "rgb(36,36,36)",
                      "showgrid": false,
                      "showline": true,
                      "ticks": "outside",
                      "title": {
                        "standoff": 15
                      },
                      "zeroline": false,
                      "zerolinecolor": "rgb(36,36,36)"
                    },
                    "yaxis": {
                      "automargin": true,
                      "gridcolor": "rgb(232,232,232)",
                      "linecolor": "rgb(36,36,36)",
                      "showgrid": false,
                      "showline": true,
                      "ticks": "outside",
                      "title": {
                        "standoff": 15
                      },
                      "zeroline": false,
                      "zerolinecolor": "rgb(36,36,36)"
                    }
                  }
                },
                "title": {
                  "text": "Loud Songs",
                  "x": 0.5
                },
                "xaxis": {
                  "anchor": "y",
                  "domain": [
                    0,
                    1
                  ],
                  "title": {
                    "text": "log_loudness"
                  }
                },
                "yaxis": {
                  "anchor": "x",
                  "domain": [
                    0,
                    1
                  ],
                  "title": {
                    "text": "energy"
                  }
                }
              }
            }
          },
          "metadata": {},
          "output_type": "display_data"
        }
      ],
      "source": [
        "loud_fig = px.scatter(track_df_loud, x='log_loudness', y='energy', color='genre',\n",
        "                       hover_data=['name','artist'], template='simple_white')\n",
        "loud_fig.update_layout(title_text='Loud Songs', title_x=0.5)\n",
        "x1 = [loudness_cutoff, track_df_loud['log_loudness'].max()]\n",
        "y1 = [energy_cutoff, energy_cutoff]\n",
        "loud_fig.add_trace(go.Scatter(name='Decision Boundary', x=x1, y=y1))\n",
        "# track_fig.add_trace(go.Scatter(x=x1, y=y1))\n",
        "#track_fig.add_trace(go.Scatter(x=x2, y=y2))\n",
        "loud_fig.add_annotation(x=3.3, y=energy_cutoff + 0.01,\n",
        "            text=\"↑ Predict EDM\",\n",
        "            showarrow=False,\n",
        "            yshift=10)\n",
        "loud_fig.add_annotation(x=3.3, y=energy_cutoff - 0.045,\n",
        "            text=\"↓ Predict Hip Hop\",\n",
        "            showarrow=False,\n",
        "            yshift=10)\n",
        "loud_fig.show()"
      ]
    },
    {
      "cell_type": "markdown",
      "metadata": {
        "id": "_7ndkf7a5nma"
      },
      "source": [
        "Now let's check accuracy"
      ]
    },
    {
      "cell_type": "code",
      "execution_count": 50,
      "metadata": {
        "id": "DRvidwFV5kZ6"
      },
      "outputs": [],
      "source": [
        "Xy_train = pd.concat([X_train,y_train], axis=1)\n",
        "Xy_test = pd.concat([X_test,y_test], axis=1)\n",
        "Xy_train['prediction'] = y_train_pred\n",
        "Xy_test['prediction'] = y_test_pred"
      ]
    },
    {
      "cell_type": "code",
      "execution_count": 51,
      "metadata": {
        "id": "cBMl6BcI5rLJ"
      },
      "outputs": [],
      "source": [
        "Xy_train['correct'] = Xy_train['prediction'] == Xy_train['genre_code']\n",
        "Xy_test['correct'] = Xy_test['prediction'] == Xy_test['genre_code']"
      ]
    },
    {
      "cell_type": "code",
      "execution_count": 52,
      "metadata": {
        "colab": {
          "base_uri": "https://localhost:8080/"
        },
        "id": "2fSKgYXh5vBt",
        "outputId": "027d11ac-7b5e-4f40-afc7-6bc365805606"
      },
      "outputs": [
        {
          "data": {
            "text/plain": [
              "correct\n",
              "True     0.723238\n",
              "False    0.276762\n",
              "Name: proportion, dtype: float64"
            ]
          },
          "execution_count": 52,
          "metadata": {},
          "output_type": "execute_result"
        }
      ],
      "source": [
        "Xy_train['correct'].value_counts(normalize=True)"
      ]
    },
    {
      "cell_type": "code",
      "execution_count": 53,
      "metadata": {
        "colab": {
          "base_uri": "https://localhost:8080/"
        },
        "id": "T75hwiONFScB",
        "outputId": "1f733c94-af09-4012-b5c5-e5a987670abb"
      },
      "outputs": [
        {
          "data": {
            "text/plain": [
              "correct\n",
              "True     0.708333\n",
              "False    0.291667\n",
              "Name: proportion, dtype: float64"
            ]
          },
          "execution_count": 53,
          "metadata": {},
          "output_type": "execute_result"
        }
      ],
      "source": [
        "Xy_test['correct'].value_counts(normalize=True)"
      ]
    },
    {
      "cell_type": "markdown",
      "metadata": {
        "id": "yYZgmelrOpDO"
      },
      "source": [
        "## (3) Random Forests"
      ]
    },
    {
      "cell_type": "code",
      "execution_count": 54,
      "metadata": {
        "id": "GmaBZM8Y6C6M"
      },
      "outputs": [],
      "source": [
        "import sklearn.ensemble"
      ]
    },
    {
      "cell_type": "markdown",
      "metadata": {
        "id": "wREVtkINt7C3"
      },
      "source": [
        "Here we define a function that takes in a range of values for the `n_estimators` hyperparameter, and a range of values for the `max_depth` hyperparameter, and generates a DataFrame containing information on the training and test accuracies for a `RandomForestClassifier` trained using these values."
      ]
    },
    {
      "cell_type": "code",
      "execution_count": 55,
      "metadata": {
        "id": "tQgoqQzt5wcl"
      },
      "outputs": [],
      "source": [
        "def accuracy_over_range(est_range, depth_range, long_format=True):\n",
        "  result_data = []\n",
        "  for cur_estimators in est_range:\n",
        "    for cur_depth in depth_range:\n",
        "      cur_rfc = sklearn.ensemble.RandomForestClassifier(\n",
        "        n_estimators = cur_estimators,\n",
        "        max_depth = cur_depth,\n",
        "        random_state = 5000\n",
        "      )\n",
        "      cur_rfc.fit(X_train_num, y_train)\n",
        "      y_train_pred_rfc = cur_rfc.predict(X_train_num)\n",
        "      y_test_pred_rfc = cur_rfc.predict(X_test_num)\n",
        "      y_train_correct = y_train_pred_rfc == Xy_train['genre_code']\n",
        "      y_test_correct = y_test_pred_rfc == Xy_test['genre_code']\n",
        "      train_accuracy = sum(y_train_correct) / len(y_train_correct)\n",
        "      test_accuracy = sum(y_test_correct) / len(y_test_correct)\n",
        "      cur_result = {\n",
        "          'n_estimators': cur_estimators,\n",
        "          'max_depth': cur_depth,\n",
        "          'train_accuracy': train_accuracy,\n",
        "          'test_accuracy': test_accuracy\n",
        "      }\n",
        "      result_data.append(cur_result)\n",
        "  rfc_result_df = pd.DataFrame(result_data)\n",
        "  if long_format:\n",
        "    # Convert to long so we can plot train and test accuracies together\n",
        "    rfc_long_df = pd.melt(rfc_result_df, id_vars=['n_estimators','max_depth'])\n",
        "    return rfc_long_df\n",
        "  return rfc_result_df"
      ]
    },
    {
      "cell_type": "markdown",
      "metadata": {
        "id": "PIqpzA_wuNSf"
      },
      "source": [
        "First, let's see what values we'd want to use if we were optimizing for **(test) accuracy**, by considering a wide range of possible values:"
      ]
    },
    {
      "cell_type": "code",
      "execution_count": 56,
      "metadata": {
        "id": "LS60xbwsuV-s"
      },
      "outputs": [],
      "source": [
        "estimators_range = np.arange(20, 220, 20)\n",
        "depth_range = [2,3,4,5,6,7]\n",
        "rfc_result_df = accuracy_over_range(estimators_range, depth_range)"
      ]
    },
    {
      "cell_type": "code",
      "execution_count": 57,
      "metadata": {
        "id": "NYMJ77TBHASe"
      },
      "outputs": [],
      "source": [
        "import matplotlib.pyplot as plt\n",
        "import seaborn as sns"
      ]
    },
    {
      "cell_type": "code",
      "execution_count": 58,
      "metadata": {
        "colab": {
          "base_uri": "https://localhost:8080/",
          "height": 607
        },
        "id": "7ybzXlb3CTLD",
        "outputId": "b320ccec-44c3-4d6c-daa6-d01105ba3b81"
      },
      "outputs": [
        {
          "data": {
            "image/png": "[encoded data removed]",
            "text/plain": [
              "<Figure size 900x600 with 6 Axes>"
            ]
          },
          "metadata": {},
          "output_type": "display_data"
        }
      ],
      "source": [
        "def plot_hyperparam_grid(result_df, wrap=3):\n",
        "  g = sns.FacetGrid(result_df, col=\"max_depth\", col_wrap=wrap)\n",
        "  g.map_dataframe(sns.lineplot, x=\"n_estimators\", y=\"value\", hue='variable', marker='o')\n",
        "  plt.show()\n",
        "plot_hyperparam_grid(rfc_result_df)"
      ]
    },
    {
      "cell_type": "markdown",
      "metadata": {
        "id": "19uNGn5xutTy"
      },
      "source": [
        "From these plots we can see that, while we're always able to improve **training accuracy** by choosing higher values for `max_depth`, we're not able to obtain a **test accuracy** much higher than 0.75 or 0.80 no matter what parameter values we choose.\n",
        "\n",
        "If our goal was solely to train a model with high accuracy, we might stop here and report our results (though, this would be a questionable choice, since as mentioned above you can almost always obtain higher accuracies using other ML algorithms like Neural Networks). Here, since we're focusing on **interpretability**, let's narrow our range of hyperparameters down to much smaller values, find an optimal RF within these ranges, and then actually **look at** the individual DTs which make up our optimal RF!"
      ]
    },
    {
      "cell_type": "code",
      "execution_count": 59,
      "metadata": {
        "id": "A2rGzktHvo7x"
      },
      "outputs": [],
      "source": [
        "estimators_range = np.arange(3, 9, 2)\n",
        "depth_range = [2,3,4,5]\n",
        "rfc_result_df_small = accuracy_over_range(estimators_range, depth_range)"
      ]
    },
    {
      "cell_type": "code",
      "execution_count": 60,
      "metadata": {
        "colab": {
          "base_uri": "https://localhost:8080/",
          "height": 607
        },
        "id": "xsi-jVoDwLUv",
        "outputId": "8d8dffad-c8b3-4f4d-ae2c-ec02dd262006"
      },
      "outputs": [
        {
          "data": {
            "image/png": "[encoded data removed]",
            "text/plain": [
              "<Figure size 600x600 with 4 Axes>"
            ]
          },
          "metadata": {},
          "output_type": "display_data"
        }
      ],
      "source": [
        "plot_hyperparam_grid(rfc_result_df_small, wrap=2)"
      ]
    },
    {
      "cell_type": "code",
      "execution_count": 61,
      "metadata": {
        "colab": {
          "base_uri": "https://localhost:8080/"
        },
        "id": "3Qe-ezySPYDQ",
        "outputId": "0bd519ff-564a-4ec3-a962-fe071e387cf0"
      },
      "outputs": [
        {
          "data": {
            "text/plain": [
              "n_estimators                3\n",
              "max_depth                   2\n",
              "variable        test_accuracy\n",
              "value                0.697917\n",
              "Name: 12, dtype: object"
            ]
          },
          "execution_count": 61,
          "metadata": {},
          "output_type": "execute_result"
        }
      ],
      "source": [
        "# Choose the \"best\" estimator with max_depth == 2\n",
        "is_depth_2 = rfc_result_df_small['max_depth'] == 2\n",
        "is_test_acc = rfc_result_df_small['variable'] == \"test_accuracy\"\n",
        "n2_test_df = rfc_result_df_small[is_depth_2 & is_test_acc].copy()\n",
        "n2_test_df.loc[n2_test_df['value'].idxmax(),]"
      ]
    },
    {
      "cell_type": "code",
      "execution_count": 62,
      "metadata": {
        "id": "EiQ6wJyAHgL7"
      },
      "outputs": [],
      "source": [
        "# Train the \"optimal\" predictor\n",
        "rfc_opt = sklearn.ensemble.RandomForestClassifier(\n",
        "    n_estimators = 3,\n",
        "    max_depth = 2,\n",
        "    random_state = 5000\n",
        ")"
      ]
    },
    {
      "cell_type": "code",
      "execution_count": 63,
      "metadata": {
        "colab": {
          "base_uri": "https://localhost:8080/",
          "height": 75
        },
        "id": "hjsW7MEyQ-23",
        "outputId": "1f82f733-3c7f-4275-bf3a-73a9cd3ea5f5"
      },
      "outputs": [
        {
          "data": {
            "text/html": [
              "<style>#sk-container-id-2 {color: black;}#sk-container-id-2 pre{padding: 0;}#sk-container-id-2 div.sk-toggleable {background-color: white;}#sk-container-id-2 label.sk-toggleable__label {cursor: pointer;display: block;width: 100%;margin-bottom: 0;padding: 0.3em;box-sizing: border-box;text-align: center;}#sk-container-id-2 label.sk-toggleable__label-arrow:before {content: \"▸\";float: left;margin-right: 0.25em;color: #696969;}#sk-container-id-2 label.sk-toggleable__label-arrow:hover:before {color: black;}#sk-container-id-2 div.sk-estimator:hover label.sk-toggleable__label-arrow:before {color: black;}#sk-container-id-2 div.sk-toggleable__content {max-height: 0;max-width: 0;overflow: hidden;text-align: left;background-color: #f0f8ff;}#sk-container-id-2 div.sk-toggleable__content pre {margin: 0.2em;color: black;border-radius: 0.25em;background-color: #f0f8ff;}#sk-container-id-2 input.sk-toggleable__control:checked~div.sk-toggleable__content {max-height: 200px;max-width: 100%;overflow: auto;}#sk-container-id-2 input.sk-toggleable__control:checked~label.sk-toggleable__label-arrow:before {content: \"▾\";}#sk-container-id-2 div.sk-estimator input.sk-toggleable__control:checked~label.sk-toggleable__label {background-color: #d4ebff;}#sk-container-id-2 div.sk-label input.sk-toggleable__control:checked~label.sk-toggleable__label {background-color: #d4ebff;}#sk-container-id-2 input.sk-hidden--visually {border: 0;clip: rect(1px 1px 1px 1px);clip: rect(1px, 1px, 1px, 1px);height: 1px;margin: -1px;overflow: hidden;padding: 0;position: absolute;width: 1px;}#sk-container-id-2 div.sk-estimator {font-family: monospace;background-color: #f0f8ff;border: 1px dotted black;border-radius: 0.25em;box-sizing: border-box;margin-bottom: 0.5em;}#sk-container-id-2 div.sk-estimator:hover {background-color: #d4ebff;}#sk-container-id-2 div.sk-parallel-item::after {content: \"\";width: 100%;border-bottom: 1px solid gray;flex-grow: 1;}#sk-container-id-2 div.sk-label:hover label.sk-toggleable__label {background-color: #d4ebff;}#sk-container-id-2 div.sk-serial::before {content: \"\";position: absolute;border-left: 1px solid gray;box-sizing: border-box;top: 0;bottom: 0;left: 50%;z-index: 0;}#sk-container-id-2 div.sk-serial {display: flex;flex-direction: column;align-items: center;background-color: white;padding-right: 0.2em;padding-left: 0.2em;position: relative;}#sk-container-id-2 div.sk-item {position: relative;z-index: 1;}#sk-container-id-2 div.sk-parallel {display: flex;align-items: stretch;justify-content: center;background-color: white;position: relative;}#sk-container-id-2 div.sk-item::before, #sk-container-id-2 div.sk-parallel-item::before {content: \"\";position: absolute;border-left: 1px solid gray;box-sizing: border-box;top: 0;bottom: 0;left: 50%;z-index: -1;}#sk-container-id-2 div.sk-parallel-item {display: flex;flex-direction: column;z-index: 1;position: relative;background-color: white;}#sk-container-id-2 div.sk-parallel-item:first-child::after {align-self: flex-end;width: 50%;}#sk-container-id-2 div.sk-parallel-item:last-child::after {align-self: flex-start;width: 50%;}#sk-container-id-2 div.sk-parallel-item:only-child::after {width: 0;}#sk-container-id-2 div.sk-dashed-wrapped {border: 1px dashed gray;margin: 0 0.4em 0.5em 0.4em;box-sizing: border-box;padding-bottom: 0.4em;background-color: white;}#sk-container-id-2 div.sk-label label {font-family: monospace;font-weight: bold;display: inline-block;line-height: 1.2em;}#sk-container-id-2 div.sk-label-container {text-align: center;}#sk-container-id-2 div.sk-container {/* jupyter's `normalize.less` sets `[hidden] { display: none; }` but bootstrap.min.css set `[hidden] { display: none !important; }` so we also need the `!important` here to be able to override the default hidden behavior on the sphinx rendered scikit-learn.org. See: https://github.com/scikit-learn/scikit-learn/issues/21755 */display: inline-block !important;position: relative;}#sk-container-id-2 div.sk-text-repr-fallback {display: none;}</style><div id=\"sk-container-id-2\" class=\"sk-top-container\"><div class=\"sk-text-repr-fallback\"><pre>RandomForestClassifier(max_depth=2, n_estimators=3, random_state=5000)</pre><b>In a Jupyter environment, please rerun this cell to show the HTML representation or trust the notebook. <br />On GitHub, the HTML representation is unable to render, please try loading this page with nbviewer.org.</b></div><div class=\"sk-container\" hidden><div class=\"sk-item\"><div class=\"sk-estimator sk-toggleable\"><input class=\"sk-toggleable__control sk-hidden--visually\" id=\"sk-estimator-id-2\" type=\"checkbox\" checked><label for=\"sk-estimator-id-2\" class=\"sk-toggleable__label sk-toggleable__label-arrow\">RandomForestClassifier</label><div class=\"sk-toggleable__content\"><pre>RandomForestClassifier(max_depth=2, n_estimators=3, random_state=5000)</pre></div></div></div></div></div>"
            ],
            "text/plain": [
              "RandomForestClassifier(max_depth=2, n_estimators=3, random_state=5000)"
            ]
          },
          "execution_count": 63,
          "metadata": {},
          "output_type": "execute_result"
        }
      ],
      "source": [
        "rfc_opt.fit(X_train_num, y_train)"
      ]
    },
    {
      "cell_type": "code",
      "execution_count": 64,
      "metadata": {
        "id": "LFHi2NDcRBb3"
      },
      "outputs": [],
      "source": [
        "y_pred_train = rfc_opt.predict(X_train_num)\n",
        "y_pred_test = rfc_opt.predict(X_test_num)"
      ]
    },
    {
      "cell_type": "code",
      "execution_count": 65,
      "metadata": {
        "id": "WIMyyP7u6YeM"
      },
      "outputs": [],
      "source": [
        "subtrees = rfc_opt.estimators_"
      ]
    },
    {
      "cell_type": "code",
      "execution_count": 66,
      "metadata": {
        "id": "0Xp0dFqc-6zp"
      },
      "outputs": [],
      "source": [
        "vis_objects = [visualize_tree(cur_subtree) for cur_subtree in subtrees]\n",
        "#vis_obj = visualize_tree(cur_subtree)\n",
        "#print(type(vis_obj))\n",
        "#display(vis_obj)\n",
        "#from IPython.display import HTML"
      ]
    },
    {
      "cell_type": "code",
      "execution_count": 67,
      "metadata": {
        "colab": {
          "base_uri": "https://localhost:8080/",
          "height": 1000
        },
        "id": "-iWcJRilSpSG",
        "outputId": "0cee637e-afff-4346-8bcc-48f9c9d6b5d9"
      },
      "outputs": [
        {
          "name": "stdout",
          "output_type": "stream",
          "text": [
            "Subtree #1\n"
          ]
        },
        {
          "data": {
            "image/svg+xml": [
              "<?xml version=\"1.0\" encoding=\"UTF-8\" standalone=\"no\"?>\n",
              "<!DOCTYPE svg PUBLIC \"-//W3C//DTD SVG 1.1//EN\"\n",
              " \"http://www.w3.org/Graphics/SVG/1.1/DTD/svg11.dtd\">\n",
              "<!-- Generated by graphviz version 9.0.0 (20230911.1827)\n",
              " -->\n",
              "<!-- Title: Tree Pages: 1 -->\n",
              "<svg width=\"624pt\" height=\"314pt\"\n",
              " viewBox=\"0.00 0.00 624.00 314.00\" xmlns=\"http://www.w3.org/2000/svg\" xmlns:xlink=\"http://www.w3.org/1999/xlink\">\n",
              "<g id=\"graph0\" class=\"graph\" transform=\"scale(1 1) rotate(0) translate(4 310)\">\n",
              "<title>Tree</title>\n",
              "<polygon fill=\"white\" stroke=\"none\" points=\"-4,4 -4,-310 620,-310 620,4 -4,4\"/>\n",
              "<!-- 0 -->\n",
              "<g id=\"node1\" class=\"node\">\n",
              "<title>0</title>\n",
              "<path fill=\"#fefcff\" stroke=\"black\" d=\"M380,-306C380,-306 235,-306 235,-306 229,-306 223,-300 223,-294 223,-294 223,-235 223,-235 223,-229 229,-223 235,-223 235,-223 380,-223 380,-223 386,-223 392,-229 392,-235 392,-235 392,-294 392,-294 392,-300 386,-306 380,-306\"/>\n",
              "<text text-anchor=\"start\" x=\"243.38\" y=\"-288.7\" font-family=\"Helvetica,sans-Serif\" font-size=\"14.00\">log_loudness ≤ 1.471</text>\n",
              "<text text-anchor=\"start\" x=\"272.25\" y=\"-273.7\" font-family=\"Helvetica,sans-Serif\" font-size=\"14.00\">gini = 0.748</text>\n",
              "<text text-anchor=\"start\" x=\"262.88\" y=\"-258.7\" font-family=\"Helvetica,sans-Serif\" font-size=\"14.00\">samples = 239</text>\n",
              "<text text-anchor=\"start\" x=\"231\" y=\"-243.7\" font-family=\"Helvetica,sans-Serif\" font-size=\"14.00\">value = [93, 84, 101, 105]</text>\n",
              "<text text-anchor=\"start\" x=\"270.38\" y=\"-228.7\" font-family=\"Helvetica,sans-Serif\" font-size=\"14.00\">class = Jazz</text>\n",
              "</g>\n",
              "<!-- 1 -->\n",
              "<g id=\"node2\" class=\"node\">\n",
              "<title>1</title>\n",
              "<path fill=\"#fceefd\" stroke=\"black\" d=\"M281,-187C281,-187 166,-187 166,-187 160,-187 154,-181 154,-175 154,-175 154,-116 154,-116 154,-110 160,-104 166,-104 166,-104 281,-104 281,-104 287,-104 293,-110 293,-116 293,-116 293,-175 293,-175 293,-181 287,-187 281,-187\"/>\n",
              "<text text-anchor=\"start\" x=\"176.25\" y=\"-169.7\" font-family=\"Helvetica,sans-Serif\" font-size=\"14.00\">tempo ≤ 95.139</text>\n",
              "<text text-anchor=\"start\" x=\"188.25\" y=\"-154.7\" font-family=\"Helvetica,sans-Serif\" font-size=\"14.00\">gini = 0.524</text>\n",
              "<text text-anchor=\"start\" x=\"178.88\" y=\"-139.7\" font-family=\"Helvetica,sans-Serif\" font-size=\"14.00\">samples = 123</text>\n",
              "<text text-anchor=\"start\" x=\"162\" y=\"-124.7\" font-family=\"Helvetica,sans-Serif\" font-size=\"14.00\">value = [89, 1, 4, 98]</text>\n",
              "<text text-anchor=\"start\" x=\"186.38\" y=\"-109.7\" font-family=\"Helvetica,sans-Serif\" font-size=\"14.00\">class = Jazz</text>\n",
              "</g>\n",
              "<!-- 0&#45;&gt;1 -->\n",
              "<g id=\"edge1\" class=\"edge\">\n",
              "<title>0&#45;&gt;1</title>\n",
              "<path fill=\"none\" stroke=\"black\" d=\"M278.12,-222.58C272.08,-214.16 265.65,-205.2 259.4,-196.5\"/>\n",
              "<polygon fill=\"black\" stroke=\"black\" points=\"262.28,-194.51 253.6,-188.43 256.59,-198.59 262.28,-194.51\"/>\n",
              "<text text-anchor=\"middle\" x=\"248.67\" y=\"-206.07\" font-family=\"Helvetica,sans-Serif\" font-size=\"14.00\">True</text>\n",
              "</g>\n",
              "<!-- 4 -->\n",
              "<g id=\"node5\" class=\"node\">\n",
              "<title>4</title>\n",
              "<path fill=\"#e5f2fc\" stroke=\"black\" d=\"M461.62,-187C461.62,-187 323.38,-187 323.38,-187 317.38,-187 311.38,-181 311.38,-175 311.38,-175 311.38,-116 311.38,-116 311.38,-110 317.38,-104 323.38,-104 323.38,-104 461.62,-104 461.62,-104 467.62,-104 473.62,-110 473.62,-116 473.62,-116 473.62,-175 473.62,-175 473.62,-181 467.62,-187 461.62,-187\"/>\n",
              "<text text-anchor=\"start\" x=\"319.38\" y=\"-169.7\" font-family=\"Helvetica,sans-Serif\" font-size=\"14.00\">duration_ms ≤ 233213.0</text>\n",
              "<text text-anchor=\"start\" x=\"357.25\" y=\"-154.7\" font-family=\"Helvetica,sans-Serif\" font-size=\"14.00\">gini = 0.551</text>\n",
              "<text text-anchor=\"start\" x=\"347.88\" y=\"-139.7\" font-family=\"Helvetica,sans-Serif\" font-size=\"14.00\">samples = 116</text>\n",
              "<text text-anchor=\"start\" x=\"331\" y=\"-124.7\" font-family=\"Helvetica,sans-Serif\" font-size=\"14.00\">value = [4, 83, 97, 7]</text>\n",
              "<text text-anchor=\"start\" x=\"344.88\" y=\"-109.7\" font-family=\"Helvetica,sans-Serif\" font-size=\"14.00\">class = Hip Hop</text>\n",
              "</g>\n",
              "<!-- 0&#45;&gt;4 -->\n",
              "<g id=\"edge4\" class=\"edge\">\n",
              "<title>0&#45;&gt;4</title>\n",
              "<path fill=\"none\" stroke=\"black\" d=\"M337.23,-222.58C343.35,-214.16 349.85,-205.2 356.17,-196.5\"/>\n",
              "<polygon fill=\"black\" stroke=\"black\" points=\"359,-198.57 362.04,-188.42 353.33,-194.46 359,-198.57\"/>\n",
              "<text text-anchor=\"middle\" x=\"366.84\" y=\"-206.09\" font-family=\"Helvetica,sans-Serif\" font-size=\"14.00\">False</text>\n",
              "</g>\n",
              "<!-- 2 -->\n",
              "<g id=\"node3\" class=\"node\">\n",
              "<title>2</title>\n",
              "<path fill=\"#f5cdb0\" stroke=\"black\" d=\"M127,-68C127,-68 12,-68 12,-68 6,-68 0,-62 0,-56 0,-56 0,-12 0,-12 0,-6 6,0 12,0 12,0 127,0 127,0 133,0 139,-6 139,-12 139,-12 139,-56 139,-56 139,-62 133,-68 127,-68\"/>\n",
              "<text text-anchor=\"start\" x=\"34.25\" y=\"-50.7\" font-family=\"Helvetica,sans-Serif\" font-size=\"14.00\">gini = 0.469</text>\n",
              "<text text-anchor=\"start\" x=\"28.62\" y=\"-35.7\" font-family=\"Helvetica,sans-Serif\" font-size=\"14.00\">samples = 50</text>\n",
              "<text text-anchor=\"start\" x=\"8\" y=\"-20.7\" font-family=\"Helvetica,sans-Serif\" font-size=\"14.00\">value = [45, 0, 0, 27]</text>\n",
              "<text text-anchor=\"start\" x=\"21.12\" y=\"-5.7\" font-family=\"Helvetica,sans-Serif\" font-size=\"14.00\">class = Ambient</text>\n",
              "</g>\n",
              "<!-- 1&#45;&gt;2 -->\n",
              "<g id=\"edge2\" class=\"edge\">\n",
              "<title>1&#45;&gt;2</title>\n",
              "<path fill=\"none\" stroke=\"black\" d=\"M166.16,-103.73C152.82,-94.24 138.63,-84.16 125.36,-74.72\"/>\n",
              "<polygon fill=\"black\" stroke=\"black\" points=\"127.74,-72.12 117.57,-69.18 123.69,-77.82 127.74,-72.12\"/>\n",
              "</g>\n",
              "<!-- 3 -->\n",
              "<g id=\"node4\" class=\"node\">\n",
              "<title>3</title>\n",
              "<path fill=\"#f1b9f6\" stroke=\"black\" d=\"M284,-68C284,-68 169,-68 169,-68 163,-68 157,-62 157,-56 157,-56 157,-12 157,-12 157,-6 163,0 169,0 169,0 284,0 284,0 290,0 296,-6 296,-12 296,-12 296,-56 296,-56 296,-62 290,-68 284,-68\"/>\n",
              "<text text-anchor=\"start\" x=\"191.25\" y=\"-50.7\" font-family=\"Helvetica,sans-Serif\" font-size=\"14.00\">gini = 0.514</text>\n",
              "<text text-anchor=\"start\" x=\"185.62\" y=\"-35.7\" font-family=\"Helvetica,sans-Serif\" font-size=\"14.00\">samples = 73</text>\n",
              "<text text-anchor=\"start\" x=\"165\" y=\"-20.7\" font-family=\"Helvetica,sans-Serif\" font-size=\"14.00\">value = [44, 1, 4, 71]</text>\n",
              "<text text-anchor=\"start\" x=\"189.38\" y=\"-5.7\" font-family=\"Helvetica,sans-Serif\" font-size=\"14.00\">class = Jazz</text>\n",
              "</g>\n",
              "<!-- 1&#45;&gt;3 -->\n",
              "<g id=\"edge3\" class=\"edge\">\n",
              "<title>1&#45;&gt;3</title>\n",
              "<path fill=\"none\" stroke=\"black\" d=\"M224.62,-103.73C224.83,-95.88 225.06,-87.63 225.28,-79.67\"/>\n",
              "<polygon fill=\"black\" stroke=\"black\" points=\"228.77,-79.9 225.55,-69.81 221.77,-79.71 228.77,-79.9\"/>\n",
              "</g>\n",
              "<!-- 5 -->\n",
              "<g id=\"node6\" class=\"node\">\n",
              "<title>5</title>\n",
              "<path fill=\"#cef8ca\" stroke=\"black\" d=\"M447,-68C447,-68 332,-68 332,-68 326,-68 320,-62 320,-56 320,-56 320,-12 320,-12 320,-6 326,0 332,0 332,0 447,0 447,0 453,0 459,-6 459,-12 459,-12 459,-56 459,-56 459,-62 453,-68 447,-68\"/>\n",
              "<text text-anchor=\"start\" x=\"358\" y=\"-50.7\" font-family=\"Helvetica,sans-Serif\" font-size=\"14.00\">gini = 0.51</text>\n",
              "<text text-anchor=\"start\" x=\"348.62\" y=\"-35.7\" font-family=\"Helvetica,sans-Serif\" font-size=\"14.00\">samples = 77</text>\n",
              "<text text-anchor=\"start\" x=\"328\" y=\"-20.7\" font-family=\"Helvetica,sans-Serif\" font-size=\"14.00\">value = [3, 72, 52, 0]</text>\n",
              "<text text-anchor=\"start\" x=\"350.88\" y=\"-5.7\" font-family=\"Helvetica,sans-Serif\" font-size=\"14.00\">class = EDM</text>\n",
              "</g>\n",
              "<!-- 4&#45;&gt;5 -->\n",
              "<g id=\"edge5\" class=\"edge\">\n",
              "<title>4&#45;&gt;5</title>\n",
              "<path fill=\"none\" stroke=\"black\" d=\"M391.38,-103.73C391.17,-95.88 390.94,-87.63 390.72,-79.67\"/>\n",
              "<polygon fill=\"black\" stroke=\"black\" points=\"394.23,-79.71 390.45,-69.81 387.23,-79.9 394.23,-79.71\"/>\n",
              "</g>\n",
              "<!-- 6 -->\n",
              "<g id=\"node7\" class=\"node\">\n",
              "<title>6</title>\n",
              "<path fill=\"#80c0ee\" stroke=\"black\" d=\"M604,-68C604,-68 489,-68 489,-68 483,-68 477,-62 477,-56 477,-56 477,-12 477,-12 477,-6 483,0 489,0 489,0 604,0 604,0 610,0 616,-6 616,-12 616,-12 616,-56 616,-56 616,-62 610,-68 604,-68\"/>\n",
              "<text text-anchor=\"start\" x=\"511.25\" y=\"-50.7\" font-family=\"Helvetica,sans-Serif\" font-size=\"14.00\">gini = 0.464</text>\n",
              "<text text-anchor=\"start\" x=\"505.62\" y=\"-35.7\" font-family=\"Helvetica,sans-Serif\" font-size=\"14.00\">samples = 39</text>\n",
              "<text text-anchor=\"start\" x=\"485\" y=\"-20.7\" font-family=\"Helvetica,sans-Serif\" font-size=\"14.00\">value = [1, 11, 45, 7]</text>\n",
              "<text text-anchor=\"start\" x=\"498.88\" y=\"-5.7\" font-family=\"Helvetica,sans-Serif\" font-size=\"14.00\">class = Hip Hop</text>\n",
              "</g>\n",
              "<!-- 4&#45;&gt;6 -->\n",
              "<g id=\"edge6\" class=\"edge\">\n",
              "<title>4&#45;&gt;6</title>\n",
              "<path fill=\"none\" stroke=\"black\" d=\"M449.84,-103.73C463.18,-94.24 477.37,-84.16 490.64,-74.72\"/>\n",
              "<polygon fill=\"black\" stroke=\"black\" points=\"492.31,-77.82 498.43,-69.18 488.26,-72.12 492.31,-77.82\"/>\n",
              "</g>\n",
              "</g>\n",
              "</svg>\n"
            ],
            "text/plain": [
              "<graphviz.sources.Source at 0x2a0567a10>"
            ]
          },
          "metadata": {},
          "output_type": "display_data"
        },
        {
          "name": "stdout",
          "output_type": "stream",
          "text": [
            "Subtree #2\n"
          ]
        },
        {
          "data": {
            "image/svg+xml": [
              "<?xml version=\"1.0\" encoding=\"UTF-8\" standalone=\"no\"?>\n",
              "<!DOCTYPE svg PUBLIC \"-//W3C//DTD SVG 1.1//EN\"\n",
              " \"http://www.w3.org/Graphics/SVG/1.1/DTD/svg11.dtd\">\n",
              "<!-- Generated by graphviz version 9.0.0 (20230911.1827)\n",
              " -->\n",
              "<!-- Title: Tree Pages: 1 -->\n",
              "<svg width=\"635pt\" height=\"314pt\"\n",
              " viewBox=\"0.00 0.00 634.75 314.00\" xmlns=\"http://www.w3.org/2000/svg\" xmlns:xlink=\"http://www.w3.org/1999/xlink\">\n",
              "<g id=\"graph0\" class=\"graph\" transform=\"scale(1 1) rotate(0) translate(4 310)\">\n",
              "<title>Tree</title>\n",
              "<polygon fill=\"white\" stroke=\"none\" points=\"-4,4 -4,-310 630.75,-310 630.75,4 -4,4\"/>\n",
              "<!-- 0 -->\n",
              "<g id=\"node1\" class=\"node\">\n",
              "<title>0</title>\n",
              "<path fill=\"#fef9fe\" stroke=\"black\" d=\"M366.25,-306C366.25,-306 221.25,-306 221.25,-306 215.25,-306 209.25,-300 209.25,-294 209.25,-294 209.25,-235 209.25,-235 209.25,-229 215.25,-223 221.25,-223 221.25,-223 366.25,-223 366.25,-223 372.25,-223 378.25,-229 378.25,-235 378.25,-235 378.25,-294 378.25,-294 378.25,-300 372.25,-306 366.25,-306\"/>\n",
              "<text text-anchor=\"start\" x=\"246.12\" y=\"-288.7\" font-family=\"Helvetica,sans-Serif\" font-size=\"14.00\">valence ≤ 0.097</text>\n",
              "<text text-anchor=\"start\" x=\"258.5\" y=\"-273.7\" font-family=\"Helvetica,sans-Serif\" font-size=\"14.00\">gini = 0.745</text>\n",
              "<text text-anchor=\"start\" x=\"249.12\" y=\"-258.7\" font-family=\"Helvetica,sans-Serif\" font-size=\"14.00\">samples = 243</text>\n",
              "<text text-anchor=\"start\" x=\"217.25\" y=\"-243.7\" font-family=\"Helvetica,sans-Serif\" font-size=\"14.00\">value = [92, 75, 104, 112]</text>\n",
              "<text text-anchor=\"start\" x=\"256.62\" y=\"-228.7\" font-family=\"Helvetica,sans-Serif\" font-size=\"14.00\">class = Jazz</text>\n",
              "</g>\n",
              "<!-- 1 -->\n",
              "<g id=\"node2\" class=\"node\">\n",
              "<title>1</title>\n",
              "<path fill=\"#e88f4f\" stroke=\"black\" d=\"M266.88,-187C266.88,-187 146.62,-187 146.62,-187 140.62,-187 134.62,-181 134.62,-175 134.62,-175 134.62,-116 134.62,-116 134.62,-110 140.62,-104 146.62,-104 146.62,-104 266.88,-104 266.88,-104 272.88,-104 278.88,-110 278.88,-116 278.88,-116 278.88,-175 278.88,-175 278.88,-181 272.88,-187 266.88,-187\"/>\n",
              "<text text-anchor=\"start\" x=\"142.62\" y=\"-169.7\" font-family=\"Helvetica,sans-Serif\" font-size=\"14.00\">log_loudness ≤ 1.611</text>\n",
              "<text text-anchor=\"start\" x=\"171.5\" y=\"-154.7\" font-family=\"Helvetica,sans-Serif\" font-size=\"14.00\">gini = 0.194</text>\n",
              "<text text-anchor=\"start\" x=\"165.88\" y=\"-139.7\" font-family=\"Helvetica,sans-Serif\" font-size=\"14.00\">samples = 48</text>\n",
              "<text text-anchor=\"start\" x=\"149\" y=\"-124.7\" font-family=\"Helvetica,sans-Serif\" font-size=\"14.00\">value = [60, 3, 1, 3]</text>\n",
              "<text text-anchor=\"start\" x=\"158.38\" y=\"-109.7\" font-family=\"Helvetica,sans-Serif\" font-size=\"14.00\">class = Ambient</text>\n",
              "</g>\n",
              "<!-- 0&#45;&gt;1 -->\n",
              "<g id=\"edge1\" class=\"edge\">\n",
              "<title>0&#45;&gt;1</title>\n",
              "<path fill=\"none\" stroke=\"black\" d=\"M263.32,-222.58C256.99,-214.07 250.26,-205.01 243.73,-196.23\"/>\n",
              "<polygon fill=\"black\" stroke=\"black\" points=\"246.69,-194.35 237.92,-188.41 241.08,-198.53 246.69,-194.35\"/>\n",
              "<text text-anchor=\"middle\" x=\"233.38\" y=\"-206.13\" font-family=\"Helvetica,sans-Serif\" font-size=\"14.00\">True</text>\n",
              "</g>\n",
              "<!-- 4 -->\n",
              "<g id=\"node5\" class=\"node\">\n",
              "<title>4</title>\n",
              "<path fill=\"#fef9fe\" stroke=\"black\" d=\"M454.25,-187C454.25,-187 309.25,-187 309.25,-187 303.25,-187 297.25,-181 297.25,-175 297.25,-175 297.25,-116 297.25,-116 297.25,-110 303.25,-104 309.25,-104 309.25,-104 454.25,-104 454.25,-104 460.25,-104 466.25,-110 466.25,-116 466.25,-116 466.25,-175 466.25,-175 466.25,-181 460.25,-187 454.25,-187\"/>\n",
              "<text text-anchor=\"start\" x=\"321.75\" y=\"-169.7\" font-family=\"Helvetica,sans-Serif\" font-size=\"14.00\">danceability ≤ 0.519</text>\n",
              "<text text-anchor=\"start\" x=\"346.5\" y=\"-154.7\" font-family=\"Helvetica,sans-Serif\" font-size=\"14.00\">gini = 0.713</text>\n",
              "<text text-anchor=\"start\" x=\"337.12\" y=\"-139.7\" font-family=\"Helvetica,sans-Serif\" font-size=\"14.00\">samples = 195</text>\n",
              "<text text-anchor=\"start\" x=\"305.25\" y=\"-124.7\" font-family=\"Helvetica,sans-Serif\" font-size=\"14.00\">value = [32, 72, 103, 109]</text>\n",
              "<text text-anchor=\"start\" x=\"344.62\" y=\"-109.7\" font-family=\"Helvetica,sans-Serif\" font-size=\"14.00\">class = Jazz</text>\n",
              "</g>\n",
              "<!-- 0&#45;&gt;4 -->\n",
              "<g id=\"edge4\" class=\"edge\">\n",
              "<title>0&#45;&gt;4</title>\n",
              "<path fill=\"none\" stroke=\"black\" d=\"M324.53,-222.58C330.93,-214.07 337.74,-205.01 344.35,-196.23\"/>\n",
              "<polygon fill=\"black\" stroke=\"black\" points=\"347.01,-198.51 350.23,-188.41 341.42,-194.3 347.01,-198.51\"/>\n",
              "<text text-anchor=\"middle\" x=\"354.64\" y=\"-206.15\" font-family=\"Helvetica,sans-Serif\" font-size=\"14.00\">False</text>\n",
              "</g>\n",
              "<!-- 2 -->\n",
              "<g id=\"node3\" class=\"node\">\n",
              "<title>2</title>\n",
              "<path fill=\"#e68743\" stroke=\"black\" d=\"M119.5,-68C119.5,-68 12,-68 12,-68 6,-68 0,-62 0,-56 0,-56 0,-12 0,-12 0,-6 6,0 12,0 12,0 119.5,0 119.5,0 125.5,0 131.5,-6 131.5,-12 131.5,-12 131.5,-56 131.5,-56 131.5,-62 125.5,-68 119.5,-68\"/>\n",
              "<text text-anchor=\"start\" x=\"30.5\" y=\"-50.7\" font-family=\"Helvetica,sans-Serif\" font-size=\"14.00\">gini = 0.091</text>\n",
              "<text text-anchor=\"start\" x=\"24.88\" y=\"-35.7\" font-family=\"Helvetica,sans-Serif\" font-size=\"14.00\">samples = 45</text>\n",
              "<text text-anchor=\"start\" x=\"8\" y=\"-20.7\" font-family=\"Helvetica,sans-Serif\" font-size=\"14.00\">value = [60, 0, 0, 3]</text>\n",
              "<text text-anchor=\"start\" x=\"17.38\" y=\"-5.7\" font-family=\"Helvetica,sans-Serif\" font-size=\"14.00\">class = Ambient</text>\n",
              "</g>\n",
              "<!-- 1&#45;&gt;2 -->\n",
              "<g id=\"edge2\" class=\"edge\">\n",
              "<title>1&#45;&gt;2</title>\n",
              "<path fill=\"none\" stroke=\"black\" d=\"M154.25,-103.73C142.27,-94.42 129.54,-84.54 117.59,-75.26\"/>\n",
              "<polygon fill=\"black\" stroke=\"black\" points=\"119.87,-72.6 109.82,-69.23 115.58,-78.13 119.87,-72.6\"/>\n",
              "</g>\n",
              "<!-- 3 -->\n",
              "<g id=\"node4\" class=\"node\">\n",
              "<title>3</title>\n",
              "<path fill=\"#84ee7b\" stroke=\"black\" d=\"M261.75,-68C261.75,-68 161.75,-68 161.75,-68 155.75,-68 149.75,-62 149.75,-56 149.75,-56 149.75,-12 149.75,-12 149.75,-6 155.75,0 161.75,0 161.75,0 261.75,0 261.75,0 267.75,0 273.75,-6 273.75,-12 273.75,-12 273.75,-56 273.75,-56 273.75,-62 267.75,-68 261.75,-68\"/>\n",
              "<text text-anchor=\"start\" x=\"176.5\" y=\"-50.7\" font-family=\"Helvetica,sans-Serif\" font-size=\"14.00\">gini = 0.375</text>\n",
              "<text text-anchor=\"start\" x=\"174.62\" y=\"-35.7\" font-family=\"Helvetica,sans-Serif\" font-size=\"14.00\">samples = 3</text>\n",
              "<text text-anchor=\"start\" x=\"157.75\" y=\"-20.7\" font-family=\"Helvetica,sans-Serif\" font-size=\"14.00\">value = [0, 3, 1, 0]</text>\n",
              "<text text-anchor=\"start\" x=\"173.12\" y=\"-5.7\" font-family=\"Helvetica,sans-Serif\" font-size=\"14.00\">class = EDM</text>\n",
              "</g>\n",
              "<!-- 1&#45;&gt;3 -->\n",
              "<g id=\"edge3\" class=\"edge\">\n",
              "<title>1&#45;&gt;3</title>\n",
              "<path fill=\"none\" stroke=\"black\" d=\"M208.61,-103.73C208.97,-95.88 209.35,-87.63 209.71,-79.67\"/>\n",
              "<polygon fill=\"black\" stroke=\"black\" points=\"213.2,-79.96 210.16,-69.81 206.21,-79.64 213.2,-79.96\"/>\n",
              "</g>\n",
              "<!-- 5 -->\n",
              "<g id=\"node6\" class=\"node\">\n",
              "<title>5</title>\n",
              "<path fill=\"#e995f1\" stroke=\"black\" d=\"M442.75,-68C442.75,-68 312.75,-68 312.75,-68 306.75,-68 300.75,-62 300.75,-56 300.75,-56 300.75,-12 300.75,-12 300.75,-6 306.75,0 312.75,0 312.75,0 442.75,0 442.75,0 448.75,0 454.75,-6 454.75,-12 454.75,-12 454.75,-56 454.75,-56 454.75,-62 448.75,-68 442.75,-68\"/>\n",
              "<text text-anchor=\"start\" x=\"342.5\" y=\"-50.7\" font-family=\"Helvetica,sans-Serif\" font-size=\"14.00\">gini = 0.573</text>\n",
              "<text text-anchor=\"start\" x=\"336.88\" y=\"-35.7\" font-family=\"Helvetica,sans-Serif\" font-size=\"14.00\">samples = 78</text>\n",
              "<text text-anchor=\"start\" x=\"308.75\" y=\"-20.7\" font-family=\"Helvetica,sans-Serif\" font-size=\"14.00\">value = [20, 11, 18, 77]</text>\n",
              "<text text-anchor=\"start\" x=\"340.62\" y=\"-5.7\" font-family=\"Helvetica,sans-Serif\" font-size=\"14.00\">class = Jazz</text>\n",
              "</g>\n",
              "<!-- 4&#45;&gt;5 -->\n",
              "<g id=\"edge5\" class=\"edge\">\n",
              "<title>4&#45;&gt;5</title>\n",
              "<path fill=\"none\" stroke=\"black\" d=\"M380.26,-103.73C379.97,-95.88 379.67,-87.63 379.38,-79.67\"/>\n",
              "<polygon fill=\"black\" stroke=\"black\" points=\"382.88,-79.68 379.02,-69.81 375.89,-79.93 382.88,-79.68\"/>\n",
              "</g>\n",
              "<!-- 6 -->\n",
              "<g id=\"node7\" class=\"node\">\n",
              "<title>6</title>\n",
              "<path fill=\"#daedfa\" stroke=\"black\" d=\"M614.75,-68C614.75,-68 484.75,-68 484.75,-68 478.75,-68 472.75,-62 472.75,-56 472.75,-56 472.75,-12 472.75,-12 472.75,-6 478.75,0 484.75,0 484.75,0 614.75,0 614.75,0 620.75,0 626.75,-6 626.75,-12 626.75,-12 626.75,-56 626.75,-56 626.75,-62 620.75,-68 614.75,-68\"/>\n",
              "<text text-anchor=\"start\" x=\"514.5\" y=\"-50.7\" font-family=\"Helvetica,sans-Serif\" font-size=\"14.00\">gini = 0.664</text>\n",
              "<text text-anchor=\"start\" x=\"505.12\" y=\"-35.7\" font-family=\"Helvetica,sans-Serif\" font-size=\"14.00\">samples = 117</text>\n",
              "<text text-anchor=\"start\" x=\"480.75\" y=\"-20.7\" font-family=\"Helvetica,sans-Serif\" font-size=\"14.00\">value = [12, 61, 85, 32]</text>\n",
              "<text text-anchor=\"start\" x=\"502.12\" y=\"-5.7\" font-family=\"Helvetica,sans-Serif\" font-size=\"14.00\">class = Hip Hop</text>\n",
              "</g>\n",
              "<!-- 4&#45;&gt;6 -->\n",
              "<g id=\"edge6\" class=\"edge\">\n",
              "<title>4&#45;&gt;6</title>\n",
              "<path fill=\"none\" stroke=\"black\" d=\"M444.31,-103.73C458.92,-94.2 474.47,-84.07 489.01,-74.59\"/>\n",
              "<polygon fill=\"black\" stroke=\"black\" points=\"490.66,-77.69 497.12,-69.3 486.84,-71.83 490.66,-77.69\"/>\n",
              "</g>\n",
              "</g>\n",
              "</svg>\n"
            ],
            "text/plain": [
              "<graphviz.sources.Source at 0x2a02eed10>"
            ]
          },
          "metadata": {},
          "output_type": "display_data"
        },
        {
          "name": "stdout",
          "output_type": "stream",
          "text": [
            "Subtree #3\n"
          ]
        },
        {
          "data": {
            "image/svg+xml": [
              "<?xml version=\"1.0\" encoding=\"UTF-8\" standalone=\"no\"?>\n",
              "<!DOCTYPE svg PUBLIC \"-//W3C//DTD SVG 1.1//EN\"\n",
              " \"http://www.w3.org/Graphics/SVG/1.1/DTD/svg11.dtd\">\n",
              "<!-- Generated by graphviz version 9.0.0 (20230911.1827)\n",
              " -->\n",
              "<!-- Title: Tree Pages: 1 -->\n",
              "<svg width=\"613pt\" height=\"314pt\"\n",
              " viewBox=\"0.00 0.00 612.50 314.00\" xmlns=\"http://www.w3.org/2000/svg\" xmlns:xlink=\"http://www.w3.org/1999/xlink\">\n",
              "<g id=\"graph0\" class=\"graph\" transform=\"scale(1 1) rotate(0) translate(4 310)\">\n",
              "<title>Tree</title>\n",
              "<polygon fill=\"white\" stroke=\"none\" points=\"-4,4 -4,-310 608.5,-310 608.5,4 -4,4\"/>\n",
              "<!-- 0 -->\n",
              "<g id=\"node1\" class=\"node\">\n",
              "<title>0</title>\n",
              "<path fill=\"#fdf7f2\" stroke=\"black\" d=\"M368.5,-306C368.5,-306 231,-306 231,-306 225,-306 219,-300 219,-294 219,-294 219,-235 219,-235 219,-229 225,-223 231,-223 231,-223 368.5,-223 368.5,-223 374.5,-223 380.5,-229 380.5,-235 380.5,-235 380.5,-294 380.5,-294 380.5,-300 374.5,-306 368.5,-306\"/>\n",
              "<text text-anchor=\"start\" x=\"235.62\" y=\"-288.7\" font-family=\"Helvetica,sans-Serif\" font-size=\"14.00\">log_loudness ≤ 1.345</text>\n",
              "<text text-anchor=\"start\" x=\"264.5\" y=\"-273.7\" font-family=\"Helvetica,sans-Serif\" font-size=\"14.00\">gini = 0.748</text>\n",
              "<text text-anchor=\"start\" x=\"255.12\" y=\"-258.7\" font-family=\"Helvetica,sans-Serif\" font-size=\"14.00\">samples = 237</text>\n",
              "<text text-anchor=\"start\" x=\"227\" y=\"-243.7\" font-family=\"Helvetica,sans-Serif\" font-size=\"14.00\">value = [110, 91, 91, 91]</text>\n",
              "<text text-anchor=\"start\" x=\"251.38\" y=\"-228.7\" font-family=\"Helvetica,sans-Serif\" font-size=\"14.00\">class = Ambient</text>\n",
              "</g>\n",
              "<!-- 1 -->\n",
              "<g id=\"node2\" class=\"node\">\n",
              "<title>1</title>\n",
              "<path fill=\"#f9e1d0\" stroke=\"black\" d=\"M279,-187C279,-187 156.5,-187 156.5,-187 150.5,-187 144.5,-181 144.5,-175 144.5,-175 144.5,-116 144.5,-116 144.5,-110 150.5,-104 156.5,-104 156.5,-104 279,-104 279,-104 285,-104 291,-110 291,-116 291,-116 291,-175 291,-175 291,-181 285,-187 279,-187\"/>\n",
              "<text text-anchor=\"start\" x=\"153.62\" y=\"-169.7\" font-family=\"Helvetica,sans-Serif\" font-size=\"14.00\">log_loudness ≤ 0.542</text>\n",
              "<text text-anchor=\"start\" x=\"182.5\" y=\"-154.7\" font-family=\"Helvetica,sans-Serif\" font-size=\"14.00\">gini = 0.506</text>\n",
              "<text text-anchor=\"start\" x=\"173.12\" y=\"-139.7\" font-family=\"Helvetica,sans-Serif\" font-size=\"14.00\">samples = 114</text>\n",
              "<text text-anchor=\"start\" x=\"152.5\" y=\"-124.7\" font-family=\"Helvetica,sans-Serif\" font-size=\"14.00\">value = [106, 0, 3, 80]</text>\n",
              "<text text-anchor=\"start\" x=\"169.38\" y=\"-109.7\" font-family=\"Helvetica,sans-Serif\" font-size=\"14.00\">class = Ambient</text>\n",
              "</g>\n",
              "<!-- 0&#45;&gt;1 -->\n",
              "<g id=\"edge1\" class=\"edge\">\n",
              "<title>0&#45;&gt;1</title>\n",
              "<path fill=\"none\" stroke=\"black\" d=\"M271.07,-222.58C265.17,-214.16 258.89,-205.2 252.79,-196.5\"/>\n",
              "<polygon fill=\"black\" stroke=\"black\" points=\"255.75,-194.62 247.14,-188.44 250.02,-198.64 255.75,-194.62\"/>\n",
              "<text text-anchor=\"middle\" x=\"241.94\" y=\"-206.02\" font-family=\"Helvetica,sans-Serif\" font-size=\"14.00\">True</text>\n",
              "</g>\n",
              "<!-- 4 -->\n",
              "<g id=\"node5\" class=\"node\">\n",
              "<title>4</title>\n",
              "<path fill=\"#fafef9\" stroke=\"black\" d=\"M444,-187C444,-187 321.5,-187 321.5,-187 315.5,-187 309.5,-181 309.5,-175 309.5,-175 309.5,-116 309.5,-116 309.5,-110 315.5,-104 321.5,-104 321.5,-104 444,-104 444,-104 450,-104 456,-110 456,-116 456,-116 456,-175 456,-175 456,-181 450,-187 444,-187\"/>\n",
              "<text text-anchor=\"start\" x=\"337.75\" y=\"-169.7\" font-family=\"Helvetica,sans-Serif\" font-size=\"14.00\">energy ≤ 0.771</text>\n",
              "<text text-anchor=\"start\" x=\"347.5\" y=\"-154.7\" font-family=\"Helvetica,sans-Serif\" font-size=\"14.00\">gini = 0.571</text>\n",
              "<text text-anchor=\"start\" x=\"338.12\" y=\"-139.7\" font-family=\"Helvetica,sans-Serif\" font-size=\"14.00\">samples = 123</text>\n",
              "<text text-anchor=\"start\" x=\"317.5\" y=\"-124.7\" font-family=\"Helvetica,sans-Serif\" font-size=\"14.00\">value = [4, 91, 88, 11]</text>\n",
              "<text text-anchor=\"start\" x=\"344.12\" y=\"-109.7\" font-family=\"Helvetica,sans-Serif\" font-size=\"14.00\">class = EDM</text>\n",
              "</g>\n",
              "<!-- 0&#45;&gt;4 -->\n",
              "<g id=\"edge4\" class=\"edge\">\n",
              "<title>0&#45;&gt;4</title>\n",
              "<path fill=\"none\" stroke=\"black\" d=\"M328.78,-222.58C334.75,-214.16 341.11,-205.2 347.28,-196.5\"/>\n",
              "<polygon fill=\"black\" stroke=\"black\" points=\"350.07,-198.62 353,-188.43 344.36,-194.57 350.07,-198.62\"/>\n",
              "<text text-anchor=\"middle\" x=\"358.07\" y=\"-206.05\" font-family=\"Helvetica,sans-Serif\" font-size=\"14.00\">False</text>\n",
              "</g>\n",
              "<!-- 2 -->\n",
              "<g id=\"node3\" class=\"node\">\n",
              "<title>2</title>\n",
              "<path fill=\"#e88f4e\" stroke=\"black\" d=\"M119.5,-68C119.5,-68 12,-68 12,-68 6,-68 0,-62 0,-56 0,-56 0,-12 0,-12 0,-6 6,0 12,0 12,0 119.5,0 119.5,0 125.5,0 131.5,-6 131.5,-12 131.5,-12 131.5,-56 131.5,-56 131.5,-62 125.5,-68 119.5,-68\"/>\n",
              "<text text-anchor=\"start\" x=\"30.5\" y=\"-50.7\" font-family=\"Helvetica,sans-Serif\" font-size=\"14.00\">gini = 0.176</text>\n",
              "<text text-anchor=\"start\" x=\"24.88\" y=\"-35.7\" font-family=\"Helvetica,sans-Serif\" font-size=\"14.00\">samples = 38</text>\n",
              "<text text-anchor=\"start\" x=\"8\" y=\"-20.7\" font-family=\"Helvetica,sans-Serif\" font-size=\"14.00\">value = [65, 0, 0, 7]</text>\n",
              "<text text-anchor=\"start\" x=\"17.38\" y=\"-5.7\" font-family=\"Helvetica,sans-Serif\" font-size=\"14.00\">class = Ambient</text>\n",
              "</g>\n",
              "<!-- 1&#45;&gt;2 -->\n",
              "<g id=\"edge2\" class=\"edge\">\n",
              "<title>1&#45;&gt;2</title>\n",
              "<path fill=\"none\" stroke=\"black\" d=\"M161.15,-103.73C148.11,-94.33 134.25,-84.35 121.26,-74.99\"/>\n",
              "<polygon fill=\"black\" stroke=\"black\" points=\"123.36,-72.19 113.2,-69.18 119.27,-77.87 123.36,-72.19\"/>\n",
              "</g>\n",
              "<!-- 3 -->\n",
              "<g id=\"node4\" class=\"node\">\n",
              "<title>3</title>\n",
              "<path fill=\"#eeacf4\" stroke=\"black\" d=\"M276.25,-68C276.25,-68 161.25,-68 161.25,-68 155.25,-68 149.25,-62 149.25,-56 149.25,-56 149.25,-12 149.25,-12 149.25,-6 155.25,0 161.25,0 161.25,0 276.25,0 276.25,0 282.25,0 288.25,-6 288.25,-12 288.25,-12 288.25,-56 288.25,-56 288.25,-62 282.25,-68 276.25,-68\"/>\n",
              "<text text-anchor=\"start\" x=\"183.5\" y=\"-50.7\" font-family=\"Helvetica,sans-Serif\" font-size=\"14.00\">gini = 0.487</text>\n",
              "<text text-anchor=\"start\" x=\"177.88\" y=\"-35.7\" font-family=\"Helvetica,sans-Serif\" font-size=\"14.00\">samples = 76</text>\n",
              "<text text-anchor=\"start\" x=\"157.25\" y=\"-20.7\" font-family=\"Helvetica,sans-Serif\" font-size=\"14.00\">value = [41, 0, 3, 73]</text>\n",
              "<text text-anchor=\"start\" x=\"181.62\" y=\"-5.7\" font-family=\"Helvetica,sans-Serif\" font-size=\"14.00\">class = Jazz</text>\n",
              "</g>\n",
              "<!-- 1&#45;&gt;3 -->\n",
              "<g id=\"edge3\" class=\"edge\">\n",
              "<title>1&#45;&gt;3</title>\n",
              "<path fill=\"none\" stroke=\"black\" d=\"M218.12,-103.73C218.19,-95.88 218.27,-87.63 218.34,-79.67\"/>\n",
              "<polygon fill=\"black\" stroke=\"black\" points=\"221.84,-79.84 218.43,-69.81 214.84,-79.78 221.84,-79.84\"/>\n",
              "</g>\n",
              "<!-- 5 -->\n",
              "<g id=\"node6\" class=\"node\">\n",
              "<title>5</title>\n",
              "<path fill=\"#b6dbf5\" stroke=\"black\" d=\"M443,-68C443,-68 320.5,-68 320.5,-68 314.5,-68 308.5,-62 308.5,-56 308.5,-56 308.5,-12 308.5,-12 308.5,-6 314.5,0 320.5,0 320.5,0 443,0 443,0 449,0 455,-6 455,-12 455,-12 455,-56 455,-56 455,-62 449,-68 443,-68\"/>\n",
              "<text text-anchor=\"start\" x=\"346.5\" y=\"-50.7\" font-family=\"Helvetica,sans-Serif\" font-size=\"14.00\">gini = 0.561</text>\n",
              "<text text-anchor=\"start\" x=\"340.88\" y=\"-35.7\" font-family=\"Helvetica,sans-Serif\" font-size=\"14.00\">samples = 88</text>\n",
              "<text text-anchor=\"start\" x=\"316.5\" y=\"-20.7\" font-family=\"Helvetica,sans-Serif\" font-size=\"14.00\">value = [4, 47, 83, 11]</text>\n",
              "<text text-anchor=\"start\" x=\"334.12\" y=\"-5.7\" font-family=\"Helvetica,sans-Serif\" font-size=\"14.00\">class = Hip Hop</text>\n",
              "</g>\n",
              "<!-- 4&#45;&gt;5 -->\n",
              "<g id=\"edge5\" class=\"edge\">\n",
              "<title>4&#45;&gt;5</title>\n",
              "<path fill=\"none\" stroke=\"black\" d=\"M382.38,-103.73C382.31,-95.88 382.23,-87.63 382.16,-79.67\"/>\n",
              "<polygon fill=\"black\" stroke=\"black\" points=\"385.66,-79.78 382.07,-69.81 378.66,-79.84 385.66,-79.78\"/>\n",
              "</g>\n",
              "<!-- 6 -->\n",
              "<g id=\"node7\" class=\"node\">\n",
              "<title>6</title>\n",
              "<path fill=\"#5ce850\" stroke=\"black\" d=\"M592.5,-68C592.5,-68 485,-68 485,-68 479,-68 473,-62 473,-56 473,-56 473,-12 473,-12 473,-6 479,0 485,0 485,0 592.5,0 592.5,0 598.5,0 604.5,-6 604.5,-12 604.5,-12 604.5,-56 604.5,-56 604.5,-62 598.5,-68 592.5,-68\"/>\n",
              "<text text-anchor=\"start\" x=\"503.5\" y=\"-50.7\" font-family=\"Helvetica,sans-Serif\" font-size=\"14.00\">gini = 0.183</text>\n",
              "<text text-anchor=\"start\" x=\"497.88\" y=\"-35.7\" font-family=\"Helvetica,sans-Serif\" font-size=\"14.00\">samples = 35</text>\n",
              "<text text-anchor=\"start\" x=\"481\" y=\"-20.7\" font-family=\"Helvetica,sans-Serif\" font-size=\"14.00\">value = [0, 44, 5, 0]</text>\n",
              "<text text-anchor=\"start\" x=\"500.12\" y=\"-5.7\" font-family=\"Helvetica,sans-Serif\" font-size=\"14.00\">class = EDM</text>\n",
              "</g>\n",
              "<!-- 4&#45;&gt;6 -->\n",
              "<g id=\"edge6\" class=\"edge\">\n",
              "<title>4&#45;&gt;6</title>\n",
              "<path fill=\"none\" stroke=\"black\" d=\"M440.84,-103.73C454.35,-94.24 468.72,-84.16 482.17,-74.72\"/>\n",
              "<polygon fill=\"black\" stroke=\"black\" points=\"483.9,-77.78 490.07,-69.17 479.87,-72.05 483.9,-77.78\"/>\n",
              "</g>\n",
              "</g>\n",
              "</svg>\n"
            ],
            "text/plain": [
              "<graphviz.sources.Source at 0x177527850>"
            ]
          },
          "metadata": {},
          "output_type": "display_data"
        }
      ],
      "source": [
        "for vis_index, cur_vis in enumerate(vis_objects):\n",
        "  print(f\"Subtree #{vis_index + 1}\")\n",
        "  display(cur_vis)"
      ]
    },
    {
      "cell_type": "markdown",
      "metadata": {
        "id": "T6sjy7UAxRJs"
      },
      "source": [
        "And from these visualizations we can start to see, roughly, how a `RandomForestClassifier` (as an **ensemble** of multiple Decision Trees) could beat out a single `DecisionTreeClassifier`: just like how a pair of darts players where one player always hits slightly above the bullseye and the other player always hits slightly below the bullseye would \"average out\" to be a bullseye-every-time team, an ensemble of decision trees, each focusing on minimizing errors for a given **subset** of the full feature space, will \"average out\" to be more accurate than any individual tree could be. **Subtree #2** in this case, for example, finds that `valence` rather than `log_loudness` was the most important feature, with respect to the subset of the feature matrix that it was given."
      ]
    },
    {
      "cell_type": "code",
      "execution_count": null,
      "metadata": {
        "id": "9rxZxbzXTADM"
      },
      "outputs": [],
      "source": []
    }
  ],
  "metadata": {
    "colab": {
      "provenance": []
    },
    "kernelspec": {
      "display_name": "Python 3",
      "language": "python",
      "name": "python3"
    },
    "language_info": {
      "codemirror_mode": {
        "name": "ipython",
        "version": 3
      },
      "file_extension": ".py",
      "mimetype": "text/x-python",
      "name": "python",
      "nbconvert_exporter": "python",
      "pygments_lexer": "ipython3",
      "version": "3.11.5"
    }
  },
  "nbformat": 4,
  "nbformat_minor": 0
}
