{
  "cells": [
    {
      "cell_type": "raw",
      "metadata": {
        "id": "FtkxanVo-N2L"
      },
      "source": [
        "---\n",
        "title: \"Feature Selection in Python\"\n",
        "date: last-modified\n",
        "format:\n",
        "  html:\n",
        "    embed-resources: true\n",
        "categories:\n",
        "  - \"Extra Writeups\"\n",
        "metadata-files:\n",
        "  - \"../../_doc-meta.yml\"\n",
        "---"
      ]
    },
    {
      "cell_type": "markdown",
      "metadata": {},
      "source": [
        "::: {.callout-note title=\"Colab Link\"}\n",
        "\n",
        "<center>\n",
        "\n",
        "[![](images/colab-badge.svg)<br>Click here to **open in Colab**](https://colab.research.google.com/drive/125YQ7Wqo5vQG4ko3NqUs8EvYU6hmbEul){target=\"_blank\"}\n",
        "\n",
        "</center>\n",
        "\n",
        ":::"
      ]
    },
    {
      "cell_type": "markdown",
      "metadata": {
        "id": "fAVY6u0Jc38K"
      },
      "source": [
        "Since my last two data adventures were focused on <a href='https://jjacobs.me/dsan5000/463a01339cf0f456ba54a1849df50d1a22c247e3/writeups/data-cleaning/clean_data.html' target='_blank'>public health data</a> and <a href='https://jjacobs.me/dsan5000/463a01339cf0f456ba54a1849df50d1a22c247e3/writeups/eda-seaborn/THOR_EDA_with_Seaborn.html' target='_blank'>international relations data</a>, this week I'm going to focus on the topic that is tied for the most common topic students are doing for their projects, namely, **sports data**!\n",
        "\n",
        "This time, rather than worrying about cleaning the data or exploring the data, we will \"fast forward\" to a particular task: **using** the data to accomplish a task, namely, **predicting success in the NBA (National Basketball Association)**.\n",
        "\n",
        "I chose the NBA because, unlike the NFL (National Football League) and the MLB (Major League Baseball) for example, the NBA is popular both inside **and** outside the US. But, if you don't know anything about the NBA don't worry, I will do my best to explain what's going on at each point in the lab (and, as we'll see in a moment, there is a **codebook** providing full explanations for each variable)"
      ]
    },
    {
      "cell_type": "markdown",
      "metadata": {
        "id": "-u-OzR_r-QKd"
      },
      "source": [
        "## (1) The Dataset\n",
        "\n",
        "For this lab we'll be analyzing a **panel dataset** where each row represents a **(team, season) pair**.\n",
        "\n",
        "A complicating factor in analyzing NBA data is that, unlike other sports like baseball, each NBA season spans **two years**: meaning, for example, <a href='https://en.wikipedia.org/wiki/2022%E2%80%9323_NBA_season' target='_blank'>the most recent season</a> began in 2022 but ended in 2023. To make things easier for us, then, rather than recording seasons as two-year spans, I have simplified the dataset so that the **year** for each row represents the year in which the **playoffs** for that season occurred. To make this as clear as possible when examining the dataset, I've named the year variable `po_year` (for **playoff year**).\n",
        "\n",
        "Like we did for the <a href='https://jjacobs.me/dsan5000/463a01339cf0f456ba54a1849df50d1a22c247e3/writeups/eda-seaborn/THOR_EDA_with_Seaborn.html' target='_blank'>exploratory data analysis lab</a>, let's first **download the dataset using the `requests` library** to the same folder as this notebook, so that we don't have to re-download the dataset every time we want to use it (meaning, once you run the following cell **once**, you don't need to run it again, even if you restart the notebook)"
      ]
    },
    {
      "cell_type": "code",
      "execution_count": 1,
      "metadata": {
        "id": "VfN5QxYg-Ir0"
      },
      "outputs": [],
      "source": [
        "import requests\n",
        "data_fname = \"nba_team_data.csv\"\n",
        "nba_url = f\"https://jpj.georgetown.domains/dsan5000-scratch/feature-selection/{data_fname}\"\n",
        "with open(data_fname, 'wb') as outfile:\n",
        "  data_content = requests.get(nba_url, stream=True).content\n",
        "  outfile.write(data_content)"
      ]
    },
    {
      "cell_type": "markdown",
      "metadata": {
        "id": "M3uvYVWedzDK"
      },
      "source": [
        "And one more cell, this time downloading the **codebook** for the dataset:"
      ]
    },
    {
      "cell_type": "code",
      "execution_count": 2,
      "metadata": {
        "id": "UK9Kx_N9d2Vf"
      },
      "outputs": [],
      "source": [
        "codebook_fname = \"nba_team_codebook.csv\"\n",
        "codebook_url = f\"https://jpj.georgetown.domains/dsan5000-scratch/feature-selection/{codebook_fname}\"\n",
        "with open(codebook_fname, 'wb') as outfile:\n",
        "  codebook_content = requests.get(codebook_url, stream=True).content\n",
        "  outfile.write(codebook_content)"
      ]
    },
    {
      "cell_type": "markdown",
      "metadata": {
        "id": "IAaaU8Jz_WHZ"
      },
      "source": [
        "You should now have a file called `nba_team_data.csv` within the same folder as this notebook. Let's open the data file using Pandas and examine the first few rows:"
      ]
    },
    {
      "cell_type": "code",
      "execution_count": 3,
      "metadata": {
        "id": "ZbfIoEMf_Tfc"
      },
      "outputs": [],
      "source": [
        "import pandas as pd\n",
        "import numpy as np"
      ]
    },
    {
      "cell_type": "code",
      "execution_count": 4,
      "metadata": {
        "colab": {
          "base_uri": "https://localhost:8080/",
          "height": 313
        },
        "id": "uaXuxJPb_lQ1",
        "outputId": "02087e30-1e03-4728-b50c-db54a61b3413"
      },
      "outputs": [
        {
          "data": {
            "text/html": [
              "<div>\n",
              "<style scoped>\n",
              "    .dataframe tbody tr th:only-of-type {\n",
              "        vertical-align: middle;\n",
              "    }\n",
              "\n",
              "    .dataframe tbody tr th {\n",
              "        vertical-align: top;\n",
              "    }\n",
              "\n",
              "    .dataframe thead th {\n",
              "        text-align: right;\n",
              "    }\n",
              "</style>\n",
              "<table border=\"1\" class=\"dataframe\">\n",
              "  <thead>\n",
              "    <tr style=\"text-align: right;\">\n",
              "      <th></th>\n",
              "      <th>year_team</th>\n",
              "      <th>po_year</th>\n",
              "      <th>team_full</th>\n",
              "      <th>mean_age</th>\n",
              "      <th>mean_height</th>\n",
              "      <th>mean_weight</th>\n",
              "      <th>PtsSeason</th>\n",
              "      <th>OppPtsSeason</th>\n",
              "      <th>PtsDiff</th>\n",
              "      <th>Reb</th>\n",
              "      <th>Ast</th>\n",
              "      <th>Stl</th>\n",
              "      <th>Blk</th>\n",
              "      <th>To</th>\n",
              "      <th>Pf</th>\n",
              "      <th>Dreb</th>\n",
              "      <th>Oreb</th>\n",
              "      <th>playoffs</th>\n",
              "    </tr>\n",
              "  </thead>\n",
              "  <tbody>\n",
              "    <tr>\n",
              "      <th>0</th>\n",
              "      <td>1998_Atlanta Hawks</td>\n",
              "      <td>1998</td>\n",
              "      <td>Atlanta Hawks</td>\n",
              "      <td>28.250000</td>\n",
              "      <td>199.231250</td>\n",
              "      <td>99.166551</td>\n",
              "      <td>95.9</td>\n",
              "      <td>92.3</td>\n",
              "      <td>3.6</td>\n",
              "      <td>42.8</td>\n",
              "      <td>19.0</td>\n",
              "      <td>8.0</td>\n",
              "      <td>5.9</td>\n",
              "      <td>14.0</td>\n",
              "      <td>20.5</td>\n",
              "      <td>29.5</td>\n",
              "      <td>13.4</td>\n",
              "      <td>True</td>\n",
              "    </tr>\n",
              "    <tr>\n",
              "      <th>1</th>\n",
              "      <td>1998_Boston Celtics</td>\n",
              "      <td>1998</td>\n",
              "      <td>Boston Celtics</td>\n",
              "      <td>25.857143</td>\n",
              "      <td>200.297143</td>\n",
              "      <td>95.027524</td>\n",
              "      <td>95.9</td>\n",
              "      <td>98.5</td>\n",
              "      <td>-2.6</td>\n",
              "      <td>39.5</td>\n",
              "      <td>22.1</td>\n",
              "      <td>12.0</td>\n",
              "      <td>4.5</td>\n",
              "      <td>15.6</td>\n",
              "      <td>26.9</td>\n",
              "      <td>24.9</td>\n",
              "      <td>14.6</td>\n",
              "      <td>False</td>\n",
              "    </tr>\n",
              "    <tr>\n",
              "      <th>2</th>\n",
              "      <td>1998_Charlotte Hornets</td>\n",
              "      <td>1998</td>\n",
              "      <td>Charlotte Hornets</td>\n",
              "      <td>29.733333</td>\n",
              "      <td>200.829333</td>\n",
              "      <td>101.755805</td>\n",
              "      <td>96.6</td>\n",
              "      <td>94.6</td>\n",
              "      <td>2.0</td>\n",
              "      <td>40.1</td>\n",
              "      <td>23.4</td>\n",
              "      <td>8.2</td>\n",
              "      <td>3.7</td>\n",
              "      <td>14.4</td>\n",
              "      <td>21.4</td>\n",
              "      <td>28.4</td>\n",
              "      <td>11.7</td>\n",
              "      <td>True</td>\n",
              "    </tr>\n",
              "    <tr>\n",
              "      <th>3</th>\n",
              "      <td>1998_Chicago Bulls</td>\n",
              "      <td>1998</td>\n",
              "      <td>Chicago Bulls</td>\n",
              "      <td>30.600000</td>\n",
              "      <td>201.337333</td>\n",
              "      <td>103.691131</td>\n",
              "      <td>96.7</td>\n",
              "      <td>89.6</td>\n",
              "      <td>7.1</td>\n",
              "      <td>44.1</td>\n",
              "      <td>23.1</td>\n",
              "      <td>8.6</td>\n",
              "      <td>4.3</td>\n",
              "      <td>13.0</td>\n",
              "      <td>21.1</td>\n",
              "      <td>29.2</td>\n",
              "      <td>14.9</td>\n",
              "      <td>True</td>\n",
              "    </tr>\n",
              "    <tr>\n",
              "      <th>4</th>\n",
              "      <td>1998_Cleveland Cavaliers</td>\n",
              "      <td>1998</td>\n",
              "      <td>Cleveland Cavaliers</td>\n",
              "      <td>26.375000</td>\n",
              "      <td>199.231250</td>\n",
              "      <td>96.756844</td>\n",
              "      <td>92.5</td>\n",
              "      <td>89.8</td>\n",
              "      <td>2.7</td>\n",
              "      <td>39.8</td>\n",
              "      <td>22.9</td>\n",
              "      <td>9.9</td>\n",
              "      <td>5.0</td>\n",
              "      <td>16.6</td>\n",
              "      <td>23.7</td>\n",
              "      <td>28.2</td>\n",
              "      <td>11.6</td>\n",
              "      <td>True</td>\n",
              "    </tr>\n",
              "  </tbody>\n",
              "</table>\n",
              "</div>"
            ],
            "text/plain": [
              "                  year_team  po_year            team_full   mean_age  \\\n",
              "0        1998_Atlanta Hawks     1998        Atlanta Hawks  28.250000   \n",
              "1       1998_Boston Celtics     1998       Boston Celtics  25.857143   \n",
              "2    1998_Charlotte Hornets     1998    Charlotte Hornets  29.733333   \n",
              "3        1998_Chicago Bulls     1998        Chicago Bulls  30.600000   \n",
              "4  1998_Cleveland Cavaliers     1998  Cleveland Cavaliers  26.375000   \n",
              "\n",
              "   mean_height  mean_weight  PtsSeason  OppPtsSeason  PtsDiff   Reb   Ast  \\\n",
              "0   199.231250    99.166551       95.9          92.3      3.6  42.8  19.0   \n",
              "1   200.297143    95.027524       95.9          98.5     -2.6  39.5  22.1   \n",
              "2   200.829333   101.755805       96.6          94.6      2.0  40.1  23.4   \n",
              "3   201.337333   103.691131       96.7          89.6      7.1  44.1  23.1   \n",
              "4   199.231250    96.756844       92.5          89.8      2.7  39.8  22.9   \n",
              "\n",
              "    Stl  Blk    To    Pf  Dreb  Oreb  playoffs  \n",
              "0   8.0  5.9  14.0  20.5  29.5  13.4      True  \n",
              "1  12.0  4.5  15.6  26.9  24.9  14.6     False  \n",
              "2   8.2  3.7  14.4  21.4  28.4  11.7      True  \n",
              "3   8.6  4.3  13.0  21.1  29.2  14.9      True  \n",
              "4   9.9  5.0  16.6  23.7  28.2  11.6      True  "
            ]
          },
          "execution_count": 4,
          "metadata": {},
          "output_type": "execute_result"
        }
      ],
      "source": [
        "nba_df = pd.read_csv(\"nba_team_data.csv\")\n",
        "nba_df.head()"
      ]
    },
    {
      "cell_type": "markdown",
      "metadata": {
        "id": "0DrYfrj7_8NL"
      },
      "source": [
        "As we've talked about in previous lectures, you can use your Data Terminator vision to begin understanding \"what's going on\" in this dataset by\n",
        "\n",
        "1. Sweeping your eyes over each **row**, to figure out what the rows represent,\n",
        "2. Sweeping your eyes over each **column**, to figure out what the columns represent,\n",
        "3. Examining whether there is a **unique ID** for each observation, and then\n",
        "4. (If the data is already tidy) looking at individual **values** to determine what they represent: for example, by looking at a value within the `mean_age` column, can we infer what the **units** of this column are? (In this case, the answer is **years**)."
      ]
    },
    {
      "cell_type": "markdown",
      "metadata": {
        "id": "OYTilKDReHvG"
      },
      "source": [
        "Now let's look at the **codebook**:"
      ]
    },
    {
      "cell_type": "code",
      "execution_count": 5,
      "metadata": {
        "colab": {
          "base_uri": "https://localhost:8080/",
          "height": 614
        },
        "id": "hgJDabsxeJSD",
        "outputId": "f03de50d-6c54-4d10-94a8-7ef633646cbc"
      },
      "outputs": [
        {
          "data": {
            "text/html": [
              "<div>\n",
              "<style scoped>\n",
              "    .dataframe tbody tr th:only-of-type {\n",
              "        vertical-align: middle;\n",
              "    }\n",
              "\n",
              "    .dataframe tbody tr th {\n",
              "        vertical-align: top;\n",
              "    }\n",
              "\n",
              "    .dataframe thead th {\n",
              "        text-align: right;\n",
              "    }\n",
              "</style>\n",
              "<table border=\"1\" class=\"dataframe\">\n",
              "  <thead>\n",
              "    <tr style=\"text-align: right;\">\n",
              "      <th></th>\n",
              "      <th>variable</th>\n",
              "      <th>description</th>\n",
              "      <th>type</th>\n",
              "    </tr>\n",
              "  </thead>\n",
              "  <tbody>\n",
              "    <tr>\n",
              "      <th>0</th>\n",
              "      <td>year_team</td>\n",
              "      <td>Unique identifier of the form {po_year}_{team_...</td>\n",
              "      <td>str</td>\n",
              "    </tr>\n",
              "    <tr>\n",
              "      <th>1</th>\n",
              "      <td>po_year</td>\n",
              "      <td>The year that the season's playoffs took place...</td>\n",
              "      <td>int</td>\n",
              "    </tr>\n",
              "    <tr>\n",
              "      <th>2</th>\n",
              "      <td>team_full</td>\n",
              "      <td>Full name of the team</td>\n",
              "      <td>str</td>\n",
              "    </tr>\n",
              "    <tr>\n",
              "      <th>3</th>\n",
              "      <td>mean_age</td>\n",
              "      <td>Mean age of the team's members that year, in y...</td>\n",
              "      <td>float</td>\n",
              "    </tr>\n",
              "    <tr>\n",
              "      <th>4</th>\n",
              "      <td>mean_height</td>\n",
              "      <td>Mean height of the team's members that year, i...</td>\n",
              "      <td>float</td>\n",
              "    </tr>\n",
              "    <tr>\n",
              "      <th>5</th>\n",
              "      <td>mean_weight</td>\n",
              "      <td>Mean weight of the team's members that year, i...</td>\n",
              "      <td>float</td>\n",
              "    </tr>\n",
              "    <tr>\n",
              "      <th>6</th>\n",
              "      <td>PtsSeason</td>\n",
              "      <td>The team's average points per game that year</td>\n",
              "      <td>float</td>\n",
              "    </tr>\n",
              "    <tr>\n",
              "      <th>7</th>\n",
              "      <td>OppPtsSeason</td>\n",
              "      <td>The average number of points scored by the tea...</td>\n",
              "      <td>float</td>\n",
              "    </tr>\n",
              "    <tr>\n",
              "      <th>8</th>\n",
              "      <td>PtsDiff</td>\n",
              "      <td>The difference between PtsSeason and OppPtsSeason</td>\n",
              "      <td>float</td>\n",
              "    </tr>\n",
              "    <tr>\n",
              "      <th>9</th>\n",
              "      <td>Reb</td>\n",
              "      <td>The team's average number of rebounds per game...</td>\n",
              "      <td>float</td>\n",
              "    </tr>\n",
              "    <tr>\n",
              "      <th>10</th>\n",
              "      <td>Ast</td>\n",
              "      <td>The team's average number of assists per game ...</td>\n",
              "      <td>float</td>\n",
              "    </tr>\n",
              "    <tr>\n",
              "      <th>11</th>\n",
              "      <td>Stl</td>\n",
              "      <td>The team's average number of steals per game t...</td>\n",
              "      <td>float</td>\n",
              "    </tr>\n",
              "    <tr>\n",
              "      <th>12</th>\n",
              "      <td>Blk</td>\n",
              "      <td>The team's average number of blocks per game t...</td>\n",
              "      <td>float</td>\n",
              "    </tr>\n",
              "    <tr>\n",
              "      <th>13</th>\n",
              "      <td>To</td>\n",
              "      <td>The team's average number of turnovers per gam...</td>\n",
              "      <td>float</td>\n",
              "    </tr>\n",
              "    <tr>\n",
              "      <th>14</th>\n",
              "      <td>Pf</td>\n",
              "      <td>The team's average number of personal fouls pe...</td>\n",
              "      <td>float</td>\n",
              "    </tr>\n",
              "    <tr>\n",
              "      <th>15</th>\n",
              "      <td>Dreb</td>\n",
              "      <td>The team's average number of defensive rebound...</td>\n",
              "      <td>float</td>\n",
              "    </tr>\n",
              "    <tr>\n",
              "      <th>16</th>\n",
              "      <td>Oreb</td>\n",
              "      <td>The team's average number of offensive rebound...</td>\n",
              "      <td>float</td>\n",
              "    </tr>\n",
              "    <tr>\n",
              "      <th>17</th>\n",
              "      <td>playoffs</td>\n",
              "      <td>TRUE if the team made the playoffs that year, ...</td>\n",
              "      <td>bool</td>\n",
              "    </tr>\n",
              "  </tbody>\n",
              "</table>\n",
              "</div>"
            ],
            "text/plain": [
              "        variable                                        description   type\n",
              "0      year_team  Unique identifier of the form {po_year}_{team_...    str\n",
              "1        po_year  The year that the season's playoffs took place...    int\n",
              "2      team_full                              Full name of the team    str\n",
              "3       mean_age  Mean age of the team's members that year, in y...  float\n",
              "4    mean_height  Mean height of the team's members that year, i...  float\n",
              "5    mean_weight  Mean weight of the team's members that year, i...  float\n",
              "6      PtsSeason       The team's average points per game that year  float\n",
              "7   OppPtsSeason  The average number of points scored by the tea...  float\n",
              "8        PtsDiff  The difference between PtsSeason and OppPtsSeason  float\n",
              "9            Reb  The team's average number of rebounds per game...  float\n",
              "10           Ast  The team's average number of assists per game ...  float\n",
              "11           Stl  The team's average number of steals per game t...  float\n",
              "12           Blk  The team's average number of blocks per game t...  float\n",
              "13            To  The team's average number of turnovers per gam...  float\n",
              "14            Pf  The team's average number of personal fouls pe...  float\n",
              "15          Dreb  The team's average number of defensive rebound...  float\n",
              "16          Oreb  The team's average number of offensive rebound...  float\n",
              "17      playoffs  TRUE if the team made the playoffs that year, ...   bool"
            ]
          },
          "execution_count": 5,
          "metadata": {},
          "output_type": "execute_result"
        }
      ],
      "source": [
        "codebook_df = pd.read_csv(\"nba_team_codebook.csv\")\n",
        "codebook_df"
      ]
    },
    {
      "cell_type": "markdown",
      "metadata": {
        "id": "-T2yCHgIxfBx"
      },
      "source": [
        "We can use this codebook to obtain a **description** for any variable we don't understand. For example, if we don't know what the `OppPtsSeason` variable means, we can use Pandas' `.loc[]` syntax to obtain just the row in the codebook corresponding to this variable, and examine the full `description` value in this row:"
      ]
    },
    {
      "cell_type": "code",
      "execution_count": 6,
      "metadata": {
        "colab": {
          "base_uri": "https://localhost:8080/"
        },
        "id": "hS5V4HFJx627",
        "outputId": "d889e6c1-1a9a-4761-a516-56d7f1b33796"
      },
      "outputs": [
        {
          "data": {
            "text/plain": [
              "7    The average number of points scored by the tea...\n",
              "Name: description, dtype: object"
            ]
          },
          "execution_count": 6,
          "metadata": {},
          "output_type": "execute_result"
        }
      ],
      "source": [
        "var_row = codebook_df.loc[codebook_df['variable'] == \"OppPtsSeason\",\"description\"]\n",
        "var_row"
      ]
    },
    {
      "cell_type": "markdown",
      "metadata": {
        "id": "nBfgEHCXzG6C"
      },
      "source": [
        "Note that this is not entirely satisfactory, since the full `description` value is cut off---this happens because the `.loc[]` syntax returns a `pd.Series` object containing **all matches**. In this case, since we know there is only going to be **one** match, we can take the result of the `.loc[]` call and extract just the first (and only) match by extracting `.iloc[0]`:"
      ]
    },
    {
      "cell_type": "code",
      "execution_count": 7,
      "metadata": {
        "colab": {
          "base_uri": "https://localhost:8080/",
          "height": 36
        },
        "id": "xNYulKgEzHf5",
        "outputId": "2a6cb56e-c82e-44d0-ce5e-c3463de7bbb2"
      },
      "outputs": [
        {
          "data": {
            "text/plain": [
              "\"The average number of points scored by the team's opponents that year\""
            ]
          },
          "execution_count": 7,
          "metadata": {},
          "output_type": "execute_result"
        }
      ],
      "source": [
        "var_row.iloc[0]"
      ]
    },
    {
      "cell_type": "markdown",
      "metadata": {
        "id": "kmtB5a5j5oJV"
      },
      "source": [
        "And we see that now, rather than a `pd.Series` object, we have the full **string** description of the variable we wanted a description for."
      ]
    },
    {
      "cell_type": "markdown",
      "metadata": {
        "id": "6BkzcCra59Bq"
      },
      "source": [
        "> **Quick aside: `DataFrame` to `dict`**<br><br>Given how much work it took just now to extract the description for `OppPtsSeason`, you may have a hunch that a `pd.DataFrame` is probably **not** the most efficient format for storing a codebook.<br><br>For this reason, when I am working with codebooks, I usually convert the `pd.DataFrame` containing the codebook into a more straightforward **Python dictionary** object."
      ]
    },
    {
      "cell_type": "code",
      "execution_count": 8,
      "metadata": {
        "id": "2GQgmEXR51Z5"
      },
      "outputs": [],
      "source": [
        "codebook_dict = codebook_df.set_index('variable').to_dict(orient='index')"
      ]
    },
    {
      "cell_type": "markdown",
      "metadata": {
        "id": "9l9xHtjY7VlI"
      },
      "source": [
        "> Now we can more easily check the information we have about a variable: `codebook_dict` is a set of key-value pairs, where the keys are the **variable names** and the values are the **information** we have about that variable. Now, for example, to access all of the information we have about the `Blk` variable, we can just run the following line of code:"
      ]
    },
    {
      "cell_type": "code",
      "execution_count": 9,
      "metadata": {
        "colab": {
          "base_uri": "https://localhost:8080/"
        },
        "id": "vFFMthHf7x1N",
        "outputId": "069af334-1f88-4045-b865-4551b9b4e195"
      },
      "outputs": [
        {
          "data": {
            "text/plain": [
              "{'description': \"The team's average number of blocks per game that year\",\n",
              " 'type': 'float'}"
            ]
          },
          "execution_count": 9,
          "metadata": {},
          "output_type": "execute_result"
        }
      ],
      "source": [
        "codebook_dict['Blk']"
      ]
    },
    {
      "cell_type": "markdown",
      "metadata": {
        "id": "TELeRj2jBEDP"
      },
      "source": [
        "## (2) The Supervised Learning Task\n",
        "\n",
        "Now that we have a feel for the data, I can reveal the **task** we're hoping to accomplish by examining this data:\n",
        "\n",
        "> **Our aim is to develop a *model* of team-level \"success\" in the NBA, by finding what *properties* of a (team,season) pair best predict whether or not the team *makes the playoffs* that year.**\n",
        "\n",
        "We can gain some initial intuition around this task by, for example, creating a **cross-tabulation** showing how particular variables differ between teams that **did** and **did not** make the playoffs in a given year.\n",
        "\n",
        "*(Note that this is **not** a very effective way of using cross-tabulation, since it is very rare for two (team,season) pairs to have the exact same average number of points, but it suffices here to show a general pattern)*"
      ]
    },
    {
      "cell_type": "code",
      "execution_count": 10,
      "metadata": {
        "colab": {
          "base_uri": "https://localhost:8080/",
          "height": 455
        },
        "id": "yVM-Qc6x_566",
        "outputId": "85ca8dfd-9b77-490d-ab0e-a0d44fe77f3b"
      },
      "outputs": [
        {
          "data": {
            "text/html": [
              "<div>\n",
              "<style scoped>\n",
              "    .dataframe tbody tr th:only-of-type {\n",
              "        vertical-align: middle;\n",
              "    }\n",
              "\n",
              "    .dataframe tbody tr th {\n",
              "        vertical-align: top;\n",
              "    }\n",
              "\n",
              "    .dataframe thead th {\n",
              "        text-align: right;\n",
              "    }\n",
              "</style>\n",
              "<table border=\"1\" class=\"dataframe\">\n",
              "  <thead>\n",
              "    <tr style=\"text-align: right;\">\n",
              "      <th>playoffs</th>\n",
              "      <th>False</th>\n",
              "      <th>True</th>\n",
              "    </tr>\n",
              "    <tr>\n",
              "      <th>PtsSeason</th>\n",
              "      <th></th>\n",
              "      <th></th>\n",
              "    </tr>\n",
              "  </thead>\n",
              "  <tbody>\n",
              "    <tr>\n",
              "      <th>81.9</th>\n",
              "      <td>1</td>\n",
              "      <td>0</td>\n",
              "    </tr>\n",
              "    <tr>\n",
              "      <th>84.2</th>\n",
              "      <td>1</td>\n",
              "      <td>0</td>\n",
              "    </tr>\n",
              "    <tr>\n",
              "      <th>84.8</th>\n",
              "      <td>1</td>\n",
              "      <td>0</td>\n",
              "    </tr>\n",
              "    <tr>\n",
              "      <th>85.4</th>\n",
              "      <td>1</td>\n",
              "      <td>0</td>\n",
              "    </tr>\n",
              "    <tr>\n",
              "      <th>85.6</th>\n",
              "      <td>1</td>\n",
              "      <td>0</td>\n",
              "    </tr>\n",
              "    <tr>\n",
              "      <th>...</th>\n",
              "      <td>...</td>\n",
              "      <td>...</td>\n",
              "    </tr>\n",
              "    <tr>\n",
              "      <th>117.0</th>\n",
              "      <td>0</td>\n",
              "      <td>1</td>\n",
              "    </tr>\n",
              "    <tr>\n",
              "      <th>117.7</th>\n",
              "      <td>0</td>\n",
              "      <td>1</td>\n",
              "    </tr>\n",
              "    <tr>\n",
              "      <th>117.8</th>\n",
              "      <td>0</td>\n",
              "      <td>1</td>\n",
              "    </tr>\n",
              "    <tr>\n",
              "      <th>118.1</th>\n",
              "      <td>0</td>\n",
              "      <td>1</td>\n",
              "    </tr>\n",
              "    <tr>\n",
              "      <th>118.7</th>\n",
              "      <td>0</td>\n",
              "      <td>1</td>\n",
              "    </tr>\n",
              "  </tbody>\n",
              "</table>\n",
              "<p>245 rows × 2 columns</p>\n",
              "</div>"
            ],
            "text/plain": [
              "playoffs   False  True \n",
              "PtsSeason              \n",
              "81.9           1      0\n",
              "84.2           1      0\n",
              "84.8           1      0\n",
              "85.4           1      0\n",
              "85.6           1      0\n",
              "...          ...    ...\n",
              "117.0          0      1\n",
              "117.7          0      1\n",
              "117.8          0      1\n",
              "118.1          0      1\n",
              "118.7          0      1\n",
              "\n",
              "[245 rows x 2 columns]"
            ]
          },
          "execution_count": 10,
          "metadata": {},
          "output_type": "execute_result"
        }
      ],
      "source": [
        "pd.crosstab(nba_df['PtsSeason'], nba_df['playoffs'])"
      ]
    },
    {
      "cell_type": "markdown",
      "metadata": {
        "id": "vSPzWDd5DoBW"
      },
      "source": [
        "From this cross-tabulation, we can already see an interesting aspect of the data: looking at the **first five rows** of the cross-tabulation, we can see that\n",
        "\n",
        "> For every (team,season) pair where the team scored **85.6 points per game or less**, that team **failed to make the playoffs** in that season.\n",
        "\n",
        "Then, looking at the **last five rows** of the cross-tabulation, we can see that\n",
        "\n",
        "> For every (team,season) pair where the team scored **117.0 points per game or more**, that team **successfully made the playoffs** in that season.\n",
        "\n",
        "Therefore, if we consider this as an EDA step, we may start to formulate a hypothesis that **scoring more points per game increases the likelihood of making the playoffs**. This may seem like an intuitive/obvious point, but remember that the point of EDA is for us to **probe** and **challenge** our preexisting (**prior!**) intuitions, seeing whether or not they hold or fail to hold when we actually look at the data, and updating our priors accordingly.\n",
        "\n",
        "Now, to make sure that we're not relying on **engineer's induction** here---meaning, to check whether this pattern that we see in the first 5 and last 5 rows actually holds across the entire dataset---let's make a new dummy variable `above_mean_pts` which is equal to **1** if the team's points per game in a given season was **above** the mean points per game across all teams in that season, and equal to **0** otherwise.\n",
        "\n",
        "As a way to help us compute this variable, and to show the usefulness of a topic from lecture, let's first compute the **$z$-score** for each (team,season) pair: that is, compute a new column containing the score $z_{i,t}$ for team $i$ in season $t$ as\n",
        "\n",
        "$$\n",
        "z_{i,t} = \\frac{\\texttt{pts}_{i,t} - \\mu_t}{\\sigma_t},\n",
        "$$\n",
        "\n",
        "where $\\mu_t$ represents the **mean** of all teams' points per game stat in season $t$, and $\\sigma_t$ represents the **standard deviation** of all teams' points per game stat in season $t$:"
      ]
    },
    {
      "cell_type": "code",
      "execution_count": 11,
      "metadata": {
        "id": "WKTIRfLuHB4f"
      },
      "outputs": [],
      "source": [
        "compute_z_score = lambda x: (x - x.mean()) / x.std()\n",
        "nba_df['season_pts_z_score'] = nba_df.groupby('po_year')['PtsSeason'].transform(compute_z_score)"
      ]
    },
    {
      "cell_type": "code",
      "execution_count": 12,
      "metadata": {
        "id": "WjhhcHlQDE8A"
      },
      "outputs": [],
      "source": [
        "#compute_z_score = lambda x: (x - x.mean()) / x.std()\n",
        "#nba_df.insert(0, 'pts_z_score', nba_df.groupby('po_year')['PtsSeason'].transform(compute_z_score))"
      ]
    },
    {
      "cell_type": "code",
      "execution_count": 13,
      "metadata": {
        "colab": {
          "base_uri": "https://localhost:8080/",
          "height": 313
        },
        "id": "jAkSCs46GR3V",
        "outputId": "7563f70c-1e7e-45ac-f85f-60343174c9fa"
      },
      "outputs": [
        {
          "data": {
            "text/html": [
              "<div>\n",
              "<style scoped>\n",
              "    .dataframe tbody tr th:only-of-type {\n",
              "        vertical-align: middle;\n",
              "    }\n",
              "\n",
              "    .dataframe tbody tr th {\n",
              "        vertical-align: top;\n",
              "    }\n",
              "\n",
              "    .dataframe thead th {\n",
              "        text-align: right;\n",
              "    }\n",
              "</style>\n",
              "<table border=\"1\" class=\"dataframe\">\n",
              "  <thead>\n",
              "    <tr style=\"text-align: right;\">\n",
              "      <th></th>\n",
              "      <th>year_team</th>\n",
              "      <th>po_year</th>\n",
              "      <th>team_full</th>\n",
              "      <th>mean_age</th>\n",
              "      <th>mean_height</th>\n",
              "      <th>mean_weight</th>\n",
              "      <th>PtsSeason</th>\n",
              "      <th>OppPtsSeason</th>\n",
              "      <th>PtsDiff</th>\n",
              "      <th>Reb</th>\n",
              "      <th>Ast</th>\n",
              "      <th>Stl</th>\n",
              "      <th>Blk</th>\n",
              "      <th>To</th>\n",
              "      <th>Pf</th>\n",
              "      <th>Dreb</th>\n",
              "      <th>Oreb</th>\n",
              "      <th>playoffs</th>\n",
              "      <th>season_pts_z_score</th>\n",
              "    </tr>\n",
              "  </thead>\n",
              "  <tbody>\n",
              "    <tr>\n",
              "      <th>0</th>\n",
              "      <td>1998_Atlanta Hawks</td>\n",
              "      <td>1998</td>\n",
              "      <td>Atlanta Hawks</td>\n",
              "      <td>28.250000</td>\n",
              "      <td>199.231250</td>\n",
              "      <td>99.166551</td>\n",
              "      <td>95.9</td>\n",
              "      <td>92.3</td>\n",
              "      <td>3.6</td>\n",
              "      <td>42.8</td>\n",
              "      <td>19.0</td>\n",
              "      <td>8.0</td>\n",
              "      <td>5.9</td>\n",
              "      <td>14.0</td>\n",
              "      <td>20.5</td>\n",
              "      <td>29.5</td>\n",
              "      <td>13.4</td>\n",
              "      <td>True</td>\n",
              "      <td>0.082901</td>\n",
              "    </tr>\n",
              "    <tr>\n",
              "      <th>1</th>\n",
              "      <td>1998_Boston Celtics</td>\n",
              "      <td>1998</td>\n",
              "      <td>Boston Celtics</td>\n",
              "      <td>25.857143</td>\n",
              "      <td>200.297143</td>\n",
              "      <td>95.027524</td>\n",
              "      <td>95.9</td>\n",
              "      <td>98.5</td>\n",
              "      <td>-2.6</td>\n",
              "      <td>39.5</td>\n",
              "      <td>22.1</td>\n",
              "      <td>12.0</td>\n",
              "      <td>4.5</td>\n",
              "      <td>15.6</td>\n",
              "      <td>26.9</td>\n",
              "      <td>24.9</td>\n",
              "      <td>14.6</td>\n",
              "      <td>False</td>\n",
              "      <td>0.082901</td>\n",
              "    </tr>\n",
              "    <tr>\n",
              "      <th>2</th>\n",
              "      <td>1998_Charlotte Hornets</td>\n",
              "      <td>1998</td>\n",
              "      <td>Charlotte Hornets</td>\n",
              "      <td>29.733333</td>\n",
              "      <td>200.829333</td>\n",
              "      <td>101.755805</td>\n",
              "      <td>96.6</td>\n",
              "      <td>94.6</td>\n",
              "      <td>2.0</td>\n",
              "      <td>40.1</td>\n",
              "      <td>23.4</td>\n",
              "      <td>8.2</td>\n",
              "      <td>3.7</td>\n",
              "      <td>14.4</td>\n",
              "      <td>21.4</td>\n",
              "      <td>28.4</td>\n",
              "      <td>11.7</td>\n",
              "      <td>True</td>\n",
              "      <td>0.261932</td>\n",
              "    </tr>\n",
              "    <tr>\n",
              "      <th>3</th>\n",
              "      <td>1998_Chicago Bulls</td>\n",
              "      <td>1998</td>\n",
              "      <td>Chicago Bulls</td>\n",
              "      <td>30.600000</td>\n",
              "      <td>201.337333</td>\n",
              "      <td>103.691131</td>\n",
              "      <td>96.7</td>\n",
              "      <td>89.6</td>\n",
              "      <td>7.1</td>\n",
              "      <td>44.1</td>\n",
              "      <td>23.1</td>\n",
              "      <td>8.6</td>\n",
              "      <td>4.3</td>\n",
              "      <td>13.0</td>\n",
              "      <td>21.1</td>\n",
              "      <td>29.2</td>\n",
              "      <td>14.9</td>\n",
              "      <td>True</td>\n",
              "      <td>0.287508</td>\n",
              "    </tr>\n",
              "    <tr>\n",
              "      <th>4</th>\n",
              "      <td>1998_Cleveland Cavaliers</td>\n",
              "      <td>1998</td>\n",
              "      <td>Cleveland Cavaliers</td>\n",
              "      <td>26.375000</td>\n",
              "      <td>199.231250</td>\n",
              "      <td>96.756844</td>\n",
              "      <td>92.5</td>\n",
              "      <td>89.8</td>\n",
              "      <td>2.7</td>\n",
              "      <td>39.8</td>\n",
              "      <td>22.9</td>\n",
              "      <td>9.9</td>\n",
              "      <td>5.0</td>\n",
              "      <td>16.6</td>\n",
              "      <td>23.7</td>\n",
              "      <td>28.2</td>\n",
              "      <td>11.6</td>\n",
              "      <td>True</td>\n",
              "      <td>-0.786678</td>\n",
              "    </tr>\n",
              "  </tbody>\n",
              "</table>\n",
              "</div>"
            ],
            "text/plain": [
              "                  year_team  po_year            team_full   mean_age  \\\n",
              "0        1998_Atlanta Hawks     1998        Atlanta Hawks  28.250000   \n",
              "1       1998_Boston Celtics     1998       Boston Celtics  25.857143   \n",
              "2    1998_Charlotte Hornets     1998    Charlotte Hornets  29.733333   \n",
              "3        1998_Chicago Bulls     1998        Chicago Bulls  30.600000   \n",
              "4  1998_Cleveland Cavaliers     1998  Cleveland Cavaliers  26.375000   \n",
              "\n",
              "   mean_height  mean_weight  PtsSeason  OppPtsSeason  PtsDiff   Reb   Ast  \\\n",
              "0   199.231250    99.166551       95.9          92.3      3.6  42.8  19.0   \n",
              "1   200.297143    95.027524       95.9          98.5     -2.6  39.5  22.1   \n",
              "2   200.829333   101.755805       96.6          94.6      2.0  40.1  23.4   \n",
              "3   201.337333   103.691131       96.7          89.6      7.1  44.1  23.1   \n",
              "4   199.231250    96.756844       92.5          89.8      2.7  39.8  22.9   \n",
              "\n",
              "    Stl  Blk    To    Pf  Dreb  Oreb  playoffs  season_pts_z_score  \n",
              "0   8.0  5.9  14.0  20.5  29.5  13.4      True            0.082901  \n",
              "1  12.0  4.5  15.6  26.9  24.9  14.6     False            0.082901  \n",
              "2   8.2  3.7  14.4  21.4  28.4  11.7      True            0.261932  \n",
              "3   8.6  4.3  13.0  21.1  29.2  14.9      True            0.287508  \n",
              "4   9.9  5.0  16.6  23.7  28.2  11.6      True           -0.786678  "
            ]
          },
          "execution_count": 13,
          "metadata": {},
          "output_type": "execute_result"
        }
      ],
      "source": [
        "nba_df.head()"
      ]
    },
    {
      "cell_type": "markdown",
      "metadata": {
        "id": "s7-jUtO_ITwr"
      },
      "source": [
        "Now that we've applied this transformation to `PtsSeason`, given what we know about the $z$-score, we know that teams whose points per game stat was **above the average** for all teams in that season will have a **positive** $z$-score, and teams whose points per game stat was **below the average** will have a **negative** $z$-score. Therefore, we can compute our desired `above_mean_pts` variable by just checking whether or not the $z$-score is positive:"
      ]
    },
    {
      "cell_type": "code",
      "execution_count": 14,
      "metadata": {
        "id": "2robRgmaGy7b"
      },
      "outputs": [],
      "source": [
        "nba_df['above_mean_pts'] = nba_df['season_pts_z_score'] > 0"
      ]
    },
    {
      "cell_type": "code",
      "execution_count": 15,
      "metadata": {
        "colab": {
          "base_uri": "https://localhost:8080/",
          "height": 617
        },
        "id": "1l3DFN6NI2BB",
        "outputId": "202c36ea-dce4-4980-a101-9c9e98d6527a"
      },
      "outputs": [
        {
          "data": {
            "text/html": [
              "<div>\n",
              "<style scoped>\n",
              "    .dataframe tbody tr th:only-of-type {\n",
              "        vertical-align: middle;\n",
              "    }\n",
              "\n",
              "    .dataframe tbody tr th {\n",
              "        vertical-align: top;\n",
              "    }\n",
              "\n",
              "    .dataframe thead th {\n",
              "        text-align: right;\n",
              "    }\n",
              "</style>\n",
              "<table border=\"1\" class=\"dataframe\">\n",
              "  <thead>\n",
              "    <tr style=\"text-align: right;\">\n",
              "      <th></th>\n",
              "      <th>year_team</th>\n",
              "      <th>po_year</th>\n",
              "      <th>team_full</th>\n",
              "      <th>mean_age</th>\n",
              "      <th>mean_height</th>\n",
              "      <th>mean_weight</th>\n",
              "      <th>PtsSeason</th>\n",
              "      <th>OppPtsSeason</th>\n",
              "      <th>PtsDiff</th>\n",
              "      <th>Reb</th>\n",
              "      <th>Ast</th>\n",
              "      <th>Stl</th>\n",
              "      <th>Blk</th>\n",
              "      <th>To</th>\n",
              "      <th>Pf</th>\n",
              "      <th>Dreb</th>\n",
              "      <th>Oreb</th>\n",
              "      <th>playoffs</th>\n",
              "      <th>season_pts_z_score</th>\n",
              "      <th>above_mean_pts</th>\n",
              "    </tr>\n",
              "  </thead>\n",
              "  <tbody>\n",
              "    <tr>\n",
              "      <th>0</th>\n",
              "      <td>1998_Atlanta Hawks</td>\n",
              "      <td>1998</td>\n",
              "      <td>Atlanta Hawks</td>\n",
              "      <td>28.250000</td>\n",
              "      <td>199.231250</td>\n",
              "      <td>99.166551</td>\n",
              "      <td>95.9</td>\n",
              "      <td>92.3</td>\n",
              "      <td>3.6</td>\n",
              "      <td>42.8</td>\n",
              "      <td>19.0</td>\n",
              "      <td>8.0</td>\n",
              "      <td>5.9</td>\n",
              "      <td>14.0</td>\n",
              "      <td>20.5</td>\n",
              "      <td>29.5</td>\n",
              "      <td>13.4</td>\n",
              "      <td>True</td>\n",
              "      <td>0.082901</td>\n",
              "      <td>True</td>\n",
              "    </tr>\n",
              "    <tr>\n",
              "      <th>1</th>\n",
              "      <td>1998_Boston Celtics</td>\n",
              "      <td>1998</td>\n",
              "      <td>Boston Celtics</td>\n",
              "      <td>25.857143</td>\n",
              "      <td>200.297143</td>\n",
              "      <td>95.027524</td>\n",
              "      <td>95.9</td>\n",
              "      <td>98.5</td>\n",
              "      <td>-2.6</td>\n",
              "      <td>39.5</td>\n",
              "      <td>22.1</td>\n",
              "      <td>12.0</td>\n",
              "      <td>4.5</td>\n",
              "      <td>15.6</td>\n",
              "      <td>26.9</td>\n",
              "      <td>24.9</td>\n",
              "      <td>14.6</td>\n",
              "      <td>False</td>\n",
              "      <td>0.082901</td>\n",
              "      <td>True</td>\n",
              "    </tr>\n",
              "    <tr>\n",
              "      <th>2</th>\n",
              "      <td>1998_Charlotte Hornets</td>\n",
              "      <td>1998</td>\n",
              "      <td>Charlotte Hornets</td>\n",
              "      <td>29.733333</td>\n",
              "      <td>200.829333</td>\n",
              "      <td>101.755805</td>\n",
              "      <td>96.6</td>\n",
              "      <td>94.6</td>\n",
              "      <td>2.0</td>\n",
              "      <td>40.1</td>\n",
              "      <td>23.4</td>\n",
              "      <td>8.2</td>\n",
              "      <td>3.7</td>\n",
              "      <td>14.4</td>\n",
              "      <td>21.4</td>\n",
              "      <td>28.4</td>\n",
              "      <td>11.7</td>\n",
              "      <td>True</td>\n",
              "      <td>0.261932</td>\n",
              "      <td>True</td>\n",
              "    </tr>\n",
              "    <tr>\n",
              "      <th>3</th>\n",
              "      <td>1998_Chicago Bulls</td>\n",
              "      <td>1998</td>\n",
              "      <td>Chicago Bulls</td>\n",
              "      <td>30.600000</td>\n",
              "      <td>201.337333</td>\n",
              "      <td>103.691131</td>\n",
              "      <td>96.7</td>\n",
              "      <td>89.6</td>\n",
              "      <td>7.1</td>\n",
              "      <td>44.1</td>\n",
              "      <td>23.1</td>\n",
              "      <td>8.6</td>\n",
              "      <td>4.3</td>\n",
              "      <td>13.0</td>\n",
              "      <td>21.1</td>\n",
              "      <td>29.2</td>\n",
              "      <td>14.9</td>\n",
              "      <td>True</td>\n",
              "      <td>0.287508</td>\n",
              "      <td>True</td>\n",
              "    </tr>\n",
              "    <tr>\n",
              "      <th>4</th>\n",
              "      <td>1998_Cleveland Cavaliers</td>\n",
              "      <td>1998</td>\n",
              "      <td>Cleveland Cavaliers</td>\n",
              "      <td>26.375000</td>\n",
              "      <td>199.231250</td>\n",
              "      <td>96.756844</td>\n",
              "      <td>92.5</td>\n",
              "      <td>89.8</td>\n",
              "      <td>2.7</td>\n",
              "      <td>39.8</td>\n",
              "      <td>22.9</td>\n",
              "      <td>9.9</td>\n",
              "      <td>5.0</td>\n",
              "      <td>16.6</td>\n",
              "      <td>23.7</td>\n",
              "      <td>28.2</td>\n",
              "      <td>11.6</td>\n",
              "      <td>True</td>\n",
              "      <td>-0.786678</td>\n",
              "      <td>False</td>\n",
              "    </tr>\n",
              "    <tr>\n",
              "      <th>...</th>\n",
              "      <td>...</td>\n",
              "      <td>...</td>\n",
              "      <td>...</td>\n",
              "      <td>...</td>\n",
              "      <td>...</td>\n",
              "      <td>...</td>\n",
              "      <td>...</td>\n",
              "      <td>...</td>\n",
              "      <td>...</td>\n",
              "      <td>...</td>\n",
              "      <td>...</td>\n",
              "      <td>...</td>\n",
              "      <td>...</td>\n",
              "      <td>...</td>\n",
              "      <td>...</td>\n",
              "      <td>...</td>\n",
              "      <td>...</td>\n",
              "      <td>...</td>\n",
              "      <td>...</td>\n",
              "      <td>...</td>\n",
              "    </tr>\n",
              "    <tr>\n",
              "      <th>678</th>\n",
              "      <td>2020_Sacramento Kings</td>\n",
              "      <td>2020</td>\n",
              "      <td>Sacramento Kings</td>\n",
              "      <td>25.117647</td>\n",
              "      <td>199.763529</td>\n",
              "      <td>98.242691</td>\n",
              "      <td>110.1</td>\n",
              "      <td>112.1</td>\n",
              "      <td>-2.0</td>\n",
              "      <td>42.6</td>\n",
              "      <td>23.8</td>\n",
              "      <td>7.7</td>\n",
              "      <td>4.1</td>\n",
              "      <td>13.7</td>\n",
              "      <td>22.2</td>\n",
              "      <td>32.9</td>\n",
              "      <td>9.7</td>\n",
              "      <td>False</td>\n",
              "      <td>-0.411031</td>\n",
              "      <td>False</td>\n",
              "    </tr>\n",
              "    <tr>\n",
              "      <th>679</th>\n",
              "      <td>2020_San Antonio Spurs</td>\n",
              "      <td>2020</td>\n",
              "      <td>San Antonio Spurs</td>\n",
              "      <td>25.750000</td>\n",
              "      <td>199.390000</td>\n",
              "      <td>99.223250</td>\n",
              "      <td>114.1</td>\n",
              "      <td>115.2</td>\n",
              "      <td>-1.1</td>\n",
              "      <td>44.6</td>\n",
              "      <td>24.7</td>\n",
              "      <td>7.3</td>\n",
              "      <td>5.5</td>\n",
              "      <td>12.2</td>\n",
              "      <td>19.4</td>\n",
              "      <td>35.6</td>\n",
              "      <td>9.0</td>\n",
              "      <td>False</td>\n",
              "      <td>0.627363</td>\n",
              "      <td>True</td>\n",
              "    </tr>\n",
              "    <tr>\n",
              "      <th>680</th>\n",
              "      <td>2020_Toronto Raptors</td>\n",
              "      <td>2020</td>\n",
              "      <td>Toronto Raptors</td>\n",
              "      <td>25.555556</td>\n",
              "      <td>198.261111</td>\n",
              "      <td>96.539497</td>\n",
              "      <td>112.8</td>\n",
              "      <td>106.5</td>\n",
              "      <td>6.3</td>\n",
              "      <td>45.3</td>\n",
              "      <td>25.2</td>\n",
              "      <td>8.6</td>\n",
              "      <td>5.0</td>\n",
              "      <td>13.8</td>\n",
              "      <td>21.8</td>\n",
              "      <td>36.0</td>\n",
              "      <td>9.3</td>\n",
              "      <td>True</td>\n",
              "      <td>0.289885</td>\n",
              "      <td>True</td>\n",
              "    </tr>\n",
              "    <tr>\n",
              "      <th>681</th>\n",
              "      <td>2020_Utah Jazz</td>\n",
              "      <td>2020</td>\n",
              "      <td>Utah Jazz</td>\n",
              "      <td>25.666667</td>\n",
              "      <td>196.285556</td>\n",
              "      <td>98.353865</td>\n",
              "      <td>111.3</td>\n",
              "      <td>108.8</td>\n",
              "      <td>2.5</td>\n",
              "      <td>44.6</td>\n",
              "      <td>22.3</td>\n",
              "      <td>6.1</td>\n",
              "      <td>4.0</td>\n",
              "      <td>14.2</td>\n",
              "      <td>20.3</td>\n",
              "      <td>35.4</td>\n",
              "      <td>9.1</td>\n",
              "      <td>True</td>\n",
              "      <td>-0.099513</td>\n",
              "      <td>False</td>\n",
              "    </tr>\n",
              "    <tr>\n",
              "      <th>682</th>\n",
              "      <td>2020_Washington Wizards</td>\n",
              "      <td>2020</td>\n",
              "      <td>Washington Wizards</td>\n",
              "      <td>25.210526</td>\n",
              "      <td>197.718947</td>\n",
              "      <td>96.925448</td>\n",
              "      <td>114.4</td>\n",
              "      <td>119.1</td>\n",
              "      <td>-4.7</td>\n",
              "      <td>42.1</td>\n",
              "      <td>25.0</td>\n",
              "      <td>8.0</td>\n",
              "      <td>4.3</td>\n",
              "      <td>13.5</td>\n",
              "      <td>22.7</td>\n",
              "      <td>31.9</td>\n",
              "      <td>10.2</td>\n",
              "      <td>False</td>\n",
              "      <td>0.705243</td>\n",
              "      <td>True</td>\n",
              "    </tr>\n",
              "  </tbody>\n",
              "</table>\n",
              "<p>683 rows × 20 columns</p>\n",
              "</div>"
            ],
            "text/plain": [
              "                    year_team  po_year            team_full   mean_age  \\\n",
              "0          1998_Atlanta Hawks     1998        Atlanta Hawks  28.250000   \n",
              "1         1998_Boston Celtics     1998       Boston Celtics  25.857143   \n",
              "2      1998_Charlotte Hornets     1998    Charlotte Hornets  29.733333   \n",
              "3          1998_Chicago Bulls     1998        Chicago Bulls  30.600000   \n",
              "4    1998_Cleveland Cavaliers     1998  Cleveland Cavaliers  26.375000   \n",
              "..                        ...      ...                  ...        ...   \n",
              "678     2020_Sacramento Kings     2020     Sacramento Kings  25.117647   \n",
              "679    2020_San Antonio Spurs     2020    San Antonio Spurs  25.750000   \n",
              "680      2020_Toronto Raptors     2020      Toronto Raptors  25.555556   \n",
              "681            2020_Utah Jazz     2020            Utah Jazz  25.666667   \n",
              "682   2020_Washington Wizards     2020   Washington Wizards  25.210526   \n",
              "\n",
              "     mean_height  mean_weight  PtsSeason  OppPtsSeason  PtsDiff   Reb   Ast  \\\n",
              "0     199.231250    99.166551       95.9          92.3      3.6  42.8  19.0   \n",
              "1     200.297143    95.027524       95.9          98.5     -2.6  39.5  22.1   \n",
              "2     200.829333   101.755805       96.6          94.6      2.0  40.1  23.4   \n",
              "3     201.337333   103.691131       96.7          89.6      7.1  44.1  23.1   \n",
              "4     199.231250    96.756844       92.5          89.8      2.7  39.8  22.9   \n",
              "..           ...          ...        ...           ...      ...   ...   ...   \n",
              "678   199.763529    98.242691      110.1         112.1     -2.0  42.6  23.8   \n",
              "679   199.390000    99.223250      114.1         115.2     -1.1  44.6  24.7   \n",
              "680   198.261111    96.539497      112.8         106.5      6.3  45.3  25.2   \n",
              "681   196.285556    98.353865      111.3         108.8      2.5  44.6  22.3   \n",
              "682   197.718947    96.925448      114.4         119.1     -4.7  42.1  25.0   \n",
              "\n",
              "      Stl  Blk    To    Pf  Dreb  Oreb  playoffs  season_pts_z_score  \\\n",
              "0     8.0  5.9  14.0  20.5  29.5  13.4      True            0.082901   \n",
              "1    12.0  4.5  15.6  26.9  24.9  14.6     False            0.082901   \n",
              "2     8.2  3.7  14.4  21.4  28.4  11.7      True            0.261932   \n",
              "3     8.6  4.3  13.0  21.1  29.2  14.9      True            0.287508   \n",
              "4     9.9  5.0  16.6  23.7  28.2  11.6      True           -0.786678   \n",
              "..    ...  ...   ...   ...   ...   ...       ...                 ...   \n",
              "678   7.7  4.1  13.7  22.2  32.9   9.7     False           -0.411031   \n",
              "679   7.3  5.5  12.2  19.4  35.6   9.0     False            0.627363   \n",
              "680   8.6  5.0  13.8  21.8  36.0   9.3      True            0.289885   \n",
              "681   6.1  4.0  14.2  20.3  35.4   9.1      True           -0.099513   \n",
              "682   8.0  4.3  13.5  22.7  31.9  10.2     False            0.705243   \n",
              "\n",
              "     above_mean_pts  \n",
              "0              True  \n",
              "1              True  \n",
              "2              True  \n",
              "3              True  \n",
              "4             False  \n",
              "..              ...  \n",
              "678           False  \n",
              "679            True  \n",
              "680            True  \n",
              "681           False  \n",
              "682            True  \n",
              "\n",
              "[683 rows x 20 columns]"
            ]
          },
          "execution_count": 15,
          "metadata": {},
          "output_type": "execute_result"
        }
      ],
      "source": [
        "nba_df"
      ]
    },
    {
      "cell_type": "markdown",
      "metadata": {
        "id": "K1sScPF8TImi"
      },
      "source": [
        "And, finally, we can generate a much more useful cross-tabulation of our variables:"
      ]
    },
    {
      "cell_type": "code",
      "execution_count": 16,
      "metadata": {
        "colab": {
          "base_uri": "https://localhost:8080/",
          "height": 143
        },
        "id": "jfE6neURZMLP",
        "outputId": "262269d0-1993-4057-fdc7-62ca64fd3220"
      },
      "outputs": [
        {
          "data": {
            "text/html": [
              "<div>\n",
              "<style scoped>\n",
              "    .dataframe tbody tr th:only-of-type {\n",
              "        vertical-align: middle;\n",
              "    }\n",
              "\n",
              "    .dataframe tbody tr th {\n",
              "        vertical-align: top;\n",
              "    }\n",
              "\n",
              "    .dataframe thead th {\n",
              "        text-align: right;\n",
              "    }\n",
              "</style>\n",
              "<table border=\"1\" class=\"dataframe\">\n",
              "  <thead>\n",
              "    <tr style=\"text-align: right;\">\n",
              "      <th>playoffs</th>\n",
              "      <th>False</th>\n",
              "      <th>True</th>\n",
              "    </tr>\n",
              "    <tr>\n",
              "      <th>above_mean_pts</th>\n",
              "      <th></th>\n",
              "      <th></th>\n",
              "    </tr>\n",
              "  </thead>\n",
              "  <tbody>\n",
              "    <tr>\n",
              "      <th>False</th>\n",
              "      <td>209</td>\n",
              "      <td>137</td>\n",
              "    </tr>\n",
              "    <tr>\n",
              "      <th>True</th>\n",
              "      <td>106</td>\n",
              "      <td>231</td>\n",
              "    </tr>\n",
              "  </tbody>\n",
              "</table>\n",
              "</div>"
            ],
            "text/plain": [
              "playoffs        False  True \n",
              "above_mean_pts              \n",
              "False             209    137\n",
              "True              106    231"
            ]
          },
          "execution_count": 16,
          "metadata": {},
          "output_type": "execute_result"
        }
      ],
      "source": [
        "pts_playoffs_count = pd.crosstab(nba_df['above_mean_pts'], nba_df['playoffs'])\n",
        "pts_playoffs_count"
      ]
    },
    {
      "cell_type": "markdown",
      "metadata": {
        "id": "hFys42tPanwm"
      },
      "source": [
        "And then **plot** the values in this cross-tabulation for an even more intuitive representation, where for each value of `above_mean_pts` we will have a bar representing the **total** number of (team,season) pairs in our dataset where the team had above-the-mean points per game in that season, and each bar will be **further split** into two \"sub-rectangles\" representing the **proportions** of these counts representing teams which **also** made the playoffs in that season:"
      ]
    },
    {
      "cell_type": "code",
      "execution_count": 17,
      "metadata": {
        "colab": {
          "base_uri": "https://localhost:8080/",
          "height": 493
        },
        "id": "7eSRWrscYZVZ",
        "outputId": "d7ac1fe1-313c-43e5-859d-893ddde2126a"
      },
      "outputs": [
        {
          "data": {
            "image/png": "[encoded data removed]",
            "text/plain": [
              "<Figure size 640x480 with 1 Axes>"
            ]
          },
          "metadata": {},
          "output_type": "display_data"
        }
      ],
      "source": [
        "import matplotlib.pyplot as plt\n",
        "\n",
        "crosstab_plot = pts_playoffs_count.plot(kind='bar', stacked=True)\n",
        "crosstab_plot.grid(False)\n",
        "plt.title('Playoffs vs. Points-Per-Game')\n",
        "plt.xlabel('Above-Mean Points Per Game')\n",
        "plt.ylabel('Number of Teams')\n",
        "plt.show()\n"
      ]
    },
    {
      "cell_type": "markdown",
      "metadata": {
        "id": "5KsYpdjPZm-C"
      },
      "source": [
        "Notice how, in both the cross-tabulation and plot above, having raw counts on their own was a bit of a nuisance, in the sense that we really care about their **proportions** to one another. The plot made this a bit easier, since we could compare the areas of the two sub-rectangles within each bar, but it'd be more helpful if we could read these totals directly off of the cross-tabulation. To accomplish this, we can include the `margins=True` argument to `pd.crosstab()` and it will produce, in addition to the output above, a **totals column** and **totals row**:"
      ]
    },
    {
      "cell_type": "code",
      "execution_count": 18,
      "metadata": {
        "colab": {
          "base_uri": "https://localhost:8080/",
          "height": 175
        },
        "id": "J67wApM3I2VB",
        "outputId": "5ddf3f4c-cce2-453d-ec7c-01a8c9d7c2ea"
      },
      "outputs": [
        {
          "data": {
            "text/html": [
              "<div>\n",
              "<style scoped>\n",
              "    .dataframe tbody tr th:only-of-type {\n",
              "        vertical-align: middle;\n",
              "    }\n",
              "\n",
              "    .dataframe tbody tr th {\n",
              "        vertical-align: top;\n",
              "    }\n",
              "\n",
              "    .dataframe thead th {\n",
              "        text-align: right;\n",
              "    }\n",
              "</style>\n",
              "<table border=\"1\" class=\"dataframe\">\n",
              "  <thead>\n",
              "    <tr style=\"text-align: right;\">\n",
              "      <th>playoffs</th>\n",
              "      <th>False</th>\n",
              "      <th>True</th>\n",
              "      <th>All</th>\n",
              "    </tr>\n",
              "    <tr>\n",
              "      <th>above_mean_pts</th>\n",
              "      <th></th>\n",
              "      <th></th>\n",
              "      <th></th>\n",
              "    </tr>\n",
              "  </thead>\n",
              "  <tbody>\n",
              "    <tr>\n",
              "      <th>False</th>\n",
              "      <td>209</td>\n",
              "      <td>137</td>\n",
              "      <td>346</td>\n",
              "    </tr>\n",
              "    <tr>\n",
              "      <th>True</th>\n",
              "      <td>106</td>\n",
              "      <td>231</td>\n",
              "      <td>337</td>\n",
              "    </tr>\n",
              "    <tr>\n",
              "      <th>All</th>\n",
              "      <td>315</td>\n",
              "      <td>368</td>\n",
              "      <td>683</td>\n",
              "    </tr>\n",
              "  </tbody>\n",
              "</table>\n",
              "</div>"
            ],
            "text/plain": [
              "playoffs        False  True  All\n",
              "above_mean_pts                  \n",
              "False             209   137  346\n",
              "True              106   231  337\n",
              "All               315   368  683"
            ]
          },
          "execution_count": 18,
          "metadata": {},
          "output_type": "execute_result"
        }
      ],
      "source": [
        "pts_playoffs_count = pd.crosstab(nba_df['above_mean_pts'], nba_df['playoffs'], margins=True)\n",
        "pts_playoffs_count"
      ]
    },
    {
      "cell_type": "markdown",
      "metadata": {
        "id": "sZBnylSmUHz3"
      },
      "source": [
        "We can see from this table that, among all **337 (team,season) pairs** where the team had **above average** points-per-game in that season, the team made the playoffs **231 times** and failed to make the playoffs **106 times**. On the other hand, of the **346 (team,season) pairs** where the team had **below average** points-per-game in that season, that team made the playoffs only **137 times** and failed to make the playoffs in **209 cases**.\n",
        "\n",
        "Notice how I'm giving raw counts here, but contextualizing them by also providing the **total number of cases** in each row. The `pd.crosstab()` function has another optional parameter `normalize` (on top of the `margins=True` option we provided above) which will do this **normalization** for us, thus producing actual full-on **probability distributions**:\n",
        "\n",
        "* By default, the produced table contains **counts**, not probabilities\n",
        "* If we include `normalize='all'`, Pandas will generate a table representing the **joint distribution** of the pair of variables (`above_mean_points`,`playoffs`):"
      ]
    },
    {
      "cell_type": "code",
      "execution_count": 19,
      "metadata": {
        "colab": {
          "base_uri": "https://localhost:8080/",
          "height": 143
        },
        "id": "UsogZvdyTRqb",
        "outputId": "f5034104-c658-477e-d382-632e5d298eca"
      },
      "outputs": [
        {
          "data": {
            "text/html": [
              "<div>\n",
              "<style scoped>\n",
              "    .dataframe tbody tr th:only-of-type {\n",
              "        vertical-align: middle;\n",
              "    }\n",
              "\n",
              "    .dataframe tbody tr th {\n",
              "        vertical-align: top;\n",
              "    }\n",
              "\n",
              "    .dataframe thead th {\n",
              "        text-align: right;\n",
              "    }\n",
              "</style>\n",
              "<table border=\"1\" class=\"dataframe\">\n",
              "  <thead>\n",
              "    <tr style=\"text-align: right;\">\n",
              "      <th>playoffs</th>\n",
              "      <th>False</th>\n",
              "      <th>True</th>\n",
              "    </tr>\n",
              "    <tr>\n",
              "      <th>above_mean_pts</th>\n",
              "      <th></th>\n",
              "      <th></th>\n",
              "    </tr>\n",
              "  </thead>\n",
              "  <tbody>\n",
              "    <tr>\n",
              "      <th>False</th>\n",
              "      <td>0.306003</td>\n",
              "      <td>0.200586</td>\n",
              "    </tr>\n",
              "    <tr>\n",
              "      <th>True</th>\n",
              "      <td>0.155198</td>\n",
              "      <td>0.338214</td>\n",
              "    </tr>\n",
              "  </tbody>\n",
              "</table>\n",
              "</div>"
            ],
            "text/plain": [
              "playoffs           False     True \n",
              "above_mean_pts                    \n",
              "False           0.306003  0.200586\n",
              "True            0.155198  0.338214"
            ]
          },
          "execution_count": 19,
          "metadata": {},
          "output_type": "execute_result"
        }
      ],
      "source": [
        "pts_playoffs_joint = pd.crosstab(nba_df['above_mean_pts'], nba_df['playoffs'], normalize='all')\n",
        "pts_playoffs_joint"
      ]
    },
    {
      "cell_type": "markdown",
      "metadata": {
        "id": "XWnzvqTYV7kX"
      },
      "source": [
        "So that from this table we can see that, for example, about 20% of all (team,season) pairs represent teams that made the playoffs despite having below-the-mean points per game in that season."
      ]
    },
    {
      "cell_type": "markdown",
      "metadata": {
        "id": "iISwbI8CVeWs"
      },
      "source": [
        "* If we include `normalize='all'` **in addition to** `margins=True`, Pandas will produce a table representing both the **joint distribution** (within the non-total cells) and the **marginal distributions** (in the row/column labeled `All`):"
      ]
    },
    {
      "cell_type": "code",
      "execution_count": 20,
      "metadata": {
        "colab": {
          "base_uri": "https://localhost:8080/",
          "height": 175
        },
        "id": "W7IJ2UJyVVtT",
        "outputId": "6f2a730a-345d-4f94-fd91-0c13859fbd6d"
      },
      "outputs": [
        {
          "data": {
            "text/html": [
              "<div>\n",
              "<style scoped>\n",
              "    .dataframe tbody tr th:only-of-type {\n",
              "        vertical-align: middle;\n",
              "    }\n",
              "\n",
              "    .dataframe tbody tr th {\n",
              "        vertical-align: top;\n",
              "    }\n",
              "\n",
              "    .dataframe thead th {\n",
              "        text-align: right;\n",
              "    }\n",
              "</style>\n",
              "<table border=\"1\" class=\"dataframe\">\n",
              "  <thead>\n",
              "    <tr style=\"text-align: right;\">\n",
              "      <th>playoffs</th>\n",
              "      <th>False</th>\n",
              "      <th>True</th>\n",
              "      <th>All</th>\n",
              "    </tr>\n",
              "    <tr>\n",
              "      <th>above_mean_pts</th>\n",
              "      <th></th>\n",
              "      <th></th>\n",
              "      <th></th>\n",
              "    </tr>\n",
              "  </thead>\n",
              "  <tbody>\n",
              "    <tr>\n",
              "      <th>False</th>\n",
              "      <td>0.306003</td>\n",
              "      <td>0.200586</td>\n",
              "      <td>0.506589</td>\n",
              "    </tr>\n",
              "    <tr>\n",
              "      <th>True</th>\n",
              "      <td>0.155198</td>\n",
              "      <td>0.338214</td>\n",
              "      <td>0.493411</td>\n",
              "    </tr>\n",
              "    <tr>\n",
              "      <th>All</th>\n",
              "      <td>0.461201</td>\n",
              "      <td>0.538799</td>\n",
              "      <td>1.000000</td>\n",
              "    </tr>\n",
              "  </tbody>\n",
              "</table>\n",
              "</div>"
            ],
            "text/plain": [
              "playoffs           False      True       All\n",
              "above_mean_pts                              \n",
              "False           0.306003  0.200586  0.506589\n",
              "True            0.155198  0.338214  0.493411\n",
              "All             0.461201  0.538799  1.000000"
            ]
          },
          "execution_count": 20,
          "metadata": {},
          "output_type": "execute_result"
        }
      ],
      "source": [
        "pd.crosstab(nba_df['above_mean_pts'], nba_df['playoffs'], margins=True, normalize='all')"
      ]
    },
    {
      "cell_type": "markdown",
      "metadata": {
        "id": "KLkdewvqWMqw"
      },
      "source": [
        "So that from the row labeled `All` in this table we can see that, for example, approximately 46% of all (team, season) pairs in the dataset correspond to teams who made the playoffs in that season."
      ]
    },
    {
      "cell_type": "markdown",
      "metadata": {
        "id": "0SCvIyWAWbEc"
      },
      "source": [
        "* If we include `normalize='index'`, Pandas will generate a table representing the **conditional distribution** of `playoffs` given `above_mean_points`:"
      ]
    },
    {
      "cell_type": "code",
      "execution_count": 21,
      "metadata": {
        "colab": {
          "base_uri": "https://localhost:8080/",
          "height": 143
        },
        "id": "G2H6UsvOVzJE",
        "outputId": "87918e41-32be-4b8e-886e-2dc568e89425"
      },
      "outputs": [
        {
          "data": {
            "text/html": [
              "<div>\n",
              "<style scoped>\n",
              "    .dataframe tbody tr th:only-of-type {\n",
              "        vertical-align: middle;\n",
              "    }\n",
              "\n",
              "    .dataframe tbody tr th {\n",
              "        vertical-align: top;\n",
              "    }\n",
              "\n",
              "    .dataframe thead th {\n",
              "        text-align: right;\n",
              "    }\n",
              "</style>\n",
              "<table border=\"1\" class=\"dataframe\">\n",
              "  <thead>\n",
              "    <tr style=\"text-align: right;\">\n",
              "      <th>playoffs</th>\n",
              "      <th>False</th>\n",
              "      <th>True</th>\n",
              "    </tr>\n",
              "    <tr>\n",
              "      <th>above_mean_pts</th>\n",
              "      <th></th>\n",
              "      <th></th>\n",
              "    </tr>\n",
              "  </thead>\n",
              "  <tbody>\n",
              "    <tr>\n",
              "      <th>False</th>\n",
              "      <td>0.604046</td>\n",
              "      <td>0.395954</td>\n",
              "    </tr>\n",
              "    <tr>\n",
              "      <th>True</th>\n",
              "      <td>0.314540</td>\n",
              "      <td>0.685460</td>\n",
              "    </tr>\n",
              "  </tbody>\n",
              "</table>\n",
              "</div>"
            ],
            "text/plain": [
              "playoffs           False     True \n",
              "above_mean_pts                    \n",
              "False           0.604046  0.395954\n",
              "True            0.314540  0.685460"
            ]
          },
          "execution_count": 21,
          "metadata": {},
          "output_type": "execute_result"
        }
      ],
      "source": [
        "pd.crosstab(nba_df['above_mean_pts'], nba_df['playoffs'], normalize='index')"
      ]
    },
    {
      "cell_type": "markdown",
      "metadata": {
        "id": "aqmNSND8W062"
      },
      "source": [
        "Notice that the **rows** here (but **not** the columns) sum to 1. This table therefore tells us, for example, that across all (team,season) pairs where the team had **above-the-mean** points per game in that season (`above_mean_points` is `True`), about 69% of these teams made the playoffs in that season."
      ]
    },
    {
      "cell_type": "markdown",
      "metadata": {
        "id": "qP8dsIdEXcwK"
      },
      "source": [
        "* Finally, if we include `normalize='columns'`, Pandas will produce a table representing the **conditional distribution** of `above_mean_pts` given `playoffs`:"
      ]
    },
    {
      "cell_type": "code",
      "execution_count": 22,
      "metadata": {
        "colab": {
          "base_uri": "https://localhost:8080/",
          "height": 143
        },
        "id": "qnG0omemWkzO",
        "outputId": "d67ffaf9-06d9-4b16-a520-443000a49754"
      },
      "outputs": [
        {
          "data": {
            "text/html": [
              "<div>\n",
              "<style scoped>\n",
              "    .dataframe tbody tr th:only-of-type {\n",
              "        vertical-align: middle;\n",
              "    }\n",
              "\n",
              "    .dataframe tbody tr th {\n",
              "        vertical-align: top;\n",
              "    }\n",
              "\n",
              "    .dataframe thead th {\n",
              "        text-align: right;\n",
              "    }\n",
              "</style>\n",
              "<table border=\"1\" class=\"dataframe\">\n",
              "  <thead>\n",
              "    <tr style=\"text-align: right;\">\n",
              "      <th>playoffs</th>\n",
              "      <th>False</th>\n",
              "      <th>True</th>\n",
              "    </tr>\n",
              "    <tr>\n",
              "      <th>above_mean_pts</th>\n",
              "      <th></th>\n",
              "      <th></th>\n",
              "    </tr>\n",
              "  </thead>\n",
              "  <tbody>\n",
              "    <tr>\n",
              "      <th>False</th>\n",
              "      <td>0.663492</td>\n",
              "      <td>0.372283</td>\n",
              "    </tr>\n",
              "    <tr>\n",
              "      <th>True</th>\n",
              "      <td>0.336508</td>\n",
              "      <td>0.627717</td>\n",
              "    </tr>\n",
              "  </tbody>\n",
              "</table>\n",
              "</div>"
            ],
            "text/plain": [
              "playoffs           False     True \n",
              "above_mean_pts                    \n",
              "False           0.663492  0.372283\n",
              "True            0.336508  0.627717"
            ]
          },
          "execution_count": 22,
          "metadata": {},
          "output_type": "execute_result"
        }
      ],
      "source": [
        "pd.crosstab(nba_df['above_mean_pts'], nba_df['playoffs'], normalize='columns')"
      ]
    },
    {
      "cell_type": "markdown",
      "metadata": {
        "id": "iirKfa0vXnt8"
      },
      "source": [
        "Notice that now the **columns** (but **not** the rows) sum to 1. This table therefore tells us, for example, that among (team,season) pairs where the team made the playoffs in that season (`playoffs` is `True`), about **63%** of these pairs correspond to teams which had **above-the-mean** points per game in that season."
      ]
    },
    {
      "cell_type": "markdown",
      "metadata": {
        "id": "SMaw5MY1YLRx"
      },
      "source": [
        "## (3) Machine Learning *Without* Feature Selection"
      ]
    },
    {
      "cell_type": "markdown",
      "metadata": {
        "id": "82e6SXJAYPSH"
      },
      "source": [
        "While the cross-tabulations/plots in the previous section can help us think about the relationships between our **features** (all of the non-ID variables besides `playoffs`) and our **label** (the `playoffs` variable), and which features might be more or less helpful for **predicting** the labels for each (team,season) pair, we're going to need to have a set of **metrics** for measuring **how well** we're doing at this prediction task, as well as a **range of values** that these metrics may take on telling us whether we're doing \"not very well\" vs. \"very well\" on the task.\n",
        "\n",
        "In general, a very good rule-of-thumb to use in machine learning is to come up with a **baseline value** and **gold standard value** for the metric. In our case, for example, we can quickly think about generating the following two values:\n",
        "\n",
        "1. A **baseline value** of our success metric, which tells us how well an algorithm **randomly guessing** would do on the task---in other words, an algorithm that is **not learning anything at all**. If we just write a function that randomly guesses `False` or `True` as the `playoff` value for a given (team, season) pair, how well does that function do on our task?\n",
        "2. Another **baseline value** which is slightly smarter, but only slightly: it should guess the **most common value** of the label **every single time**. In our case, since there are more (team,season) pairs representing teams which **made the playoffs** in that season than there are (team,season) pairs representing teams which **failed** to make the playoffs, this baseline value would be derived from a function that always guesses the value `True` for our `playoffs` label.\n",
        "3. Finally, since here we're trying to look at the efficacy of **feature selection**, we should take an \"off-the-shelf\" machine learning method and see how well it does **without performing any feature selection**."
      ]
    },
    {
      "cell_type": "markdown",
      "metadata": {
        "id": "yy5m0bXZSXRV"
      },
      "source": [
        "## (4) Baseline 1: Random Guessing"
      ]
    },
    {
      "cell_type": "markdown",
      "metadata": {
        "id": "90oZmuoYSaf4"
      },
      "source": [
        "Although it may seem weird at first to sit down and purposefully code a \"bad\" model, you will thank yourself for it later, since it can serve as a \"meter stick\" to help you keep track of progress that you're making as you improve/tweak your **real** model's parameters.\n",
        "\n",
        "So, making sure that we **set the seed** on NumPy's random number generator so that results are replicable from here on out, let's create this random-guessing baseline model:"
      ]
    },
    {
      "cell_type": "code",
      "execution_count": 23,
      "metadata": {
        "id": "jJbWrH--XmkH"
      },
      "outputs": [],
      "source": [
        "# Here we set the seed by creating a \"random generator object\"\n",
        "# in NumPy, which we'll use from here onwards when we need to\n",
        "# generate random numbers\n",
        "rng = np.random.default_rng(5000)"
      ]
    },
    {
      "cell_type": "markdown",
      "metadata": {
        "id": "no9Sxmi6k-Vt"
      },
      "source": [
        "As we move from data exploration to actual machine learning, also, we'll want to convert our **boolean** `playoffs` label into a **numeric value**, since many of the ML algorithms and evaluation functions in Scikit-learn require fully-numeric values (vectors and/or matrices, for example) as inputs.\n",
        "\n",
        "To do this, we'll use what I think is the easiest way to convert **booleans** into **integers** in Pandas, which is just to `apply()` Python's `int()` conversion function to the entire column:"
      ]
    },
    {
      "cell_type": "code",
      "execution_count": 24,
      "metadata": {
        "colab": {
          "base_uri": "https://localhost:8080/",
          "height": 617
        },
        "id": "izs1ysD5lUd9",
        "outputId": "430231ea-6b6a-422b-a0e2-a0b3b8640064"
      },
      "outputs": [
        {
          "data": {
            "text/html": [
              "<div>\n",
              "<style scoped>\n",
              "    .dataframe tbody tr th:only-of-type {\n",
              "        vertical-align: middle;\n",
              "    }\n",
              "\n",
              "    .dataframe tbody tr th {\n",
              "        vertical-align: top;\n",
              "    }\n",
              "\n",
              "    .dataframe thead th {\n",
              "        text-align: right;\n",
              "    }\n",
              "</style>\n",
              "<table border=\"1\" class=\"dataframe\">\n",
              "  <thead>\n",
              "    <tr style=\"text-align: right;\">\n",
              "      <th></th>\n",
              "      <th>year_team</th>\n",
              "      <th>po_year</th>\n",
              "      <th>team_full</th>\n",
              "      <th>mean_age</th>\n",
              "      <th>mean_height</th>\n",
              "      <th>mean_weight</th>\n",
              "      <th>PtsSeason</th>\n",
              "      <th>OppPtsSeason</th>\n",
              "      <th>PtsDiff</th>\n",
              "      <th>Reb</th>\n",
              "      <th>Ast</th>\n",
              "      <th>Stl</th>\n",
              "      <th>Blk</th>\n",
              "      <th>To</th>\n",
              "      <th>Pf</th>\n",
              "      <th>Dreb</th>\n",
              "      <th>Oreb</th>\n",
              "      <th>playoffs</th>\n",
              "      <th>season_pts_z_score</th>\n",
              "      <th>above_mean_pts</th>\n",
              "    </tr>\n",
              "  </thead>\n",
              "  <tbody>\n",
              "    <tr>\n",
              "      <th>0</th>\n",
              "      <td>1998_Atlanta Hawks</td>\n",
              "      <td>1998</td>\n",
              "      <td>Atlanta Hawks</td>\n",
              "      <td>28.250000</td>\n",
              "      <td>199.231250</td>\n",
              "      <td>99.166551</td>\n",
              "      <td>95.9</td>\n",
              "      <td>92.3</td>\n",
              "      <td>3.6</td>\n",
              "      <td>42.8</td>\n",
              "      <td>19.0</td>\n",
              "      <td>8.0</td>\n",
              "      <td>5.9</td>\n",
              "      <td>14.0</td>\n",
              "      <td>20.5</td>\n",
              "      <td>29.5</td>\n",
              "      <td>13.4</td>\n",
              "      <td>1</td>\n",
              "      <td>0.082901</td>\n",
              "      <td>True</td>\n",
              "    </tr>\n",
              "    <tr>\n",
              "      <th>1</th>\n",
              "      <td>1998_Boston Celtics</td>\n",
              "      <td>1998</td>\n",
              "      <td>Boston Celtics</td>\n",
              "      <td>25.857143</td>\n",
              "      <td>200.297143</td>\n",
              "      <td>95.027524</td>\n",
              "      <td>95.9</td>\n",
              "      <td>98.5</td>\n",
              "      <td>-2.6</td>\n",
              "      <td>39.5</td>\n",
              "      <td>22.1</td>\n",
              "      <td>12.0</td>\n",
              "      <td>4.5</td>\n",
              "      <td>15.6</td>\n",
              "      <td>26.9</td>\n",
              "      <td>24.9</td>\n",
              "      <td>14.6</td>\n",
              "      <td>0</td>\n",
              "      <td>0.082901</td>\n",
              "      <td>True</td>\n",
              "    </tr>\n",
              "    <tr>\n",
              "      <th>2</th>\n",
              "      <td>1998_Charlotte Hornets</td>\n",
              "      <td>1998</td>\n",
              "      <td>Charlotte Hornets</td>\n",
              "      <td>29.733333</td>\n",
              "      <td>200.829333</td>\n",
              "      <td>101.755805</td>\n",
              "      <td>96.6</td>\n",
              "      <td>94.6</td>\n",
              "      <td>2.0</td>\n",
              "      <td>40.1</td>\n",
              "      <td>23.4</td>\n",
              "      <td>8.2</td>\n",
              "      <td>3.7</td>\n",
              "      <td>14.4</td>\n",
              "      <td>21.4</td>\n",
              "      <td>28.4</td>\n",
              "      <td>11.7</td>\n",
              "      <td>1</td>\n",
              "      <td>0.261932</td>\n",
              "      <td>True</td>\n",
              "    </tr>\n",
              "    <tr>\n",
              "      <th>3</th>\n",
              "      <td>1998_Chicago Bulls</td>\n",
              "      <td>1998</td>\n",
              "      <td>Chicago Bulls</td>\n",
              "      <td>30.600000</td>\n",
              "      <td>201.337333</td>\n",
              "      <td>103.691131</td>\n",
              "      <td>96.7</td>\n",
              "      <td>89.6</td>\n",
              "      <td>7.1</td>\n",
              "      <td>44.1</td>\n",
              "      <td>23.1</td>\n",
              "      <td>8.6</td>\n",
              "      <td>4.3</td>\n",
              "      <td>13.0</td>\n",
              "      <td>21.1</td>\n",
              "      <td>29.2</td>\n",
              "      <td>14.9</td>\n",
              "      <td>1</td>\n",
              "      <td>0.287508</td>\n",
              "      <td>True</td>\n",
              "    </tr>\n",
              "    <tr>\n",
              "      <th>4</th>\n",
              "      <td>1998_Cleveland Cavaliers</td>\n",
              "      <td>1998</td>\n",
              "      <td>Cleveland Cavaliers</td>\n",
              "      <td>26.375000</td>\n",
              "      <td>199.231250</td>\n",
              "      <td>96.756844</td>\n",
              "      <td>92.5</td>\n",
              "      <td>89.8</td>\n",
              "      <td>2.7</td>\n",
              "      <td>39.8</td>\n",
              "      <td>22.9</td>\n",
              "      <td>9.9</td>\n",
              "      <td>5.0</td>\n",
              "      <td>16.6</td>\n",
              "      <td>23.7</td>\n",
              "      <td>28.2</td>\n",
              "      <td>11.6</td>\n",
              "      <td>1</td>\n",
              "      <td>-0.786678</td>\n",
              "      <td>False</td>\n",
              "    </tr>\n",
              "    <tr>\n",
              "      <th>...</th>\n",
              "      <td>...</td>\n",
              "      <td>...</td>\n",
              "      <td>...</td>\n",
              "      <td>...</td>\n",
              "      <td>...</td>\n",
              "      <td>...</td>\n",
              "      <td>...</td>\n",
              "      <td>...</td>\n",
              "      <td>...</td>\n",
              "      <td>...</td>\n",
              "      <td>...</td>\n",
              "      <td>...</td>\n",
              "      <td>...</td>\n",
              "      <td>...</td>\n",
              "      <td>...</td>\n",
              "      <td>...</td>\n",
              "      <td>...</td>\n",
              "      <td>...</td>\n",
              "      <td>...</td>\n",
              "      <td>...</td>\n",
              "    </tr>\n",
              "    <tr>\n",
              "      <th>678</th>\n",
              "      <td>2020_Sacramento Kings</td>\n",
              "      <td>2020</td>\n",
              "      <td>Sacramento Kings</td>\n",
              "      <td>25.117647</td>\n",
              "      <td>199.763529</td>\n",
              "      <td>98.242691</td>\n",
              "      <td>110.1</td>\n",
              "      <td>112.1</td>\n",
              "      <td>-2.0</td>\n",
              "      <td>42.6</td>\n",
              "      <td>23.8</td>\n",
              "      <td>7.7</td>\n",
              "      <td>4.1</td>\n",
              "      <td>13.7</td>\n",
              "      <td>22.2</td>\n",
              "      <td>32.9</td>\n",
              "      <td>9.7</td>\n",
              "      <td>0</td>\n",
              "      <td>-0.411031</td>\n",
              "      <td>False</td>\n",
              "    </tr>\n",
              "    <tr>\n",
              "      <th>679</th>\n",
              "      <td>2020_San Antonio Spurs</td>\n",
              "      <td>2020</td>\n",
              "      <td>San Antonio Spurs</td>\n",
              "      <td>25.750000</td>\n",
              "      <td>199.390000</td>\n",
              "      <td>99.223250</td>\n",
              "      <td>114.1</td>\n",
              "      <td>115.2</td>\n",
              "      <td>-1.1</td>\n",
              "      <td>44.6</td>\n",
              "      <td>24.7</td>\n",
              "      <td>7.3</td>\n",
              "      <td>5.5</td>\n",
              "      <td>12.2</td>\n",
              "      <td>19.4</td>\n",
              "      <td>35.6</td>\n",
              "      <td>9.0</td>\n",
              "      <td>0</td>\n",
              "      <td>0.627363</td>\n",
              "      <td>True</td>\n",
              "    </tr>\n",
              "    <tr>\n",
              "      <th>680</th>\n",
              "      <td>2020_Toronto Raptors</td>\n",
              "      <td>2020</td>\n",
              "      <td>Toronto Raptors</td>\n",
              "      <td>25.555556</td>\n",
              "      <td>198.261111</td>\n",
              "      <td>96.539497</td>\n",
              "      <td>112.8</td>\n",
              "      <td>106.5</td>\n",
              "      <td>6.3</td>\n",
              "      <td>45.3</td>\n",
              "      <td>25.2</td>\n",
              "      <td>8.6</td>\n",
              "      <td>5.0</td>\n",
              "      <td>13.8</td>\n",
              "      <td>21.8</td>\n",
              "      <td>36.0</td>\n",
              "      <td>9.3</td>\n",
              "      <td>1</td>\n",
              "      <td>0.289885</td>\n",
              "      <td>True</td>\n",
              "    </tr>\n",
              "    <tr>\n",
              "      <th>681</th>\n",
              "      <td>2020_Utah Jazz</td>\n",
              "      <td>2020</td>\n",
              "      <td>Utah Jazz</td>\n",
              "      <td>25.666667</td>\n",
              "      <td>196.285556</td>\n",
              "      <td>98.353865</td>\n",
              "      <td>111.3</td>\n",
              "      <td>108.8</td>\n",
              "      <td>2.5</td>\n",
              "      <td>44.6</td>\n",
              "      <td>22.3</td>\n",
              "      <td>6.1</td>\n",
              "      <td>4.0</td>\n",
              "      <td>14.2</td>\n",
              "      <td>20.3</td>\n",
              "      <td>35.4</td>\n",
              "      <td>9.1</td>\n",
              "      <td>1</td>\n",
              "      <td>-0.099513</td>\n",
              "      <td>False</td>\n",
              "    </tr>\n",
              "    <tr>\n",
              "      <th>682</th>\n",
              "      <td>2020_Washington Wizards</td>\n",
              "      <td>2020</td>\n",
              "      <td>Washington Wizards</td>\n",
              "      <td>25.210526</td>\n",
              "      <td>197.718947</td>\n",
              "      <td>96.925448</td>\n",
              "      <td>114.4</td>\n",
              "      <td>119.1</td>\n",
              "      <td>-4.7</td>\n",
              "      <td>42.1</td>\n",
              "      <td>25.0</td>\n",
              "      <td>8.0</td>\n",
              "      <td>4.3</td>\n",
              "      <td>13.5</td>\n",
              "      <td>22.7</td>\n",
              "      <td>31.9</td>\n",
              "      <td>10.2</td>\n",
              "      <td>0</td>\n",
              "      <td>0.705243</td>\n",
              "      <td>True</td>\n",
              "    </tr>\n",
              "  </tbody>\n",
              "</table>\n",
              "<p>683 rows × 20 columns</p>\n",
              "</div>"
            ],
            "text/plain": [
              "                    year_team  po_year            team_full   mean_age  \\\n",
              "0          1998_Atlanta Hawks     1998        Atlanta Hawks  28.250000   \n",
              "1         1998_Boston Celtics     1998       Boston Celtics  25.857143   \n",
              "2      1998_Charlotte Hornets     1998    Charlotte Hornets  29.733333   \n",
              "3          1998_Chicago Bulls     1998        Chicago Bulls  30.600000   \n",
              "4    1998_Cleveland Cavaliers     1998  Cleveland Cavaliers  26.375000   \n",
              "..                        ...      ...                  ...        ...   \n",
              "678     2020_Sacramento Kings     2020     Sacramento Kings  25.117647   \n",
              "679    2020_San Antonio Spurs     2020    San Antonio Spurs  25.750000   \n",
              "680      2020_Toronto Raptors     2020      Toronto Raptors  25.555556   \n",
              "681            2020_Utah Jazz     2020            Utah Jazz  25.666667   \n",
              "682   2020_Washington Wizards     2020   Washington Wizards  25.210526   \n",
              "\n",
              "     mean_height  mean_weight  PtsSeason  OppPtsSeason  PtsDiff   Reb   Ast  \\\n",
              "0     199.231250    99.166551       95.9          92.3      3.6  42.8  19.0   \n",
              "1     200.297143    95.027524       95.9          98.5     -2.6  39.5  22.1   \n",
              "2     200.829333   101.755805       96.6          94.6      2.0  40.1  23.4   \n",
              "3     201.337333   103.691131       96.7          89.6      7.1  44.1  23.1   \n",
              "4     199.231250    96.756844       92.5          89.8      2.7  39.8  22.9   \n",
              "..           ...          ...        ...           ...      ...   ...   ...   \n",
              "678   199.763529    98.242691      110.1         112.1     -2.0  42.6  23.8   \n",
              "679   199.390000    99.223250      114.1         115.2     -1.1  44.6  24.7   \n",
              "680   198.261111    96.539497      112.8         106.5      6.3  45.3  25.2   \n",
              "681   196.285556    98.353865      111.3         108.8      2.5  44.6  22.3   \n",
              "682   197.718947    96.925448      114.4         119.1     -4.7  42.1  25.0   \n",
              "\n",
              "      Stl  Blk    To    Pf  Dreb  Oreb  playoffs  season_pts_z_score  \\\n",
              "0     8.0  5.9  14.0  20.5  29.5  13.4         1            0.082901   \n",
              "1    12.0  4.5  15.6  26.9  24.9  14.6         0            0.082901   \n",
              "2     8.2  3.7  14.4  21.4  28.4  11.7         1            0.261932   \n",
              "3     8.6  4.3  13.0  21.1  29.2  14.9         1            0.287508   \n",
              "4     9.9  5.0  16.6  23.7  28.2  11.6         1           -0.786678   \n",
              "..    ...  ...   ...   ...   ...   ...       ...                 ...   \n",
              "678   7.7  4.1  13.7  22.2  32.9   9.7         0           -0.411031   \n",
              "679   7.3  5.5  12.2  19.4  35.6   9.0         0            0.627363   \n",
              "680   8.6  5.0  13.8  21.8  36.0   9.3         1            0.289885   \n",
              "681   6.1  4.0  14.2  20.3  35.4   9.1         1           -0.099513   \n",
              "682   8.0  4.3  13.5  22.7  31.9  10.2         0            0.705243   \n",
              "\n",
              "     above_mean_pts  \n",
              "0              True  \n",
              "1              True  \n",
              "2              True  \n",
              "3              True  \n",
              "4             False  \n",
              "..              ...  \n",
              "678           False  \n",
              "679            True  \n",
              "680            True  \n",
              "681           False  \n",
              "682            True  \n",
              "\n",
              "[683 rows x 20 columns]"
            ]
          },
          "execution_count": 24,
          "metadata": {},
          "output_type": "execute_result"
        }
      ],
      "source": [
        "nba_df['playoffs'] = nba_df['playoffs'].apply(int)\n",
        "nba_df"
      ]
    },
    {
      "cell_type": "markdown",
      "metadata": {
        "id": "5uDgweNAllMm"
      },
      "source": [
        "We can now see in the above table that (scrolling horizontally to the `playoffs` column) entries where the `playoffs` value was the boolean `True` now have the integer value `1`, and entries where the `playoffs` value was the boolean `False` now have the integer value `0`."
      ]
    },
    {
      "cell_type": "markdown",
      "metadata": {
        "id": "sy6J6RJgi6K2"
      },
      "source": [
        "Given our `nba_df` dataset with the now-numeric label, we can make a new column called `random_guess` which just generates a random boolean value for each observation, then compute how well this random-guess model is doing by comparing the `random_guess` model with the true values in `playoffs`."
      ]
    },
    {
      "cell_type": "markdown",
      "metadata": {
        "id": "juG-UVLjUv7T"
      },
      "source": [
        "\n",
        "\n",
        "> **Imporant Aside: Accuracy vs. F1 Score!**<br><br>You have maybe noticed that I'm being purposefully vague about measuring **how well** a given classifier is doing: that's because, while it may feel instinctively \"right\"/natural to say \"I'll see how well my classifier is doing by measuring its **accuracy** on a task\", the notion of **accuracy** in machine learning is (sadly but truly) a **🚨RED FLAG🚨** that you should learn to be wary of! Let's quickly see why, by going over to the<br><br>**<a href='https://jjacobs.me/dsan5000/463a01339cf0f456ba54a1849df50d1a22c247e3/writeups/machine-learning/slides.html#/title-slide' target='_blank'>Extra slides on Machine Learning</a>**<br><br>that are now posted in the \"Extra Writeups\" section of the website for my sections.<br><br> Specifically, you should look at them from the beginning (they overlap, purposefully, with the slides from this week where I started talking about **Supervised** vs. **Unsupervised** learning on the liked-and-disliked-houses dataset) up to the **Measuring Errors: F1 Score** slide, which will introduce you to the **F1 Score** that we will be using here to quantify how well/not-well our random-guessing approach is doing at our task."
      ]
    },
    {
      "cell_type": "markdown",
      "metadata": {
        "id": "FsDI40imikR7"
      },
      "source": [
        "Now that we have seen why the F1 score is preferable to accuracy as a measurement of the performance of our algorithms, let's generate guesses and evaluate our random-guess model using the F1 score:"
      ]
    },
    {
      "cell_type": "code",
      "execution_count": 25,
      "metadata": {
        "colab": {
          "base_uri": "https://localhost:8080/",
          "height": 617
        },
        "id": "MCSQ_LJoUgfX",
        "outputId": "e2e83ce7-9fc6-4cff-b93a-9f40248aa6e8"
      },
      "outputs": [
        {
          "data": {
            "text/html": [
              "<div>\n",
              "<style scoped>\n",
              "    .dataframe tbody tr th:only-of-type {\n",
              "        vertical-align: middle;\n",
              "    }\n",
              "\n",
              "    .dataframe tbody tr th {\n",
              "        vertical-align: top;\n",
              "    }\n",
              "\n",
              "    .dataframe thead th {\n",
              "        text-align: right;\n",
              "    }\n",
              "</style>\n",
              "<table border=\"1\" class=\"dataframe\">\n",
              "  <thead>\n",
              "    <tr style=\"text-align: right;\">\n",
              "      <th></th>\n",
              "      <th>year_team</th>\n",
              "      <th>po_year</th>\n",
              "      <th>team_full</th>\n",
              "      <th>mean_age</th>\n",
              "      <th>mean_height</th>\n",
              "      <th>mean_weight</th>\n",
              "      <th>PtsSeason</th>\n",
              "      <th>OppPtsSeason</th>\n",
              "      <th>PtsDiff</th>\n",
              "      <th>Reb</th>\n",
              "      <th>...</th>\n",
              "      <th>Stl</th>\n",
              "      <th>Blk</th>\n",
              "      <th>To</th>\n",
              "      <th>Pf</th>\n",
              "      <th>Dreb</th>\n",
              "      <th>Oreb</th>\n",
              "      <th>playoffs</th>\n",
              "      <th>season_pts_z_score</th>\n",
              "      <th>above_mean_pts</th>\n",
              "      <th>random_guess</th>\n",
              "    </tr>\n",
              "  </thead>\n",
              "  <tbody>\n",
              "    <tr>\n",
              "      <th>0</th>\n",
              "      <td>1998_Atlanta Hawks</td>\n",
              "      <td>1998</td>\n",
              "      <td>Atlanta Hawks</td>\n",
              "      <td>28.250000</td>\n",
              "      <td>199.231250</td>\n",
              "      <td>99.166551</td>\n",
              "      <td>95.9</td>\n",
              "      <td>92.3</td>\n",
              "      <td>3.6</td>\n",
              "      <td>42.8</td>\n",
              "      <td>...</td>\n",
              "      <td>8.0</td>\n",
              "      <td>5.9</td>\n",
              "      <td>14.0</td>\n",
              "      <td>20.5</td>\n",
              "      <td>29.5</td>\n",
              "      <td>13.4</td>\n",
              "      <td>1</td>\n",
              "      <td>0.082901</td>\n",
              "      <td>True</td>\n",
              "      <td>0</td>\n",
              "    </tr>\n",
              "    <tr>\n",
              "      <th>1</th>\n",
              "      <td>1998_Boston Celtics</td>\n",
              "      <td>1998</td>\n",
              "      <td>Boston Celtics</td>\n",
              "      <td>25.857143</td>\n",
              "      <td>200.297143</td>\n",
              "      <td>95.027524</td>\n",
              "      <td>95.9</td>\n",
              "      <td>98.5</td>\n",
              "      <td>-2.6</td>\n",
              "      <td>39.5</td>\n",
              "      <td>...</td>\n",
              "      <td>12.0</td>\n",
              "      <td>4.5</td>\n",
              "      <td>15.6</td>\n",
              "      <td>26.9</td>\n",
              "      <td>24.9</td>\n",
              "      <td>14.6</td>\n",
              "      <td>0</td>\n",
              "      <td>0.082901</td>\n",
              "      <td>True</td>\n",
              "      <td>0</td>\n",
              "    </tr>\n",
              "    <tr>\n",
              "      <th>2</th>\n",
              "      <td>1998_Charlotte Hornets</td>\n",
              "      <td>1998</td>\n",
              "      <td>Charlotte Hornets</td>\n",
              "      <td>29.733333</td>\n",
              "      <td>200.829333</td>\n",
              "      <td>101.755805</td>\n",
              "      <td>96.6</td>\n",
              "      <td>94.6</td>\n",
              "      <td>2.0</td>\n",
              "      <td>40.1</td>\n",
              "      <td>...</td>\n",
              "      <td>8.2</td>\n",
              "      <td>3.7</td>\n",
              "      <td>14.4</td>\n",
              "      <td>21.4</td>\n",
              "      <td>28.4</td>\n",
              "      <td>11.7</td>\n",
              "      <td>1</td>\n",
              "      <td>0.261932</td>\n",
              "      <td>True</td>\n",
              "      <td>0</td>\n",
              "    </tr>\n",
              "    <tr>\n",
              "      <th>3</th>\n",
              "      <td>1998_Chicago Bulls</td>\n",
              "      <td>1998</td>\n",
              "      <td>Chicago Bulls</td>\n",
              "      <td>30.600000</td>\n",
              "      <td>201.337333</td>\n",
              "      <td>103.691131</td>\n",
              "      <td>96.7</td>\n",
              "      <td>89.6</td>\n",
              "      <td>7.1</td>\n",
              "      <td>44.1</td>\n",
              "      <td>...</td>\n",
              "      <td>8.6</td>\n",
              "      <td>4.3</td>\n",
              "      <td>13.0</td>\n",
              "      <td>21.1</td>\n",
              "      <td>29.2</td>\n",
              "      <td>14.9</td>\n",
              "      <td>1</td>\n",
              "      <td>0.287508</td>\n",
              "      <td>True</td>\n",
              "      <td>0</td>\n",
              "    </tr>\n",
              "    <tr>\n",
              "      <th>4</th>\n",
              "      <td>1998_Cleveland Cavaliers</td>\n",
              "      <td>1998</td>\n",
              "      <td>Cleveland Cavaliers</td>\n",
              "      <td>26.375000</td>\n",
              "      <td>199.231250</td>\n",
              "      <td>96.756844</td>\n",
              "      <td>92.5</td>\n",
              "      <td>89.8</td>\n",
              "      <td>2.7</td>\n",
              "      <td>39.8</td>\n",
              "      <td>...</td>\n",
              "      <td>9.9</td>\n",
              "      <td>5.0</td>\n",
              "      <td>16.6</td>\n",
              "      <td>23.7</td>\n",
              "      <td>28.2</td>\n",
              "      <td>11.6</td>\n",
              "      <td>1</td>\n",
              "      <td>-0.786678</td>\n",
              "      <td>False</td>\n",
              "      <td>1</td>\n",
              "    </tr>\n",
              "    <tr>\n",
              "      <th>...</th>\n",
              "      <td>...</td>\n",
              "      <td>...</td>\n",
              "      <td>...</td>\n",
              "      <td>...</td>\n",
              "      <td>...</td>\n",
              "      <td>...</td>\n",
              "      <td>...</td>\n",
              "      <td>...</td>\n",
              "      <td>...</td>\n",
              "      <td>...</td>\n",
              "      <td>...</td>\n",
              "      <td>...</td>\n",
              "      <td>...</td>\n",
              "      <td>...</td>\n",
              "      <td>...</td>\n",
              "      <td>...</td>\n",
              "      <td>...</td>\n",
              "      <td>...</td>\n",
              "      <td>...</td>\n",
              "      <td>...</td>\n",
              "      <td>...</td>\n",
              "    </tr>\n",
              "    <tr>\n",
              "      <th>678</th>\n",
              "      <td>2020_Sacramento Kings</td>\n",
              "      <td>2020</td>\n",
              "      <td>Sacramento Kings</td>\n",
              "      <td>25.117647</td>\n",
              "      <td>199.763529</td>\n",
              "      <td>98.242691</td>\n",
              "      <td>110.1</td>\n",
              "      <td>112.1</td>\n",
              "      <td>-2.0</td>\n",
              "      <td>42.6</td>\n",
              "      <td>...</td>\n",
              "      <td>7.7</td>\n",
              "      <td>4.1</td>\n",
              "      <td>13.7</td>\n",
              "      <td>22.2</td>\n",
              "      <td>32.9</td>\n",
              "      <td>9.7</td>\n",
              "      <td>0</td>\n",
              "      <td>-0.411031</td>\n",
              "      <td>False</td>\n",
              "      <td>1</td>\n",
              "    </tr>\n",
              "    <tr>\n",
              "      <th>679</th>\n",
              "      <td>2020_San Antonio Spurs</td>\n",
              "      <td>2020</td>\n",
              "      <td>San Antonio Spurs</td>\n",
              "      <td>25.750000</td>\n",
              "      <td>199.390000</td>\n",
              "      <td>99.223250</td>\n",
              "      <td>114.1</td>\n",
              "      <td>115.2</td>\n",
              "      <td>-1.1</td>\n",
              "      <td>44.6</td>\n",
              "      <td>...</td>\n",
              "      <td>7.3</td>\n",
              "      <td>5.5</td>\n",
              "      <td>12.2</td>\n",
              "      <td>19.4</td>\n",
              "      <td>35.6</td>\n",
              "      <td>9.0</td>\n",
              "      <td>0</td>\n",
              "      <td>0.627363</td>\n",
              "      <td>True</td>\n",
              "      <td>0</td>\n",
              "    </tr>\n",
              "    <tr>\n",
              "      <th>680</th>\n",
              "      <td>2020_Toronto Raptors</td>\n",
              "      <td>2020</td>\n",
              "      <td>Toronto Raptors</td>\n",
              "      <td>25.555556</td>\n",
              "      <td>198.261111</td>\n",
              "      <td>96.539497</td>\n",
              "      <td>112.8</td>\n",
              "      <td>106.5</td>\n",
              "      <td>6.3</td>\n",
              "      <td>45.3</td>\n",
              "      <td>...</td>\n",
              "      <td>8.6</td>\n",
              "      <td>5.0</td>\n",
              "      <td>13.8</td>\n",
              "      <td>21.8</td>\n",
              "      <td>36.0</td>\n",
              "      <td>9.3</td>\n",
              "      <td>1</td>\n",
              "      <td>0.289885</td>\n",
              "      <td>True</td>\n",
              "      <td>1</td>\n",
              "    </tr>\n",
              "    <tr>\n",
              "      <th>681</th>\n",
              "      <td>2020_Utah Jazz</td>\n",
              "      <td>2020</td>\n",
              "      <td>Utah Jazz</td>\n",
              "      <td>25.666667</td>\n",
              "      <td>196.285556</td>\n",
              "      <td>98.353865</td>\n",
              "      <td>111.3</td>\n",
              "      <td>108.8</td>\n",
              "      <td>2.5</td>\n",
              "      <td>44.6</td>\n",
              "      <td>...</td>\n",
              "      <td>6.1</td>\n",
              "      <td>4.0</td>\n",
              "      <td>14.2</td>\n",
              "      <td>20.3</td>\n",
              "      <td>35.4</td>\n",
              "      <td>9.1</td>\n",
              "      <td>1</td>\n",
              "      <td>-0.099513</td>\n",
              "      <td>False</td>\n",
              "      <td>1</td>\n",
              "    </tr>\n",
              "    <tr>\n",
              "      <th>682</th>\n",
              "      <td>2020_Washington Wizards</td>\n",
              "      <td>2020</td>\n",
              "      <td>Washington Wizards</td>\n",
              "      <td>25.210526</td>\n",
              "      <td>197.718947</td>\n",
              "      <td>96.925448</td>\n",
              "      <td>114.4</td>\n",
              "      <td>119.1</td>\n",
              "      <td>-4.7</td>\n",
              "      <td>42.1</td>\n",
              "      <td>...</td>\n",
              "      <td>8.0</td>\n",
              "      <td>4.3</td>\n",
              "      <td>13.5</td>\n",
              "      <td>22.7</td>\n",
              "      <td>31.9</td>\n",
              "      <td>10.2</td>\n",
              "      <td>0</td>\n",
              "      <td>0.705243</td>\n",
              "      <td>True</td>\n",
              "      <td>1</td>\n",
              "    </tr>\n",
              "  </tbody>\n",
              "</table>\n",
              "<p>683 rows × 21 columns</p>\n",
              "</div>"
            ],
            "text/plain": [
              "                    year_team  po_year            team_full   mean_age  \\\n",
              "0          1998_Atlanta Hawks     1998        Atlanta Hawks  28.250000   \n",
              "1         1998_Boston Celtics     1998       Boston Celtics  25.857143   \n",
              "2      1998_Charlotte Hornets     1998    Charlotte Hornets  29.733333   \n",
              "3          1998_Chicago Bulls     1998        Chicago Bulls  30.600000   \n",
              "4    1998_Cleveland Cavaliers     1998  Cleveland Cavaliers  26.375000   \n",
              "..                        ...      ...                  ...        ...   \n",
              "678     2020_Sacramento Kings     2020     Sacramento Kings  25.117647   \n",
              "679    2020_San Antonio Spurs     2020    San Antonio Spurs  25.750000   \n",
              "680      2020_Toronto Raptors     2020      Toronto Raptors  25.555556   \n",
              "681            2020_Utah Jazz     2020            Utah Jazz  25.666667   \n",
              "682   2020_Washington Wizards     2020   Washington Wizards  25.210526   \n",
              "\n",
              "     mean_height  mean_weight  PtsSeason  OppPtsSeason  PtsDiff   Reb  ...  \\\n",
              "0     199.231250    99.166551       95.9          92.3      3.6  42.8  ...   \n",
              "1     200.297143    95.027524       95.9          98.5     -2.6  39.5  ...   \n",
              "2     200.829333   101.755805       96.6          94.6      2.0  40.1  ...   \n",
              "3     201.337333   103.691131       96.7          89.6      7.1  44.1  ...   \n",
              "4     199.231250    96.756844       92.5          89.8      2.7  39.8  ...   \n",
              "..           ...          ...        ...           ...      ...   ...  ...   \n",
              "678   199.763529    98.242691      110.1         112.1     -2.0  42.6  ...   \n",
              "679   199.390000    99.223250      114.1         115.2     -1.1  44.6  ...   \n",
              "680   198.261111    96.539497      112.8         106.5      6.3  45.3  ...   \n",
              "681   196.285556    98.353865      111.3         108.8      2.5  44.6  ...   \n",
              "682   197.718947    96.925448      114.4         119.1     -4.7  42.1  ...   \n",
              "\n",
              "      Stl  Blk    To    Pf  Dreb  Oreb  playoffs  season_pts_z_score  \\\n",
              "0     8.0  5.9  14.0  20.5  29.5  13.4         1            0.082901   \n",
              "1    12.0  4.5  15.6  26.9  24.9  14.6         0            0.082901   \n",
              "2     8.2  3.7  14.4  21.4  28.4  11.7         1            0.261932   \n",
              "3     8.6  4.3  13.0  21.1  29.2  14.9         1            0.287508   \n",
              "4     9.9  5.0  16.6  23.7  28.2  11.6         1           -0.786678   \n",
              "..    ...  ...   ...   ...   ...   ...       ...                 ...   \n",
              "678   7.7  4.1  13.7  22.2  32.9   9.7         0           -0.411031   \n",
              "679   7.3  5.5  12.2  19.4  35.6   9.0         0            0.627363   \n",
              "680   8.6  5.0  13.8  21.8  36.0   9.3         1            0.289885   \n",
              "681   6.1  4.0  14.2  20.3  35.4   9.1         1           -0.099513   \n",
              "682   8.0  4.3  13.5  22.7  31.9  10.2         0            0.705243   \n",
              "\n",
              "     above_mean_pts  random_guess  \n",
              "0              True             0  \n",
              "1              True             0  \n",
              "2              True             0  \n",
              "3              True             0  \n",
              "4             False             1  \n",
              "..              ...           ...  \n",
              "678           False             1  \n",
              "679            True             0  \n",
              "680            True             1  \n",
              "681           False             1  \n",
              "682            True             1  \n",
              "\n",
              "[683 rows x 21 columns]"
            ]
          },
          "execution_count": 25,
          "metadata": {},
          "output_type": "execute_result"
        }
      ],
      "source": [
        "# Generate one random guess (a random choice of an element from\n",
        "# the python list [0,1]) per observation in the dataset\n",
        "num_obs = len(nba_df)\n",
        "random_guesses = rng.choice([0,1], num_obs)\n",
        "nba_df['random_guess'] = random_guesses\n",
        "nba_df"
      ]
    },
    {
      "cell_type": "markdown",
      "metadata": {
        "id": "xQQD4zLhjtV8"
      },
      "source": [
        "We could compute the F1 score **manually** here (and it would be good practice/coding work for you!), but instead now we will finally import and use **Scikit-learn**, which has a <a href='https://scikit-learn.org/stable/modules/generated/sklearn.metrics.f1_score.html' target='_blank'>**built-in** function for computing F-scores</a>. To use it, we just need to provide the first two arguments, `y_true` and `y_pred`:"
      ]
    },
    {
      "cell_type": "code",
      "execution_count": 26,
      "metadata": {
        "id": "OZNtWaTrjU1O"
      },
      "outputs": [],
      "source": [
        "from sklearn.metrics import f1_score"
      ]
    },
    {
      "cell_type": "code",
      "execution_count": 27,
      "metadata": {
        "colab": {
          "base_uri": "https://localhost:8080/"
        },
        "id": "bbB-VG93kMhp",
        "outputId": "2cf8facc-ca4d-4544-9d0d-e697818e1bc9"
      },
      "outputs": [
        {
          "data": {
            "text/plain": [
              "0.5313351498637602"
            ]
          },
          "execution_count": 27,
          "metadata": {},
          "output_type": "execute_result"
        }
      ],
      "source": [
        "f1_score(nba_df['playoffs'], nba_df['random_guess'])"
      ]
    },
    {
      "cell_type": "markdown",
      "metadata": {
        "id": "VR9qI12-ktTz"
      },
      "source": [
        "We can now also compute accuracy as\n",
        "\n",
        "$$\n",
        "\\frac{\\#\\text{ Correct guesses}}{\\#\\text{ Total guesses}}\n",
        "$$\n",
        "\n",
        "to see the difference between F1 score and accuracy:"
      ]
    },
    {
      "cell_type": "code",
      "execution_count": 28,
      "metadata": {
        "colab": {
          "base_uri": "https://localhost:8080/"
        },
        "id": "QLjPwKnQklai",
        "outputId": "bc26be6b-b172-4278-d34e-e6e140d03026"
      },
      "outputs": [
        {
          "data": {
            "text/plain": [
              "0.49633967789165445"
            ]
          },
          "execution_count": 28,
          "metadata": {},
          "output_type": "execute_result"
        }
      ],
      "source": [
        "nba_df['random_guess_correct'] = nba_df['playoffs'] == nba_df['random_guess']\n",
        "correct_random_guess_rows = nba_df[nba_df['random_guess_correct'] == True]\n",
        "random_guess_accuracy = len(correct_random_guess_rows) / len(nba_df)\n",
        "random_guess_accuracy"
      ]
    },
    {
      "cell_type": "markdown",
      "metadata": {
        "id": "358vZQyuubDw"
      },
      "source": [
        "## (5) Baseline 2: Guessing the Most Frequent Label"
      ]
    },
    {
      "cell_type": "markdown",
      "metadata": {
        "id": "kHCO_V7VmqRL"
      },
      "source": [
        "The two metrics (accuracy and F1 score) don't seem so different in this case, but now let's implement the **second baseline model** mentioned above, where we **always guess the most frequent label** no matter what observation we're looking at.\n",
        "\n",
        "Notice how, just as in the random-guessing case, here we are **not even looking at the features of the individual observations at all**. And yet, here we will almost always achieve a **higher accuracy** than the random-guessing approach, essentially because we are allowing a small \"bit\" of information about the labels to enter our algorithm here: whereas the random-guess model truly knows nothing about the distribution of labels in the dataset, the guess-most-frequent-label approach **does** know that there are more observations with a `playoffs` value of `1` than with a `playoffs` value of `0`, and it is able to take advantage of this information:"
      ]
    },
    {
      "cell_type": "code",
      "execution_count": 29,
      "metadata": {
        "colab": {
          "base_uri": "https://localhost:8080/"
        },
        "id": "qGvAUWKxn2Wp",
        "outputId": "f877cd38-5565-4caf-f0fb-43edc6246144"
      },
      "outputs": [
        {
          "name": "stderr",
          "output_type": "stream",
          "text": [
            "/var/folders/n2/m7_fj5vx6c50_yj7g23mwmq00000gn/T/ipykernel_10671/1516993167.py:7: FutureWarning: Calling int on a single element Series is deprecated and will raise a TypeError in the future. Use int(ser.iloc[0]) instead\n",
            "  most_frequent_label = int(nba_df['playoffs'].mode())\n"
          ]
        },
        {
          "data": {
            "text/plain": [
              "1"
            ]
          },
          "execution_count": 29,
          "metadata": {},
          "output_type": "execute_result"
        }
      ],
      "source": [
        "# Since datasets can technically have more than one mode, the\n",
        "# mode() function in Pandas returns a pd.Series object containing\n",
        "# all of the mode values. Since in this case we know that there is\n",
        "# only **one** mode (the value 1), we can just convert this\n",
        "# one-item pd.Series directly into an integer value using Python's\n",
        "# int() method:\n",
        "most_frequent_label = int(nba_df['playoffs'].mode())\n",
        "most_frequent_label"
      ]
    },
    {
      "cell_type": "code",
      "execution_count": 30,
      "metadata": {
        "colab": {
          "base_uri": "https://localhost:8080/",
          "height": 342
        },
        "id": "lQ9ZlSagk1p2",
        "outputId": "1fd9aabb-b76c-4d3e-8071-e5e31b411d58"
      },
      "outputs": [
        {
          "data": {
            "text/html": [
              "<div>\n",
              "<style scoped>\n",
              "    .dataframe tbody tr th:only-of-type {\n",
              "        vertical-align: middle;\n",
              "    }\n",
              "\n",
              "    .dataframe tbody tr th {\n",
              "        vertical-align: top;\n",
              "    }\n",
              "\n",
              "    .dataframe thead th {\n",
              "        text-align: right;\n",
              "    }\n",
              "</style>\n",
              "<table border=\"1\" class=\"dataframe\">\n",
              "  <thead>\n",
              "    <tr style=\"text-align: right;\">\n",
              "      <th></th>\n",
              "      <th>year_team</th>\n",
              "      <th>po_year</th>\n",
              "      <th>team_full</th>\n",
              "      <th>mean_age</th>\n",
              "      <th>mean_height</th>\n",
              "      <th>mean_weight</th>\n",
              "      <th>PtsSeason</th>\n",
              "      <th>OppPtsSeason</th>\n",
              "      <th>PtsDiff</th>\n",
              "      <th>Reb</th>\n",
              "      <th>...</th>\n",
              "      <th>To</th>\n",
              "      <th>Pf</th>\n",
              "      <th>Dreb</th>\n",
              "      <th>Oreb</th>\n",
              "      <th>playoffs</th>\n",
              "      <th>season_pts_z_score</th>\n",
              "      <th>above_mean_pts</th>\n",
              "      <th>random_guess</th>\n",
              "      <th>random_guess_correct</th>\n",
              "      <th>most_freq_guess</th>\n",
              "    </tr>\n",
              "  </thead>\n",
              "  <tbody>\n",
              "    <tr>\n",
              "      <th>0</th>\n",
              "      <td>1998_Atlanta Hawks</td>\n",
              "      <td>1998</td>\n",
              "      <td>Atlanta Hawks</td>\n",
              "      <td>28.250000</td>\n",
              "      <td>199.231250</td>\n",
              "      <td>99.166551</td>\n",
              "      <td>95.9</td>\n",
              "      <td>92.3</td>\n",
              "      <td>3.6</td>\n",
              "      <td>42.8</td>\n",
              "      <td>...</td>\n",
              "      <td>14.0</td>\n",
              "      <td>20.5</td>\n",
              "      <td>29.5</td>\n",
              "      <td>13.4</td>\n",
              "      <td>1</td>\n",
              "      <td>0.082901</td>\n",
              "      <td>True</td>\n",
              "      <td>0</td>\n",
              "      <td>False</td>\n",
              "      <td>1</td>\n",
              "    </tr>\n",
              "    <tr>\n",
              "      <th>1</th>\n",
              "      <td>1998_Boston Celtics</td>\n",
              "      <td>1998</td>\n",
              "      <td>Boston Celtics</td>\n",
              "      <td>25.857143</td>\n",
              "      <td>200.297143</td>\n",
              "      <td>95.027524</td>\n",
              "      <td>95.9</td>\n",
              "      <td>98.5</td>\n",
              "      <td>-2.6</td>\n",
              "      <td>39.5</td>\n",
              "      <td>...</td>\n",
              "      <td>15.6</td>\n",
              "      <td>26.9</td>\n",
              "      <td>24.9</td>\n",
              "      <td>14.6</td>\n",
              "      <td>0</td>\n",
              "      <td>0.082901</td>\n",
              "      <td>True</td>\n",
              "      <td>0</td>\n",
              "      <td>True</td>\n",
              "      <td>1</td>\n",
              "    </tr>\n",
              "    <tr>\n",
              "      <th>2</th>\n",
              "      <td>1998_Charlotte Hornets</td>\n",
              "      <td>1998</td>\n",
              "      <td>Charlotte Hornets</td>\n",
              "      <td>29.733333</td>\n",
              "      <td>200.829333</td>\n",
              "      <td>101.755805</td>\n",
              "      <td>96.6</td>\n",
              "      <td>94.6</td>\n",
              "      <td>2.0</td>\n",
              "      <td>40.1</td>\n",
              "      <td>...</td>\n",
              "      <td>14.4</td>\n",
              "      <td>21.4</td>\n",
              "      <td>28.4</td>\n",
              "      <td>11.7</td>\n",
              "      <td>1</td>\n",
              "      <td>0.261932</td>\n",
              "      <td>True</td>\n",
              "      <td>0</td>\n",
              "      <td>False</td>\n",
              "      <td>1</td>\n",
              "    </tr>\n",
              "    <tr>\n",
              "      <th>3</th>\n",
              "      <td>1998_Chicago Bulls</td>\n",
              "      <td>1998</td>\n",
              "      <td>Chicago Bulls</td>\n",
              "      <td>30.600000</td>\n",
              "      <td>201.337333</td>\n",
              "      <td>103.691131</td>\n",
              "      <td>96.7</td>\n",
              "      <td>89.6</td>\n",
              "      <td>7.1</td>\n",
              "      <td>44.1</td>\n",
              "      <td>...</td>\n",
              "      <td>13.0</td>\n",
              "      <td>21.1</td>\n",
              "      <td>29.2</td>\n",
              "      <td>14.9</td>\n",
              "      <td>1</td>\n",
              "      <td>0.287508</td>\n",
              "      <td>True</td>\n",
              "      <td>0</td>\n",
              "      <td>False</td>\n",
              "      <td>1</td>\n",
              "    </tr>\n",
              "    <tr>\n",
              "      <th>4</th>\n",
              "      <td>1998_Cleveland Cavaliers</td>\n",
              "      <td>1998</td>\n",
              "      <td>Cleveland Cavaliers</td>\n",
              "      <td>26.375000</td>\n",
              "      <td>199.231250</td>\n",
              "      <td>96.756844</td>\n",
              "      <td>92.5</td>\n",
              "      <td>89.8</td>\n",
              "      <td>2.7</td>\n",
              "      <td>39.8</td>\n",
              "      <td>...</td>\n",
              "      <td>16.6</td>\n",
              "      <td>23.7</td>\n",
              "      <td>28.2</td>\n",
              "      <td>11.6</td>\n",
              "      <td>1</td>\n",
              "      <td>-0.786678</td>\n",
              "      <td>False</td>\n",
              "      <td>1</td>\n",
              "      <td>True</td>\n",
              "      <td>1</td>\n",
              "    </tr>\n",
              "  </tbody>\n",
              "</table>\n",
              "<p>5 rows × 23 columns</p>\n",
              "</div>"
            ],
            "text/plain": [
              "                  year_team  po_year            team_full   mean_age  \\\n",
              "0        1998_Atlanta Hawks     1998        Atlanta Hawks  28.250000   \n",
              "1       1998_Boston Celtics     1998       Boston Celtics  25.857143   \n",
              "2    1998_Charlotte Hornets     1998    Charlotte Hornets  29.733333   \n",
              "3        1998_Chicago Bulls     1998        Chicago Bulls  30.600000   \n",
              "4  1998_Cleveland Cavaliers     1998  Cleveland Cavaliers  26.375000   \n",
              "\n",
              "   mean_height  mean_weight  PtsSeason  OppPtsSeason  PtsDiff   Reb  ...  \\\n",
              "0   199.231250    99.166551       95.9          92.3      3.6  42.8  ...   \n",
              "1   200.297143    95.027524       95.9          98.5     -2.6  39.5  ...   \n",
              "2   200.829333   101.755805       96.6          94.6      2.0  40.1  ...   \n",
              "3   201.337333   103.691131       96.7          89.6      7.1  44.1  ...   \n",
              "4   199.231250    96.756844       92.5          89.8      2.7  39.8  ...   \n",
              "\n",
              "     To    Pf  Dreb  Oreb  playoffs  season_pts_z_score  above_mean_pts  \\\n",
              "0  14.0  20.5  29.5  13.4         1            0.082901            True   \n",
              "1  15.6  26.9  24.9  14.6         0            0.082901            True   \n",
              "2  14.4  21.4  28.4  11.7         1            0.261932            True   \n",
              "3  13.0  21.1  29.2  14.9         1            0.287508            True   \n",
              "4  16.6  23.7  28.2  11.6         1           -0.786678           False   \n",
              "\n",
              "   random_guess  random_guess_correct  most_freq_guess  \n",
              "0             0                 False                1  \n",
              "1             0                  True                1  \n",
              "2             0                 False                1  \n",
              "3             0                 False                1  \n",
              "4             1                  True                1  \n",
              "\n",
              "[5 rows x 23 columns]"
            ]
          },
          "execution_count": 30,
          "metadata": {},
          "output_type": "execute_result"
        }
      ],
      "source": [
        "nba_df['most_freq_guess'] = most_frequent_label\n",
        "nba_df.head()"
      ]
    },
    {
      "cell_type": "markdown",
      "metadata": {
        "id": "4Suod1-yns7j"
      },
      "source": [
        "And now we can use Scikit-learn's `f1_score()` function to compute the F1 score in this case as well:"
      ]
    },
    {
      "cell_type": "code",
      "execution_count": 31,
      "metadata": {
        "colab": {
          "base_uri": "https://localhost:8080/"
        },
        "id": "_ICuKprensQQ",
        "outputId": "e26820a5-6df2-442e-f15d-631aeefc365e"
      },
      "outputs": [
        {
          "data": {
            "text/plain": [
              "0.7002854424357755"
            ]
          },
          "execution_count": 31,
          "metadata": {},
          "output_type": "execute_result"
        }
      ],
      "source": [
        "f1_score(nba_df['playoffs'], nba_df['most_freq_guess'])"
      ]
    },
    {
      "cell_type": "markdown",
      "metadata": {
        "id": "jM-m7ML9ot_S"
      },
      "source": [
        "And the accuracy of this most-frequent-label guess approach as well, for comparison:"
      ]
    },
    {
      "cell_type": "code",
      "execution_count": 32,
      "metadata": {
        "colab": {
          "base_uri": "https://localhost:8080/"
        },
        "id": "AglcLZ4holdw",
        "outputId": "840c1976-6111-4c78-9e16-9ad6747b4a92"
      },
      "outputs": [
        {
          "data": {
            "text/plain": [
              "0.5387994143484627"
            ]
          },
          "execution_count": 32,
          "metadata": {},
          "output_type": "execute_result"
        }
      ],
      "source": [
        "nba_df['most_freq_guess_correct'] = nba_df['most_freq_guess'] == nba_df['playoffs']\n",
        "correct_most_freq_rows = nba_df[nba_df['most_freq_guess_correct'] == True]\n",
        "most_freq_accuracy = len(correct_most_freq_rows) / len(nba_df)\n",
        "most_freq_accuracy"
      ]
    },
    {
      "cell_type": "markdown",
      "metadata": {
        "id": "-dRQE6tqpcJk"
      },
      "source": [
        "Note that here, unlike in the liked-and-disliked-houses example from the slides, guessing the most-frequent label every time actually does produce a fairly high **F1 score** of about 0.7. So, if we were doing all this as research to put into a paper and submit to a CS journal, we would now have our set of **baselines** that we should be able to **beat** in order to show that our fancier machine-learning approach was **actually *learning* something** about the data, in a deeper sense than just e.g. learning what the most-frequent label was and always guessing that. In a Machine Learning paper, generally these two baseline approaches would appear in a table like the following (where I've left blanks in the slots for our fancy algorithm that we're hoping can soundly \"beat out\" these baseline approaches):\n",
        "\n",
        "| Algorithm | Accuracy | F1 Score |\n",
        "| - | - | - |\n",
        "| ML Algorithm + **Feature Selection** | ? | **?** |\n",
        "| ML Algorithm **without** Feature Selection | ? | **?** |\n",
        "| Baseline: Guess Most Frequent Label | 0.539 | **0.700** |\n",
        "| Baseline: Random Guessing | 0.496 | **0.531** |\n",
        "\n",
        "Where here I have bolded the **F1 Score** column to indicate that, as is standard practice in most CS journals, we are **sorting the results by F1 score** rather than accuracy or any other metric which might be \"misled\" by fake not-actually-learning-anything approaches like guessing the most frequent label.\n",
        "\n",
        "In the next and final part, we will fill in these final \"?\" cells in the table, seeing what we are able to accomplish using a standard ML algorithm **without** feature selection, and then seeing how applying an additional feature selection step can **improve upon** the performance (in terms of F1 score) of the ML algorithm without this feature selection step.\n",
        "\n",
        "To illustrate how standard the F1 score is, I went on the CS Arxiv (which I get email updates about, and check every day, incidentally!) and looked at the papers posted today in the Computation and Language category: I opened <a href='' target='_blank'>the very first paper I saw on the list</a> and scrolled down without reading anything at all, and alas! There was an F1 score table right at the top of page 6 of the PDF. Which is just an example of how, the more familiar and comfortable you are with the F1 score and the two quantities it is built upon (**precision** and **recall**), the easier it will become for you to keep up with the Computer Science literature!"
      ]
    },
    {
      "cell_type": "markdown",
      "metadata": {
        "id": "b0wtQOXGfDTf"
      },
      "source": [
        "## (6) Using an \"Off-The-Shelf\" Machine Learning Model"
      ]
    },
    {
      "cell_type": "markdown",
      "metadata": {
        "id": "7MXF7mXWgBxa"
      },
      "source": [
        "Since the Lab 3.2 Assignment asks you to train a <a href='https://scikit-learn.org/stable/modules/generated/sklearn.naive_bayes.GaussianNB.html' target='_blank'>Gaussian Naïve Bayes classifier</a>, here I will instead use Scikit-learn's <a href='https://scikit-learn.org/stable/modules/generated/sklearn.svm.LinearSVC.html' target='_blank'>Linear Support Vector Machine (SVM) Classifier</a>. But, since Scikit-learn's various classes and functions often work very similarly to one another, this will give you a good starting point to take what you learn here and apply it to the `GaussianNB` classifier on the assignment!\n",
        "\n",
        "> **Quick Aside: Classification vs. Regression**<br><br>If you take a quick look at the Scikit-learn documentation's <a href='https://scikit-learn.org/stable/modules/classes.html#module-sklearn.svm' target='_blank'>section on Support Vector Machines</a>, you'll see that it contains both **Classification** and **Regression** versions of the SVM algorithm:\n",
        "\n",
        "![](https://jpj.georgetown.domains/dsan5000-scratch/feature-selection/sklearn_svm.jpeg)\n",
        "\n",
        "> This relates to what I mentioned in class, that when you're first learning about ML algorithms, you can usually worry less about the distinction between **discrete** and **continuous** data than we've been worrying in class up to this point. Once you get more comfortable with how these ML algorithms work in general, **then** you can think more deeply about the difference (for example, in terms of the number of datapoints that will be needed for the ML algorithm to learn the relationship between features and labels), but for now I just wanted to point out that we could have done this entire lab with a **continuous label** rather than a **discrete label**, without much difference in the Scikit-learn code that we're using!"
      ]
    },
    {
      "cell_type": "markdown",
      "metadata": {
        "id": "hk--2IwmotgS"
      },
      "source": [
        "So, to get started (and, Scikit-learn's <a href='https://scikit-learn.org/stable/modules/svm.html' target='_blank'>tutorial page</a> is a good place to look for how to get started as well, more generally), we import the `svm` module within `sklearn`:"
      ]
    },
    {
      "cell_type": "code",
      "execution_count": 33,
      "metadata": {
        "id": "zsKYwBqmpN9Q"
      },
      "outputs": [],
      "source": [
        "from sklearn import svm"
      ]
    },
    {
      "cell_type": "markdown",
      "metadata": {
        "id": "6V-NMg7Ppqhe"
      },
      "source": [
        "Now, since (as mentioned above) Scikit-learn is set up to work with **numeric** NumPy vectors/matrices rather than Pandas `DataFrame` objects, we'll need to convert our `nba_df` object into a NumPy array. This can be done very quickly and straightforwardly, in most cases, by just accessing the `.values` attribute on the `DataFrame` itself, or on specific columns of the `DataFrame`:"
      ]
    },
    {
      "cell_type": "code",
      "execution_count": 34,
      "metadata": {
        "colab": {
          "base_uri": "https://localhost:8080/"
        },
        "id": "RXBlN_PPpc_7",
        "outputId": "4e85fa7a-8f12-491e-ae71-afd72e4f1e9b"
      },
      "outputs": [
        {
          "data": {
            "text/plain": [
              "['mean_age',\n",
              " 'mean_height',\n",
              " 'mean_weight',\n",
              " 'PtsSeason',\n",
              " 'OppPtsSeason',\n",
              " 'PtsDiff',\n",
              " 'Reb',\n",
              " 'Ast',\n",
              " 'Stl',\n",
              " 'Blk',\n",
              " 'To',\n",
              " 'Pf',\n",
              " 'Dreb',\n",
              " 'Oreb']"
            ]
          },
          "execution_count": 34,
          "metadata": {},
          "output_type": "execute_result"
        }
      ],
      "source": [
        "# Drop the columns we created in the previous sections (e.g., for the\n",
        "# random-guessing and guess-most-frequent-label models above), where we specify\n",
        "# `errors='ignore'` so that this line doesn't crash if we've already dropped\n",
        "# them at some point\n",
        "prev_cols = [\n",
        "    'season_pts_z_score','above_mean_pts','random_guess','random_guess_correct',\n",
        "    'most_freq_guess', 'most_freq_guess_correct'\n",
        "]\n",
        "nba_df.drop(columns = prev_cols, inplace=True, errors='ignore')\n",
        "# And now we specify the id columns (which sklearn can't use) and the label\n",
        "# column, so that the feature columns are just all of the remaining columns in\n",
        "# the DataFrame\n",
        "id_cols = ['year_team','po_year','team_full']\n",
        "label_col = 'playoffs'\n",
        "feature_cols = [c for c in nba_df.columns if c != label_col and c not in id_cols]\n",
        "feature_cols"
      ]
    },
    {
      "cell_type": "markdown",
      "metadata": {
        "id": "5g7vo5tzrkvk"
      },
      "source": [
        "And now we're ready to extract the subsets of `nba_df` that we'll use as the **feature matrix** and **label vector** that we provide to Scikit-learn:"
      ]
    },
    {
      "cell_type": "code",
      "execution_count": 35,
      "metadata": {
        "colab": {
          "base_uri": "https://localhost:8080/",
          "height": 424
        },
        "id": "StfRXyo8q_yP",
        "outputId": "e702a220-3c3b-4be2-f878-a8ef1004df88"
      },
      "outputs": [
        {
          "data": {
            "text/html": [
              "<div>\n",
              "<style scoped>\n",
              "    .dataframe tbody tr th:only-of-type {\n",
              "        vertical-align: middle;\n",
              "    }\n",
              "\n",
              "    .dataframe tbody tr th {\n",
              "        vertical-align: top;\n",
              "    }\n",
              "\n",
              "    .dataframe thead th {\n",
              "        text-align: right;\n",
              "    }\n",
              "</style>\n",
              "<table border=\"1\" class=\"dataframe\">\n",
              "  <thead>\n",
              "    <tr style=\"text-align: right;\">\n",
              "      <th></th>\n",
              "      <th>mean_age</th>\n",
              "      <th>mean_height</th>\n",
              "      <th>mean_weight</th>\n",
              "      <th>PtsSeason</th>\n",
              "      <th>OppPtsSeason</th>\n",
              "      <th>PtsDiff</th>\n",
              "      <th>Reb</th>\n",
              "      <th>Ast</th>\n",
              "      <th>Stl</th>\n",
              "      <th>Blk</th>\n",
              "      <th>To</th>\n",
              "      <th>Pf</th>\n",
              "      <th>Dreb</th>\n",
              "      <th>Oreb</th>\n",
              "    </tr>\n",
              "  </thead>\n",
              "  <tbody>\n",
              "    <tr>\n",
              "      <th>0</th>\n",
              "      <td>28.250000</td>\n",
              "      <td>199.231250</td>\n",
              "      <td>99.166551</td>\n",
              "      <td>95.9</td>\n",
              "      <td>92.3</td>\n",
              "      <td>3.6</td>\n",
              "      <td>42.8</td>\n",
              "      <td>19.0</td>\n",
              "      <td>8.0</td>\n",
              "      <td>5.9</td>\n",
              "      <td>14.0</td>\n",
              "      <td>20.5</td>\n",
              "      <td>29.5</td>\n",
              "      <td>13.4</td>\n",
              "    </tr>\n",
              "    <tr>\n",
              "      <th>1</th>\n",
              "      <td>25.857143</td>\n",
              "      <td>200.297143</td>\n",
              "      <td>95.027524</td>\n",
              "      <td>95.9</td>\n",
              "      <td>98.5</td>\n",
              "      <td>-2.6</td>\n",
              "      <td>39.5</td>\n",
              "      <td>22.1</td>\n",
              "      <td>12.0</td>\n",
              "      <td>4.5</td>\n",
              "      <td>15.6</td>\n",
              "      <td>26.9</td>\n",
              "      <td>24.9</td>\n",
              "      <td>14.6</td>\n",
              "    </tr>\n",
              "    <tr>\n",
              "      <th>2</th>\n",
              "      <td>29.733333</td>\n",
              "      <td>200.829333</td>\n",
              "      <td>101.755805</td>\n",
              "      <td>96.6</td>\n",
              "      <td>94.6</td>\n",
              "      <td>2.0</td>\n",
              "      <td>40.1</td>\n",
              "      <td>23.4</td>\n",
              "      <td>8.2</td>\n",
              "      <td>3.7</td>\n",
              "      <td>14.4</td>\n",
              "      <td>21.4</td>\n",
              "      <td>28.4</td>\n",
              "      <td>11.7</td>\n",
              "    </tr>\n",
              "    <tr>\n",
              "      <th>3</th>\n",
              "      <td>30.600000</td>\n",
              "      <td>201.337333</td>\n",
              "      <td>103.691131</td>\n",
              "      <td>96.7</td>\n",
              "      <td>89.6</td>\n",
              "      <td>7.1</td>\n",
              "      <td>44.1</td>\n",
              "      <td>23.1</td>\n",
              "      <td>8.6</td>\n",
              "      <td>4.3</td>\n",
              "      <td>13.0</td>\n",
              "      <td>21.1</td>\n",
              "      <td>29.2</td>\n",
              "      <td>14.9</td>\n",
              "    </tr>\n",
              "    <tr>\n",
              "      <th>4</th>\n",
              "      <td>26.375000</td>\n",
              "      <td>199.231250</td>\n",
              "      <td>96.756844</td>\n",
              "      <td>92.5</td>\n",
              "      <td>89.8</td>\n",
              "      <td>2.7</td>\n",
              "      <td>39.8</td>\n",
              "      <td>22.9</td>\n",
              "      <td>9.9</td>\n",
              "      <td>5.0</td>\n",
              "      <td>16.6</td>\n",
              "      <td>23.7</td>\n",
              "      <td>28.2</td>\n",
              "      <td>11.6</td>\n",
              "    </tr>\n",
              "    <tr>\n",
              "      <th>...</th>\n",
              "      <td>...</td>\n",
              "      <td>...</td>\n",
              "      <td>...</td>\n",
              "      <td>...</td>\n",
              "      <td>...</td>\n",
              "      <td>...</td>\n",
              "      <td>...</td>\n",
              "      <td>...</td>\n",
              "      <td>...</td>\n",
              "      <td>...</td>\n",
              "      <td>...</td>\n",
              "      <td>...</td>\n",
              "      <td>...</td>\n",
              "      <td>...</td>\n",
              "    </tr>\n",
              "    <tr>\n",
              "      <th>678</th>\n",
              "      <td>25.117647</td>\n",
              "      <td>199.763529</td>\n",
              "      <td>98.242691</td>\n",
              "      <td>110.1</td>\n",
              "      <td>112.1</td>\n",
              "      <td>-2.0</td>\n",
              "      <td>42.6</td>\n",
              "      <td>23.8</td>\n",
              "      <td>7.7</td>\n",
              "      <td>4.1</td>\n",
              "      <td>13.7</td>\n",
              "      <td>22.2</td>\n",
              "      <td>32.9</td>\n",
              "      <td>9.7</td>\n",
              "    </tr>\n",
              "    <tr>\n",
              "      <th>679</th>\n",
              "      <td>25.750000</td>\n",
              "      <td>199.390000</td>\n",
              "      <td>99.223250</td>\n",
              "      <td>114.1</td>\n",
              "      <td>115.2</td>\n",
              "      <td>-1.1</td>\n",
              "      <td>44.6</td>\n",
              "      <td>24.7</td>\n",
              "      <td>7.3</td>\n",
              "      <td>5.5</td>\n",
              "      <td>12.2</td>\n",
              "      <td>19.4</td>\n",
              "      <td>35.6</td>\n",
              "      <td>9.0</td>\n",
              "    </tr>\n",
              "    <tr>\n",
              "      <th>680</th>\n",
              "      <td>25.555556</td>\n",
              "      <td>198.261111</td>\n",
              "      <td>96.539497</td>\n",
              "      <td>112.8</td>\n",
              "      <td>106.5</td>\n",
              "      <td>6.3</td>\n",
              "      <td>45.3</td>\n",
              "      <td>25.2</td>\n",
              "      <td>8.6</td>\n",
              "      <td>5.0</td>\n",
              "      <td>13.8</td>\n",
              "      <td>21.8</td>\n",
              "      <td>36.0</td>\n",
              "      <td>9.3</td>\n",
              "    </tr>\n",
              "    <tr>\n",
              "      <th>681</th>\n",
              "      <td>25.666667</td>\n",
              "      <td>196.285556</td>\n",
              "      <td>98.353865</td>\n",
              "      <td>111.3</td>\n",
              "      <td>108.8</td>\n",
              "      <td>2.5</td>\n",
              "      <td>44.6</td>\n",
              "      <td>22.3</td>\n",
              "      <td>6.1</td>\n",
              "      <td>4.0</td>\n",
              "      <td>14.2</td>\n",
              "      <td>20.3</td>\n",
              "      <td>35.4</td>\n",
              "      <td>9.1</td>\n",
              "    </tr>\n",
              "    <tr>\n",
              "      <th>682</th>\n",
              "      <td>25.210526</td>\n",
              "      <td>197.718947</td>\n",
              "      <td>96.925448</td>\n",
              "      <td>114.4</td>\n",
              "      <td>119.1</td>\n",
              "      <td>-4.7</td>\n",
              "      <td>42.1</td>\n",
              "      <td>25.0</td>\n",
              "      <td>8.0</td>\n",
              "      <td>4.3</td>\n",
              "      <td>13.5</td>\n",
              "      <td>22.7</td>\n",
              "      <td>31.9</td>\n",
              "      <td>10.2</td>\n",
              "    </tr>\n",
              "  </tbody>\n",
              "</table>\n",
              "<p>683 rows × 14 columns</p>\n",
              "</div>"
            ],
            "text/plain": [
              "      mean_age  mean_height  mean_weight  PtsSeason  OppPtsSeason  PtsDiff  \\\n",
              "0    28.250000   199.231250    99.166551       95.9          92.3      3.6   \n",
              "1    25.857143   200.297143    95.027524       95.9          98.5     -2.6   \n",
              "2    29.733333   200.829333   101.755805       96.6          94.6      2.0   \n",
              "3    30.600000   201.337333   103.691131       96.7          89.6      7.1   \n",
              "4    26.375000   199.231250    96.756844       92.5          89.8      2.7   \n",
              "..         ...          ...          ...        ...           ...      ...   \n",
              "678  25.117647   199.763529    98.242691      110.1         112.1     -2.0   \n",
              "679  25.750000   199.390000    99.223250      114.1         115.2     -1.1   \n",
              "680  25.555556   198.261111    96.539497      112.8         106.5      6.3   \n",
              "681  25.666667   196.285556    98.353865      111.3         108.8      2.5   \n",
              "682  25.210526   197.718947    96.925448      114.4         119.1     -4.7   \n",
              "\n",
              "      Reb   Ast   Stl  Blk    To    Pf  Dreb  Oreb  \n",
              "0    42.8  19.0   8.0  5.9  14.0  20.5  29.5  13.4  \n",
              "1    39.5  22.1  12.0  4.5  15.6  26.9  24.9  14.6  \n",
              "2    40.1  23.4   8.2  3.7  14.4  21.4  28.4  11.7  \n",
              "3    44.1  23.1   8.6  4.3  13.0  21.1  29.2  14.9  \n",
              "4    39.8  22.9   9.9  5.0  16.6  23.7  28.2  11.6  \n",
              "..    ...   ...   ...  ...   ...   ...   ...   ...  \n",
              "678  42.6  23.8   7.7  4.1  13.7  22.2  32.9   9.7  \n",
              "679  44.6  24.7   7.3  5.5  12.2  19.4  35.6   9.0  \n",
              "680  45.3  25.2   8.6  5.0  13.8  21.8  36.0   9.3  \n",
              "681  44.6  22.3   6.1  4.0  14.2  20.3  35.4   9.1  \n",
              "682  42.1  25.0   8.0  4.3  13.5  22.7  31.9  10.2  \n",
              "\n",
              "[683 rows x 14 columns]"
            ]
          },
          "execution_count": 35,
          "metadata": {},
          "output_type": "execute_result"
        }
      ],
      "source": [
        "feature_matrix = nba_df[feature_cols].copy()\n",
        "feature_matrix"
      ]
    },
    {
      "cell_type": "code",
      "execution_count": 36,
      "metadata": {
        "colab": {
          "base_uri": "https://localhost:8080/"
        },
        "id": "vs0MGLshr7zc",
        "outputId": "21d88b6f-da62-4213-cb80-0fb89ac048d3"
      },
      "outputs": [
        {
          "data": {
            "text/plain": [
              "(683, 14)"
            ]
          },
          "execution_count": 36,
          "metadata": {},
          "output_type": "execute_result"
        }
      ],
      "source": [
        "feature_matrix.shape"
      ]
    },
    {
      "cell_type": "code",
      "execution_count": 37,
      "metadata": {
        "colab": {
          "base_uri": "https://localhost:8080/"
        },
        "id": "vyCo2RxgrxjZ",
        "outputId": "21cd4a2e-de14-43ba-c872-798a459b89f9"
      },
      "outputs": [
        {
          "data": {
            "text/plain": [
              "0      1\n",
              "1      0\n",
              "2      1\n",
              "3      1\n",
              "4      1\n",
              "      ..\n",
              "678    0\n",
              "679    0\n",
              "680    1\n",
              "681    1\n",
              "682    0\n",
              "Name: playoffs, Length: 683, dtype: int64"
            ]
          },
          "execution_count": 37,
          "metadata": {},
          "output_type": "execute_result"
        }
      ],
      "source": [
        "label_vec = nba_df[label_col].copy()\n",
        "label_vec"
      ]
    },
    {
      "cell_type": "code",
      "execution_count": 38,
      "metadata": {
        "colab": {
          "base_uri": "https://localhost:8080/"
        },
        "id": "0HAa8yFAr1Np",
        "outputId": "7110dc46-c52d-4cd7-a31a-44c6448677cb"
      },
      "outputs": [
        {
          "data": {
            "text/plain": [
              "(683,)"
            ]
          },
          "execution_count": 38,
          "metadata": {},
          "output_type": "execute_result"
        }
      ],
      "source": [
        "label_vec.shape"
      ]
    },
    {
      "cell_type": "markdown",
      "metadata": {
        "id": "2VWNOjFasBfV"
      },
      "source": [
        "So we can see that our **feature matrix** in this case is a 683 x 14 matrix, while our **label vector** is a 683-dimensional **column vector**"
      ]
    },
    {
      "cell_type": "markdown",
      "metadata": {
        "id": "CA9j2DeyuD4O"
      },
      "source": [
        "First things first, we create an `SVC` **object**, which we will use for **fitting** the model to data, for **evaluating** the model, and then for using the trained model to make **predictions** given new not-seen-before datapoints. Typically we call this object `clf` to identify that it is a **classifier** object (like how we use `df` to identify that this is a `DataFrame` object)"
      ]
    },
    {
      "cell_type": "code",
      "execution_count": 39,
      "metadata": {
        "id": "2n-CgK51r_12"
      },
      "outputs": [],
      "source": [
        "clf = svm.SVC()"
      ]
    },
    {
      "cell_type": "markdown",
      "metadata": {
        "id": "YEwQS4ZByviR"
      },
      "source": [
        "Now, since we have a classifier object `clf`, we could immediately train an SVM on all of our data, as-is, using the following code:"
      ]
    },
    {
      "cell_type": "code",
      "execution_count": 40,
      "metadata": {
        "colab": {
          "base_uri": "https://localhost:8080/",
          "height": 75
        },
        "id": "HoBrjy7Yy2ej",
        "outputId": "3d6627fc-bfdd-4c3a-91ee-825900249600"
      },
      "outputs": [
        {
          "data": {
            "text/html": [
              "<style>#sk-container-id-1 {color: black;}#sk-container-id-1 pre{padding: 0;}#sk-container-id-1 div.sk-toggleable {background-color: white;}#sk-container-id-1 label.sk-toggleable__label {cursor: pointer;display: block;width: 100%;margin-bottom: 0;padding: 0.3em;box-sizing: border-box;text-align: center;}#sk-container-id-1 label.sk-toggleable__label-arrow:before {content: \"▸\";float: left;margin-right: 0.25em;color: #696969;}#sk-container-id-1 label.sk-toggleable__label-arrow:hover:before {color: black;}#sk-container-id-1 div.sk-estimator:hover label.sk-toggleable__label-arrow:before {color: black;}#sk-container-id-1 div.sk-toggleable__content {max-height: 0;max-width: 0;overflow: hidden;text-align: left;background-color: #f0f8ff;}#sk-container-id-1 div.sk-toggleable__content pre {margin: 0.2em;color: black;border-radius: 0.25em;background-color: #f0f8ff;}#sk-container-id-1 input.sk-toggleable__control:checked~div.sk-toggleable__content {max-height: 200px;max-width: 100%;overflow: auto;}#sk-container-id-1 input.sk-toggleable__control:checked~label.sk-toggleable__label-arrow:before {content: \"▾\";}#sk-container-id-1 div.sk-estimator input.sk-toggleable__control:checked~label.sk-toggleable__label {background-color: #d4ebff;}#sk-container-id-1 div.sk-label input.sk-toggleable__control:checked~label.sk-toggleable__label {background-color: #d4ebff;}#sk-container-id-1 input.sk-hidden--visually {border: 0;clip: rect(1px 1px 1px 1px);clip: rect(1px, 1px, 1px, 1px);height: 1px;margin: -1px;overflow: hidden;padding: 0;position: absolute;width: 1px;}#sk-container-id-1 div.sk-estimator {font-family: monospace;background-color: #f0f8ff;border: 1px dotted black;border-radius: 0.25em;box-sizing: border-box;margin-bottom: 0.5em;}#sk-container-id-1 div.sk-estimator:hover {background-color: #d4ebff;}#sk-container-id-1 div.sk-parallel-item::after {content: \"\";width: 100%;border-bottom: 1px solid gray;flex-grow: 1;}#sk-container-id-1 div.sk-label:hover label.sk-toggleable__label {background-color: #d4ebff;}#sk-container-id-1 div.sk-serial::before {content: \"\";position: absolute;border-left: 1px solid gray;box-sizing: border-box;top: 0;bottom: 0;left: 50%;z-index: 0;}#sk-container-id-1 div.sk-serial {display: flex;flex-direction: column;align-items: center;background-color: white;padding-right: 0.2em;padding-left: 0.2em;position: relative;}#sk-container-id-1 div.sk-item {position: relative;z-index: 1;}#sk-container-id-1 div.sk-parallel {display: flex;align-items: stretch;justify-content: center;background-color: white;position: relative;}#sk-container-id-1 div.sk-item::before, #sk-container-id-1 div.sk-parallel-item::before {content: \"\";position: absolute;border-left: 1px solid gray;box-sizing: border-box;top: 0;bottom: 0;left: 50%;z-index: -1;}#sk-container-id-1 div.sk-parallel-item {display: flex;flex-direction: column;z-index: 1;position: relative;background-color: white;}#sk-container-id-1 div.sk-parallel-item:first-child::after {align-self: flex-end;width: 50%;}#sk-container-id-1 div.sk-parallel-item:last-child::after {align-self: flex-start;width: 50%;}#sk-container-id-1 div.sk-parallel-item:only-child::after {width: 0;}#sk-container-id-1 div.sk-dashed-wrapped {border: 1px dashed gray;margin: 0 0.4em 0.5em 0.4em;box-sizing: border-box;padding-bottom: 0.4em;background-color: white;}#sk-container-id-1 div.sk-label label {font-family: monospace;font-weight: bold;display: inline-block;line-height: 1.2em;}#sk-container-id-1 div.sk-label-container {text-align: center;}#sk-container-id-1 div.sk-container {/* jupyter's `normalize.less` sets `[hidden] { display: none; }` but bootstrap.min.css set `[hidden] { display: none !important; }` so we also need the `!important` here to be able to override the default hidden behavior on the sphinx rendered scikit-learn.org. See: https://github.com/scikit-learn/scikit-learn/issues/21755 */display: inline-block !important;position: relative;}#sk-container-id-1 div.sk-text-repr-fallback {display: none;}</style><div id=\"sk-container-id-1\" class=\"sk-top-container\"><div class=\"sk-text-repr-fallback\"><pre>SVC()</pre><b>In a Jupyter environment, please rerun this cell to show the HTML representation or trust the notebook. <br />On GitHub, the HTML representation is unable to render, please try loading this page with nbviewer.org.</b></div><div class=\"sk-container\" hidden><div class=\"sk-item\"><div class=\"sk-estimator sk-toggleable\"><input class=\"sk-toggleable__control sk-hidden--visually\" id=\"sk-estimator-id-1\" type=\"checkbox\" checked><label for=\"sk-estimator-id-1\" class=\"sk-toggleable__label sk-toggleable__label-arrow\">SVC</label><div class=\"sk-toggleable__content\"><pre>SVC()</pre></div></div></div></div></div>"
            ],
            "text/plain": [
              "SVC()"
            ]
          },
          "execution_count": 40,
          "metadata": {},
          "output_type": "execute_result"
        }
      ],
      "source": [
        "clf.fit(feature_matrix, label_vec)"
      ]
    },
    {
      "cell_type": "markdown",
      "metadata": {
        "id": "PSZYxCrkvV9f"
      },
      "source": [
        "However, this approach **will not perform very well on the training data**, and it will also have a set of **biases** that will prevent it from **generalizing to new data** (for example, if we wanted to use the trained classifier to make predictions about next season). Before we can get a reasonably well-performing classifier, we have to quickly talk about two considerations that we'll always have to take into account before we train a Machine Learning algorithm!"
      ]
    },
    {
      "cell_type": "markdown",
      "metadata": {
        "id": "1FPAfpbpvjqj"
      },
      "source": [
        "### (6.1) Normalization\n",
        "\n",
        "There's a reason we spent so much time talking about normalization in class! In the case of SVM algorithms (as is discussed in the <a href='https://scikit-learn.org/stable/modules/svm.html#tips-on-practical-use' target='_blank'>\"Tips on Practical Use\" section</a> of Scikit-learn's SVM tutorial), these models are **not scale-invariant**. This means, for example, that if you had a feature $X \\sim \\mathcal{N}(5,1)$, and you decided to **center** this variable by e.g. subtracting all values by 5 to obtain $X' \\sim \\mathcal{N}(0, 1)$, the result of an SVM trained on $X$ is **not guaranteed to be the same** as the SVM trained on $X'$, despite the fact that these represent the exact same underlying data!\n",
        "\n",
        "So, to handle this undesirable property, before training an SVM we typically **normalize** all of the features to have a mean of 0 and a standard deviation of 1 (that is, we transform all values into **$z$-scores**). While we know how to do this mathematically, so that we could go through and apply the mathematical transformation to each column manually, Scikit-learn provides a nice **pipeline functionality** which can be used to ensure that this transformation is **applied automatically** before training the algorithm. So, rather than using the `clf` object we created earlier, we could replace it with a two-step **pipeline** which always transforms the data in this way before training, evaluating, or making predictions:"
      ]
    },
    {
      "cell_type": "code",
      "execution_count": 41,
      "metadata": {
        "id": "iGgNsMoIx14N"
      },
      "outputs": [],
      "source": [
        "from sklearn.pipeline import make_pipeline\n",
        "from sklearn.preprocessing import StandardScaler\n",
        "\n",
        "clf = make_pipeline(StandardScaler(), svm.SVC())"
      ]
    },
    {
      "cell_type": "markdown",
      "metadata": {
        "id": "mTzk3rPcurn2"
      },
      "source": [
        "So, with this new two-step pipeline in hand, we could now tell Scikit-learn to **fit** the parameters of the model (in other words, to **train** the model on the training data), using the classifier object's `fit()` function, and it would perform much better in terms of achieving a high F1 score on our data:"
      ]
    },
    {
      "cell_type": "code",
      "execution_count": 42,
      "metadata": {
        "colab": {
          "base_uri": "https://localhost:8080/",
          "height": 126
        },
        "id": "_YYIsh8YuOsU",
        "outputId": "4de2da76-bf2e-4395-d3f3-77636109beec"
      },
      "outputs": [
        {
          "data": {
            "text/html": [
              "<style>#sk-container-id-2 {color: black;}#sk-container-id-2 pre{padding: 0;}#sk-container-id-2 div.sk-toggleable {background-color: white;}#sk-container-id-2 label.sk-toggleable__label {cursor: pointer;display: block;width: 100%;margin-bottom: 0;padding: 0.3em;box-sizing: border-box;text-align: center;}#sk-container-id-2 label.sk-toggleable__label-arrow:before {content: \"▸\";float: left;margin-right: 0.25em;color: #696969;}#sk-container-id-2 label.sk-toggleable__label-arrow:hover:before {color: black;}#sk-container-id-2 div.sk-estimator:hover label.sk-toggleable__label-arrow:before {color: black;}#sk-container-id-2 div.sk-toggleable__content {max-height: 0;max-width: 0;overflow: hidden;text-align: left;background-color: #f0f8ff;}#sk-container-id-2 div.sk-toggleable__content pre {margin: 0.2em;color: black;border-radius: 0.25em;background-color: #f0f8ff;}#sk-container-id-2 input.sk-toggleable__control:checked~div.sk-toggleable__content {max-height: 200px;max-width: 100%;overflow: auto;}#sk-container-id-2 input.sk-toggleable__control:checked~label.sk-toggleable__label-arrow:before {content: \"▾\";}#sk-container-id-2 div.sk-estimator input.sk-toggleable__control:checked~label.sk-toggleable__label {background-color: #d4ebff;}#sk-container-id-2 div.sk-label input.sk-toggleable__control:checked~label.sk-toggleable__label {background-color: #d4ebff;}#sk-container-id-2 input.sk-hidden--visually {border: 0;clip: rect(1px 1px 1px 1px);clip: rect(1px, 1px, 1px, 1px);height: 1px;margin: -1px;overflow: hidden;padding: 0;position: absolute;width: 1px;}#sk-container-id-2 div.sk-estimator {font-family: monospace;background-color: #f0f8ff;border: 1px dotted black;border-radius: 0.25em;box-sizing: border-box;margin-bottom: 0.5em;}#sk-container-id-2 div.sk-estimator:hover {background-color: #d4ebff;}#sk-container-id-2 div.sk-parallel-item::after {content: \"\";width: 100%;border-bottom: 1px solid gray;flex-grow: 1;}#sk-container-id-2 div.sk-label:hover label.sk-toggleable__label {background-color: #d4ebff;}#sk-container-id-2 div.sk-serial::before {content: \"\";position: absolute;border-left: 1px solid gray;box-sizing: border-box;top: 0;bottom: 0;left: 50%;z-index: 0;}#sk-container-id-2 div.sk-serial {display: flex;flex-direction: column;align-items: center;background-color: white;padding-right: 0.2em;padding-left: 0.2em;position: relative;}#sk-container-id-2 div.sk-item {position: relative;z-index: 1;}#sk-container-id-2 div.sk-parallel {display: flex;align-items: stretch;justify-content: center;background-color: white;position: relative;}#sk-container-id-2 div.sk-item::before, #sk-container-id-2 div.sk-parallel-item::before {content: \"\";position: absolute;border-left: 1px solid gray;box-sizing: border-box;top: 0;bottom: 0;left: 50%;z-index: -1;}#sk-container-id-2 div.sk-parallel-item {display: flex;flex-direction: column;z-index: 1;position: relative;background-color: white;}#sk-container-id-2 div.sk-parallel-item:first-child::after {align-self: flex-end;width: 50%;}#sk-container-id-2 div.sk-parallel-item:last-child::after {align-self: flex-start;width: 50%;}#sk-container-id-2 div.sk-parallel-item:only-child::after {width: 0;}#sk-container-id-2 div.sk-dashed-wrapped {border: 1px dashed gray;margin: 0 0.4em 0.5em 0.4em;box-sizing: border-box;padding-bottom: 0.4em;background-color: white;}#sk-container-id-2 div.sk-label label {font-family: monospace;font-weight: bold;display: inline-block;line-height: 1.2em;}#sk-container-id-2 div.sk-label-container {text-align: center;}#sk-container-id-2 div.sk-container {/* jupyter's `normalize.less` sets `[hidden] { display: none; }` but bootstrap.min.css set `[hidden] { display: none !important; }` so we also need the `!important` here to be able to override the default hidden behavior on the sphinx rendered scikit-learn.org. See: https://github.com/scikit-learn/scikit-learn/issues/21755 */display: inline-block !important;position: relative;}#sk-container-id-2 div.sk-text-repr-fallback {display: none;}</style><div id=\"sk-container-id-2\" class=\"sk-top-container\"><div class=\"sk-text-repr-fallback\"><pre>Pipeline(steps=[(&#x27;standardscaler&#x27;, StandardScaler()), (&#x27;svc&#x27;, SVC())])</pre><b>In a Jupyter environment, please rerun this cell to show the HTML representation or trust the notebook. <br />On GitHub, the HTML representation is unable to render, please try loading this page with nbviewer.org.</b></div><div class=\"sk-container\" hidden><div class=\"sk-item sk-dashed-wrapped\"><div class=\"sk-label-container\"><div class=\"sk-label sk-toggleable\"><input class=\"sk-toggleable__control sk-hidden--visually\" id=\"sk-estimator-id-2\" type=\"checkbox\" ><label for=\"sk-estimator-id-2\" class=\"sk-toggleable__label sk-toggleable__label-arrow\">Pipeline</label><div class=\"sk-toggleable__content\"><pre>Pipeline(steps=[(&#x27;standardscaler&#x27;, StandardScaler()), (&#x27;svc&#x27;, SVC())])</pre></div></div></div><div class=\"sk-serial\"><div class=\"sk-item\"><div class=\"sk-estimator sk-toggleable\"><input class=\"sk-toggleable__control sk-hidden--visually\" id=\"sk-estimator-id-3\" type=\"checkbox\" ><label for=\"sk-estimator-id-3\" class=\"sk-toggleable__label sk-toggleable__label-arrow\">StandardScaler</label><div class=\"sk-toggleable__content\"><pre>StandardScaler()</pre></div></div></div><div class=\"sk-item\"><div class=\"sk-estimator sk-toggleable\"><input class=\"sk-toggleable__control sk-hidden--visually\" id=\"sk-estimator-id-4\" type=\"checkbox\" ><label for=\"sk-estimator-id-4\" class=\"sk-toggleable__label sk-toggleable__label-arrow\">SVC</label><div class=\"sk-toggleable__content\"><pre>SVC()</pre></div></div></div></div></div></div></div>"
            ],
            "text/plain": [
              "Pipeline(steps=[('standardscaler', StandardScaler()), ('svc', SVC())])"
            ]
          },
          "execution_count": 42,
          "metadata": {},
          "output_type": "execute_result"
        }
      ],
      "source": [
        "clf.fit(feature_matrix, label_vec)"
      ]
    },
    {
      "cell_type": "markdown",
      "metadata": {
        "id": "vLXQjhIOzg6L"
      },
      "source": [
        "However, there is **one more extremely important consideration** that we'll need to take into account before we can fully dive into what the algorithm has learned---namely, splitting our full dataset into **training** and **test** data!"
      ]
    },
    {
      "cell_type": "markdown",
      "metadata": {
        "id": "W4FJS5Xnzpip"
      },
      "source": [
        "### (6.2) Training Data vs. Test Data\n",
        "\n",
        "A crucial consideration in Machine Learning, which I also have been conspicuously avoiding until now, can be summarized as follows:\n",
        "\n",
        "**Our goal in training a Machine Learning algorithm is *not* do well at classifying data we've *already seen*, but rather to *learn* from the data we've already seen to do well at *predicting future data***\n",
        "\n",
        "Therefore, when we're **training** a machine learning algorithm, we **do not** want to include **all of the data that we have**. Instead, we should provide a **portion** of the data to the algorithm during the **training** stage, then **evaluate** the algorithm on the basis of its performance **predicting labels** for the \"held-out\" portion of the dataset that it **did not see** during the training stage!\n",
        "\n",
        "A widely-followed standard in Machine learning is the **80-20 rule**: provide the algorithm with **80% of the data we have** at training time (hence we call this portion **training data**), then evaluate the algorithm's performance on **the remaining 20% of the data** (hence we call this portion **test data**). The following figure from the slides linked above illustrates this split, where thinking of this 80-20 split in terms of chunks of 20% will be helpful for future, fancier approaches:\n",
        "\n",
        "![](https://kroki.io/graphviz/svg/eNptUEFqwzAQPEuvEIJAC6Fx3AZ60aUPyKW9BVNkayuLbCQjyaEl5O-VZROnpnsQmllpZme1l13LtDeKXihLpTNxyPeh3Bk8yk5E30Mmq3xapyBAJ4qnImMv7XGJlfGCf7zx24c72RB_EAT_Moig-PrGNw6dFzXK5jiTw6uxgUa3scYe5mZoZQeidt_TdJRsNqy3jTudwEYWHWtNso4tjDEJKJ0mGQcw9mxCRQkloa_H6A32IYL_LLbsQsmgibIGTEm8NNZYzd4hsofXYvXIKdlvD1O7LFa8YvtygZ8X-OUPpuT6n3W5tIYQR9tyst3dy6znBbm0eA1Z90p_AbxGh5g=)"
      ]
    },
    {
      "cell_type": "markdown",
      "metadata": {
        "id": "2YtaSrRz4qNF"
      },
      "source": [
        "Helpfully, Scikit-learn also provides a <a href='https://scikit-learn.org/stable/modules/generated/sklearn.model_selection.train_test_split.html' target='_blank'>built-in function</a> which we can use to carry out this **train-test split** before we train our algorithm:"
      ]
    },
    {
      "cell_type": "code",
      "execution_count": 43,
      "metadata": {
        "id": "VKfWAS0c4oGg"
      },
      "outputs": [],
      "source": [
        "from sklearn.model_selection import train_test_split"
      ]
    },
    {
      "cell_type": "markdown",
      "metadata": {
        "id": "5wCfeJEy5EaK"
      },
      "source": [
        "Here, since the variable names would start to get long if we kept using `feature_matrix` and `label_vec`, I'm just going to call the feature matrix `X` and the label vector `y`, so that we can use notation like `X_train` to denote the **training data portion** of our full matrix `X`\n",
        "\n",
        "*(Also note that this function takes a `random_state` parameter, which here I'm setting to `5000` just like we did above for our NumPy random number generator, to ensure the same results across different runs)*"
      ]
    },
    {
      "cell_type": "code",
      "execution_count": 44,
      "metadata": {
        "id": "Wujush9g4_Fg"
      },
      "outputs": [],
      "source": [
        "X = feature_matrix\n",
        "y = label_vec\n",
        "X_train, X_test, y_train, y_test = train_test_split(\n",
        "    X, y,\n",
        "    test_size=0.2,\n",
        "    random_state=5000\n",
        ")\n"
      ]
    },
    {
      "cell_type": "markdown",
      "metadata": {
        "id": "0oXw5R2Y5xYv"
      },
      "source": [
        "And now we can look at the `.shape` attribute on our newly-split data to verify that it has split it in the proportions we expected (80% for training data, 20% for test data):"
      ]
    },
    {
      "cell_type": "code",
      "execution_count": 45,
      "metadata": {
        "colab": {
          "base_uri": "https://localhost:8080/"
        },
        "id": "wNSXaFLA5uhp",
        "outputId": "a81b4f70-8460-47ed-d030-70a1b3accd28"
      },
      "outputs": [
        {
          "data": {
            "text/plain": [
              "((546, 14), (137, 14))"
            ]
          },
          "execution_count": 45,
          "metadata": {},
          "output_type": "execute_result"
        }
      ],
      "source": [
        "X_train.shape, X_test.shape"
      ]
    },
    {
      "cell_type": "code",
      "execution_count": 46,
      "metadata": {
        "colab": {
          "base_uri": "https://localhost:8080/"
        },
        "id": "rIS0IVBn57z8",
        "outputId": "cfd34e76-6593-485e-aa01-f5d30387d211"
      },
      "outputs": [
        {
          "data": {
            "text/plain": [
              "((546,), (137,))"
            ]
          },
          "execution_count": 46,
          "metadata": {},
          "output_type": "execute_result"
        }
      ],
      "source": [
        "y_train.shape, y_test.shape"
      ]
    },
    {
      "cell_type": "markdown",
      "metadata": {
        "id": "jMDL_KoT6GxH"
      },
      "source": [
        "> **Final Aside: Why Do We Have To Do This Split?**<br><br>As a quick tldr here, the reason we have to do this train-test split (at least, going one level deeper than the reason given above about the need for generalization) is because an algorithm which is **not restricted by the need to generalize** can often simply \"memorize\" every bit of information in the training data, so that if it is **evaluated** on the same data that it is **trained on**, then (with enough parameters to fit) it can always achieve a **perfect score**. And yet, despite achieving this perfect score, the algorithm will typically do **worse** than an algorithm which did **not** achieve a perfect score but was trained using a train-test split, because in the perfect-score case the algorithm is typically **overfitting**!<br><br>To see what I mean, pictorally, consider the following plots from the extra slides linked above (run the Python code cell to generate the images side-by-side):"
      ]
    },
    {
      "cell_type": "code",
      "execution_count": 47,
      "metadata": {
        "colab": {
          "base_uri": "https://localhost:8080/",
          "height": 306
        },
        "id": "OMO9TEPG-7Hz",
        "outputId": "23e28779-207d-437f-d9f8-8440abaf227f"
      },
      "outputs": [
        {
          "data": {
            "text/html": [
              "<style>#output-body{display:flex; flex-direction: row;}</style>"
            ],
            "text/plain": [
              "<IPython.core.display.HTML object>"
            ]
          },
          "metadata": {},
          "output_type": "display_data"
        },
        {
          "data": {
            "image/png": "[encoded data removed]",
            "text/plain": [
              "<IPython.core.display.Image object>"
            ]
          },
          "metadata": {},
          "output_type": "display_data"
        },
        {
          "data": {
            "image/png": "[encoded data removed]",
            "text/plain": [
              "<IPython.core.display.Image object>"
            ]
          },
          "metadata": {},
          "output_type": "display_data"
        }
      ],
      "source": [
        "from IPython.display import HTML, Image\n",
        "style = \"<style>#output-body{display:flex; flex-direction: row;}</style>\"\n",
        "display(HTML(style))\n",
        "base_url = \"https://jpj.georgetown.domains/dsan5000-scratch/feature-selection\"\n",
        "tr_data_fname = \"overfitting_training_data.png\"\n",
        "model_fname = \"overfitting_models.png\"\n",
        "display(Image(f\"{base_url}/{tr_data_fname}\"))\n",
        "display(Image(f\"{base_url}/{model_fname}\"))"
      ]
    },
    {
      "cell_type": "markdown",
      "metadata": {
        "id": "eqcDnsjt-6XJ"
      },
      "source": [
        "> Here we can see the issue, when it comes to **performance on the training data** vs. **generalization**: the **polynomial** model, in this case, had many parameters that it could fit, such that it was able to produce a curve perfectly passing through every point in the training data, achieving 100% accuracy (here we're dealing with **continuous** rather than **discrete** data, so we can't use the F1 score, but the same intuition holds for how we evaluate regression tasks, which we'll learn soon 🙂)<br><br>However, when it comes time for our two trained models to try and predict the **label** (in this case, the **y value**) for a **new data point** which it has never seen before, we can see the issue with overfitting:\n",
        "\n",
        "<img src='https://jpj.georgetown.domains/dsan5000-scratch/feature-selection/overfitting_test_data.png' width=\"40%\"></img>"
      ]
    },
    {
      "cell_type": "markdown",
      "metadata": {
        "id": "hutRTSzrBS71"
      },
      "source": [
        "> We see that now, since the **underlying Data-Generating Process (DGP)** was **linear**, the polynomial model now does **worse** than the linear model, despite its perfect score on the training data. This is because, rather than trying to learn a <a href='https://en.wikipedia.org/wiki/Occam%27s_razor' target='_blank'>**parsimonious** model</a>---that is, a model that represents the data sufficiently well under the constraint of being as \"simple\" as possible---the polynomial model simply \"memorized\" the training data, in the sense of constructing an erratic line with lots of oscillation in order to perfectly hit every point.<br><br>Quantitatively, we can see the effects of overfitting by **comparing** the performance of the linear ($\\textsf{Lin}$) and polynomial ($\\textsf{Poly}$) models, not on the **training data** but on the unseen **test data**. Computing the $R^2$ value for both models, we get:\n",
        "\n",
        "$$\n",
        "\\begin{align*}\n",
        "R^2(\\textsf{Lin}) &\\approx 0.841 \\\\\n",
        "R^2(\\textsf{Poly}) &\\approx 0.186\n",
        "\\end{align*}\n",
        "$$\n",
        "\n",
        "> and if we use a different metric which we'll see a lot more often for regression tasks, the **Residual Sum of Squares** (literally, the sum of the squared distances between each point and the prediction made by the algorithm, so that in this case higher values indicate worse performance), we get:\n",
        "\n",
        "$$\n",
        "\\begin{align*}\n",
        "RSS(\\textsf{Lin}) &\\approx 0.186 \\\\\n",
        "RSS(\\textsf{Poly}) &\\approx 0.843\n",
        "\\end{align*}\n",
        "$$\n",
        "\n",
        "> *(You'll notice that, with respect to our data here, one of these measures seems to just be 1 minus the other measure---until we get to these measures in the class, you can dive into this and try to figure out if this will always be the case, and/or, why it is the case here!)*"
      ]
    },
    {
      "cell_type": "markdown",
      "metadata": {
        "id": "gvJ_R4S5ELj4"
      },
      "source": [
        "### (6.3) Training the Model"
      ]
    },
    {
      "cell_type": "markdown",
      "metadata": {
        "id": "tPheeL-wENcf"
      },
      "source": [
        "Now that we understand these two important factors we'll need to worry about (**normalizing** the data and performing the **train-test split**) in any Machine Learning task, we can now finally train our SVM classifier on the **normalized training data**, using the `.fit()` function like we saw before, but this time on just the **training** data:"
      ]
    },
    {
      "cell_type": "code",
      "execution_count": 48,
      "metadata": {
        "colab": {
          "base_uri": "https://localhost:8080/",
          "height": 75
        },
        "id": "yoYFM6Js8cK1",
        "outputId": "78feecc0-22d1-4811-b30d-4edc995b3bf2"
      },
      "outputs": [
        {
          "data": {
            "text/html": [
              "<style>#sk-container-id-3 {color: black;}#sk-container-id-3 pre{padding: 0;}#sk-container-id-3 div.sk-toggleable {background-color: white;}#sk-container-id-3 label.sk-toggleable__label {cursor: pointer;display: block;width: 100%;margin-bottom: 0;padding: 0.3em;box-sizing: border-box;text-align: center;}#sk-container-id-3 label.sk-toggleable__label-arrow:before {content: \"▸\";float: left;margin-right: 0.25em;color: #696969;}#sk-container-id-3 label.sk-toggleable__label-arrow:hover:before {color: black;}#sk-container-id-3 div.sk-estimator:hover label.sk-toggleable__label-arrow:before {color: black;}#sk-container-id-3 div.sk-toggleable__content {max-height: 0;max-width: 0;overflow: hidden;text-align: left;background-color: #f0f8ff;}#sk-container-id-3 div.sk-toggleable__content pre {margin: 0.2em;color: black;border-radius: 0.25em;background-color: #f0f8ff;}#sk-container-id-3 input.sk-toggleable__control:checked~div.sk-toggleable__content {max-height: 200px;max-width: 100%;overflow: auto;}#sk-container-id-3 input.sk-toggleable__control:checked~label.sk-toggleable__label-arrow:before {content: \"▾\";}#sk-container-id-3 div.sk-estimator input.sk-toggleable__control:checked~label.sk-toggleable__label {background-color: #d4ebff;}#sk-container-id-3 div.sk-label input.sk-toggleable__control:checked~label.sk-toggleable__label {background-color: #d4ebff;}#sk-container-id-3 input.sk-hidden--visually {border: 0;clip: rect(1px 1px 1px 1px);clip: rect(1px, 1px, 1px, 1px);height: 1px;margin: -1px;overflow: hidden;padding: 0;position: absolute;width: 1px;}#sk-container-id-3 div.sk-estimator {font-family: monospace;background-color: #f0f8ff;border: 1px dotted black;border-radius: 0.25em;box-sizing: border-box;margin-bottom: 0.5em;}#sk-container-id-3 div.sk-estimator:hover {background-color: #d4ebff;}#sk-container-id-3 div.sk-parallel-item::after {content: \"\";width: 100%;border-bottom: 1px solid gray;flex-grow: 1;}#sk-container-id-3 div.sk-label:hover label.sk-toggleable__label {background-color: #d4ebff;}#sk-container-id-3 div.sk-serial::before {content: \"\";position: absolute;border-left: 1px solid gray;box-sizing: border-box;top: 0;bottom: 0;left: 50%;z-index: 0;}#sk-container-id-3 div.sk-serial {display: flex;flex-direction: column;align-items: center;background-color: white;padding-right: 0.2em;padding-left: 0.2em;position: relative;}#sk-container-id-3 div.sk-item {position: relative;z-index: 1;}#sk-container-id-3 div.sk-parallel {display: flex;align-items: stretch;justify-content: center;background-color: white;position: relative;}#sk-container-id-3 div.sk-item::before, #sk-container-id-3 div.sk-parallel-item::before {content: \"\";position: absolute;border-left: 1px solid gray;box-sizing: border-box;top: 0;bottom: 0;left: 50%;z-index: -1;}#sk-container-id-3 div.sk-parallel-item {display: flex;flex-direction: column;z-index: 1;position: relative;background-color: white;}#sk-container-id-3 div.sk-parallel-item:first-child::after {align-self: flex-end;width: 50%;}#sk-container-id-3 div.sk-parallel-item:last-child::after {align-self: flex-start;width: 50%;}#sk-container-id-3 div.sk-parallel-item:only-child::after {width: 0;}#sk-container-id-3 div.sk-dashed-wrapped {border: 1px dashed gray;margin: 0 0.4em 0.5em 0.4em;box-sizing: border-box;padding-bottom: 0.4em;background-color: white;}#sk-container-id-3 div.sk-label label {font-family: monospace;font-weight: bold;display: inline-block;line-height: 1.2em;}#sk-container-id-3 div.sk-label-container {text-align: center;}#sk-container-id-3 div.sk-container {/* jupyter's `normalize.less` sets `[hidden] { display: none; }` but bootstrap.min.css set `[hidden] { display: none !important; }` so we also need the `!important` here to be able to override the default hidden behavior on the sphinx rendered scikit-learn.org. See: https://github.com/scikit-learn/scikit-learn/issues/21755 */display: inline-block !important;position: relative;}#sk-container-id-3 div.sk-text-repr-fallback {display: none;}</style><div id=\"sk-container-id-3\" class=\"sk-top-container\"><div class=\"sk-text-repr-fallback\"><pre>SVC()</pre><b>In a Jupyter environment, please rerun this cell to show the HTML representation or trust the notebook. <br />On GitHub, the HTML representation is unable to render, please try loading this page with nbviewer.org.</b></div><div class=\"sk-container\" hidden><div class=\"sk-item\"><div class=\"sk-estimator sk-toggleable\"><input class=\"sk-toggleable__control sk-hidden--visually\" id=\"sk-estimator-id-5\" type=\"checkbox\" checked><label for=\"sk-estimator-id-5\" class=\"sk-toggleable__label sk-toggleable__label-arrow\">SVC</label><div class=\"sk-toggleable__content\"><pre>SVC()</pre></div></div></div></div></div>"
            ],
            "text/plain": [
              "SVC()"
            ]
          },
          "execution_count": 48,
          "metadata": {},
          "output_type": "execute_result"
        }
      ],
      "source": [
        "# Here I re-initialize the `clf` object, so that sklearn \"starts from scratch\"\n",
        "# rather than thinking we want it to update the previous model (the model that\n",
        "# was trained on the full dataset rather than just the training data). Also,\n",
        "# since we're going to want to use the scaled data explicitly later on, here I\n",
        "# do *not* use the make_pipeline() function like we did above, but manually\n",
        "# apply the two steps (scaling and then training the SVC) separately\n",
        "scaler = StandardScaler()\n",
        "X_train_scaled = scaler.fit_transform(X_train)\n",
        "clf = svm.SVC()\n",
        "clf.fit(X_train_scaled, y_train)"
      ]
    },
    {
      "cell_type": "markdown",
      "metadata": {
        "id": "9avxXfcuQHn2"
      },
      "source": [
        "### (6.4) Evaluating the Model"
      ]
    },
    {
      "cell_type": "markdown",
      "metadata": {
        "id": "3pCSdvHlE3t7"
      },
      "source": [
        "And now we can **evaluate** our trained model by seeing how well it does at predicting the **test data labels** when given the **test data features**:"
      ]
    },
    {
      "cell_type": "code",
      "execution_count": 49,
      "metadata": {
        "colab": {
          "base_uri": "https://localhost:8080/"
        },
        "id": "7wBTLShqEz73",
        "outputId": "c9bb0727-0d5f-4e34-eb0e-92d5d982f1d5"
      },
      "outputs": [
        {
          "data": {
            "text/plain": [
              "array([1, 1, 0, 0, 0, 1, 0, 0, 1, 1, 0, 0, 0, 0, 1, 1, 1, 0, 1, 0, 1, 0,\n",
              "       1, 0, 0, 0, 0, 1, 1, 0, 1, 1, 1, 1, 0, 0, 1, 0, 0, 1, 1, 1, 1, 0,\n",
              "       0, 1, 0, 1, 0, 1, 1, 1, 1, 1, 1, 0, 1, 1, 1, 1, 1, 0, 1, 1, 1, 0,\n",
              "       0, 0, 0, 1, 0, 1, 0, 0, 1, 1, 1, 0, 0, 0, 0, 0, 1, 1, 0, 1, 1, 1,\n",
              "       1, 0, 1, 1, 1, 1, 0, 1, 1, 0, 1, 0, 1, 1, 1, 1, 1, 1, 0, 1, 0, 0,\n",
              "       1, 0, 1, 0, 1, 0, 0, 1, 0, 1, 1, 1, 0, 0, 1, 0, 0, 1, 1, 0, 1, 0,\n",
              "       0, 1, 0, 1, 0])"
            ]
          },
          "execution_count": 49,
          "metadata": {},
          "output_type": "execute_result"
        }
      ],
      "source": [
        "X_test_scaled = scaler.transform(X_test)\n",
        "test_predictions = clf.predict(X_test_scaled)\n",
        "test_predictions"
      ]
    },
    {
      "cell_type": "code",
      "execution_count": 50,
      "metadata": {
        "colab": {
          "base_uri": "https://localhost:8080/"
        },
        "id": "mq3qdaHCFbdI",
        "outputId": "b06b836d-7146-42e9-a5d2-1c419c6c0171"
      },
      "outputs": [
        {
          "data": {
            "text/plain": [
              "(137,)"
            ]
          },
          "execution_count": 50,
          "metadata": {},
          "output_type": "execute_result"
        }
      ],
      "source": [
        "test_predictions.shape"
      ]
    },
    {
      "cell_type": "markdown",
      "metadata": {
        "id": "cBvUFgV9FVmu"
      },
      "source": [
        "And we see that the `.predict()` function has given us an array of values representing the predictions made by our trained classifier given the **test data features** in `X_test`. To evaluate these predictions, just like we did before in the random-guessing and guess-most-frequent-label cases, we can compute the **F1 score** using the Scikit-learn function:"
      ]
    },
    {
      "cell_type": "code",
      "execution_count": 51,
      "metadata": {
        "colab": {
          "base_uri": "https://localhost:8080/"
        },
        "id": "oZovOtFqFQUM",
        "outputId": "5a13522a-e23f-4083-e6dc-ed585a4eed5b"
      },
      "outputs": [
        {
          "data": {
            "text/plain": [
              "0.8783783783783783"
            ]
          },
          "execution_count": 51,
          "metadata": {},
          "output_type": "execute_result"
        }
      ],
      "source": [
        "f1_score(\n",
        "    y_true = y_test,\n",
        "    y_pred = test_predictions\n",
        ")"
      ]
    },
    {
      "cell_type": "markdown",
      "metadata": {
        "id": "qVILfaqiF3lx"
      },
      "source": [
        "And we are happy now since we see that, by actually **learning** statistical relationships between the features and the labels in the training data, we have been able to **beat both of our baseline models** in terms of F1 score! Our updated algorithm performance table now looks like (where I have removed the accuracy column, since that was just for demonstration of the earlier point about why we instead use F1 score):\n",
        "\n",
        "| Algorithm | F1 Score |\n",
        "| - | - |\n",
        "| ML Algorithm + **Feature Selection** | **?** |\n",
        "| ML Algorithm **without** Feature Selection | **0.878** |\n",
        "| Baseline: Guess Most Frequent Label | **0.700** |\n",
        "| Baseline: Random Guessing | **0.531** |\n"
      ]
    },
    {
      "cell_type": "markdown",
      "metadata": {
        "id": "3NJEBFGVG-9Z"
      },
      "source": [
        "## (7) Augmenting our \"Off-The-Shelf\" Model With Feature Selection"
      ]
    },
    {
      "cell_type": "markdown",
      "metadata": {
        "id": "3NdD6cgTHDzR"
      },
      "source": [
        "Finally, we now not only have a pair of \"overall\" baselines (random-guessing and guess-most-frequent-label), but a baseline representing the performance of our classifier **without** any feature selection being performed, which we can use to quantify any **improvement** we're able to achieve over this base ML model by employing feature selection techniques.\n",
        "\n",
        "Now, whereas for your Lab 3.2 Assignment you will be conducting a **grid search** over all possible subsets of the full set of features, to get you started here we will just take a few of the variables we talked about in the beginning of the lab (or in class):\n",
        "\n",
        "* Some of which we think may be extremely helpful for predicting playoff success: e.g., `PtsSeason`, and\n",
        "* Some of which we think may be redundant and unhelpful: e.g., including all three of `Reb`, `Oreb` and `Dreb` in our model, since mathematically `Reb` is just the sum of `Oreb` and `Dreb`.\n",
        "\n",
        "So, using the definition of the **merit score** given to you at the beginning of the Lab 3.2 Assignment, let's take a player-related variable like `mean_height` and a team-related variable like `To` as our two \"base\" variables we'd like to include in our model, and compute a \"base\" merit score for this subset $S_2 = \\{\\texttt{mean\\_height}, \\texttt{To}\\}$.\n",
        "\n",
        "As a reminder, using our dictionary-format codebook, here are the descriptions and types of these two base variables:"
      ]
    },
    {
      "cell_type": "code",
      "execution_count": 52,
      "metadata": {
        "colab": {
          "base_uri": "https://localhost:8080/"
        },
        "id": "h7rh2YStKRCT",
        "outputId": "e19207d4-fdea-44af-fb9d-7b31a26039e5"
      },
      "outputs": [
        {
          "data": {
            "text/plain": [
              "{'description': \"Mean height of the team's members that year, in cm\",\n",
              " 'type': 'float'}"
            ]
          },
          "execution_count": 52,
          "metadata": {},
          "output_type": "execute_result"
        }
      ],
      "source": [
        "codebook_dict['mean_height']"
      ]
    },
    {
      "cell_type": "code",
      "execution_count": 53,
      "metadata": {
        "colab": {
          "base_uri": "https://localhost:8080/"
        },
        "id": "w1CXDUzkKTjn",
        "outputId": "121c6879-c2d8-4b8f-bcee-9dafa1635b1a"
      },
      "outputs": [
        {
          "data": {
            "text/plain": [
              "{'description': \"The team's average number of turnovers per game that year\",\n",
              " 'type': 'float'}"
            ]
          },
          "execution_count": 53,
          "metadata": {},
          "output_type": "execute_result"
        }
      ],
      "source": [
        "codebook_dict['To']"
      ]
    },
    {
      "cell_type": "markdown",
      "metadata": {
        "id": "LrVmrwcfKEnh"
      },
      "source": [
        "Once we have this base merit score $S_2$ for these two features, we can examine how the merit score **changes** when:\n",
        "\n",
        "1. We add `PtsSeason` to the base subset to form a new subset $S'_3 = \\{\\texttt{mean\\_height}, \\texttt{To}, \\texttt{PtsSeason}\\}$, or\n",
        "2. We add the three variables we think may be unhelpful (`Reb`, `Oreb`, and `Dreb`) to the base subset to form a new subset $S'_5 = \\{\\texttt{mean\\_height}, \\texttt{To}, \\texttt{Reb}, \\texttt{Oreb}, \\texttt{Dreb}\\}$\n",
        "\n",
        "So, let's start by computing our base merit score. We'll use the SciPy library here, since it comes with a nice <a href='https://docs.scipy.org/doc/scipy/reference/generated/scipy.stats.spearmanr.html' target='_blank'>`spearmanr()` function</a> for computing the correlations we want. Note that this function generates an output containing **two** pieces of information: the info that we want, the correlation coefficient specifically, can be obtained by accessing the `.statistic` attribute on the result. That is, the following code will extract the correlation coefficient specifically from the object produced by `spearmanr()`:\n",
        "\n",
        "```python\n",
        "spearman_result = scipy.stats.spearmanr(vec1, vec2)\n",
        "spearman_corr_coef = spearman_result.statistic\n",
        "```\n",
        "\n",
        "Or, to combine this into one line, you can use\n",
        "\n",
        "```python\n",
        "spearman_corr_coef = scipy.stats.spearmanr(vec1, vec2).statistic\n",
        "```\n",
        "\n",
        "Also, to make our lives easier, we'll quickly make a `DataFrame` object which contains the **scaled feature data** but with columns representing the **names** of each feature, so that we can easily go from the name of the feature that we want to the column index of that feature in `X_train_scaled`:"
      ]
    },
    {
      "cell_type": "code",
      "execution_count": 54,
      "metadata": {
        "colab": {
          "base_uri": "https://localhost:8080/",
          "height": 226
        },
        "id": "kVhJQjzMO153",
        "outputId": "9df18c27-7a27-4dd6-afca-f77d260ebb4e"
      },
      "outputs": [
        {
          "data": {
            "text/html": [
              "<div>\n",
              "<style scoped>\n",
              "    .dataframe tbody tr th:only-of-type {\n",
              "        vertical-align: middle;\n",
              "    }\n",
              "\n",
              "    .dataframe tbody tr th {\n",
              "        vertical-align: top;\n",
              "    }\n",
              "\n",
              "    .dataframe thead th {\n",
              "        text-align: right;\n",
              "    }\n",
              "</style>\n",
              "<table border=\"1\" class=\"dataframe\">\n",
              "  <thead>\n",
              "    <tr style=\"text-align: right;\">\n",
              "      <th></th>\n",
              "      <th>mean_age</th>\n",
              "      <th>mean_height</th>\n",
              "      <th>mean_weight</th>\n",
              "      <th>PtsSeason</th>\n",
              "      <th>OppPtsSeason</th>\n",
              "      <th>PtsDiff</th>\n",
              "      <th>Reb</th>\n",
              "      <th>Ast</th>\n",
              "      <th>Stl</th>\n",
              "      <th>Blk</th>\n",
              "      <th>To</th>\n",
              "      <th>Pf</th>\n",
              "      <th>Dreb</th>\n",
              "      <th>Oreb</th>\n",
              "    </tr>\n",
              "  </thead>\n",
              "  <tbody>\n",
              "    <tr>\n",
              "      <th>0</th>\n",
              "      <td>0.868557</td>\n",
              "      <td>-0.833381</td>\n",
              "      <td>-0.670704</td>\n",
              "      <td>0.449983</td>\n",
              "      <td>0.261535</td>\n",
              "      <td>0.258920</td>\n",
              "      <td>1.103405</td>\n",
              "      <td>0.130919</td>\n",
              "      <td>-0.716876</td>\n",
              "      <td>0.361359</td>\n",
              "      <td>0.681978</td>\n",
              "      <td>-1.959417</td>\n",
              "      <td>0.998052</td>\n",
              "      <td>0.001158</td>\n",
              "    </tr>\n",
              "    <tr>\n",
              "      <th>1</th>\n",
              "      <td>0.432615</td>\n",
              "      <td>0.129837</td>\n",
              "      <td>0.339992</td>\n",
              "      <td>-1.327738</td>\n",
              "      <td>-1.554359</td>\n",
              "      <td>0.347875</td>\n",
              "      <td>0.808684</td>\n",
              "      <td>-0.907914</td>\n",
              "      <td>1.088957</td>\n",
              "      <td>-0.622078</td>\n",
              "      <td>0.326078</td>\n",
              "      <td>-0.754511</td>\n",
              "      <td>-0.119384</td>\n",
              "      <td>1.405650</td>\n",
              "    </tr>\n",
              "    <tr>\n",
              "      <th>2</th>\n",
              "      <td>0.884333</td>\n",
              "      <td>-1.188430</td>\n",
              "      <td>-0.578330</td>\n",
              "      <td>-0.042065</td>\n",
              "      <td>0.308498</td>\n",
              "      <td>-0.497191</td>\n",
              "      <td>-0.370201</td>\n",
              "      <td>-0.611105</td>\n",
              "      <td>1.314686</td>\n",
              "      <td>-0.745007</td>\n",
              "      <td>-1.008545</td>\n",
              "      <td>0.220889</td>\n",
              "      <td>-0.352183</td>\n",
              "      <td>0.001158</td>\n",
              "    </tr>\n",
              "    <tr>\n",
              "      <th>3</th>\n",
              "      <td>-0.001146</td>\n",
              "      <td>-0.720411</td>\n",
              "      <td>0.774420</td>\n",
              "      <td>-0.216663</td>\n",
              "      <td>-0.286364</td>\n",
              "      <td>0.103250</td>\n",
              "      <td>-0.812282</td>\n",
              "      <td>1.169751</td>\n",
              "      <td>0.524634</td>\n",
              "      <td>-0.622078</td>\n",
              "      <td>0.148128</td>\n",
              "      <td>-1.672534</td>\n",
              "      <td>0.206535</td>\n",
              "      <td>-1.473560</td>\n",
              "    </tr>\n",
              "    <tr>\n",
              "      <th>4</th>\n",
              "      <td>0.404715</td>\n",
              "      <td>-0.637567</td>\n",
              "      <td>-0.560475</td>\n",
              "      <td>-0.010320</td>\n",
              "      <td>0.167610</td>\n",
              "      <td>-0.252567</td>\n",
              "      <td>-0.812282</td>\n",
              "      <td>0.130919</td>\n",
              "      <td>-0.265418</td>\n",
              "      <td>-1.359655</td>\n",
              "      <td>-0.296746</td>\n",
              "      <td>1.597924</td>\n",
              "      <td>-1.004021</td>\n",
              "      <td>0.422505</td>\n",
              "    </tr>\n",
              "  </tbody>\n",
              "</table>\n",
              "</div>"
            ],
            "text/plain": [
              "   mean_age  mean_height  mean_weight  PtsSeason  OppPtsSeason   PtsDiff  \\\n",
              "0  0.868557    -0.833381    -0.670704   0.449983      0.261535  0.258920   \n",
              "1  0.432615     0.129837     0.339992  -1.327738     -1.554359  0.347875   \n",
              "2  0.884333    -1.188430    -0.578330  -0.042065      0.308498 -0.497191   \n",
              "3 -0.001146    -0.720411     0.774420  -0.216663     -0.286364  0.103250   \n",
              "4  0.404715    -0.637567    -0.560475  -0.010320      0.167610 -0.252567   \n",
              "\n",
              "        Reb       Ast       Stl       Blk        To        Pf      Dreb  \\\n",
              "0  1.103405  0.130919 -0.716876  0.361359  0.681978 -1.959417  0.998052   \n",
              "1  0.808684 -0.907914  1.088957 -0.622078  0.326078 -0.754511 -0.119384   \n",
              "2 -0.370201 -0.611105  1.314686 -0.745007 -1.008545  0.220889 -0.352183   \n",
              "3 -0.812282  1.169751  0.524634 -0.622078  0.148128 -1.672534  0.206535   \n",
              "4 -0.812282  0.130919 -0.265418 -1.359655 -0.296746  1.597924 -1.004021   \n",
              "\n",
              "       Oreb  \n",
              "0  0.001158  \n",
              "1  1.405650  \n",
              "2  0.001158  \n",
              "3 -1.473560  \n",
              "4  0.422505  "
            ]
          },
          "execution_count": 54,
          "metadata": {},
          "output_type": "execute_result"
        }
      ],
      "source": [
        "X_train_scaled_df = pd.DataFrame(X_train_scaled, columns=feature_cols)\n",
        "X_test_scaled_df = pd.DataFrame(X_test_scaled, columns=feature_cols)\n",
        "X_train_scaled_df.head()"
      ]
    },
    {
      "cell_type": "markdown",
      "metadata": {
        "id": "uhPeS5l8amnT"
      },
      "source": [
        "### (7.1) The Base Merit Score $S_2$"
      ]
    },
    {
      "cell_type": "code",
      "execution_count": 55,
      "metadata": {
        "colab": {
          "base_uri": "https://localhost:8080/"
        },
        "id": "TFu7dPAIF1CN",
        "outputId": "95706fad-b30a-472e-fd84-25090ff3c801"
      },
      "outputs": [
        {
          "data": {
            "text/plain": [
              "-0.073349157425512"
            ]
          },
          "execution_count": 55,
          "metadata": {},
          "output_type": "execute_result"
        }
      ],
      "source": [
        "from scipy.stats import spearmanr\n",
        "# Computing the base merit score S_2. Here we're going to use Spearman correlation coefficients,\n",
        "# though remember that your assignment code needs to work for *either* Pearson\n",
        "# or Spearman correlation coefficients\n",
        "# Step 1: Compute the between-feature correlations\n",
        "included_vars_s2 = ['mean_height', 'To']\n",
        "included_vars_df = X_train_scaled_df[included_vars_s2].copy()\n",
        "height_turnover_corr = spearmanr(included_vars_df['mean_height'], included_vars_df['To']).statistic\n",
        "height_turnover_corr"
      ]
    },
    {
      "cell_type": "code",
      "execution_count": 56,
      "metadata": {
        "colab": {
          "base_uri": "https://localhost:8080/"
        },
        "id": "d2xv2zOATJgM",
        "outputId": "76c81dbf-4e3a-4a84-b717-c7a9e50ecd0e"
      },
      "outputs": [
        {
          "data": {
            "text/plain": [
              "0.01256038600061839"
            ]
          },
          "execution_count": 56,
          "metadata": {},
          "output_type": "execute_result"
        }
      ],
      "source": [
        "# Step 2: Compute the correlations between each feature and the label\n",
        "height_playoff_corr = spearmanr(included_vars_df['mean_height'], y_train).statistic\n",
        "height_playoff_corr"
      ]
    },
    {
      "cell_type": "code",
      "execution_count": 57,
      "metadata": {
        "colab": {
          "base_uri": "https://localhost:8080/"
        },
        "id": "fMpmw_HEUAkA",
        "outputId": "096fa862-066e-42ec-f8c3-8ce2f871bc3d"
      },
      "outputs": [
        {
          "data": {
            "text/plain": [
              "-0.30211010989735243"
            ]
          },
          "execution_count": 57,
          "metadata": {},
          "output_type": "execute_result"
        }
      ],
      "source": [
        "turnover_playoff_corr = spearmanr(included_vars_df['To'], y_train).statistic\n",
        "turnover_playoff_corr"
      ]
    },
    {
      "cell_type": "code",
      "execution_count": 58,
      "metadata": {
        "colab": {
          "base_uri": "https://localhost:8080/"
        },
        "id": "NujOFsw0L7av",
        "outputId": "6e089c74-4c6c-41ad-8f74-2505145f53c8"
      },
      "outputs": [
        {
          "name": "stdout",
          "output_type": "stream",
          "text": [
            "Number of features: 2\n",
            "Merit score: 0.18536160983305905\n"
          ]
        }
      ],
      "source": [
        "k = 2\n",
        "# Since we only have two features here, we have only one correlation value, so\n",
        "# that the mean is just this one value\n",
        "mean_xx_corr = height_turnover_corr\n",
        "# mean_xy_corr is the mean of the two feature-vs-label correlations we computed\n",
        "# above\n",
        "mean_xy_corr = np.mean([height_playoff_corr, turnover_playoff_corr])\n",
        "print(f\"Number of features: {k}\")\n",
        "merit_score_numer = k * np.absolute(mean_xy_corr)\n",
        "merit_score_denom = np.sqrt(k + k * (k + 1) * np.absolute(mean_xx_corr))\n",
        "merit_score_s2 = merit_score_numer / merit_score_denom\n",
        "print(f\"Merit score: {merit_score_s2}\")"
      ]
    },
    {
      "cell_type": "markdown",
      "metadata": {
        "id": "ZL9h_8N9aq9w"
      },
      "source": [
        "### (7.2) The Augmented Merit Score $S'_3$"
      ]
    },
    {
      "cell_type": "markdown",
      "metadata": {
        "id": "ohgi6QTXVGrQ"
      },
      "source": [
        "Next we can compute the merit score for $S'_{3}$: here we're including `mean_height`, `To`, and `PtsSeason`, so that the math will get a bit more complicated, since we have to consider all possible pairs of features. So, to handle this and to prepare us for future cases, we'll make a function which lets us compute the correlation coefficients for general subsets of the features:\n",
        "\n",
        "*(Note that this is **not** the most efficient way to do this! Loops almost never are. But in this case I'm writing the function using a loop to make it a bit more straightforward how the function works / how it makes sure to consider all possible pairs)*"
      ]
    },
    {
      "cell_type": "code",
      "execution_count": 59,
      "metadata": {
        "colab": {
          "base_uri": "https://localhost:8080/"
        },
        "id": "PV6pJX2RYMfK",
        "outputId": "f5ea05e5-d4ee-4ddd-9c2a-7ba45fad85b0"
      },
      "outputs": [
        {
          "data": {
            "text/plain": [
              "[('a', 'b'), ('a', 'c'), ('b', 'c')]"
            ]
          },
          "execution_count": 59,
          "metadata": {},
          "output_type": "execute_result"
        }
      ],
      "source": [
        "# A quick illustration of how the itertools.combinations() function works\n",
        "import itertools\n",
        "x = ['a','b','c']\n",
        "list(itertools.combinations(x, 2))"
      ]
    },
    {
      "cell_type": "code",
      "execution_count": 60,
      "metadata": {
        "colab": {
          "base_uri": "https://localhost:8080/"
        },
        "id": "Gk_4QWq1Yhxx",
        "outputId": "c07912a0-2cff-44c1-fd10-13d761d399c0"
      },
      "outputs": [
        {
          "data": {
            "text/plain": [
              "[('a', 1), ('b', 2), ('c', 3)]"
            ]
          },
          "execution_count": 60,
          "metadata": {},
          "output_type": "execute_result"
        }
      ],
      "source": [
        "# And while we're looking at helpful Python utilities for making nice variables\n",
        "# to loop over: how Python's built-in zip() function works\n",
        "x = ['a','b','c']\n",
        "y = [1, 2, 3]\n",
        "list(zip(x,y))"
      ]
    },
    {
      "cell_type": "code",
      "execution_count": 61,
      "metadata": {
        "colab": {
          "base_uri": "https://localhost:8080/"
        },
        "id": "NWErt8B7ZFzi",
        "outputId": "3326d34c-7b76-4b7b-dcf7-580d6369d65c"
      },
      "outputs": [
        {
          "data": {
            "text/plain": [
              "[('a', 10), ('b', 10), ('c', 10)]"
            ]
          },
          "execution_count": 61,
          "metadata": {},
          "output_type": "execute_result"
        }
      ],
      "source": [
        "# And finally, how itertools.product() works to create cartesian products\n",
        "x = ['a','b','c']\n",
        "c = [10]\n",
        "list(itertools.product(x,c))"
      ]
    },
    {
      "cell_type": "code",
      "execution_count": 62,
      "metadata": {
        "id": "v0msDf21Ov4d"
      },
      "outputs": [],
      "source": [
        "def compute_mean_xx_corr(x_df):\n",
        "  df_colnames = x_df.columns\n",
        "  # This will contain our final set of x<->x correlations\n",
        "  xx_corrs = []\n",
        "  # Now we use itertools to iterate over all possible *pairs* of\n",
        "  # elements from df_cols\n",
        "  df_colname_pairs = itertools.combinations(df_colnames, 2)\n",
        "  for colname1, colname2 in df_colname_pairs:\n",
        "    # Extract the first column we're considering\n",
        "    col1 = x_df[colname1]\n",
        "    # Extract the second column\n",
        "    col2 = x_df[colname2]\n",
        "    # And compute the correlation\n",
        "    xx_pair_corr = spearmanr(col1, col2).statistic\n",
        "    xx_corrs.append(xx_pair_corr)\n",
        "  # And now that the loop has finished running, we can return the **mean**\n",
        "  # of the correlation values we've accumulated in the `xx_corrs` list\n",
        "  return np.mean(xx_corrs)\n",
        "\n",
        "def compute_mean_xy_corr(x_df, y_vec):\n",
        "  df_colnames = x_df.columns\n",
        "  xy_corrs = []\n",
        "  for colname in df_colnames:\n",
        "    x_col = x_df[colname]\n",
        "    xy_pair_corr = spearmanr(x_col, y_vec)\n",
        "    xy_corrs.append(xy_pair_corr)\n",
        "  # And return the mean\n",
        "  return np.mean(xy_corrs)"
      ]
    },
    {
      "cell_type": "code",
      "execution_count": 63,
      "metadata": {
        "colab": {
          "base_uri": "https://localhost:8080/"
        },
        "id": "KAiFWIT2W146",
        "outputId": "7ad1957b-b432-40d5-fee7-3317f1309c59"
      },
      "outputs": [
        {
          "data": {
            "text/plain": [
              "(-0.117371681544074, 0.1169299925506893)"
            ]
          },
          "execution_count": 63,
          "metadata": {},
          "output_type": "execute_result"
        }
      ],
      "source": [
        "included_vars_sp3 = ['mean_height', 'To', 'PtsSeason']\n",
        "included_vars_df = X_train_scaled_df[included_vars_sp3].copy()\n",
        "mean_xx_corr = compute_mean_xx_corr(included_vars_df)\n",
        "mean_xy_corr = compute_mean_xy_corr(included_vars_df, y_train)\n",
        "mean_xx_corr, mean_xy_corr"
      ]
    },
    {
      "cell_type": "markdown",
      "metadata": {
        "id": "tKy2zy43Z1xd"
      },
      "source": [
        "So that now we can create a simple `compute_merit_score()` function that takes these outputs from `compute_mean_xx_corr()` and `compute_mean_xy_corr()` and uses them to produce a merit score:"
      ]
    },
    {
      "cell_type": "code",
      "execution_count": 64,
      "metadata": {
        "colab": {
          "base_uri": "https://localhost:8080/"
        },
        "id": "d4HZUhX6XWik",
        "outputId": "fc777385-c2d1-4a18-ead2-5afd551b7b3e"
      },
      "outputs": [
        {
          "name": "stdout",
          "output_type": "stream",
          "text": [
            "Merit score (S'_3): 0.14221129699638796\n"
          ]
        }
      ],
      "source": [
        "def compute_merit_score(num_features, mean_xx_corr, mean_xy_corr):\n",
        "  merit_score_numer = k * np.absolute(mean_xy_corr)\n",
        "  merit_score_denom = np.sqrt(k + k * (k + 1) * np.absolute(mean_xx_corr))\n",
        "  merit_score = merit_score_numer / merit_score_denom\n",
        "  return merit_score\n",
        "\n",
        "merit_score_sp3 = compute_merit_score(3, mean_xx_corr, mean_xy_corr)\n",
        "print(f\"Merit score (S'_3): {merit_score_sp3}\")"
      ]
    },
    {
      "cell_type": "markdown",
      "metadata": {
        "id": "x_VWKkbeavFR"
      },
      "source": [
        "### (7.3) The Augmented Merit Score $S'_5$"
      ]
    },
    {
      "cell_type": "markdown",
      "metadata": {
        "id": "e5UqXAwWazdR"
      },
      "source": [
        "Now let's use the same functions we used to compute $S'_3$ here, to compute the needed $x$-to-$x$ and $x$-to-$y$ correlation coefficients for the subset of 5 features:"
      ]
    },
    {
      "cell_type": "code",
      "execution_count": 65,
      "metadata": {
        "colab": {
          "base_uri": "https://localhost:8080/"
        },
        "id": "Id0e7N84aPYA",
        "outputId": "41e4021c-eb01-4839-eca0-cc1dffa984e7"
      },
      "outputs": [
        {
          "data": {
            "text/plain": [
              "(0.0601995027606065, 0.07702604065042143)"
            ]
          },
          "execution_count": 65,
          "metadata": {},
          "output_type": "execute_result"
        }
      ],
      "source": [
        "included_vars_sp5 = ['mean_height', 'To', 'Reb', 'Oreb', 'Dreb']\n",
        "included_vars_df = X_train_scaled_df[included_vars_sp5].copy()\n",
        "mean_xx_corr = compute_mean_xx_corr(included_vars_df)\n",
        "mean_xy_corr = compute_mean_xy_corr(included_vars_df, y_train)\n",
        "mean_xx_corr, mean_xy_corr"
      ]
    },
    {
      "cell_type": "code",
      "execution_count": 66,
      "metadata": {
        "colab": {
          "base_uri": "https://localhost:8080/"
        },
        "id": "DlsQe2ybbFuO",
        "outputId": "d0087687-4d48-4d25-e167-067c41848894"
      },
      "outputs": [
        {
          "name": "stdout",
          "output_type": "stream",
          "text": [
            "Merit score (S'_5): 0.10025394179618205\n"
          ]
        }
      ],
      "source": [
        "merit_score_sp5 = compute_merit_score(5, mean_xx_corr, mean_xy_corr)\n",
        "print(f\"Merit score (S'_5): {merit_score_sp5}\")"
      ]
    },
    {
      "cell_type": "markdown",
      "metadata": {
        "id": "DTUQ0jc1bOVc"
      },
      "source": [
        "### (7.4) Putting the Three Scores Together"
      ]
    },
    {
      "cell_type": "markdown",
      "metadata": {
        "id": "EF6gaNavbTIu"
      },
      "source": [
        "So we can see that, just checking these three potential subsets of all the features, we obtain the following merit scores:\n",
        "\n",
        "| Subset | Variables Included | Merit Score |\n",
        "| - | - | - |\n",
        "| $S_2$ | `mean_height`, `To` | **0.185** |\n",
        "| $S'_3$ | `mean_height`, `To`, `PtsSeason` | **0.142** |\n",
        "| $S'_5$ | `mean_height`, `To`, `Reb`, `Oreb`, `Dreb` | **0.100** |\n",
        "\n",
        "Like we expected, the subset with the lowest merit was the subset containing redundant information: we don't need all three of `Reb`, `Oreb`, and `Dreb`, but only (if we want to include information about rebounds) at most two of the three. So, for example, let's compute one more merit score for a new subset $S''_3$, seeing if we can improve upon the 0.100 score if we only include `Reb`:"
      ]
    },
    {
      "cell_type": "code",
      "execution_count": 67,
      "metadata": {
        "colab": {
          "base_uri": "https://localhost:8080/"
        },
        "id": "TeN25jLNbJrP",
        "outputId": "62071e95-5bb1-49b0-f8a7-3e445668f18c"
      },
      "outputs": [
        {
          "data": {
            "text/plain": [
              "(-0.022629044631427443, 0.10761536360841224)"
            ]
          },
          "execution_count": 67,
          "metadata": {},
          "output_type": "execute_result"
        }
      ],
      "source": [
        "included_vars_spp3 = ['mean_height', 'To', 'Reb']\n",
        "included_vars_df = X_train_scaled_df[included_vars_spp3].copy()\n",
        "mean_xx_corr = compute_mean_xx_corr(included_vars_df)\n",
        "mean_xy_corr = compute_mean_xy_corr(included_vars_df, y_train)\n",
        "mean_xx_corr, mean_xy_corr"
      ]
    },
    {
      "cell_type": "code",
      "execution_count": 68,
      "metadata": {
        "colab": {
          "base_uri": "https://localhost:8080/"
        },
        "id": "QYz5ISM9cNic",
        "outputId": "7b261346-ef56-4597-8875-031bb3ca2505"
      },
      "outputs": [
        {
          "name": "stdout",
          "output_type": "stream",
          "text": [
            "Merit score (S''_3): 0.14727417486943475\n"
          ]
        }
      ],
      "source": [
        "merit_score_spp3 = compute_merit_score(3, mean_xx_corr, mean_xy_corr)\n",
        "print(f\"Merit score (S''_3): {merit_score_spp3}\")"
      ]
    },
    {
      "cell_type": "markdown",
      "metadata": {
        "id": "kEKChF5edt2H"
      },
      "source": [
        "And, to add one more relevant piece to our investigation, let's also compute the score for a new subset $S'_4$ where we include `Reb` **as well as** `PtsSeason` on top of our base variables:"
      ]
    },
    {
      "cell_type": "code",
      "execution_count": 69,
      "metadata": {
        "colab": {
          "base_uri": "https://localhost:8080/"
        },
        "id": "XrFl_0mWcRVM",
        "outputId": "2f3b885b-096f-422b-d5bc-938c931c81dc"
      },
      "outputs": [
        {
          "data": {
            "text/plain": [
              "(0.007649292847057176, 0.10839650518198726)"
            ]
          },
          "execution_count": 69,
          "metadata": {},
          "output_type": "execute_result"
        }
      ],
      "source": [
        "included_vars_sp4 = ['mean_height', 'To', 'Reb', 'PtsSeason']\n",
        "included_vars_df = X_train_scaled_df[included_vars_sp4].copy()\n",
        "mean_xx_corr = compute_mean_xx_corr(included_vars_df)\n",
        "mean_xy_corr = compute_mean_xy_corr(included_vars_df, y_train)\n",
        "mean_xx_corr, mean_xy_corr"
      ]
    },
    {
      "cell_type": "code",
      "execution_count": 70,
      "metadata": {
        "colab": {
          "base_uri": "https://localhost:8080/"
        },
        "id": "erBdD5XTeCK0",
        "outputId": "4b7434e3-fa44-450e-d75d-b0716b6722a5"
      },
      "outputs": [
        {
          "name": "stdout",
          "output_type": "stream",
          "text": [
            "Merit score (S'_4): 0.15156660582136663\n"
          ]
        }
      ],
      "source": [
        "merit_score_sp4 = compute_merit_score(4, mean_xx_corr, mean_xy_corr)\n",
        "print(f\"Merit score (S'_4): {merit_score_sp4}\")"
      ]
    },
    {
      "cell_type": "markdown",
      "metadata": {
        "id": "n9b-ByVheGab"
      },
      "source": [
        "Our final merit score table (sorted by merit score, in decreasing order) now looks like:\n",
        "\n",
        "| Subset | Variables Included | Merit Score |\n",
        "| - | - | - |\n",
        "| $S_2$ | `mean_height`, `To` | **0.185** |\n",
        "| $S'_4$ | `mean_height`, `To`, `Reb`, `PtsSeason` | **0.152** |\n",
        "| $S''_3$ | `mean_height`, `To`, `Reb` | **0.147** |\n",
        "| $S'_3$ | `mean_height`, `To`, `PtsSeason` | **0.142** |\n",
        "| $S'_5$ | `mean_height`, `To`, `Reb`, `Oreb`, `Dreb` | **0.100** |\n",
        "\n",
        "And so we see that, despite getting somewhat close to our base (2-variable) subset $S_2$ by including `Reb` and `PtsSeason` while excluding `Oreb` and `Dreb`, there still wasn't enough **additional information** contained in `Reb` and/or `PtsSeason` to **justify** using these in addition to `mean_height` and `To`. In other words, if we adopt this merit score as our metric, then out of these five possible subsets of the full feature space, we expect that we will get the best performance by just using the subset $S_2$ to predict the labels. Let's see what happens when we try this, using our SVM classifier:"
      ]
    },
    {
      "cell_type": "code",
      "execution_count": 71,
      "metadata": {
        "colab": {
          "base_uri": "https://localhost:8080/",
          "height": 75
        },
        "id": "llfl2nHHeEZy",
        "outputId": "4904959a-d368-40ef-cd88-1356b9bf1cfa"
      },
      "outputs": [
        {
          "data": {
            "text/html": [
              "<style>#sk-container-id-4 {color: black;}#sk-container-id-4 pre{padding: 0;}#sk-container-id-4 div.sk-toggleable {background-color: white;}#sk-container-id-4 label.sk-toggleable__label {cursor: pointer;display: block;width: 100%;margin-bottom: 0;padding: 0.3em;box-sizing: border-box;text-align: center;}#sk-container-id-4 label.sk-toggleable__label-arrow:before {content: \"▸\";float: left;margin-right: 0.25em;color: #696969;}#sk-container-id-4 label.sk-toggleable__label-arrow:hover:before {color: black;}#sk-container-id-4 div.sk-estimator:hover label.sk-toggleable__label-arrow:before {color: black;}#sk-container-id-4 div.sk-toggleable__content {max-height: 0;max-width: 0;overflow: hidden;text-align: left;background-color: #f0f8ff;}#sk-container-id-4 div.sk-toggleable__content pre {margin: 0.2em;color: black;border-radius: 0.25em;background-color: #f0f8ff;}#sk-container-id-4 input.sk-toggleable__control:checked~div.sk-toggleable__content {max-height: 200px;max-width: 100%;overflow: auto;}#sk-container-id-4 input.sk-toggleable__control:checked~label.sk-toggleable__label-arrow:before {content: \"▾\";}#sk-container-id-4 div.sk-estimator input.sk-toggleable__control:checked~label.sk-toggleable__label {background-color: #d4ebff;}#sk-container-id-4 div.sk-label input.sk-toggleable__control:checked~label.sk-toggleable__label {background-color: #d4ebff;}#sk-container-id-4 input.sk-hidden--visually {border: 0;clip: rect(1px 1px 1px 1px);clip: rect(1px, 1px, 1px, 1px);height: 1px;margin: -1px;overflow: hidden;padding: 0;position: absolute;width: 1px;}#sk-container-id-4 div.sk-estimator {font-family: monospace;background-color: #f0f8ff;border: 1px dotted black;border-radius: 0.25em;box-sizing: border-box;margin-bottom: 0.5em;}#sk-container-id-4 div.sk-estimator:hover {background-color: #d4ebff;}#sk-container-id-4 div.sk-parallel-item::after {content: \"\";width: 100%;border-bottom: 1px solid gray;flex-grow: 1;}#sk-container-id-4 div.sk-label:hover label.sk-toggleable__label {background-color: #d4ebff;}#sk-container-id-4 div.sk-serial::before {content: \"\";position: absolute;border-left: 1px solid gray;box-sizing: border-box;top: 0;bottom: 0;left: 50%;z-index: 0;}#sk-container-id-4 div.sk-serial {display: flex;flex-direction: column;align-items: center;background-color: white;padding-right: 0.2em;padding-left: 0.2em;position: relative;}#sk-container-id-4 div.sk-item {position: relative;z-index: 1;}#sk-container-id-4 div.sk-parallel {display: flex;align-items: stretch;justify-content: center;background-color: white;position: relative;}#sk-container-id-4 div.sk-item::before, #sk-container-id-4 div.sk-parallel-item::before {content: \"\";position: absolute;border-left: 1px solid gray;box-sizing: border-box;top: 0;bottom: 0;left: 50%;z-index: -1;}#sk-container-id-4 div.sk-parallel-item {display: flex;flex-direction: column;z-index: 1;position: relative;background-color: white;}#sk-container-id-4 div.sk-parallel-item:first-child::after {align-self: flex-end;width: 50%;}#sk-container-id-4 div.sk-parallel-item:last-child::after {align-self: flex-start;width: 50%;}#sk-container-id-4 div.sk-parallel-item:only-child::after {width: 0;}#sk-container-id-4 div.sk-dashed-wrapped {border: 1px dashed gray;margin: 0 0.4em 0.5em 0.4em;box-sizing: border-box;padding-bottom: 0.4em;background-color: white;}#sk-container-id-4 div.sk-label label {font-family: monospace;font-weight: bold;display: inline-block;line-height: 1.2em;}#sk-container-id-4 div.sk-label-container {text-align: center;}#sk-container-id-4 div.sk-container {/* jupyter's `normalize.less` sets `[hidden] { display: none; }` but bootstrap.min.css set `[hidden] { display: none !important; }` so we also need the `!important` here to be able to override the default hidden behavior on the sphinx rendered scikit-learn.org. See: https://github.com/scikit-learn/scikit-learn/issues/21755 */display: inline-block !important;position: relative;}#sk-container-id-4 div.sk-text-repr-fallback {display: none;}</style><div id=\"sk-container-id-4\" class=\"sk-top-container\"><div class=\"sk-text-repr-fallback\"><pre>SVC()</pre><b>In a Jupyter environment, please rerun this cell to show the HTML representation or trust the notebook. <br />On GitHub, the HTML representation is unable to render, please try loading this page with nbviewer.org.</b></div><div class=\"sk-container\" hidden><div class=\"sk-item\"><div class=\"sk-estimator sk-toggleable\"><input class=\"sk-toggleable__control sk-hidden--visually\" id=\"sk-estimator-id-6\" type=\"checkbox\" checked><label for=\"sk-estimator-id-6\" class=\"sk-toggleable__label sk-toggleable__label-arrow\">SVC</label><div class=\"sk-toggleable__content\"><pre>SVC()</pre></div></div></div></div></div>"
            ],
            "text/plain": [
              "SVC()"
            ]
          },
          "execution_count": 71,
          "metadata": {},
          "output_type": "execute_result"
        }
      ],
      "source": [
        "included_vars_s2 = ['mean_height', 'To']\n",
        "X_train_scaled_s2 = X_train_scaled_df[included_vars_s2].copy()\n",
        "# We'll call our new classifier, where we're using feature selection to train\n",
        "# it on only a subset of the full set of features, fs_clf, where the \"fs\"\n",
        "# stands for \"feature selection\"\n",
        "fs_clf = svm.SVC()\n",
        "fs_clf.fit(X_train_scaled_s2, y_train)"
      ]
    },
    {
      "cell_type": "code",
      "execution_count": 72,
      "metadata": {
        "colab": {
          "base_uri": "https://localhost:8080/"
        },
        "id": "mZICPkElgD3k",
        "outputId": "1141f9db-eb76-44c7-f713-008fbbd6a086"
      },
      "outputs": [
        {
          "data": {
            "text/plain": [
              "array([0, 1, 0, 0, 0, 1, 1, 1, 1, 1, 0, 0, 0, 0, 0, 1, 0, 0, 0, 0, 1, 1,\n",
              "       1, 0, 1, 1, 0, 0, 1, 0, 0, 1, 1, 1, 1, 0, 0, 0, 0, 1, 1, 0, 1, 1,\n",
              "       0, 1, 0, 1, 0, 1, 1, 1, 1, 1, 1, 0, 1, 1, 1, 1, 1, 0, 1, 0, 0, 1,\n",
              "       1, 0, 1, 0, 1, 0, 0, 1, 1, 1, 1, 0, 0, 0, 1, 0, 0, 1, 0, 1, 1, 0,\n",
              "       0, 0, 1, 0, 0, 0, 1, 0, 1, 0, 1, 0, 1, 1, 0, 1, 1, 1, 0, 1, 0, 0,\n",
              "       1, 0, 0, 1, 1, 0, 0, 1, 0, 1, 1, 0, 1, 0, 1, 1, 0, 1, 0, 0, 1, 0,\n",
              "       0, 0, 1, 1, 1])"
            ]
          },
          "execution_count": 72,
          "metadata": {},
          "output_type": "execute_result"
        }
      ],
      "source": [
        "# And evaluate, as before\n",
        "X_test_scaled_s2 = X_test_scaled_df[included_vars_s2].copy()\n",
        "test_predictions = fs_clf.predict(X_test_scaled_s2)\n",
        "test_predictions"
      ]
    },
    {
      "cell_type": "code",
      "execution_count": 73,
      "metadata": {
        "colab": {
          "base_uri": "https://localhost:8080/"
        },
        "id": "8OGwAq2CgZ5h",
        "outputId": "01c7a45d-9567-4211-f551-d996605cea7b"
      },
      "outputs": [
        {
          "data": {
            "text/plain": [
              "0.6293706293706294"
            ]
          },
          "execution_count": 73,
          "metadata": {},
          "output_type": "execute_result"
        }
      ],
      "source": [
        "f1_score(\n",
        "    y_true = y_test,\n",
        "    y_pred = test_predictions\n",
        ")"
      ]
    },
    {
      "cell_type": "markdown",
      "metadata": {
        "id": "UGig9gXdgilC"
      },
      "source": [
        "And we see, to our horror, that our fairly *ad hoc* feature selection step did **not** improve our performance at all. In fact, it decreased our performance to the point that now our SVM does worse (in terms of F1 score, at least) than the guess-most-frequent-label approach 😰\n",
        "\n",
        "Why did this happen? There are many potential reasons, but first off we can notice that we **did not check all possible subsets of our features!** The two variables we chose as our \"base\" variables may have been bad choices in this case, which constrained all of our subsequent subsets to also be bad choices for predictive subsets of the full feature space.\n",
        "\n",
        "It also may be that, in terms of our particular setting, the merit score over-penalizes the inclusion of additional features: typically, when we're dealing with large datasets with e.g. thousands or millions of features, it's a **good thing** for the merit score to harshly penalize the inclusion of lots of additional variables, since we are trying to trim the feature space way down to just a few features which are extremely effective (in combination) for predicting the labels. Here, since we only have **14 features** in total, we may not need to apply such a harsh penalty until (say) the number of included features passes 7, since anything below 7 means we're cutting the number of features in half.\n",
        "\n",
        "So, I'll leave it to you to figure out if perhaps there is a better **feature selection approach** in this case (notice how many different feature selection methods are <a href='https://scikit-learn.org/stable/modules/classes.html#module-sklearn.feature_selection' target='_blank'>implemented in Scikit-learn</a>, each one having different advantages and drawbacks in any given ML scenario!), but I used some fairly-simple methods available in Scikit-learn to arrive at the following subset:\n",
        "\n",
        "$$\n",
        "S''_4 = \\{\\texttt{mean\\_age}, \\texttt{OppPtsSeason}, \\texttt{PtsDiff}, \\texttt{To}\\}\n",
        "$$\n",
        "\n",
        "which is **not** guaranteed to be the optimal subset, but **does** beat out our baseline off-the-shelf ML model, to produce a final **F1 score table** as follows (where I've given abbreviations to each algorithm, which I use in the plot below):\n",
        "\n",
        "| ID | Algorithm | F1 Score |\n",
        "| - | - | - |\n",
        "| ML+FS | ML Algorithm + **Feature Selection** | **0.898** |\n",
        "| ML | ML Algorithm **without** Feature Selection | **0.878** |\n",
        "| MFL | Baseline: Guess Most Frequent Label | **0.700** |\n",
        "| RG | Baseline: Random Guessing | **0.531** |\n",
        "\n",
        "So that we can **plot the progress we made** as we used more and more sophisticated techniques:"
      ]
    },
    {
      "cell_type": "code",
      "execution_count": 74,
      "metadata": {
        "colab": {
          "base_uri": "https://localhost:8080/",
          "height": 472
        },
        "id": "8cMwLnXZrDaq",
        "outputId": "27a61099-a082-4c82-8c0d-a1f2d43d4874"
      },
      "outputs": [
        {
          "data": {
            "image/png": "[encoded data removed]",
            "text/plain": [
              "<Figure size 640x480 with 1 Axes>"
            ]
          },
          "metadata": {},
          "output_type": "display_data"
        }
      ],
      "source": [
        "import pandas as pd\n",
        "import numpy as np\n",
        "import matplotlib.pyplot as plt\n",
        "import seaborn as sns\n",
        "sns.set_style('whitegrid')\n",
        "algs = ['RG', 'MFL', 'ML', 'ML+FS']\n",
        "scores = [0.531, 0.700, 0.878, 0.898]\n",
        "alg_df = pd.DataFrame({'Algorithm': algs, 'F1 Score': scores})\n",
        "sns.lineplot(data=alg_df, x='Algorithm', y='F1 Score', marker='o')\n",
        "plt.title(\"F1 Score Improvement: Random-Guessing to ML+Feature Selection\")\n",
        "plt.show()"
      ]
    },
    {
      "cell_type": "markdown",
      "metadata": {
        "id": "mlIH5MZesBlY"
      },
      "source": [
        "In fact, to illustrate a bit more how effective feature selection can be: the approach I used, while being extremely \"greedy\" and thus not guaranteed to be optimal, still beat out the baseline ML model for every value of $K$ (the number of features to select) besides $K = 13$, as can be seen in the following plot:"
      ]
    },
    {
      "cell_type": "code",
      "execution_count": 75,
      "metadata": {
        "colab": {
          "base_uri": "https://localhost:8080/",
          "height": 487
        },
        "id": "4H1e4MG5nU3G",
        "outputId": "f7f9320a-e998-4aa6-a8db-2ce053fc50cb"
      },
      "outputs": [
        {
          "data": {
            "image/png": "[encoded data removed]",
            "text/plain": [
              "<Figure size 640x480 with 1 Axes>"
            ]
          },
          "metadata": {},
          "output_type": "display_data"
        }
      ],
      "source": [
        "fs_data_url = \"https://jpj.georgetown.domains/dsan5000-scratch/feature-selection/fs_scores.csv\"\n",
        "fs_df = pd.read_csv(fs_data_url)\n",
        "plot_obj = sns.lineplot(data=fs_df, x='k', y='f1_score', marker='o')\n",
        "plot_obj.axhline(0.878, ls='--', color='orange')\n",
        "plt.title(\"F1 Scores for Increasingly-Larger Subsets of Features\")\n",
        "plt.tight_layout()\n",
        "plt.show()"
      ]
    },
    {
      "cell_type": "markdown",
      "metadata": {
        "id": "0eznGoRxp7dR"
      },
      "source": [
        "## Appendix: Possibly Helpful Code"
      ]
    },
    {
      "cell_type": "code",
      "execution_count": 76,
      "metadata": {
        "id": "mn1cLsToiwnv"
      },
      "outputs": [],
      "source": [
        "# In case you need this, to get all possible subsets of a python list!\n",
        "from itertools import chain, combinations\n",
        "def powerset(iterable):\n",
        "    \"powerset([1,2,3]) --> () (1,) (2,) (3,) (1,2) (1,3) (2,3) (1,2,3)\"\n",
        "    s = list(iterable)\n",
        "    return chain.from_iterable(combinations(s, r) for r in range(len(s)+1))\n",
        "#list(powerset(my_list))"
      ]
    },
    {
      "cell_type": "code",
      "execution_count": null,
      "metadata": {
        "id": "sp0L3g0wncon"
      },
      "outputs": [],
      "source": []
    }
  ],
  "metadata": {
    "colab": {
      "provenance": []
    },
    "kernelspec": {
      "display_name": "Python 3",
      "name": "python3"
    },
    "language_info": {
      "codemirror_mode": {
        "name": "ipython",
        "version": 3
      },
      "file_extension": ".py",
      "mimetype": "text/x-python",
      "name": "python",
      "nbconvert_exporter": "python",
      "pygments_lexer": "ipython3",
      "version": "3.11.5"
    }
  },
  "nbformat": 4,
  "nbformat_minor": 0
}
