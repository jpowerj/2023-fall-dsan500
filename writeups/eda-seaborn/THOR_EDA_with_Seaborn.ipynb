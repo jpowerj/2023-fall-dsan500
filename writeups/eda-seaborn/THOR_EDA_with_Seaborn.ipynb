{
 "cells": [
  {
   "cell_type": "raw",
   "metadata": {},
   "source": [
    "---\n",
    "title: \"Exploratory Data Analysis of the THOR Dataset in Seaborn\"\n",
    "format:\n",
    "  html:\n",
    "    embed-resources: true\n",
    "date: last-modified\n",
    "categories:\n",
    "  - \"Extra Writeups\"\n",
    "metadata-files:\n",
    "  - ../../_doc-meta.yml\n",
    "---"
   ]
  },
  {
   "cell_type": "markdown",
   "metadata": {},
   "source": [
    "::: {.callout-note title=\"Colab Link\"}\n",
    "\n",
    "<center>\n",
    "\n",
    "[![](images/colab-badge.svg)<br>Click here to **open in Colab**](https://colab.research.google.com/github/jpowerj/dsan5000/blob/main/writeups/eda-seaborn/THOR_EDA_with_Seaborn.ipynb?authuser=1){target=\"_blank\"}\n",
    "\n",
    "</center>\n",
    "\n",
    ":::"
   ]
  },
  {
   "cell_type": "markdown",
   "metadata": {
    "id": "1QspetwAwYua"
   },
   "source": [
    "## (1) Lab Background"
   ]
  },
  {
   "cell_type": "markdown",
   "metadata": {
    "id": "fsFjJjzHYVIw"
   },
   "source": [
    "### (1.1) The Vietnam / Second Indochinese War\n",
    "\n",
    "> A massive bombing campaign in Cambodia. Anything that flies on anything that moves.<br>--Henry Kissinger, US National Security Advisor, <a href='https://www.nytimes.com/2004/05/27/us/kissinger-tapes-describe-crises-war-and-stark-photos-of-abuse.html' target='_blank'>Dec. 9, 1970</a>.\n",
    "\n",
    "In 1965, the United States launched *Operation Rolling Thunder*, a years-long aerial assault on Vietnam which devastated the country and its people (killing <a href='https://www.ncbi.nlm.nih.gov/pmc/articles/PMC2440905/' target='_blank'>over 3 million</a>), irreversably damaging its environment (with more extensive use of <a href='https://www.nytimes.com/2017/11/24/opinion/vietnam-the-chemical-war.html' target='_blank'>chemical weapons</a> like Napalm than in any war before or since), its crops and forests (with 19 million gallons of <a href='https://www.history.com/news/agent-orange-wasnt-the-only-deadly-chemical-used-in-vietnam' target='_blank'>Agent Orange</a> sprayed over 500,000 acres of crops and 5 million acres of forests), and its infrastructure. As a campaign of genuinely unprecedented ferocity and destruction launched by a military superpower against a poor, mostly rural/agrarian country (only 20% of its citizens lived in cities at the time), its <a href='https://jjacobs.me/mdb/chomsky-hr2/' target='_blank'>devastating effects</a> are **still felt to this day** by those in Vietnam, Laos, and Cambodia.\n",
    "\n",
    "*(All of which is all my not-so-subtle chance to plug, before moving onto the data analysis, the <a href='https://www.halousa.org/get-involved/give/donate/' target='_blank'>donation page</a> for the HALO Trust: an org headquartered right here in NW DC which is leading the worldwide effort to defuse unexploded landmines in these countries, where for example **50,000 Laotians** have been killed by these mines since the war \"officially\" ended)*\n",
    "\n",
    "### (1.2) The Role of Data Science in the Devastation\n",
    "\n",
    "As an example of a war where modern **science and technology** was seen as a central military resource (with chemistry research leading to the deployment of Agent Orange and Napalm, computer science research used to track and target individuals via early instances of **machine learning models**, and social science research used to e.g. justify driving villagers from their homes into concentration camps called \"Strategic Hamlets\"), it is an important piece of history for data scientists to grapple with: how the technologies we develop **could** be used to help people, but **also** could be used to inflict unimaginable horrors upon millions of innocent civilians. **Datasets** pertaining to this war, many of which have only become publicly/easily-available in the past few years, provide the perfect opportunity to use data science itself to study this example of a military \"data science project\" of a prior generation.\n",
    "\n",
    "### (1.3) EDA and Bayesian Statistics: Challenging Prior Beliefs to Derive Posterior Beliefs\n",
    "\n",
    "Although the entire point of EDA in theory is to go in \"without any assumptions\" (but see below/slides), I'll give a quick summary of the impression(s) I came away with after the cleaning, tabulating, and visualizing below, in combination with what I knew about it beforehand, so (a) you know what to expect going in and/or (b) so you can use it as a \"prior\" that you update while working through the visualizations (challenging received assumptions, rather than pretending we have none, should be the goal of EDA imo!)\n",
    "\n",
    "Briefly: although *Operation Rolling Thunder* is often cited as the beginning of what people in the **US** usually call the **\"Vietnam War\"**, by looking at the basic collection of tabulations and visualizations herein it slowly emerges that probably the *most* horrifying and unprecedented destruction was experienced not even by those in Vietnam itself but by those in **Laos** over the timespan represented in the dataset (and, after a US-sponsored coup in 1970, **Cambodia** as well). I knew beforehand, for example, that Laos was the most-bombed (per square meter) territory in history, but in terms of the goals of EDA I definitely found my priors about the Vietnam War challenged by what the tables/plots seemed to be \"saying\" about the underlying historical event.\n",
    "\n",
    "As a final piece of information to have as part of your prior knowledge, though, before we dive in: Keep in mind that although the numbers we'll be examining are mostly in **absolute** units such as the **number** of bombings, they should be interpreted in the **context** of the relative populations of each country in the dataset, at the beginning of the campaign:\n",
    "\n",
    "| Country | Population | Year | Source |\n",
    "| - | - | - | - |\n",
    "| Cambodia | 6.2 million | 1965 | <a href='https://databank.worldbank.org/source/population-estimates-and-projections?savedlg=1&l=en' target='_blank'>World Bank</a> |\n",
    "| Laos | 2.4 million | 1965 | <a href='https://databank.worldbank.org/source/population-estimates-and-projections?savedlg=1&l=en' target='_blank'>World Bank</a> |\n",
    "| Democratic Republic of Vietnam<br>(North Vietnam) | 17.7 million | 1965 | <a href='https://www.documentcloud.org/documents/22435664-economic-intelligence-statistical-handbook-1966' target='_blank'>CIA Intelligence Report</a> (via CREST), 1966, p. 26 |\n",
    "| Republic of Vietnam<br>(South Vietnam) | 16 million | End of 1964 | <a href='https://www.intelligence.gov/assets/documents/tet-documents/cia/THE%20MANPOWER%20SITUATION%20IN_15472910_.pdf' target='_blank'>CIA Intelligence Report</a> (via CREST), 1968, p. 11 |\n",
    "\n",
    "### (1.4) Dataset Info\n",
    "\n",
    "The dataset we'll be analyzing is called the [*Vietnam War Theater History of Operations* (**THOR**) dataset](https://data.world/datamil/vietnam-war-thor-data){target=\"_blank\"}, released by the US Department of Defense in 2015. The raw data is too large (~1.5GB) to easily download and work with, so I'll be using a reduced-form version below, but the full dataset is available at the previous link (from `data.world`).^[My old link to the dataset, from `data.mil`, does not seem to work anymore, and I can't locate this dataset on the Department of Defense's official website anymore, so if someone knows what happened there let me know :D]"
   ]
  },
  {
   "cell_type": "markdown",
   "metadata": {
    "id": "-oXmhZ-Gx_eT"
   },
   "source": [
    "## (2) Loading the Data\n",
    "\n",
    "As you should slowly be getting in the habit of doing, we start by importing:\n",
    "\n",
    "* **Pandas** (for dataset storage and manipulation),\n",
    "* **NumPy** (for any mathematical transformations we might want to apply), and\n",
    "* **Seaborn** (for visualization, whether EDA-focused or otherwise)"
   ]
  },
  {
   "cell_type": "code",
   "execution_count": 1,
   "metadata": {
    "ExecuteTime": {
     "end_time": "2023-09-30T08:57:21.088562Z",
     "start_time": "2023-09-30T08:57:21.070625Z"
    },
    "id": "IeDlve7Jv5bA"
   },
   "outputs": [],
   "source": [
    "import pandas as pd\n",
    "import numpy as np\n",
    "import seaborn as sns"
   ]
  },
  {
   "cell_type": "markdown",
   "metadata": {
    "id": "7_0jmcs2ytXZ"
   },
   "source": [
    "Next we **download the dataset**. Technically Pandas' `read_csv()` function does support URL arguments, so that we could load the dataset directly into Pandas via URL, but since we often open and close notebooks, or Jupyter crashes, to avoid re-downloading each time you can run the following line, which should download the `.csv` file into the same directory as wherever this notebook is stored (on Colab, for example, the same portion of your Google Drive that Colab allocates for the storage of the notebook).\n",
    "\n",
    "Since we've already used Python's `requests` library before, for data scraping, we'll use that here to quickly request and save the file:"
   ]
  },
  {
   "cell_type": "code",
   "execution_count": 2,
   "metadata": {
    "ExecuteTime": {
     "end_time": "2023-09-30T08:57:25.121460Z",
     "start_time": "2023-09-30T08:57:22.234132Z"
    },
    "id": "j8tOEVKAzP2i"
   },
   "outputs": [],
   "source": [
    "import requests\n",
    "thor_url = \"https://jpj.georgetown.domains/dsan5000-scratch/eda/thor_strikes.csv\"\n",
    "with open(\"thor_strikes.csv\", 'wb') as outfile:\n",
    "  csv_content = requests.get(thor_url, stream=True).content\n",
    "  outfile.write(csv_content)"
   ]
  },
  {
   "cell_type": "markdown",
   "metadata": {
    "id": "xG54PDwUyk2m"
   },
   "source": [
    "If the download was successful, you should have a `thor_strikes.csv` file in the same folder as this notebook (in Colab you can check the file tab in the sidebar on the left side of the page). We can then use `pd.read_csv()` to load the `.csv`-formatted dataset, and we can re-load the dataset again in the future without having to worry about re-downloading it."
   ]
  },
  {
   "cell_type": "code",
   "execution_count": 3,
   "metadata": {
    "ExecuteTime": {
     "end_time": "2023-09-30T08:57:25.613302Z",
     "start_time": "2023-09-30T08:57:25.123359Z"
    },
    "id": "2N0xg7EEYLBB"
   },
   "outputs": [],
   "source": [
    "strike_df = pd.read_csv(\"thor_strikes.csv\")"
   ]
  },
  {
   "cell_type": "markdown",
   "metadata": {
    "id": "Z3SgVzJs3ifV"
   },
   "source": [
    "Another good habit you can get into is always checking the output of the `.head()` function after loading the dataset, just to make sure that everything loaded as you expected. It usually doesn't (😅)"
   ]
  },
  {
   "cell_type": "code",
   "execution_count": 4,
   "metadata": {
    "ExecuteTime": {
     "end_time": "2023-09-30T08:57:25.632636Z",
     "start_time": "2023-09-30T08:57:25.615858Z"
    },
    "colab": {
     "base_uri": "https://localhost:8080/",
     "height": 261
    },
    "id": "Vy0oSs0gv71H",
    "outputId": "85baa4da-2d65-4c49-92c4-7c227d619a4f"
   },
   "outputs": [
    {
     "data": {
      "text/html": [
       "<div>\n",
       "<style scoped>\n",
       "    .dataframe tbody tr th:only-of-type {\n",
       "        vertical-align: middle;\n",
       "    }\n",
       "\n",
       "    .dataframe tbody tr th {\n",
       "        vertical-align: top;\n",
       "    }\n",
       "\n",
       "    .dataframe thead th {\n",
       "        text-align: right;\n",
       "    }\n",
       "</style>\n",
       "<table border=\"1\" class=\"dataframe\">\n",
       "  <thead>\n",
       "    <tr style=\"text-align: right;\">\n",
       "      <th></th>\n",
       "      <th>MFUNC_DESC</th>\n",
       "      <th>MISSIONID</th>\n",
       "      <th>TGTCOUNTRY</th>\n",
       "      <th>THOR_DATA_VIET_ID</th>\n",
       "      <th>MSNDATE</th>\n",
       "      <th>SOURCEID</th>\n",
       "      <th>NUMWEAPONSDELIVERED</th>\n",
       "      <th>TGTTYPE</th>\n",
       "      <th>TGTLATDD_DDD_WGS84</th>\n",
       "      <th>TGTLONDDD_DDD_WGS84</th>\n",
       "    </tr>\n",
       "  </thead>\n",
       "  <tbody>\n",
       "    <tr>\n",
       "      <th>0</th>\n",
       "      <td>STRIKE</td>\n",
       "      <td>1047</td>\n",
       "      <td>LAOS</td>\n",
       "      <td>4</td>\n",
       "      <td>1970-02-02</td>\n",
       "      <td>642780</td>\n",
       "      <td>2</td>\n",
       "      <td>TRUCKS</td>\n",
       "      <td>16.902500</td>\n",
       "      <td>106.014166</td>\n",
       "    </tr>\n",
       "    <tr>\n",
       "      <th>1</th>\n",
       "      <td>STRIKE</td>\n",
       "      <td>1407</td>\n",
       "      <td>LAOS</td>\n",
       "      <td>6</td>\n",
       "      <td>1970-11-25</td>\n",
       "      <td>642782</td>\n",
       "      <td>6</td>\n",
       "      <td>AAA\\37MM  CR MORE</td>\n",
       "      <td>19.602222</td>\n",
       "      <td>103.597222</td>\n",
       "    </tr>\n",
       "    <tr>\n",
       "      <th>2</th>\n",
       "      <td>STRIKE</td>\n",
       "      <td>9064</td>\n",
       "      <td>LAOS</td>\n",
       "      <td>7</td>\n",
       "      <td>1972-03-08</td>\n",
       "      <td>642783</td>\n",
       "      <td>0</td>\n",
       "      <td>TRUCKS</td>\n",
       "      <td>14.573611</td>\n",
       "      <td>106.689722</td>\n",
       "    </tr>\n",
       "    <tr>\n",
       "      <th>3</th>\n",
       "      <td>STRIKE</td>\n",
       "      <td>8630</td>\n",
       "      <td>LAOS</td>\n",
       "      <td>16</td>\n",
       "      <td>1971-05-12</td>\n",
       "      <td>642792</td>\n",
       "      <td>4</td>\n",
       "      <td>TRK\\PRK\\STORE AREA</td>\n",
       "      <td>17.563611</td>\n",
       "      <td>105.756666</td>\n",
       "    </tr>\n",
       "    <tr>\n",
       "      <th>4</th>\n",
       "      <td>STRIKE</td>\n",
       "      <td>1391</td>\n",
       "      <td>LAOS</td>\n",
       "      <td>18</td>\n",
       "      <td>1971-12-19</td>\n",
       "      <td>642794</td>\n",
       "      <td>0</td>\n",
       "      <td>PERSONNEL\\ANY</td>\n",
       "      <td>16.864166</td>\n",
       "      <td>105.349166</td>\n",
       "    </tr>\n",
       "  </tbody>\n",
       "</table>\n",
       "</div>"
      ],
      "text/plain": [
       "  MFUNC_DESC MISSIONID TGTCOUNTRY  THOR_DATA_VIET_ID     MSNDATE  SOURCEID  \\\n",
       "0     STRIKE      1047       LAOS                  4  1970-02-02    642780   \n",
       "1     STRIKE      1407       LAOS                  6  1970-11-25    642782   \n",
       "2     STRIKE      9064       LAOS                  7  1972-03-08    642783   \n",
       "3     STRIKE      8630       LAOS                 16  1971-05-12    642792   \n",
       "4     STRIKE      1391       LAOS                 18  1971-12-19    642794   \n",
       "\n",
       "   NUMWEAPONSDELIVERED             TGTTYPE  TGTLATDD_DDD_WGS84  \\\n",
       "0                    2              TRUCKS           16.902500   \n",
       "1                    6   AAA\\37MM  CR MORE           19.602222   \n",
       "2                    0              TRUCKS           14.573611   \n",
       "3                    4  TRK\\PRK\\STORE AREA           17.563611   \n",
       "4                    0       PERSONNEL\\ANY           16.864166   \n",
       "\n",
       "   TGTLONDDD_DDD_WGS84  \n",
       "0           106.014166  \n",
       "1           103.597222  \n",
       "2           106.689722  \n",
       "3           105.756666  \n",
       "4           105.349166  "
      ]
     },
     "execution_count": 4,
     "metadata": {},
     "output_type": "execute_result"
    }
   ],
   "source": [
    "strike_df.head()"
   ]
  },
  {
   "cell_type": "markdown",
   "metadata": {
    "id": "9Tds49PT4B1K"
   },
   "source": [
    "In our case, though, the output looks pretty much as expected, in terms of Pandas being able to automatically detect the header row and the splits between columns. So, let's move on to the EDA!"
   ]
  },
  {
   "cell_type": "markdown",
   "metadata": {
    "id": "zEfxkkDD0TtG"
   },
   "source": [
    "## (3) Missing Data"
   ]
  },
  {
   "cell_type": "markdown",
   "metadata": {
    "id": "H40r3pb40Xql"
   },
   "source": [
    "First things first, before we worry about missing data itself, we should think about **which variables we want to analyze**, since for now we can just worry about checking for missing values within the columns corresponding to these variables.\n",
    "\n",
    "The **official 59-page codebook for the dataset**, an absolutely crucial thing to have on hand during any data analysis, [can be found at this link](https://jpj.georgetown.domains/dsan5000-scratch/eda/THOR%20Draft%20Data%20Dictionary%20Dec%202016.pdf){target=\"_blank\"}. To skip over you having to read a 59-page document, though, I'll now introduce a shortened, simplified codebook.\n",
    "\n",
    "In our case, since we're doing **exploratory** data analysis, in theory we shouldn't have any hypotheses in mind yet. In reality we **do** have hypotheses in our heads, subconsciously at least, so when I say that I just mean that we're not directly trying to **confirm** or **deny** these hypotheses at this stage. We are just hoping to **question**/**interrogate** them as we go along...\n",
    "\n",
    "Keep in mind Tukey's metaphor, that:\n",
    "\n",
    "* **EDA = detective work**, collecting evidence for a future trial, while\n",
    "* **CDA = the trial itself**!\n",
    "\n",
    "I'm just going to focus on a few key variables which are central to understanding the processes underlying the data (the destruction of the countries across former Indochina). Let's also think about **what type of data** each column represents---categorical vs. numeric, ordinal vs. cardinal, etc. Just like in the lab we can then use this info, as recorded in the following table, as our **codebook** for understanding what each variable represents:\n",
    "\n",
    "| Variable Name | Description | Variable Type | Datatype |\n",
    "| - | - | - | - |\n",
    "| `TGTCOUNTRY` | This should tell us, for a given strike, the **country** within whose borders the strike was carried out. | Categorical | `string` |\n",
    "| `MSNDATE` | This should tell us the **date** (in Y/M/D format) that the strike was carried out. | Discrete numeric (date) | **`object`**(!) (see below) |\n",
    "| `TGTTYPE` | This should tell us the **type** of target, e.g., whether it was a vehicle, a group of people, an individual person, etc. | Categorical | `string` |\n",
    "| `TGTLATDD_DDD_WGS84` | The **latitude** coordinate of the target | Continuous | `float` |\n",
    "| `TGTLONDD_DDD_WGS84` | The **longitude** coordinate of the target | Continuous | `float` |"
   ]
  },
  {
   "cell_type": "markdown",
   "metadata": {
    "id": "SZYYW5c19yiF"
   },
   "source": [
    "As our first EDA task, let's look into the first variable in the table above: `TGTCOUNTRY`. As the section header suggests, we're going to see if this column has any **missing data** and, if so, what the missing data means and what to do about it.\n",
    "\n",
    "**[Crucial point here:]** If we started using Pandas methods with their default arguments, we might get to thinking that nothing is wrong here, and move on from missing data checks... Take a look at what the `value_counts()` function returns when we use this function to look at the distribution of values in `TGTCOUNTRY` without including any additional parameters:"
   ]
  },
  {
   "cell_type": "code",
   "execution_count": 5,
   "metadata": {
    "ExecuteTime": {
     "end_time": "2023-09-30T08:57:28.000089Z",
     "start_time": "2023-09-30T08:57:27.997177Z"
    },
    "colab": {
     "base_uri": "https://localhost:8080/"
    },
    "id": "qJB1HCXe-NG1",
    "outputId": "8899c271-cecb-45c0-974b-6c8456ade526"
   },
   "outputs": [
    {
     "data": {
      "text/plain": [
       "TGTCOUNTRY\n",
       "LAOS              690161\n",
       "NORTH VIETNAM     245977\n",
       "SOUTH VIETNAM      54253\n",
       "CAMBODIA           13271\n",
       "THAILAND             146\n",
       "UNKNOWN               23\n",
       "WESTPAC WATERS         6\n",
       "Name: count, dtype: int64"
      ]
     },
     "execution_count": 5,
     "metadata": {},
     "output_type": "execute_result"
    }
   ],
   "source": [
    "strike_df['TGTCOUNTRY'].value_counts()"
   ]
  },
  {
   "cell_type": "markdown",
   "metadata": {
    "id": "j5s7YgMB-h3s"
   },
   "source": [
    "All seems well from this table: we might think \"ok, great, they have encoded the 23 missing values from the original non-digitized data as `\"UNKNOWN\"`, and all the other values are interpretable non-missing labels, so we're good right?\"\n",
    "\n",
    "Sadly we're **NOT GOOD 😭**. Let's check one more thing, to slowly move towards the hidden issue here. Let's start by **summing up** the counts that `value_counts()` has given us for each value:"
   ]
  },
  {
   "cell_type": "code",
   "execution_count": 6,
   "metadata": {
    "ExecuteTime": {
     "end_time": "2023-09-30T08:57:29.079885Z",
     "start_time": "2023-09-30T08:57:29.074421Z"
    },
    "colab": {
     "base_uri": "https://localhost:8080/"
    },
    "id": "gQBl8wCz_KMW",
    "outputId": "9613d968-5dc7-4d11-c1cd-3041827a76be"
   },
   "outputs": [
    {
     "data": {
      "text/plain": [
       "1003837"
      ]
     },
     "execution_count": 6,
     "metadata": {},
     "output_type": "execute_result"
    }
   ],
   "source": [
    "value_counts_sum = strike_df['TGTCOUNTRY'].value_counts().sum()\n",
    "value_counts_sum"
   ]
  },
  {
   "cell_type": "markdown",
   "metadata": {
    "id": "O1F1_rsb_RnW"
   },
   "source": [
    "Next let's take a look at the total number of rows and columns in our `DataFrame`, by checking the `shape` attribute\n",
    "\n",
    "[Here it's important to note that, unlike most of the other attributes that we use to analyze `DataFrame` objects, `shape` is **not a function** but a **static variable**, an **attribute** of the `DataFrame` object. That's why we just use `.shape` rather than `.shape()` to access this information.]"
   ]
  },
  {
   "cell_type": "code",
   "execution_count": 7,
   "metadata": {
    "ExecuteTime": {
     "end_time": "2023-09-30T08:57:29.568829Z",
     "start_time": "2023-09-30T08:57:29.542024Z"
    },
    "colab": {
     "base_uri": "https://localhost:8080/"
    },
    "id": "Ilf0XKBu_PWj",
    "outputId": "15f07c7b-665d-4ef0-fc74-d528ac722b85"
   },
   "outputs": [
    {
     "data": {
      "text/plain": [
       "1007674"
      ]
     },
     "execution_count": 7,
     "metadata": {},
     "output_type": "execute_result"
    }
   ],
   "source": [
    "num_rows = strike_df.shape[0]\n",
    "num_rows"
   ]
  },
  {
   "cell_type": "markdown",
   "metadata": {
    "id": "9cgW-wx0_tTh"
   },
   "source": [
    "Do you see the issue? If not, let's check the difference between these two values:"
   ]
  },
  {
   "cell_type": "code",
   "execution_count": 8,
   "metadata": {
    "ExecuteTime": {
     "end_time": "2023-09-30T08:57:30.191209Z",
     "start_time": "2023-09-30T08:57:30.155395Z"
    },
    "colab": {
     "base_uri": "https://localhost:8080/"
    },
    "id": "0KRAbAZm_9GB",
    "outputId": "b27b8b4c-5e1d-45c7-d15f-05b9ec1e7c8d"
   },
   "outputs": [
    {
     "data": {
      "text/plain": [
       "3837"
      ]
     },
     "execution_count": 8,
     "metadata": {},
     "output_type": "execute_result"
    }
   ],
   "source": [
    "num_rows - value_counts_sum"
   ]
  },
  {
   "cell_type": "markdown",
   "metadata": {
    "id": "kWM1tHIW-8xM"
   },
   "source": [
    "This tells us, to our horror, that there are **3,837** rows in our `DataFrame` which are completely unaccounted-for in the output produced by `value_counts()` 😰\n",
    "\n",
    "And the reason is, as it turns out, the `value_counts()` function **excludes missing values** by default, so that the above output actually tells us **absolutely nothing** about whether or not there are missing values in the column! Scary stuff.\n",
    "\n",
    "There is an easy fix, however: we can just include the `dropna = False` argument in our call to the `value_counts()` function, which will override this default behavior and show missing values as one of the possible values in the table of counts:"
   ]
  },
  {
   "cell_type": "code",
   "execution_count": 9,
   "metadata": {
    "ExecuteTime": {
     "end_time": "2023-09-30T08:57:30.759370Z",
     "start_time": "2023-09-30T08:57:30.752596Z"
    },
    "colab": {
     "base_uri": "https://localhost:8080/"
    },
    "id": "ObnmsW4YAgi2",
    "outputId": "81a9be2e-e68b-4fe9-d63b-974f28aa7f08"
   },
   "outputs": [
    {
     "data": {
      "text/plain": [
       "TGTCOUNTRY\n",
       "LAOS              690161\n",
       "NORTH VIETNAM     245977\n",
       "SOUTH VIETNAM      54253\n",
       "CAMBODIA           13271\n",
       "NaN                 3837\n",
       "THAILAND             146\n",
       "UNKNOWN               23\n",
       "WESTPAC WATERS         6\n",
       "Name: count, dtype: int64"
      ]
     },
     "execution_count": 9,
     "metadata": {},
     "output_type": "execute_result"
    }
   ],
   "source": [
    "strike_df['TGTCOUNTRY'].value_counts(dropna = False)"
   ]
  },
  {
   "cell_type": "markdown",
   "metadata": {
    "id": "e4KRq3_kAoZc"
   },
   "source": [
    "And now we see that, in fact, there are **thousands of strikes** for which no target country was recorded in the dataset: about **167 times more missing data** than we originally thought when we only saw that 23 of the rows had a `TGTCOUNTRY` value of `\"UNKNOWN\"`.\n",
    "\n",
    "So, what can we do about this? In later weeks of the course and/or in later weeks of DSAN5100 we'll learn about some more advanced methods for **inputing missing values**, for example by **explicitly modeling the data-generating process** that led some of the values to be missing. Until we know how to do that, however, for the sake of moving on with the EDA we will ignore these rows when we move onto other EDA tasks, **keeping in mind that this is NOT acceptable practice in general for data science, outside of tutorial examples like this!!**"
   ]
  },
  {
   "cell_type": "markdown",
   "metadata": {
    "id": "BqL2A_m-CAFK"
   },
   "source": [
    "Before we move to those tasks, however, let's quickly look at how we can visualize the **distribution of missing values** in this column (along with the other columns), using the third-party <a href='https://libraries.io/pypi/missingno' target='_blank'>`missingno` package</a> mentioned in the lab instructions!"
   ]
  },
  {
   "cell_type": "code",
   "execution_count": 10,
   "metadata": {
    "ExecuteTime": {
     "end_time": "2023-09-30T08:57:32.716065Z",
     "start_time": "2023-09-30T08:57:31.637272Z"
    },
    "colab": {
     "base_uri": "https://localhost:8080/"
    },
    "id": "Lq2KmV8qBnAJ",
    "outputId": "a5ce37da-9ad9-42d4-be8d-b33dbaff532c"
   },
   "outputs": [
    {
     "name": "stdout",
     "output_type": "stream",
     "text": [
      "Collecting missingno\n",
      "  Using cached missingno-0.5.2-py3-none-any.whl (8.7 kB)\n",
      "Requirement already satisfied: numpy in /Users/jpj/.pyenv/versions/3.11.5/lib/python3.11/site-packages (from missingno) (1.26.0)\n",
      "Requirement already satisfied: matplotlib in /Users/jpj/.pyenv/versions/3.11.5/lib/python3.11/site-packages (from missingno) (3.8.0)\n",
      "Requirement already satisfied: scipy in /Users/jpj/.pyenv/versions/3.11.5/lib/python3.11/site-packages (from missingno) (1.11.2)\n",
      "Requirement already satisfied: seaborn in /Users/jpj/.pyenv/versions/3.11.5/lib/python3.11/site-packages (from missingno) (0.12.2)\n",
      "Requirement already satisfied: contourpy>=1.0.1 in /Users/jpj/.pyenv/versions/3.11.5/lib/python3.11/site-packages (from matplotlib->missingno) (1.1.1)\n",
      "Requirement already satisfied: cycler>=0.10 in /Users/jpj/.pyenv/versions/3.11.5/lib/python3.11/site-packages (from matplotlib->missingno) (0.11.0)\n",
      "Requirement already satisfied: fonttools>=4.22.0 in /Users/jpj/.pyenv/versions/3.11.5/lib/python3.11/site-packages (from matplotlib->missingno) (4.42.1)\n",
      "Requirement already satisfied: kiwisolver>=1.0.1 in /Users/jpj/.pyenv/versions/3.11.5/lib/python3.11/site-packages (from matplotlib->missingno) (1.4.5)\n",
      "Requirement already satisfied: packaging>=20.0 in /Users/jpj/.pyenv/versions/3.11.5/lib/python3.11/site-packages (from matplotlib->missingno) (23.1)\n",
      "Requirement already satisfied: pillow>=6.2.0 in /Users/jpj/.pyenv/versions/3.11.5/lib/python3.11/site-packages (from matplotlib->missingno) (10.0.1)\n",
      "Requirement already satisfied: pyparsing>=2.3.1 in /Users/jpj/.pyenv/versions/3.11.5/lib/python3.11/site-packages (from matplotlib->missingno) (3.1.1)\n",
      "Requirement already satisfied: python-dateutil>=2.7 in /Users/jpj/.pyenv/versions/3.11.5/lib/python3.11/site-packages (from matplotlib->missingno) (2.8.2)\n",
      "Requirement already satisfied: pandas>=0.25 in /Users/jpj/.pyenv/versions/3.11.5/lib/python3.11/site-packages (from seaborn->missingno) (2.1.0)\n",
      "Requirement already satisfied: pytz>=2020.1 in /Users/jpj/.pyenv/versions/3.11.5/lib/python3.11/site-packages (from pandas>=0.25->seaborn->missingno) (2023.3.post1)\n",
      "Requirement already satisfied: tzdata>=2022.1 in /Users/jpj/.pyenv/versions/3.11.5/lib/python3.11/site-packages (from pandas>=0.25->seaborn->missingno) (2023.3)\n",
      "Requirement already satisfied: six>=1.5 in /Users/jpj/.pyenv/versions/3.11.5/lib/python3.11/site-packages (from python-dateutil>=2.7->matplotlib->missingno) (1.16.0)\n",
      "Installing collected packages: missingno\n",
      "Successfully installed missingno-0.5.2\n"
     ]
    }
   ],
   "source": [
    "!pip install missingno"
   ]
  },
  {
   "cell_type": "markdown",
   "metadata": {
    "id": "VeMPYfBYCku0"
   },
   "source": [
    "I don't want to give away the answer to this portion of the lab by producing a missing-data matrix directly, so instead I will use a different but still very helpful function from `missingno`, the `msno.bar()` function, to visualize missingness across the different variables in our `DataFrame`:"
   ]
  },
  {
   "cell_type": "code",
   "execution_count": 11,
   "metadata": {
    "ExecuteTime": {
     "end_time": "2023-09-30T08:57:32.895365Z",
     "start_time": "2023-09-30T08:57:32.894153Z"
    },
    "id": "1Vl4H9KUCdQp"
   },
   "outputs": [],
   "source": [
    "import missingno as msno"
   ]
  },
  {
   "cell_type": "code",
   "execution_count": 12,
   "metadata": {
    "ExecuteTime": {
     "end_time": "2023-09-30T08:57:33.719853Z",
     "start_time": "2023-09-30T08:57:33.065689Z"
    },
    "colab": {
     "base_uri": "https://localhost:8080/",
     "height": 618
    },
    "id": "fnoMI5KkC5kF",
    "outputId": "04709186-00b2-4984-ef7f-ea9e4c767d9d"
   },
   "outputs": [
    {
     "data": {
      "text/plain": [
       "<Axes: >"
      ]
     },
     "execution_count": 12,
     "metadata": {},
     "output_type": "execute_result"
    },
    {
     "data": {
      "image/png": "[encoded data removed]",
      "text/plain": [
       "<Figure size 2500x1000 with 3 Axes>"
      ]
     },
     "metadata": {},
     "output_type": "display_data"
    }
   ],
   "source": [
    "msno.bar(strike_df)"
   ]
  },
  {
   "cell_type": "markdown",
   "metadata": {
    "id": "OCkBcw3gDBJr"
   },
   "source": [
    "Although we see in hindsight that the visual properties of this plot would not have been that useful in discovering the missing values in `TGTCOUNTRY` (I say \"visual properties\" because it still helpfully provides the non-missing **counts** at the top of each bar, which could have allowed us to see this issue), the plot is **very useful** for discovering the missingness prevalent in the `TGTTYPE` variable. So, just like in the case of `TGTCOUNTRY`, we will move on while **keeping in mind that this variable has an even more extreme issue with missingness** that will bias our results (until we learn how to explicitly incorporate and de-bias the missingness!)"
   ]
  },
  {
   "cell_type": "markdown",
   "metadata": {
    "id": "h6yGcwoKDtBd"
   },
   "source": [
    "## (4) Different Formats Within The Same Column"
   ]
  },
  {
   "cell_type": "markdown",
   "metadata": {
    "id": "M752JiGPEp2-"
   },
   "source": [
    "### (4.1) The Ambiguous `object` Type"
   ]
  },
  {
   "cell_type": "markdown",
   "metadata": {
    "id": "vK-kiIFU6EV5"
   },
   "source": [
    "As our next EDA task, let's look into that **(!)** in the table above: while the rest of the variables are in fairly unambiguous formats, `object` is a particularly scary datatype in Pandas, since \"object\" in fact just means that **the datatype of a given value in this column could be anything**. If you know Java, for example, you know that `Object` is the datatype that all other datatypes are **subtypes** of. Similarly, in Python, every class implicitly **inherits** the properties of <a href='https://docs.python.org/3/library/functions.html#object' target=\"_blank\">the `object` class</a>.\n",
    "\n",
    "Looking at the output of `head()` from above, however, you may reasonably think that the entries in this column will all be of `string` type. And this instinct would be further enforced by **checking the datatypes** of the first five entries in the column:"
   ]
  },
  {
   "cell_type": "code",
   "execution_count": 13,
   "metadata": {
    "ExecuteTime": {
     "end_time": "2023-09-30T08:57:35.421402Z",
     "start_time": "2023-09-30T08:57:35.399600Z"
    },
    "colab": {
     "base_uri": "https://localhost:8080/"
    },
    "id": "_xGqu1Szv8NP",
    "outputId": "6307b633-cb15-467d-d264-bb58e014c697"
   },
   "outputs": [
    {
     "data": {
      "text/plain": [
       "0    <class 'str'>\n",
       "1    <class 'str'>\n",
       "2    <class 'str'>\n",
       "3    <class 'str'>\n",
       "4    <class 'str'>\n",
       "Name: MSNDATE, dtype: object"
      ]
     },
     "execution_count": 13,
     "metadata": {},
     "output_type": "execute_result"
    }
   ],
   "source": [
    "strike_df['MSNDATE'].head().apply(type)"
   ]
  },
  {
   "cell_type": "markdown",
   "metadata": {
    "id": "3I8r2lLT7rPU"
   },
   "source": [
    "Therefore, you might start moving ahead, working with this column as if it is a string column. **You should push back on this instinct!!** It will save you so many headaches later on, when you are neck-deep in the data analysis, if you **verify what's going on with any columns that Pandas loaded as `object` type** right at the beginning!\n",
    "\n",
    "For example, rather than drawing inferences about the **entire dataset** from only the **first five columns** (a procedure jokingly referred to as <a href='https://geoffreywu.me/blog/engineers-induction/' target='_blank'>\"engineer's induction\"</a>), we can do something a bit less error-prone by making a **new column** `MSNDATE_type` which just tells us the type of each value in the `MSNDATE` column, then checking whether or not every entry in `MSNDATE_type` is `string`. If it is, then we're fine adopting the it's-a-string-variable assumption and moving on. But if it's not, we'll have to do something to handle the mismatch. Let's see what happens. We'll make the column, then we'll use the `value_counts()` function from Pandas to see the distribution of datatypes in the column (where now we remember that we pretty much always want to include the `dropna = False` parameter):"
   ]
  },
  {
   "cell_type": "code",
   "execution_count": 14,
   "metadata": {
    "ExecuteTime": {
     "end_time": "2023-09-30T08:57:36.519787Z",
     "start_time": "2023-09-30T08:57:36.488456Z"
    },
    "id": "-opLAEcP7W4p"
   },
   "outputs": [],
   "source": [
    "strike_df['MSNDATE_type'] = strike_df['MSNDATE'].apply(type)"
   ]
  },
  {
   "cell_type": "code",
   "execution_count": 15,
   "metadata": {
    "ExecuteTime": {
     "end_time": "2023-09-30T08:57:36.701663Z",
     "start_time": "2023-09-30T08:57:36.697681Z"
    },
    "colab": {
     "base_uri": "https://localhost:8080/"
    },
    "id": "vrwe5TIv9KNS",
    "outputId": "9d328c7a-fae3-4cd3-901d-ccd1485e2359"
   },
   "outputs": [
    {
     "data": {
      "text/plain": [
       "MSNDATE_type\n",
       "<class 'str'>    1007674\n",
       "Name: count, dtype: int64"
      ]
     },
     "execution_count": 15,
     "metadata": {},
     "output_type": "execute_result"
    }
   ],
   "source": [
    "strike_df['MSNDATE_type'].value_counts(dropna=False)"
   ]
  },
  {
   "cell_type": "markdown",
   "metadata": {
    "id": "3oyQknCyEVb2"
   },
   "source": [
    "So far so good: Pandas loaded the column as type `object`, which **often means** but **does not always mean** that the column is filled with `string` variables. There is still one more issue with this column, however, looming on the horizon..."
   ]
  },
  {
   "cell_type": "markdown",
   "metadata": {
    "id": "Mom7xx3iEttb"
   },
   "source": [
    "### (4.2) Splitting The Column Into Parts"
   ]
  },
  {
   "cell_type": "markdown",
   "metadata": {
    "id": "sqA8rICKE56Q"
   },
   "source": [
    "Since in general we want to analyze the **yearly volume** of strikes in each country, the format of the values in the `MSNDATE` column is not that helpful to us at the moment. So, again we might proceed by intuition, using **engineer's induction** on the first five rows of the `DataFrame` to infer that we can just **split on the `-` character** to quickly divide this single column into three separate columns: one for year, one for month, and one for day.\n",
    "\n",
    "Let's see what happens when we try this out.\n"
   ]
  },
  {
   "cell_type": "markdown",
   "metadata": {
    "id": "3hYmMWUXWeCZ"
   },
   "source": [
    "**Writing the Parse Function**\n",
    "\n",
    "In Python, unlike the nice `separate_wider_*()` functions in R that I talked about in <a href='https://jjacobs.me/dsan5000/463a01339cf0f456ba54a1849df50d1a22c247e3/writeups/tidyverse-split-column/' target='_blank'>this writeup</a>, I personally haven't found all that many helpful functions specially-made for splitting a string up into pieces.\n",
    "\n",
    "So, what I **usually** do in this type of situation (but see a few sections below) is utilize the following setup: as a nice \"trick\" for generating multiple columns from one individual column, Pandas allows you to write functions which return `pd.Series` objects (these `Series` objects are sort of like one-dimensional `DataFrame`s), and then use this function to set the values of **multiple columns** in one \"sweep\" using syntax like:\n",
    "\n",
    "```python\n",
    "def function_returning_series_object(value):\n",
    "  \"\"\"\n",
    "  A function that will take in a single value from a column and\n",
    "  return a pd.Series object, where the **keys** in the pd.Series\n",
    "  correspond to the **names of the columns** you're hoping to create\n",
    "  \"\"\"\n",
    "  // Do something with `value` to generate these results\n",
    "  resulting_x_value = 'first result'\n",
    "  resulting_y_value = 'second result'\n",
    "  resulting_z_value = 'third result'\n",
    "  series_values = {\n",
    "    'x' = resulting_x_value,\n",
    "    'y' = resulting_y_value,\n",
    "    'z' = resulting_z_value\n",
    "  }\n",
    "  return pd.Series(series_values)\n",
    "\n",
    "// Specify the names of the columns you're about to create\n",
    "columns_to_create = ['x','y','z']\n",
    "// And use the apply() function to \"send\" the values of some existing column\n",
    "// to the function_returning_series_object() function defined above\n",
    "df[columns_to_create] = df['some_existing_column'].apply(function_returning_series_object)\n",
    "```\n"
   ]
  },
  {
   "cell_type": "markdown",
   "metadata": {
    "id": "jqkuimGHHuyn"
   },
   "source": [
    "In our case, so you can see this in action, let's define a function that will take in the values of the `MSNDATE` column (which we expect to have the format `YY-MM-DD`, split these values on the `-` character, and return the three resulting pieces in `pd.Series` form with the keys `year`, `month`, and `day`."
   ]
  },
  {
   "cell_type": "code",
   "execution_count": 16,
   "metadata": {
    "ExecuteTime": {
     "end_time": "2023-09-30T08:57:37.911063Z",
     "start_time": "2023-09-30T08:57:37.892067Z"
    },
    "id": "P78o00aV9qm8"
   },
   "outputs": [],
   "source": [
    "def split_date(date_val):\n",
    "  date_elts = date_val.split(\"-\")\n",
    "  date_values = {\n",
    "      'year': date_elts[0],\n",
    "      'month': date_elts[1],\n",
    "      'day': date_elts[2]\n",
    "  }\n",
    "  return pd.Series(date_values)\n"
   ]
  },
  {
   "cell_type": "markdown",
   "metadata": {
    "id": "Sh50AtY9PBIq"
   },
   "source": [
    "::: {.callout-note title=\"The `tqdm` Library\"}\n",
    "\n",
    "**Quick Note: `tqdm`**\n",
    "\n",
    "When we use the `apply()` function from Pandas to apply our `split_date()` function to each value of the `MSNDATE` column, it will take kind of a long time to iterate through and parse each date. For this reason, I'm including example code here showing how to import and use the third-party Python library `tqdm` to create a new `progress_apply()` function. If the waiting feels tedious on your machine, for example, you can call `progress_apply()` in the place of `apply()`, which will display a **progress bar** showing far along it is. In Colab this will work right away, since `tqdm` comes pre-installed. Depending on your environment it may crash though, since some versions of `tqdm` are incompatible with some versions of `pandas`, so to be safe I'm sticking with the regular `.apply()` function \n",
    "\n",
    ":::"
   ]
  },
  {
   "cell_type": "code",
   "execution_count": 29,
   "metadata": {
    "ExecuteTime": {
     "end_time": "2023-09-30T08:57:38.315327Z",
     "start_time": "2023-09-30T08:57:38.288744Z"
    },
    "id": "6v0pQhSkTHVA"
   },
   "outputs": [],
   "source": [
    "from tqdm.notebook import tqdm\n",
    "tqdm.pandas()"
   ]
  },
  {
   "cell_type": "markdown",
   "metadata": {
    "id": "uL2CVb2VPTk2"
   },
   "source": [
    "**Back to EDA**\n",
    "\n",
    "The running time of the `progress_apply()` call will be bad enough, but as we'll see, it gets even worse: right near the end, about 63% of the way through, the code will **crash** with an error! (You can uncomment the following code, run it, and wait a bit to see the error if you'd like, or just jump past the following cell)"
   ]
  },
  {
   "cell_type": "code",
   "execution_count": 30,
   "metadata": {
    "ExecuteTime": {
     "end_time": "2023-09-30T08:57:39.221503Z",
     "start_time": "2023-09-30T08:57:39.191943Z"
    },
    "id": "1-XimOEQO9rj"
   },
   "outputs": [],
   "source": [
    "## And apply it to MSNDATE\n",
    "#columns_to_create = ['year','month','day']\n",
    "#strike_df[columns_to_create] = strike_df['MSNDATE'].progress_apply(split_date)"
   ]
  },
  {
   "cell_type": "markdown",
   "metadata": {
    "id": "wFiSE2-2IzJy"
   },
   "source": [
    "The error looks like:\n",
    "\n",
    "```python\n",
    "<ipython-input-35-ec79f5e7def4> in split_date(date_val)\n",
    "      3   date_values = {\n",
    "      4       'year': date_elts[0],\n",
    "----> 5       'month': date_elts[1],\n",
    "      6       'day': date_elts[2]\n",
    "      7   }\n",
    "\n",
    "IndexError: list index out of range\n",
    "```\n",
    "\n",
    "So what happened?\n",
    "\n",
    "Long story short, **engineer's induction failed us again**. It turns out that some entries within the `MSNDATE` column contain dates in a **different format** from the format we saw in the first 5 rows of the dataset. But how did I magically figure this out?\n",
    "\n",
    "Let's start by carrying out Engineer's Induction 2.0 (TM), by looking at the **tail** of `strike_df` rather than the head. Sometimes, if the column has one format at the beginning, but another near the end, this will show us the alternative format:"
   ]
  },
  {
   "cell_type": "code",
   "execution_count": 31,
   "metadata": {
    "ExecuteTime": {
     "end_time": "2023-09-30T08:57:40.302946Z",
     "start_time": "2023-09-30T08:57:40.279992Z"
    },
    "colab": {
     "base_uri": "https://localhost:8080/",
     "height": 244
    },
    "id": "Z-tbzCsvIqy4",
    "outputId": "a422f9e7-919d-4eb2-d6f0-6f8b913a62f3"
   },
   "outputs": [
    {
     "data": {
      "text/html": [
       "<div>\n",
       "<style scoped>\n",
       "    .dataframe tbody tr th:only-of-type {\n",
       "        vertical-align: middle;\n",
       "    }\n",
       "\n",
       "    .dataframe tbody tr th {\n",
       "        vertical-align: top;\n",
       "    }\n",
       "\n",
       "    .dataframe thead th {\n",
       "        text-align: right;\n",
       "    }\n",
       "</style>\n",
       "<table border=\"1\" class=\"dataframe\">\n",
       "  <thead>\n",
       "    <tr style=\"text-align: right;\">\n",
       "      <th></th>\n",
       "      <th>MFUNC_DESC</th>\n",
       "      <th>MISSIONID</th>\n",
       "      <th>TGTCOUNTRY</th>\n",
       "      <th>THOR_DATA_VIET_ID</th>\n",
       "      <th>MSNDATE</th>\n",
       "      <th>SOURCEID</th>\n",
       "      <th>NUMWEAPONSDELIVERED</th>\n",
       "      <th>TGTTYPE</th>\n",
       "      <th>TGTLATDD_DDD_WGS84</th>\n",
       "      <th>TGTLONDDD_DDD_WGS84</th>\n",
       "      <th>MSNDATE_type</th>\n",
       "      <th>MSNDATE_dashcount</th>\n",
       "      <th>MSNDATE_len</th>\n",
       "    </tr>\n",
       "  </thead>\n",
       "  <tbody>\n",
       "    <tr>\n",
       "      <th>1007669</th>\n",
       "      <td>STRIKE</td>\n",
       "      <td>1405</td>\n",
       "      <td>LAOS</td>\n",
       "      <td>4559448</td>\n",
       "      <td>1973-01-01</td>\n",
       "      <td>58102</td>\n",
       "      <td>0</td>\n",
       "      <td>PERSONNEL\\ANY</td>\n",
       "      <td>15.191111</td>\n",
       "      <td>106.206666</td>\n",
       "      <td>&lt;class 'str'&gt;</td>\n",
       "      <td>2</td>\n",
       "      <td>10</td>\n",
       "    </tr>\n",
       "    <tr>\n",
       "      <th>1007670</th>\n",
       "      <td>STRIKE</td>\n",
       "      <td>8719</td>\n",
       "      <td>LAOS</td>\n",
       "      <td>4560531</td>\n",
       "      <td>1972-05-08</td>\n",
       "      <td>68563</td>\n",
       "      <td>0</td>\n",
       "      <td>NaN</td>\n",
       "      <td>16.758055</td>\n",
       "      <td>106.461944</td>\n",
       "      <td>&lt;class 'str'&gt;</td>\n",
       "      <td>2</td>\n",
       "      <td>10</td>\n",
       "    </tr>\n",
       "    <tr>\n",
       "      <th>1007671</th>\n",
       "      <td>STRIKE</td>\n",
       "      <td>9526</td>\n",
       "      <td>SOUTH VIETNAM</td>\n",
       "      <td>4561255</td>\n",
       "      <td>1972-07-10</td>\n",
       "      <td>69287</td>\n",
       "      <td>0</td>\n",
       "      <td>NaN</td>\n",
       "      <td>16.684166</td>\n",
       "      <td>107.053888</td>\n",
       "      <td>&lt;class 'str'&gt;</td>\n",
       "      <td>2</td>\n",
       "      <td>10</td>\n",
       "    </tr>\n",
       "    <tr>\n",
       "      <th>1007672</th>\n",
       "      <td>STRIKE</td>\n",
       "      <td>0692</td>\n",
       "      <td>LAOS</td>\n",
       "      <td>4650354</td>\n",
       "      <td>1970-11-28</td>\n",
       "      <td>527864</td>\n",
       "      <td>0</td>\n",
       "      <td>TRUCKS</td>\n",
       "      <td>17.286388</td>\n",
       "      <td>105.609722</td>\n",
       "      <td>&lt;class 'str'&gt;</td>\n",
       "      <td>2</td>\n",
       "      <td>10</td>\n",
       "    </tr>\n",
       "    <tr>\n",
       "      <th>1007673</th>\n",
       "      <td>STRIKE</td>\n",
       "      <td>7232</td>\n",
       "      <td>LAOS</td>\n",
       "      <td>4651825</td>\n",
       "      <td>1971-10-19</td>\n",
       "      <td>541658</td>\n",
       "      <td>4</td>\n",
       "      <td>NaN</td>\n",
       "      <td>15.292777</td>\n",
       "      <td>107.137500</td>\n",
       "      <td>&lt;class 'str'&gt;</td>\n",
       "      <td>2</td>\n",
       "      <td>10</td>\n",
       "    </tr>\n",
       "  </tbody>\n",
       "</table>\n",
       "</div>"
      ],
      "text/plain": [
       "        MFUNC_DESC MISSIONID     TGTCOUNTRY  THOR_DATA_VIET_ID     MSNDATE  \\\n",
       "1007669     STRIKE      1405           LAOS            4559448  1973-01-01   \n",
       "1007670     STRIKE      8719           LAOS            4560531  1972-05-08   \n",
       "1007671     STRIKE      9526  SOUTH VIETNAM            4561255  1972-07-10   \n",
       "1007672     STRIKE      0692           LAOS            4650354  1970-11-28   \n",
       "1007673     STRIKE      7232           LAOS            4651825  1971-10-19   \n",
       "\n",
       "         SOURCEID  NUMWEAPONSDELIVERED        TGTTYPE  TGTLATDD_DDD_WGS84  \\\n",
       "1007669     58102                    0  PERSONNEL\\ANY           15.191111   \n",
       "1007670     68563                    0            NaN           16.758055   \n",
       "1007671     69287                    0            NaN           16.684166   \n",
       "1007672    527864                    0         TRUCKS           17.286388   \n",
       "1007673    541658                    4            NaN           15.292777   \n",
       "\n",
       "         TGTLONDDD_DDD_WGS84   MSNDATE_type  MSNDATE_dashcount  MSNDATE_len  \n",
       "1007669           106.206666  <class 'str'>                  2           10  \n",
       "1007670           106.461944  <class 'str'>                  2           10  \n",
       "1007671           107.053888  <class 'str'>                  2           10  \n",
       "1007672           105.609722  <class 'str'>                  2           10  \n",
       "1007673           107.137500  <class 'str'>                  2           10  "
      ]
     },
     "execution_count": 31,
     "metadata": {},
     "output_type": "execute_result"
    }
   ],
   "source": [
    "strike_df.tail()"
   ]
  },
  {
   "cell_type": "markdown",
   "metadata": {
    "id": "k8GrupxiKTrD"
   },
   "source": [
    "We're not so lucky this time. The **last 5 values** of the `MSNDATE` column look like they're formatted the same way as the first 5 values are.\n",
    "\n",
    "So, next let's do something a bit smarter, and just check **how many `-` characters** each entry has---we can code this check in a very similar way to how we coded the check above when we looked at the `type` of each entry in the column.\n",
    "\n",
    "In fact, here we don't even need to come up with our own function and use `apply()` or anything like that, since Pandas has built-in functionality allowing us to access (by using the `.str` suffix after extracting just the `string`-format column) any of Python's built-in functions for `string`s, like `len()` or `replace()`, at which point Pandas will then automatically apply our chosen to each value in the column.\n",
    "\n",
    "So, let's use this `.str` suffix to apply the built-in `count()` function (that Python provides for all `string` objects) to each value of `MSNDATE`, counting the number of times that `-` appears in each value, then look at the **distribution** of these counts across the entire column:"
   ]
  },
  {
   "cell_type": "code",
   "execution_count": 32,
   "metadata": {
    "ExecuteTime": {
     "end_time": "2023-09-30T08:57:41.167625Z",
     "start_time": "2023-09-30T08:57:40.983487Z"
    },
    "id": "YZdi0UJKJpOT"
   },
   "outputs": [],
   "source": [
    "strike_df['MSNDATE_dashcount'] = strike_df['MSNDATE'].str.count(\"-\")"
   ]
  },
  {
   "cell_type": "code",
   "execution_count": 33,
   "metadata": {
    "ExecuteTime": {
     "end_time": "2023-09-30T08:57:41.518252Z",
     "start_time": "2023-09-30T08:57:41.499410Z"
    },
    "colab": {
     "base_uri": "https://localhost:8080/"
    },
    "id": "RgMJty5zK872",
    "outputId": "0db153df-876c-43be-8d7e-ba5a39511e1f"
   },
   "outputs": [
    {
     "data": {
      "text/plain": [
       "MSNDATE_dashcount\n",
       "2    993524\n",
       "0     14150\n",
       "Name: count, dtype: int64"
      ]
     },
     "execution_count": 33,
     "metadata": {},
     "output_type": "execute_result"
    }
   ],
   "source": [
    "strike_df['MSNDATE_dashcount'].value_counts()"
   ]
  },
  {
   "cell_type": "markdown",
   "metadata": {
    "id": "AJK6nNdgL7WZ"
   },
   "source": [
    "And we've found our issue: 14,150 of the rows do **not** use a `YYYY-MM-DD` format! Since we now have this `MSNDATE_dashcount` column available to use, let's filter the full `DataFrame` to look at just (the first few) rows where it is equal to `0`, i.e., rows where the `MSNDATE` column does **not** contain any dashes:"
   ]
  },
  {
   "cell_type": "code",
   "execution_count": 34,
   "metadata": {
    "ExecuteTime": {
     "end_time": "2023-09-30T08:57:42.317175Z",
     "start_time": "2023-09-30T08:57:42.304287Z"
    },
    "colab": {
     "base_uri": "https://localhost:8080/",
     "height": 296
    },
    "id": "7EBPMNyML6fM",
    "outputId": "d204aca4-2e2d-4d5b-97bf-4c634670abc4"
   },
   "outputs": [
    {
     "data": {
      "text/html": [
       "<div>\n",
       "<style scoped>\n",
       "    .dataframe tbody tr th:only-of-type {\n",
       "        vertical-align: middle;\n",
       "    }\n",
       "\n",
       "    .dataframe tbody tr th {\n",
       "        vertical-align: top;\n",
       "    }\n",
       "\n",
       "    .dataframe thead th {\n",
       "        text-align: right;\n",
       "    }\n",
       "</style>\n",
       "<table border=\"1\" class=\"dataframe\">\n",
       "  <thead>\n",
       "    <tr style=\"text-align: right;\">\n",
       "      <th></th>\n",
       "      <th>MFUNC_DESC</th>\n",
       "      <th>MISSIONID</th>\n",
       "      <th>TGTCOUNTRY</th>\n",
       "      <th>THOR_DATA_VIET_ID</th>\n",
       "      <th>MSNDATE</th>\n",
       "      <th>SOURCEID</th>\n",
       "      <th>NUMWEAPONSDELIVERED</th>\n",
       "      <th>TGTTYPE</th>\n",
       "      <th>TGTLATDD_DDD_WGS84</th>\n",
       "      <th>TGTLONDDD_DDD_WGS84</th>\n",
       "      <th>MSNDATE_type</th>\n",
       "      <th>MSNDATE_dashcount</th>\n",
       "      <th>MSNDATE_len</th>\n",
       "    </tr>\n",
       "  </thead>\n",
       "  <tbody>\n",
       "    <tr>\n",
       "      <th>639026</th>\n",
       "      <td>STRIKE</td>\n",
       "      <td>JH301</td>\n",
       "      <td>SOUTH VIETNAM</td>\n",
       "      <td>2876015</td>\n",
       "      <td>19700409</td>\n",
       "      <td>258195</td>\n",
       "      <td>12</td>\n",
       "      <td>AREA\\DEPOT</td>\n",
       "      <td>14.825953</td>\n",
       "      <td>107.716270</td>\n",
       "      <td>&lt;class 'str'&gt;</td>\n",
       "      <td>0</td>\n",
       "      <td>8</td>\n",
       "    </tr>\n",
       "    <tr>\n",
       "      <th>639027</th>\n",
       "      <td>STRIKE</td>\n",
       "      <td>JH309</td>\n",
       "      <td>SOUTH VIETNAM</td>\n",
       "      <td>2876638</td>\n",
       "      <td>19700216</td>\n",
       "      <td>262548</td>\n",
       "      <td>24</td>\n",
       "      <td>AREA\\DEPOT</td>\n",
       "      <td>14.510215</td>\n",
       "      <td>108.768815</td>\n",
       "      <td>&lt;class 'str'&gt;</td>\n",
       "      <td>0</td>\n",
       "      <td>8</td>\n",
       "    </tr>\n",
       "    <tr>\n",
       "      <th>639028</th>\n",
       "      <td>STRIKE</td>\n",
       "      <td>01305</td>\n",
       "      <td>SOUTH VIETNAM</td>\n",
       "      <td>2876852</td>\n",
       "      <td>19651029</td>\n",
       "      <td>221263</td>\n",
       "      <td>0</td>\n",
       "      <td>UNKNOWN\\UNIDENTIFIED</td>\n",
       "      <td>10.186505</td>\n",
       "      <td>106.229604</td>\n",
       "      <td>&lt;class 'str'&gt;</td>\n",
       "      <td>0</td>\n",
       "      <td>8</td>\n",
       "    </tr>\n",
       "    <tr>\n",
       "      <th>639029</th>\n",
       "      <td>STRIKE</td>\n",
       "      <td>JG402</td>\n",
       "      <td>SOUTH VIETNAM</td>\n",
       "      <td>2877103</td>\n",
       "      <td>19701114</td>\n",
       "      <td>219532</td>\n",
       "      <td>24</td>\n",
       "      <td>AREA\\DEPOT</td>\n",
       "      <td>16.331801</td>\n",
       "      <td>107.012509</td>\n",
       "      <td>&lt;class 'str'&gt;</td>\n",
       "      <td>0</td>\n",
       "      <td>8</td>\n",
       "    </tr>\n",
       "    <tr>\n",
       "      <th>639030</th>\n",
       "      <td>STRIKE</td>\n",
       "      <td>J8012</td>\n",
       "      <td>LAOS</td>\n",
       "      <td>2877181</td>\n",
       "      <td>19700721</td>\n",
       "      <td>219801</td>\n",
       "      <td>48</td>\n",
       "      <td>TRUCK PARK\\STOP</td>\n",
       "      <td>16.286964</td>\n",
       "      <td>106.922250</td>\n",
       "      <td>&lt;class 'str'&gt;</td>\n",
       "      <td>0</td>\n",
       "      <td>8</td>\n",
       "    </tr>\n",
       "  </tbody>\n",
       "</table>\n",
       "</div>"
      ],
      "text/plain": [
       "       MFUNC_DESC MISSIONID     TGTCOUNTRY  THOR_DATA_VIET_ID   MSNDATE  \\\n",
       "639026     STRIKE     JH301  SOUTH VIETNAM            2876015  19700409   \n",
       "639027     STRIKE     JH309  SOUTH VIETNAM            2876638  19700216   \n",
       "639028     STRIKE     01305  SOUTH VIETNAM            2876852  19651029   \n",
       "639029     STRIKE     JG402  SOUTH VIETNAM            2877103  19701114   \n",
       "639030     STRIKE     J8012           LAOS            2877181  19700721   \n",
       "\n",
       "        SOURCEID  NUMWEAPONSDELIVERED               TGTTYPE  \\\n",
       "639026    258195                   12            AREA\\DEPOT   \n",
       "639027    262548                   24            AREA\\DEPOT   \n",
       "639028    221263                    0  UNKNOWN\\UNIDENTIFIED   \n",
       "639029    219532                   24            AREA\\DEPOT   \n",
       "639030    219801                   48       TRUCK PARK\\STOP   \n",
       "\n",
       "        TGTLATDD_DDD_WGS84  TGTLONDDD_DDD_WGS84   MSNDATE_type  \\\n",
       "639026           14.825953           107.716270  <class 'str'>   \n",
       "639027           14.510215           108.768815  <class 'str'>   \n",
       "639028           10.186505           106.229604  <class 'str'>   \n",
       "639029           16.331801           107.012509  <class 'str'>   \n",
       "639030           16.286964           106.922250  <class 'str'>   \n",
       "\n",
       "        MSNDATE_dashcount  MSNDATE_len  \n",
       "639026                  0            8  \n",
       "639027                  0            8  \n",
       "639028                  0            8  \n",
       "639029                  0            8  \n",
       "639030                  0            8  "
      ]
     },
     "execution_count": 34,
     "metadata": {},
     "output_type": "execute_result"
    }
   ],
   "source": [
    "strike_df.loc[strike_df['MSNDATE_dashcount'] == 0,].head()"
   ]
  },
  {
   "cell_type": "markdown",
   "metadata": {
    "id": "hpA9n1mwMWcN"
   },
   "source": [
    "And we see that, to our relief, the issue isn't so bad: if engineer's induction **does** hold for this situation, then (hopefully) we can split those 14,150 rows **without** any dashes by just taking the `MSNDATE` values in these rows and directly extracting the first 4 characters as the `year`, the next 2 characters as the `month` and the final 2 characters as the `day`. As an additional sanity check here, since we are using engineer's induction, we can check the full range of possible **lengths** of the `MSNDATE` values:"
   ]
  },
  {
   "cell_type": "code",
   "execution_count": 35,
   "metadata": {
    "ExecuteTime": {
     "end_time": "2023-09-30T08:57:43.064721Z",
     "start_time": "2023-09-30T08:57:42.964374Z"
    },
    "colab": {
     "base_uri": "https://localhost:8080/"
    },
    "id": "oPHVJz2KMVWA",
    "outputId": "74920a36-b450-4b00-cc3c-f593ef2aedfd"
   },
   "outputs": [
    {
     "data": {
      "text/plain": [
       "MSNDATE_len\n",
       "10    993524\n",
       "8      14150\n",
       "Name: count, dtype: int64"
      ]
     },
     "execution_count": 35,
     "metadata": {},
     "output_type": "execute_result"
    }
   ],
   "source": [
    "strike_df['MSNDATE_len'] = strike_df['MSNDATE'].str.len()\n",
    "strike_df['MSNDATE_len'].value_counts()"
   ]
  },
  {
   "cell_type": "markdown",
   "metadata": {
    "id": "zh9r_EPvNExP"
   },
   "source": [
    "And we see another encouraging sign: that there is not (for example) some third length that the values of this column can have, that we'd need to worry about on top of the two different formats we've found\n",
    "\n",
    "*(There still **could** be more than two formats, if the additional formats happened to produce date strings with length 8 or 10, but we'll worry about that if we experience more issues with splitting `MSNDATE` under the assumption of two formats)*"
   ]
  },
  {
   "cell_type": "markdown",
   "metadata": {
    "id": "YYfrxUamXemP"
   },
   "source": [
    "**Re-Coding the Date Parsing Function: v2.1**\n",
    "\n",
    "So let's make an updated version of our `split_date()` function, which explicitly checks whether the date it is given is encoded in the 8-character or 10-character format, and does the splitting accordingly:"
   ]
  },
  {
   "cell_type": "code",
   "execution_count": 36,
   "metadata": {
    "ExecuteTime": {
     "end_time": "2023-09-30T08:57:43.883980Z",
     "start_time": "2023-09-30T08:57:43.849627Z"
    },
    "id": "33Zdz_0pNDWd"
   },
   "outputs": [],
   "source": [
    "def split_date_v2_1(date_val):\n",
    "  if len(date_val) == 10:\n",
    "    # Do what we did before, using .split()\n",
    "    date_elts = date_val.split(\"-\")\n",
    "    date_values = {\n",
    "      'year': date_elts[0],\n",
    "      'month': date_elts[1],\n",
    "      'day': date_elts[2]\n",
    "    }\n",
    "  else:\n",
    "    # Assume it is in YYYYMMDD format, so that we can\n",
    "    # just extract substrings to obtain Y, M, and D\n",
    "    date_values = {\n",
    "        'year': date_val[0:4],\n",
    "        'month': date_val[4:6],\n",
    "        'day': date_val[6:8]\n",
    "    }\n",
    "  return pd.Series(date_values)\n"
   ]
  },
  {
   "cell_type": "markdown",
   "metadata": {
    "id": "J-xRrwR0Xmhv"
   },
   "source": [
    "And now we **could** run this using the same `.apply()` code as before, to see if it successfully parses the column. In the first version of the writeup I did run it, but it took about ~5 minutes, which is too long for a reasonable quick-learning writeup, imo! (You could just go ahead and create a cell containing the following code, and run it, if you are ok waiting for 5mins:)\n",
    "\n",
    "```python\n",
    "columns_to_create = ['year','month','day']\n",
    "strike_df[columns_to_create] = strike_df['MSNDATE'].progress_apply(split_date_v2)\n",
    "```\n",
    "\n",
    "For me, though, 5 minutes is too slow, so here is a screenshot of the output after this call to `progress_apply()` has finished:\n",
    "\n",
    "![](images/pandas_progress.jpg)"
   ]
  },
  {
   "cell_type": "markdown",
   "metadata": {
    "id": "14qvSxzMOYQS"
   },
   "source": [
    "::: {.callout-note title=\"The `swifter` Library\"}\n",
    "\n",
    "**Another Quick Note: `swifter`**\n",
    "\n",
    "*Like last time, this may take a while to complete: cases like these are where I highly recommend using `tqdm`, at a minimum!*\n",
    "\n",
    "*There is also the third-party library <a href='https://github.com/jmcarpenter2/swifter' target='_blank'>`swifter`</a>, which would be nice for the kinds of <a href='https://en.wikipedia.org/wiki/Embarrassingly_parallel' target='_blank'>embarrasingly parallel</a> tasks we're applying to the column here, except that (as far as I can tell) `swifter` is only able to provide speedups for **numeric** operations :/ I thought I'd mention it here, however, since if you are doing some **numeric** operation that's taking this long, you might try seeing if `swifter` will speed up your code!*\n",
    "\n",
    ":::\n"
   ]
  },
  {
   "cell_type": "markdown",
   "metadata": {
    "id": "7Fbl5fTgYwUw"
   },
   "source": [
    "And as an example of the vast differences that can arise between efficient and inefficient versions of processing code, even in EDA: since I really only need to extract the **year** (rather than the three elements of each date) for the remaining analysis, for speed I used the following `lambda` function instead, which just scoops out the **first 4 characters** of the `MSNDATE` value (which works because, in either format, the first 4 characters of the string contain the year), and it took approximately 1 second to finish:"
   ]
  },
  {
   "cell_type": "code",
   "execution_count": 40,
   "metadata": {},
   "outputs": [],
   "source": [
    "# Depending on your Jupyter environment, you may need to install/update the\n",
    "# `ipywidgets` library for `tqdm` to work correctly\n",
    "#!pip install ipywidgets"
   ]
  },
  {
   "cell_type": "code",
   "execution_count": 41,
   "metadata": {
    "ExecuteTime": {
     "end_time": "2023-09-30T08:57:46.115212Z",
     "start_time": "2023-09-30T08:57:45.710618Z"
    },
    "colab": {
     "base_uri": "https://localhost:8080/",
     "height": 49,
     "referenced_widgets": [
      "6cf09f5b34f44801bd5424153c1754a7",
      "8416f3f8a3bf417fa425c705010889d9",
      "edc09478f110419c811c8e5519c8914a",
      "0344bc5100d448268b5deac9247fdd40",
      "9e00e0a4b7c743cc921f1aa0a1ea377c",
      "e7b5f86a1d194967b98795fd0a3cd32a",
      "16e8ab0448dd45bda44930b399b27d03",
      "bed585cb91ba43efb51da8eb398965ff",
      "040677eff3e54bd4b2c549b5a5e93fcf",
      "eeb54ee876a74600ac9c9c4913759a15",
      "50ff1a791e8d478580ac46b6fcd8d863"
     ]
    },
    "id": "Qz3qh_sfOmmp",
    "outputId": "2e229c70-7044-4666-d18e-b5ba1c482dba"
   },
   "outputs": [],
   "source": [
    "# progress_apply() version (with progress bar)\n",
    "#strike_df['year'] = strike_df['MSNDATE'].progress_apply(lambda x: x[0:4])\n",
    "# apply() version\n",
    "strike_df['year'] = strike_df['MSNDATE'].apply(lambda x: x[0:4])"
   ]
  },
  {
   "cell_type": "markdown",
   "metadata": {
    "id": "B4i8EW-Xa6Gj"
   },
   "source": [
    "Finally, now that we've extracted just the **year** of the mission into its own column, let's convert that column from `string` format into `int` format. There are a lot of ways to do this type of conversion, but for me the `pd.to_numeric()` function is most useful for several reasons, so I'll use that:"
   ]
  },
  {
   "cell_type": "code",
   "execution_count": 42,
   "metadata": {
    "ExecuteTime": {
     "end_time": "2023-09-30T08:57:46.568043Z",
     "start_time": "2023-09-30T08:57:46.561428Z"
    },
    "id": "opHLqy7jbEr3"
   },
   "outputs": [],
   "source": [
    "strike_df['year'] = pd.to_numeric(strike_df['year'])"
   ]
  },
  {
   "cell_type": "markdown",
   "metadata": {
    "id": "hPNLQ7eabW-X"
   },
   "source": [
    "And as we can see by checking the `.dtypes` attribute (as with **shape**, remember that **dtypes** is **not a function**!), `year` now has the `int64` (64-bit integer) format, as we wanted:"
   ]
  },
  {
   "cell_type": "code",
   "execution_count": 43,
   "metadata": {
    "ExecuteTime": {
     "end_time": "2023-09-30T08:57:47.261326Z",
     "start_time": "2023-09-30T08:57:47.234165Z"
    },
    "colab": {
     "base_uri": "https://localhost:8080/"
    },
    "id": "M7TS9nE6bTDk",
    "outputId": "788a8e1e-9fbf-4d1c-c31a-c55bba4d3c9f"
   },
   "outputs": [
    {
     "data": {
      "text/plain": [
       "MFUNC_DESC              object\n",
       "MISSIONID               object\n",
       "TGTCOUNTRY              object\n",
       "THOR_DATA_VIET_ID        int64\n",
       "MSNDATE                 object\n",
       "SOURCEID                 int64\n",
       "NUMWEAPONSDELIVERED      int64\n",
       "TGTTYPE                 object\n",
       "TGTLATDD_DDD_WGS84     float64\n",
       "TGTLONDDD_DDD_WGS84    float64\n",
       "MSNDATE_type            object\n",
       "MSNDATE_dashcount        int64\n",
       "MSNDATE_len              int64\n",
       "year                     int64\n",
       "dtype: object"
      ]
     },
     "execution_count": 43,
     "metadata": {},
     "output_type": "execute_result"
    }
   ],
   "source": [
    "strike_df.dtypes"
   ]
  },
  {
   "cell_type": "markdown",
   "metadata": {
    "id": "Bw312njOxdbr"
   },
   "source": [
    "## (5) Collapsing Messy Categorical Variables Into Clean Ones"
   ]
  },
  {
   "cell_type": "markdown",
   "metadata": {
    "id": "ddufcq-uxhZX"
   },
   "source": [
    "The one variable we should still look at is `TGTTYPE`: although we already saw how messy it was in the sense of having lots of missing values, it turns out that it is also messy in the sense of having lots and lots of potential values, some of which are very similar but not identical, so that (for example) trying to include this variable as a \"factor variable\" in a cross-tabulation or a two-way plot (see below) would result in a very messy plot with too many bars/lines/colors/etc.\n",
    "\n",
    "This becomes clear if we run the following code, showing that there are **235 possible values** that this categorical variable can take on:"
   ]
  },
  {
   "cell_type": "code",
   "execution_count": 44,
   "metadata": {
    "ExecuteTime": {
     "end_time": "2023-09-30T08:57:48.475306Z",
     "start_time": "2023-09-30T08:57:48.472151Z"
    },
    "colab": {
     "base_uri": "https://localhost:8080/"
    },
    "id": "ip-wR6Wvx5d1",
    "outputId": "a5796e7e-0fce-4f6c-be18-876a1367479a"
   },
   "outputs": [
    {
     "data": {
      "text/plain": [
       "TGTTYPE\n",
       "AREA\\DEPOT         118271\n",
       "MOTOR VEHICLE      108533\n",
       "TRUCK PARK\\STOP     77840\n",
       "ROAD                60494\n",
       "ANTI-AIRCRAFT       52870\n",
       "                    ...  \n",
       "AMMO BLDG               1\n",
       "CP                      1\n",
       "MOUNTAIN PASS           1\n",
       "SAM OXIDIZER            1\n",
       "MIG19                   1\n",
       "Name: count, Length: 235, dtype: int64"
      ]
     },
     "execution_count": 44,
     "metadata": {},
     "output_type": "execute_result"
    }
   ],
   "source": [
    "strike_df['TGTTYPE'].value_counts()"
   ]
  },
  {
   "cell_type": "markdown",
   "metadata": {
    "id": "bU_9Z9OTySPQ"
   },
   "source": [
    "Since we're focusing on EDA and visualization, though, let's treat this `value_counts()` table as a \"mini-dataset\" and generate an EDA-style visualization of how many instances of each possible category actually appear in the broader dataset. We'll call this mini-dataset `target_dist`, since it represents just the counts (and therefore, as a whole, the distribution) of the various possible target-type categories. Note, however, that because `value_counts()` returns a **`pd.Series`** object, **not** a `pd.DataFrame` object, we'll need to explicitly convert its return value into a `pd.DataFrame` (plus turn the index column into a \"regular\" column and rename it from `index` into something more informative) in order to use it with Seaborn."
   ]
  },
  {
   "cell_type": "code",
   "execution_count": 45,
   "metadata": {
    "ExecuteTime": {
     "end_time": "2023-09-30T08:57:49.337330Z",
     "start_time": "2023-09-30T08:57:49.332606Z"
    },
    "colab": {
     "base_uri": "https://localhost:8080/",
     "height": 424
    },
    "id": "o-VFdmdu1D6U",
    "outputId": "20ad9ba6-c3df-428c-a2e8-c242e8eb7cc5"
   },
   "outputs": [
    {
     "data": {
      "text/html": [
       "<div>\n",
       "<style scoped>\n",
       "    .dataframe tbody tr th:only-of-type {\n",
       "        vertical-align: middle;\n",
       "    }\n",
       "\n",
       "    .dataframe tbody tr th {\n",
       "        vertical-align: top;\n",
       "    }\n",
       "\n",
       "    .dataframe thead th {\n",
       "        text-align: right;\n",
       "    }\n",
       "</style>\n",
       "<table border=\"1\" class=\"dataframe\">\n",
       "  <thead>\n",
       "    <tr style=\"text-align: right;\">\n",
       "      <th></th>\n",
       "      <th>TGTTYPE_val</th>\n",
       "      <th>count</th>\n",
       "    </tr>\n",
       "  </thead>\n",
       "  <tbody>\n",
       "    <tr>\n",
       "      <th>0</th>\n",
       "      <td>AREA\\DEPOT</td>\n",
       "      <td>118271</td>\n",
       "    </tr>\n",
       "    <tr>\n",
       "      <th>1</th>\n",
       "      <td>MOTOR VEHICLE</td>\n",
       "      <td>108533</td>\n",
       "    </tr>\n",
       "    <tr>\n",
       "      <th>2</th>\n",
       "      <td>TRUCK PARK\\STOP</td>\n",
       "      <td>77840</td>\n",
       "    </tr>\n",
       "    <tr>\n",
       "      <th>3</th>\n",
       "      <td>ROAD</td>\n",
       "      <td>60494</td>\n",
       "    </tr>\n",
       "    <tr>\n",
       "      <th>4</th>\n",
       "      <td>ANTI-AIRCRAFT</td>\n",
       "      <td>52870</td>\n",
       "    </tr>\n",
       "    <tr>\n",
       "      <th>...</th>\n",
       "      <td>...</td>\n",
       "      <td>...</td>\n",
       "    </tr>\n",
       "    <tr>\n",
       "      <th>230</th>\n",
       "      <td>AMMO BLDG</td>\n",
       "      <td>1</td>\n",
       "    </tr>\n",
       "    <tr>\n",
       "      <th>231</th>\n",
       "      <td>CP</td>\n",
       "      <td>1</td>\n",
       "    </tr>\n",
       "    <tr>\n",
       "      <th>232</th>\n",
       "      <td>MOUNTAIN PASS</td>\n",
       "      <td>1</td>\n",
       "    </tr>\n",
       "    <tr>\n",
       "      <th>233</th>\n",
       "      <td>SAM OXIDIZER</td>\n",
       "      <td>1</td>\n",
       "    </tr>\n",
       "    <tr>\n",
       "      <th>234</th>\n",
       "      <td>MIG19</td>\n",
       "      <td>1</td>\n",
       "    </tr>\n",
       "  </tbody>\n",
       "</table>\n",
       "<p>235 rows × 2 columns</p>\n",
       "</div>"
      ],
      "text/plain": [
       "         TGTTYPE_val   count\n",
       "0         AREA\\DEPOT  118271\n",
       "1      MOTOR VEHICLE  108533\n",
       "2    TRUCK PARK\\STOP   77840\n",
       "3               ROAD   60494\n",
       "4      ANTI-AIRCRAFT   52870\n",
       "..               ...     ...\n",
       "230        AMMO BLDG       1\n",
       "231               CP       1\n",
       "232    MOUNTAIN PASS       1\n",
       "233     SAM OXIDIZER       1\n",
       "234            MIG19       1\n",
       "\n",
       "[235 rows x 2 columns]"
      ]
     },
     "execution_count": 45,
     "metadata": {},
     "output_type": "execute_result"
    }
   ],
   "source": [
    "target_dist_df = pd.DataFrame(strike_df['TGTTYPE'].value_counts()).reset_index()\n",
    "target_dist_df.columns = ['TGTTYPE_val','count']\n",
    "target_dist_df"
   ]
  },
  {
   "cell_type": "code",
   "execution_count": 46,
   "metadata": {
    "ExecuteTime": {
     "end_time": "2023-09-30T08:57:49.627851Z",
     "start_time": "2023-09-30T08:57:49.606014Z"
    },
    "colab": {
     "base_uri": "https://localhost:8080/",
     "height": 677
    },
    "id": "_BrVbFUO6G09",
    "outputId": "5852a2c0-b7c4-4826-c248-e386f81e9c9d"
   },
   "outputs": [
    {
     "data": {
      "text/html": [
       "<div>\n",
       "<style scoped>\n",
       "    .dataframe tbody tr th:only-of-type {\n",
       "        vertical-align: middle;\n",
       "    }\n",
       "\n",
       "    .dataframe tbody tr th {\n",
       "        vertical-align: top;\n",
       "    }\n",
       "\n",
       "    .dataframe thead th {\n",
       "        text-align: right;\n",
       "    }\n",
       "</style>\n",
       "<table border=\"1\" class=\"dataframe\">\n",
       "  <thead>\n",
       "    <tr style=\"text-align: right;\">\n",
       "      <th></th>\n",
       "      <th>TGTTYPE_val</th>\n",
       "      <th>count</th>\n",
       "    </tr>\n",
       "  </thead>\n",
       "  <tbody>\n",
       "    <tr>\n",
       "      <th>0</th>\n",
       "      <td>AREA\\DEPOT</td>\n",
       "      <td>118271</td>\n",
       "    </tr>\n",
       "    <tr>\n",
       "      <th>1</th>\n",
       "      <td>MOTOR VEHICLE</td>\n",
       "      <td>108533</td>\n",
       "    </tr>\n",
       "    <tr>\n",
       "      <th>2</th>\n",
       "      <td>TRUCK PARK\\STOP</td>\n",
       "      <td>77840</td>\n",
       "    </tr>\n",
       "    <tr>\n",
       "      <th>3</th>\n",
       "      <td>ROAD</td>\n",
       "      <td>60494</td>\n",
       "    </tr>\n",
       "    <tr>\n",
       "      <th>4</th>\n",
       "      <td>ANTI-AIRCRAFT</td>\n",
       "      <td>52870</td>\n",
       "    </tr>\n",
       "    <tr>\n",
       "      <th>5</th>\n",
       "      <td>TROOPS</td>\n",
       "      <td>47532</td>\n",
       "    </tr>\n",
       "    <tr>\n",
       "      <th>6</th>\n",
       "      <td>BRIDGE</td>\n",
       "      <td>28272</td>\n",
       "    </tr>\n",
       "    <tr>\n",
       "      <th>7</th>\n",
       "      <td>UNKNOWN\\UNIDENTIFIED</td>\n",
       "      <td>27328</td>\n",
       "    </tr>\n",
       "    <tr>\n",
       "      <th>8</th>\n",
       "      <td>BUILDINGS</td>\n",
       "      <td>24453</td>\n",
       "    </tr>\n",
       "    <tr>\n",
       "      <th>9</th>\n",
       "      <td>SEGMENT\\TRANS ROUTE</td>\n",
       "      <td>24181</td>\n",
       "    </tr>\n",
       "    <tr>\n",
       "      <th>10</th>\n",
       "      <td>FORD</td>\n",
       "      <td>13893</td>\n",
       "    </tr>\n",
       "    <tr>\n",
       "      <th>11</th>\n",
       "      <td>WATER VEHICLES</td>\n",
       "      <td>10845</td>\n",
       "    </tr>\n",
       "    <tr>\n",
       "      <th>12</th>\n",
       "      <td>TRUCKS</td>\n",
       "      <td>10224</td>\n",
       "    </tr>\n",
       "    <tr>\n",
       "      <th>13</th>\n",
       "      <td>INTERDICTION POINT</td>\n",
       "      <td>9414</td>\n",
       "    </tr>\n",
       "    <tr>\n",
       "      <th>14</th>\n",
       "      <td>FERRY</td>\n",
       "      <td>9121</td>\n",
       "    </tr>\n",
       "    <tr>\n",
       "      <th>15</th>\n",
       "      <td>BIVOUAC</td>\n",
       "      <td>8505</td>\n",
       "    </tr>\n",
       "    <tr>\n",
       "      <th>16</th>\n",
       "      <td>ROADS\\HIGHWAYS</td>\n",
       "      <td>7762</td>\n",
       "    </tr>\n",
       "    <tr>\n",
       "      <th>17</th>\n",
       "      <td>STORAGE AREA</td>\n",
       "      <td>7762</td>\n",
       "    </tr>\n",
       "    <tr>\n",
       "      <th>18</th>\n",
       "      <td>CAVE</td>\n",
       "      <td>6350</td>\n",
       "    </tr>\n",
       "    <tr>\n",
       "      <th>19</th>\n",
       "      <td>PERSONNEL\\ANY</td>\n",
       "      <td>6314</td>\n",
       "    </tr>\n",
       "  </tbody>\n",
       "</table>\n",
       "</div>"
      ],
      "text/plain": [
       "             TGTTYPE_val   count\n",
       "0             AREA\\DEPOT  118271\n",
       "1          MOTOR VEHICLE  108533\n",
       "2        TRUCK PARK\\STOP   77840\n",
       "3                   ROAD   60494\n",
       "4          ANTI-AIRCRAFT   52870\n",
       "5                 TROOPS   47532\n",
       "6                 BRIDGE   28272\n",
       "7   UNKNOWN\\UNIDENTIFIED   27328\n",
       "8              BUILDINGS   24453\n",
       "9    SEGMENT\\TRANS ROUTE   24181\n",
       "10                  FORD   13893\n",
       "11        WATER VEHICLES   10845\n",
       "12                TRUCKS   10224\n",
       "13    INTERDICTION POINT    9414\n",
       "14                 FERRY    9121\n",
       "15               BIVOUAC    8505\n",
       "16        ROADS\\HIGHWAYS    7762\n",
       "17          STORAGE AREA    7762\n",
       "18                  CAVE    6350\n",
       "19         PERSONNEL\\ANY    6314"
      ]
     },
     "execution_count": 46,
     "metadata": {},
     "output_type": "execute_result"
    }
   ],
   "source": [
    "target_dist_df.iloc[:20]"
   ]
  },
  {
   "cell_type": "markdown",
   "metadata": {
    "id": "nudG7PYm09cY"
   },
   "source": [
    "Now we can think about how to visualize this: since `target_dist` represents a **distribution** (in particular, a **distribution of counts**), essentially we have already done the set of computations that the `sns.displot()` function demonstrated in the very beginning of the <a href='https://jfh.georgetown.domains/dsan5000/slides-and-labs/_site/content/slides/seaborn-introduction/notes.html' target='_blank'>W06 Lab Demo</a> performs under the hood. Meaning: if we **hadn't** already computed counts for each value of `TGTTYPE`, we could use `sns.displot()` with the original `strike_df` dataset to visualize these counts. Since we've already computed counts, however, we can more straightforwardly just plot each count as a bar in a `sns.barplot()` visualization (which will look identical to what `sns.displot()` would generate given `strike_df`).\n",
    "\n",
    "*(I mentioned the fact that `target_dist` is a distribution of counts since, although `displot()` can be used for both **probability** distributions and distributions of **counts**, the y-axis for plots of **counts** will be even easier to interpret than the y-axis for plots of probability mass values, since in the latter case the y-axis values will be \"squished down\" into decimals ranging from 0 to 1)*"
   ]
  },
  {
   "cell_type": "code",
   "execution_count": 47,
   "metadata": {
    "ExecuteTime": {
     "end_time": "2023-09-30T08:57:51.045224Z",
     "start_time": "2023-09-30T08:57:50.678838Z"
    },
    "colab": {
     "base_uri": "https://localhost:8080/",
     "height": 426
    },
    "id": "Eut7SxlPyRRt",
    "outputId": "59d46a26-3773-4a05-bc10-be69a43e9af7"
   },
   "outputs": [
    {
     "name": "stderr",
     "output_type": "stream",
     "text": [
      "/Users/jpj/.pyenv/versions/3.11.5/lib/python3.11/site-packages/seaborn/_oldcore.py:1498: FutureWarning: is_categorical_dtype is deprecated and will be removed in a future version. Use isinstance(dtype, CategoricalDtype) instead\n",
      "  if pd.api.types.is_categorical_dtype(vector):\n",
      "/Users/jpj/.pyenv/versions/3.11.5/lib/python3.11/site-packages/seaborn/_oldcore.py:1498: FutureWarning: is_categorical_dtype is deprecated and will be removed in a future version. Use isinstance(dtype, CategoricalDtype) instead\n",
      "  if pd.api.types.is_categorical_dtype(vector):\n",
      "/Users/jpj/.pyenv/versions/3.11.5/lib/python3.11/site-packages/seaborn/_oldcore.py:1498: FutureWarning: is_categorical_dtype is deprecated and will be removed in a future version. Use isinstance(dtype, CategoricalDtype) instead\n",
      "  if pd.api.types.is_categorical_dtype(vector):\n",
      "Exception ignored in: <function tqdm.__del__ at 0x17b524a40>\n",
      "Traceback (most recent call last):\n",
      "  File \"/Users/jpj/.pyenv/versions/3.11.5/lib/python3.11/site-packages/tqdm/std.py\", line 1149, in __del__\n",
      "    self.close()\n",
      "  File \"/Users/jpj/.pyenv/versions/3.11.5/lib/python3.11/site-packages/tqdm/notebook.py\", line 278, in close\n",
      "    self.disp(bar_style='danger', check_delay=False)\n",
      "    ^^^^^^^^^\n",
      "AttributeError: 'tqdm_notebook' object has no attribute 'disp'\n",
      "Exception ignored in: <function tqdm.__del__ at 0x17b524a40>\n",
      "Traceback (most recent call last):\n",
      "  File \"/Users/jpj/.pyenv/versions/3.11.5/lib/python3.11/site-packages/tqdm/std.py\", line 1149, in __del__\n",
      "    self.close()\n",
      "  File \"/Users/jpj/.pyenv/versions/3.11.5/lib/python3.11/site-packages/tqdm/notebook.py\", line 278, in close\n",
      "    self.disp(bar_style='danger', check_delay=False)\n",
      "    ^^^^^^^^^\n",
      "AttributeError: 'tqdm_notebook' object has no attribute 'disp'\n"
     ]
    },
    {
     "ename": "NameError",
     "evalue": "name 'plt' is not defined",
     "output_type": "error",
     "traceback": [
      "\u001b[0;31m---------------------------------------------------------------------------\u001b[0m",
      "\u001b[0;31mNameError\u001b[0m                                 Traceback (most recent call last)",
      "\u001b[1;32m/Users/jpj/Library/CloudStorage/Dropbox/gtown/dsan5000/writeups/eda-seaborn/THOR_EDA_with_Seaborn(1).ipynb Cell 76\u001b[0m line \u001b[0;36m6\n\u001b[1;32m      <a href='vscode-notebook-cell:/Users/jpj/Library/CloudStorage/Dropbox/gtown/dsan5000/writeups/eda-seaborn/THOR_EDA_with_Seaborn%281%29.ipynb#Y134sZmlsZQ%3D%3D?line=0'>1</a>\u001b[0m sns\u001b[39m.\u001b[39mbarplot(\n\u001b[1;32m      <a href='vscode-notebook-cell:/Users/jpj/Library/CloudStorage/Dropbox/gtown/dsan5000/writeups/eda-seaborn/THOR_EDA_with_Seaborn%281%29.ipynb#Y134sZmlsZQ%3D%3D?line=1'>2</a>\u001b[0m     data\u001b[39m=\u001b[39mtarget_dist_df,\n\u001b[1;32m      <a href='vscode-notebook-cell:/Users/jpj/Library/CloudStorage/Dropbox/gtown/dsan5000/writeups/eda-seaborn/THOR_EDA_with_Seaborn%281%29.ipynb#Y134sZmlsZQ%3D%3D?line=2'>3</a>\u001b[0m     x\u001b[39m=\u001b[39m\u001b[39m\"\u001b[39m\u001b[39mTGTTYPE_val\u001b[39m\u001b[39m\"\u001b[39m,\n\u001b[1;32m      <a href='vscode-notebook-cell:/Users/jpj/Library/CloudStorage/Dropbox/gtown/dsan5000/writeups/eda-seaborn/THOR_EDA_with_Seaborn%281%29.ipynb#Y134sZmlsZQ%3D%3D?line=3'>4</a>\u001b[0m     y\u001b[39m=\u001b[39m\u001b[39m'\u001b[39m\u001b[39mcount\u001b[39m\u001b[39m'\u001b[39m\n\u001b[1;32m      <a href='vscode-notebook-cell:/Users/jpj/Library/CloudStorage/Dropbox/gtown/dsan5000/writeups/eda-seaborn/THOR_EDA_with_Seaborn%281%29.ipynb#Y134sZmlsZQ%3D%3D?line=4'>5</a>\u001b[0m )\u001b[39m.\u001b[39mset(xticks\u001b[39m=\u001b[39m[], xticklabels\u001b[39m=\u001b[39m[])\n\u001b[0;32m----> <a href='vscode-notebook-cell:/Users/jpj/Library/CloudStorage/Dropbox/gtown/dsan5000/writeups/eda-seaborn/THOR_EDA_with_Seaborn%281%29.ipynb#Y134sZmlsZQ%3D%3D?line=5'>6</a>\u001b[0m plt\u001b[39m.\u001b[39mshow()\n",
      "\u001b[0;31mNameError\u001b[0m: name 'plt' is not defined"
     ]
    },
    {
     "data": {
      "image/png": "[encoded data removed]",
      "text/plain": [
       "<Figure size 640x480 with 1 Axes>"
      ]
     },
     "metadata": {},
     "output_type": "display_data"
    }
   ],
   "source": [
    "sns.barplot(\n",
    "    data=target_dist_df,\n",
    "    x=\"TGTTYPE_val\",\n",
    "    y='count'\n",
    ").set(xticks=[], xticklabels=[])\n",
    "plt.show()"
   ]
  },
  {
   "cell_type": "markdown",
   "metadata": {
    "id": "U841SrgZ4k8H"
   },
   "source": [
    "After the call to `sns.barplot()` in the previous cell, notice that I'm also calling `.set()` with the options `xticks=[]` and `xticklabels=[]`. This call with these options simply removes all ticks and tick labels on the x-axis of the plot, since otherwise it would have displayed a chaotic overlapping mass of 235 ticks and 235 labels. Without these ticks/labels, we are able to focus just on the distribution of the y-axis values, and especially the fact that they start to **decrease rapidly after a certain point**.\n",
    "\n",
    "This rapid decrease tells us, for example, that we can probably either\n",
    "\n",
    "* (a) aggregate the rarely-appearing values into broader categories, to see if they are (for example) just slightly-modified versions of the more-frequently-appearing values [the safer, more statistically-principled approach], or\n",
    "* (b) ignore these values when we're examining cross-tabulations and/or generating visualizations where data is grouped by these values.\n",
    "\n",
    "Since we're focusing on EDA, I'll be employing approach (b), but please keep in mind that **you might be throwing away important information** by ignoring these less-frequently-occurring values (many examples come to mind, but to avoid making the writeup any longer I will just say, feel free to ask about these cases!)\n",
    "\n",
    "Therefore, I'm going to (arbitrarily!) **keep the top 20 most-frequently occurring values**, and then collapse any values beyond this top 20 down into a 21st catch-all category called **\"other\"**:"
   ]
  },
  {
   "cell_type": "code",
   "execution_count": 48,
   "metadata": {
    "ExecuteTime": {
     "end_time": "2023-09-30T08:57:52.137495Z",
     "start_time": "2023-09-30T08:57:52.110814Z"
    },
    "colab": {
     "base_uri": "https://localhost:8080/"
    },
    "id": "QcjPJSfN6qb8",
    "outputId": "fa4766ef-89b9-49da-8594-9a343bdf50d3"
   },
   "outputs": [
    {
     "name": "stdout",
     "output_type": "stream",
     "text": [
      "['AREA\\\\DEPOT' 'MOTOR VEHICLE' 'TRUCK PARK\\\\STOP' 'ROAD' 'ANTI-AIRCRAFT'\n",
      " 'TROOPS' 'BRIDGE' 'UNKNOWN\\\\UNIDENTIFIED' 'BUILDINGS'\n",
      " 'SEGMENT\\\\TRANS ROUTE' 'FORD' 'WATER VEHICLES' 'TRUCKS'\n",
      " 'INTERDICTION POINT' 'FERRY' 'BIVOUAC' 'ROADS\\\\HIGHWAYS' 'STORAGE AREA'\n",
      " 'CAVE' 'PERSONNEL\\\\ANY']\n",
      "215 non-frequent values\n"
     ]
    }
   ],
   "source": [
    "# Extract just the 20 most-frequently occurring values\n",
    "rank_cutoff = 20\n",
    "most_frequent_values = target_dist_df['TGTTYPE_val'].iloc[:rank_cutoff].values\n",
    "# Print them out (for future reference)\n",
    "print(most_frequent_values)\n",
    "# Then take the **set difference** between the **full set of values** and the\n",
    "# **20 that we're keeping**, and re-map these 215 values onto the single value\n",
    "# \"other\"\n",
    "all_values = target_dist_df['TGTTYPE_val'].values\n",
    "non_frequent_values = [v for v in all_values if v not in most_frequent_values]\n",
    "# Sanity check\n",
    "num_non_frequent = len(non_frequent_values)\n",
    "print(f\"{num_non_frequent} non-frequent values\")\n",
    "# And apply the mapping to the original strike_df dataset\n"
   ]
  },
  {
   "cell_type": "markdown",
   "metadata": {
    "id": "uAFmsjxkZbOt"
   },
   "source": [
    "## (6) Tabulation and Cross-Tabulation"
   ]
  },
  {
   "cell_type": "markdown",
   "metadata": {
    "id": "qugVwZZ_eXfV"
   },
   "source": [
    "Now that we're finally done with those fairly messy/tedious cleaning steps, let's make some tables!"
   ]
  },
  {
   "cell_type": "markdown",
   "metadata": {
    "id": "k_FZ3J3weZj7"
   },
   "source": [
    "### (6.1) Summary Statistics Table: `.describe()`"
   ]
  },
  {
   "cell_type": "markdown",
   "metadata": {
    "id": "m0Zewd2xZf_h"
   },
   "source": [
    "\n",
    "\n",
    "First, as in the other lab demo you have, let's use `.describe()` to create a table showing us some basic summary statistics about our now-cleaned variables. Your first instinct might be to just call `strike_df.describe()`, as in the following code cell, but that's another instinct you should probably push back on:"
   ]
  },
  {
   "cell_type": "code",
   "execution_count": 49,
   "metadata": {
    "ExecuteTime": {
     "end_time": "2023-09-30T08:57:55.040450Z",
     "start_time": "2023-09-30T08:57:54.864702Z"
    },
    "colab": {
     "base_uri": "https://localhost:8080/",
     "height": 320
    },
    "id": "2UIr2UNXYu_u",
    "outputId": "d4cf3d94-f909-4cee-8737-c57ff0678758"
   },
   "outputs": [
    {
     "data": {
      "text/html": [
       "<div>\n",
       "<style scoped>\n",
       "    .dataframe tbody tr th:only-of-type {\n",
       "        vertical-align: middle;\n",
       "    }\n",
       "\n",
       "    .dataframe tbody tr th {\n",
       "        vertical-align: top;\n",
       "    }\n",
       "\n",
       "    .dataframe thead th {\n",
       "        text-align: right;\n",
       "    }\n",
       "</style>\n",
       "<table border=\"1\" class=\"dataframe\">\n",
       "  <thead>\n",
       "    <tr style=\"text-align: right;\">\n",
       "      <th></th>\n",
       "      <th>THOR_DATA_VIET_ID</th>\n",
       "      <th>SOURCEID</th>\n",
       "      <th>NUMWEAPONSDELIVERED</th>\n",
       "      <th>TGTLATDD_DDD_WGS84</th>\n",
       "      <th>TGTLONDDD_DDD_WGS84</th>\n",
       "      <th>MSNDATE_dashcount</th>\n",
       "      <th>MSNDATE_len</th>\n",
       "      <th>year</th>\n",
       "    </tr>\n",
       "  </thead>\n",
       "  <tbody>\n",
       "    <tr>\n",
       "      <th>count</th>\n",
       "      <td>1.007674e+06</td>\n",
       "      <td>1.007674e+06</td>\n",
       "      <td>1.007674e+06</td>\n",
       "      <td>969931.000000</td>\n",
       "      <td>969931.000000</td>\n",
       "      <td>1.007674e+06</td>\n",
       "      <td>1.007674e+06</td>\n",
       "      <td>1.007674e+06</td>\n",
       "    </tr>\n",
       "    <tr>\n",
       "      <th>mean</th>\n",
       "      <td>2.264882e+06</td>\n",
       "      <td>1.712625e+06</td>\n",
       "      <td>1.202383e+01</td>\n",
       "      <td>17.221362</td>\n",
       "      <td>105.875013</td>\n",
       "      <td>1.971916e+00</td>\n",
       "      <td>9.971916e+00</td>\n",
       "      <td>1.969216e+03</td>\n",
       "    </tr>\n",
       "    <tr>\n",
       "      <th>std</th>\n",
       "      <td>1.278396e+06</td>\n",
       "      <td>1.321200e+06</td>\n",
       "      <td>5.958607e+01</td>\n",
       "      <td>1.801880</td>\n",
       "      <td>1.249900</td>\n",
       "      <td>2.353301e-01</td>\n",
       "      <td>2.353301e-01</td>\n",
       "      <td>1.738883e+00</td>\n",
       "    </tr>\n",
       "    <tr>\n",
       "      <th>min</th>\n",
       "      <td>4.000000e+00</td>\n",
       "      <td>3.000000e+00</td>\n",
       "      <td>0.000000e+00</td>\n",
       "      <td>0.247721</td>\n",
       "      <td>43.416666</td>\n",
       "      <td>0.000000e+00</td>\n",
       "      <td>8.000000e+00</td>\n",
       "      <td>1.965000e+03</td>\n",
       "    </tr>\n",
       "    <tr>\n",
       "      <th>25%</th>\n",
       "      <td>1.164722e+06</td>\n",
       "      <td>5.796808e+05</td>\n",
       "      <td>0.000000e+00</td>\n",
       "      <td>16.430555</td>\n",
       "      <td>105.712000</td>\n",
       "      <td>2.000000e+00</td>\n",
       "      <td>1.000000e+01</td>\n",
       "      <td>1.968000e+03</td>\n",
       "    </tr>\n",
       "    <tr>\n",
       "      <th>50%</th>\n",
       "      <td>2.264671e+06</td>\n",
       "      <td>1.454324e+06</td>\n",
       "      <td>4.000000e+00</td>\n",
       "      <td>17.125000</td>\n",
       "      <td>106.155833</td>\n",
       "      <td>2.000000e+00</td>\n",
       "      <td>1.000000e+01</td>\n",
       "      <td>1.969000e+03</td>\n",
       "    </tr>\n",
       "    <tr>\n",
       "      <th>75%</th>\n",
       "      <td>3.218455e+06</td>\n",
       "      <td>2.593384e+06</td>\n",
       "      <td>1.200000e+01</td>\n",
       "      <td>18.000000</td>\n",
       "      <td>106.638000</td>\n",
       "      <td>2.000000e+00</td>\n",
       "      <td>1.000000e+01</td>\n",
       "      <td>1.970000e+03</td>\n",
       "    </tr>\n",
       "    <tr>\n",
       "      <th>max</th>\n",
       "      <td>4.670411e+06</td>\n",
       "      <td>4.909001e+06</td>\n",
       "      <td>9.822000e+03</td>\n",
       "      <td>135.717675</td>\n",
       "      <td>167.500000</td>\n",
       "      <td>2.000000e+00</td>\n",
       "      <td>1.000000e+01</td>\n",
       "      <td>1.975000e+03</td>\n",
       "    </tr>\n",
       "  </tbody>\n",
       "</table>\n",
       "</div>"
      ],
      "text/plain": [
       "       THOR_DATA_VIET_ID      SOURCEID  NUMWEAPONSDELIVERED  \\\n",
       "count       1.007674e+06  1.007674e+06         1.007674e+06   \n",
       "mean        2.264882e+06  1.712625e+06         1.202383e+01   \n",
       "std         1.278396e+06  1.321200e+06         5.958607e+01   \n",
       "min         4.000000e+00  3.000000e+00         0.000000e+00   \n",
       "25%         1.164722e+06  5.796808e+05         0.000000e+00   \n",
       "50%         2.264671e+06  1.454324e+06         4.000000e+00   \n",
       "75%         3.218455e+06  2.593384e+06         1.200000e+01   \n",
       "max         4.670411e+06  4.909001e+06         9.822000e+03   \n",
       "\n",
       "       TGTLATDD_DDD_WGS84  TGTLONDDD_DDD_WGS84  MSNDATE_dashcount  \\\n",
       "count       969931.000000        969931.000000       1.007674e+06   \n",
       "mean            17.221362           105.875013       1.971916e+00   \n",
       "std              1.801880             1.249900       2.353301e-01   \n",
       "min              0.247721            43.416666       0.000000e+00   \n",
       "25%             16.430555           105.712000       2.000000e+00   \n",
       "50%             17.125000           106.155833       2.000000e+00   \n",
       "75%             18.000000           106.638000       2.000000e+00   \n",
       "max            135.717675           167.500000       2.000000e+00   \n",
       "\n",
       "        MSNDATE_len          year  \n",
       "count  1.007674e+06  1.007674e+06  \n",
       "mean   9.971916e+00  1.969216e+03  \n",
       "std    2.353301e-01  1.738883e+00  \n",
       "min    8.000000e+00  1.965000e+03  \n",
       "25%    1.000000e+01  1.968000e+03  \n",
       "50%    1.000000e+01  1.969000e+03  \n",
       "75%    1.000000e+01  1.970000e+03  \n",
       "max    1.000000e+01  1.975000e+03  "
      ]
     },
     "execution_count": 49,
     "metadata": {},
     "output_type": "execute_result"
    }
   ],
   "source": [
    "strike_df.describe()"
   ]
  },
  {
   "cell_type": "markdown",
   "metadata": {
    "id": "7tiMpplVaRyV"
   },
   "source": [
    "We see that this output looks kind of messy, if we don't **filter out non-numeric-variable columns** like the `id` variables or the `_dashcount` and `_len` variables we created as helper columns above. If we **do** take care to filter out those columns first, `.describe()` provides us with more focused and more useful information.\n",
    "\n",
    "First we drop the helper columns, since we don't need these anymore now that `MSNDATE` has been cleaned to our satisfaction. We use the `inplace = True` argument to Pandas' `drop()` function to indicate that we want to **permanently** drop these two columns:"
   ]
  },
  {
   "cell_type": "code",
   "execution_count": 50,
   "metadata": {
    "ExecuteTime": {
     "end_time": "2023-09-30T08:57:56.167531Z",
     "start_time": "2023-09-30T08:57:56.122234Z"
    },
    "id": "3Ykmj6xeaDuU"
   },
   "outputs": [],
   "source": [
    "cols_to_drop = [\n",
    "    'MSNDATE_len',\n",
    "    'MSNDATE_dashcount',\n",
    "    'MSNDATE_type'\n",
    "]\n",
    "strike_df.drop(columns = cols_to_drop, inplace = True)"
   ]
  },
  {
   "cell_type": "markdown",
   "metadata": {
    "id": "BNruakuMcD92"
   },
   "source": [
    "And now we specify just the subset of numeric columns we'd like summaries of, and call `.describe()` only on that subset:"
   ]
  },
  {
   "cell_type": "code",
   "execution_count": 51,
   "metadata": {
    "ExecuteTime": {
     "end_time": "2023-09-30T08:57:56.921797Z",
     "start_time": "2023-09-30T08:57:56.802360Z"
    },
    "colab": {
     "base_uri": "https://localhost:8080/",
     "height": 300
    },
    "id": "QxIbf1L3cDPe",
    "outputId": "a758c776-b4f7-4b61-c4a4-5d03ca327581"
   },
   "outputs": [
    {
     "data": {
      "text/html": [
       "<div>\n",
       "<style scoped>\n",
       "    .dataframe tbody tr th:only-of-type {\n",
       "        vertical-align: middle;\n",
       "    }\n",
       "\n",
       "    .dataframe tbody tr th {\n",
       "        vertical-align: top;\n",
       "    }\n",
       "\n",
       "    .dataframe thead th {\n",
       "        text-align: right;\n",
       "    }\n",
       "</style>\n",
       "<table border=\"1\" class=\"dataframe\">\n",
       "  <thead>\n",
       "    <tr style=\"text-align: right;\">\n",
       "      <th></th>\n",
       "      <th>NUMWEAPONSDELIVERED</th>\n",
       "      <th>TGTLATDD_DDD_WGS84</th>\n",
       "      <th>TGTLONDDD_DDD_WGS84</th>\n",
       "      <th>year</th>\n",
       "    </tr>\n",
       "  </thead>\n",
       "  <tbody>\n",
       "    <tr>\n",
       "      <th>count</th>\n",
       "      <td>1007674.00</td>\n",
       "      <td>969931.00</td>\n",
       "      <td>969931.00</td>\n",
       "      <td>1007674.00</td>\n",
       "    </tr>\n",
       "    <tr>\n",
       "      <th>mean</th>\n",
       "      <td>12.02</td>\n",
       "      <td>17.22</td>\n",
       "      <td>105.88</td>\n",
       "      <td>1969.22</td>\n",
       "    </tr>\n",
       "    <tr>\n",
       "      <th>std</th>\n",
       "      <td>59.59</td>\n",
       "      <td>1.80</td>\n",
       "      <td>1.25</td>\n",
       "      <td>1.74</td>\n",
       "    </tr>\n",
       "    <tr>\n",
       "      <th>min</th>\n",
       "      <td>0.00</td>\n",
       "      <td>0.25</td>\n",
       "      <td>43.42</td>\n",
       "      <td>1965.00</td>\n",
       "    </tr>\n",
       "    <tr>\n",
       "      <th>25%</th>\n",
       "      <td>0.00</td>\n",
       "      <td>16.43</td>\n",
       "      <td>105.71</td>\n",
       "      <td>1968.00</td>\n",
       "    </tr>\n",
       "    <tr>\n",
       "      <th>50%</th>\n",
       "      <td>4.00</td>\n",
       "      <td>17.12</td>\n",
       "      <td>106.16</td>\n",
       "      <td>1969.00</td>\n",
       "    </tr>\n",
       "    <tr>\n",
       "      <th>75%</th>\n",
       "      <td>12.00</td>\n",
       "      <td>18.00</td>\n",
       "      <td>106.64</td>\n",
       "      <td>1970.00</td>\n",
       "    </tr>\n",
       "    <tr>\n",
       "      <th>max</th>\n",
       "      <td>9822.00</td>\n",
       "      <td>135.72</td>\n",
       "      <td>167.50</td>\n",
       "      <td>1975.00</td>\n",
       "    </tr>\n",
       "  </tbody>\n",
       "</table>\n",
       "</div>"
      ],
      "text/plain": [
       "       NUMWEAPONSDELIVERED  TGTLATDD_DDD_WGS84  TGTLONDDD_DDD_WGS84       year\n",
       "count           1007674.00           969931.00            969931.00 1007674.00\n",
       "mean                 12.02               17.22               105.88    1969.22\n",
       "std                  59.59                1.80                 1.25       1.74\n",
       "min                   0.00                0.25                43.42    1965.00\n",
       "25%                   0.00               16.43               105.71    1968.00\n",
       "50%                   4.00               17.12               106.16    1969.00\n",
       "75%                  12.00               18.00               106.64    1970.00\n",
       "max                9822.00              135.72               167.50    1975.00"
      ]
     },
     "metadata": {},
     "output_type": "display_data"
    }
   ],
   "source": [
    "# I break the column names onto separate lines here to make it easy for\n",
    "# myself to go back and include/exclude columns from the call to describe():\n",
    "# I just comment/uncomment the line corresponding to the column I want to\n",
    "# hide/show, respectively\n",
    "numeric_cols = [\n",
    "    'NUMWEAPONSDELIVERED',\n",
    "    'TGTLATDD_DDD_WGS84',\n",
    "    'TGTLONDDD_DDD_WGS84',\n",
    "    'year'\n",
    "]\n",
    "# pd.option_context() has kind of a strange syntax, but it just allows us to\n",
    "# specify how to format each number in the result of the call to describe()\n",
    "# without having to worry about permanently changing our Pandas display\n",
    "# settings\n",
    "with pd.option_context('display.float_format', '{:.2f}'.format):\n",
    "  display(strike_df[numeric_cols].describe())"
   ]
  },
  {
   "cell_type": "markdown",
   "metadata": {
    "id": "SbeyZ-XVd_5T"
   },
   "source": [
    "And already, just from this description, we can make some simple but important inferences: for example that 75% of the bombings were carried out before or during the year 1970, despite the fact that the bombing campaign as a whole did not end until 1975 (which we can see from the **max** value of `year`)"
   ]
  },
  {
   "cell_type": "markdown",
   "metadata": {
    "id": "MsXZPGa7ekvS"
   },
   "source": [
    "### (6.2) Cross-Tabulation of the Relationship Between Two Variables"
   ]
  },
  {
   "cell_type": "markdown",
   "metadata": {
    "id": "q2D_28mte331"
   },
   "source": [
    "If you googled \"cross-tabulation in pandas\" like the lab asks you to (which I hope you did in the days between the lab handout and this writeup!), you'll find the Pandas function `crosstab()`.\n",
    "\n",
    "`crosstab()` works similarly to `describe()` except that, rather than computing summary statistics across the **entire dataset**, it computes a set of **conditional summary statistics**, so that we can use it e.g. to examine the distributions of a numeric variable (say, `year`) for different values of a **categorical** variable (say, `TGTCOUNTRY`). Here we use it with its default parameter settings to generate a table showing us the **number of strikes** within each cross-tabulated \"bin\"---that is, each `(year,country)` pair where `year` is some value in the `year` column and `country` is some value in the `TGTCOUNTRY` column:"
   ]
  },
  {
   "cell_type": "code",
   "execution_count": 52,
   "metadata": {
    "ExecuteTime": {
     "end_time": "2023-09-30T08:57:58.238401Z",
     "start_time": "2023-09-30T08:57:58.152516Z"
    },
    "colab": {
     "base_uri": "https://localhost:8080/",
     "height": 394
    },
    "id": "HrqtmgykcscG",
    "outputId": "9097db4c-19c5-4d62-b94a-3b495651aa03"
   },
   "outputs": [
    {
     "data": {
      "text/html": [
       "<div>\n",
       "<style scoped>\n",
       "    .dataframe tbody tr th:only-of-type {\n",
       "        vertical-align: middle;\n",
       "    }\n",
       "\n",
       "    .dataframe tbody tr th {\n",
       "        vertical-align: top;\n",
       "    }\n",
       "\n",
       "    .dataframe thead th {\n",
       "        text-align: right;\n",
       "    }\n",
       "</style>\n",
       "<table border=\"1\" class=\"dataframe\">\n",
       "  <thead>\n",
       "    <tr style=\"text-align: right;\">\n",
       "      <th>TGTCOUNTRY</th>\n",
       "      <th>CAMBODIA</th>\n",
       "      <th>LAOS</th>\n",
       "      <th>NORTH VIETNAM</th>\n",
       "      <th>SOUTH VIETNAM</th>\n",
       "      <th>THAILAND</th>\n",
       "      <th>UNKNOWN</th>\n",
       "      <th>WESTPAC WATERS</th>\n",
       "    </tr>\n",
       "    <tr>\n",
       "      <th>year</th>\n",
       "      <th></th>\n",
       "      <th></th>\n",
       "      <th></th>\n",
       "      <th></th>\n",
       "      <th></th>\n",
       "      <th></th>\n",
       "      <th></th>\n",
       "    </tr>\n",
       "  </thead>\n",
       "  <tbody>\n",
       "    <tr>\n",
       "      <th>1965</th>\n",
       "      <td>0</td>\n",
       "      <td>1197</td>\n",
       "      <td>2596</td>\n",
       "      <td>9238</td>\n",
       "      <td>0</td>\n",
       "      <td>0</td>\n",
       "      <td>0</td>\n",
       "    </tr>\n",
       "    <tr>\n",
       "      <th>1966</th>\n",
       "      <td>0</td>\n",
       "      <td>16825</td>\n",
       "      <td>24261</td>\n",
       "      <td>4918</td>\n",
       "      <td>11</td>\n",
       "      <td>0</td>\n",
       "      <td>0</td>\n",
       "    </tr>\n",
       "    <tr>\n",
       "      <th>1967</th>\n",
       "      <td>18</td>\n",
       "      <td>29738</td>\n",
       "      <td>69420</td>\n",
       "      <td>1004</td>\n",
       "      <td>6</td>\n",
       "      <td>0</td>\n",
       "      <td>0</td>\n",
       "    </tr>\n",
       "    <tr>\n",
       "      <th>1968</th>\n",
       "      <td>0</td>\n",
       "      <td>105046</td>\n",
       "      <td>108110</td>\n",
       "      <td>3763</td>\n",
       "      <td>81</td>\n",
       "      <td>19</td>\n",
       "      <td>6</td>\n",
       "    </tr>\n",
       "    <tr>\n",
       "      <th>1969</th>\n",
       "      <td>23</td>\n",
       "      <td>167010</td>\n",
       "      <td>729</td>\n",
       "      <td>1353</td>\n",
       "      <td>41</td>\n",
       "      <td>4</td>\n",
       "      <td>0</td>\n",
       "    </tr>\n",
       "    <tr>\n",
       "      <th>1970</th>\n",
       "      <td>6099</td>\n",
       "      <td>209273</td>\n",
       "      <td>1801</td>\n",
       "      <td>2684</td>\n",
       "      <td>7</td>\n",
       "      <td>0</td>\n",
       "      <td>0</td>\n",
       "    </tr>\n",
       "    <tr>\n",
       "      <th>1971</th>\n",
       "      <td>1130</td>\n",
       "      <td>107675</td>\n",
       "      <td>3342</td>\n",
       "      <td>7932</td>\n",
       "      <td>0</td>\n",
       "      <td>0</td>\n",
       "      <td>0</td>\n",
       "    </tr>\n",
       "    <tr>\n",
       "      <th>1972</th>\n",
       "      <td>1243</td>\n",
       "      <td>48531</td>\n",
       "      <td>34281</td>\n",
       "      <td>23303</td>\n",
       "      <td>0</td>\n",
       "      <td>0</td>\n",
       "      <td>0</td>\n",
       "    </tr>\n",
       "    <tr>\n",
       "      <th>1973</th>\n",
       "      <td>4758</td>\n",
       "      <td>4866</td>\n",
       "      <td>1437</td>\n",
       "      <td>54</td>\n",
       "      <td>0</td>\n",
       "      <td>0</td>\n",
       "      <td>0</td>\n",
       "    </tr>\n",
       "    <tr>\n",
       "      <th>1975</th>\n",
       "      <td>0</td>\n",
       "      <td>0</td>\n",
       "      <td>0</td>\n",
       "      <td>4</td>\n",
       "      <td>0</td>\n",
       "      <td>0</td>\n",
       "      <td>0</td>\n",
       "    </tr>\n",
       "  </tbody>\n",
       "</table>\n",
       "</div>"
      ],
      "text/plain": [
       "TGTCOUNTRY  CAMBODIA    LAOS  NORTH VIETNAM  SOUTH VIETNAM  THAILAND  UNKNOWN  \\\n",
       "year                                                                            \n",
       "1965               0    1197           2596           9238         0        0   \n",
       "1966               0   16825          24261           4918        11        0   \n",
       "1967              18   29738          69420           1004         6        0   \n",
       "1968               0  105046         108110           3763        81       19   \n",
       "1969              23  167010            729           1353        41        4   \n",
       "1970            6099  209273           1801           2684         7        0   \n",
       "1971            1130  107675           3342           7932         0        0   \n",
       "1972            1243   48531          34281          23303         0        0   \n",
       "1973            4758    4866           1437             54         0        0   \n",
       "1975               0       0              0              4         0        0   \n",
       "\n",
       "TGTCOUNTRY  WESTPAC WATERS  \n",
       "year                        \n",
       "1965                     0  \n",
       "1966                     0  \n",
       "1967                     0  \n",
       "1968                     6  \n",
       "1969                     0  \n",
       "1970                     0  \n",
       "1971                     0  \n",
       "1972                     0  \n",
       "1973                     0  \n",
       "1975                     0  "
      ]
     },
     "execution_count": 52,
     "metadata": {},
     "output_type": "execute_result"
    }
   ],
   "source": [
    "pd.crosstab(strike_df['year'], strike_df['TGTCOUNTRY'])"
   ]
  },
  {
   "cell_type": "markdown",
   "metadata": {
    "id": "eX7VzKYngOj5"
   },
   "source": [
    "And again, especially with whatever domain knowledge we possess, we can detect patterns in this table that help us understand the underlying phenomena:\n",
    "\n",
    "For example, we see that bombing runs in **Cambodia** were sporadic before 1970, but quickly jumped to a high of 6,099 in 1970, mirroring a turbulent event in Cambodian history that year\n",
    "\n",
    "*([very long story short,] Cambodia's somewhat-popular leader <a href='https://en.wikipedia.org/wiki/Norodom_Sihanouk' target='_blank'>Prince Sihanouk</a> was overthrown in a US-sponsored coup in 1970 and replaced by the less-popular army general <a href='https://en.wikipedia.org/wiki/Lon_Nol' target='_blank'>Lon Nol</a>, leading the now-exiled-in-China Sihanouk to devote his energy towards supporting/accelerating communist [mostly, though not entirely, Khmer Rouge] resistance to the Lon Nol military dictatorship, which in turn led the US to begin bombing Khmer Rouge/other communist strongholds in support of the regime)*\n",
    "\n",
    "More relevant to our discussion of **Laos** in the beginning, though, we can also start to see how Laos became the most-bombed territory in history: unlike the other countries, wherein bombings had high \"spikes\" in some years but low-level \"lulls\" in other years, Laos was continually bombed over 100,000 times per year every year between 1968 and 1971 (inclusive)."
   ]
  },
  {
   "cell_type": "markdown",
   "metadata": {
    "id": "NGmizxEskKK5"
   },
   "source": [
    "## (7) Seaborn Time!"
   ]
  },
  {
   "cell_type": "markdown",
   "metadata": {
    "id": "xARp9p7llEOJ"
   },
   "source": [
    "Since Seaborn is built on top of `matplotlib`, we usually import these two libraries in the following order, and use the aliases `plt` and `sns`, respectively\""
   ]
  },
  {
   "cell_type": "code",
   "execution_count": 53,
   "metadata": {
    "ExecuteTime": {
     "end_time": "2023-09-30T08:57:59.688643Z",
     "start_time": "2023-09-30T08:57:59.666086Z"
    },
    "id": "16fCgc0ifvE3"
   },
   "outputs": [],
   "source": [
    "import matplotlib.pyplot as plt\n",
    "import seaborn as sns"
   ]
  },
  {
   "cell_type": "markdown",
   "metadata": {
    "id": "p_3ytXB8SmJ0"
   },
   "source": [
    "### (7.1) Aggregation"
   ]
  },
  {
   "cell_type": "markdown",
   "metadata": {
    "id": "OV73Oad0lB5N"
   },
   "source": [
    "Now, since this data has a much larger number of rows than the cars-by-country dataset used in the W06 lab demonstration, using `sns.catplot()` will take a while to produce the same types of visualizations. So for our use case, we're going to start off by working with **aggregated** data, to make the number of datapoints manageable and quickly visualizable using Seaborn.\n",
    "\n",
    "As mentioned earlier (and as we saw in the cross-tabulation), we can start to get a good feel for \"what's going on\" in the data by focusing on year-by-year statistics first, before \"zooming in\" on the particular months and/or days of the bombings. So, let's perform that aggregation now: we'll use Pandas' `agg()` function to **count** the number of bombings per year in each country, while **averaging** the latitude and longitude and finding the **maximum** of the number of weapons delivered.\n",
    "\n",
    "While averaging and maximizing might be a bit contrived in this example, in general this is where a lot of your thought should go when you are first starting on EDA! You should ask yourself which variables you want to **group by** (country, in our case) and which variables you want to **aggregate**, and for the latter set of variables which **specific aggregations you want to apply** that will best allow you to answer the types of EDA questions you are brainstorming.\n",
    "\n",
    "For example, while at first I thought about computing the **mode** of the longitude and latitude per year, to try and find the most-bombed location in each country during each year, in reality the latitude and longitude values are too fine-grained, in that a single village being bombed might 100 times might show up as 100 different sets of coordinates, unless two planes happened to bomb the exact same point on earth down to the maximum possible level of precision in the numeric recording mechanism used by the US military, not a very likely prospect\n",
    "\n",
    "*(If that was confusing, it's the same intuition around why, if we had 100 students each draw a unit circle and measure that circle's circumference, all of these values would be approximately $2\\pi$, and yet it would be unlikely to find that any two students' values were equal down to 50 or 100 decimal places)*\n",
    "\n",
    "So, let's run the `agg()` function to compute these aggregate values! There are a ton of different ways to use this function, syntax-wise, but I find the following syntax to be the most flexible for my most common use-cases (if you are curious about other ways to use it, or you can't get this to work as a \"template\" for the aggregations you are trying to perform, let me know/schedule an office hour!)\n",
    "\n",
    "*(Also, we are now going to drop the extraneous `id` functions that we kept along until now: I kept them in there because I want you to get comfortable with cases where you keep variables around just in case you end up needing them later on in your analysis, but since `agg()` requires an aggregation rule for each column in the dataset, I will just drop whatever values we're not including in the aggregation at this point.)*"
   ]
  },
  {
   "cell_type": "code",
   "execution_count": 54,
   "metadata": {
    "ExecuteTime": {
     "end_time": "2023-09-30T09:15:39.198420Z",
     "start_time": "2023-09-30T09:15:39.161912Z"
    },
    "colab": {
     "base_uri": "https://localhost:8080/"
    },
    "id": "W4cY8Rj6pkfd",
    "outputId": "5b99b6d3-565e-49e8-8430-1e344a15c898"
   },
   "outputs": [
    {
     "data": {
      "text/plain": [
       "Index(['MFUNC_DESC', 'MISSIONID', 'TGTCOUNTRY', 'THOR_DATA_VIET_ID', 'MSNDATE',\n",
       "       'SOURCEID', 'NUMWEAPONSDELIVERED', 'TGTTYPE', 'TGTLATDD_DDD_WGS84',\n",
       "       'TGTLONDDD_DDD_WGS84', 'year'],\n",
       "      dtype='object')"
      ]
     },
     "execution_count": 54,
     "metadata": {},
     "output_type": "execute_result"
    }
   ],
   "source": [
    "# Printing the column names here for reference\n",
    "strike_df.columns"
   ]
  },
  {
   "cell_type": "markdown",
   "metadata": {
    "id": "8wV2K7Duryog"
   },
   "source": [
    "Here, so that I have some actual column in the dataset that I can aggregate to get the **count** per group, I make a column called `num_bombings` filled with the value `1` for now, so that when we aggregate this column by **summing it**, the column will thereafter contain the **count** of the number of observations (bombings) per group"
   ]
  },
  {
   "cell_type": "code",
   "execution_count": 55,
   "metadata": {
    "ExecuteTime": {
     "end_time": "2023-09-30T09:15:40.664861Z",
     "start_time": "2023-09-30T09:15:40.636613Z"
    },
    "id": "wUy1gWdLsKT3"
   },
   "outputs": [],
   "source": [
    "strike_df['num_bombings'] = 1"
   ]
  },
  {
   "cell_type": "code",
   "execution_count": 56,
   "metadata": {
    "ExecuteTime": {
     "end_time": "2023-09-30T09:15:40.890058Z",
     "start_time": "2023-09-30T09:15:40.881679Z"
    },
    "id": "VFjqsjlhosfh"
   },
   "outputs": [],
   "source": [
    "# And specifying columns to keep, that will be used as either *group* or\n",
    "# *aggregated* variables\n",
    "cols_to_keep = [\n",
    "    'TGTCOUNTRY',\n",
    "    'year',\n",
    "    'TGTTYPE',\n",
    "    'NUMWEAPONSDELIVERED',\n",
    "    'TGTLATDD_DDD_WGS84',\n",
    "    'TGTLONDDD_DDD_WGS84',\n",
    "    'num_bombings'\n",
    "]"
   ]
  },
  {
   "cell_type": "code",
   "execution_count": 57,
   "metadata": {
    "ExecuteTime": {
     "end_time": "2023-09-30T09:15:41.266488Z",
     "start_time": "2023-09-30T09:15:41.122217Z"
    },
    "id": "AVptwB6wr6nq"
   },
   "outputs": [],
   "source": [
    "# And run!\n",
    "agg_df = strike_df[cols_to_keep].groupby(['TGTCOUNTRY','year','TGTTYPE']).agg(\n",
    "    mean_weapons = ('NUMWEAPONSDELIVERED', 'mean'),\n",
    "    num_bombings = ('num_bombings', 'sum'),\n",
    "    mean_lat = ('TGTLATDD_DDD_WGS84', 'mean'),\n",
    "    mean_lon = ('TGTLONDDD_DDD_WGS84', 'mean'),\n",
    ")"
   ]
  },
  {
   "cell_type": "markdown",
   "metadata": {
    "id": "EuUJN6LdszFQ"
   },
   "source": [
    "As we can see from the output of `head()`, it looks like it **has** aggregated the data as we wanted, it's just a bit messy since the aggregated data is grouped in a three-level hierarchy (country->year->target type):"
   ]
  },
  {
   "cell_type": "code",
   "execution_count": 58,
   "metadata": {
    "ExecuteTime": {
     "end_time": "2023-09-30T09:15:42.336729Z",
     "start_time": "2023-09-30T09:15:42.312362Z"
    },
    "colab": {
     "base_uri": "https://localhost:8080/",
     "height": 238
    },
    "id": "heoB_zJ9sqld",
    "outputId": "b5db0643-e00a-4bda-c4ff-07b90e8017b1"
   },
   "outputs": [
    {
     "data": {
      "text/html": [
       "<div>\n",
       "<style scoped>\n",
       "    .dataframe tbody tr th:only-of-type {\n",
       "        vertical-align: middle;\n",
       "    }\n",
       "\n",
       "    .dataframe tbody tr th {\n",
       "        vertical-align: top;\n",
       "    }\n",
       "\n",
       "    .dataframe thead th {\n",
       "        text-align: right;\n",
       "    }\n",
       "</style>\n",
       "<table border=\"1\" class=\"dataframe\">\n",
       "  <thead>\n",
       "    <tr style=\"text-align: right;\">\n",
       "      <th></th>\n",
       "      <th></th>\n",
       "      <th></th>\n",
       "      <th>mean_weapons</th>\n",
       "      <th>num_bombings</th>\n",
       "      <th>mean_lat</th>\n",
       "      <th>mean_lon</th>\n",
       "    </tr>\n",
       "    <tr>\n",
       "      <th>TGTCOUNTRY</th>\n",
       "      <th>year</th>\n",
       "      <th>TGTTYPE</th>\n",
       "      <th></th>\n",
       "      <th></th>\n",
       "      <th></th>\n",
       "      <th></th>\n",
       "    </tr>\n",
       "  </thead>\n",
       "  <tbody>\n",
       "    <tr>\n",
       "      <th rowspan=\"5\" valign=\"top\">CAMBODIA</th>\n",
       "      <th rowspan=\"3\" valign=\"top\">1967</th>\n",
       "      <th>AREA\\DEPOT</th>\n",
       "      <td>3.333333</td>\n",
       "      <td>12</td>\n",
       "      <td>14.693574</td>\n",
       "      <td>106.988342</td>\n",
       "    </tr>\n",
       "    <tr>\n",
       "      <th>ROAD</th>\n",
       "      <td>4.000000</td>\n",
       "      <td>2</td>\n",
       "      <td>14.675000</td>\n",
       "      <td>106.783333</td>\n",
       "    </tr>\n",
       "    <tr>\n",
       "      <th>TRUCK PARK\\STOP</th>\n",
       "      <td>12.750000</td>\n",
       "      <td>4</td>\n",
       "      <td>14.573833</td>\n",
       "      <td>106.990167</td>\n",
       "    </tr>\n",
       "    <tr>\n",
       "      <th rowspan=\"2\" valign=\"top\">1969</th>\n",
       "      <th>ANTI-AIRCRAFT</th>\n",
       "      <td>5.000000</td>\n",
       "      <td>11</td>\n",
       "      <td>14.298727</td>\n",
       "      <td>107.505909</td>\n",
       "    </tr>\n",
       "    <tr>\n",
       "      <th>UNKNOWN\\UNIDENTIFIED</th>\n",
       "      <td>2.333333</td>\n",
       "      <td>12</td>\n",
       "      <td>14.593815</td>\n",
       "      <td>107.539481</td>\n",
       "    </tr>\n",
       "  </tbody>\n",
       "</table>\n",
       "</div>"
      ],
      "text/plain": [
       "                                      mean_weapons  num_bombings   mean_lat  \\\n",
       "TGTCOUNTRY year TGTTYPE                                                       \n",
       "CAMBODIA   1967 AREA\\DEPOT                3.333333            12  14.693574   \n",
       "                ROAD                      4.000000             2  14.675000   \n",
       "                TRUCK PARK\\STOP          12.750000             4  14.573833   \n",
       "           1969 ANTI-AIRCRAFT             5.000000            11  14.298727   \n",
       "                UNKNOWN\\UNIDENTIFIED      2.333333            12  14.593815   \n",
       "\n",
       "                                        mean_lon  \n",
       "TGTCOUNTRY year TGTTYPE                           \n",
       "CAMBODIA   1967 AREA\\DEPOT            106.988342  \n",
       "                ROAD                  106.783333  \n",
       "                TRUCK PARK\\STOP       106.990167  \n",
       "           1969 ANTI-AIRCRAFT         107.505909  \n",
       "                UNKNOWN\\UNIDENTIFIED  107.539481  "
      ]
     },
     "execution_count": 58,
     "metadata": {},
     "output_type": "execute_result"
    }
   ],
   "source": [
    "agg_df.head()"
   ]
  },
  {
   "cell_type": "markdown",
   "metadata": {
    "id": "OIaqyTIhr6D5"
   },
   "source": [
    "If this type of hierarchical index is what you want for your use-case, then you're done! In this case, though, we'd like to analyze various relationships among these variables which are unrelated to the specific country->year->target type hierarchy, so we'll just use `reset_index()` (remembering to also include the `inplace = True` option!) to convert the hierarchical index columns into \"regular\" data columns:"
   ]
  },
  {
   "cell_type": "code",
   "execution_count": 59,
   "metadata": {
    "ExecuteTime": {
     "end_time": "2023-09-30T09:15:48.105673Z",
     "start_time": "2023-09-30T09:15:48.070885Z"
    },
    "colab": {
     "base_uri": "https://localhost:8080/",
     "height": 424
    },
    "id": "MgRAKqlrtUFR",
    "outputId": "d25c5f63-5d07-43bb-e5a9-d3a1f07849bb"
   },
   "outputs": [
    {
     "data": {
      "text/html": [
       "<div>\n",
       "<style scoped>\n",
       "    .dataframe tbody tr th:only-of-type {\n",
       "        vertical-align: middle;\n",
       "    }\n",
       "\n",
       "    .dataframe tbody tr th {\n",
       "        vertical-align: top;\n",
       "    }\n",
       "\n",
       "    .dataframe thead th {\n",
       "        text-align: right;\n",
       "    }\n",
       "</style>\n",
       "<table border=\"1\" class=\"dataframe\">\n",
       "  <thead>\n",
       "    <tr style=\"text-align: right;\">\n",
       "      <th></th>\n",
       "      <th>TGTCOUNTRY</th>\n",
       "      <th>year</th>\n",
       "      <th>TGTTYPE</th>\n",
       "      <th>mean_weapons</th>\n",
       "      <th>num_bombings</th>\n",
       "      <th>mean_lat</th>\n",
       "      <th>mean_lon</th>\n",
       "    </tr>\n",
       "  </thead>\n",
       "  <tbody>\n",
       "    <tr>\n",
       "      <th>0</th>\n",
       "      <td>CAMBODIA</td>\n",
       "      <td>1967</td>\n",
       "      <td>AREA\\DEPOT</td>\n",
       "      <td>3.333333</td>\n",
       "      <td>12</td>\n",
       "      <td>14.693574</td>\n",
       "      <td>106.988342</td>\n",
       "    </tr>\n",
       "    <tr>\n",
       "      <th>1</th>\n",
       "      <td>CAMBODIA</td>\n",
       "      <td>1967</td>\n",
       "      <td>ROAD</td>\n",
       "      <td>4.000000</td>\n",
       "      <td>2</td>\n",
       "      <td>14.675000</td>\n",
       "      <td>106.783333</td>\n",
       "    </tr>\n",
       "    <tr>\n",
       "      <th>2</th>\n",
       "      <td>CAMBODIA</td>\n",
       "      <td>1967</td>\n",
       "      <td>TRUCK PARK\\STOP</td>\n",
       "      <td>12.750000</td>\n",
       "      <td>4</td>\n",
       "      <td>14.573833</td>\n",
       "      <td>106.990167</td>\n",
       "    </tr>\n",
       "    <tr>\n",
       "      <th>3</th>\n",
       "      <td>CAMBODIA</td>\n",
       "      <td>1969</td>\n",
       "      <td>ANTI-AIRCRAFT</td>\n",
       "      <td>5.000000</td>\n",
       "      <td>11</td>\n",
       "      <td>14.298727</td>\n",
       "      <td>107.505909</td>\n",
       "    </tr>\n",
       "    <tr>\n",
       "      <th>4</th>\n",
       "      <td>CAMBODIA</td>\n",
       "      <td>1969</td>\n",
       "      <td>UNKNOWN\\UNIDENTIFIED</td>\n",
       "      <td>2.333333</td>\n",
       "      <td>12</td>\n",
       "      <td>14.593815</td>\n",
       "      <td>107.539481</td>\n",
       "    </tr>\n",
       "    <tr>\n",
       "      <th>...</th>\n",
       "      <td>...</td>\n",
       "      <td>...</td>\n",
       "      <td>...</td>\n",
       "      <td>...</td>\n",
       "      <td>...</td>\n",
       "      <td>...</td>\n",
       "      <td>...</td>\n",
       "    </tr>\n",
       "    <tr>\n",
       "      <th>1498</th>\n",
       "      <td>UNKNOWN</td>\n",
       "      <td>1968</td>\n",
       "      <td>ROAD</td>\n",
       "      <td>0.800000</td>\n",
       "      <td>5</td>\n",
       "      <td>18.925000</td>\n",
       "      <td>105.595900</td>\n",
       "    </tr>\n",
       "    <tr>\n",
       "      <th>1499</th>\n",
       "      <td>UNKNOWN</td>\n",
       "      <td>1968</td>\n",
       "      <td>SEGMENT\\TRANS ROUTE</td>\n",
       "      <td>6.833333</td>\n",
       "      <td>6</td>\n",
       "      <td>18.401953</td>\n",
       "      <td>105.744138</td>\n",
       "    </tr>\n",
       "    <tr>\n",
       "      <th>1500</th>\n",
       "      <td>UNKNOWN</td>\n",
       "      <td>1968</td>\n",
       "      <td>WATER VEHICLES</td>\n",
       "      <td>6.000000</td>\n",
       "      <td>1</td>\n",
       "      <td>17.700000</td>\n",
       "      <td>106.483000</td>\n",
       "    </tr>\n",
       "    <tr>\n",
       "      <th>1501</th>\n",
       "      <td>UNKNOWN</td>\n",
       "      <td>1969</td>\n",
       "      <td>UNKNOWN\\UNIDENTIFIED</td>\n",
       "      <td>0.000000</td>\n",
       "      <td>4</td>\n",
       "      <td>NaN</td>\n",
       "      <td>NaN</td>\n",
       "    </tr>\n",
       "    <tr>\n",
       "      <th>1502</th>\n",
       "      <td>WESTPAC WATERS</td>\n",
       "      <td>1968</td>\n",
       "      <td>NO TARGET ACQUIRED</td>\n",
       "      <td>0.000000</td>\n",
       "      <td>6</td>\n",
       "      <td>17.566667</td>\n",
       "      <td>107.044389</td>\n",
       "    </tr>\n",
       "  </tbody>\n",
       "</table>\n",
       "<p>1503 rows × 7 columns</p>\n",
       "</div>"
      ],
      "text/plain": [
       "          TGTCOUNTRY  year               TGTTYPE  mean_weapons  num_bombings  \\\n",
       "0           CAMBODIA  1967            AREA\\DEPOT      3.333333            12   \n",
       "1           CAMBODIA  1967                  ROAD      4.000000             2   \n",
       "2           CAMBODIA  1967       TRUCK PARK\\STOP     12.750000             4   \n",
       "3           CAMBODIA  1969         ANTI-AIRCRAFT      5.000000            11   \n",
       "4           CAMBODIA  1969  UNKNOWN\\UNIDENTIFIED      2.333333            12   \n",
       "...              ...   ...                   ...           ...           ...   \n",
       "1498         UNKNOWN  1968                  ROAD      0.800000             5   \n",
       "1499         UNKNOWN  1968   SEGMENT\\TRANS ROUTE      6.833333             6   \n",
       "1500         UNKNOWN  1968        WATER VEHICLES      6.000000             1   \n",
       "1501         UNKNOWN  1969  UNKNOWN\\UNIDENTIFIED      0.000000             4   \n",
       "1502  WESTPAC WATERS  1968    NO TARGET ACQUIRED      0.000000             6   \n",
       "\n",
       "       mean_lat    mean_lon  \n",
       "0     14.693574  106.988342  \n",
       "1     14.675000  106.783333  \n",
       "2     14.573833  106.990167  \n",
       "3     14.298727  107.505909  \n",
       "4     14.593815  107.539481  \n",
       "...         ...         ...  \n",
       "1498  18.925000  105.595900  \n",
       "1499  18.401953  105.744138  \n",
       "1500  17.700000  106.483000  \n",
       "1501        NaN         NaN  \n",
       "1502  17.566667  107.044389  \n",
       "\n",
       "[1503 rows x 7 columns]"
      ]
     },
     "execution_count": 59,
     "metadata": {},
     "output_type": "execute_result"
    }
   ],
   "source": [
    "agg_df.reset_index(inplace=True)\n",
    "agg_df"
   ]
  },
  {
   "cell_type": "markdown",
   "metadata": {
    "id": "jQ7xVfJtty6k"
   },
   "source": [
    "As a final consideration before we create our Seaborn `catplot`s: if we had spent more time cleaning the `TGTTYPE` variable---for example, by collapsing the individual values down into a smaller set of categories like \"people\", \"vehicles\", \"buildings\"---that would provide us with another easy-to-analyze categorical variable. For the sake of getting through the visualizations without more code, though, I won't be generating plots involving this variable, so I'm now going to aggregate our dataset one more time, to sum/average over the different target-type values for each (country, year) pair. But, if you decide you want to use this dataset for a project, you can stop here and clean `TGTTYPE` to carry out an EDA investigation in a different direction!"
   ]
  },
  {
   "cell_type": "code",
   "execution_count": 60,
   "metadata": {
    "ExecuteTime": {
     "end_time": "2023-09-30T09:15:49.228648Z",
     "start_time": "2023-09-30T09:15:49.194908Z"
    },
    "id": "gkL7Ieqduc1R"
   },
   "outputs": [],
   "source": [
    "country_year_df = strike_df.groupby(['TGTCOUNTRY','year']).agg(\n",
    "    mean_weapons = ('NUMWEAPONSDELIVERED', 'mean'),\n",
    "    num_bombings = ('num_bombings', 'sum'),\n",
    "    mean_lat = ('TGTLATDD_DDD_WGS84', 'mean'),\n",
    "    mean_lon = ('TGTLONDDD_DDD_WGS84', 'mean'),\n",
    ").reset_index()"
   ]
  },
  {
   "cell_type": "markdown",
   "metadata": {
    "id": "cVzhIbk7SuCL"
   },
   "source": [
    "### (7.2) Categorical Plots with `catplot()`"
   ]
  },
  {
   "cell_type": "markdown",
   "metadata": {
    "id": "HG5oFXB6vVeg"
   },
   "source": [
    "Let's generate our first `catplot()`! Here we'll create a non-stacked bar plot, where the x-axis will represent years and the y-axis will represent number of bombings, while the bars themselves will be **colored** by country (the `hue` option in `catplot`:"
   ]
  },
  {
   "cell_type": "code",
   "execution_count": 62,
   "metadata": {
    "ExecuteTime": {
     "end_time": "2023-09-30T09:15:54.612768Z",
     "start_time": "2023-09-30T09:15:54.447333Z"
    },
    "colab": {
     "base_uri": "https://localhost:8080/",
     "height": 506
    },
    "id": "WIwtKw90kNE1",
    "outputId": "8199f586-66d9-436a-8617-5e929212802a"
   },
   "outputs": [
    {
     "name": "stderr",
     "output_type": "stream",
     "text": [
      "/Users/jpj/.pyenv/versions/3.11.5/lib/python3.11/site-packages/seaborn/_oldcore.py:1498: FutureWarning: is_categorical_dtype is deprecated and will be removed in a future version. Use isinstance(dtype, CategoricalDtype) instead\n",
      "  if pd.api.types.is_categorical_dtype(vector):\n",
      "/Users/jpj/.pyenv/versions/3.11.5/lib/python3.11/site-packages/seaborn/_oldcore.py:1498: FutureWarning: is_categorical_dtype is deprecated and will be removed in a future version. Use isinstance(dtype, CategoricalDtype) instead\n",
      "  if pd.api.types.is_categorical_dtype(vector):\n",
      "/Users/jpj/.pyenv/versions/3.11.5/lib/python3.11/site-packages/seaborn/_oldcore.py:1498: FutureWarning: is_categorical_dtype is deprecated and will be removed in a future version. Use isinstance(dtype, CategoricalDtype) instead\n",
      "  if pd.api.types.is_categorical_dtype(vector):\n",
      "/Users/jpj/.pyenv/versions/3.11.5/lib/python3.11/site-packages/seaborn/_oldcore.py:1498: FutureWarning: is_categorical_dtype is deprecated and will be removed in a future version. Use isinstance(dtype, CategoricalDtype) instead\n",
      "  if pd.api.types.is_categorical_dtype(vector):\n",
      "/Users/jpj/.pyenv/versions/3.11.5/lib/python3.11/site-packages/seaborn/_oldcore.py:1498: FutureWarning: is_categorical_dtype is deprecated and will be removed in a future version. Use isinstance(dtype, CategoricalDtype) instead\n",
      "  if pd.api.types.is_categorical_dtype(vector):\n",
      "/Users/jpj/.pyenv/versions/3.11.5/lib/python3.11/site-packages/seaborn/_oldcore.py:1498: FutureWarning: is_categorical_dtype is deprecated and will be removed in a future version. Use isinstance(dtype, CategoricalDtype) instead\n",
      "  if pd.api.types.is_categorical_dtype(vector):\n"
     ]
    },
    {
     "data": {
      "image/png": "[encoded data removed]",
      "text/plain": [
       "<Figure size 677.625x500 with 1 Axes>"
      ]
     },
     "metadata": {},
     "output_type": "display_data"
    }
   ],
   "source": [
    "#| warning: false\n",
    "sns.catplot(\n",
    "    data = country_year_df,\n",
    "    kind = \"bar\",\n",
    "    x = 'year',\n",
    "    y = 'num_bombings',\n",
    "    hue = 'TGTCOUNTRY',\n",
    "    orient = 'v'\n",
    ")\n",
    "plt.show()"
   ]
  },
  {
   "cell_type": "markdown",
   "metadata": {
    "id": "dQHigsdGvj9Q"
   },
   "source": [
    "We can already infer some things from this plot, but since there were so few bombings in Thailand and in the \"Unknown\" and \"WESTPAC WATERS\" categories, let's exclude these to make the plot more readable (it may be tempting to drop them, and it would typically be ok in many cases, but data-science-wise it's a bit sketchy in the sense that it would skew our results if we wanted to compute e.g. the **proportion of all bombings** in each country at some point in our analysis later on)"
   ]
  },
  {
   "cell_type": "code",
   "execution_count": 63,
   "metadata": {
    "ExecuteTime": {
     "end_time": "2023-09-30T09:15:58.702544Z",
     "start_time": "2023-09-30T09:15:58.401700Z"
    },
    "colab": {
     "base_uri": "https://localhost:8080/",
     "height": 506
    },
    "id": "0d2iE7nskfD8",
    "outputId": "a61fd7ef-9e49-4c18-b8fa-54a668ca4ca5"
   },
   "outputs": [
    {
     "name": "stderr",
     "output_type": "stream",
     "text": [
      "/Users/jpj/.pyenv/versions/3.11.5/lib/python3.11/site-packages/seaborn/_oldcore.py:1498: FutureWarning: is_categorical_dtype is deprecated and will be removed in a future version. Use isinstance(dtype, CategoricalDtype) instead\n",
      "  if pd.api.types.is_categorical_dtype(vector):\n",
      "/Users/jpj/.pyenv/versions/3.11.5/lib/python3.11/site-packages/seaborn/_oldcore.py:1498: FutureWarning: is_categorical_dtype is deprecated and will be removed in a future version. Use isinstance(dtype, CategoricalDtype) instead\n",
      "  if pd.api.types.is_categorical_dtype(vector):\n",
      "/Users/jpj/.pyenv/versions/3.11.5/lib/python3.11/site-packages/seaborn/_oldcore.py:1498: FutureWarning: is_categorical_dtype is deprecated and will be removed in a future version. Use isinstance(dtype, CategoricalDtype) instead\n",
      "  if pd.api.types.is_categorical_dtype(vector):\n",
      "/Users/jpj/.pyenv/versions/3.11.5/lib/python3.11/site-packages/seaborn/_oldcore.py:1498: FutureWarning: is_categorical_dtype is deprecated and will be removed in a future version. Use isinstance(dtype, CategoricalDtype) instead\n",
      "  if pd.api.types.is_categorical_dtype(vector):\n",
      "/Users/jpj/.pyenv/versions/3.11.5/lib/python3.11/site-packages/seaborn/_oldcore.py:1498: FutureWarning: is_categorical_dtype is deprecated and will be removed in a future version. Use isinstance(dtype, CategoricalDtype) instead\n",
      "  if pd.api.types.is_categorical_dtype(vector):\n",
      "/Users/jpj/.pyenv/versions/3.11.5/lib/python3.11/site-packages/seaborn/_oldcore.py:1498: FutureWarning: is_categorical_dtype is deprecated and will be removed in a future version. Use isinstance(dtype, CategoricalDtype) instead\n",
      "  if pd.api.types.is_categorical_dtype(vector):\n"
     ]
    },
    {
     "data": {
      "image/png": "[encoded data removed]",
      "text/plain": [
       "<Figure size 665.75x500 with 1 Axes>"
      ]
     },
     "metadata": {},
     "output_type": "display_data"
    }
   ],
   "source": [
    "countries_to_keep = [\n",
    "    'CAMBODIA',\n",
    "    'LAOS',\n",
    "    'NORTH VIETNAM',\n",
    "    'SOUTH VIETNAM'\n",
    "]\n",
    "country_year_sub_df = country_year_df.loc[\n",
    "    country_year_df['TGTCOUNTRY'].isin(countries_to_keep),\n",
    "].copy()\n",
    "sns.catplot(\n",
    "    data = country_year_sub_df,\n",
    "    kind = \"bar\",\n",
    "    x = 'year',\n",
    "    y = 'num_bombings',\n",
    "    hue = 'TGTCOUNTRY',\n",
    "    orient = 'v'\n",
    ")\n",
    "plt.show()"
   ]
  },
  {
   "cell_type": "markdown",
   "metadata": {
    "id": "feqTvm8SwfwH"
   },
   "source": [
    "So for me, at least, the plot in this form really already drives home the point from the beginning of the writeup: that \"The Vietnam War\" really could be called \"The Vietnam War Plus The Continuous Onslaught Of Modern Weaponry Rained Down Upon Laos, A Similarly Poor And Agrarian Country With A Fraction Of The Population Of Vietnam\"."
   ]
  },
  {
   "cell_type": "markdown",
   "metadata": {},
   "source": [
    "### (7.3) Plotting Non-Aggregated Data"
   ]
  },
  {
   "cell_type": "markdown",
   "metadata": {},
   "source": [
    "Now that we've seen how to make a basic `catplot()` using aggregated data, we can move back to the **non**-aggregated (individual-bombing level) data to see how `catplot()` can **automatically** aggregate data for us, in whatever way enables it to make the plot we ask for. This is a super powerful function, in that sense, it just runs much more slowly (so I wanted to show some quick-to-generate examples first!)\n",
    "\n",
    "Looking again at the columns in `strike_df` here, as a reminder:"
   ]
  },
  {
   "cell_type": "code",
   "execution_count": 67,
   "metadata": {
    "ExecuteTime": {
     "end_time": "2023-09-30T09:12:51.736479Z",
     "start_time": "2023-09-30T09:12:51.722323Z"
    },
    "collapsed": false
   },
   "outputs": [
    {
     "data": {
      "text/plain": [
       "Index(['MFUNC_DESC', 'MISSIONID', 'TGTCOUNTRY', 'THOR_DATA_VIET_ID', 'MSNDATE',\n",
       "       'SOURCEID', 'NUMWEAPONSDELIVERED', 'TGTTYPE', 'TGTLATDD_DDD_WGS84',\n",
       "       'TGTLONDDD_DDD_WGS84', 'year', 'num_bombings'],\n",
       "      dtype='object')"
      ]
     },
     "execution_count": 67,
     "metadata": {},
     "output_type": "execute_result"
    }
   ],
   "source": [
    "strike_df.columns"
   ]
  },
  {
   "cell_type": "markdown",
   "metadata": {},
   "source": [
    "We see that so far we've neglected the `NUMWEAPONSDELIVERED` variable. Let's use a **violin plot** this time to see what the data within this variable looks like:"
   ]
  },
  {
   "cell_type": "code",
   "execution_count": 68,
   "metadata": {
    "ExecuteTime": {
     "end_time": "2023-09-30T09:13:50.309981Z",
     "start_time": "2023-09-30T09:13:48.231290Z"
    },
    "id": "IxffXg6UwZdU"
   },
   "outputs": [
    {
     "name": "stderr",
     "output_type": "stream",
     "text": [
      "/Users/jpj/.pyenv/versions/3.11.5/lib/python3.11/site-packages/seaborn/_oldcore.py:1498: FutureWarning: is_categorical_dtype is deprecated and will be removed in a future version. Use isinstance(dtype, CategoricalDtype) instead\n",
      "  if pd.api.types.is_categorical_dtype(vector):\n",
      "/Users/jpj/.pyenv/versions/3.11.5/lib/python3.11/site-packages/seaborn/_oldcore.py:1498: FutureWarning: is_categorical_dtype is deprecated and will be removed in a future version. Use isinstance(dtype, CategoricalDtype) instead\n",
      "  if pd.api.types.is_categorical_dtype(vector):\n",
      "/Users/jpj/.pyenv/versions/3.11.5/lib/python3.11/site-packages/seaborn/_oldcore.py:1498: FutureWarning: is_categorical_dtype is deprecated and will be removed in a future version. Use isinstance(dtype, CategoricalDtype) instead\n",
      "  if pd.api.types.is_categorical_dtype(vector):\n",
      "/Users/jpj/.pyenv/versions/3.11.5/lib/python3.11/site-packages/seaborn/_oldcore.py:1498: FutureWarning: is_categorical_dtype is deprecated and will be removed in a future version. Use isinstance(dtype, CategoricalDtype) instead\n",
      "  if pd.api.types.is_categorical_dtype(vector):\n",
      "/Users/jpj/.pyenv/versions/3.11.5/lib/python3.11/site-packages/seaborn/_oldcore.py:1498: FutureWarning: is_categorical_dtype is deprecated and will be removed in a future version. Use isinstance(dtype, CategoricalDtype) instead\n",
      "  if pd.api.types.is_categorical_dtype(vector):\n",
      "/Users/jpj/.pyenv/versions/3.11.5/lib/python3.11/site-packages/seaborn/_oldcore.py:1498: FutureWarning: is_categorical_dtype is deprecated and will be removed in a future version. Use isinstance(dtype, CategoricalDtype) instead\n",
      "  if pd.api.types.is_categorical_dtype(vector):\n"
     ]
    },
    {
     "data": {
      "text/plain": [
       "<seaborn.axisgrid.FacetGrid at 0x17c37e150>"
      ]
     },
     "execution_count": 68,
     "metadata": {},
     "output_type": "execute_result"
    },
    {
     "data": {
      "image/png": "[encoded data removed]",
      "text/plain": [
       "<Figure size 665.75x500 with 1 Axes>"
      ]
     },
     "metadata": {},
     "output_type": "display_data"
    }
   ],
   "source": [
    "strike_sub_df = strike_df.loc[strike_df['TGTCOUNTRY'].isin(countries_to_keep),].copy()\n",
    "sns.catplot(\n",
    "    data=strike_sub_df,\n",
    "    kind='violin',\n",
    "    x = 'NUMWEAPONSDELIVERED',\n",
    "    y='TGTCOUNTRY',\n",
    "    hue='TGTCOUNTRY'\n",
    ")"
   ]
  },
  {
   "cell_type": "markdown",
   "metadata": {},
   "source": [
    "Although we now see that violin plots are probably **not** the best way to visualize this variable. In general violin plots are intended to plot the \"curvature\" of a distribution over some range of values, but in this case the distribution of our data is almost entirely concentrated at 0, with a few very extreme outlier values. We can still make some inferences, however: like how Laos was not only the **most bombed** country, but also the country which experienced the largest single bombing of the entire campaign---the extreme outlier corresponding to a bombing run where over 8000 were delivered to the target."
   ]
  },
  {
   "cell_type": "markdown",
   "metadata": {},
   "source": [
    "Finally, while we unfortunately don't have two full-on continuous numeric variables to plot in the form of (e.g.) a scatterplot, we can use the year of each mission as a type of pseudo-continous numeric variable (the full date would be even better, if we wanted to spend more time cleaning the date variable so we could visualize the day-by-day statistics), plotted against the `NUMWEAPONSDELIVERED` value for that mission (similar to the bar graph from above, but this time generated **automatically** by Seaborn from the raw, non-aggregated data):"
   ]
  },
  {
   "cell_type": "code",
   "execution_count": 75,
   "metadata": {},
   "outputs": [
    {
     "name": "stderr",
     "output_type": "stream",
     "text": [
      "/Users/jpj/.pyenv/versions/3.11.5/lib/python3.11/site-packages/seaborn/_oldcore.py:1498: FutureWarning: is_categorical_dtype is deprecated and will be removed in a future version. Use isinstance(dtype, CategoricalDtype) instead\n",
      "  if pd.api.types.is_categorical_dtype(vector):\n",
      "/Users/jpj/.pyenv/versions/3.11.5/lib/python3.11/site-packages/seaborn/_oldcore.py:1498: FutureWarning: is_categorical_dtype is deprecated and will be removed in a future version. Use isinstance(dtype, CategoricalDtype) instead\n",
      "  if pd.api.types.is_categorical_dtype(vector):\n",
      "/Users/jpj/.pyenv/versions/3.11.5/lib/python3.11/site-packages/seaborn/_oldcore.py:1498: FutureWarning: is_categorical_dtype is deprecated and will be removed in a future version. Use isinstance(dtype, CategoricalDtype) instead\n",
      "  if pd.api.types.is_categorical_dtype(vector):\n"
     ]
    },
    {
     "data": {
      "image/png": "[encoded data removed]",
      "text/plain": [
       "<Figure size 2000x500 with 4 Axes>"
      ]
     },
     "metadata": {},
     "output_type": "display_data"
    }
   ],
   "source": [
    "# Here, (1) Again we use strike_sub_df to filter out the countries outside of our 4 main countries\n",
    "# and thus make the plot slightly more readable, and (2) I'm using Pandas' sample() function to\n",
    "# make the number of points manageable for Seaborn to plot (since otherwise it takes over a minute,\n",
    "# which is mostly spent drawing nearly 1 million points that are almost entirely down near 0)\n",
    "strike_sub_sample_df = strike_sub_df.sample(10000)\n",
    "sns.lmplot(\n",
    "    data=strike_sub_sample_df, \n",
    "    x=\"year\",\n",
    "    y=\"NUMWEAPONSDELIVERED\",\n",
    "    col=\"TGTCOUNTRY\",\n",
    "    hue=\"TGTCOUNTRY\")\n",
    "plt.show()"
   ]
  },
  {
   "cell_type": "markdown",
   "metadata": {},
   "source": [
    "And from these four plots we see what we could already probably see in the **tabulations** from earlier: that Cambodia is the only country which saw a clear year-to-year **increase** in bombings experienced, from the 1970 coup onwards. As another potential \"branching path\" in our EDA journey, we could feasibly dive far more deeply into this phenomenon in the Cambodia data specifically: visualizing these bombing-rate increases at a more fine-grained daily level, for example, and seeing whether/how they relate to political and military developments in Sihanouk's/China's backing of the Khmer Rouge."
   ]
  },
  {
   "cell_type": "markdown",
   "metadata": {},
   "source": [
    "And, last but certainly not least, a **correlogram** of our **aggregated** variables, generated using the same code as used in the W06 lab demo (we first display the full `country_year_sub_df`, so we can glance back and forth between the correlations encoded as colors in the correlogram and the values themselves)"
   ]
  },
  {
   "cell_type": "code",
   "execution_count": 76,
   "metadata": {},
   "outputs": [
    {
     "data": {
      "text/html": [
       "<div>\n",
       "<style scoped>\n",
       "    .dataframe tbody tr th:only-of-type {\n",
       "        vertical-align: middle;\n",
       "    }\n",
       "\n",
       "    .dataframe tbody tr th {\n",
       "        vertical-align: top;\n",
       "    }\n",
       "\n",
       "    .dataframe thead th {\n",
       "        text-align: right;\n",
       "    }\n",
       "</style>\n",
       "<table border=\"1\" class=\"dataframe\">\n",
       "  <thead>\n",
       "    <tr style=\"text-align: right;\">\n",
       "      <th></th>\n",
       "      <th>TGTCOUNTRY</th>\n",
       "      <th>year</th>\n",
       "      <th>mean_weapons</th>\n",
       "      <th>num_bombings</th>\n",
       "      <th>mean_lat</th>\n",
       "      <th>mean_lon</th>\n",
       "    </tr>\n",
       "  </thead>\n",
       "  <tbody>\n",
       "    <tr>\n",
       "      <th>0</th>\n",
       "      <td>CAMBODIA</td>\n",
       "      <td>1967</td>\n",
       "      <td>5.500000</td>\n",
       "      <td>18</td>\n",
       "      <td>14.664901</td>\n",
       "      <td>106.965969</td>\n",
       "    </tr>\n",
       "    <tr>\n",
       "      <th>1</th>\n",
       "      <td>CAMBODIA</td>\n",
       "      <td>1969</td>\n",
       "      <td>3.608696</td>\n",
       "      <td>23</td>\n",
       "      <td>14.452686</td>\n",
       "      <td>107.523425</td>\n",
       "    </tr>\n",
       "    <tr>\n",
       "      <th>2</th>\n",
       "      <td>CAMBODIA</td>\n",
       "      <td>1970</td>\n",
       "      <td>19.907526</td>\n",
       "      <td>6099</td>\n",
       "      <td>12.656550</td>\n",
       "      <td>106.588893</td>\n",
       "    </tr>\n",
       "    <tr>\n",
       "      <th>3</th>\n",
       "      <td>CAMBODIA</td>\n",
       "      <td>1971</td>\n",
       "      <td>84.664602</td>\n",
       "      <td>1130</td>\n",
       "      <td>13.221369</td>\n",
       "      <td>106.461660</td>\n",
       "    </tr>\n",
       "    <tr>\n",
       "      <th>4</th>\n",
       "      <td>CAMBODIA</td>\n",
       "      <td>1972</td>\n",
       "      <td>80.004827</td>\n",
       "      <td>1243</td>\n",
       "      <td>12.587244</td>\n",
       "      <td>106.407726</td>\n",
       "    </tr>\n",
       "    <tr>\n",
       "      <th>5</th>\n",
       "      <td>CAMBODIA</td>\n",
       "      <td>1973</td>\n",
       "      <td>106.332072</td>\n",
       "      <td>4758</td>\n",
       "      <td>11.898209</td>\n",
       "      <td>105.176818</td>\n",
       "    </tr>\n",
       "    <tr>\n",
       "      <th>6</th>\n",
       "      <td>LAOS</td>\n",
       "      <td>1965</td>\n",
       "      <td>10.939850</td>\n",
       "      <td>1197</td>\n",
       "      <td>17.552708</td>\n",
       "      <td>105.521857</td>\n",
       "    </tr>\n",
       "    <tr>\n",
       "      <th>7</th>\n",
       "      <td>LAOS</td>\n",
       "      <td>1966</td>\n",
       "      <td>11.938068</td>\n",
       "      <td>16825</td>\n",
       "      <td>16.618527</td>\n",
       "      <td>106.264797</td>\n",
       "    </tr>\n",
       "    <tr>\n",
       "      <th>8</th>\n",
       "      <td>LAOS</td>\n",
       "      <td>1967</td>\n",
       "      <td>12.266561</td>\n",
       "      <td>29738</td>\n",
       "      <td>16.364346</td>\n",
       "      <td>106.365654</td>\n",
       "    </tr>\n",
       "    <tr>\n",
       "      <th>9</th>\n",
       "      <td>LAOS</td>\n",
       "      <td>1968</td>\n",
       "      <td>9.391200</td>\n",
       "      <td>105046</td>\n",
       "      <td>17.052071</td>\n",
       "      <td>105.898343</td>\n",
       "    </tr>\n",
       "    <tr>\n",
       "      <th>10</th>\n",
       "      <td>LAOS</td>\n",
       "      <td>1969</td>\n",
       "      <td>10.355326</td>\n",
       "      <td>167010</td>\n",
       "      <td>17.470780</td>\n",
       "      <td>105.498338</td>\n",
       "    </tr>\n",
       "    <tr>\n",
       "      <th>11</th>\n",
       "      <td>LAOS</td>\n",
       "      <td>1970</td>\n",
       "      <td>11.221041</td>\n",
       "      <td>209273</td>\n",
       "      <td>17.145868</td>\n",
       "      <td>105.686660</td>\n",
       "    </tr>\n",
       "    <tr>\n",
       "      <th>12</th>\n",
       "      <td>LAOS</td>\n",
       "      <td>1971</td>\n",
       "      <td>13.407160</td>\n",
       "      <td>107675</td>\n",
       "      <td>17.140651</td>\n",
       "      <td>105.549005</td>\n",
       "    </tr>\n",
       "    <tr>\n",
       "      <th>13</th>\n",
       "      <td>LAOS</td>\n",
       "      <td>1972</td>\n",
       "      <td>18.685891</td>\n",
       "      <td>48531</td>\n",
       "      <td>17.093275</td>\n",
       "      <td>105.228933</td>\n",
       "    </tr>\n",
       "    <tr>\n",
       "      <th>14</th>\n",
       "      <td>LAOS</td>\n",
       "      <td>1973</td>\n",
       "      <td>46.943280</td>\n",
       "      <td>4866</td>\n",
       "      <td>17.607340</td>\n",
       "      <td>104.471988</td>\n",
       "    </tr>\n",
       "    <tr>\n",
       "      <th>15</th>\n",
       "      <td>NORTH VIETNAM</td>\n",
       "      <td>1965</td>\n",
       "      <td>12.527735</td>\n",
       "      <td>2596</td>\n",
       "      <td>20.248847</td>\n",
       "      <td>105.176626</td>\n",
       "    </tr>\n",
       "    <tr>\n",
       "      <th>16</th>\n",
       "      <td>NORTH VIETNAM</td>\n",
       "      <td>1966</td>\n",
       "      <td>9.555418</td>\n",
       "      <td>24261</td>\n",
       "      <td>18.333420</td>\n",
       "      <td>106.140361</td>\n",
       "    </tr>\n",
       "    <tr>\n",
       "      <th>17</th>\n",
       "      <td>NORTH VIETNAM</td>\n",
       "      <td>1967</td>\n",
       "      <td>9.060746</td>\n",
       "      <td>69420</td>\n",
       "      <td>18.516883</td>\n",
       "      <td>106.320436</td>\n",
       "    </tr>\n",
       "    <tr>\n",
       "      <th>18</th>\n",
       "      <td>NORTH VIETNAM</td>\n",
       "      <td>1968</td>\n",
       "      <td>7.279752</td>\n",
       "      <td>108110</td>\n",
       "      <td>17.895921</td>\n",
       "      <td>106.223039</td>\n",
       "    </tr>\n",
       "    <tr>\n",
       "      <th>19</th>\n",
       "      <td>NORTH VIETNAM</td>\n",
       "      <td>1969</td>\n",
       "      <td>2.847737</td>\n",
       "      <td>729</td>\n",
       "      <td>17.957101</td>\n",
       "      <td>106.128279</td>\n",
       "    </tr>\n",
       "    <tr>\n",
       "      <th>20</th>\n",
       "      <td>NORTH VIETNAM</td>\n",
       "      <td>1970</td>\n",
       "      <td>7.349806</td>\n",
       "      <td>1801</td>\n",
       "      <td>17.063296</td>\n",
       "      <td>105.956814</td>\n",
       "    </tr>\n",
       "    <tr>\n",
       "      <th>21</th>\n",
       "      <td>NORTH VIETNAM</td>\n",
       "      <td>1971</td>\n",
       "      <td>12.736385</td>\n",
       "      <td>3342</td>\n",
       "      <td>17.170001</td>\n",
       "      <td>106.070248</td>\n",
       "    </tr>\n",
       "    <tr>\n",
       "      <th>22</th>\n",
       "      <td>NORTH VIETNAM</td>\n",
       "      <td>1972</td>\n",
       "      <td>14.750387</td>\n",
       "      <td>34281</td>\n",
       "      <td>18.364637</td>\n",
       "      <td>106.144553</td>\n",
       "    </tr>\n",
       "    <tr>\n",
       "      <th>23</th>\n",
       "      <td>NORTH VIETNAM</td>\n",
       "      <td>1973</td>\n",
       "      <td>28.956159</td>\n",
       "      <td>1437</td>\n",
       "      <td>18.439947</td>\n",
       "      <td>105.850921</td>\n",
       "    </tr>\n",
       "    <tr>\n",
       "      <th>24</th>\n",
       "      <td>SOUTH VIETNAM</td>\n",
       "      <td>1965</td>\n",
       "      <td>13.495670</td>\n",
       "      <td>9238</td>\n",
       "      <td>13.340375</td>\n",
       "      <td>107.601053</td>\n",
       "    </tr>\n",
       "    <tr>\n",
       "      <th>25</th>\n",
       "      <td>SOUTH VIETNAM</td>\n",
       "      <td>1966</td>\n",
       "      <td>13.735665</td>\n",
       "      <td>4918</td>\n",
       "      <td>13.053547</td>\n",
       "      <td>107.553177</td>\n",
       "    </tr>\n",
       "    <tr>\n",
       "      <th>26</th>\n",
       "      <td>SOUTH VIETNAM</td>\n",
       "      <td>1967</td>\n",
       "      <td>9.340637</td>\n",
       "      <td>1004</td>\n",
       "      <td>15.226087</td>\n",
       "      <td>107.357685</td>\n",
       "    </tr>\n",
       "    <tr>\n",
       "      <th>27</th>\n",
       "      <td>SOUTH VIETNAM</td>\n",
       "      <td>1968</td>\n",
       "      <td>11.776774</td>\n",
       "      <td>3763</td>\n",
       "      <td>15.712929</td>\n",
       "      <td>107.287747</td>\n",
       "    </tr>\n",
       "    <tr>\n",
       "      <th>28</th>\n",
       "      <td>SOUTH VIETNAM</td>\n",
       "      <td>1969</td>\n",
       "      <td>17.725795</td>\n",
       "      <td>1353</td>\n",
       "      <td>14.273498</td>\n",
       "      <td>107.630294</td>\n",
       "    </tr>\n",
       "    <tr>\n",
       "      <th>29</th>\n",
       "      <td>SOUTH VIETNAM</td>\n",
       "      <td>1970</td>\n",
       "      <td>8.029434</td>\n",
       "      <td>2684</td>\n",
       "      <td>14.339186</td>\n",
       "      <td>107.127581</td>\n",
       "    </tr>\n",
       "    <tr>\n",
       "      <th>30</th>\n",
       "      <td>SOUTH VIETNAM</td>\n",
       "      <td>1971</td>\n",
       "      <td>7.367625</td>\n",
       "      <td>7932</td>\n",
       "      <td>16.382974</td>\n",
       "      <td>106.494151</td>\n",
       "    </tr>\n",
       "    <tr>\n",
       "      <th>31</th>\n",
       "      <td>SOUTH VIETNAM</td>\n",
       "      <td>1972</td>\n",
       "      <td>7.496674</td>\n",
       "      <td>23303</td>\n",
       "      <td>14.872121</td>\n",
       "      <td>106.908634</td>\n",
       "    </tr>\n",
       "    <tr>\n",
       "      <th>32</th>\n",
       "      <td>SOUTH VIETNAM</td>\n",
       "      <td>1973</td>\n",
       "      <td>95.425926</td>\n",
       "      <td>54</td>\n",
       "      <td>13.715959</td>\n",
       "      <td>107.502381</td>\n",
       "    </tr>\n",
       "    <tr>\n",
       "      <th>33</th>\n",
       "      <td>SOUTH VIETNAM</td>\n",
       "      <td>1975</td>\n",
       "      <td>1.000000</td>\n",
       "      <td>4</td>\n",
       "      <td>11.007222</td>\n",
       "      <td>106.834444</td>\n",
       "    </tr>\n",
       "  </tbody>\n",
       "</table>\n",
       "</div>"
      ],
      "text/plain": [
       "       TGTCOUNTRY  year  mean_weapons  num_bombings   mean_lat    mean_lon\n",
       "0        CAMBODIA  1967      5.500000            18  14.664901  106.965969\n",
       "1        CAMBODIA  1969      3.608696            23  14.452686  107.523425\n",
       "2        CAMBODIA  1970     19.907526          6099  12.656550  106.588893\n",
       "3        CAMBODIA  1971     84.664602          1130  13.221369  106.461660\n",
       "4        CAMBODIA  1972     80.004827          1243  12.587244  106.407726\n",
       "5        CAMBODIA  1973    106.332072          4758  11.898209  105.176818\n",
       "6            LAOS  1965     10.939850          1197  17.552708  105.521857\n",
       "7            LAOS  1966     11.938068         16825  16.618527  106.264797\n",
       "8            LAOS  1967     12.266561         29738  16.364346  106.365654\n",
       "9            LAOS  1968      9.391200        105046  17.052071  105.898343\n",
       "10           LAOS  1969     10.355326        167010  17.470780  105.498338\n",
       "11           LAOS  1970     11.221041        209273  17.145868  105.686660\n",
       "12           LAOS  1971     13.407160        107675  17.140651  105.549005\n",
       "13           LAOS  1972     18.685891         48531  17.093275  105.228933\n",
       "14           LAOS  1973     46.943280          4866  17.607340  104.471988\n",
       "15  NORTH VIETNAM  1965     12.527735          2596  20.248847  105.176626\n",
       "16  NORTH VIETNAM  1966      9.555418         24261  18.333420  106.140361\n",
       "17  NORTH VIETNAM  1967      9.060746         69420  18.516883  106.320436\n",
       "18  NORTH VIETNAM  1968      7.279752        108110  17.895921  106.223039\n",
       "19  NORTH VIETNAM  1969      2.847737           729  17.957101  106.128279\n",
       "20  NORTH VIETNAM  1970      7.349806          1801  17.063296  105.956814\n",
       "21  NORTH VIETNAM  1971     12.736385          3342  17.170001  106.070248\n",
       "22  NORTH VIETNAM  1972     14.750387         34281  18.364637  106.144553\n",
       "23  NORTH VIETNAM  1973     28.956159          1437  18.439947  105.850921\n",
       "24  SOUTH VIETNAM  1965     13.495670          9238  13.340375  107.601053\n",
       "25  SOUTH VIETNAM  1966     13.735665          4918  13.053547  107.553177\n",
       "26  SOUTH VIETNAM  1967      9.340637          1004  15.226087  107.357685\n",
       "27  SOUTH VIETNAM  1968     11.776774          3763  15.712929  107.287747\n",
       "28  SOUTH VIETNAM  1969     17.725795          1353  14.273498  107.630294\n",
       "29  SOUTH VIETNAM  1970      8.029434          2684  14.339186  107.127581\n",
       "30  SOUTH VIETNAM  1971      7.367625          7932  16.382974  106.494151\n",
       "31  SOUTH VIETNAM  1972      7.496674         23303  14.872121  106.908634\n",
       "32  SOUTH VIETNAM  1973     95.425926            54  13.715959  107.502381\n",
       "33  SOUTH VIETNAM  1975      1.000000             4  11.007222  106.834444"
      ]
     },
     "execution_count": 76,
     "metadata": {},
     "output_type": "execute_result"
    }
   ],
   "source": [
    "country_year_sub_df"
   ]
  },
  {
   "cell_type": "code",
   "execution_count": 77,
   "metadata": {},
   "outputs": [
    {
     "data": {
      "image/png": "[encoded data removed]",
      "text/plain": [
       "<Figure size 1100x900 with 2 Axes>"
      ]
     },
     "metadata": {},
     "output_type": "display_data"
    }
   ],
   "source": [
    "sns.set_theme(style=\"white\")\n",
    "corr_vars = ['mean_weapons', 'num_bombings', 'mean_lat', 'mean_lon']\n",
    "corr = country_year_sub_df[corr_vars].corr()  #Compute the correlation matrix\n",
    "# Generate a mask for the upper triangle\n",
    "mask = np.triu(np.ones_like(corr, dtype=bool)) \n",
    "f, ax = plt.subplots(figsize=(11, 9)) #initialize figure\n",
    "\n",
    "cmap = sns.diverging_palette(230, 20, as_cmap=True) #custom diverging colormap\n",
    "\n",
    "    # # Draw the heatmap with the mask and correct aspect ratio\n",
    "sns.heatmap(corr, mask=mask, cmap=cmap, vmax=.3, center=0,\n",
    "                square=True, linewidths=.5, cbar_kws={\"shrink\": .5})\n",
    "plt.show()"
   ]
  },
  {
   "cell_type": "code",
   "execution_count": null,
   "metadata": {},
   "outputs": [],
   "source": []
  },
  {
   "cell_type": "code",
   "execution_count": null,
   "metadata": {},
   "outputs": [],
   "source": []
  }
 ],
 "metadata": {
  "colab": {
   "provenance": [],
   "toc_visible": true
  },
  "kernelspec": {
   "display_name": "Python 3 (ipykernel)",
   "language": "python",
   "name": "python3"
  },
  "language_info": {
   "codemirror_mode": {
    "name": "ipython",
    "version": 3
   },
   "file_extension": ".py",
   "mimetype": "text/x-python",
   "name": "python",
   "nbconvert_exporter": "python",
   "pygments_lexer": "ipython3",
   "version": "3.11.5"
  },
  "widgets": {
   "application/vnd.jupyter.widget-state+json": {
    "0344bc5100d448268b5deac9247fdd40": {
     "model_module": "@jupyter-widgets/controls",
     "model_module_version": "1.5.0",
     "model_name": "HTMLModel",
     "state": {
      "_dom_classes": [],
      "_model_module": "@jupyter-widgets/controls",
      "_model_module_version": "1.5.0",
      "_model_name": "HTMLModel",
      "_view_count": null,
      "_view_module": "@jupyter-widgets/controls",
      "_view_module_version": "1.5.0",
      "_view_name": "HTMLView",
      "description": "",
      "description_tooltip": null,
      "layout": "IPY_MODEL_eeb54ee876a74600ac9c9c4913759a15",
      "placeholder": "​",
      "style": "IPY_MODEL_50ff1a791e8d478580ac46b6fcd8d863",
      "value": " 1007674/1007674 [00:01&lt;00:00, 649070.90it/s]"
     }
    },
    "040677eff3e54bd4b2c549b5a5e93fcf": {
     "model_module": "@jupyter-widgets/controls",
     "model_module_version": "1.5.0",
     "model_name": "ProgressStyleModel",
     "state": {
      "_model_module": "@jupyter-widgets/controls",
      "_model_module_version": "1.5.0",
      "_model_name": "ProgressStyleModel",
      "_view_count": null,
      "_view_module": "@jupyter-widgets/base",
      "_view_module_version": "1.2.0",
      "_view_name": "StyleView",
      "bar_color": null,
      "description_width": ""
     }
    },
    "16e8ab0448dd45bda44930b399b27d03": {
     "model_module": "@jupyter-widgets/controls",
     "model_module_version": "1.5.0",
     "model_name": "DescriptionStyleModel",
     "state": {
      "_model_module": "@jupyter-widgets/controls",
      "_model_module_version": "1.5.0",
      "_model_name": "DescriptionStyleModel",
      "_view_count": null,
      "_view_module": "@jupyter-widgets/base",
      "_view_module_version": "1.2.0",
      "_view_name": "StyleView",
      "description_width": ""
     }
    },
    "50ff1a791e8d478580ac46b6fcd8d863": {
     "model_module": "@jupyter-widgets/controls",
     "model_module_version": "1.5.0",
     "model_name": "DescriptionStyleModel",
     "state": {
      "_model_module": "@jupyter-widgets/controls",
      "_model_module_version": "1.5.0",
      "_model_name": "DescriptionStyleModel",
      "_view_count": null,
      "_view_module": "@jupyter-widgets/base",
      "_view_module_version": "1.2.0",
      "_view_name": "StyleView",
      "description_width": ""
     }
    },
    "6cf09f5b34f44801bd5424153c1754a7": {
     "model_module": "@jupyter-widgets/controls",
     "model_module_version": "1.5.0",
     "model_name": "HBoxModel",
     "state": {
      "_dom_classes": [],
      "_model_module": "@jupyter-widgets/controls",
      "_model_module_version": "1.5.0",
      "_model_name": "HBoxModel",
      "_view_count": null,
      "_view_module": "@jupyter-widgets/controls",
      "_view_module_version": "1.5.0",
      "_view_name": "HBoxView",
      "box_style": "",
      "children": [
       "IPY_MODEL_8416f3f8a3bf417fa425c705010889d9",
       "IPY_MODEL_edc09478f110419c811c8e5519c8914a",
       "IPY_MODEL_0344bc5100d448268b5deac9247fdd40"
      ],
      "layout": "IPY_MODEL_9e00e0a4b7c743cc921f1aa0a1ea377c"
     }
    },
    "8416f3f8a3bf417fa425c705010889d9": {
     "model_module": "@jupyter-widgets/controls",
     "model_module_version": "1.5.0",
     "model_name": "HTMLModel",
     "state": {
      "_dom_classes": [],
      "_model_module": "@jupyter-widgets/controls",
      "_model_module_version": "1.5.0",
      "_model_name": "HTMLModel",
      "_view_count": null,
      "_view_module": "@jupyter-widgets/controls",
      "_view_module_version": "1.5.0",
      "_view_name": "HTMLView",
      "description": "",
      "description_tooltip": null,
      "layout": "IPY_MODEL_e7b5f86a1d194967b98795fd0a3cd32a",
      "placeholder": "​",
      "style": "IPY_MODEL_16e8ab0448dd45bda44930b399b27d03",
      "value": "100%"
     }
    },
    "9e00e0a4b7c743cc921f1aa0a1ea377c": {
     "model_module": "@jupyter-widgets/base",
     "model_module_version": "1.2.0",
     "model_name": "LayoutModel",
     "state": {
      "_model_module": "@jupyter-widgets/base",
      "_model_module_version": "1.2.0",
      "_model_name": "LayoutModel",
      "_view_count": null,
      "_view_module": "@jupyter-widgets/base",
      "_view_module_version": "1.2.0",
      "_view_name": "LayoutView",
      "align_content": null,
      "align_items": null,
      "align_self": null,
      "border": null,
      "bottom": null,
      "display": null,
      "flex": null,
      "flex_flow": null,
      "grid_area": null,
      "grid_auto_columns": null,
      "grid_auto_flow": null,
      "grid_auto_rows": null,
      "grid_column": null,
      "grid_gap": null,
      "grid_row": null,
      "grid_template_areas": null,
      "grid_template_columns": null,
      "grid_template_rows": null,
      "height": null,
      "justify_content": null,
      "justify_items": null,
      "left": null,
      "margin": null,
      "max_height": null,
      "max_width": null,
      "min_height": null,
      "min_width": null,
      "object_fit": null,
      "object_position": null,
      "order": null,
      "overflow": null,
      "overflow_x": null,
      "overflow_y": null,
      "padding": null,
      "right": null,
      "top": null,
      "visibility": null,
      "width": null
     }
    },
    "bed585cb91ba43efb51da8eb398965ff": {
     "model_module": "@jupyter-widgets/base",
     "model_module_version": "1.2.0",
     "model_name": "LayoutModel",
     "state": {
      "_model_module": "@jupyter-widgets/base",
      "_model_module_version": "1.2.0",
      "_model_name": "LayoutModel",
      "_view_count": null,
      "_view_module": "@jupyter-widgets/base",
      "_view_module_version": "1.2.0",
      "_view_name": "LayoutView",
      "align_content": null,
      "align_items": null,
      "align_self": null,
      "border": null,
      "bottom": null,
      "display": null,
      "flex": null,
      "flex_flow": null,
      "grid_area": null,
      "grid_auto_columns": null,
      "grid_auto_flow": null,
      "grid_auto_rows": null,
      "grid_column": null,
      "grid_gap": null,
      "grid_row": null,
      "grid_template_areas": null,
      "grid_template_columns": null,
      "grid_template_rows": null,
      "height": null,
      "justify_content": null,
      "justify_items": null,
      "left": null,
      "margin": null,
      "max_height": null,
      "max_width": null,
      "min_height": null,
      "min_width": null,
      "object_fit": null,
      "object_position": null,
      "order": null,
      "overflow": null,
      "overflow_x": null,
      "overflow_y": null,
      "padding": null,
      "right": null,
      "top": null,
      "visibility": null,
      "width": null
     }
    },
    "e7b5f86a1d194967b98795fd0a3cd32a": {
     "model_module": "@jupyter-widgets/base",
     "model_module_version": "1.2.0",
     "model_name": "LayoutModel",
     "state": {
      "_model_module": "@jupyter-widgets/base",
      "_model_module_version": "1.2.0",
      "_model_name": "LayoutModel",
      "_view_count": null,
      "_view_module": "@jupyter-widgets/base",
      "_view_module_version": "1.2.0",
      "_view_name": "LayoutView",
      "align_content": null,
      "align_items": null,
      "align_self": null,
      "border": null,
      "bottom": null,
      "display": null,
      "flex": null,
      "flex_flow": null,
      "grid_area": null,
      "grid_auto_columns": null,
      "grid_auto_flow": null,
      "grid_auto_rows": null,
      "grid_column": null,
      "grid_gap": null,
      "grid_row": null,
      "grid_template_areas": null,
      "grid_template_columns": null,
      "grid_template_rows": null,
      "height": null,
      "justify_content": null,
      "justify_items": null,
      "left": null,
      "margin": null,
      "max_height": null,
      "max_width": null,
      "min_height": null,
      "min_width": null,
      "object_fit": null,
      "object_position": null,
      "order": null,
      "overflow": null,
      "overflow_x": null,
      "overflow_y": null,
      "padding": null,
      "right": null,
      "top": null,
      "visibility": null,
      "width": null
     }
    },
    "edc09478f110419c811c8e5519c8914a": {
     "model_module": "@jupyter-widgets/controls",
     "model_module_version": "1.5.0",
     "model_name": "FloatProgressModel",
     "state": {
      "_dom_classes": [],
      "_model_module": "@jupyter-widgets/controls",
      "_model_module_version": "1.5.0",
      "_model_name": "FloatProgressModel",
      "_view_count": null,
      "_view_module": "@jupyter-widgets/controls",
      "_view_module_version": "1.5.0",
      "_view_name": "ProgressView",
      "bar_style": "success",
      "description": "",
      "description_tooltip": null,
      "layout": "IPY_MODEL_bed585cb91ba43efb51da8eb398965ff",
      "max": 1007674,
      "min": 0,
      "orientation": "horizontal",
      "style": "IPY_MODEL_040677eff3e54bd4b2c549b5a5e93fcf",
      "value": 1007674
     }
    },
    "eeb54ee876a74600ac9c9c4913759a15": {
     "model_module": "@jupyter-widgets/base",
     "model_module_version": "1.2.0",
     "model_name": "LayoutModel",
     "state": {
      "_model_module": "@jupyter-widgets/base",
      "_model_module_version": "1.2.0",
      "_model_name": "LayoutModel",
      "_view_count": null,
      "_view_module": "@jupyter-widgets/base",
      "_view_module_version": "1.2.0",
      "_view_name": "LayoutView",
      "align_content": null,
      "align_items": null,
      "align_self": null,
      "border": null,
      "bottom": null,
      "display": null,
      "flex": null,
      "flex_flow": null,
      "grid_area": null,
      "grid_auto_columns": null,
      "grid_auto_flow": null,
      "grid_auto_rows": null,
      "grid_column": null,
      "grid_gap": null,
      "grid_row": null,
      "grid_template_areas": null,
      "grid_template_columns": null,
      "grid_template_rows": null,
      "height": null,
      "justify_content": null,
      "justify_items": null,
      "left": null,
      "margin": null,
      "max_height": null,
      "max_width": null,
      "min_height": null,
      "min_width": null,
      "object_fit": null,
      "object_position": null,
      "order": null,
      "overflow": null,
      "overflow_x": null,
      "overflow_y": null,
      "padding": null,
      "right": null,
      "top": null,
      "visibility": null,
      "width": null
     }
    }
   }
  }
 },
 "nbformat": 4,
 "nbformat_minor": 0
}
